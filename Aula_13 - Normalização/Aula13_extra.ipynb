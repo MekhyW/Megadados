{
 "cells": [
  {
   "cell_type": "markdown",
   "id": "f62ded59",
   "metadata": {},
   "source": [
    "# Notebook Extra\n",
    "\n",
    "## Dependências Funcionais e Normalização"
   ]
  },
  {
   "cell_type": "markdown",
   "id": "8a630554",
   "metadata": {},
   "source": [
    "Na primeira parte do curso, vimos como podemos utilizar o modelo relacional, o modelo entidade-relacionamento e DDL (*Data Definition Language*) para especificar uma base de dados, desde a modelagem até sua implementação.\n",
    "\n",
    "Nos exercícios propostos, percebemos que existem diversas maneiras diferentes de modelar uma base de dados. Será que existem maneiras de avaliarmos qual a melhor solução? Ou ainda, existem padrões a serem seguidos, de forma a facilitar a produção de modelos mais adequados? Nesta aula, pretendemos responder estas perguntas."
   ]
  },
  {
   "cell_type": "markdown",
   "id": "0f5c70c3",
   "metadata": {},
   "source": [
    "## Dependências Funcionais\n",
    "\n",
    "As **dependências funcionais** são um conceito fundamental em bancos de dados relacionais. Elas descrevem a **relação entre as colunas** de **uma tabela**, especificando quais colunas são **determinadas** por outras colunas.\n",
    "\n",
    "Compreender as dependências funcionais é importante porque permite que os desenvolvedores de banco de dados projetem esquemas **eficientes** e **confiáveis**, garantindo a **integridade** dos dados armazenados em uma tabela. Quando as dependências funcionais são bem definidas, é possível evitar a **redundância** de dados ou **inconsistências** e garantir que as atualizações feitas em uma coluna sejam propagadas corretamente para todas as outras colunas dependentes.\n",
    "\n",
    "Além disso, uma compreensão adequada deste tópico irá fornecer base para o entendimento de **normalização**, tópico principal desta aula.\n",
    "\n",
    "### Definição Formal\n",
    "\n",
    "Dependências funcionais são relacionamentos do tipo muitos para um. Para dois conjuntos de atributos $𝑋$ e $𝑌$ de uma relação, dizemos que **$𝑌$ é funcionalmente dependente de $𝑋$** ou que **$𝑋$ determina funcionalmente $𝑌$** (e denotamos $𝑋→𝑌$) se, e somente se, qualquer tupla em $𝑋$ tem precisamente uma tupla equivalente em $𝑌$.\n",
    "\n",
    "Ou seja:\n",
    "\n",
    "$𝑋→𝑌⇔$ duas linhas da tabela que concordam em $𝑋$ deverão concordar em $𝑌$."
   ]
  },
  {
   "cell_type": "markdown",
   "id": "f0708f9c",
   "metadata": {},
   "source": [
    "### Exemplo\n",
    "\n",
    "Seja o *schema*:\n",
    "\n",
    "`FilmesAtores(id_filme, filme, estúdio, data, id_ator, ator, salario)`\n",
    "\n",
    "Considere que um mesmo estúdio jamais lança filmes com o mesmo título na mesma data.\n",
    "\n",
    "Use as abreviações a seguir:\n",
    "\n",
    "| Atributo | Abreviação |\n",
    "|----------|:----------:|\n",
    "| id_filme |     #F     |\n",
    "| filme    |      F     |\n",
    "| estúdio  |      E     |\n",
    "| data     |      D     |\n",
    "| id_ator  |     #A     |\n",
    "| ator     |      A     |\n",
    "| salário  |      S     |"
   ]
  },
  {
   "cell_type": "markdown",
   "id": "799cb9ab",
   "metadata": {},
   "source": [
    "As dependências funcionais mais importantes neste problema são:\n",
    "- $\\{\\#𝐹\\} → \\{𝐹, 𝐸, 𝐷\\}$\n",
    "- $\\{\\#𝐴\\} → \\{𝐴\\}$\n",
    "- $\\{\\#𝐹, \\#𝐴\\} → \\{𝑆\\}$\n",
    "- $\\{𝐹,𝐸,𝐷\\}→\\{\\#𝐹\\}$"
   ]
  },
  {
   "cell_type": "markdown",
   "id": "67ab25cd",
   "metadata": {},
   "source": [
    "Porém existem várias outras dependências funcionais que podem ser **derivadas** destas através da aplicação de algumas regras:\n",
    "\n",
    "1. **Reflexão:** $𝐵⊂𝐴⇒𝐴→𝐵$\n",
    "\n",
    "1. **Aumento:** $𝐴→𝐵⇒𝐴𝐶→𝐵𝐶$\n",
    "\n",
    "1. **Transitividade:** $(𝐴→𝐵) ∧ (𝐵→𝐶) ⇒𝐴→𝐶$\n",
    "\n",
    "Algumas dependências funcionais resultantes da aplicação destas regras:\n",
    "\n",
    "1. **Reflexão:** $\\{F\\}⊂\\{F, S, D\\}⇒\\{F, S, D\\}→\\{F\\}$\n",
    "\n",
    "1. **Aumento:** $\\{\\#F\\}→\\{F\\}⇒\\{\\#F, A\\}→\\{F, A\\}$\n",
    "\n",
    "1. **Transitividade:** Considere que $I$ representa as iniciais do ator. Então $(\\{\\#A\\}→\\{A\\}) ∧ (\\{A\\}→\\{I\\}) ⇒ \\{\\#A\\}→\\{I\\}$"
   ]
  },
  {
   "cell_type": "markdown",
   "id": "9538cb07",
   "metadata": {},
   "source": [
    "### Fecho de um conjunto de atributos\n",
    "\n",
    "Para uma relação $𝑟$, um conjunto $𝑆$ de dependências funcionais e um conjunto $𝑍$ de atributos, o **fecho** $𝑍^+$  de $𝑍$ é o conjunto **todos os atributos** da relação $𝑟$ que são **funcionalmente dependentes** de $𝑍$. Para obter $𝑍^+$ podemos aplicar o seguinte algoritmo:\n",
    "\n",
    "1. algoritmo FECHO ($𝑍$, $𝑆$):\n",
    "    1. $𝑍^+$ = $𝑍$ (por reflexão)\n",
    "    1. mudou = Verdadeiro\n",
    "    1. enquanto mudou:\n",
    "        1. mudou = Falso\n",
    "        1. para $𝑋→𝑌$ em 𝑆:\n",
    "            1. se  $(𝑋⊂𝑍^+) ∧ (𝑌⊄𝑍^+ )$:\n",
    "                1. $𝑍^+  = 𝑍^+  ∪ 𝑌$  (por transitividade) \n",
    "                1. mudou=Verdadeiro\n",
    "    1. retorna  $𝑍^+$\n"
   ]
  },
  {
   "cell_type": "markdown",
   "id": "8d3cd18d",
   "metadata": {},
   "source": [
    "Como exemplo, o fecho de $Z = \\{\\#F\\}$ com as regras $S = \\{ \\{\\#F\\}→\\{F\\}, \\{\\#F\\}→\\{E\\}, \\{\\#F\\}→\\{D\\}, \\{\\#A\\}→\\{A\\}, \\{\\#F\\#A\\}→\\{S\\}, \\{F, E, D\\}→\\{\\#F\\} \\}$\n",
    "\n",
    "será\n",
    "\n",
    "$Z^+ = \\{\\#F, F, E, D\\}$"
   ]
  },
  {
   "cell_type": "markdown",
   "id": "866f2eb2",
   "metadata": {},
   "source": [
    "### Chaves\n",
    "\n",
    "Vimos nas aulas anteriores a importância de garantir a identificação exclusiva dos elementos de uma tabela. Nas dependências funcionais, vamos expandir nossa definição de chave com:\n",
    "\n",
    "**Superchave:** um conjunto de atributos $𝐾$ é uma superchave da relação se $𝐾^+$  é o conjunto completo de atributos desta relação. Em outras palavras, superchave é um conjunto de um ou mais atributos que podem identificar **exclusivamente** cada linha em uma tabela de banco de dados. \n",
    "\n",
    "**Chave candidata:** uma superchave irredutível, que não contém subconjuntos menores que também são superchaves. Ou seja, nenhum atributo pode ser removido da superchave sem que seu status de superchave seja cancelado.\n",
    "\n",
    "**Chave primária:** a chave candidata escolhida como identificador da relação por quem está desenhando o banco de dados.\n"
   ]
  },
  {
   "cell_type": "markdown",
   "id": "3d8b4829",
   "metadata": {},
   "source": [
    "## Formas Normais\n",
    "\n",
    "Inventadas por Edgar F. Codd, criador do modelo relacional, em 1970. São regras para ajudar a diminuir **redundância** e aumentar **integridade** no projeto de um banco de dados.\n",
    "\n",
    "Chamamos de **normalização** o processo de rearranjar o banco de dados para que obedeça às várias formas normais. O processo contrário, de regredir o projeto do banco de dados para formas normais menores, chama-se **denormalização**."
   ]
  },
  {
   "cell_type": "markdown",
   "id": "2d57bdc4",
   "metadata": {},
   "source": [
    "#### `1NF`: Primeira forma normal (first normal form)\n",
    "\n",
    "Uma entidade está na primeira forma normal quando cada tupla tem apenas um valor por atributo. Ou seja, cada célula da tabela é simples e possui apenas um valor.\n",
    "\n",
    "Considere o seguinte exemplo:\n",
    "\n",
    "| id_usuário (PK) | nome    | id_endereço | endereço                                   | telefone           |\n",
    "|-----------------|---------|-------------|--------------------------------------------|--------------------|\n",
    "| 1               | Juca    | 100         | Rua Quatá, 152, São Paulo/SP               | 111-1111, 333-3333 |\n",
    "| 2               | Maria   | 200         | Rua Casa do Ator, 537, Ap 42, São Paulo/SP | 222-2222           |\n",
    "| 3               | Roberto | 300         | Av. Bias Fortes 382, Belo Horizonte/MG     | 444-4444           |\n",
    "\n",
    "**Pergunta**: Em quais colunas temos múltiplos valores por célula?"
   ]
  },
  {
   "cell_type": "markdown",
   "id": "ee4420dc",
   "metadata": {},
   "source": [
    "<div class=\"alert alert-success\">\n",
    "\n",
    "Sua resposta AQUI!\n",
    "\n",
    "</div>"
   ]
  },
  {
   "cell_type": "markdown",
   "id": "f4383938",
   "metadata": {},
   "source": [
    "<a href=\"#\" title=\"Temos múltiplos valores por célula tanto em endereço (struct) quanto em telefone (array)!\">Pare o  mouse aqui para ver a resposta</a>"
   ]
  },
  {
   "cell_type": "markdown",
   "id": "68955104",
   "metadata": {},
   "source": [
    "Ao analisar a tabela, podemos perceber que ela não está na **1NF**. Como solução, podemos:\n",
    "- Criar novas colunas separando endereço, cidade, estado, etc.\n",
    "- Separar os múltiplos telefones em linhas (tuplas) diferentes\n",
    "\n",
    "**SOLUÇÃO:**\n",
    "| id_usuário (PK) | nome    | id_endereço | logradouro            | número | cidade         | estado | telefone |\n",
    "|-----------------|---------|-------------|-----------------------|--------|----------------|--------|----------|\n",
    "| 1               | Juca    | 100         | Rua Quatá             | 152    | São Paulo      | SP     | 111-1111 |\n",
    "| 1               | Juca    | 100         | Rua Quatá             | 152    | São Paulo      | SP     | 333-3333 |\n",
    "| 2               | Maria   | 200         | Rua Casa do Ator      | 537    | São Paulo      | SP     | 222-2222 |\n",
    "| 3               | Roberto | 300         | Av. Bias Fortes       | 382    | Belo Horizonte | MG     | 444-4444 |"
   ]
  },
  {
   "cell_type": "markdown",
   "id": "97b6e1ad",
   "metadata": {},
   "source": [
    "Perceba que introduzimos uma situação de redundância de dados para conseguir atender à **1NF**. Isto poderá gerar algumas **anomalias**:\n",
    "\n",
    "- **Atualização (update)**: quando a atualização da tabela pode gerar inconsistências em função da redundância de informação.\n",
    "\n",
    "- **Inserção (insert)**: quando a inserção de dados não pode ser realizada sempre, pelo risco de deixar a base inconsistente.\n",
    "\n",
    "- **Remoção (delete)**: quando a remoção de linhas da tabela acaba removendo informação totalmente não-relacionada.\n"
   ]
  },
  {
   "cell_type": "markdown",
   "id": "e9bee82e",
   "metadata": {},
   "source": [
    "Como exemplo de anomalia de atualização, considere uma alteração no endereço do Juca:\n",
    "\n",
    "| id_usuário (PK) | nome    | id_endereço | logradouro            | número | cidade         | estado | telefone |\n",
    "|-----------------|---------|-------------|-----------------------|--------|----------------|--------|----------|\n",
    "| 1               | Juca    | 100         | Rua Quatá             | 152    | São Paulo      | SP     | 111-1111 |\n",
    "| 1               | Juca    | 100         | Rua Quatá             | **<span style=\"color:blue\">1000</span>**   | São Paulo      | SP     | 333-3333 |\n",
    "| 2               | Maria   | 200         | Rua Casa do Ator      | 537    | São Paulo      | SP     | 222-2222 |\n",
    "| 3               | Roberto | 300         | Av. Bias Fortes       | 382    | Belo Horizonte | MG     | 444-4444 |\n",
    "\n",
    "Uma vez que não foram atualizadas todas as linhas com o endereço de Juca, ficou complicado dizer onde ele mora (número 152 *ou* 1000?!)."
   ]
  },
  {
   "cell_type": "markdown",
   "id": "e5c02a29",
   "metadata": {},
   "source": [
    "Como exemplo de anomalia de inserção, pense se é possível inserir uma cidade sem ninguém residindo na mesma?!\n",
    "\n",
    "| id_usuário (PK) | nome    | id_endereço | logradouro            | número | cidade         | estado | telefone |\n",
    "|-----------------|---------|-------------|-----------------------|--------|----------------|--------|----------|\n",
    "| 1               | Juca    | 100         | Rua Quatá             | 152    | São Paulo      | SP     | 111-1111 |\n",
    "| 1               | Juca    | 100         | Rua Quatá             | 152    | São Paulo      | SP     | 333-3333 |\n",
    "| 2               | Maria   | 200         | Rua Casa do Ator      | 537    | São Paulo      | SP     | 222-2222 |\n",
    "| 3               | Roberto | 300         | Av. Bias Fortes       | 382    | Belo Horizonte | MG     | 444-4444 |\n",
    "| **<span style=\"color:red\">???</span>** | **<span style=\"color:red\">???</span>** | **<span style=\"color:red\">???</span>** | **<span style=\"color:red\">???</span>** | **<span style=\"color:red\">???</span>** | **<span style=\"color:blue\">Rio Branco</span>** | **<span style=\"color:blue\">AC</span>** | **<span style=\"color:red\">???</span>** |"
   ]
  },
  {
   "cell_type": "markdown",
   "id": "6038dac9",
   "metadata": {},
   "source": [
    "Já para a anomalia de remoção, podemos pensar em como seria possível manter a cidade de Belo Horizonte na base quando o usuário Roberto for removido, pois ao remover Roberto a cidade desaparece da base!\n",
    "\n",
    "| id_usuário (PK) | nome    | id_endereço | logradouro            | número | cidade         | estado | telefone |\n",
    "|-----------------|---------|-------------|-----------------------|--------|----------------|--------|----------|\n",
    "| 1               | Juca    | 100         | Rua Quatá             | 152    | São Paulo      | SP     | 111-1111 |\n",
    "| 1               | Juca    | 100         | Rua Quatá             | 1000   | São Paulo      | SP     | 333-3333 |\n",
    "| 2               | Maria   | 200         | Rua Casa do Ator      | 537    | São Paulo      | SP     | 222-2222 |\n",
    "| ~~3~~               | ~~Roberto~~ | ~~300~~         | ~~Av. Bias Fortes~~       | ~~382~~    | ~~**<span style=\"color:red\">Belo Horizonte</span>**~~ | ~~**<span style=\"color:red\">MG</span>**~~     | ~~444-4444~~ |"
   ]
  },
  {
   "cell_type": "markdown",
   "id": "e3fd2a1d-2b5f-4b90-9fd7-b92f9ef1727a",
   "metadata": {},
   "source": [
    "$\\{\\text{id\\_pessoa}, \\text{id\\_projeto}\\} \\rightarrow \\{\\text{doação}\\}$"
   ]
  },
  {
   "cell_type": "markdown",
   "id": "cf8e7370",
   "metadata": {},
   "source": [
    "#### `2NF`: Segunda forma normal\n",
    "\n",
    "Uma entidade está na segunda forma normal quando obedece à **1NF** e todos os seus atributos não-chave dependem funcionalmente da chave primária inteira.\n",
    "\n",
    "Considere o seguinte exemplo que modela uma base de projetos e doadores.\n",
    "\n",
    "| id_pessoa (PK) | id_projeto (PK) | nome_pessoa        | nome_projeto  | doação        |\n",
    "|----------------|-----------------|--------------------|---------------|---------------|\n",
    "| 1              | 33              | Mario              | Jacaré        | 150           |\n",
    "| 1              | 44              | Mario              | Sabiá         | 240           |\n",
    "| 3              | 33              | Ana                | Jacaré        | 350           |\n",
    "\n",
    "Perceba que a **chave primária** é composta por (`id_pessoa`, `id_projeto`). Entretanto, ao analisar a tabela, vimos que o nome da pessoa depende unicamente de `id_pessoa` e que o `nome_projeto` depende unicamente do `id_projeto`.\n",
    "\n",
    "A tabela está na **1NF**? **R: Sim!** Não temos arrays, tudo atômico!\n",
    "\n",
    "A tabela está na **2NF**? **R: Não!** Pelas dependências funcionais, vemos que $\\{\\text{id\\_pessoa}, \\text{id\\_projeto}\\} \\rightarrow \\{\\text{doação}\\}$, o que está ok! Entretanto, a dependência funcional $\\{\\text{id\\_pessoa}\\} → \\{\\text{nome\\_pessoa}\\}$ é um exemplo de dependência funcional que quebra os requisitos da **2NF**.\n",
    "\n",
    "Para solucionar o problema, fazendo com que a base de dados obedeça à **2NF**, iremos separar a base em três tabelas diferentes:\n",
    "\n",
    "**Pessoa**:\n",
    "| id_pessoa (PK) | nome_pessoa |\n",
    "|----------------|-------------|\n",
    "| 1              | Mario       |\n",
    "| 3              | Ana         |\n",
    "\n",
    "**Projeto**:\n",
    "| id_projeto (PK) | nome_projeto |\n",
    "|-----------------|--------------|\n",
    "| 33              | Jacaré       |\n",
    "| 44              | Sabiá        |\n",
    "\n",
    "**doacao**:\n",
    "| id_pessoa (PK) | id_projeto (PK) | doação |\n",
    "|----------------|-----------------|--------|\n",
    "| 1              | 33              | 150    |\n",
    "| 1              | 44              | 240    |\n",
    "| 3              | 33              | 350    |\n",
    "\n",
    "**Dicas**:\n",
    "- Para estar na **2NF**, no mínimo precisa estar também na **1NF**\n",
    "- Se está na **1NF** e tem chave primária simples (uma coluna), então já está na **2NF**\n",
    "- Se está na **1NF** e tem chave primária composta:\n",
    "    - Todas as colunas que não são chave primária dependem da chave primária **por inteiro**?\n",
    "        - Se sim, está na **2NF**\n",
    "        - Se não, não está na **2NF**"
   ]
  },
  {
   "cell_type": "markdown",
   "id": "5eb13852",
   "metadata": {},
   "source": [
    "#### `3NF`: Terceira forma normal\n",
    "\n",
    "Uma tabela está na **3FN** quando estiver na **2FN** e se todos os atributos que não pertencem à chave primária não dependerem funcionalmente de outro atributo que não a chave (não existem **dependências transitivas** para a chave primária).\n",
    "\n",
    "Considere a base de dados:\n",
    "\n",
    "| id_usuário (PK) | nome    | id_endereço | endereço              | cidade         | estado |\n",
    "|-----------------|---------|-------------|-----------------------|----------------|--------|\n",
    "| 1               | Juca    | 100         | Rua Quatá, 300        | São Paulo      | SP     |\n",
    "| 2               | Maria   | 200         | Rua Casa do Ator, 537 | São Paulo      | SP     |\n",
    "| 3               | Roberto | 300         | Av. Bias Fortes 382   | Belo Horizonte | MG     |\n",
    "\n",
    "A tabela está na **1NF**? **R: Sim!**\n",
    "\n",
    "A tabela está na **2NF**? **R: Sim!**\n",
    "\n",
    "A tabela está na **3NF**? **R: Não!**\n",
    "\n",
    "Pelas dependências funcionais, percebemos que $\\{\\text{id\\_usuário}\\} → \\{\\text{id\\_endereço}\\}$ e que $\\{\\text{id\\_endereço}\\} \\rightarrow \\{\\text{endereço}\\}$. Logo, temos uma dependência transitiva.\n",
    "\n",
    "Os atributos de `endereço`, `cidade` e `estado` pertencem ao **endereço** e não diretamente ao **usuário**.\n",
    "\n",
    "Para solucionar, iremos novamente separar em tabelas diferentes:\n",
    "\n",
    "**usuário**:\n",
    "| id_usuário (PK) | nome    | id_endereço (FK) |\n",
    "|-----------------|---------|------------------|\n",
    "| 1               | Juca    | 100              |\n",
    "| 2               | Maria   | 200              |\n",
    "| 3               | Roberto | 300              |\n",
    "\n",
    "**endereço**:\n",
    "| id_endereço (PK) | endereço              | cidade         | estado |\n",
    "|------------------|-----------------------|----------------|--------|\n",
    "| 100              | Rua Quatá, 300        | São Paulo      | SP     |\n",
    "| 200              | Rua Casa do Ator, 537 | São Paulo      | SP     |\n",
    "| 300              | Av. Bias Fortes 382   | Belo Horizonte | MG     |"
   ]
  },
  {
   "cell_type": "markdown",
   "id": "664f6fa8",
   "metadata": {},
   "source": [
    "Ainda, podemos separar as cidades, deixando a base com três tabelas:\n",
    "\n",
    "**usuário**:\n",
    "| id_usuário (PK) | nome    | id_endereço (FK) |\n",
    "|-----------------|---------|------------------|\n",
    "| 1               | Juca    | 100              |\n",
    "| 2               | Maria   | 200              |\n",
    "| 3               | Roberto | 300              |\n",
    "\n",
    "**endereço**:\n",
    "| id_endereço (PK) | endereço              | id_cidade (FK) |\n",
    "|------------------|-----------------------|----------------|\n",
    "| 100              | Rua Quatá, 300        | 55             |\n",
    "| 200              | Rua Casa do Ator, 537 | 55             |\n",
    "| 300              | Av. Bias Fortes 382   | 66             |\n",
    "\n",
    "**cidade**:\n",
    "| id_cidade (PK) | cidade              | estado |\n",
    "|----------------|---------------------|--------|\n",
    "| 55             | São Paulo           | SP     |\n",
    "| 66             | Belo Horizonte      | MG     |\n",
    "| 300            | Av. Bias Fortes 382 | 66     |"
   ]
  },
  {
   "cell_type": "markdown",
   "id": "eb4afb02",
   "metadata": {},
   "source": [
    "Resumindo:\n",
    "- Na **1NF** garantimos um valor por célula\n",
    "- Na **2NF** removemos dependências parciais de chave\n",
    "- Na **3NF** removemos dependências transitivas\n",
    "\n",
    "No design de bancos de dados, geralmente é buscado obedecer até a 3NF, entretanto, existem outras formas normais que tratam casos particulares!"
   ]
  },
  {
   "cell_type": "markdown",
   "id": "cafe05ad",
   "metadata": {},
   "source": [
    "## Exercícios"
   ]
  },
  {
   "cell_type": "markdown",
   "id": "162c003a",
   "metadata": {},
   "source": [
    "**Exercício 1**: Suponha que tenhamos uma relação $𝑅(𝐴, 𝐵, 𝐶, 𝐷, 𝐸, 𝐹)$ e as seguintes dependências funcionais:\n",
    "\n",
    "$𝑆= {𝐴→𝐵𝐶, 𝐸→𝐶𝐹, 𝐵→𝐸, 𝐶𝐷→𝐸𝐹}$\n",
    "\n",
    "(abreviamos $𝐴$ no lugar de $\\{𝐴\\}$, $𝐵𝐶$ no lugar de $\\{𝐵, 𝐶\\}$, etc.)\n",
    "\n",
    "\n",
    "Calcule o fecho $𝑍^+$  de $𝑍={𝐴, 𝐵}$"
   ]
  },
  {
   "cell_type": "markdown",
   "id": "9c61cbca",
   "metadata": {},
   "source": [
    "<a href=\"#gab_ex1\">Click para ver a resposta</a>"
   ]
  },
  {
   "cell_type": "markdown",
   "id": "e344b208",
   "metadata": {},
   "source": [
    "**Exercício 2**: Considere o schema do início da aula:\n",
    "\n",
    "`FilmesAtores(id_filme, filme, estúdio, data, id_ator, ator, salario)`\n",
    "\n",
    "Normalize esse schema até a 3NF."
   ]
  },
  {
   "cell_type": "markdown",
   "id": "a6cc2d95",
   "metadata": {},
   "source": [
    "<div class=\"alert alert-success\">\n",
    "\n",
    "Sua resposta AQUI! Crie múltiplas células, conforme necessário!\n",
    "\n",
    "</div>"
   ]
  },
  {
   "cell_type": "markdown",
   "id": "f170b11b",
   "metadata": {},
   "source": [
    "<a href=\"#gab_ex2\">Click para ver a resposta</a>"
   ]
  },
  {
   "cell_type": "markdown",
   "id": "f7997968",
   "metadata": {},
   "source": [
    "**Exercício 3**: Crie exemplos de relação, para cada caso, explicitando as dependências funcionais:\n",
    "\n",
    "**a)** Não é 1NF."
   ]
  },
  {
   "cell_type": "markdown",
   "id": "ab9909e8",
   "metadata": {},
   "source": [
    "<div class=\"alert alert-success\">\n",
    "\n",
    "Sua resposta AQUI! Crie múltiplas células, conforme necessário!\n",
    "\n",
    "</div>"
   ]
  },
  {
   "cell_type": "markdown",
   "id": "2b163ab6",
   "metadata": {},
   "source": [
    "**b)** 1NF mas não 2NF."
   ]
  },
  {
   "cell_type": "markdown",
   "id": "5d4c7798",
   "metadata": {},
   "source": [
    "<div class=\"alert alert-success\">\n",
    "\n",
    "Sua resposta AQUI! Crie múltiplas células, conforme necessário!\n",
    "\n",
    "</div>"
   ]
  },
  {
   "cell_type": "markdown",
   "id": "9b36f5ac",
   "metadata": {},
   "source": [
    "**c)** 2NF mas não 3NF."
   ]
  },
  {
   "cell_type": "markdown",
   "id": "709dcb03",
   "metadata": {},
   "source": [
    "<div class=\"alert alert-success\">\n",
    "\n",
    "Sua resposta AQUI! Crie múltiplas células, conforme necessário!\n",
    "\n",
    "</div>"
   ]
  },
  {
   "cell_type": "markdown",
   "id": "25c759b8",
   "metadata": {},
   "source": [
    "**d)** 3NF"
   ]
  },
  {
   "cell_type": "markdown",
   "id": "34655e03",
   "metadata": {},
   "source": [
    "<div class=\"alert alert-success\">\n",
    "\n",
    "Sua resposta AQUI! Crie múltiplas células, conforme necessário!\n",
    "\n",
    "</div>"
   ]
  },
  {
   "cell_type": "markdown",
   "id": "7a4ba759",
   "metadata": {},
   "source": [
    "<a href=\"#gab_ex3\">Click para ver a resposta</a>"
   ]
  },
  {
   "cell_type": "markdown",
   "id": "1a2cdd0c",
   "metadata": {},
   "source": [
    "**Exercício 4**: Considere os dados:\n",
    "\n",
    "| id_tecnico | nome             | cidade_onde_atende | bairros_onde_atende                | whatsapp                                    |\n",
    "|------------|------------------|--------------------|------------------------------------|---------------------------------------------|\n",
    "| 1          | Ana Chavier      | São Paulo, SP      | Centro, Butanta                    | 11 99989-1010, 11 99918-1312                |\n",
    "| 1          | Ana Chavier      | Campinas, SP       | Bosque, Guanabara, Vila Industrial | 11 99989-1010, 11 99918-1312                |\n",
    "| 3          | Gabriela Antunes | Brasilia, DF       | Samambaia                          | 61 97899-0051, 61 97899-0052, 61 97899-0053 |\n",
    "| 4          | Bruno Pereira    | Rio de Janeiro, RJ | Lapa, Ipanema                      | 21 87767-1991                               |\n",
    "\n",
    "Normalize esse schema até a 3NF."
   ]
  },
  {
   "cell_type": "markdown",
   "id": "dddc34a1",
   "metadata": {},
   "source": [
    "<div class=\"alert alert-success\">\n",
    "\n",
    "Sua resposta AQUI! Crie múltiplas células, conforme necessário!\n",
    "\n",
    "</div>"
   ]
  },
  {
   "cell_type": "markdown",
   "id": "bcb6078e",
   "metadata": {},
   "source": [
    "**Exercício 5**: Você recebeu um arquivo CSV com as informações do Clube dos Jogadores de Bolinha de Gude.\n",
    "\n",
    "Nota: uma bolinha é identificável pela sua cor, tamanho e material.\n",
    "\n",
    "| Cor      | Tamanho | RGB         | Peso (g) | Diâmetro  (cm) | Material | Valor  (R$) | Dono | Qtde |\n",
    "|----------|---------|-------------|----------|----------------|----------|-------------|------|------|\n",
    "| Azul     | P       | (0, 0, 255) | 2        | 2              | Vidro    | 3.00        | Juca | 3    |\n",
    "| Vermelha | G       | (255, 0, 0) | 15       | 5              | Vidro    | 10.00       | Ana  | 5    |\n",
    "| Azul     | G       | (0, 0, 255) | 100      | 5              | Aço      | 15.00       | Juca | 6    |\n",
    "| Vermelha | P       | (255,0,0)   | 2        | 2              | Vidro    | 4.00        | Ana  | 2    |\n",
    "\n",
    "**a)** Defina as dependências funcionais essenciais"
   ]
  },
  {
   "cell_type": "markdown",
   "id": "e0f37f34",
   "metadata": {},
   "source": [
    "<div class=\"alert alert-success\">\n",
    "\n",
    "Sua resposta AQUI! Crie múltiplas células, conforme necessário!\n",
    "\n",
    "</div>"
   ]
  },
  {
   "cell_type": "markdown",
   "id": "81275de9",
   "metadata": {},
   "source": [
    "**b)** Passe para a 3NF"
   ]
  },
  {
   "cell_type": "markdown",
   "id": "75767b9a",
   "metadata": {},
   "source": [
    "<div class=\"alert alert-success\">\n",
    "\n",
    "Sua resposta AQUI! Crie múltiplas células, conforme necessário!\n",
    "\n",
    "</div>"
   ]
  },
  {
   "cell_type": "markdown",
   "id": "61409ebd",
   "metadata": {},
   "source": [
    "**Exercício 6**: Em certos cenários, bases são desenhadas de forma que as regras de normalização de dados são intencionalmente violadas.\n",
    "\n",
    "**a)** Você consegue pensar em algum cenário onde seria recomendado desobedecer alguma das formas normais (ou todas)?"
   ]
  },
  {
   "cell_type": "markdown",
   "id": "b020a137",
   "metadata": {},
   "source": [
    "<div class=\"alert alert-success\">\n",
    "\n",
    "Sua resposta AQUI!\n",
    "\n",
    "</div>"
   ]
  },
  {
   "cell_type": "markdown",
   "id": "8895c9c2",
   "metadata": {},
   "source": [
    "**b)** Vamos buscar expandir nossos conceitos! Pesquise no Google e no ChatGPT sobre **desnormalização** de banco de dados. Escreva abaixo suas conclusões."
   ]
  },
  {
   "cell_type": "markdown",
   "id": "22df0e74",
   "metadata": {},
   "source": [
    "<div class=\"alert alert-success\">\n",
    "\n",
    "Sua resposta AQUI!\n",
    "\n",
    "</div>"
   ]
  },
  {
   "cell_type": "markdown",
   "id": "773eeff7",
   "metadata": {},
   "source": [
    "## Referências\n",
    "- Silberschatz, A., Korth, H. F., Sudarshan, S. “Sistema de Banco de Dados”, CAP 8.\n",
    "- Date, C. J. “Introdução a Sistemas de Bancos de Dados”. CAPs 11 a 13.\n",
    "- https://chatbot.theb.ai/"
   ]
  },
  {
   "cell_type": "markdown",
   "id": "7f2c9018",
   "metadata": {},
   "source": [
    "## Gabarito\n"
   ]
  },
  {
   "cell_type": "markdown",
   "id": "9b7d88f4",
   "metadata": {},
   "source": [
    "**<div id=\"gab_ex1\">Exercício 1</div>**\n",
    "<div class=\"alert alert-warning\">\n",
    "\n",
    "$Z^+ = \\{A, B, C, E, F\\}$\n",
    "</div>"
   ]
  },
  {
   "cell_type": "markdown",
   "id": "7a77c3ed",
   "metadata": {},
   "source": [
    "**<div id=\"gab_ex2\">Exercício 2</div>**\n",
    "<div class=\"alert alert-warning\">\n",
    "\n",
    "Considerando as abreviações\n",
    "\n",
    "| Atributo | Abreviação |\n",
    "|----------|:----------:|\n",
    "| id_filme |     #F     |\n",
    "| filme    |      F     |\n",
    "| estúdio  |      E     |\n",
    "| data     |      D     |\n",
    "| id_ator  |     #A     |\n",
    "| ator     |      A     |\n",
    "| salário  |      S     |\n",
    "\n",
    "Construímos:\n",
    "\n",
    "    - Filmes (#F, F, E, D)\n",
    "    - Atores (#A, A)\n",
    "    - Salarios (#F, #A, S)\n",
    "    \n",
    "Está na 3NF porque:\n",
    "- Cada célula é simples (1NF)\n",
    "- Não tem dependência parcial da PK (2NF)\n",
    "- Não tem dependência transitiva (3NF)\n",
    "\n",
    "Dica: construa as relações funcionais!\n",
    "</div>"
   ]
  },
  {
   "cell_type": "markdown",
   "id": "76cee88d",
   "metadata": {},
   "source": [
    "**<div id=\"gab_ex3\">Exercício 3</div>**\n",
    "<div class=\"alert alert-warning\">\n",
    "\n",
    "**a**) Deixo duas respostas, dentre infinitas possíveis:\n",
    "- `Pessoa(nome, endereço)` onde endereço é uma célula composta, como uma lista\n",
    "- `Filme(id_filme, filme, tags)` onde tags é uma célula composta\n",
    "    \n",
    "\n",
    "**b)**\n",
    "`R(A [PK], B [PK], C, D)`\n",
    "\n",
    "$AB → C$\n",
    "$A → D$\n",
    "\n",
    "\n",
    "**c)**\n",
    "`R(A [PK], B)`\n",
    "\n",
    "$A → B$\n",
    "    \n",
    "</div>"
   ]
  }
 ],
 "metadata": {
  "kernelspec": {
   "display_name": "Python 3 (ipykernel)",
   "language": "python",
   "name": "python3"
  },
  "language_info": {
   "codemirror_mode": {
    "name": "ipython",
    "version": 3
   },
   "file_extension": ".py",
   "mimetype": "text/x-python",
   "name": "python",
   "nbconvert_exporter": "python",
   "pygments_lexer": "ipython3",
   "version": "3.10.12"
  }
 },
 "nbformat": 4,
 "nbformat_minor": 5
}
