{
 "cells": [
  {
   "cell_type": "markdown",
   "id": "8a630554",
   "metadata": {},
   "source": [
    "# SQL: Desafio\n",
    "\n",
    "Nesta aula teremos um desafio de **SQL**. Veja se consegue solucionar todas as questões.\n",
    "\n",
    "## Instalação da base\n",
    "\n",
    "Vamos utilizar uma base de dados chamada \"faculdade\". Faça o download no blackboard e execute o script `faculdade.sql` para gerar a base de dados.\n",
    "\n",
    "## Como resolver os exercícios?\n",
    "\n",
    "Indicamos que crie uma cópia da base de dados em sua máquina (passo anterior). Utilize o MySQL Workbench ou o conector para testar as queries. Quando estiver bastante certo de que a resposta está correta, faça a submissão para o servidor.\n",
    "\n",
    "## Import das bibliotecas\n",
    "\n",
    "Vamos realizar o import das bibliotecas."
   ]
  },
  {
   "cell_type": "code",
   "execution_count": 1,
   "id": "b2f1597a",
   "metadata": {},
   "outputs": [],
   "source": [
    "import mysql.connector\n",
    "from functools import partial\n",
    "import os\n",
    "import insperautograder.jupyter as ia\n",
    "from dotenv import load_dotenv"
   ]
  },
  {
   "cell_type": "markdown",
   "id": "33eefa0d",
   "metadata": {},
   "source": [
    "E vamos criar nosso HELPER de conexão com o banco! Perceba que, uma vez configurado o `.env` não precisaremos mais informar usuários, senhas e URLs!"
   ]
  },
  {
   "cell_type": "code",
   "execution_count": 3,
   "id": "f5147533",
   "metadata": {},
   "outputs": [],
   "source": [
    "load_dotenv(override=True)\n",
    "\n",
    "def get_connection_helper():\n",
    "\n",
    "    def run_db_query(connection, query, args=None):\n",
    "        with connection.cursor() as cursor:\n",
    "            print('Executando query:')\n",
    "            cursor.execute(query, args)\n",
    "            for result in cursor:\n",
    "                print(result)\n",
    "\n",
    "    connection = mysql.connector.connect(\n",
    "        host=os.getenv('MD_DB_SERVER'),\n",
    "        user=os.getenv('MD_DB_USERNAME'),\n",
    "        password=os.getenv('MD_DB_PASSWORD'),\n",
    "        database='faculdade',\n",
    "    )\n",
    "    return connection, partial(run_db_query, connection)\n",
    "\n",
    "\n",
    "connection, db = get_connection_helper()"
   ]
  },
  {
   "cell_type": "markdown",
   "id": "86e481dc",
   "metadata": {},
   "source": [
    "### Tarefas e Notas\n",
    "Vamos conferir as tarefas e notas"
   ]
  },
  {
   "cell_type": "code",
   "execution_count": 4,
   "id": "47c6bae1",
   "metadata": {},
   "outputs": [
    {
     "data": {
      "text/markdown": [
       "|    | Atividade            | De                               | Até                       |\n",
       "|---:|:---------------------|:---------------------------------|:--------------------------|\n",
       "|  0 | select01             | 2023-08-08 03:00:00+00:00        | 2023-08-21 02:59:59+00:00 |\n",
       "|  1 | newborn              | 2023-08-08 03:00:00+00:00        | 2023-08-16 02:59:59+00:00 |\n",
       "|  2 | ddl                  | 2023-08-27 20:36:25.452000+00:00 | 2023-09-02 02:59:59+00:00 |\n",
       "|  3 | dml                  | 2023-08-29 20:36:25.452000+00:00 | 2023-09-04 02:59:59+00:00 |\n",
       "|  4 | group_having         | 2023-09-03 03:00:00+00:00        | 2023-09-17 02:59:59+00:00 |\n",
       "|  5 | agg_join             | 2023-09-03 03:00:00+00:00        | 2023-09-09 02:59:59+00:00 |\n",
       "|  6 | views                | 2023-09-11 03:00:00+00:00        | 2023-09-18 02:59:59+00:00 |\n",
       "|  7 | sql_review1          | 2023-09-13 03:00:00+00:00        | 2023-09-20 02:59:59+00:00 |\n",
       "|  8 | permissions          | 2023-09-20 03:00:00+00:00        | 2023-09-27 03:00:00+00:00 |\n",
       "|  9 | desafio_normalizacao | 2023-09-25 03:00:00+00:00        | 2023-10-02 03:00:00+00:00 |"
      ],
      "text/plain": [
       "<IPython.core.display.Markdown object>"
      ]
     },
     "metadata": {},
     "output_type": "display_data"
    }
   ],
   "source": [
    "ia.tasks()"
   ]
  },
  {
   "cell_type": "code",
   "execution_count": 5,
   "id": "bfbfcd1f-8d59-4820-880d-5ec881598472",
   "metadata": {},
   "outputs": [
    {
     "data": {
      "text/markdown": [
       "|    | Tarefa               |   Nota |\n",
       "|---:|:---------------------|-------:|\n",
       "|  0 | agg_join             |  10    |\n",
       "|  1 | ddl                  |   6.67 |\n",
       "|  2 | desafio_normalizacao |   0    |\n",
       "|  3 | dml                  |  10    |\n",
       "|  4 | group_having         |  10    |\n",
       "|  5 | newborn              |  10    |\n",
       "|  6 | permissions          |  10    |\n",
       "|  7 | select01             |  10    |\n",
       "|  8 | sql_review1          |  10    |\n",
       "|  9 | views                |   8.33 |"
      ],
      "text/plain": [
       "<IPython.core.display.Markdown object>"
      ]
     },
     "metadata": {},
     "output_type": "display_data"
    }
   ],
   "source": [
    "ia.grades(by=\"task\")"
   ]
  },
  {
   "cell_type": "code",
   "execution_count": 6,
   "id": "9d0c9a82",
   "metadata": {},
   "outputs": [
    {
     "data": {
      "text/markdown": [
       "|    | Atividade            | Exercício   |   Peso |   Nota |\n",
       "|---:|:---------------------|:------------|-------:|-------:|\n",
       "|  0 | agg_join             | ex01        |      1 |     10 |\n",
       "|  1 | agg_join             | ex02        |      1 |     10 |\n",
       "|  2 | agg_join             | ex03        |      1 |     10 |\n",
       "|  3 | agg_join             | ex04        |      1 |     10 |\n",
       "|  4 | agg_join             | ex05        |      1 |     10 |\n",
       "|  5 | agg_join             | ex06        |      1 |     10 |\n",
       "|  6 | ddl                  | ex02        |      1 |     10 |\n",
       "|  7 | ddl                  | ex03        |      1 |     10 |\n",
       "|  8 | ddl                  | ex04        |      1 |     10 |\n",
       "|  9 | ddl                  | ex05        |      1 |     10 |\n",
       "| 10 | ddl                  | ex06        |      1 |     10 |\n",
       "| 11 | ddl                  | ex07        |      1 |     10 |\n",
       "| 12 | ddl                  | ex09        |      1 |      0 |\n",
       "| 13 | ddl                  | ex10        |      1 |      0 |\n",
       "| 14 | ddl                  | ex11        |      1 |      0 |\n",
       "| 15 | desafio_normalizacao | ex01        |      1 |      0 |\n",
       "| 16 | desafio_normalizacao | ex02        |      1 |      0 |\n",
       "| 17 | desafio_normalizacao | ex03        |      1 |      0 |\n",
       "| 18 | desafio_normalizacao | ex04        |      1 |      0 |\n",
       "| 19 | desafio_normalizacao | ex05        |      1 |      0 |\n",
       "| 20 | dml                  | ex01        |      1 |     10 |\n",
       "| 21 | dml                  | ex02        |      1 |     10 |\n",
       "| 22 | dml                  | ex03        |      1 |     10 |\n",
       "| 23 | dml                  | ex04        |      1 |     10 |\n",
       "| 24 | dml                  | ex05        |      1 |     10 |\n",
       "| 25 | dml                  | ex06        |      1 |     10 |\n",
       "| 26 | group_having         | ex01        |      1 |     10 |\n",
       "| 27 | group_having         | ex02        |      4 |     10 |\n",
       "| 28 | group_having         | ex03        |      4 |     10 |\n",
       "| 29 | group_having         | ex04        |      4 |     10 |\n",
       "| 30 | group_having         | ex05        |      4 |     10 |\n",
       "| 31 | group_having         | ex06        |      8 |     10 |\n",
       "| 32 | group_having         | ex07        |      6 |     10 |\n",
       "| 33 | group_having         | ex08        |      6 |     10 |\n",
       "| 34 | group_having         | ex09        |     12 |     10 |\n",
       "| 35 | group_having         | ex10        |     10 |     10 |\n",
       "| 36 | group_having         | ex11        |     10 |     10 |\n",
       "| 37 | group_having         | ex12        |      6 |     10 |\n",
       "| 38 | group_having         | ex13        |     12 |     10 |\n",
       "| 39 | newborn              | ex01        |      1 |     10 |\n",
       "| 40 | permissions          | ex01        |      1 |     10 |\n",
       "| 41 | permissions          | ex02        |      1 |     10 |\n",
       "| 42 | permissions          | ex03        |      1 |     10 |\n",
       "| 43 | permissions          | ex04        |      1 |     10 |\n",
       "| 44 | permissions          | ex05        |      1 |     10 |\n",
       "| 45 | permissions          | ex06        |      1 |     10 |\n",
       "| 46 | permissions          | ex07        |      1 |     10 |\n",
       "| 47 | permissions          | ex08        |      1 |     10 |\n",
       "| 48 | permissions          | ex09        |      1 |     10 |\n",
       "| 49 | permissions          | ex10        |      1 |     10 |\n",
       "| 50 | permissions          | ex11        |      1 |     10 |\n",
       "| 51 | permissions          | ex12        |      1 |     10 |\n",
       "| 52 | permissions          | ex13b       |      1 |     10 |\n",
       "| 53 | select01             | ex01        |      1 |     10 |\n",
       "| 54 | select01             | ex02        |      1 |     10 |\n",
       "| 55 | select01             | ex03        |      1 |     10 |\n",
       "| 56 | select01             | ex04        |      1 |     10 |\n",
       "| 57 | select01             | ex05        |      1 |     10 |\n",
       "| 58 | sql_review1          | ex01        |      1 |     10 |\n",
       "| 59 | sql_review1          | ex02        |      1 |     10 |\n",
       "| 60 | sql_review1          | ex03        |      1 |     10 |\n",
       "| 61 | sql_review1          | ex04        |      1 |     10 |\n",
       "| 62 | sql_review1          | ex05        |      1 |     10 |\n",
       "| 63 | sql_review1          | ex06        |      1 |     10 |\n",
       "| 64 | sql_review1          | ex07        |      2 |     10 |\n",
       "| 65 | sql_review1          | ex08        |      3 |     10 |\n",
       "| 66 | sql_review1          | ex09        |      2 |     10 |\n",
       "| 67 | sql_review1          | ex10        |      1 |     10 |\n",
       "| 68 | sql_review1          | ex11        |      3 |     10 |\n",
       "| 69 | sql_review1          | ex12        |      3 |     10 |\n",
       "| 70 | views                | ex01        |      1 |     10 |\n",
       "| 71 | views                | ex02        |      1 |     10 |\n",
       "| 72 | views                | ex03        |      1 |     10 |\n",
       "| 73 | views                | ex04        |      1 |      0 |\n",
       "| 74 | views                | ex05        |      1 |     10 |\n",
       "| 75 | views                | ex06        |      1 |      0 |\n",
       "| 76 | views                | ex07        |      1 |     10 |\n",
       "| 77 | views                | ex08        |      1 |     10 |\n",
       "| 78 | views                | ex09        |      1 |     10 |\n",
       "| 79 | views                | ex10        |      1 |     10 |\n",
       "| 80 | views                | ex11        |      1 |     10 |\n",
       "| 81 | views                | ex12        |      1 |     10 |"
      ],
      "text/plain": [
       "<IPython.core.display.Markdown object>"
      ]
     },
     "metadata": {},
     "output_type": "display_data"
    }
   ],
   "source": [
    "ia.grades()"
   ]
  },
  {
   "cell_type": "markdown",
   "id": "c167b70e",
   "metadata": {},
   "source": [
    "**Exercício 1**: Crie uma query que retorne o id e o nome dos alunos que tenham dois endereços na *CIDADE* de São Paulo ordenado pelo id do aluno."
   ]
  },
  {
   "cell_type": "code",
   "execution_count": 11,
   "id": "0203756a",
   "metadata": {},
   "outputs": [
    {
     "name": "stdout",
     "output_type": "stream",
     "text": [
      "Executando query:\n",
      "(91, 'LOIS BUTLER')\n",
      "(107, 'FLORENCE WOODS')\n",
      "(130, 'CHARLOTTE HUNTER')\n",
      "(281, 'LEONA OBRIEN')\n",
      "(431, 'JOEL FRANCISCO')\n",
      "(463, 'DARRELL POWER')\n",
      "(515, 'ANDRE RAPP')\n"
     ]
    }
   ],
   "source": [
    "sql_ex01 = '''\n",
    "SELECT id_aluno, nome FROM faculdade.alunos\n",
    "WHERE\n",
    "    endereco1 LIKE '%São Paulo, %São Paulo%'\n",
    "    AND endereco2 LIKE '%São Paulo, %São Paulo%'\n",
    "ORDER BY\n",
    "    id_aluno\n",
    "'''\n",
    "\n",
    "db(sql_ex01)"
   ]
  },
  {
   "cell_type": "markdown",
   "id": "ed653f31",
   "metadata": {},
   "source": [
    "Após testar localmente e considerar sua solução correta, faça o envio clicando no botão abaixo!"
   ]
  },
  {
   "cell_type": "code",
   "execution_count": 12,
   "id": "b38f883b",
   "metadata": {},
   "outputs": [
    {
     "data": {
      "application/vnd.jupyter.widget-view+json": {
       "model_id": "bf931c290af441ddb0eb38e8a35ee04b",
       "version_major": 2,
       "version_minor": 0
      },
      "text/plain": [
       "interactive(children=(Button(description='Enviar ex01', style=ButtonStyle()), Output()), _dom_classes=('widget…"
      ]
     },
     "execution_count": 12,
     "metadata": {},
     "output_type": "execute_result"
    }
   ],
   "source": [
    "ia.sender(answer='sql_ex01', task='desafio_normalizacao', question='ex01', answer_type='pyvar')"
   ]
  },
  {
   "cell_type": "markdown",
   "id": "4799a2b3",
   "metadata": {},
   "source": [
    "**Exercício 2**: Uma pesquisa interna revelou que existe um professor na faculdade que causa um aumento na taxa de felicidade dos alunos. Para identificar os alunos mais felizes, escreva uma query que retorne o id e o nome dos alunos que cursam ao mesmo tempo as disciplinas de Megadados e Big Data ou que cursam ao mesmo tempo as disciplinas de Megadados e MLOps. Ordene pelo id do aluno."
   ]
  },
  {
   "cell_type": "code",
   "execution_count": 13,
   "id": "3be41b9a",
   "metadata": {
    "scrolled": true
   },
   "outputs": [
    {
     "name": "stdout",
     "output_type": "stream",
     "text": [
      "Executando query:\n",
      "(24, 'KIMBERLY LEE')\n",
      "(64, 'JUDITH COX')\n",
      "(77, 'JANE BENNETT')\n",
      "(126, 'ELLEN SIMPSON')\n",
      "(129, 'CARRIE PORTER')\n",
      "(168, 'REGINA BERRY')\n",
      "(176, 'JUNE CARROLL')\n",
      "(206, 'TERRI VASQUEZ')\n",
      "(211, 'STACEY MONTGOMERY')\n",
      "(216, 'NATALIE MEYER')\n",
      "(228, 'ALLISON STANLEY')\n",
      "(254, 'MAXINE SILVA')\n",
      "(260, 'CHRISTY VARGAS')\n",
      "(267, 'MARGIE WADE')\n",
      "(283, 'FELICIA SUTTON')\n",
      "(307, 'JOSEPH JOY')\n",
      "(313, 'DONALD MAHON')\n",
      "(320, 'ANTHONY SCHWAB')\n",
      "(322, 'JASON MORRISSEY')\n",
      "(325, 'TIMOTHY BUNN')\n",
      "(329, 'FRANK WAGGONER')\n",
      "(332, 'STEPHEN QUALLS')\n",
      "(333, 'ANDREW PURDY')\n",
      "(334, 'RAYMOND MCWHORTER')\n",
      "(361, 'LAWRENCE LAWTON')\n",
      "(362, 'NICHOLAS BARFIELD')\n",
      "(389, 'ALAN KAHN')\n",
      "(405, 'LEONARD SCHOFIELD')\n",
      "(422, 'MELVIN ELLINGTON')\n",
      "(436, 'TROY QUIGLEY')\n",
      "(443, 'FRANCISCO SKIDMORE')\n",
      "(445, 'MICHEAL FORMAN')\n",
      "(463, 'DARRELL POWER')\n",
      "(495, 'CHARLIE BESS')\n",
      "(527, 'CORY MEEHAN')\n",
      "(538, 'TED BREAUX')\n",
      "(552, 'HUGH WALDROP')\n",
      "(585, 'PERRY SWAFFORD')\n",
      "(594, 'EDUARDO HIATT')\n"
     ]
    }
   ],
   "source": [
    "sql_ex02 = '''\n",
    "SELECT id_aluno, nome FROM faculdade.alunos\n",
    "WHERE\n",
    "    disciplinas LIKE '%Megadados%' AND disciplinas LIKE '%Big Data%'\n",
    "    OR disciplinas LIKE '%Megadados%' AND disciplinas LIKE '%MLOps%'\n",
    "ORDER BY\n",
    "    id_aluno\n",
    "'''\n",
    "\n",
    "db(sql_ex02)"
   ]
  },
  {
   "cell_type": "markdown",
   "id": "b5a7c345",
   "metadata": {},
   "source": [
    "Após testar localmente e considerar sua solução correta, faça o envio clicando no botão abaixo!"
   ]
  },
  {
   "cell_type": "code",
   "execution_count": 14,
   "id": "9046bc51",
   "metadata": {},
   "outputs": [
    {
     "data": {
      "application/vnd.jupyter.widget-view+json": {
       "model_id": "0b781f726fdf4e1cbc49d5ff25ab9ac7",
       "version_major": 2,
       "version_minor": 0
      },
      "text/plain": [
       "interactive(children=(Button(description='Enviar ex02', style=ButtonStyle()), Output()), _dom_classes=('widget…"
      ]
     },
     "execution_count": 14,
     "metadata": {},
     "output_type": "execute_result"
    }
   ],
   "source": [
    "ia.sender(answer='sql_ex02', task='desafio_normalizacao', question='ex02', answer_type='pyvar')"
   ]
  },
  {
   "cell_type": "markdown",
   "id": "01da05ca",
   "metadata": {},
   "source": [
    "**Exercício 3**: A \"Avenida Marginal\" na cidade de Anápolis mudou de nome para \"Avenida Ribeirinha\". Escreva uma query que atualize o nome da rua para todos os endereços que possuem o nome \"Avenida Marginal\" nesta cidade."
   ]
  },
  {
   "cell_type": "code",
   "execution_count": 15,
   "id": "261f49cb",
   "metadata": {
    "scrolled": true
   },
   "outputs": [
    {
     "name": "stdout",
     "output_type": "stream",
     "text": [
      "Executando query:\n"
     ]
    }
   ],
   "source": [
    "sql_ex03 = '''\n",
    "UPDATE\n",
    "    faculdade.alunos\n",
    "SET\n",
    "    endereco1 = IF(endereco1 LIKE '%Avenida Marginal%' AND endereco1 LIKE '%Anápolis, Goiás%', REPLACE(endereco1, 'Avenida Marginal', 'Avenida Ribeirinha'), endereco1), \n",
    "    endereco2 = IF(endereco2 LIKE '%Avenida Marginal%' AND endereco2 LIKE '%Anápolis, Goiás%', REPLACE(endereco2, 'Avenida Marginal', 'Avenida Ribeirinha'), endereco2)\n",
    "'''\n",
    "\n",
    "db(sql_ex03)"
   ]
  },
  {
   "cell_type": "markdown",
   "id": "7c1caa11",
   "metadata": {},
   "source": [
    "Após testar localmente e considerar sua solução correta, faça o envio clicando no botão abaixo!"
   ]
  },
  {
   "cell_type": "code",
   "execution_count": 16,
   "id": "9439ee14",
   "metadata": {},
   "outputs": [
    {
     "data": {
      "application/vnd.jupyter.widget-view+json": {
       "model_id": "a11b8ec50b5049d7ac2a8bc4733e9193",
       "version_major": 2,
       "version_minor": 0
      },
      "text/plain": [
       "interactive(children=(Button(description='Enviar ex03', style=ButtonStyle()), Output()), _dom_classes=('widget…"
      ]
     },
     "execution_count": 16,
     "metadata": {},
     "output_type": "execute_result"
    }
   ],
   "source": [
    "ia.sender(answer='sql_ex03', task='desafio_normalizacao', question='ex03', answer_type='pyvar')"
   ]
  },
  {
   "cell_type": "markdown",
   "id": "caeec0a6",
   "metadata": {},
   "source": [
    "**Exercício 4**: Crie uma query que retorne o **Nome** de todas as disciplinas presentes no banco de dados. Ordene pelo nome da disciplina."
   ]
  },
  {
   "cell_type": "code",
   "execution_count": 17,
   "id": "b757e995",
   "metadata": {
    "scrolled": true
   },
   "outputs": [
    {
     "name": "stdout",
     "output_type": "stream",
     "text": [
      "Executando query:\n",
      "('Big Data',)\n",
      "('Computação em Nuvem',)\n",
      "('Design de Computadores',)\n",
      "('Machine Learning',)\n",
      "('Meditação e Relaxamento',)\n",
      "('Megadados',)\n",
      "('MLOps',)\n",
      "('Redes Sociais',)\n"
     ]
    }
   ],
   "source": [
    "sql_ex04 = '''\n",
    "(SELECT SUBSTRING_INDEX(disciplinas, ',', 1) AS disciplinas FROM faculdade.alunos)\n",
    "UNION (SELECT\n",
    "    SUBSTRING_INDEX(SUBSTRING_INDEX(disciplinas, ', ', 2), ', ', -1) AS disciplinas\n",
    "FROM\n",
    "    faculdade.alunos)\n",
    "ORDER BY\n",
    "    disciplinas\n",
    "'''\n",
    "\n",
    "db(sql_ex04)"
   ]
  },
  {
   "cell_type": "markdown",
   "id": "58d5f71f",
   "metadata": {},
   "source": [
    "Após testar localmente e considerar sua solução correta, faça o envio clicando no botão abaixo!"
   ]
  },
  {
   "cell_type": "code",
   "execution_count": 18,
   "id": "94416a57",
   "metadata": {},
   "outputs": [
    {
     "data": {
      "application/vnd.jupyter.widget-view+json": {
       "model_id": "6a1a65b9629044d99d34b82770076611",
       "version_major": 2,
       "version_minor": 0
      },
      "text/plain": [
       "interactive(children=(Button(description='Enviar ex04', style=ButtonStyle()), Output()), _dom_classes=('widget…"
      ]
     },
     "execution_count": 18,
     "metadata": {},
     "output_type": "execute_result"
    }
   ],
   "source": [
    "ia.sender(answer='sql_ex04', task='desafio_normalizacao', question='ex04', answer_type='pyvar')"
   ]
  },
  {
   "cell_type": "markdown",
   "id": "a6cd4aa2",
   "metadata": {},
   "source": [
    "**Exercício 5**: A disciplina \"Meditação e Relaxamento\" foi cancelada por conta do baixo interesse nela pelos alunos. Escreva uma query que remova a disciplina do banco de dados sem que a estrutura da coluna seja afetada."
   ]
  },
  {
   "cell_type": "code",
   "execution_count": 19,
   "id": "191a5519",
   "metadata": {
    "scrolled": true
   },
   "outputs": [
    {
     "name": "stdout",
     "output_type": "stream",
     "text": [
      "Executando query:\n"
     ]
    }
   ],
   "source": [
    "sql_ex05 = '''\n",
    "UPDATE\n",
    "    faculdade.alunos\n",
    "SET\n",
    "    disciplinas = IF(disciplinas LIKE '%Meditação e Relaxamento, %', REPLACE(disciplinas, 'Meditação e Relaxamento, ', ''), disciplinas),\n",
    "    disciplinas = IF(disciplinas LIKE '%, Meditação e Relaxamento', REPLACE(disciplinas, ', Meditação e Relaxamento', ''), disciplinas),\n",
    "    disciplinas = IF(disciplinas LIKE '%Meditação e Relaxamento%', REPLACE(disciplinas, 'Meditação e Relaxamento', ''), disciplinas)\n",
    "'''\n",
    "\n",
    "db(sql_ex05)"
   ]
  },
  {
   "cell_type": "code",
   "execution_count": 20,
   "id": "003f021f",
   "metadata": {},
   "outputs": [
    {
     "data": {
      "application/vnd.jupyter.widget-view+json": {
       "model_id": "65c98b4e52534583b89db9857543e699",
       "version_major": 2,
       "version_minor": 0
      },
      "text/plain": [
       "interactive(children=(Button(description='Enviar ex05', style=ButtonStyle()), Output()), _dom_classes=('widget…"
      ]
     },
     "execution_count": 20,
     "metadata": {},
     "output_type": "execute_result"
    }
   ],
   "source": [
    "ia.sender(answer='sql_ex05', task='desafio_normalizacao', question='ex05', answer_type='pyvar')"
   ]
  },
  {
   "cell_type": "markdown",
   "id": "a82a9b6e",
   "metadata": {},
   "source": [
    "### Conferindo as Notas\n",
    "\n",
    "Conferindo as Notas em cada exercício de **todas** as atividades disponíveis:"
   ]
  },
  {
   "cell_type": "markdown",
   "id": "46cedc17",
   "metadata": {},
   "source": [
    "Podemos filtrar por uma atividade:"
   ]
  },
  {
   "cell_type": "code",
   "execution_count": 21,
   "id": "86ad5ea7",
   "metadata": {},
   "outputs": [
    {
     "data": {
      "text/markdown": [
       "|    | Atividade            | Exercício   |   Peso |   Nota |\n",
       "|---:|:---------------------|:------------|-------:|-------:|\n",
       "|  0 | desafio_normalizacao | ex01        |      1 |     10 |\n",
       "|  1 | desafio_normalizacao | ex02        |      1 |     10 |\n",
       "|  2 | desafio_normalizacao | ex03        |      1 |     10 |\n",
       "|  3 | desafio_normalizacao | ex04        |      1 |     10 |\n",
       "|  4 | desafio_normalizacao | ex05        |      1 |     10 |"
      ],
      "text/plain": [
       "<IPython.core.display.Markdown object>"
      ]
     },
     "metadata": {},
     "output_type": "display_data"
    }
   ],
   "source": [
    "ia.grades(task='desafio_normalizacao')"
   ]
  },
  {
   "cell_type": "markdown",
   "id": "d8f403ad",
   "metadata": {},
   "source": [
    "Nota por atividade (tarefa):"
   ]
  },
  {
   "cell_type": "code",
   "execution_count": 22,
   "id": "fdcdd52b",
   "metadata": {},
   "outputs": [
    {
     "data": {
      "text/markdown": [
       "|    | Tarefa               |   Nota |\n",
       "|---:|:---------------------|-------:|\n",
       "|  0 | agg_join             |  10    |\n",
       "|  1 | ddl                  |   6.67 |\n",
       "|  2 | desafio_normalizacao |  10    |\n",
       "|  3 | dml                  |  10    |\n",
       "|  4 | group_having         |  10    |\n",
       "|  5 | newborn              |  10    |\n",
       "|  6 | permissions          |  10    |\n",
       "|  7 | select01             |  10    |\n",
       "|  8 | sql_review1          |  10    |\n",
       "|  9 | views                |   8.33 |"
      ],
      "text/plain": [
       "<IPython.core.display.Markdown object>"
      ]
     },
     "metadata": {},
     "output_type": "display_data"
    }
   ],
   "source": [
    "ia.grades(by='TASK')"
   ]
  },
  {
   "cell_type": "markdown",
   "id": "14c242fb",
   "metadata": {},
   "source": [
    "Podendo filtrar apenas uma atividade:"
   ]
  },
  {
   "cell_type": "code",
   "execution_count": 23,
   "id": "e5f92f57",
   "metadata": {},
   "outputs": [
    {
     "data": {
      "text/markdown": [
       "|    | Tarefa               |   Nota |\n",
       "|---:|:---------------------|-------:|\n",
       "|  0 | desafio_normalizacao |     10 |"
      ],
      "text/plain": [
       "<IPython.core.display.Markdown object>"
      ]
     },
     "metadata": {},
     "output_type": "display_data"
    }
   ],
   "source": [
    "ia.grades(by='TASK', task='desafio_normalizacao')"
   ]
  }
 ],
 "metadata": {
  "kernelspec": {
   "display_name": "Python 3 (ipykernel)",
   "language": "python",
   "name": "python3"
  },
  "language_info": {
   "codemirror_mode": {
    "name": "ipython",
    "version": 3
   },
   "file_extension": ".py",
   "mimetype": "text/x-python",
   "name": "python",
   "nbconvert_exporter": "python",
   "pygments_lexer": "ipython3",
   "version": "3.11.0"
  }
 },
 "nbformat": 4,
 "nbformat_minor": 5
}
