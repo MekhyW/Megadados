{
 "cells": [
  {
   "cell_type": "markdown",
   "metadata": {},
   "source": [
    "# `SELECT`\n",
    "\n",
    "Nesta aula vamos explorar mais sobre o comando `SELECT`, usado para consultar a base de dados.\n",
    "\n",
    "Continuaremos a utilizar a mesma base da Aula 02. Se não tiver, instale a base de teste **musica** usando o script `musica.sql`. Este script instala a base de dados de exemplo do livro-texto da disciplina, de modo que vocês podem praticar com os exercícios do livro também!\n",
    "\n",
    "Eis aqui o diagrama do modelo relacional dessa base de dados:\n",
    "\n",
    "<center><img src=\"imgs/modelo_relacional.png\"/></center>"
   ]
  },
  {
   "cell_type": "markdown",
   "metadata": {},
   "source": [
    "Eis a lista completa de chaves primárias e estrangeiras:\n",
    "\n",
    "```SQL\n",
    "ALTER TABLE AUTOR\n",
    "    ADD PRIMARY KEY (Codigo_Autor);\n",
    "\n",
    "ALTER TABLE CD\n",
    "    ADD PRIMARY KEY (Codigo_CD) ;\n",
    "\n",
    "ALTER TABLE GRAVADORA\n",
    "    ADD PRIMARY KEY (Codigo_Gravadora) ;\n",
    "\n",
    "ALTER TABLE FAIXA\n",
    "    ADD PRIMARY KEY (Codigo_Musica, Codigo_CD);\n",
    "\n",
    "ALTER TABLE MUSICA\n",
    "    ADD PRIMARY KEY (Codigo_Musica) ;\n",
    "\n",
    "ALTER TABLE MUSICA_AUTOR\n",
    "    ADD PRIMARY KEY (Codigo_Musica, Codigo_Autor);\n",
    "\n",
    "ALTER TABLE CD\n",
    "    ADD FOREIGN KEY (Codigo_Gravadora)\n",
    "        REFERENCES GRAVADORA(Codigo_Gravadora);\n",
    "\n",
    "ALTER TABLE CD\n",
    "    ADD FOREIGN KEY (CD_Indicado)\n",
    "        REFERENCES CD(Codigo_CD);\n",
    "\n",
    "ALTER TABLE FAIXA\n",
    "    ADD FOREIGN KEY (Codigo_CD)\n",
    "        REFERENCES CD(Codigo_CD);\n",
    "\n",
    "ALTER TABLE FAIXA\n",
    "    ADD FOREIGN KEY (Codigo_Musica)\n",
    "        REFERENCES MUSICA(Codigo_Musica);\n",
    "\n",
    "ALTER TABLE MUSICA_AUTOR\n",
    "    ADD FOREIGN KEY (Codigo_Autor)\n",
    "        REFERENCES AUTOR(Codigo_Autor);\n",
    "\n",
    "ALTER TABLE MUSICA_AUTOR\n",
    "    ADD FOREIGN KEY (Codigo_Musica)\n",
    "        REFERENCES MUSICA(Codigo_Musica);\n",
    "```"
   ]
  },
  {
   "cell_type": "markdown",
   "metadata": {},
   "source": [
    "**Atividade:** Quais destas tabelas são tabelas de relacionamento?"
   ]
  },
  {
   "cell_type": "markdown",
   "metadata": {},
   "source": [
    "<div class=\"alert alert-success\">\n",
    "\n",
    "CD, FAIXA, MUSICA_AUTOR\n",
    "\n",
    "</div>"
   ]
  },
  {
   "cell_type": "markdown",
   "metadata": {},
   "source": [
    "## Criar conexão com o banco de dados\n",
    "Vamos agora criar a conexão com o banco de dados e o objeto auxiliar de conexão. Aqui resolvi usar uma estratégia diferente de implementação que dá o mesmo resultado, para deixar de exemplo para vocês:"
   ]
  },
  {
   "cell_type": "code",
   "execution_count": null,
   "metadata": {},
   "outputs": [],
   "source": [
    "# !pip install mysql-connector-python"
   ]
  },
  {
   "cell_type": "code",
   "execution_count": 1,
   "metadata": {},
   "outputs": [],
   "source": [
    "from functools import partial\n",
    "from dotenv import load_dotenv\n",
    "import insperautograder.jupyter as ia\n",
    "import mysql.connector\n",
    "import os\n",
    "\n",
    "load_dotenv(override=True)\n",
    "\n",
    "connection = mysql.connector.connect(\n",
    "    host=os.getenv(\"MD_DB_SERVER\"),\n",
    "    user=os.getenv(\"MD_DB_USERNAME\"),\n",
    "    password=os.getenv(\"MD_DB_PASSWORD\"),\n",
    "    database=\"musica\"\n",
    ")\n",
    "\n",
    "def run_db_query(connection, query, args=None):\n",
    "    with connection.cursor() as cursor:\n",
    "        print(\"Executando query:\")\n",
    "        cursor.execute(query, args)\n",
    "        for result in cursor:\n",
    "            print(result)\n",
    "\n",
    "\n",
    "db = partial(run_db_query, connection)"
   ]
  },
  {
   "cell_type": "markdown",
   "metadata": {},
   "source": [
    "# <span style='color:blue;'> Relembrando `SELECT`</span>\n",
    "\n",
    "As cláusulas das próximas seções já foram vistas nas primeiras aulas (Select). Deixamos aqui para que relembrem, agora utilizando a chamada `db()` direto no python!\n",
    "\n",
    "## Explorando a estrutura da base de dados"
   ]
  },
  {
   "cell_type": "markdown",
   "metadata": {},
   "source": [
    "Agora podemos usar nosso helper para enviar comandos à base de dados. Vamos ver quais tabelas existem na base 'musica':"
   ]
  },
  {
   "cell_type": "code",
   "execution_count": 2,
   "metadata": {},
   "outputs": [
    {
     "name": "stdout",
     "output_type": "stream",
     "text": [
      "Executando query:\n",
      "('autor',)\n",
      "('cd',)\n",
      "('cd_categoria',)\n",
      "('faixa',)\n",
      "('gravadora',)\n",
      "('musica',)\n",
      "('musica_autor',)\n"
     ]
    }
   ],
   "source": [
    "db('SHOW TABLES')"
   ]
  },
  {
   "cell_type": "markdown",
   "metadata": {},
   "source": [
    "Para saber qual o schema da tabela 'cd', podemos usar o comando '`DESCRIBE`'"
   ]
  },
  {
   "cell_type": "code",
   "execution_count": 3,
   "metadata": {
    "scrolled": true
   },
   "outputs": [
    {
     "name": "stdout",
     "output_type": "stream",
     "text": [
      "Executando query:\n",
      "('Codigo_CD', b'int', 'NO', 'PRI', None, '')\n",
      "('Codigo_Gravadora', b'int', 'YES', 'MUL', None, '')\n",
      "('Nome_CD', b'varchar(60)', 'YES', '', None, '')\n",
      "('Preco_Venda', b'int', 'YES', '', None, '')\n",
      "('Data_Lancamento', b'date', 'YES', '', None, '')\n",
      "('CD_Indicado', b'int', 'YES', 'MUL', None, '')\n"
     ]
    }
   ],
   "source": [
    "db('DESCRIBE CD')"
   ]
  },
  {
   "cell_type": "markdown",
   "metadata": {},
   "source": [
    "## Consultando a base de dados"
   ]
  },
  {
   "cell_type": "markdown",
   "metadata": {},
   "source": [
    "Relembrando: vamos usar o comando '`SELECT`' para listar os conteudos da tabela 'cd'"
   ]
  },
  {
   "cell_type": "code",
   "execution_count": 4,
   "metadata": {
    "scrolled": true
   },
   "outputs": [
    {
     "name": "stdout",
     "output_type": "stream",
     "text": [
      "Executando query:\n",
      "(1, 1, 'Mais do Mesmo', 15, datetime.date(1998, 10, 1), 5)\n",
      "(2, 2, 'Bate-Boca', 12, datetime.date(1999, 7, 1), 3)\n",
      "(3, 3, 'Elis Regina - Essa Mulher', 13, datetime.date(1989, 5, 1), 1)\n",
      "(4, 2, 'A Força que nunca Seca', 14, datetime.date(1998, 12, 1), 1)\n",
      "(5, 3, 'Perfil', 11, datetime.date(2001, 5, 1), 2)\n",
      "(6, 2, 'Barry Manilow Greatest Hits Vol I', 10, datetime.date(1991, 11, 1), 7)\n",
      "(7, 2, 'Listen Without Prejudice', 9, datetime.date(1991, 10, 1), None)\n"
     ]
    }
   ],
   "source": [
    "db('SELECT * FROM CD')"
   ]
  },
  {
   "cell_type": "markdown",
   "metadata": {},
   "source": [
    "O comando acima lista todos os registros da tabela 'cd', com todas as colunas presentes:\n",
    "\n",
    "![Seleção da tabela inteira](imgs/tudo.png)\n",
    "\n",
    "Vamos agora selecionar apenas algumas colunas para exibir."
   ]
  },
  {
   "cell_type": "code",
   "execution_count": 5,
   "metadata": {
    "scrolled": true
   },
   "outputs": [
    {
     "name": "stdout",
     "output_type": "stream",
     "text": [
      "Executando query:\n",
      "('Mais do Mesmo', datetime.date(1998, 10, 1))\n",
      "('Bate-Boca', datetime.date(1999, 7, 1))\n",
      "('Elis Regina - Essa Mulher', datetime.date(1989, 5, 1))\n",
      "('A Força que nunca Seca', datetime.date(1998, 12, 1))\n",
      "('Perfil', datetime.date(2001, 5, 1))\n",
      "('Barry Manilow Greatest Hits Vol I', datetime.date(1991, 11, 1))\n",
      "('Listen Without Prejudice', datetime.date(1991, 10, 1))\n"
     ]
    }
   ],
   "source": [
    "db('SELECT Nome_CD, Data_Lancamento FROM CD')"
   ]
  },
  {
   "cell_type": "markdown",
   "metadata": {},
   "source": [
    "Agora vemos apenas as colunas escolhidas. Relembrando: a operação de seleção de colunas chama-se **projeção**.\n",
    "\n",
    "![Projeção](imgs/projecao.png)\n",
    "\n",
    "Vamos agora atuar na escolha de linhas, selecionando quais desejamos. Para escolher todas as linhas cujo Nome_CD terminem em 'a', podemos executar a query a seguir:"
   ]
  },
  {
   "cell_type": "code",
   "execution_count": 6,
   "metadata": {},
   "outputs": [
    {
     "name": "stdout",
     "output_type": "stream",
     "text": [
      "Executando query:\n",
      "(2, 2, 'Bate-Boca', 12, datetime.date(1999, 7, 1), 3)\n",
      "(4, 2, 'A Força que nunca Seca', 14, datetime.date(1998, 12, 1), 1)\n"
     ]
    }
   ],
   "source": [
    "db(\"SELECT * FROM CD WHERE Nome_CD LIKE '%a'\")"
   ]
  },
  {
   "cell_type": "markdown",
   "metadata": {},
   "source": [
    "Formatar a query facilita sua compreensão!"
   ]
  },
  {
   "cell_type": "code",
   "execution_count": 7,
   "metadata": {},
   "outputs": [
    {
     "name": "stdout",
     "output_type": "stream",
     "text": [
      "Executando query:\n",
      "(2, 2, 'Bate-Boca', 12, datetime.date(1999, 7, 1), 3)\n",
      "(4, 2, 'A Força que nunca Seca', 14, datetime.date(1998, 12, 1), 1)\n"
     ]
    }
   ],
   "source": [
    "sql = \"\"\"\n",
    "SELECT \n",
    "    *\n",
    "FROM\n",
    "    CD\n",
    "WHERE\n",
    "    Nome_CD LIKE '%a'\n",
    "\"\"\"\n",
    "db(sql)"
   ]
  },
  {
   "cell_type": "markdown",
   "metadata": {},
   "source": [
    "Vemos apenas as linhas escolhidas. Recordando: a operação de filtragem de linhas apropriadas chama-se **seleção**.\n",
    "\n",
    "![Seleção](imgs/selecao.png)"
   ]
  },
  {
   "cell_type": "markdown",
   "metadata": {},
   "source": [
    "### Comentários\n",
    "\n",
    "Comentários podem ser úteis para auxiliar na compreensão das queries. Em SQL, utilizaremos `--` **seguido de um espaço** e tudo a direita será considerado como comentário. Veja um exemplo:"
   ]
  },
  {
   "cell_type": "code",
   "execution_count": 8,
   "metadata": {},
   "outputs": [
    {
     "name": "stdout",
     "output_type": "stream",
     "text": [
      "Executando query:\n",
      "(2, 2, 'Bate-Boca', 12, datetime.date(1999, 7, 1), 3)\n",
      "(4, 2, 'A Força que nunca Seca', 14, datetime.date(1998, 12, 1), 1)\n"
     ]
    }
   ],
   "source": [
    "sql = \"\"\"\n",
    "SELECT \n",
    "    * \n",
    "FROM\n",
    "    CD\n",
    "WHERE\n",
    "    Nome_CD LIKE '%a' -- Aqui, % tem o mesmo significado que asterisco em uma busca no terminal!\n",
    "\"\"\"\n",
    "db(sql)"
   ]
  },
  {
   "cell_type": "markdown",
   "metadata": {},
   "source": [
    "## Cláusula `WHERE`"
   ]
  },
  {
   "cell_type": "markdown",
   "metadata": {},
   "source": [
    "A cláusula `WHERE` permite **filtrar as linhas** da tabela (ou tabelas - mais sobre *JOIN* daqui a pouco). Basta especificar a condição de filtragem: o resultado da query será o conjunto de linhas para as quais a condição é verdadeira.\n",
    "\n",
    "Já vimos alguns usos da cláusula `WHERE` acima. Vamos ver mais exemplos:"
   ]
  },
  {
   "cell_type": "code",
   "execution_count": 9,
   "metadata": {},
   "outputs": [
    {
     "name": "stdout",
     "output_type": "stream",
     "text": [
      "Executando query:\n",
      "(1, 1, 'Mais do Mesmo', 15, datetime.date(1998, 10, 1), 5)\n",
      "(2, 2, 'Bate-Boca', 12, datetime.date(1999, 7, 1), 3)\n",
      "(3, 3, 'Elis Regina - Essa Mulher', 13, datetime.date(1989, 5, 1), 1)\n",
      "(4, 2, 'A Força que nunca Seca', 14, datetime.date(1998, 12, 1), 1)\n",
      "(5, 3, 'Perfil', 11, datetime.date(2001, 5, 1), 2)\n",
      "(6, 2, 'Barry Manilow Greatest Hits Vol I', 10, datetime.date(1991, 11, 1), 7)\n",
      "(7, 2, 'Listen Without Prejudice', 9, datetime.date(1991, 10, 1), None)\n",
      "Executando query:\n",
      "(1, 1, 'Mais do Mesmo', 15, datetime.date(1998, 10, 1), 5)\n",
      "(2, 2, 'Bate-Boca', 12, datetime.date(1999, 7, 1), 3)\n",
      "(3, 3, 'Elis Regina - Essa Mulher', 13, datetime.date(1989, 5, 1), 1)\n",
      "(4, 2, 'A Força que nunca Seca', 14, datetime.date(1998, 12, 1), 1)\n",
      "(5, 3, 'Perfil', 11, datetime.date(2001, 5, 1), 2)\n",
      "(6, 2, 'Barry Manilow Greatest Hits Vol I', 10, datetime.date(1991, 11, 1), 7)\n",
      "(7, 2, 'Listen Without Prejudice', 9, datetime.date(1991, 10, 1), None)\n"
     ]
    }
   ],
   "source": [
    "# Queries equivalentes.\n",
    "db('SELECT * FROM CD')\n",
    "db('SELECT * FROM CD WHERE True')"
   ]
  },
  {
   "cell_type": "markdown",
   "metadata": {},
   "source": [
    "Qual o cd mais antigo que custa 13 reais ou mais?"
   ]
  },
  {
   "cell_type": "code",
   "execution_count": 10,
   "metadata": {},
   "outputs": [
    {
     "name": "stdout",
     "output_type": "stream",
     "text": [
      "Executando query:\n",
      "('Mais do Mesmo', 15, datetime.date(1998, 10, 1))\n",
      "('Elis Regina - Essa Mulher', 13, datetime.date(1989, 5, 1))\n",
      "('A Força que nunca Seca', 14, datetime.date(1998, 12, 1))\n"
     ]
    }
   ],
   "source": [
    "db('''\n",
    "SELECT \n",
    "    Nome_CD, Preco_Venda, Data_Lancamento\n",
    "FROM \n",
    "    CD \n",
    "WHERE \n",
    "    Preco_Venda >= 13 \n",
    "''')"
   ]
  },
  {
   "cell_type": "markdown",
   "metadata": {},
   "source": [
    "Perceba que, com os resultados obtidos, podemos comparar as datas uma a uma e encontrar a mais antiga. Logo, obtemos o nome do cd mais antigo que custa 13 reais ou mais! Mas será que existe forma mais fácil?\n",
    "\n",
    "## Ordenar linhas\n",
    "\n",
    "Podemos usar o `ORDER BY` para indicar por qual coluna queremos fazer a ordenação. Podemos também indicar com `ASC` que a ordenação será crescente (padrão) e `DESC` para decrescente."
   ]
  },
  {
   "cell_type": "code",
   "execution_count": 11,
   "metadata": {},
   "outputs": [
    {
     "name": "stdout",
     "output_type": "stream",
     "text": [
      "Executando query:\n",
      "('A Força que nunca Seca', 14, datetime.date(1998, 12, 1))\n",
      "('Mais do Mesmo', 15, datetime.date(1998, 10, 1))\n",
      "('Elis Regina - Essa Mulher', 13, datetime.date(1989, 5, 1))\n"
     ]
    }
   ],
   "source": [
    "db('''\n",
    "SELECT \n",
    "    Nome_CD, Preco_Venda, Data_Lancamento\n",
    "FROM \n",
    "    CD \n",
    "WHERE \n",
    "    Preco_Venda >= 13\n",
    "ORDER BY \n",
    "    Data_Lancamento DESC\n",
    "''')"
   ]
  },
  {
   "cell_type": "markdown",
   "metadata": {},
   "source": [
    "Pronto! Agora o cd requisitado está na última linha, muito mais fácil, não?!\n",
    "\n",
    "Podemos indicar apenas um inteiro como id da coluna a ser ordenada. Entretanto, é uma boa prática escrever o nome da coluna, tanto por facilidade de leitura quanto por mudanças que podem ser feitas nas colunas retornadas pela query, sendo fácil esquecer ou perceber que o id mudou."
   ]
  },
  {
   "cell_type": "code",
   "execution_count": 13,
   "metadata": {},
   "outputs": [
    {
     "name": "stdout",
     "output_type": "stream",
     "text": [
      "Executando query:\n",
      "('A Força que nunca Seca', 14, datetime.date(1998, 12, 1))\n",
      "('Mais do Mesmo', 15, datetime.date(1998, 10, 1))\n",
      "('Elis Regina - Essa Mulher', 13, datetime.date(1989, 5, 1))\n"
     ]
    }
   ],
   "source": [
    "db('''\n",
    "SELECT \n",
    "    Nome_CD, Preco_Venda, Data_Lancamento\n",
    "FROM \n",
    "    CD \n",
    "WHERE \n",
    "    Preco_Venda >= 13\n",
    "ORDER BY \n",
    "    3 DESC\n",
    "''')"
   ]
  },
  {
   "cell_type": "markdown",
   "metadata": {},
   "source": [
    "Mas será que precisamos retornar todas as linhas? O nosso interesse está em apenas uma (a que possui **o cd mais antigo que custa 13 reais ou mais**).\n",
    "\n",
    "### `LIMIT`ar a quantidade de linhas retornadas!\n",
    "\n",
    "Podemos utilizar o `LIMIT` para definir um limite máximo da quantidade de linhas retornadas. Isto será bastante útil quando apenas estivermos explorando as tabelas, quando ver três ou cinco linhas da tabela é suficiente (semelhante ao `dataframe.head()` do `pandas`).\n",
    "\n",
    "Vamos tentar?"
   ]
  },
  {
   "cell_type": "code",
   "execution_count": 14,
   "metadata": {},
   "outputs": [
    {
     "name": "stdout",
     "output_type": "stream",
     "text": [
      "Executando query:\n",
      "('A Força que nunca Seca', 14, datetime.date(1998, 12, 1))\n"
     ]
    }
   ],
   "source": [
    "db('''\n",
    "SELECT \n",
    "    Nome_CD, Preco_Venda, Data_Lancamento\n",
    "FROM \n",
    "    CD \n",
    "WHERE \n",
    "    Preco_Venda >= 13\n",
    "ORDER BY \n",
    "    Data_Lancamento DESC\n",
    "LIMIT 1\n",
    "''')"
   ]
  },
  {
   "cell_type": "markdown",
   "metadata": {},
   "source": [
    "# <span style='color:blue;'> Conteúdo novo!</span>\n",
    "## Agregação"
   ]
  },
  {
   "cell_type": "markdown",
   "metadata": {},
   "source": [
    "Agregação em **SQL** refere-se ao processo de **combinar e resumir dados** para obter informações mais significativas.\n",
    "\n",
    "Utilizaremos funções como `SUM`, `COUNT`, `AVG`, `MAX` e `MIN`, que **operam em conjuntos de registros** para gerar resultados consolidados.\n",
    "\n",
    "**Exemplo**: Quantas músicas tem na base?"
   ]
  },
  {
   "cell_type": "code",
   "execution_count": 15,
   "metadata": {},
   "outputs": [
    {
     "name": "stdout",
     "output_type": "stream",
     "text": [
      "Executando query:\n",
      "(88,)\n"
     ]
    }
   ],
   "source": [
    "db('SELECT COUNT(*) FROM MUSICA')"
   ]
  },
  {
   "cell_type": "markdown",
   "metadata": {},
   "source": [
    "Note o comando `COUNT` acima. Trata-se de um comando de *agregação*: uma operação que trabalha em cima de todo o resultado da query e retorna um valor agregado para esses resultados. \n",
    "\n",
    "Usamos o argumento \"\\*\" para indicar que queremos apenas contar quantas linhas não são nulas. Normalmente é melhor especificar direito a coluna sobre a qual queremos operar.\n",
    "\n",
    "Por exemplo: qual a duração da musica mais longa?"
   ]
  },
  {
   "cell_type": "code",
   "execution_count": 16,
   "metadata": {},
   "outputs": [
    {
     "name": "stdout",
     "output_type": "stream",
     "text": [
      "Executando query:\n",
      "(9,)\n"
     ]
    }
   ],
   "source": [
    "db('SELECT MAX(duracao) FROM MUSICA')"
   ]
  },
  {
   "cell_type": "markdown",
   "metadata": {},
   "source": [
    "**Exercícios para entrega**\n",
    "\n",
    "Esta aula tem atividade para entrega, confira os prazos e exercícios"
   ]
  },
  {
   "cell_type": "code",
   "execution_count": 17,
   "metadata": {},
   "outputs": [
    {
     "data": {
      "text/markdown": [
       "|    | Atividade   | De                               | Até                       |\n",
       "|---:|:------------|:---------------------------------|:--------------------------|\n",
       "|  0 | newborn     | 2023-08-08 03:00:00+00:00        | 2023-08-16 02:59:59+00:00 |\n",
       "|  1 | select01    | 2023-08-08 03:00:00+00:00        | 2023-08-21 02:59:59+00:00 |\n",
       "|  2 | ddl         | 2023-08-27 20:36:25.452000+00:00 | 2023-09-02 02:59:59+00:00 |\n",
       "|  3 | dml         | 2023-08-29 20:36:25.452000+00:00 | 2023-09-04 02:59:59+00:00 |\n",
       "|  4 | agg_join    | 2023-09-03 03:00:00+00:00        | 2023-09-09 02:59:59+00:00 |"
      ],
      "text/plain": [
       "<IPython.core.display.Markdown object>"
      ]
     },
     "metadata": {},
     "output_type": "display_data"
    }
   ],
   "source": [
    "ia.tasks()"
   ]
  },
  {
   "cell_type": "code",
   "execution_count": 51,
   "metadata": {},
   "outputs": [
    {
     "data": {
      "text/markdown": [
       "|    | Atividade   | Exercício   |   Peso |   Nota |\n",
       "|---:|:------------|:------------|-------:|-------:|\n",
       "|  0 | agg_join    | ex01        |      1 |     10 |\n",
       "|  1 | agg_join    | ex02        |      1 |     10 |\n",
       "|  2 | agg_join    | ex03        |      1 |     10 |\n",
       "|  3 | agg_join    | ex04        |      1 |      0 |\n",
       "|  4 | agg_join    | ex05        |      1 |      0 |\n",
       "|  5 | agg_join    | ex06        |      1 |      0 |\n",
       "|  6 | agg_join    | ex07        |      1 |      0 |\n",
       "|  7 | agg_join    | ex08        |      1 |      0 |"
      ],
      "text/plain": [
       "<IPython.core.display.Markdown object>"
      ]
     },
     "metadata": {},
     "output_type": "display_data"
    }
   ],
   "source": [
    "ia.grades(task=\"agg_join\")"
   ]
  },
  {
   "cell_type": "markdown",
   "metadata": {},
   "source": [
    "**Exercício 1:** Quantas musicas foram escritas pelo autor número 1 (Renato Russo)?\n",
    "\n",
    "**Obs**: o atributo retornado deve se chamar `qt_musicas`"
   ]
  },
  {
   "cell_type": "code",
   "execution_count": 25,
   "metadata": {},
   "outputs": [
    {
     "name": "stdout",
     "output_type": "stream",
     "text": [
      "Executando query:\n",
      "(15,)\n"
     ]
    }
   ],
   "source": [
    "sql_ex01 = '''\n",
    "SELECT COUNT(*) AS qt_musicas FROM MUSICA_AUTOR WHERE Codigo_Autor = 1\n",
    "'''\n",
    "\n",
    "db(sql_ex01)"
   ]
  },
  {
   "cell_type": "code",
   "execution_count": 26,
   "metadata": {},
   "outputs": [
    {
     "data": {
      "application/vnd.jupyter.widget-view+json": {
       "model_id": "2ccf53ed7250486e96243b3e4dd173ed",
       "version_major": 2,
       "version_minor": 0
      },
      "text/plain": [
       "interactive(children=(Button(description='Enviar ex01', style=ButtonStyle()), Output()), _dom_classes=('widget…"
      ]
     },
     "execution_count": 26,
     "metadata": {},
     "output_type": "execute_result"
    }
   ],
   "source": [
    "ia.sender(answer='sql_ex01', task='agg_join', question='ex01', answer_type='pyvar')"
   ]
  },
  {
   "cell_type": "markdown",
   "metadata": {},
   "source": [
    "**Exercício 2:** Se eu fosse comprar uma cópia de cada CD da base, quanto gastaria?\n",
    "\n",
    "**Obs**: o atributo retornado de ve se chamar `valor_total`"
   ]
  },
  {
   "cell_type": "code",
   "execution_count": 27,
   "metadata": {},
   "outputs": [
    {
     "name": "stdout",
     "output_type": "stream",
     "text": [
      "Executando query:\n",
      "(Decimal('84'),)\n"
     ]
    }
   ],
   "source": [
    "sql_ex02 = '''\n",
    "SELECT SUM(Preco_Venda) AS valor_total FROM CD\n",
    "'''\n",
    "\n",
    "db(sql_ex02)"
   ]
  },
  {
   "cell_type": "code",
   "execution_count": 28,
   "metadata": {},
   "outputs": [
    {
     "data": {
      "application/vnd.jupyter.widget-view+json": {
       "model_id": "c23468abf69d4abe9647253115ce6faa",
       "version_major": 2,
       "version_minor": 0
      },
      "text/plain": [
       "interactive(children=(Button(description='Enviar ex02', style=ButtonStyle()), Output()), _dom_classes=('widget…"
      ]
     },
     "execution_count": 28,
     "metadata": {},
     "output_type": "execute_result"
    }
   ],
   "source": [
    "ia.sender(answer='sql_ex02', task='agg_join', question='ex02', answer_type='pyvar')"
   ]
  },
  {
   "cell_type": "markdown",
   "metadata": {},
   "source": [
    "## Variáveis"
   ]
  },
  {
   "cell_type": "markdown",
   "metadata": {},
   "source": [
    "Verificando manualmente a tabela `musica` podemos encontrar o nome da musica mais longa:"
   ]
  },
  {
   "cell_type": "code",
   "execution_count": 29,
   "metadata": {},
   "outputs": [
    {
     "name": "stdout",
     "output_type": "stream",
     "text": [
      "Executando query:\n",
      "(1, 'Será', 2)\n",
      "(2, 'Ainda é Cedo', 4)\n",
      "(3, 'Geração Coca-Cola', 2)\n",
      "(4, 'Eduardo e Monica', 4)\n",
      "(5, 'Tempo Perdido', 5)\n",
      "(6, 'Índios', 4)\n",
      "(7, 'Que País é Este', 3)\n",
      "(8, 'Faroeste Caboclo', 9)\n",
      "(9, 'Há Tempos', 3)\n",
      "(10, 'Pais e Filhos', 5)\n",
      "(11, 'Meninos e Meninas', 3)\n",
      "(12, 'Vento no Litoral', 6)\n",
      "(13, 'Perfeição', 4)\n",
      "(14, 'Giz', 3)\n",
      "(15, 'Dezesseis', 5)\n",
      "(16, 'Antes das Seis', 3)\n",
      "(17, 'Meninos, Eu Vi', 3)\n",
      "(18, 'Eu Te Amo', 3)\n",
      "(19, 'Piano na Mangueira', 2)\n",
      "(20, 'A Violeira', 3)\n",
      "(21, 'Anos Dourados', 3)\n",
      "(22, 'Olha, Maria', 4)\n",
      "(23, 'Biscate', 3)\n",
      "(24, 'Retrato em Preto e Branco', 3)\n",
      "(25, 'Falando de Amor', 3)\n",
      "(26, 'Pois É', 2)\n",
      "(27, 'Noite dos Mascarados', 2)\n",
      "(28, 'Sabiá', 3)\n",
      "(29, 'Imagina', 3)\n",
      "(30, 'Bate-Boca', 4)\n",
      "(31, 'Cai Dentro', 2)\n",
      "(32, 'O Bêbado e o Equilibrista', 3)\n",
      "(33, 'Essa Mulher', 3)\n",
      "(34, 'Basta de Clamares Inocência', 3)\n",
      "(35, 'Beguine Dodói', 2)\n",
      "(36, 'Eu hein Rosa', 3)\n",
      "(37, 'Altos e Baixos', 3)\n",
      "(38, 'Bolero de Satã', 3)\n",
      "(39, 'Pé Sem Cabeça', 3)\n",
      "(40, 'As Aparências Enganam', 4)\n",
      "(41, 'É o Amor', 4)\n",
      "(42, 'Trenzinho Caipira', 3)\n",
      "(43, 'Luar do Sertão', 3)\n",
      "(44, 'Não tenha Medo', 3)\n",
      "(45, 'Eu queria que você viesse', 3)\n",
      "(46, 'Espere por mim Morena', 3)\n",
      "(47, 'Resto de mim', 3)\n",
      "(48, 'Gema', 3)\n",
      "(49, 'Cacilda', 2)\n",
      "(50, 'Agradecer e abraçar', 3)\n",
      "(51, 'As flores do jardim da nossa casa', 3)\n",
      "(52, 'Romaria', 3)\n",
      "(53, 'A força que nunca seca', 2)\n",
      "(54, 'Vila do Adeus', 3)\n",
      "(55, 'Devolva-me', 4)\n",
      "(56, 'Mais Feliz', 3)\n",
      "(57, 'Inverno', 4)\n",
      "(58, 'Mentiras', 3)\n",
      "(59, 'Esquadros', 3)\n",
      "(60, 'Cariocas', 3)\n",
      "(61, 'Vambora', 4)\n",
      "(62, 'Por isso eu Corro Demais', 3)\n",
      "(63, 'Maresia', 4)\n",
      "(64, 'Metade', 3)\n",
      "(65, 'Senhas', 3)\n",
      "(66, 'Marina', 3)\n",
      "(67, 'Naquela Estação', 4)\n",
      "(68, 'Mandy', 3)\n",
      "(69, 'New York City Rhythm', 4)\n",
      "(70, 'Looks Like We Made It', 3)\n",
      "(71, 'Daybreak', 3)\n",
      "(72, \"Can't Smile Without you\", 3)\n",
      "(73, \"It's a Miracle\", 4)\n",
      "(74, 'Even Now', 3)\n",
      "(75, 'Bandstand Boogie', 3)\n",
      "(76, 'Trying to get the feeling again', 4)\n",
      "(77, 'Some Kind of Friend', 4)\n",
      "(78, 'Praying for Time', 4)\n",
      "(79, 'Freedom 90', 4)\n",
      "(80, \"They Won't Go When I Go\", 3)\n",
      "(81, 'Something to Save', 4)\n",
      "(82, 'Cowboys and Angels', 4)\n",
      "(83, \"Don't Let the Sun Go Down on Me\", 3)\n",
      "(84, 'Waiting for That Day', 3)\n",
      "(85, 'Mothers Pride', 2)\n",
      "(86, 'Heal the Pain', 3)\n",
      "(87, 'Soul Free', 2)\n",
      "(88, 'Waiting', 3)\n"
     ]
    }
   ],
   "source": [
    "db('SELECT * from MUSICA')"
   ]
  },
  {
   "cell_type": "markdown",
   "metadata": {},
   "source": [
    "Nenhuma surpresa aqui: é \"Faroeste Caboclo\"...\n",
    "\n",
    "Agora suponha que eu quero localizar o *nome* da música mais comprida. Note que o comando a seguir NÃO FAZ SENTIDO:"
   ]
  },
  {
   "cell_type": "code",
   "execution_count": 12,
   "metadata": {},
   "outputs": [
    {
     "name": "stdout",
     "output_type": "stream",
     "text": [
      "Executando query:\n"
     ]
    },
    {
     "ename": "ProgrammingError",
     "evalue": "1140 (42000): In aggregated query without GROUP BY, expression #1 of SELECT list contains nonaggregated column 'musica.MUSICA.Nome_Musica'; this is incompatible with sql_mode=only_full_group_by",
     "output_type": "error",
     "traceback": [
      "\u001b[1;31m---------------------------------------------------------------------------\u001b[0m",
      "\u001b[1;31mMySQLInterfaceError\u001b[0m                       Traceback (most recent call last)",
      "File \u001b[1;32mc:\\Users\\felip\\AppData\\Local\\Programs\\Python\\Python311\\Lib\\site-packages\\mysql\\connector\\connection_cext.py:633\u001b[0m, in \u001b[0;36mCMySQLConnection.cmd_query\u001b[1;34m(self, query, raw, buffered, raw_as_string)\u001b[0m\n\u001b[0;32m    632\u001b[0m         query \u001b[39m=\u001b[39m query\u001b[39m.\u001b[39mencode(\u001b[39m\"\u001b[39m\u001b[39mutf-8\u001b[39m\u001b[39m\"\u001b[39m)\n\u001b[1;32m--> 633\u001b[0m     \u001b[39mself\u001b[39;49m\u001b[39m.\u001b[39;49m_cmysql\u001b[39m.\u001b[39;49mquery(\n\u001b[0;32m    634\u001b[0m         query,\n\u001b[0;32m    635\u001b[0m         raw\u001b[39m=\u001b[39;49mraw,\n\u001b[0;32m    636\u001b[0m         buffered\u001b[39m=\u001b[39;49mbuffered,\n\u001b[0;32m    637\u001b[0m         raw_as_string\u001b[39m=\u001b[39;49mraw_as_string,\n\u001b[0;32m    638\u001b[0m         query_attrs\u001b[39m=\u001b[39;49m\u001b[39mself\u001b[39;49m\u001b[39m.\u001b[39;49mquery_attrs,\n\u001b[0;32m    639\u001b[0m     )\n\u001b[0;32m    640\u001b[0m \u001b[39mexcept\u001b[39;00m MySQLInterfaceError \u001b[39mas\u001b[39;00m err:\n",
      "\u001b[1;31mMySQLInterfaceError\u001b[0m: In aggregated query without GROUP BY, expression #1 of SELECT list contains nonaggregated column 'musica.MUSICA.Nome_Musica'; this is incompatible with sql_mode=only_full_group_by",
      "\nThe above exception was the direct cause of the following exception:\n",
      "\u001b[1;31mProgrammingError\u001b[0m                          Traceback (most recent call last)",
      "\u001b[1;32mc:\\Users\\felip\\OneDrive\\Documentos\\GitHub\\Megadados\\Aula_07 - Select Join\\Aula_07.ipynb Cell 54\u001b[0m line \u001b[0;36m1\n\u001b[1;32m----> <a href='vscode-notebook-cell:/c%3A/Users/felip/OneDrive/Documentos/GitHub/Megadados/Aula_07%20-%20Select%20Join/Aula_07.ipynb#Y104sZmlsZQ%3D%3D?line=0'>1</a>\u001b[0m db(\u001b[39m'\u001b[39;49m\u001b[39mSELECT Nome_musica, MAX(duracao) FROM MUSICA\u001b[39;49m\u001b[39m'\u001b[39;49m)\n",
      "\u001b[1;32mc:\\Users\\felip\\OneDrive\\Documentos\\GitHub\\Megadados\\Aula_07 - Select Join\\Aula_07.ipynb Cell 54\u001b[0m line \u001b[0;36m1\n\u001b[0;32m     <a href='vscode-notebook-cell:/c%3A/Users/felip/OneDrive/Documentos/GitHub/Megadados/Aula_07%20-%20Select%20Join/Aula_07.ipynb#Y104sZmlsZQ%3D%3D?line=16'>17</a>\u001b[0m \u001b[39mwith\u001b[39;00m connection\u001b[39m.\u001b[39mcursor() \u001b[39mas\u001b[39;00m cursor:\n\u001b[0;32m     <a href='vscode-notebook-cell:/c%3A/Users/felip/OneDrive/Documentos/GitHub/Megadados/Aula_07%20-%20Select%20Join/Aula_07.ipynb#Y104sZmlsZQ%3D%3D?line=17'>18</a>\u001b[0m     \u001b[39mprint\u001b[39m(\u001b[39m\"\u001b[39m\u001b[39mExecutando query:\u001b[39m\u001b[39m\"\u001b[39m)\n\u001b[1;32m---> <a href='vscode-notebook-cell:/c%3A/Users/felip/OneDrive/Documentos/GitHub/Megadados/Aula_07%20-%20Select%20Join/Aula_07.ipynb#Y104sZmlsZQ%3D%3D?line=18'>19</a>\u001b[0m     cursor\u001b[39m.\u001b[39;49mexecute(query, args)\n\u001b[0;32m     <a href='vscode-notebook-cell:/c%3A/Users/felip/OneDrive/Documentos/GitHub/Megadados/Aula_07%20-%20Select%20Join/Aula_07.ipynb#Y104sZmlsZQ%3D%3D?line=19'>20</a>\u001b[0m     \u001b[39mfor\u001b[39;00m result \u001b[39min\u001b[39;00m cursor:\n\u001b[0;32m     <a href='vscode-notebook-cell:/c%3A/Users/felip/OneDrive/Documentos/GitHub/Megadados/Aula_07%20-%20Select%20Join/Aula_07.ipynb#Y104sZmlsZQ%3D%3D?line=20'>21</a>\u001b[0m         \u001b[39mprint\u001b[39m(result)\n",
      "File \u001b[1;32mc:\\Users\\felip\\AppData\\Local\\Programs\\Python\\Python311\\Lib\\site-packages\\mysql\\connector\\cursor_cext.py:330\u001b[0m, in \u001b[0;36mCMySQLCursor.execute\u001b[1;34m(self, operation, params, multi)\u001b[0m\n\u001b[0;32m    325\u001b[0m             \u001b[39mraise\u001b[39;00m ProgrammingError(\n\u001b[0;32m    326\u001b[0m                 \u001b[39m\"\u001b[39m\u001b[39mNot all parameters were used in the SQL statement\u001b[39m\u001b[39m\"\u001b[39m\n\u001b[0;32m    327\u001b[0m             )\n\u001b[0;32m    329\u001b[0m \u001b[39mtry\u001b[39;00m:\n\u001b[1;32m--> 330\u001b[0m     result \u001b[39m=\u001b[39m \u001b[39mself\u001b[39;49m\u001b[39m.\u001b[39;49m_cnx\u001b[39m.\u001b[39;49mcmd_query(\n\u001b[0;32m    331\u001b[0m         stmt,\n\u001b[0;32m    332\u001b[0m         raw\u001b[39m=\u001b[39;49m\u001b[39mself\u001b[39;49m\u001b[39m.\u001b[39;49m_raw,\n\u001b[0;32m    333\u001b[0m         buffered\u001b[39m=\u001b[39;49m\u001b[39mself\u001b[39;49m\u001b[39m.\u001b[39;49m_buffered,\n\u001b[0;32m    334\u001b[0m         raw_as_string\u001b[39m=\u001b[39;49m\u001b[39mself\u001b[39;49m\u001b[39m.\u001b[39;49m_raw_as_string,\n\u001b[0;32m    335\u001b[0m     )\n\u001b[0;32m    336\u001b[0m \u001b[39mexcept\u001b[39;00m MySQLInterfaceError \u001b[39mas\u001b[39;00m err:\n\u001b[0;32m    337\u001b[0m     \u001b[39mraise\u001b[39;00m get_mysql_exception(\n\u001b[0;32m    338\u001b[0m         msg\u001b[39m=\u001b[39merr\u001b[39m.\u001b[39mmsg, errno\u001b[39m=\u001b[39merr\u001b[39m.\u001b[39merrno, sqlstate\u001b[39m=\u001b[39merr\u001b[39m.\u001b[39msqlstate\n\u001b[0;32m    339\u001b[0m     ) \u001b[39mfrom\u001b[39;00m \u001b[39merr\u001b[39;00m\n",
      "File \u001b[1;32mc:\\Users\\felip\\AppData\\Local\\Programs\\Python\\Python311\\Lib\\site-packages\\mysql\\connector\\opentelemetry\\context_propagation.py:86\u001b[0m, in \u001b[0;36mwith_context_propagation.<locals>.wrapper\u001b[1;34m(cnx, *args, **kwargs)\u001b[0m\n\u001b[0;32m     83\u001b[0m     cnx\u001b[39m.\u001b[39mquery_attrs_append(value\u001b[39m=\u001b[39m(TRACEPARENT_HEADER_NAME, tp_header))\n\u001b[0;32m     85\u001b[0m \u001b[39mtry\u001b[39;00m:\n\u001b[1;32m---> 86\u001b[0m     result \u001b[39m=\u001b[39m method(cnx, \u001b[39m*\u001b[39;49margs, \u001b[39m*\u001b[39;49m\u001b[39m*\u001b[39;49mkwargs)\n\u001b[0;32m     87\u001b[0m \u001b[39mfinally\u001b[39;00m:\n\u001b[0;32m     88\u001b[0m     \u001b[39mif\u001b[39;00m tp_header \u001b[39mis\u001b[39;00m \u001b[39mnot\u001b[39;00m \u001b[39mNone\u001b[39;00m:\n",
      "File \u001b[1;32mc:\\Users\\felip\\AppData\\Local\\Programs\\Python\\Python311\\Lib\\site-packages\\mysql\\connector\\connection_cext.py:641\u001b[0m, in \u001b[0;36mCMySQLConnection.cmd_query\u001b[1;34m(self, query, raw, buffered, raw_as_string)\u001b[0m\n\u001b[0;32m    633\u001b[0m     \u001b[39mself\u001b[39m\u001b[39m.\u001b[39m_cmysql\u001b[39m.\u001b[39mquery(\n\u001b[0;32m    634\u001b[0m         query,\n\u001b[0;32m    635\u001b[0m         raw\u001b[39m=\u001b[39mraw,\n\u001b[1;32m   (...)\u001b[0m\n\u001b[0;32m    638\u001b[0m         query_attrs\u001b[39m=\u001b[39m\u001b[39mself\u001b[39m\u001b[39m.\u001b[39mquery_attrs,\n\u001b[0;32m    639\u001b[0m     )\n\u001b[0;32m    640\u001b[0m \u001b[39mexcept\u001b[39;00m MySQLInterfaceError \u001b[39mas\u001b[39;00m err:\n\u001b[1;32m--> 641\u001b[0m     \u001b[39mraise\u001b[39;00m get_mysql_exception(\n\u001b[0;32m    642\u001b[0m         err\u001b[39m.\u001b[39merrno, msg\u001b[39m=\u001b[39merr\u001b[39m.\u001b[39mmsg, sqlstate\u001b[39m=\u001b[39merr\u001b[39m.\u001b[39msqlstate\n\u001b[0;32m    643\u001b[0m     ) \u001b[39mfrom\u001b[39;00m \u001b[39merr\u001b[39;00m\n\u001b[0;32m    644\u001b[0m \u001b[39mexcept\u001b[39;00m \u001b[39mAttributeError\u001b[39;00m \u001b[39mas\u001b[39;00m err:\n\u001b[0;32m    645\u001b[0m     addr \u001b[39m=\u001b[39m (\n\u001b[0;32m    646\u001b[0m         \u001b[39mself\u001b[39m\u001b[39m.\u001b[39m_unix_socket \u001b[39mif\u001b[39;00m \u001b[39mself\u001b[39m\u001b[39m.\u001b[39m_unix_socket \u001b[39melse\u001b[39;00m \u001b[39mf\u001b[39m\u001b[39m\"\u001b[39m\u001b[39m{\u001b[39;00m\u001b[39mself\u001b[39m\u001b[39m.\u001b[39m_host\u001b[39m}\u001b[39;00m\u001b[39m:\u001b[39m\u001b[39m{\u001b[39;00m\u001b[39mself\u001b[39m\u001b[39m.\u001b[39m_port\u001b[39m}\u001b[39;00m\u001b[39m\"\u001b[39m\n\u001b[0;32m    647\u001b[0m     )\n",
      "\u001b[1;31mProgrammingError\u001b[0m: 1140 (42000): In aggregated query without GROUP BY, expression #1 of SELECT list contains nonaggregated column 'musica.MUSICA.Nome_Musica'; this is incompatible with sql_mode=only_full_group_by"
     ]
    }
   ],
   "source": [
    "db('SELECT Nome_musica, MAX(duracao) FROM MUSICA')"
   ]
  },
  {
   "cell_type": "markdown",
   "metadata": {},
   "source": [
    "A resposta está errada. Nem poderia estar certa: e se tivermos mais de uma música com a duração máxima?\n",
    "\n",
    "Talvez se especificássemos que a duracao da música tem que coincidir com a duracao máxima..."
   ]
  },
  {
   "cell_type": "code",
   "execution_count": 31,
   "metadata": {},
   "outputs": [
    {
     "name": "stdout",
     "output_type": "stream",
     "text": [
      "Executando query:\n",
      "DatabaseError: 1111 (HY000): Invalid use of group function\n"
     ]
    }
   ],
   "source": [
    "try:\n",
    "    db('SELECT Nome_musica FROM MUSICA WHERE duracao=MAX(duracao)')\n",
    "except mysql.connector.DatabaseError as e:\n",
    "    print(f'DatabaseError: {e}')"
   ]
  },
  {
   "cell_type": "markdown",
   "metadata": {},
   "source": [
    "Também não funciona: não podemos usar uma função de agrupamento dentro da cláusula `WHERE`. Como resolver isso então?\n",
    "\n",
    "Primeiro descubra qual é a maior duração e guarde em uma *variável* ***no banco de dados***."
   ]
  },
  {
   "cell_type": "code",
   "execution_count": 32,
   "metadata": {},
   "outputs": [
    {
     "name": "stdout",
     "output_type": "stream",
     "text": [
      "Executando query:\n"
     ]
    }
   ],
   "source": [
    "db('SELECT MAX(duracao) INTO @max_duracao from MUSICA')"
   ]
  },
  {
   "cell_type": "markdown",
   "metadata": {},
   "source": [
    "Podemos checar o valor dessa variavel agora:"
   ]
  },
  {
   "cell_type": "code",
   "execution_count": 33,
   "metadata": {},
   "outputs": [
    {
     "name": "stdout",
     "output_type": "stream",
     "text": [
      "Executando query:\n",
      "(9,)\n"
     ]
    }
   ],
   "source": [
    "db('SELECT @max_duracao')"
   ]
  },
  {
   "cell_type": "markdown",
   "metadata": {},
   "source": [
    "Agora podemos terminar o serviço!"
   ]
  },
  {
   "cell_type": "code",
   "execution_count": 34,
   "metadata": {},
   "outputs": [
    {
     "name": "stdout",
     "output_type": "stream",
     "text": [
      "Executando query:\n",
      "('Faroeste Caboclo',)\n"
     ]
    }
   ],
   "source": [
    "db('SELECT Nome_musica FROM MUSICA WHERE duracao=@max_duracao')"
   ]
  },
  {
   "cell_type": "markdown",
   "metadata": {},
   "source": [
    "**Exercício 3**: Encontre todas as musicas com duração acima da média.\n",
    "\n",
    "Você deve criar uma variável chamada `avg_duracao` e utilizá-la em sua solução!\n",
    "\n",
    "Ainda, retorne a `duracao` e o `Nome_musica`, ordenando de forma decrescente pela `duracao`."
   ]
  },
  {
   "cell_type": "code",
   "execution_count": 13,
   "metadata": {},
   "outputs": [
    {
     "name": "stdout",
     "output_type": "stream",
     "text": [
      "-> Criar variável:\n",
      "Executando query:\n",
      "\n",
      "-> Selecionar variável:\n",
      "Executando query:\n",
      "(Decimal('3.284090909'),)\n",
      "\n",
      "-> Músicas com duração acima da média:\n",
      "Executando query:\n",
      "(9, 'Faroeste Caboclo')\n",
      "(6, 'Vento no Litoral')\n",
      "(5, 'Tempo Perdido')\n",
      "(5, 'Pais e Filhos')\n",
      "(5, 'Dezesseis')\n",
      "(4, 'Ainda é Cedo')\n",
      "(4, 'Eduardo e Monica')\n",
      "(4, 'Índios')\n",
      "(4, 'Perfeição')\n",
      "(4, 'Olha, Maria')\n",
      "(4, 'Bate-Boca')\n",
      "(4, 'As Aparências Enganam')\n",
      "(4, 'É o Amor')\n",
      "(4, 'Devolva-me')\n",
      "(4, 'Inverno')\n",
      "(4, 'Vambora')\n",
      "(4, 'Maresia')\n",
      "(4, 'Naquela Estação')\n",
      "(4, 'New York City Rhythm')\n",
      "(4, \"It's a Miracle\")\n",
      "(4, 'Trying to get the feeling again')\n",
      "(4, 'Some Kind of Friend')\n",
      "(4, 'Praying for Time')\n",
      "(4, 'Freedom 90')\n",
      "(4, 'Something to Save')\n",
      "(4, 'Cowboys and Angels')\n"
     ]
    }
   ],
   "source": [
    "sql_ex03_part1 = \"\"\"\n",
    "SELECT AVG(duracao) INTO @avg_duracao FROM MUSICA;\n",
    "\"\"\"\n",
    "\n",
    "sql_ex03_part2 = \"\"\"\n",
    "SELECT @avg_duracao;\n",
    "\"\"\"\n",
    "\n",
    "sql_ex03_part3 = \"\"\"\n",
    "SELECT duracao, Nome_musica FROM MUSICA WHERE duracao > @avg_duracao ORDER BY duracao DESC;\n",
    "\"\"\"\n",
    "\n",
    "# Para envio ao servidor: Não alterar\n",
    "sql_ex03 = f\"\"\"\n",
    "{sql_ex03_part1.replace(';','').strip()};\n",
    "{sql_ex03_part2.replace(';','').strip()};\n",
    "{sql_ex03_part3.replace(';','').strip()};\n",
    "\"\"\"\n",
    "\n",
    "print(\"-> Criar variável:\")\n",
    "db(sql_ex03_part1)\n",
    "print(\"\\n-> Selecionar variável:\")\n",
    "db(sql_ex03_part2)\n",
    "print(\"\\n-> Músicas com duração acima da média:\")\n",
    "db(sql_ex03_part3)"
   ]
  },
  {
   "cell_type": "code",
   "execution_count": 43,
   "metadata": {},
   "outputs": [
    {
     "data": {
      "application/vnd.jupyter.widget-view+json": {
       "model_id": "a41725a862164e38aceb58e479c9df53",
       "version_major": 2,
       "version_minor": 0
      },
      "text/plain": [
       "interactive(children=(Button(description='Enviar ex03', style=ButtonStyle()), Output()), _dom_classes=('widget…"
      ]
     },
     "execution_count": 43,
     "metadata": {},
     "output_type": "execute_result"
    }
   ],
   "source": [
    "ia.sender(answer='sql_ex03', task='agg_join', question='ex03', answer_type='pyvar')"
   ]
  },
  {
   "cell_type": "markdown",
   "metadata": {},
   "source": [
    "## Pesquisa em múltiplas tabelas"
   ]
  },
  {
   "cell_type": "markdown",
   "metadata": {},
   "source": [
    "### Produto cartesiano"
   ]
  },
  {
   "cell_type": "markdown",
   "metadata": {},
   "source": [
    "Quando listamos várias tabelas no comando `SELECT` temos como resultado o produto cartesiano destas. \n",
    "\n",
    "(Para os matemáticos: não se trata estritamente do produto cartesiano, pois não geramos um conjunto de duplas de tuplas. Geramos um \"aplainamento\" - *flattening* - do resultado, para cada linha.)\n",
    "\n",
    "Por exemplo, se temos uma tabela com 2 linhas e outra com 3 linhas, o resultado terá 6 linhas, como ilustrado a seguir:\n",
    "\n",
    "```SQL\n",
    "DROP DATABASE IF EXISTS test;\n",
    "CREATE DATABASE test;\n",
    "USE test;\n",
    "\n",
    "CREATE TABLE tab1 (\n",
    "    coluna11 INT,\n",
    "    coluna21 INT\n",
    ");\n",
    "\n",
    "CREATE TABLE tab2 (\n",
    "    coluna12 INT,\n",
    "    coluna22 INT\n",
    ");\n",
    "\n",
    "INSERT INTO tab1 VALUES (1, 2), (3, 4);\n",
    "INSERT INTO tab2 VALUES (1000, 2000), (3000, 4000), (5000, 6000);\n",
    "\n",
    "SELECT * FROM tab1;\n",
    "\n",
    "SELECT * FROM tab2;\n",
    "\n",
    "SELECT * FROM tab1, tab2;\n",
    "```\n",
    "\n",
    "Resultado:\n",
    "\n",
    "![Produto cartesiano](imgs/cartesiano.png)\n",
    "\n",
    "Observe o que acontece quando unimos as tabelas *cd* e *gravadora*"
   ]
  },
  {
   "cell_type": "code",
   "execution_count": 44,
   "metadata": {},
   "outputs": [
    {
     "name": "stdout",
     "output_type": "stream",
     "text": [
      "Executando query:\n",
      "(1, 1, 'Mais do Mesmo', 15, datetime.date(1998, 10, 1), 5, 4, 'EPIC', None, None, 'PAULO', 'www.epic.com.br')\n",
      "(1, 1, 'Mais do Mesmo', 15, datetime.date(1998, 10, 1), 5, 3, 'SOM LIVRE', None, None, 'MARTA', 'www.somlivre.com.br')\n",
      "(1, 1, 'Mais do Mesmo', 15, datetime.date(1998, 10, 1), 5, 2, 'BMG', 'Av. Piramboia, 2898 - Parte 7', None, 'MARIA', 'www.bmg.com.br')\n",
      "(1, 1, 'Mais do Mesmo', 15, datetime.date(1998, 10, 1), 5, 1, 'EMI', 'Rod. Pres. Dutra, s/n km 229,8', None, 'JOÃO', 'www.emi-music.com.br')\n",
      "(2, 2, 'Bate-Boca', 12, datetime.date(1999, 7, 1), 3, 4, 'EPIC', None, None, 'PAULO', 'www.epic.com.br')\n",
      "(2, 2, 'Bate-Boca', 12, datetime.date(1999, 7, 1), 3, 3, 'SOM LIVRE', None, None, 'MARTA', 'www.somlivre.com.br')\n",
      "(2, 2, 'Bate-Boca', 12, datetime.date(1999, 7, 1), 3, 2, 'BMG', 'Av. Piramboia, 2898 - Parte 7', None, 'MARIA', 'www.bmg.com.br')\n",
      "(2, 2, 'Bate-Boca', 12, datetime.date(1999, 7, 1), 3, 1, 'EMI', 'Rod. Pres. Dutra, s/n km 229,8', None, 'JOÃO', 'www.emi-music.com.br')\n",
      "(3, 3, 'Elis Regina - Essa Mulher', 13, datetime.date(1989, 5, 1), 1, 4, 'EPIC', None, None, 'PAULO', 'www.epic.com.br')\n",
      "(3, 3, 'Elis Regina - Essa Mulher', 13, datetime.date(1989, 5, 1), 1, 3, 'SOM LIVRE', None, None, 'MARTA', 'www.somlivre.com.br')\n",
      "(3, 3, 'Elis Regina - Essa Mulher', 13, datetime.date(1989, 5, 1), 1, 2, 'BMG', 'Av. Piramboia, 2898 - Parte 7', None, 'MARIA', 'www.bmg.com.br')\n",
      "(3, 3, 'Elis Regina - Essa Mulher', 13, datetime.date(1989, 5, 1), 1, 1, 'EMI', 'Rod. Pres. Dutra, s/n km 229,8', None, 'JOÃO', 'www.emi-music.com.br')\n",
      "(4, 2, 'A Força que nunca Seca', 14, datetime.date(1998, 12, 1), 1, 4, 'EPIC', None, None, 'PAULO', 'www.epic.com.br')\n",
      "(4, 2, 'A Força que nunca Seca', 14, datetime.date(1998, 12, 1), 1, 3, 'SOM LIVRE', None, None, 'MARTA', 'www.somlivre.com.br')\n",
      "(4, 2, 'A Força que nunca Seca', 14, datetime.date(1998, 12, 1), 1, 2, 'BMG', 'Av. Piramboia, 2898 - Parte 7', None, 'MARIA', 'www.bmg.com.br')\n",
      "(4, 2, 'A Força que nunca Seca', 14, datetime.date(1998, 12, 1), 1, 1, 'EMI', 'Rod. Pres. Dutra, s/n km 229,8', None, 'JOÃO', 'www.emi-music.com.br')\n",
      "(5, 3, 'Perfil', 11, datetime.date(2001, 5, 1), 2, 4, 'EPIC', None, None, 'PAULO', 'www.epic.com.br')\n",
      "(5, 3, 'Perfil', 11, datetime.date(2001, 5, 1), 2, 3, 'SOM LIVRE', None, None, 'MARTA', 'www.somlivre.com.br')\n",
      "(5, 3, 'Perfil', 11, datetime.date(2001, 5, 1), 2, 2, 'BMG', 'Av. Piramboia, 2898 - Parte 7', None, 'MARIA', 'www.bmg.com.br')\n",
      "(5, 3, 'Perfil', 11, datetime.date(2001, 5, 1), 2, 1, 'EMI', 'Rod. Pres. Dutra, s/n km 229,8', None, 'JOÃO', 'www.emi-music.com.br')\n",
      "(6, 2, 'Barry Manilow Greatest Hits Vol I', 10, datetime.date(1991, 11, 1), 7, 4, 'EPIC', None, None, 'PAULO', 'www.epic.com.br')\n",
      "(6, 2, 'Barry Manilow Greatest Hits Vol I', 10, datetime.date(1991, 11, 1), 7, 3, 'SOM LIVRE', None, None, 'MARTA', 'www.somlivre.com.br')\n",
      "(6, 2, 'Barry Manilow Greatest Hits Vol I', 10, datetime.date(1991, 11, 1), 7, 2, 'BMG', 'Av. Piramboia, 2898 - Parte 7', None, 'MARIA', 'www.bmg.com.br')\n",
      "(6, 2, 'Barry Manilow Greatest Hits Vol I', 10, datetime.date(1991, 11, 1), 7, 1, 'EMI', 'Rod. Pres. Dutra, s/n km 229,8', None, 'JOÃO', 'www.emi-music.com.br')\n",
      "(7, 2, 'Listen Without Prejudice', 9, datetime.date(1991, 10, 1), None, 4, 'EPIC', None, None, 'PAULO', 'www.epic.com.br')\n",
      "(7, 2, 'Listen Without Prejudice', 9, datetime.date(1991, 10, 1), None, 3, 'SOM LIVRE', None, None, 'MARTA', 'www.somlivre.com.br')\n",
      "(7, 2, 'Listen Without Prejudice', 9, datetime.date(1991, 10, 1), None, 2, 'BMG', 'Av. Piramboia, 2898 - Parte 7', None, 'MARIA', 'www.bmg.com.br')\n",
      "(7, 2, 'Listen Without Prejudice', 9, datetime.date(1991, 10, 1), None, 1, 'EMI', 'Rod. Pres. Dutra, s/n km 229,8', None, 'JOÃO', 'www.emi-music.com.br')\n"
     ]
    }
   ],
   "source": [
    "db('SELECT * FROM CD, GRAVADORA')"
   ]
  },
  {
   "cell_type": "markdown",
   "metadata": {},
   "source": [
    "### Inner join"
   ]
  },
  {
   "cell_type": "markdown",
   "metadata": {},
   "source": [
    "E se filtrássemos o resultado anterior, mantendo apenas as linhas em que o código de gravadora na tabela *'cd'* coincida com o código de gravadora na tabela *'gravadora'*?"
   ]
  },
  {
   "cell_type": "code",
   "execution_count": 45,
   "metadata": {
    "scrolled": true
   },
   "outputs": [
    {
     "name": "stdout",
     "output_type": "stream",
     "text": [
      "Executando query:\n",
      "(1, 1, 'Mais do Mesmo', 15, datetime.date(1998, 10, 1), 5, 1, 'EMI', 'Rod. Pres. Dutra, s/n km 229,8', None, 'JOÃO', 'www.emi-music.com.br')\n",
      "(2, 2, 'Bate-Boca', 12, datetime.date(1999, 7, 1), 3, 2, 'BMG', 'Av. Piramboia, 2898 - Parte 7', None, 'MARIA', 'www.bmg.com.br')\n",
      "(3, 3, 'Elis Regina - Essa Mulher', 13, datetime.date(1989, 5, 1), 1, 3, 'SOM LIVRE', None, None, 'MARTA', 'www.somlivre.com.br')\n",
      "(4, 2, 'A Força que nunca Seca', 14, datetime.date(1998, 12, 1), 1, 2, 'BMG', 'Av. Piramboia, 2898 - Parte 7', None, 'MARIA', 'www.bmg.com.br')\n",
      "(5, 3, 'Perfil', 11, datetime.date(2001, 5, 1), 2, 3, 'SOM LIVRE', None, None, 'MARTA', 'www.somlivre.com.br')\n",
      "(6, 2, 'Barry Manilow Greatest Hits Vol I', 10, datetime.date(1991, 11, 1), 7, 2, 'BMG', 'Av. Piramboia, 2898 - Parte 7', None, 'MARIA', 'www.bmg.com.br')\n",
      "(7, 2, 'Listen Without Prejudice', 9, datetime.date(1991, 10, 1), None, 2, 'BMG', 'Av. Piramboia, 2898 - Parte 7', None, 'MARIA', 'www.bmg.com.br')\n"
     ]
    }
   ],
   "source": [
    "db('''\n",
    "SELECT \n",
    "    * \n",
    "FROM \n",
    "    CD as c, GRAVADORA as g \n",
    "WHERE \n",
    "    c.Codigo_Gravadora = g.Codigo_Gravadora\n",
    "''')"
   ]
  },
  {
   "cell_type": "code",
   "execution_count": 46,
   "metadata": {},
   "outputs": [
    {
     "name": "stdout",
     "output_type": "stream",
     "text": [
      "Executando query:\n",
      "('Mais do Mesmo', 'EMI')\n",
      "('Bate-Boca', 'BMG')\n",
      "('Elis Regina - Essa Mulher', 'SOM LIVRE')\n",
      "('A Força que nunca Seca', 'BMG')\n",
      "('Perfil', 'SOM LIVRE')\n",
      "('Barry Manilow Greatest Hits Vol I', 'BMG')\n",
      "('Listen Without Prejudice', 'BMG')\n"
     ]
    }
   ],
   "source": [
    "db('''\n",
    "SELECT\n",
    "    Nome_CD, Nome_Gravadora \n",
    "FROM\n",
    "    CD as c, GRAVADORA as g \n",
    "WHERE\n",
    "    c.Codigo_Gravadora = g.Codigo_Gravadora\n",
    "''')"
   ]
  },
  {
   "cell_type": "markdown",
   "metadata": {},
   "source": [
    "Opa, parece que com isso conseguimos associar a gravadora ao cd!\n",
    "\n",
    "Estamos mantendo apenas as linhas do produto cartesiano onde o codigo da gravadora declarado na tabela cd bate com o codigo da gravadora declarado na tabela gravadora. Logo, nestas linhas, a informação proveniente da tabela cd e a informação proveniente da tabela gravadora estarão se referindo à mesma gravadora. Conseguimos, portanto, conectar as informações de cada CD com as informações da gravadora à qual aquele CD pertence."
   ]
  },
  {
   "cell_type": "markdown",
   "metadata": {},
   "source": [
    "Denominamos *\"inner join\"*, *\"equi-join\"* ou \"união regular\" a essa operação de junção de tabelas através da união de **chave primária** de uma com **chave estrangeira** de outra. Eu chamo informalmente de \"vamos bater chaves!\""
   ]
  },
  {
   "cell_type": "markdown",
   "metadata": {},
   "source": [
    "Vamos construir uma lista de cds e suas respectivas gravadoras:"
   ]
  },
  {
   "cell_type": "code",
   "execution_count": 47,
   "metadata": {},
   "outputs": [
    {
     "name": "stdout",
     "output_type": "stream",
     "text": [
      "Executando query:\n",
      "('Mais do Mesmo', 'EMI')\n",
      "('Bate-Boca', 'BMG')\n",
      "('Elis Regina - Essa Mulher', 'SOM LIVRE')\n",
      "('A Força que nunca Seca', 'BMG')\n",
      "('Perfil', 'SOM LIVRE')\n",
      "('Barry Manilow Greatest Hits Vol I', 'BMG')\n",
      "('Listen Without Prejudice', 'BMG')\n"
     ]
    }
   ],
   "source": [
    "db('''\n",
    "SELECT \n",
    "    Nome_CD, Nome_Gravadora \n",
    "FROM \n",
    "    CD as c, GRAVADORA as g \n",
    "WHERE \n",
    "    c.Codigo_Gravadora = g.Codigo_Gravadora\n",
    "''')"
   ]
  },
  {
   "cell_type": "markdown",
   "metadata": {},
   "source": [
    "Vamos aprimorar nossa query para procurar apenas os CDs gravados pela 'SOM LIVRE':"
   ]
  },
  {
   "cell_type": "code",
   "execution_count": 48,
   "metadata": {},
   "outputs": [
    {
     "name": "stdout",
     "output_type": "stream",
     "text": [
      "Executando query:\n",
      "('Elis Regina - Essa Mulher', 'SOM LIVRE')\n",
      "('Perfil', 'SOM LIVRE')\n"
     ]
    }
   ],
   "source": [
    "db(\"\"\"\n",
    "SELECT \n",
    "    Nome_CD, Nome_Gravadora \n",
    "FROM \n",
    "    CD as c, \n",
    "    GRAVADORA as g\n",
    "WHERE \n",
    "    c.Codigo_Gravadora = g.Codigo_Gravadora\n",
    "    AND g.Nome_Gravadora = 'SOM LIVRE'\n",
    "\"\"\")"
   ]
  },
  {
   "cell_type": "markdown",
   "metadata": {},
   "source": [
    "Existem \"apelidos\" para a união regular, que produzem o mesmo resultado:"
   ]
  },
  {
   "cell_type": "code",
   "execution_count": 49,
   "metadata": {},
   "outputs": [
    {
     "name": "stdout",
     "output_type": "stream",
     "text": [
      "Executando query:\n",
      "('Mais do Mesmo', 'EMI')\n",
      "('Bate-Boca', 'BMG')\n",
      "('Elis Regina - Essa Mulher', 'SOM LIVRE')\n",
      "('A Força que nunca Seca', 'BMG')\n",
      "('Perfil', 'SOM LIVRE')\n",
      "('Barry Manilow Greatest Hits Vol I', 'BMG')\n",
      "('Listen Without Prejudice', 'BMG')\n"
     ]
    }
   ],
   "source": [
    "db('''\n",
    "SELECT \n",
    "    Nome_CD, \n",
    "    Nome_Gravadora \n",
    "FROM \n",
    "    CD\n",
    "    INNER JOIN GRAVADORA USING (Codigo_Gravadora)\n",
    "''')"
   ]
  },
  {
   "cell_type": "code",
   "execution_count": 50,
   "metadata": {
    "scrolled": true
   },
   "outputs": [
    {
     "name": "stdout",
     "output_type": "stream",
     "text": [
      "Executando query:\n",
      "('Mais do Mesmo', 'EMI')\n",
      "('Bate-Boca', 'BMG')\n",
      "('Elis Regina - Essa Mulher', 'SOM LIVRE')\n",
      "('A Força que nunca Seca', 'BMG')\n",
      "('Perfil', 'SOM LIVRE')\n",
      "('Barry Manilow Greatest Hits Vol I', 'BMG')\n",
      "('Listen Without Prejudice', 'BMG')\n"
     ]
    }
   ],
   "source": [
    "db('''\n",
    "SELECT\n",
    "    Nome_CD,\n",
    "    Nome_Gravadora\n",
    "FROM\n",
    "    CD as c\n",
    "    INNER JOIN GRAVADORA as g ON c.Codigo_Gravadora = g.Codigo_Gravadora\n",
    "''')"
   ]
  },
  {
   "cell_type": "markdown",
   "metadata": {},
   "source": [
    "**Exercício 4**: Construa a lista das musicas do Renato Russo. Sua query deverá filtrar utilizando o texto `\"Renato Russo\"`.\n",
    "\n",
    "- **Dica**: Reveja os relacionamentos!"
   ]
  },
  {
   "cell_type": "code",
   "execution_count": 54,
   "metadata": {},
   "outputs": [
    {
     "name": "stdout",
     "output_type": "stream",
     "text": [
      "Executando query:\n",
      "('Será',)\n",
      "('Geração Coca-Cola',)\n",
      "('Eduardo e Monica',)\n",
      "('Tempo Perdido',)\n",
      "('Índios',)\n",
      "('Que País é Este',)\n",
      "('Faroeste Caboclo',)\n",
      "('Há Tempos',)\n",
      "('Pais e Filhos',)\n",
      "('Meninos e Meninas',)\n",
      "('Vento no Litoral',)\n",
      "('Perfeição',)\n",
      "('Giz',)\n",
      "('Dezesseis',)\n",
      "('Antes das Seis',)\n"
     ]
    }
   ],
   "source": [
    "sql_ex04 = '''\n",
    "SELECT Nome_Musica\n",
    "FROM \n",
    "    MUSICA AS m\n",
    "    -- get Codigo_Autor where Nome_Autor = 'Renato Russo', then Codigo_Musica from that Codigo_Autor, then musica where Codigo_Musica = that Codigo_Musica\n",
    "    INNER JOIN MUSICA_AUTOR AS ma ON m.Codigo_Musica = ma.Codigo_Musica\n",
    "    INNER JOIN AUTOR AS a ON ma.Codigo_Autor = a.Codigo_Autor\n",
    "WHERE\n",
    "    a.Nome_Autor = 'Renato Russo'\n",
    "'''\n",
    "\n",
    "db(sql_ex04)"
   ]
  },
  {
   "cell_type": "code",
   "execution_count": 55,
   "metadata": {
    "scrolled": true
   },
   "outputs": [
    {
     "data": {
      "application/vnd.jupyter.widget-view+json": {
       "model_id": "a57c666f1a5f4a1c859478e88f3a63b8",
       "version_major": 2,
       "version_minor": 0
      },
      "text/plain": [
       "interactive(children=(Button(description='Enviar ex04', style=ButtonStyle()), Output()), _dom_classes=('widget…"
      ]
     },
     "execution_count": 55,
     "metadata": {},
     "output_type": "execute_result"
    }
   ],
   "source": [
    "ia.sender(answer='sql_ex04', task='agg_join', question='ex04', answer_type='pyvar')"
   ]
  },
  {
   "cell_type": "markdown",
   "metadata": {},
   "source": [
    "### Self join\n",
    "\n",
    "E se quisermos listar os nomes de CDs e seus respectivos CDs indicados? Veja a solução abaixo. Note o uso de dois *aliases* diferentes para a tabela cd."
   ]
  },
  {
   "cell_type": "code",
   "execution_count": 56,
   "metadata": {},
   "outputs": [
    {
     "name": "stdout",
     "output_type": "stream",
     "text": [
      "Executando query:\n",
      "('\"Perfil\" indicado por \"Mais do Mesmo\"',)\n",
      "('\"Elis Regina - Essa Mulher\" indicado por \"Bate-Boca\"',)\n",
      "('\"Mais do Mesmo\" indicado por \"Elis Regina - Essa Mulher\"',)\n",
      "('\"Mais do Mesmo\" indicado por \"A Força que nunca Seca\"',)\n",
      "('\"Bate-Boca\" indicado por \"Perfil\"',)\n",
      "('\"Listen Without Prejudice\" indicado por \"Barry Manilow Greatest Hits Vol I\"',)\n"
     ]
    }
   ],
   "source": [
    "# Observe também o uso da função CONCAT(), só para ficar mais bonito!\n",
    "db('''\n",
    "SELECT\n",
    "    CONCAT('\"', c1.Nome_CD, '\" indicado por \"', c2.Nome_CD, '\"')\n",
    "FROM\n",
    "    CD c1,\n",
    "    CD c2\n",
    "WHERE\n",
    "    c1.Codigo_CD = c2.CD_Indicado\n",
    "''')"
   ]
  },
  {
   "cell_type": "markdown",
   "metadata": {},
   "source": [
    "### *'Non-equi-join'*"
   ]
  },
  {
   "cell_type": "markdown",
   "metadata": {},
   "source": [
    "Chamamos de *'non-equi-join'* a uma junção de tabelas que não usa a igualdade de colunas como critério de junção. \n",
    "\n",
    "Podemos fazer muitas investigações úteis com junção de tabelas. Vamos acompanhar um exemplo (também está no livro-texto).\n",
    "\n",
    "Na base 'musica' temos uma tabela estranha, de poucas linhas, chamada cd_categoria."
   ]
  },
  {
   "cell_type": "code",
   "execution_count": 57,
   "metadata": {},
   "outputs": [
    {
     "name": "stdout",
     "output_type": "stream",
     "text": [
      "Executando query:\n",
      "('Codigo_Categoria', b'int', 'NO', '', None, '')\n",
      "('Menor_Preco', b'int', 'NO', '', None, '')\n",
      "('Maior_Preco', b'int', 'NO', '', None, '')\n"
     ]
    }
   ],
   "source": [
    "db('DESCRIBE CD_CATEGORIA')"
   ]
  },
  {
   "cell_type": "code",
   "execution_count": 58,
   "metadata": {
    "scrolled": true
   },
   "outputs": [
    {
     "name": "stdout",
     "output_type": "stream",
     "text": [
      "Executando query:\n",
      "(1, 5, 10)\n",
      "(2, 10, 12)\n",
      "(3, 12, 15)\n",
      "(4, 15, 20)\n"
     ]
    }
   ],
   "source": [
    "db('SELECT * from CD_CATEGORIA')"
   ]
  },
  {
   "cell_type": "markdown",
   "metadata": {},
   "source": [
    "Esta tabela lista as categorias de preço de CDs. Por exemplo, se um CD custa 9 reais, ele está na categoria 1.\n",
    "\n",
    "Gostariamos de usar essa informação em conjunto com a tabela de CDs para obter a lista de CDs em cada categoria. Por onde começar?\n",
    "\n",
    "Vamos montar o produto cartesiano desta tabela cd_categoria com a tabela de CDs e ver se algum *insight* aparece:"
   ]
  },
  {
   "cell_type": "code",
   "execution_count": 59,
   "metadata": {},
   "outputs": [
    {
     "name": "stdout",
     "output_type": "stream",
     "text": [
      "Executando query:\n",
      "(1, 1, 'Mais do Mesmo', 15, datetime.date(1998, 10, 1), 5, 4, 15, 20)\n",
      "(1, 1, 'Mais do Mesmo', 15, datetime.date(1998, 10, 1), 5, 3, 12, 15)\n",
      "(1, 1, 'Mais do Mesmo', 15, datetime.date(1998, 10, 1), 5, 2, 10, 12)\n",
      "(1, 1, 'Mais do Mesmo', 15, datetime.date(1998, 10, 1), 5, 1, 5, 10)\n",
      "(2, 2, 'Bate-Boca', 12, datetime.date(1999, 7, 1), 3, 4, 15, 20)\n",
      "(2, 2, 'Bate-Boca', 12, datetime.date(1999, 7, 1), 3, 3, 12, 15)\n",
      "(2, 2, 'Bate-Boca', 12, datetime.date(1999, 7, 1), 3, 2, 10, 12)\n",
      "(2, 2, 'Bate-Boca', 12, datetime.date(1999, 7, 1), 3, 1, 5, 10)\n",
      "(3, 3, 'Elis Regina - Essa Mulher', 13, datetime.date(1989, 5, 1), 1, 4, 15, 20)\n",
      "(3, 3, 'Elis Regina - Essa Mulher', 13, datetime.date(1989, 5, 1), 1, 3, 12, 15)\n"
     ]
    }
   ],
   "source": [
    "db('SELECT * FROM CD, CD_CATEGORIA LIMIT 10')"
   ]
  },
  {
   "cell_type": "markdown",
   "metadata": {},
   "source": [
    "Interessante! Como se trata do produto cartesiano, cada CD é listado repetidas vezes, uma para cada categoria de CDs. \n",
    "\n",
    "*Cada linha tem* ***o preço do CD*** *e um par de valores com* ***limites de preço de faixa***. Leia esta sentença quantas vezes for necessário.\n",
    "\n",
    "E se filtrássemos esse resultado para manter apenas as linhas onde o preço do CD está dentro dos limites de preço?"
   ]
  },
  {
   "cell_type": "code",
   "execution_count": 60,
   "metadata": {},
   "outputs": [
    {
     "name": "stdout",
     "output_type": "stream",
     "text": [
      "Executando query:\n",
      "(1, 1, 'Mais do Mesmo', 15, datetime.date(1998, 10, 1), 5, 4, 15, 20)\n",
      "(1, 1, 'Mais do Mesmo', 15, datetime.date(1998, 10, 1), 5, 3, 12, 15)\n",
      "(2, 2, 'Bate-Boca', 12, datetime.date(1999, 7, 1), 3, 3, 12, 15)\n",
      "(2, 2, 'Bate-Boca', 12, datetime.date(1999, 7, 1), 3, 2, 10, 12)\n",
      "(3, 3, 'Elis Regina - Essa Mulher', 13, datetime.date(1989, 5, 1), 1, 3, 12, 15)\n",
      "(4, 2, 'A Força que nunca Seca', 14, datetime.date(1998, 12, 1), 1, 3, 12, 15)\n",
      "(5, 3, 'Perfil', 11, datetime.date(2001, 5, 1), 2, 2, 10, 12)\n",
      "(6, 2, 'Barry Manilow Greatest Hits Vol I', 10, datetime.date(1991, 11, 1), 7, 2, 10, 12)\n",
      "(6, 2, 'Barry Manilow Greatest Hits Vol I', 10, datetime.date(1991, 11, 1), 7, 1, 5, 10)\n",
      "(7, 2, 'Listen Without Prejudice', 9, datetime.date(1991, 10, 1), None, 1, 5, 10)\n"
     ]
    }
   ],
   "source": [
    "db(\"\"\"\n",
    "SELECT \n",
    "    * \n",
    "FROM \n",
    "    CD c,\n",
    "    CD_CATEGORIA cat \n",
    "WHERE \n",
    "    c.Preco_Venda BETWEEN cat.Menor_Preco AND cat.Maior_Preco\n",
    "\"\"\")"
   ]
  },
  {
   "cell_type": "markdown",
   "metadata": {},
   "source": [
    "Surgiu um pequeno problema: tem CD alocado para duas categorias ao mesmo tempo! Culpa do operador `BETWEEN` e da nossa interpretação da tabela `cd_categoria`. Vamos remover o `BETWEEN` e usar os limites do jeito que a gente quer:"
   ]
  },
  {
   "cell_type": "code",
   "execution_count": 61,
   "metadata": {
    "scrolled": true
   },
   "outputs": [
    {
     "name": "stdout",
     "output_type": "stream",
     "text": [
      "Executando query:\n",
      "(1, 1, 'Mais do Mesmo', 15, datetime.date(1998, 10, 1), 5, 4, 15, 20)\n",
      "(2, 2, 'Bate-Boca', 12, datetime.date(1999, 7, 1), 3, 3, 12, 15)\n",
      "(3, 3, 'Elis Regina - Essa Mulher', 13, datetime.date(1989, 5, 1), 1, 3, 12, 15)\n",
      "(4, 2, 'A Força que nunca Seca', 14, datetime.date(1998, 12, 1), 1, 3, 12, 15)\n",
      "(5, 3, 'Perfil', 11, datetime.date(2001, 5, 1), 2, 2, 10, 12)\n",
      "(6, 2, 'Barry Manilow Greatest Hits Vol I', 10, datetime.date(1991, 11, 1), 7, 2, 10, 12)\n",
      "(7, 2, 'Listen Without Prejudice', 9, datetime.date(1991, 10, 1), None, 1, 5, 10)\n"
     ]
    }
   ],
   "source": [
    "db(\"\"\"\n",
    "SELECT \n",
    "    * \n",
    "FROM \n",
    "    CD cd, \n",
    "    CD_CATEGORIA cat \n",
    "WHERE \n",
    "    cd.Preco_Venda >= cat.Menor_Preco \n",
    "    AND cd.Preco_Venda < cat.Maior_Preco\n",
    "\"\"\")"
   ]
  },
  {
   "cell_type": "markdown",
   "metadata": {},
   "source": [
    "Finalmente, vamos ajustar nossa query para buscar os nomes de CDs na faixa 2 de preço:"
   ]
  },
  {
   "cell_type": "code",
   "execution_count": 62,
   "metadata": {},
   "outputs": [
    {
     "name": "stdout",
     "output_type": "stream",
     "text": [
      "Executando query:\n",
      "('Perfil',)\n",
      "('Barry Manilow Greatest Hits Vol I',)\n"
     ]
    }
   ],
   "source": [
    "db(\"\"\"\n",
    "SELECT \n",
    "    Nome_CD \n",
    "FROM \n",
    "    CD cd, \n",
    "    CD_CATEGORIA cat \n",
    "WHERE \n",
    "    cd.Preco_Venda >= cat.Menor_Preco \n",
    "    AND cd.Preco_Venda < cat.Maior_Preco\n",
    "    AND cat.Codigo_categoria = 2\n",
    "\"\"\")"
   ]
  },
  {
   "cell_type": "markdown",
   "metadata": {},
   "source": [
    "#### Vamos praticar"
   ]
  },
  {
   "cell_type": "markdown",
   "metadata": {},
   "source": [
    "**Exercício 05**: Liste o nome do CD e de sua respectiva gravadora para CDs na categoria 2."
   ]
  },
  {
   "cell_type": "code",
   "execution_count": 66,
   "metadata": {},
   "outputs": [
    {
     "name": "stdout",
     "output_type": "stream",
     "text": [
      "Executando query:\n",
      "('Barry Manilow Greatest Hits Vol I', 'BMG')\n",
      "('Perfil', 'SOM LIVRE')\n"
     ]
    }
   ],
   "source": [
    "sql_ex05 = '''\n",
    "SELECT Nome_CD, Nome_Gravadora\n",
    "FROM CD, GRAVADORA\n",
    "WHERE\n",
    "    CD.Codigo_Gravadora = GRAVADORA.Codigo_Gravadora\n",
    "    AND CD.Preco_Venda >= (\n",
    "        SELECT Menor_Preco\n",
    "        FROM CD_CATEGORIA\n",
    "        WHERE Codigo_Categoria = 2\n",
    "    )\n",
    "    AND CD.Preco_Venda < (\n",
    "        SELECT Maior_Preco\n",
    "        FROM CD_CATEGORIA\n",
    "        WHERE Codigo_Categoria = 2\n",
    "    )\n",
    "ORDER BY Nome_CD ASC\n",
    "'''\n",
    "\n",
    "db(sql_ex05)"
   ]
  },
  {
   "cell_type": "code",
   "execution_count": 67,
   "metadata": {},
   "outputs": [
    {
     "data": {
      "application/vnd.jupyter.widget-view+json": {
       "model_id": "a190a1bfb62841ae8e48e171a3ea030f",
       "version_major": 2,
       "version_minor": 0
      },
      "text/plain": [
       "interactive(children=(Button(description='Enviar ex05', style=ButtonStyle()), Output()), _dom_classes=('widget…"
      ]
     },
     "execution_count": 67,
     "metadata": {},
     "output_type": "execute_result"
    }
   ],
   "source": [
    "ia.sender(answer='sql_ex05', task='agg_join', question='ex05', answer_type='pyvar')"
   ]
  },
  {
   "cell_type": "markdown",
   "metadata": {},
   "source": [
    "Vamos agora fechar a conexão com este banco de dados, porque no próximo tópico vamos abrir uma conexão com outro banco de dados."
   ]
  },
  {
   "cell_type": "code",
   "execution_count": 86,
   "metadata": {},
   "outputs": [],
   "source": [
    "connection.close()"
   ]
  },
  {
   "cell_type": "markdown",
   "metadata": {},
   "source": [
    "### Outer join"
   ]
  },
  {
   "cell_type": "markdown",
   "metadata": {},
   "source": [
    "Considere a seguinte base de testes: cada perigo tem um nome e cada comida tem um nome e um perigo associado. (Use o script `tranqueira.sql` para testar essa base.)\n",
    "\n",
    "```SQL\n",
    "DROP DATABASE IF EXISTS tranqueira;\n",
    "CREATE DATABASE tranqueira;\n",
    "USE tranqueira;\n",
    "\n",
    "CREATE TABLE comida (\n",
    "\tid INT NOT NULL AUTO_INCREMENT,\n",
    "\tNome VARCHAR(30),\n",
    "    idPerigo INT,\n",
    "    PRIMARY KEY (id)\n",
    ");\n",
    "\n",
    "CREATE TABLE perigo (\n",
    "\tid INT NOT NULL AUTO_INCREMENT,\n",
    "    Nome VARCHAR(20),\n",
    "    PRIMARY KEY (id)\n",
    ");\n",
    "\n",
    "ALTER TABLE comida ADD FOREIGN KEY (idPerigo) REFERENCES perigo (id);\n",
    "\n",
    "INSERT INTO perigo VALUES (1, 'Cardiaco'), (2, 'Intestinal'), (3, 'Dermatologico'), (4, 'Mental');\n",
    "INSERT INTO comida VALUES (1, 'Torresmo', 1), (2, 'Alface', NULL), (3, 'Coxinha', 2), (4, 'Espetinho', 2);\n",
    "\n",
    "SELECT * FROM comida;\n",
    "SELECT * FROM perigo;\n",
    "```\n",
    "\n",
    "![Tabela comida](imgs/comida.png)\n",
    "\n",
    "![Tabela perigo](imgs/perigo.png)\n",
    "\n",
    "Fazendo o inner join da tabela comida com a tabela perigo temos a lista de comidas que estão associadas a algum perigo:"
   ]
  },
  {
   "cell_type": "code",
   "execution_count": 87,
   "metadata": {
    "scrolled": true,
    "tags": []
   },
   "outputs": [
    {
     "name": "stdout",
     "output_type": "stream",
     "text": [
      "Executando query:\n",
      "Executando query:\n",
      "('Torresmo', 'Cardiaco')\n",
      "('Coxinha', 'Intestinal')\n",
      "('Espetinho', 'Intestinal')\n"
     ]
    }
   ],
   "source": [
    "connection_tranqueira = mysql.connector.connect(\n",
    "    host=os.getenv(\"MD_DB_SERVER\"),\n",
    "    user=os.getenv(\"MD_DB_USERNAME\"),\n",
    "    password=os.getenv(\"MD_DB_PASSWORD\"),\n",
    "    database=\"tranqueira\"\n",
    ")\n",
    "\n",
    "dbt = partial(run_db_query, connection_tranqueira)\n",
    "\n",
    "dbt('USE tranqueira')\n",
    "dbt('''\n",
    "SELECT \n",
    "    comida.Nome, perigo.Nome \n",
    "FROM \n",
    "    comida INNER JOIN perigo ON comida.idPerigo = perigo.id\n",
    "''')"
   ]
  },
  {
   "cell_type": "markdown",
   "metadata": {},
   "source": [
    "Note que a alface não aparece aqui. \n",
    "\n",
    "Se quisermos que todas as comidas apareçam neste join, mesmo que não estejam associadas a um perigo, como fazer? Para isso servem os ***outer joins***. Vamos experimentar com o **`LEFT OUTER JOIN`**:"
   ]
  },
  {
   "cell_type": "code",
   "execution_count": 88,
   "metadata": {
    "scrolled": true
   },
   "outputs": [
    {
     "name": "stdout",
     "output_type": "stream",
     "text": [
      "Executando query:\n",
      "('Torresmo', 'Cardiaco')\n",
      "('Alface', None)\n",
      "('Coxinha', 'Intestinal')\n",
      "('Espetinho', 'Intestinal')\n"
     ]
    }
   ],
   "source": [
    "dbt('''\n",
    "SELECT \n",
    "    comida.Nome, \n",
    "    perigo.Nome \n",
    "FROM\n",
    "    comida\n",
    "    LEFT OUTER JOIN perigo ON comida.idPerigo = perigo.id\n",
    "''')"
   ]
  },
  {
   "cell_type": "markdown",
   "metadata": {},
   "source": [
    "Veja que agora podemos observar que a alface não oferece perigo! E se quisermos fazer o contrário: queremos que todos os perigos apareçam, mesmo que não exista comida associada? Vamos usar o **`RIGHT OUTER JOIN`**:"
   ]
  },
  {
   "cell_type": "code",
   "execution_count": 89,
   "metadata": {},
   "outputs": [
    {
     "name": "stdout",
     "output_type": "stream",
     "text": [
      "Executando query:\n",
      "('Torresmo', 'Cardiaco')\n",
      "('Espetinho', 'Intestinal')\n",
      "('Coxinha', 'Intestinal')\n",
      "(None, 'Dermatologico')\n",
      "(None, 'Mental')\n"
     ]
    }
   ],
   "source": [
    "dbt('''\n",
    "SELECT \n",
    "    comida.Nome,\n",
    "    perigo.Nome\n",
    "FROM\n",
    "    comida\n",
    "    RIGHT OUTER JOIN perigo ON comida.idPerigo = perigo.id\n",
    "''')"
   ]
  },
  {
   "cell_type": "markdown",
   "metadata": {},
   "source": [
    "Agora os perigos dermatológico e mental aparecem, mas não existem comidas associadas a eles!\n",
    "\n",
    "Os dois tipos de join são redundantes: basta inverter a ordem das partes para trocar de `RIGHT OUTER JOIN` para `LEFT OUTER JOIN`. Por exemplo:"
   ]
  },
  {
   "cell_type": "code",
   "execution_count": 90,
   "metadata": {},
   "outputs": [
    {
     "name": "stdout",
     "output_type": "stream",
     "text": [
      "Executando query:\n",
      "('Torresmo', 'Cardiaco')\n",
      "('Espetinho', 'Intestinal')\n",
      "('Coxinha', 'Intestinal')\n",
      "(None, 'Dermatologico')\n",
      "(None, 'Mental')\n"
     ]
    }
   ],
   "source": [
    "dbt('''\n",
    "SELECT\n",
    "    comida.Nome,\n",
    "    perigo.Nome\n",
    "FROM\n",
    "    perigo\n",
    "    LEFT OUTER JOIN comida ON comida.idPerigo = perigo.id\n",
    "''')"
   ]
  },
  {
   "cell_type": "markdown",
   "metadata": {},
   "source": [
    "#### Vamos praticar"
   ]
  },
  {
   "cell_type": "markdown",
   "metadata": {},
   "source": [
    "**Exercício 6**: Liste os perigos que não estão associados a nenhuma comida."
   ]
  },
  {
   "cell_type": "code",
   "execution_count": 94,
   "metadata": {},
   "outputs": [
    {
     "name": "stdout",
     "output_type": "stream",
     "text": [
      "Executando query:\n",
      "('Dermatologico',)\n",
      "('Mental',)\n"
     ]
    }
   ],
   "source": [
    "sql_ex06 = '''\n",
    "SELECT\n",
    "    perigo.Nome\n",
    "FROM\n",
    "    perigo\n",
    "    LEFT OUTER JOIN comida ON comida.idPerigo = perigo.id\n",
    "WHERE\n",
    "    comida.id IS NULL\n",
    "'''\n",
    "\n",
    "dbt(sql_ex06)"
   ]
  },
  {
   "cell_type": "code",
   "execution_count": 95,
   "metadata": {
    "scrolled": true
   },
   "outputs": [
    {
     "data": {
      "application/vnd.jupyter.widget-view+json": {
       "model_id": "5427fafe07ab441983aa577a11099eb1",
       "version_major": 2,
       "version_minor": 0
      },
      "text/plain": [
       "interactive(children=(Button(description='Enviar ex06', style=ButtonStyle()), Output()), _dom_classes=('widget…"
      ]
     },
     "execution_count": 95,
     "metadata": {},
     "output_type": "execute_result"
    }
   ],
   "source": [
    "ia.sender(answer='sql_ex06', task='agg_join', question='ex06', answer_type='pyvar')"
   ]
  },
  {
   "cell_type": "markdown",
   "metadata": {},
   "source": [
    "## Finalizando o trabalho\n",
    "\n",
    "Por fim, vamos fechar nossa conexão com o banco de dados!"
   ]
  },
  {
   "cell_type": "code",
   "execution_count": 96,
   "metadata": {},
   "outputs": [],
   "source": [
    "connection.close()\n",
    "connection_tranqueira.close()"
   ]
  },
  {
   "cell_type": "markdown",
   "metadata": {},
   "source": [
    "Se você tentar fechar a conexão duas vezes, nada acontecerá nesta biblioteca. Outras bibliotecas podem lançar terá uma exceção: consulte a documentação da sua biblioteca."
   ]
  },
  {
   "cell_type": "code",
   "execution_count": 97,
   "metadata": {
    "scrolled": true
   },
   "outputs": [],
   "source": [
    "connection.close()"
   ]
  },
  {
   "cell_type": "markdown",
   "metadata": {},
   "source": [
    "Por hoje é só! Pratique com os exercícios do seu livro texto."
   ]
  },
  {
   "cell_type": "markdown",
   "metadata": {},
   "source": [
    "## Conferir Notas\n",
    "\n",
    "Confira se as notas na atividade são as esperadas!\n",
    "\n",
    "Primeiro na atividade atual!"
   ]
  },
  {
   "cell_type": "code",
   "execution_count": 98,
   "metadata": {},
   "outputs": [
    {
     "data": {
      "text/markdown": [
       "|    | Tarefa   |   Nota |\n",
       "|---:|:---------|-------:|\n",
       "|  0 | agg_join |     10 |"
      ],
      "text/plain": [
       "<IPython.core.display.Markdown object>"
      ]
     },
     "metadata": {},
     "output_type": "display_data"
    }
   ],
   "source": [
    "ia.grades(by=\"task\", task=\"agg_join\")"
   ]
  },
  {
   "cell_type": "code",
   "execution_count": 99,
   "metadata": {},
   "outputs": [
    {
     "data": {
      "text/markdown": [
       "|    | Atividade   | Exercício   |   Peso |   Nota |\n",
       "|---:|:------------|:------------|-------:|-------:|\n",
       "|  0 | agg_join    | ex01        |      1 |     10 |\n",
       "|  1 | agg_join    | ex02        |      1 |     10 |\n",
       "|  2 | agg_join    | ex03        |      1 |     10 |\n",
       "|  3 | agg_join    | ex04        |      1 |     10 |\n",
       "|  4 | agg_join    | ex05        |      1 |     10 |\n",
       "|  5 | agg_join    | ex06        |      1 |     10 |"
      ],
      "text/plain": [
       "<IPython.core.display.Markdown object>"
      ]
     },
     "metadata": {},
     "output_type": "display_data"
    }
   ],
   "source": [
    "ia.grades(task=\"agg_join\")"
   ]
  },
  {
   "cell_type": "markdown",
   "metadata": {},
   "source": [
    "E agora em todas as tarefas!"
   ]
  },
  {
   "cell_type": "code",
   "execution_count": 100,
   "metadata": {},
   "outputs": [
    {
     "data": {
      "text/markdown": [
       "|    | Tarefa   |     Nota |\n",
       "|---:|:---------|---------:|\n",
       "|  0 | agg_join | 10       |\n",
       "|  1 | ddl      |  6.66667 |\n",
       "|  2 | dml      | 10       |\n",
       "|  3 | newborn  | 10       |\n",
       "|  4 | select01 | 10       |"
      ],
      "text/plain": [
       "<IPython.core.display.Markdown object>"
      ]
     },
     "metadata": {},
     "output_type": "display_data"
    }
   ],
   "source": [
    "ia.grades(by=\"task\")"
   ]
  },
  {
   "cell_type": "code",
   "execution_count": 101,
   "metadata": {},
   "outputs": [
    {
     "data": {
      "text/markdown": [
       "|    | Atividade   | Exercício   |   Peso |   Nota |\n",
       "|---:|:------------|:------------|-------:|-------:|\n",
       "|  0 | agg_join    | ex01        |      1 |     10 |\n",
       "|  1 | agg_join    | ex02        |      1 |     10 |\n",
       "|  2 | agg_join    | ex03        |      1 |     10 |\n",
       "|  3 | agg_join    | ex04        |      1 |     10 |\n",
       "|  4 | agg_join    | ex05        |      1 |     10 |\n",
       "|  5 | agg_join    | ex06        |      1 |     10 |\n",
       "|  6 | ddl         | ex02        |      1 |     10 |\n",
       "|  7 | ddl         | ex03        |      1 |     10 |\n",
       "|  8 | ddl         | ex04        |      1 |     10 |\n",
       "|  9 | ddl         | ex05        |      1 |     10 |\n",
       "| 10 | ddl         | ex06        |      1 |     10 |\n",
       "| 11 | ddl         | ex07        |      1 |     10 |\n",
       "| 12 | ddl         | ex09        |      1 |      0 |\n",
       "| 13 | ddl         | ex10        |      1 |      0 |\n",
       "| 14 | ddl         | ex11        |      1 |      0 |\n",
       "| 15 | dml         | ex01        |      1 |     10 |\n",
       "| 16 | dml         | ex02        |      1 |     10 |\n",
       "| 17 | dml         | ex03        |      1 |     10 |\n",
       "| 18 | dml         | ex04        |      1 |     10 |\n",
       "| 19 | dml         | ex05        |      1 |     10 |\n",
       "| 20 | dml         | ex06        |      1 |     10 |\n",
       "| 21 | newborn     | ex01        |      1 |     10 |\n",
       "| 22 | select01    | ex01        |      1 |     10 |\n",
       "| 23 | select01    | ex02        |      1 |     10 |\n",
       "| 24 | select01    | ex03        |      1 |     10 |\n",
       "| 25 | select01    | ex04        |      1 |     10 |\n",
       "| 26 | select01    | ex05        |      1 |     10 |"
      ],
      "text/plain": [
       "<IPython.core.display.Markdown object>"
      ]
     },
     "metadata": {},
     "output_type": "display_data"
    }
   ],
   "source": [
    "ia.grades()"
   ]
  }
 ],
 "metadata": {
  "kernelspec": {
   "display_name": "Python 3 (ipykernel)",
   "language": "python",
   "name": "python3"
  },
  "language_info": {
   "codemirror_mode": {
    "name": "ipython",
    "version": 3
   },
   "file_extension": ".py",
   "mimetype": "text/x-python",
   "name": "python",
   "nbconvert_exporter": "python",
   "pygments_lexer": "ipython3",
   "version": "3.11.0"
  }
 },
 "nbformat": 4,
 "nbformat_minor": 4
}
