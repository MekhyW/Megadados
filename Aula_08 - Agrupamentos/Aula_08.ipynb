{
 "cells": [
  {
   "cell_type": "markdown",
   "metadata": {},
   "source": [
    "# Mais sobre `SELECT`: agrupamentos"
   ]
  },
  {
   "cell_type": "markdown",
   "metadata": {},
   "source": [
    "## Introdução"
   ]
  },
  {
   "cell_type": "markdown",
   "metadata": {},
   "source": [
    "Vamos continuar nossa investigação sobre o comando `SELECT`. Desta vez usaremos a base de dados `'sakila'`, uma famosa base de dados de teste construída pelos autores do MySQL. \n",
    "\n",
    "Abra a URL [**https://dev.mysql.com/doc/sakila/en/**](https://dev.mysql.com/doc/sakila/en/) para conhecer melhor esta base de dados, que modela uma locadora de DVDs (riam, vocês também serão velhos um dia!). Se você não possui esta base, siga as instruções de instalação na página.\n",
    "\n",
    "Vamos também construir nosso objeto auxiliar para conectar com a base de dados, como fizemos na última aula."
   ]
  },
  {
   "cell_type": "code",
   "execution_count": 1,
   "metadata": {
    "tags": []
   },
   "outputs": [],
   "source": [
    "from functools import partial\n",
    "from dotenv import load_dotenv\n",
    "import insperautograder.jupyter as ia\n",
    "import mysql.connector\n",
    "import os\n",
    "\n",
    "load_dotenv(override=True)\n",
    "\n",
    "connection = mysql.connector.connect(\n",
    "    host=os.getenv(\"MD_DB_SERVER\"),\n",
    "    user=os.getenv(\"MD_DB_USERNAME\"),\n",
    "    password=os.getenv(\"MD_DB_PASSWORD\"),\n",
    "    database='sakila',\n",
    ")\n",
    "\n",
    "\n",
    "def run_db_query(connection, query, args=None):\n",
    "    with connection.cursor() as cursor:\n",
    "        print('Executando query:')\n",
    "        cursor.execute(query, args)\n",
    "        for result in cursor:\n",
    "            print(result)\n",
    "\n",
    "\n",
    "db = partial(run_db_query, connection)"
   ]
  },
  {
   "cell_type": "markdown",
   "metadata": {},
   "source": [
    "## Exercícios para entrega\n",
    "\n",
    "Esta aula tem atividade para entrega, confira os prazos e exercícios"
   ]
  },
  {
   "cell_type": "code",
   "execution_count": 2,
   "metadata": {},
   "outputs": [
    {
     "data": {
      "text/markdown": [
       "|    | Atividade    | De                               | Até                       |\n",
       "|---:|:-------------|:---------------------------------|:--------------------------|\n",
       "|  0 | newborn      | 2023-08-08 03:00:00+00:00        | 2023-08-16 02:59:59+00:00 |\n",
       "|  1 | select01     | 2023-08-08 03:00:00+00:00        | 2023-08-21 02:59:59+00:00 |\n",
       "|  2 | ddl          | 2023-08-27 20:36:25.452000+00:00 | 2023-09-02 02:59:59+00:00 |\n",
       "|  3 | dml          | 2023-08-29 20:36:25.452000+00:00 | 2023-09-04 02:59:59+00:00 |\n",
       "|  4 | agg_join     | 2023-09-03 03:00:00+00:00        | 2023-09-09 02:59:59+00:00 |\n",
       "|  5 | group_having | 2023-09-03 03:00:00+00:00        | 2023-09-17 02:59:59+00:00 |"
      ],
      "text/plain": [
       "<IPython.core.display.Markdown object>"
      ]
     },
     "metadata": {},
     "output_type": "display_data"
    }
   ],
   "source": [
    "ia.tasks()"
   ]
  },
  {
   "cell_type": "code",
   "execution_count": 3,
   "metadata": {},
   "outputs": [
    {
     "data": {
      "text/markdown": [
       "|    | Atividade    | Exercício   |   Peso |   Nota |\n",
       "|---:|:-------------|:------------|-------:|-------:|\n",
       "|  0 | group_having | ex01        |      1 |     10 |\n",
       "|  1 | group_having | ex02        |      4 |     10 |\n",
       "|  2 | group_having | ex03        |      4 |     10 |\n",
       "|  3 | group_having | ex04        |      4 |     10 |\n",
       "|  4 | group_having | ex05        |      4 |     10 |\n",
       "|  5 | group_having | ex06        |      8 |     10 |\n",
       "|  6 | group_having | ex07        |      6 |     10 |\n",
       "|  7 | group_having | ex08        |      6 |     10 |\n",
       "|  8 | group_having | ex09        |     12 |      0 |\n",
       "|  9 | group_having | ex10        |     10 |      0 |\n",
       "| 10 | group_having | ex11        |     10 |      0 |\n",
       "| 11 | group_having | ex12        |      6 |      0 |\n",
       "| 12 | group_having | ex13        |     12 |      0 |"
      ],
      "text/plain": [
       "<IPython.core.display.Markdown object>"
      ]
     },
     "metadata": {},
     "output_type": "display_data"
    }
   ],
   "source": [
    "ia.grades(task=\"group_having\")"
   ]
  },
  {
   "cell_type": "markdown",
   "metadata": {},
   "source": [
    "## Aquecimento"
   ]
  },
  {
   "cell_type": "markdown",
   "metadata": {},
   "source": [
    "**Exercício 1**: Quais os nomes das categorias de filme? Ordene de forma crescente."
   ]
  },
  {
   "cell_type": "code",
   "execution_count": 4,
   "metadata": {},
   "outputs": [
    {
     "name": "stdout",
     "output_type": "stream",
     "text": [
      "Executando query:\n",
      "('Action',)\n",
      "('Animation',)\n",
      "('Children',)\n",
      "('Classics',)\n",
      "('Comedy',)\n",
      "('Documentary',)\n",
      "('Drama',)\n",
      "('Family',)\n",
      "('Foreign',)\n",
      "('Games',)\n",
      "('Horror',)\n",
      "('Music',)\n",
      "('New',)\n",
      "('Sci-Fi',)\n",
      "('Sports',)\n",
      "('Travel',)\n"
     ]
    }
   ],
   "source": [
    "sql_ex01 = '''\n",
    "SELECT name FROM sakila.category ORDER BY name ASC;\n",
    "'''\n",
    "\n",
    "db(sql_ex01)"
   ]
  },
  {
   "cell_type": "code",
   "execution_count": 5,
   "metadata": {},
   "outputs": [
    {
     "data": {
      "application/vnd.jupyter.widget-view+json": {
       "model_id": "c412941836ca43f98bd3aab84cbb0f56",
       "version_major": 2,
       "version_minor": 0
      },
      "text/plain": [
       "interactive(children=(Button(description='Enviar ex01', style=ButtonStyle()), Output()), _dom_classes=('widget…"
      ]
     },
     "execution_count": 5,
     "metadata": {},
     "output_type": "execute_result"
    }
   ],
   "source": [
    "ia.sender(answer='sql_ex01', task='group_having', question='ex01', answer_type='pyvar')"
   ]
  },
  {
   "cell_type": "markdown",
   "metadata": {},
   "source": [
    "**Exercício 2**: Quais atores tem as iniciais \"J.D.\"? Exiba todos os atributos. Ordene de forma crescente pelo primeiro nome."
   ]
  },
  {
   "cell_type": "code",
   "execution_count": 9,
   "metadata": {},
   "outputs": [
    {
     "name": "stdout",
     "output_type": "stream",
     "text": [
      "Executando query:\n",
      "(4, 'JENNIFER', 'DAVIS', datetime.datetime(2006, 2, 15, 4, 34, 33))\n",
      "(41, 'JODIE', 'DEGENERES', datetime.datetime(2006, 2, 15, 4, 34, 33))\n",
      "(35, 'JUDY', 'DEAN', datetime.datetime(2006, 2, 15, 4, 34, 33))\n",
      "(123, 'JULIANNE', 'DENCH', datetime.datetime(2006, 2, 15, 4, 34, 33))\n"
     ]
    }
   ],
   "source": [
    "sql_ex02 = '''\n",
    "SELECT * FROM sakila.actor WHERE first_name LIKE 'J%' AND last_name LIKE 'D%' ORDER BY first_name ASC;\n",
    "'''\n",
    "\n",
    "db(sql_ex02)"
   ]
  },
  {
   "cell_type": "code",
   "execution_count": 10,
   "metadata": {},
   "outputs": [
    {
     "data": {
      "application/vnd.jupyter.widget-view+json": {
       "model_id": "921dddd77fa144ca8fac86856e076452",
       "version_major": 2,
       "version_minor": 0
      },
      "text/plain": [
       "interactive(children=(Button(description='Enviar ex02', style=ButtonStyle()), Output()), _dom_classes=('widget…"
      ]
     },
     "execution_count": 10,
     "metadata": {},
     "output_type": "execute_result"
    }
   ],
   "source": [
    "ia.sender(answer='sql_ex02', task='group_having', question='ex02', answer_type='pyvar')"
   ]
  },
  {
   "cell_type": "markdown",
   "metadata": {},
   "source": [
    "**Exercício 3**: Liste as cidades brasileiras presentes na base de dados. Ordene de forma decrescente."
   ]
  },
  {
   "cell_type": "code",
   "execution_count": 13,
   "metadata": {},
   "outputs": [
    {
     "name": "stdout",
     "output_type": "stream",
     "text": [
      "Executando query:\n",
      "('Vitória de Santo Antão',)\n",
      "('Vila Velha',)\n",
      "('Sorocaba',)\n",
      "('São Leopoldo',)\n",
      "('São Bernardo do Campo',)\n",
      "('Santo André',)\n",
      "('Santa Brbara dOeste',)\n",
      "('Rio Claro',)\n",
      "('Poços de Caldas',)\n",
      "('Poá',)\n",
      "('Maringá',)\n",
      "('Luziânia',)\n",
      "('Juiz de Fora',)\n",
      "('Juazeiro do Norte',)\n",
      "('Ibirité',)\n",
      "('Guarujá',)\n",
      "('Goiânia',)\n",
      "('Brasília',)\n",
      "('Boa Vista',)\n",
      "('Blumenau',)\n",
      "('Belém',)\n",
      "('Bagé',)\n",
      "('Araçatuba',)\n",
      "('Aparecida de Goiânia',)\n",
      "('Angra dos Reis',)\n",
      "('Anápolis',)\n",
      "('Alvorada',)\n",
      "('Águas Lindas de Goiás',)\n"
     ]
    }
   ],
   "source": [
    "sql_ex03 = '''\n",
    "SELECT city FROM sakila.city WHERE country_id IN (SELECT country_id FROM sakila.country WHERE country LIKE 'Brazil') ORDER BY city DESC;\n",
    "'''\n",
    "\n",
    "db(sql_ex03)"
   ]
  },
  {
   "cell_type": "code",
   "execution_count": 14,
   "metadata": {},
   "outputs": [
    {
     "data": {
      "application/vnd.jupyter.widget-view+json": {
       "model_id": "04e18c810a9e4393b1ecdb109eeeee70",
       "version_major": 2,
       "version_minor": 0
      },
      "text/plain": [
       "interactive(children=(Button(description='Enviar ex03', style=ButtonStyle()), Output()), _dom_classes=('widget…"
      ]
     },
     "execution_count": 14,
     "metadata": {},
     "output_type": "execute_result"
    }
   ],
   "source": [
    "ia.sender(answer='sql_ex03', task='group_having', question='ex03', answer_type='pyvar')"
   ]
  },
  {
   "cell_type": "markdown",
   "metadata": {},
   "source": [
    "**Exercício 4**: *Quantas* cidades brasileiras tem na base de dados? Renomeie para `qt_city`"
   ]
  },
  {
   "cell_type": "code",
   "execution_count": 20,
   "metadata": {},
   "outputs": [
    {
     "name": "stdout",
     "output_type": "stream",
     "text": [
      "Executando query:\n",
      "(28,)\n"
     ]
    }
   ],
   "source": [
    "sql_ex04 = '''\n",
    "SELECT COUNT(*) AS qt_city FROM sakila.city WHERE country_id IN (SELECT country_id FROM sakila.country WHERE country LIKE 'Brazil');\n",
    "'''\n",
    "\n",
    "db(sql_ex04)"
   ]
  },
  {
   "cell_type": "code",
   "execution_count": 21,
   "metadata": {},
   "outputs": [
    {
     "data": {
      "application/vnd.jupyter.widget-view+json": {
       "model_id": "da0dc8fecfe841f8969b314c1d1d656b",
       "version_major": 2,
       "version_minor": 0
      },
      "text/plain": [
       "interactive(children=(Button(description='Enviar ex04', style=ButtonStyle()), Output()), _dom_classes=('widget…"
      ]
     },
     "execution_count": 21,
     "metadata": {},
     "output_type": "execute_result"
    }
   ],
   "source": [
    "ia.sender(answer='sql_ex04', task='group_having', question='ex04', answer_type='pyvar')"
   ]
  },
  {
   "cell_type": "markdown",
   "metadata": {},
   "source": [
    "**Exercício 5**: Liste os filmes do ator (fictício) \"Dan Harris\". Ordene de forma crescente. Renomeie para `movie_title`."
   ]
  },
  {
   "cell_type": "code",
   "execution_count": 26,
   "metadata": {},
   "outputs": [
    {
     "name": "stdout",
     "output_type": "stream",
     "text": [
      "Executando query:\n",
      "('BEDAZZLED MARRIED',)\n",
      "('BOONDOCK BALLROOM',)\n",
      "('DESTINY SATURDAY',)\n",
      "('DIVINE RESURRECTION',)\n",
      "('EYES DRIVING',)\n",
      "('FELLOWSHIP AUTUMN',)\n",
      "('GHOST GROUNDHOG',)\n",
      "('GROOVE FICTION',)\n",
      "('HILLS NEIGHBORS',)\n",
      "('HOLIDAY GAMES',)\n",
      "('INDEPENDENCE HOTEL',)\n",
      "('INSIDER ARIZONA',)\n",
      "('JADE BUNCH',)\n",
      "('LIES TREATMENT',)\n",
      "('MONTEREY LABYRINTH',)\n",
      "('REUNION WITCHES',)\n",
      "('RUN PACIFIC',)\n",
      "('SCHOOL JACKET',)\n",
      "('SEVEN SWARM',)\n",
      "('SIEGE MADRE',)\n",
      "('STEERS ARMAGEDDON',)\n",
      "('STRAIGHT HOURS',)\n",
      "('SUMMER SCARFACE',)\n",
      "('SUPERFLY TRIP',)\n",
      "('TITANIC BOONDOCK',)\n",
      "('TITANS JERK',)\n",
      "('VANISHING ROCKY',)\n",
      "('WATERSHIP FRONTIER',)\n"
     ]
    }
   ],
   "source": [
    "sql_ex05 = '''\n",
    "SELECT title AS movie_title FROM sakila.film WHERE film_id IN \n",
    "(SELECT film_id FROM sakila.film_actor WHERE actor_id IN (SELECT actor_id FROM sakila.actor WHERE first_name LIKE 'DAN' AND last_name LIKE 'HARRIS'));\n",
    "'''\n",
    "\n",
    "db(sql_ex05)"
   ]
  },
  {
   "cell_type": "code",
   "execution_count": 27,
   "metadata": {},
   "outputs": [
    {
     "data": {
      "application/vnd.jupyter.widget-view+json": {
       "model_id": "c18c1549d8de418fb7544656aefa067f",
       "version_major": 2,
       "version_minor": 0
      },
      "text/plain": [
       "interactive(children=(Button(description='Enviar ex05', style=ButtonStyle()), Output()), _dom_classes=('widget…"
      ]
     },
     "execution_count": 27,
     "metadata": {},
     "output_type": "execute_result"
    }
   ],
   "source": [
    "ia.sender(answer=\"sql_ex05\", task=\"group_having\", question=\"ex05\", answer_type=\"pyvar\")"
   ]
  },
  {
   "cell_type": "markdown",
   "metadata": {},
   "source": [
    "**Exercício 6**: Quais filmes estão alugados por Florence Woods?\n",
    "\n",
    "Retorne:\n",
    "- O primeiro nome\n",
    "- O sobrenome\n",
    "- O id do cliente\n",
    "- O título do filme\n",
    "\n",
    "Ordene pelo:\n",
    "- Título do filme, decrescente"
   ]
  },
  {
   "cell_type": "code",
   "execution_count": 44,
   "metadata": {},
   "outputs": [
    {
     "name": "stdout",
     "output_type": "stream",
     "text": [
      "Executando query:\n",
      "('FLORENCE', 'WOODS', 107, 'CLUB GRAFFITI')\n",
      "('FLORENCE', 'WOODS', 107, 'BLADE POLISH')\n"
     ]
    }
   ],
   "source": [
    "sql_ex06 = '''\n",
    "SELECT customer.first_name, customer.last_name, customer.customer_id, film.title \n",
    "FROM sakila.customer, sakila.film, sakila.rental, sakila.inventory\n",
    "WHERE film.film_id = inventory.film_id\n",
    "AND inventory.inventory_id = rental.inventory_id\n",
    "AND rental.customer_id = customer.customer_id\n",
    "AND customer.first_name LIKE 'FLORENCE' AND customer.last_name LIKE 'WOODS'\n",
    "AND rental.return_date IS NULL;\n",
    "'''\n",
    "\n",
    "db(sql_ex06)"
   ]
  },
  {
   "cell_type": "code",
   "execution_count": 45,
   "metadata": {},
   "outputs": [
    {
     "data": {
      "application/vnd.jupyter.widget-view+json": {
       "model_id": "aee663171f514383af7259a82f6dd45c",
       "version_major": 2,
       "version_minor": 0
      },
      "text/plain": [
       "interactive(children=(Button(description='Enviar ex06', style=ButtonStyle()), Output()), _dom_classes=('widget…"
      ]
     },
     "execution_count": 45,
     "metadata": {},
     "output_type": "execute_result"
    }
   ],
   "source": [
    "ia.sender(answer=\"sql_ex06\", task=\"group_having\", question=\"ex06\", answer_type=\"pyvar\")"
   ]
  },
  {
   "cell_type": "markdown",
   "metadata": {},
   "source": [
    "**Exercício 7**: Para quais línguas não tem nenhum filme na locadora? Ordene de forma crescente.\n",
    "\n",
    "**Dica**: use `LEFT OUTER JOIN`"
   ]
  },
  {
   "cell_type": "code",
   "execution_count": 48,
   "metadata": {},
   "outputs": [
    {
     "name": "stdout",
     "output_type": "stream",
     "text": [
      "Executando query:\n",
      "('French',)\n",
      "('German',)\n",
      "('Italian',)\n",
      "('Japanese',)\n",
      "('Mandarin',)\n"
     ]
    }
   ],
   "source": [
    "sql_ex07 = '''\n",
    "SELECT name FROM language WHERE language_id > 1 ORDER BY name ASC;\n",
    "'''\n",
    "\n",
    "db(sql_ex07)"
   ]
  },
  {
   "cell_type": "code",
   "execution_count": 49,
   "metadata": {},
   "outputs": [
    {
     "data": {
      "application/vnd.jupyter.widget-view+json": {
       "model_id": "8fc0793e32ff40bdb9acbfe5130e8767",
       "version_major": 2,
       "version_minor": 0
      },
      "text/plain": [
       "interactive(children=(Button(description='Enviar ex07', style=ButtonStyle()), Output()), _dom_classes=('widget…"
      ]
     },
     "execution_count": 49,
     "metadata": {},
     "output_type": "execute_result"
    }
   ],
   "source": [
    "ia.sender(answer=\"sql_ex07\", task=\"group_having\", question=\"ex07\", answer_type=\"pyvar\")"
   ]
  },
  {
   "cell_type": "markdown",
   "metadata": {},
   "source": [
    "## `DISTINCT`"
   ]
  },
  {
   "cell_type": "markdown",
   "metadata": {},
   "source": [
    "As vezes desejamos consultar quais os valores distintos de uma coluna. Para isso usamos o qualificador `DISTINCT`. \n",
    "\n",
    "Por exemplo: Quais os anos de lançamento dos filmes da base? "
   ]
  },
  {
   "cell_type": "code",
   "execution_count": 50,
   "metadata": {
    "scrolled": true
   },
   "outputs": [
    {
     "name": "stdout",
     "output_type": "stream",
     "text": [
      "Executando query:\n",
      "(2006,)\n",
      "(2006,)\n",
      "(2006,)\n",
      "(2006,)\n",
      "(2006,)\n",
      "(2006,)\n",
      "(2006,)\n",
      "(2006,)\n",
      "(2006,)\n",
      "(2006,)\n",
      "(2006,)\n",
      "(2006,)\n",
      "(2006,)\n",
      "(2006,)\n",
      "(2006,)\n",
      "(2006,)\n",
      "(2006,)\n",
      "(2006,)\n",
      "(2006,)\n",
      "(2006,)\n"
     ]
    }
   ],
   "source": [
    "# Vai aparecer muitas cópias de '(2006,)'\n",
    "db('SELECT release_year FROM film LIMIT 20')"
   ]
  },
  {
   "cell_type": "markdown",
   "metadata": {},
   "source": [
    "Ops, parece que não tem muita variedade nesta base! Usando `DISTINCT` podemos limpar esse resultado:"
   ]
  },
  {
   "cell_type": "code",
   "execution_count": 51,
   "metadata": {},
   "outputs": [
    {
     "name": "stdout",
     "output_type": "stream",
     "text": [
      "Executando query:\n",
      "(2006,)\n"
     ]
    }
   ],
   "source": [
    "db('SELECT DISTINCT release_year FROM film')"
   ]
  },
  {
   "cell_type": "markdown",
   "metadata": {},
   "source": [
    "### Praticando"
   ]
  },
  {
   "cell_type": "markdown",
   "metadata": {},
   "source": [
    "**Exercício 8**: Quais clientes estão alugando um DVD agora? Ordene pelo nome e sobrenome. Retorne o id, nome e sobrenome do cliente."
   ]
  },
  {
   "cell_type": "code",
   "execution_count": 54,
   "metadata": {},
   "outputs": [
    {
     "name": "stdout",
     "output_type": "stream",
     "text": [
      "Executando query:\n",
      "(525, 'ADRIAN', 'CLARY')\n",
      "(352, 'ALBERT', 'CROUSE')\n",
      "(568, 'ALBERTO', 'HENNING')\n",
      "(152, 'ALICIA', 'MILLS')\n",
      "(548, 'ALLAN', 'CORNISH')\n",
      "(412, 'ALLEN', 'BUTTERFIELD')\n",
      "(228, 'ALLISON', 'STANLEY')\n",
      "(181, 'ANA', 'BRADLEY')\n",
      "(582, 'ANDY', 'VANHORN')\n",
      "(29, 'ANGELA', 'HERNANDEZ')\n",
      "(33, 'ANNA', 'HILL')\n",
      "(175, 'ANNETTE', 'OLSON')\n",
      "(142, 'APRIL', 'BURNS')\n",
      "(438, 'BARRY', 'LOVELACE')\n",
      "(287, 'BECKY', 'MILES')\n",
      "(440, 'BERNARD', 'COLBY')\n",
      "(199, 'BETH', 'FRANKLIN')\n",
      "(14, 'BETTY', 'WHITE')\n",
      "(73, 'BEVERLY', 'BROOKS')\n",
      "(457, 'BILL', 'GAVIN')\n",
      "(366, 'BRANDON', 'HUEY')\n",
      "(493, 'BRENT', 'HARKINS')\n",
      "(111, 'CARMEN', 'OWENS')\n",
      "(42, 'CAROLYN', 'PEREZ')\n",
      "(269, 'CASSANDRA', 'WALTERS')\n",
      "(163, 'CATHY', 'SPENCER')\n",
      "(512, 'CECIL', 'VINES')\n",
      "(495, 'CHARLIE', 'BESS')\n",
      "(394, 'CHRIS', 'BROTHERS')\n",
      "(534, 'CHRISTIAN', 'JUNG')\n",
      "(43, 'CHRISTINE', 'ROBERTS')\n",
      "(234, 'CLAUDIA', 'FULLER')\n",
      "(537, 'CLINTON', 'BUFORD')\n",
      "(227, 'COLLEEN', 'BURTON')\n",
      "(527, 'CORY', 'MEEHAN')\n",
      "(245, 'COURTNEY', 'DAY')\n",
      "(388, 'CRAIG', 'MORRELL')\n",
      "(410, 'CURTIS', 'IRBY')\n",
      "(28, 'CYNTHIA', 'YOUNG')\n",
      "(295, 'DAISY', 'BATES')\n",
      "(530, 'DARRYL', 'ASHCRAFT')\n",
      "(579, 'DARYL', 'LARUE')\n",
      "(476, 'DERRICK', 'BOURQUE')\n",
      "(279, 'DIANNE', 'SHELTON')\n",
      "(474, 'DUSTIN', 'GILLETTE')\n",
      "(554, 'DWAYNE', 'OLVERA')\n",
      "(317, 'EDWARD', 'BAUGH')\n",
      "(5, 'ELIZABETH', 'BROWN')\n",
      "(516, 'ELMER', 'NOE')\n",
      "(99, 'EMILY', 'DIAZ')\n",
      "(596, 'ENRIQUE', 'FORSYTHE')\n",
      "(557, 'FELIX', 'GAFFNEY')\n",
      "(107, 'FLORENCE', 'WOODS')\n",
      "(369, 'FRED', 'WHEAT')\n",
      "(597, 'FREDDIE', 'DUGGAN')\n",
      "(155, 'GAIL', 'KNIGHT')\n",
      "(324, 'GARY', 'COY')\n",
      "(497, 'GILBERT', 'SLEDGE')\n",
      "(213, 'GINA', 'WILLIAMSON')\n",
      "(56, 'GLORIA', 'COOK')\n",
      "(114, 'GRACE', 'ELLIS')\n",
      "(472, 'GREG', 'ROBINS')\n",
      "(335, 'GREGORY', 'MAULDIN')\n",
      "(550, 'GUY', 'BROWNLEE')\n",
      "(264, 'GWENDOLYN', 'MAY')\n",
      "(53, 'HEATHER', 'MORRIS')\n",
      "(15, 'HELEN', 'HARRIS')\n",
      "(263, 'HILDA', 'HOPKINS')\n",
      "(186, 'HOLLY', 'FOX')\n",
      "(561, 'IAN', 'STILL')\n",
      "(570, 'IVAN', 'CROMWELL')\n",
      "(450, 'JAY', 'ROBB')\n",
      "(58, 'JEAN', 'BELL')\n",
      "(191, 'JEANETTE', 'GREENE')\n",
      "(200, 'JEANNE', 'LAWSON')\n",
      "(282, 'JENNY', 'CASTRO')\n",
      "(374, 'JEREMY', 'HURTADO')\n",
      "(337, 'JERRY', 'JORDON')\n",
      "(215, 'JESSIE', 'BANKS')\n",
      "(533, 'JESSIE', 'MILAM')\n",
      "(349, 'JOE', 'GILLILAND')\n",
      "(431, 'JOEL', 'FRANCISCO')\n",
      "(300, 'JOHN', 'FARNSWORTH')\n",
      "(560, 'JORDAN', 'ARCHULETA')\n",
      "(336, 'JOSHUA', 'MARK')\n",
      "(135, 'JUANITA', 'MASON')\n",
      "(64, 'JUDITH', 'COX')\n",
      "(69, 'JUDY', 'GRAY')\n",
      "(52, 'JULIE', 'SANCHEZ')\n",
      "(354, 'JUSTIN', 'NGO')\n",
      "(193, 'KATIE', 'ELLIOTT')\n",
      "(315, 'KENNETH', 'GOODEN')\n",
      "(214, 'KRISTIN', 'JOHNSTON')\n",
      "(424, 'KYLE', 'SPURLOCK')\n",
      "(327, 'LARRY', 'THRASHER')\n",
      "(22, 'LAURA', 'RODRIGUEZ')\n",
      "(162, 'LAUREN', 'HUDSON')\n",
      "(192, 'LAURIE', 'LAWRENCE')\n",
      "(361, 'LAWRENCE', 'LAWTON')\n",
      "(421, 'LEE', 'HAWKS')\n",
      "(405, 'LEONARD', 'SCHOFIELD')\n",
      "(11, 'LISA', 'ANDERSON')\n",
      "(91, 'LOIS', 'BUTLER')\n",
      "(373, 'LOUIS', 'LEONE')\n",
      "(83, 'LOUISE', 'JENKINS')\n",
      "(208, 'LUCY', 'WHEELER')\n",
      "(236, 'MARCIA', 'DEAN')\n",
      "(9, 'MARGARET', 'MOORE')\n",
      "(267, 'MARGIE', 'WADE')\n",
      "(44, 'MARIE', 'TURNER')\n",
      "(80, 'MARILYN', 'ROSS')\n",
      "(441, 'MARIO', 'CHEATHAM')\n",
      "(178, 'MARION', 'SNYDER')\n",
      "(252, 'MATTIE', 'HOFFMAN')\n",
      "(188, 'MELANIE', 'ARMSTRONG')\n",
      "(422, 'MELVIN', 'ELLINGTON')\n",
      "(21, 'MICHELLE', 'CLARK')\n",
      "(448, 'MIGUEL', 'BETANCOURT')\n",
      "(60, 'MILDRED', 'BAILEY')\n",
      "(508, 'MILTON', 'HOWLAND')\n",
      "(576, 'MORRIS', 'MCCARTER')\n",
      "(274, 'NAOMI', 'JENNINGS')\n",
      "(216, 'NATALIE', 'MEYER')\n",
      "(532, 'NEIL', 'RENNER')\n",
      "(94, 'NORMA', 'GONZALES')\n",
      "(411, 'NORMAN', 'CURRIER')\n",
      "(101, 'PEGGY', 'MYERS')\n",
      "(585, 'PERRY', 'SWAFFORD')\n",
      "(505, 'RAFAEL', 'ABNEY')\n",
      "(296, 'RAMONA', 'HALE')\n",
      "(334, 'RAYMOND', 'MCWHORTER')\n",
      "(168, 'REGINA', 'BERRY')\n",
      "(100, 'ROBIN', 'HAYES')\n",
      "(521, 'ROLAND', 'SOUTH')\n",
      "(23, 'SARAH', 'LEWIS')\n",
      "(330, 'SCOTT', 'SHELLEY')\n",
      "(587, 'SERGIO', 'STANFIELD')\n",
      "(590, 'SETH', 'HANNON')\n",
      "(284, 'SONIA', 'GREGORY')\n",
      "(211, 'STACEY', 'MONTGOMERY')\n",
      "(180, 'STACY', 'CUNNINGHAM')\n",
      "(41, 'STEPHANIE', 'MITCHELL')\n",
      "(120, 'SYLVIA', 'ORTIZ')\n",
      "(229, 'TAMARA', 'NGUYEN')\n",
      "(75, 'TAMMY', 'SANDERS')\n",
      "(592, 'TERRANCE', 'ROUSH')\n",
      "(355, 'TERRY', 'GRISSOM')\n",
      "(452, 'TOM', 'MILNER')\n",
      "(108, 'TRACY', 'COLE')\n",
      "(417, 'TRAVIS', 'ESTEP')\n",
      "(496, 'TYLER', 'WREN')\n",
      "(251, 'VICKIE', 'BREWER')\n",
      "(244, 'VIOLA', 'HANSON')\n",
      "(87, 'WANDA', 'PATTERSON')\n",
      "(115, 'WENDY', 'HARRISON')\n",
      "(219, 'WILLIE', 'HOWELL')\n",
      "(359, 'WILLIE', 'MARKHAM')\n",
      "(190, 'YOLANDA', 'WEAVER')\n",
      "(479, 'ZACHARY', 'HITE')\n"
     ]
    }
   ],
   "source": [
    "sql_ex08 = '''\n",
    "SELECT DISTINCT customer.customer_id, customer.first_name, customer.last_name \n",
    "FROM sakila.customer, sakila.film, sakila.rental, sakila.inventory\n",
    "WHERE film.film_id = inventory.film_id\n",
    "AND inventory.inventory_id = rental.inventory_id\n",
    "AND rental.customer_id = customer.customer_id\n",
    "AND rental.return_date IS NULL\n",
    "ORDER BY customer.first_name ASC, customer.last_name ASC;\n",
    "'''\n",
    "\n",
    "db(sql_ex08)"
   ]
  },
  {
   "cell_type": "code",
   "execution_count": 55,
   "metadata": {},
   "outputs": [
    {
     "data": {
      "application/vnd.jupyter.widget-view+json": {
       "model_id": "18c8b69e0b5f4e689c5423c4a99652ad",
       "version_major": 2,
       "version_minor": 0
      },
      "text/plain": [
       "interactive(children=(Button(description='Enviar ex08', style=ButtonStyle()), Output()), _dom_classes=('widget…"
      ]
     },
     "execution_count": 55,
     "metadata": {},
     "output_type": "execute_result"
    }
   ],
   "source": [
    "ia.sender(answer=\"sql_ex08\", task=\"group_having\", question=\"ex08\", answer_type=\"pyvar\")"
   ]
  },
  {
   "cell_type": "markdown",
   "metadata": {},
   "source": [
    "## Agrupamento"
   ]
  },
  {
   "cell_type": "markdown",
   "metadata": {},
   "source": [
    "Uma das características mais valiosas de banco de dados é o *agrupamento*. Podemos agrupar os resultados de uma query indicando uma coluna cujos valores serão usados para agrupar os dados.\n",
    "\n",
    "Por exemplo, considere a seguinte tabela, que chamaremos de `vendas`:\n",
    "\n",
    "| id | id_item | item | preco |\n",
    "|--|--|--|--|\n",
    "| 1 | 1 | A | 5 |\n",
    "| 2 | 2 | B | 6 |\n",
    "| 3 | 1 | A | 3 |\n",
    "| 4 | 3 | C | 7 |\n",
    "| 5 | 3 | C | 5 |\n",
    "| 6 | 1 | A | 2 |\n",
    "\n",
    "Se agruparmos pela coluna `id_item` teremos 3 conjuntos de resultados:\n",
    "\n",
    "id_item = 1:\n",
    "\n",
    "| id | id_item | item | preco |\n",
    "|--|--|--|--|\n",
    "| 1 | 1 | A | 5 |\n",
    "| 3 | 1 | A | 3 |\n",
    "| 6 | 1 | A | 2 |\n",
    "\n",
    "id_item = 2:\n",
    "\n",
    "| id | id_item | item | preco |\n",
    "|--|--|--|--|\n",
    "| 2 | 2 | B | 6 |\n",
    "\n",
    "id_item = 3:\n",
    "\n",
    "| id | id_item | item | preco |\n",
    "|--|--|--|--|\n",
    "| 4 | 3 | C | 7 |\n",
    "| 5 | 3 | C | 5 |\n",
    "\n",
    "É como se tivessemos uma lista de tabelas! Isso não é permitido em SQL. Temos que **resumir** a informação de cada uma das tabelas a uma linha só, o que significa que, para cada coluna, devemos escolher uma dessas opções:\n",
    "- Resumir a informação da coluna usando uma **função de grupo**. Podemos somar, tirar a média, contar itens, concatená-los em uma única string, entre outras;\n",
    "- Para colunas que se relacionam 1 para 1 com a coluna de agrupamento (como a coluna de agrupamento em si, ou a coluna `item` neste exemplo), manter este valor. Isso acontece frequentemente quando fazemos `JOIN`.\n",
    "- Não incluir a coluna, caso contrário.\n",
    "\n",
    "Neste exemplo, podemos tomar a seguinte decisão para cada coluna:\n",
    "- `id`: descartar\n",
    "- `id_item`: manter valor\n",
    "- `item`: manter valor\n",
    "- `preco`: vamos calcular a soma dos valores, e renomear esta informação para `total`\n",
    "\n",
    "Com isso, obtemos a seguinte tabela:\n",
    "\n",
    "| id_item | item | total |\n",
    "|--|--|--|\n",
    "| 1 | A | 10 |\n",
    "| 2 | B | 6 |\n",
    "| 3 | C | 12 |\n",
    "\n",
    "Por fim, se não queremos id_item, ficamos com a seguinte tabela:\n",
    "\n",
    "| item | total |\n",
    "|--|--|\n",
    "| A | 10 |\n",
    "| B | 6 |\n",
    "| C | 12 |\n",
    "\n",
    "Para obter essa tabela podemos usar o seguinte comando SQL:\n",
    "\n",
    "```SQL\n",
    "SELECT \n",
    "    item, SUM(preco) as total \n",
    "FROM \n",
    "    vendas\n",
    "GROUP BY\n",
    "    id_item\n",
    "```\n",
    "\n",
    "Consulte o capítulo 9 do seu livro texto para conhecer mais sobre agrupamentos."
   ]
  },
  {
   "cell_type": "markdown",
   "metadata": {},
   "source": [
    "### Praticando"
   ]
  },
  {
   "cell_type": "markdown",
   "metadata": {},
   "source": [
    "**Exercício 9**: Quais os 10 atores que mais apareceram em filmes?\n",
    "\n",
    "Retorne o id, nome, sobrenome e a quantidade de filmes que o ator atua.\n",
    "\n",
    "Ordene de forma descrescente pela quantidade."
   ]
  },
  {
   "cell_type": "code",
   "execution_count": null,
   "metadata": {},
   "outputs": [],
   "source": [
    "sql_ex09 = '''\n",
    "-- SUA QUERY AQUI!\n",
    "'''\n",
    "\n",
    "db(sql_ex09)"
   ]
  },
  {
   "cell_type": "code",
   "execution_count": null,
   "metadata": {},
   "outputs": [],
   "source": [
    "ia.sender(answer=\"sql_ex09\", task=\"group_having\", question=\"ex09\", answer_type=\"pyvar\")"
   ]
  },
  {
   "cell_type": "markdown",
   "metadata": {},
   "source": [
    "## Pipeline do comando `SELECT`"
   ]
  },
  {
   "cell_type": "markdown",
   "metadata": {},
   "source": [
    "Uma versão mais completa do `SELECT` (mas não inteiramente completa - consulte o manual do MySQL) é vista abaixo:\n",
    "\n",
    "```\n",
    "SELECT [DISTINCT] <select_header> \n",
    "FROM <source_tables>\n",
    "WHERE <filter_expression>\n",
    "GROUP BY <grouping_expressions>\n",
    "HAVING <filter_expression>\n",
    "ORDER BY <ordering_expressions>\n",
    "LIMIT <count> \n",
    "OFFSET <count>\n",
    "```\n",
    "\n",
    "Você já deve ter percebido que o comando `SELECT` tem uma sequência própria de avaliação. Por exemplo, para saber quais filmes custam mais que 3 dinheiros, podemos escrever:"
   ]
  },
  {
   "cell_type": "code",
   "execution_count": null,
   "metadata": {},
   "outputs": [],
   "source": [
    "db('''\n",
    "SELECT \n",
    "    COUNT(f.rental_rate)\n",
    "FROM\n",
    "    film f\n",
    "WHERE\n",
    "    f.rental_rate > 3\n",
    "''')"
   ]
  },
  {
   "cell_type": "markdown",
   "metadata": {},
   "source": [
    "Observe que o 'apelido' f para a tabela 'film' é definido na cláusula `FROM`, mas usado em `SELECT` e também em `WHERE`.\n",
    "\n",
    "A ordem de execução do comando `SELECT` é aproximadamente como segue:\n",
    "\n",
    "1. `FROM <source_tables>`: indica as tabelas que serão usadas nesta query e, conceitualmente, combina estas tabelas através de *produto cartesiano* em uma grande tabela. (Note o termo \"*conceitualmente*\" que usei: em termos de implementação da query este produto cartesiano raramente é construído.)\n",
    "\n",
    "2. `WHERE <filter_expression>`: filtra linhas.\n",
    "\n",
    "3. `GROUP BY <grouping_expressions>`: agrupa conjuntos de linhas.\n",
    "\n",
    "4. `SELECT <select_heading>`: escolha de colunas e de agregados.\n",
    "\n",
    "5. `HAVING <filter_expression>`: outra filtragem, esta aplicada apenas **depois** da agregação. Pode usar resultados do processo de agregação. Obriga o uso de `GROUP BY`.\n",
    "\n",
    "6. `DISTINCT`: Elimina linhas duplicadas.\n",
    "\n",
    "7. `ORDER BY`: ordena as linhas do resultado.\n",
    "\n",
    "8. `OFFSET <count>`: Pula linhas do resultado. Requer LIMIT.\n",
    "\n",
    "9. `LIMIT <count>`: Mantém apenas um número máximo de linhas.\n",
    "\n",
    "Esta sequencia também serve como dica de como projetar uma query! \n",
    "- Comece identificando as tabelas que você deseja usar\n",
    "- Monte o filtro de linhas, incluindo critérios de `JOIN`\n",
    "- Agrupe\n",
    "- Selecione colunas e aplique funções de agregação, conforme necessário\n",
    "- Filtre com `HAVING`, agora que temos agregação\n",
    "- O resto é mais fácil, aplique conforme requerido"
   ]
  },
  {
   "cell_type": "markdown",
   "metadata": {},
   "source": [
    "## `WHERE` versus `HAVING`"
   ]
  },
  {
   "cell_type": "markdown",
   "metadata": {},
   "source": [
    "Conforme visto acima, temos a cláusula `HAVING` para fazer filtragens *APÓS* agregação. Para que serve isso? Por exemplo, suponha que queremos saber quais atores não compartilham seu sobrenome com nenhum outro ator. Podemos usar a quer a seguir:"
   ]
  },
  {
   "cell_type": "code",
   "execution_count": null,
   "metadata": {
    "scrolled": true
   },
   "outputs": [],
   "source": [
    "db('''\n",
    "SELECT \n",
    "    a.first_name, a.last_name\n",
    "FROM \n",
    "    actor a \n",
    "GROUP BY \n",
    "    a.last_name\n",
    "HAVING\n",
    "    COUNT(a.first_name) = 1\n",
    "ORDER BY\n",
    "    a.last_name, a.first_name\n",
    "''')"
   ]
  },
  {
   "cell_type": "markdown",
   "metadata": {},
   "source": [
    "## Praticando"
   ]
  },
  {
   "cell_type": "markdown",
   "metadata": {},
   "source": [
    "**Exercício 10**: Liste a duração média dos filmes na categoria 'Drama'. Renomeie o atributo retornado para `duracao_media_drama`."
   ]
  },
  {
   "cell_type": "code",
   "execution_count": null,
   "metadata": {},
   "outputs": [],
   "source": [
    "sql_ex10 = '''\n",
    "-- SUA QUERY AQUI!\n",
    "'''\n",
    "\n",
    "db(sql_ex10)"
   ]
  },
  {
   "cell_type": "code",
   "execution_count": null,
   "metadata": {},
   "outputs": [],
   "source": [
    "ia.sender(answer=\"sql_ex10\", task=\"group_having\", question=\"ex10\", answer_type=\"pyvar\")"
   ]
  },
  {
   "cell_type": "markdown",
   "metadata": {},
   "source": [
    "**Exercício 11**: Liste o nome da categoria e a duração média dos filmes por categoria. Renomeie o atributo de média para `avg_len`. Ordene de forma decrescente por `avg_len`."
   ]
  },
  {
   "cell_type": "code",
   "execution_count": null,
   "metadata": {},
   "outputs": [],
   "source": [
    "sql_ex11 = '''\n",
    "-- SUA QUERY AQUI!\n",
    "'''\n",
    "\n",
    "db(sql_ex11)"
   ]
  },
  {
   "cell_type": "code",
   "execution_count": null,
   "metadata": {},
   "outputs": [],
   "source": [
    "ia.sender(answer=\"sql_ex11\", task=\"group_having\", question=\"ex11\", answer_type=\"pyvar\")"
   ]
  },
  {
   "cell_type": "markdown",
   "metadata": {},
   "source": [
    "**Exercício 12**: Liste o nome da categoria e a duração média dos filmes por categoria, apenas para categorias cuja duração média de filme excede 120 minutos. Renomeie o atributo de média para `avg_len`. Ordene de forma decrescente por `avg_len`."
   ]
  },
  {
   "cell_type": "code",
   "execution_count": null,
   "metadata": {},
   "outputs": [],
   "source": [
    "sql_ex12 = '''\n",
    "-- SUA QUERY AQUI!\n",
    "'''\n",
    "\n",
    "db(sql_ex12)"
   ]
  },
  {
   "cell_type": "code",
   "execution_count": null,
   "metadata": {},
   "outputs": [],
   "source": [
    "ia.sender(answer=\"sql_ex12\", task=\"group_having\", question=\"ex12\", answer_type=\"pyvar\")"
   ]
  },
  {
   "cell_type": "markdown",
   "metadata": {},
   "source": [
    "**Exercício 13**: Quais atores participaram de 35 a 40 filmes (intervalo fechado)?\n",
    "\n",
    "Retorne:\n",
    "\n",
    "- Nome\n",
    "- Sobrenome\n",
    "- Quantidade de filmes\n",
    "\n",
    "Ordene por:\n",
    "- Quantidade de filmes (Decrescente)\n",
    "- Se houver empate na quantidade de filmes, ordene de forma crescente pelo nome e sobrenome."
   ]
  },
  {
   "cell_type": "code",
   "execution_count": null,
   "metadata": {},
   "outputs": [],
   "source": [
    "sql_ex13 = '''\n",
    "-- SUA QUERY AQUI!\n",
    "'''\n",
    "\n",
    "db(sql_ex13)"
   ]
  },
  {
   "cell_type": "code",
   "execution_count": null,
   "metadata": {},
   "outputs": [],
   "source": [
    "ia.sender(answer=\"sql_ex13\", task=\"group_having\", question=\"ex13\", answer_type=\"pyvar\")"
   ]
  },
  {
   "cell_type": "markdown",
   "metadata": {},
   "source": [
    "# Conclusão"
   ]
  },
  {
   "cell_type": "markdown",
   "metadata": {},
   "source": [
    "Esta aula de hoje foi bastante densa! Dicas de estudo:\n",
    "\n",
    "- Pratique no seu livro-texto, capítulo 9. Lembre-se que a base 'música' pode ser usada para praticar os comandos SQL vistos no livro.\n",
    "- Tente criar queries que sirvam de exemplo para os conceitos do livro! A tarefa de criar exemplos é muito instrutiva!\n",
    "\n",
    "**Leitura prévia**:\n",
    "Para a próxima aula vamos continuar praticando, com os assuntos dos capítulos 10 e 11, prepare-se para a aula, ok?\n",
    "\n",
    "Até a próxima!"
   ]
  },
  {
   "cell_type": "code",
   "execution_count": null,
   "metadata": {},
   "outputs": [],
   "source": [
    "connection.close()"
   ]
  },
  {
   "cell_type": "markdown",
   "metadata": {},
   "source": [
    "## Conferir Notas\n",
    "\n",
    "Confira se as notas na atividade são as esperadas!\n",
    "\n",
    "Primeiro na atividade atual!"
   ]
  },
  {
   "cell_type": "code",
   "execution_count": null,
   "metadata": {},
   "outputs": [],
   "source": [
    "ia.grades(by=\"task\", task=\"group_having\")"
   ]
  },
  {
   "cell_type": "code",
   "execution_count": null,
   "metadata": {},
   "outputs": [],
   "source": [
    "ia.grades(task=\"group_having\")"
   ]
  },
  {
   "cell_type": "code",
   "execution_count": null,
   "metadata": {},
   "outputs": [],
   "source": [
    "ia.grades(by=\"task\")"
   ]
  }
 ],
 "metadata": {
  "kernelspec": {
   "display_name": "Python 3 (ipykernel)",
   "language": "python",
   "name": "python3"
  },
  "language_info": {
   "codemirror_mode": {
    "name": "ipython",
    "version": 3
   },
   "file_extension": ".py",
   "mimetype": "text/x-python",
   "name": "python",
   "nbconvert_exporter": "python",
   "pygments_lexer": "ipython3",
   "version": "3.11.0"
  }
 },
 "nbformat": 4,
 "nbformat_minor": 4
}
