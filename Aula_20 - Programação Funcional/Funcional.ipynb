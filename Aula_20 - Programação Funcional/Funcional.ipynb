{
 "cells": [
  {
   "cell_type": "markdown",
   "metadata": {},
   "source": [
    "# Demostração de cálculo lambda usando funções lambda do Python"
   ]
  },
  {
   "cell_type": "markdown",
   "metadata": {},
   "source": [
    "## O mecanismo de definição e aplicação de funções"
   ]
  },
  {
   "cell_type": "markdown",
   "metadata": {},
   "source": [
    "A função identidade $f(x) = x$\n",
    "\n",
    "$\\lambda x.x$"
   ]
  },
  {
   "cell_type": "code",
   "execution_count": null,
   "metadata": {},
   "outputs": [],
   "source": [
    "lambda x: x"
   ]
  },
  {
   "cell_type": "markdown",
   "metadata": {},
   "source": [
    "A função $f(x) = x + 1$ calculada no valor $10$\n",
    "\n",
    "$(\\lambda x.x+1)(10)$"
   ]
  },
  {
   "cell_type": "code",
   "execution_count": null,
   "metadata": {},
   "outputs": [],
   "source": [
    "(lambda x: x + 1)(10)"
   ]
  },
  {
   "cell_type": "markdown",
   "metadata": {},
   "source": [
    "Uma função de dois argumentos, na verdade, é uma função de um argumento $x$ que retorna uma função de um argumento $y$. Nesta função retornada o argumento $x$ aparece como uma constante.\n",
    "\n",
    "$\\lambda x.\\lambda y.x+y$"
   ]
  },
  {
   "cell_type": "code",
   "execution_count": null,
   "metadata": {},
   "outputs": [],
   "source": [
    "lambda x: lambda y: x + y"
   ]
  },
  {
   "cell_type": "markdown",
   "metadata": {},
   "source": [
    "Avaliando esta função em $x = 10$ retorna a função $\\lambda y.10+y$\n",
    "\n",
    "$(\\lambda x.\\lambda y.x+y)(10)$"
   ]
  },
  {
   "cell_type": "code",
   "execution_count": null,
   "metadata": {},
   "outputs": [],
   "source": [
    "(lambda x: lambda y: x + y)(10)"
   ]
  },
  {
   "cell_type": "markdown",
   "metadata": {},
   "source": [
    "Podemos então pegar essa função $\\lambda y.10+y$ retornada e avaliá-la no argumento $y = 20$, resultando em um valor final\n",
    "\n",
    "$(\\lambda x.\\lambda y.x+y)(10)(20)$"
   ]
  },
  {
   "cell_type": "code",
   "execution_count": null,
   "metadata": {},
   "outputs": [],
   "source": [
    "(lambda x: lambda y: x + y)(10)(20)"
   ]
  },
  {
   "cell_type": "markdown",
   "metadata": {},
   "source": [
    "## Usando funções como objetos que representam conceitos"
   ]
  },
  {
   "cell_type": "markdown",
   "metadata": {},
   "source": [
    "O coração do cálculo lambda é associar funções a conceitos matemáticos. Por exemplo, os valores \"verdadeiro\" e \"falso\" da lógica booleana são representados no cálculo lambda como as funções abaixo."
   ]
  },
  {
   "cell_type": "code",
   "execution_count": null,
   "metadata": {},
   "outputs": [],
   "source": [
    "TRUE = lambda x: lambda y: x\n",
    "FALSE = lambda x: lambda y: y"
   ]
  },
  {
   "cell_type": "markdown",
   "metadata": {},
   "source": [
    "Note que as funções acima são *a definição em si dos conceitos de $\\text{TRUE}$ e $\\text{FALSE}$* no cálculo lambda.\n",
    "\n",
    "Podemos agora criar um operador $\\text{IFTHENELSE}$ que é uma função de três argumentos: $v$, $p$ e $q$. Se o argumento $v$ contém a função lambda correspondente ao conceito $\\text{TRUE}$, o $\\text{IFTHENELSE}$ retorna o argumento $p$. Caso contrário, se $v$ for a função lambda do conceito $\\text{FALSE}$, o $\\text{IFTHENELSE}$ retornará $q$.\n",
    "\n",
    "Essa especificação pode ser realizada com a seguinte função lambda:\n",
    "\n",
    "$\\text{IFTHENELSE} = \\lambda v.\\lambda p.\\lambda q. v(p)(q)$"
   ]
  },
  {
   "cell_type": "code",
   "execution_count": null,
   "metadata": {},
   "outputs": [],
   "source": [
    "IFTHENELSE = lambda v: lambda p: lambda q: v(p)(q)"
   ]
  },
  {
   "cell_type": "markdown",
   "metadata": {},
   "source": [
    "Note o pulo do gato: se $v$ for $\\text{TRUE}$, $\\text{IFTHENELSE}(\\text{TRUE})(p)(q)$ retorna:\n",
    "\n",
    "$\n",
    "\\text{IFTHENELSE}(\\text{TRUE})(p)(q) \\rightarrow \n",
    "\\text{TRUE}(p)(q) \\rightarrow\n",
    "(\\lambda x.\\lambda y.x)(p)(q) \\rightarrow \n",
    "(\\lambda y.p)(q) \\rightarrow \n",
    "p\n",
    "$\n",
    "\n",
    "e se $v$ for $\\text{FALSE}$, $\\text{IFTHENELSE}(\\text{FALSE})(p)(q)$ retorna:\n",
    "\n",
    "$\n",
    "\\text{IFTHENELSE}(\\text{FALSE})(p)(q) \\rightarrow \n",
    "\\text{FALSE}(p)(q) \\rightarrow\n",
    "(\\lambda x.\\lambda y.y)(p)(q) \\rightarrow \n",
    "(\\lambda y.y)(q) \\rightarrow \n",
    "q\n",
    "$"
   ]
  },
  {
   "cell_type": "code",
   "execution_count": null,
   "metadata": {},
   "outputs": [],
   "source": [
    "IFTHENELSE(TRUE)('abobora')('chuchu')"
   ]
  },
  {
   "cell_type": "code",
   "execution_count": null,
   "metadata": {},
   "outputs": [],
   "source": [
    "IFTHENELSE(FALSE)('abobora')('chuchu')"
   ]
  },
  {
   "cell_type": "markdown",
   "metadata": {},
   "source": [
    "A grande sacada do cálculo lambda é que funções servem simultaneamente como símbolos matemáticos (ou seja, a função é a própria definição do símbolo, como $\\text{TRUE}$ e $\\text{FALSE}$ acima) e como mecanismo de computação de valores, sendo que esses valores são na maioria das vezes outras funções do cálculo lambda, etc. Em geral o cálculo lambda não se preocupa tanto com calcular valores finais (eu uso valores concretos aqui apenas para demonstrar os efeitos) mas sim com a manipulação de simbolos matemáticos definidos pelas funções lambda.\n",
    "\n",
    "Eis um exemplo de definição dos operadores da álgebra booleana."
   ]
  },
  {
   "cell_type": "code",
   "execution_count": null,
   "metadata": {},
   "outputs": [],
   "source": [
    "AND = lambda p: lambda q: p(q)(p)\n",
    "OR = lambda p: lambda q: p(p)(q)\n",
    "NOT = lambda p: p(FALSE)(TRUE)"
   ]
  },
  {
   "cell_type": "markdown",
   "metadata": {},
   "source": [
    "Eis um exemplo de uso:"
   ]
  },
  {
   "cell_type": "code",
   "execution_count": null,
   "metadata": {},
   "outputs": [],
   "source": [
    "IFTHENELSE(AND(FALSE)(TRUE))('abobora')('chuchu')"
   ]
  },
  {
   "cell_type": "code",
   "execution_count": null,
   "metadata": {},
   "outputs": [],
   "source": [
    "IFTHENELSE(OR(FALSE)(TRUE))('abobora')('chuchu')"
   ]
  },
  {
   "cell_type": "markdown",
   "metadata": {},
   "source": [
    "Portanto, agora temos toda a lógica booleana representada como funções lambda: seus símbolos básicos e seus operadores. O que significa que qualquer circuito digital combinatório pode ser representado por uma função lambda gigante.\n",
    "\n",
    "A aritmética tambem pode ser representada por funções lambda. No cálculo lambda NÃO EXISTE NADA ALÉM DE FUNÇÕES LAMBDA. Mesmo os números e os operadores aritméticos são definidos em termos de funções lambda!"
   ]
  },
  {
   "cell_type": "code",
   "execution_count": null,
   "metadata": {},
   "outputs": [],
   "source": [
    "# Um \"número inteiro\" é representado pela aplicação de uma função várias vezes.\n",
    "# A quantidade de aplicações da função é o que define o número inteiro.\n",
    "\n",
    "# o operador SUCESSOR recebe um \"numero\" e retorna uma função aplicada\n",
    "# (número + 1) vezes - ou seja, o próximo \"número\".\n",
    "SUCCESSOR = lambda n: lambda f: lambda x: f(n(f)(x))\n",
    "\n",
    "# O \"zero\" é simplesmente não aplicar a função dada.\n",
    "N0 = lambda f: lambda x: x\n",
    "\n",
    "# O \"um\" é aplicar a função uma vez, etc. Usamos o operador SUCESSOR para\n",
    "# definir os demais inteiros, como nos axiomas de Peano.\n",
    "N1 = SUCCESSOR(N0)\n",
    "N2 = SUCCESSOR(N1)\n",
    "N3 = SUCCESSOR(N2)\n",
    "\n",
    "# O operador PLUS recebe dois \"números\" e retorna uma função aplicada uma \n",
    "# quantidade de vezes equivalente a soma das quantidades de cada \"número\".\n",
    "PLUS = lambda m: lambda n: lambda f: lambda x: m(f)(n(f)(x))"
   ]
  },
  {
   "cell_type": "code",
   "execution_count": null,
   "metadata": {},
   "outputs": [],
   "source": [
    "N1_mais_N2 = PLUS(N1)(N2)\n",
    "N1_mais_N2"
   ]
  },
  {
   "cell_type": "code",
   "execution_count": null,
   "metadata": {},
   "outputs": [],
   "source": [
    "# Usamos argumentos concretos apenas para demonstrar a função do \"número\".\n",
    "N1_mais_N2(lambda x: x + 1)(0)"
   ]
  },
  {
   "cell_type": "code",
   "execution_count": null,
   "metadata": {},
   "outputs": [],
   "source": [
    "N3(lambda x: x + 1)(0)"
   ]
  },
  {
   "cell_type": "markdown",
   "metadata": {},
   "source": [
    "Note que a função $\\lambda x.x + 1$ utilizada como argumento é só para demonstração. O cálculo lambda não requer essa função: o que importa é que $\\text{PLUS}(\\text{N1})(\\text{N2}) = \\text{N3} = \\lambda f.\\lambda x.f(f(f(x)))$\n",
    "\n",
    "Tendo números naturais e a noção de soma podemos derivar todo o resto da aritmética!\n",
    "\n",
    "E *arrays*, que são essenciais para a computação, como fazer? Bem, no cálculo lambda não temos *arrays* propriamente ditos, mas temos algo equivalente: *listas ligadas*!\n",
    "\n",
    "(Na verdade, temos é composição de pares...)"
   ]
  },
  {
   "cell_type": "code",
   "execution_count": null,
   "metadata": {},
   "outputs": [],
   "source": [
    "PAIR = lambda x: lambda y: lambda z: z(x)(y)"
   ]
  },
  {
   "cell_type": "code",
   "execution_count": null,
   "metadata": {},
   "outputs": [],
   "source": [
    "# Representa o array [1, 2, 3]. Mais precisamente, representa a estrutura de\n",
    "# pares (1, (2, 3)), mas que vai servir como array do mesmo jeito.\n",
    "sequencia = PAIR(1)(PAIR(2)(3))"
   ]
  },
  {
   "cell_type": "markdown",
   "metadata": {},
   "source": [
    "Para acessar os elementos do \"array\" precisamos de dois operadores sobre pares: um para extrair o primeiro elemento e outro para extrair o segundo elemento:"
   ]
  },
  {
   "cell_type": "code",
   "execution_count": null,
   "metadata": {},
   "outputs": [],
   "source": [
    "FIRST = lambda p: p(lambda x: lambda y: x)\n",
    "SECOND = lambda p: p(lambda x: lambda y: y)"
   ]
  },
  {
   "cell_type": "code",
   "execution_count": null,
   "metadata": {},
   "outputs": [],
   "source": [
    "FIRST(sequencia)"
   ]
  },
  {
   "cell_type": "code",
   "execution_count": null,
   "metadata": {},
   "outputs": [],
   "source": [
    "FIRST(SECOND(sequencia))"
   ]
  },
  {
   "cell_type": "code",
   "execution_count": null,
   "metadata": {},
   "outputs": [],
   "source": [
    "SECOND(SECOND(sequencia))"
   ]
  },
  {
   "cell_type": "markdown",
   "metadata": {},
   "source": [
    "## Loops: recursão"
   ]
  },
  {
   "cell_type": "markdown",
   "metadata": {},
   "source": [
    "Não vou me atrever a explicar recursão em cálculo lambda, deixa quieto...\n",
    "\n",
    "https://lptk.github.io/programming/2019/10/15/simple-essence-y-combinator.html"
   ]
  },
  {
   "cell_type": "code",
   "execution_count": null,
   "metadata": {},
   "outputs": [],
   "source": [
    "Z = (lambda g: \\\n",
    "  ( lambda f: g(lambda y: f(f)(y)) ) \\\n",
    "  ( lambda f: g(lambda y: f(f)(y)) ))\n",
    "\n",
    "fact = Z(lambda f: lambda n: 1 if n == 0 else n * f(n - 1))"
   ]
  },
  {
   "cell_type": "markdown",
   "metadata": {},
   "source": [
    "(o pedaço `1 if n == 0 else n * f(n - 1)` pode ser reescrito em termos exclusivamente pertencentes ao cálculo lambda, mas por simplicidade são deixados como está aqui)"
   ]
  },
  {
   "cell_type": "code",
   "execution_count": null,
   "metadata": {},
   "outputs": [],
   "source": [
    "fact(5)"
   ]
  },
  {
   "cell_type": "markdown",
   "metadata": {},
   "source": [
    "Tendo loops, sequencias, desvios condicionais ($\\text{IFTHENELSE}$), aritmética e comparação de números (que não foi mostrada nesse notebook) temos tudo o que precisamos para fazer qualquer computação!"
   ]
  },
  {
   "cell_type": "code",
   "execution_count": null,
   "metadata": {},
   "outputs": [],
   "source": []
  }
 ],
 "metadata": {
  "kernelspec": {
   "display_name": "Python 3 (ipykernel)",
   "language": "python",
   "name": "python3"
  },
  "language_info": {
   "codemirror_mode": {
    "name": "ipython",
    "version": 3
   },
   "file_extension": ".py",
   "mimetype": "text/x-python",
   "name": "python",
   "nbconvert_exporter": "python",
   "pygments_lexer": "ipython3",
   "version": "3.10.12"
  }
 },
 "nbformat": 4,
 "nbformat_minor": 4
}
