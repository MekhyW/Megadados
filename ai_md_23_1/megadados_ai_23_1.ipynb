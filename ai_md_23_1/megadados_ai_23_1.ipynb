{
 "cells": [
  {
   "cell_type": "markdown",
   "id": "f62ded59",
   "metadata": {},
   "source": [
    "# AI MEGADADOS 23-1"
   ]
  },
  {
   "cell_type": "markdown",
   "id": "dcd0397c",
   "metadata": {},
   "source": [
    "## Parte 1 - CarTracking!\n",
    "\n",
    "Na parte 1 da prova de MEGADADOS, iremos trabalhar com a base de dados sintética **CarTracking**.\n",
    "\n",
    "### Insper autograding!\n",
    "\n",
    "Para receber feedback dos exercício na parte 1, iremos utilizar o `insper autograding`. Se não fez este passo, abra o notebook disponível na aula 09.\n",
    "\n",
    "**Sugestão**: para aproveitar o `.env`, crie uma pasta para a prova no mesmo local onde costuma deixar as pastas das **aulas**!\n",
    "\n",
    "### Instalação da base\n",
    "\n",
    "Execute os scripts `script_001.sql` e `script_002.sql` no MySQL Workbench. Estes scripts criam uma base **cartracking** e inserem alguns dados de exemplo para resolução da prova.\n",
    "\n",
    "A base pode ser representada pelo seguinte diagrama do model orelacional (diagrama ER):\n",
    "\n",
    "<img src=\"img/deer_cartracing.png\">"
   ]
  },
  {
   "cell_type": "markdown",
   "id": "3dfa114e",
   "metadata": {},
   "source": [
    "A base da prova simula um cenário de **rastreamento de veículos**. Nela, estão cadastrados **automóveis** de **clientes**. Os automóveis podem ter múltiplos **rastreadores** instalados, mas cada rastreador está associado a apenas um automóvel.\n",
    "\n",
    "Os rastreadores irão gerar **eventos** de rastreamento, contendo informações de geolocalização e temperatura em determinados momentos do tempo."
   ]
  },
  {
   "cell_type": "markdown",
   "id": "feb97635",
   "metadata": {},
   "source": [
    "## Como resolver os exercícios?\n",
    "\n",
    "Crie a base da prova em sua máquina (passo anterior). Utilize o MySQL Workbench ou o conector para testar as queries. Quando estiver bastante certo de que a resposta está correta, faça a submissão para o servidor.\n",
    "\n",
    "## Import das bibliotecas\n",
    "\n",
    "Vamos realizar o import das bibliotecas."
   ]
  },
  {
   "cell_type": "code",
   "execution_count": null,
   "id": "b2f1597a",
   "metadata": {},
   "outputs": [],
   "source": [
    "import mysql.connector\n",
    "from functools import partial\n",
    "import os\n",
    "import insperautograder.jupyter as ia\n",
    "from dotenv import load_dotenv"
   ]
  },
  {
   "cell_type": "markdown",
   "id": "33eefa0d",
   "metadata": {},
   "source": [
    "E vamos criar nosso HELPER de conexão com o banco! Perceba que, uma vez configurado o `.env` não precisaremos mais informar usuários, senhas e URLs!"
   ]
  },
  {
   "cell_type": "code",
   "execution_count": null,
   "id": "f5147533",
   "metadata": {},
   "outputs": [],
   "source": [
    "load_dotenv(override=True)\n",
    "\n",
    "def get_connection_helper():\n",
    "\n",
    "    def run_db_query(connection, query, args=None):\n",
    "        with connection.cursor() as cursor:\n",
    "            print('Executando query:')\n",
    "            cursor.execute(query, args)\n",
    "            for result in cursor:\n",
    "                print(result)\n",
    "\n",
    "    connection = mysql.connector.connect(\n",
    "        host=os.getenv('MD_DB_SERVER'),\n",
    "        user=os.getenv('MD_DB_USERNAME'),\n",
    "        password=os.getenv('MD_DB_PASSWORD'),\n",
    "        database='cartracking',\n",
    "    )\n",
    "    return connection, partial(run_db_query, connection)\n",
    "\n",
    "\n",
    "connection, db = get_connection_helper()"
   ]
  },
  {
   "cell_type": "markdown",
   "id": "86e481dc",
   "metadata": {},
   "source": [
    "### Notas\n",
    "\n",
    "Para conferir a nota da correção automática da prova, utilize:"
   ]
  },
  {
   "cell_type": "code",
   "execution_count": null,
   "id": "9d0c9a82",
   "metadata": {},
   "outputs": [],
   "source": [
    "ia.grades(task='ai_md_23_1')"
   ]
  },
  {
   "cell_type": "code",
   "execution_count": null,
   "id": "55d92296",
   "metadata": {},
   "outputs": [],
   "source": [
    "ia.grades(by='TASK', task='ai_md_23_1')"
   ]
  },
  {
   "cell_type": "markdown",
   "id": "a1c915a9",
   "metadata": {},
   "source": [
    "**Obs**: Esta parte da avaliação vale **6 pontos** na nota da prova.\n",
    "- 50% da nota será pela correção automática do servidor\n",
    "- 50% da nota será pela correção pelo professor, que levará em consideração, por exemplo:\n",
    "    - Quão distante sua solução ficou de uma solução correta\n",
    "    - Se as queries estão formatadas:\n",
    "        - Padrão de maiúsculas e minúsculas\n",
    "        - Tabulações e quebras de linhas\n",
    "    - Se utiliza *alias* nas tabelas, especialmente em queries com múltiplas tabelas\n",
    "    \n",
    "A nota retornada pelo servidor estará no intervalo `0.0` a `10.0` e será multiplicada por `0.3` para compor os `50%` da correção automática.\n",
    "\n",
    "Ainda, considere que os testes não são exaustivos. Sua solução deve funcionar para qualquer conjunto de dados no *schema* **cartracking**."
   ]
  },
  {
   "cell_type": "markdown",
   "id": "010383c1",
   "metadata": {},
   "source": [
    "**Exercício 1**: Crie uma query que retorne a quantidade de clientes pessoa jurídica cadastrados na base.\n",
    "\n",
    "**Obs**: considere que um cliente pessoa jurídica é um cliente com cnpj preenchido!"
   ]
  },
  {
   "cell_type": "code",
   "execution_count": null,
   "id": "6ac40e23",
   "metadata": {},
   "outputs": [],
   "source": [
    "sql_ex01 = '''\n",
    "SELECT * FROM cliente\n",
    "WHERE cnpj IS NOT NULL\n",
    "'''\n",
    "\n",
    "db(sql_ex01)"
   ]
  },
  {
   "cell_type": "markdown",
   "id": "9db4baba",
   "metadata": {},
   "source": [
    "Após testar localmente e considerar sua solução correta, faça o envio clicando no botão abaixo!"
   ]
  },
  {
   "cell_type": "code",
   "execution_count": null,
   "id": "dba353fb",
   "metadata": {},
   "outputs": [],
   "source": [
    "ia.sender(answer='sql_ex01', task='ai_md_23_1', question='ex01', answer_type='pyvar')"
   ]
  },
  {
   "cell_type": "markdown",
   "id": "c167b70e",
   "metadata": {},
   "source": [
    "**Exercício 2**: Crie uma query que retorne, **sem repetição**, todos os `modelo` e `marca` dos `automovel` cadastrados. Retorne ordenado de forma crescente pelo `modelo`."
   ]
  },
  {
   "cell_type": "code",
   "execution_count": null,
   "id": "0203756a",
   "metadata": {},
   "outputs": [],
   "source": [
    "sql_ex02 = '''\n",
    "SELECT DISTINCT modelo.modelo, marca.marca\n",
    "FROM automovel \n",
    "INNER JOIN modelo ON automovel.idmodelo = modelo.idmodelo\n",
    "INNER JOIN marca ON modelo.idmarca = marca.idmarca\n",
    "ORDER BY modelo ASC\n",
    "'''\n",
    "\n",
    "db(sql_ex02)"
   ]
  },
  {
   "cell_type": "markdown",
   "id": "ed653f31",
   "metadata": {},
   "source": [
    "Após testar localmente e considerar sua solução correta, faça o envio clicando no botão abaixo!"
   ]
  },
  {
   "cell_type": "code",
   "execution_count": null,
   "id": "b38f883b",
   "metadata": {},
   "outputs": [],
   "source": [
    "ia.sender(answer='sql_ex02', task='ai_md_23_1', question='ex02', answer_type='pyvar')"
   ]
  },
  {
   "cell_type": "markdown",
   "id": "783982d7",
   "metadata": {},
   "source": [
    "**Exercício 3**: Crie uma query que retorne, o `nome` do `cliente` e a **quantidade** de automóveis que o cliente possui cadastrado na base.\n",
    "\n",
    "\n",
    "**Obs**:\n",
    "- Os clientes com mais automóveis cadastrados devem aparecer primeiro.\n",
    "- Clientes sem automóveis cadastrados não devem ser retornados"
   ]
  },
  {
   "cell_type": "code",
   "execution_count": null,
   "id": "7abc57c5",
   "metadata": {},
   "outputs": [],
   "source": [
    "sql_ex03 = '''\n",
    "SELECT cliente.nome, COUNT(automovel.idautomovel) AS quantidade\n",
    "FROM automovel INNER JOIN cliente ON automovel.idcliente = cliente.idcliente\n",
    "GROUP BY automovel.idcliente\n",
    "ORDER BY quantidade DESC\n",
    "'''\n",
    "\n",
    "db(sql_ex03)"
   ]
  },
  {
   "cell_type": "markdown",
   "id": "f1cbdd5d",
   "metadata": {},
   "source": [
    "Após testar localmente e considerar sua solução correta, faça o envio clicando no botão abaixo!"
   ]
  },
  {
   "cell_type": "code",
   "execution_count": null,
   "id": "226f8184",
   "metadata": {},
   "outputs": [],
   "source": [
    "ia.sender(answer='sql_ex03', task='ai_md_23_1', question='ex03', answer_type='pyvar')"
   ]
  },
  {
   "cell_type": "markdown",
   "id": "d26b32cc",
   "metadata": {},
   "source": [
    "**Exercício 4**: Crie uma query que retorne, nesta ordem, o `idautomovel`, `ano`, `idcliente`, `idmodelo` e `travado` dos automóveis que **não possuem nenhum rastreador** vinculado a eles.\n",
    "\n",
    "\n",
    "**Obs**: ordene de forma crescente pelo `idautomovel`."
   ]
  },
  {
   "cell_type": "code",
   "execution_count": null,
   "id": "468eef5d",
   "metadata": {},
   "outputs": [],
   "source": [
    "sql_ex04 = '''\n",
    "SELECT idautomovel, ano, idcliente, idmodelo, travado\n",
    "FROM automovel\n",
    "WHERE idautomovel NOT IN (SELECT idautomovel FROM rastreador WHERE idautomovel IS NOT NULL)\n",
    "ORDER BY idautomovel ASC\n",
    "'''\n",
    "\n",
    "db(sql_ex04)"
   ]
  },
  {
   "cell_type": "markdown",
   "id": "90450f69",
   "metadata": {},
   "source": [
    "Após testar localmente e considerar sua solução correta, faça o envio clicando no botão abaixo!"
   ]
  },
  {
   "cell_type": "code",
   "execution_count": null,
   "id": "248d61fb",
   "metadata": {},
   "outputs": [],
   "source": [
    "ia.sender(answer='sql_ex04', task='ai_md_23_1', question='ex04', answer_type='pyvar')"
   ]
  },
  {
   "cell_type": "markdown",
   "id": "f1aea00a",
   "metadata": {},
   "source": [
    "**Exercício 5**: Considerando apenas os rastreadores **ativos**, crie uma query que retorne o `nome` do cliente, o `modelo` do automóvel rastreado, a temperatura **máxima** e **média** do motor registradas nos eventos do automóvel.\n",
    "\n",
    "**Obs**:\n",
    "- Retorne ordenado pela temperatura máxima, de forma decrescente\n",
    "- Retorne apenas os registros com temperatura máxima do motor acima de `85`\n",
    "- A coluna de temperatura máxima deve se chamar `max_temp_motor`\n",
    "- A coluna de temperatura média deve se chamar `avg_temp_motor`"
   ]
  },
  {
   "cell_type": "code",
   "execution_count": null,
   "id": "f89a659b",
   "metadata": {
    "scrolled": true
   },
   "outputs": [],
   "source": [
    "sql_ex05 = '''\n",
    "SELECT cliente.nome, modelo.modelo, MAX(evento.temperatura_motor) AS max_temp_motor, AVG(evento.temperatura_motor) AS avg_temp_motor\n",
    "FROM cliente INNER JOIN automovel ON cliente.idcliente = automovel.idcliente\n",
    "INNER JOIN modelo ON automovel.idmodelo = modelo.idmodelo\n",
    "INNER JOIN rastreador ON automovel.idautomovel = rastreador.idautomovel\n",
    "INNER JOIN evento ON rastreador.idrastreador = evento.idrastreador\n",
    "GROUP BY evento.idrastreador\n",
    "HAVING max_temp_motor > 85\n",
    "'''\n",
    "\n",
    "db(sql_ex05)"
   ]
  },
  {
   "cell_type": "markdown",
   "id": "f72e42f8",
   "metadata": {},
   "source": [
    "Após testar localmente e considerar sua solução correta, faça o envio clicando no botão abaixo!"
   ]
  },
  {
   "cell_type": "code",
   "execution_count": null,
   "id": "2aa73426",
   "metadata": {},
   "outputs": [],
   "source": [
    "ia.sender(answer='sql_ex05', task='ai_md_23_1', question='ex05', answer_type='pyvar')"
   ]
  },
  {
   "cell_type": "markdown",
   "id": "6f01f5b4",
   "metadata": {},
   "source": [
    "**Exercício 6**: Crie uma tabela temporária `tmp_cliente_eventos` contendo o `nome`, `cpf`, `cnpj` do cliente, além da quantidade de **eventos** registrados na tabela `evento` para cada cliente.\n",
    "\n",
    "Requisitos:\n",
    "- Retorne ordenado pelo `nome` de forma crescente\n",
    "- A coluna de contagem deve se chamar `qtde_eventos`\n",
    "- Clientes sem eventos devem ter o valor `0` em `qtde_eventos`\n",
    "- Nos clientes com o `cpf` ou `cnpj` nulos, retorne uma string `'NAO_INFORMADO'`"
   ]
  },
  {
   "cell_type": "code",
   "execution_count": null,
   "id": "8fffc6e7",
   "metadata": {
    "scrolled": true
   },
   "outputs": [],
   "source": [
    "sql_ex06 = '''\n",
    "DROP TABLE IF EXISTS tmp_cliente_eventos;\n",
    "\n",
    "CREATE TEMPORARY TABLE tmp_cliente_eventos\n",
    "SELECT cliente.nome, cliente.cpf, cliente.cnpj, COUNT(evento.idevento) AS qtde_eventos\n",
    "FROM cliente LEFT OUTER JOIN automovel ON cliente.idcliente = automovel.idcliente\n",
    "LEFT OUTER JOIN modelo ON automovel.idmodelo = modelo.idmodelo\n",
    "LEFT OUTER JOIN rastreador ON automovel.idautomovel = rastreador.idautomovel\n",
    "LEFT OUTER JOIN evento ON rastreador.idrastreador = evento.idrastreador\n",
    "GROUP BY cliente.idcliente;\n",
    "\n",
    "UPDATE tmp_cliente_eventos SET cpf = 'NAO_INFORMADO' WHERE cpf IS NULL;\n",
    "UPDATE tmp_cliente_eventos SET cnpj = 'NAO_INFORMADO' WHERE cnpj IS NULL;\n",
    "'''\n",
    "\n",
    "db(sql_ex06)"
   ]
  },
  {
   "cell_type": "markdown",
   "id": "9c8ff357",
   "metadata": {},
   "source": [
    "Após testar localmente e considerar sua solução correta, faça o envio clicando no botão abaixo!"
   ]
  },
  {
   "cell_type": "code",
   "execution_count": null,
   "id": "1896fe20",
   "metadata": {},
   "outputs": [],
   "source": [
    "ia.sender(answer='sql_ex06', task='ai_md_23_1', question='ex06', answer_type='pyvar')"
   ]
  },
  {
   "cell_type": "markdown",
   "id": "00a11a57",
   "metadata": {},
   "source": [
    "### Conferindo as notas!"
   ]
  },
  {
   "cell_type": "code",
   "execution_count": null,
   "id": "8e3dd2f7",
   "metadata": {},
   "outputs": [],
   "source": [
    "ia.grades(task='ai_md_23_1')"
   ]
  },
  {
   "cell_type": "markdown",
   "id": "fdb3ca75",
   "metadata": {},
   "source": [
    "## Parte 2 - Confraternizar!\n",
    "\n",
    "Você foi procurado por um grupo de alunos do Insper para uma consultoria na área de dados! Eles reclamaram que precisam realizar diversas confraternizações entre os estudantes do Insper, sendo difícil gerir todos os detalhes relativos aos eventos.\n",
    "\n",
    "Ainda, é desejo dos organizadores que toda a gestão seja digital, sem mais ingressos no papel!\n",
    "\n",
    "Em conversas com o cliente, você levantou as seguintes informações sobre o domínio de negócios:\n",
    "- As confraternizações são agendadas para acontecer em determinada data.\n",
    "- As confraternizações sempre possuem um tipo (calourada, pizzada, cine-cultural, etc.). Então, uma confraternização sempre é uma nova realização (ou oferecimento) de um tipo de evento.\n",
    "- Cada confraternização pode ser organizada por diversos alunos. É preciso manter um cadastro dos organizadores, indicando o cargo ocupado em cada festa (quando o aluno fizer parte da organização).\n",
    "- Os ingressos apenas podem ser adquiridos por alunos. O aluno pode comprar quantos ingresso quiser (para ele e/ou convidados). Quando o aluno compra um ingresso de determinada festa, ele tem a opção de indicar o nome do convidado que irá utilizar o ingresso.\n",
    "\n",
    "Utilize estas informações para propor soluções adequadas para os próximos exercícios.\n",
    "\n",
    "**Obs**: Esta parte da avaliação vale **4 pontos** na nota da prova:\n",
    "- 1.50 para o exercício 7\n",
    "- 0.75 para o exercício 8\n",
    "- 0.75 para o exercício 9\n",
    "- 1.00 para o exercício 10"
   ]
  },
  {
   "cell_type": "markdown",
   "id": "4f09a3aa",
   "metadata": {},
   "source": [
    "**Exercício 7**: Desenhe o diagrama do modelo relacional deste problema. Não esqueça de indicar claramente os tipos, chaves primárias, chaves estrangeiras, e a cardinalidade dos relacionamentos.\n",
    "\n",
    "**Obs:** Salve a imagem do diagrama na pasta `img`. Edite na resposta o caminho para a imagem!"
   ]
  },
  {
   "cell_type": "markdown",
   "id": "779f8ef4",
   "metadata": {},
   "source": [
    "<div class=\"alert alert-success\">\n",
    "    \n",
    "Edite na resposta o caminho para a imagem!\n",
    "    \n",
    "<img src=\"img/confraternizacao.png\">\n",
    "\n",
    "</div>"
   ]
  },
  {
   "cell_type": "markdown",
   "id": "f513cf32",
   "metadata": {},
   "source": [
    "**Exercício 8**: Cole a **DDL** para criação da tabela de `organizadores`."
   ]
  },
  {
   "cell_type": "markdown",
   "id": "7399f161",
   "metadata": {},
   "source": [
    "<div class=\"alert alert-success\">\n",
    "\n",
    "```mysql\n",
    "\n",
    "CREATE TABLE organizadores (\n",
    "    id_organizador INTEGER NOT NULL AUTO_INCREMENT,\n",
    "    id_aluno INTEGER NOT NULL,\n",
    "    id_confraternizacao INTEGER NOT NULL,\n",
    "    PRIMARY KEY (id_organizador),\n",
    "    FOREIGN KEY (id_aluno) REFERENCES alunos(id_aluno),\n",
    "    FOREIGN KEY (id_confraternizacao) REFERENCES confraternizacoes(id_confraternizacao)\n",
    ");\n",
    "\n",
    "```\n",
    "\n",
    "</div>"
   ]
  },
  {
   "cell_type": "markdown",
   "id": "e2f02a4b",
   "metadata": {},
   "source": [
    "**Exercício 9**: Cole a **DML** para inserir um registro na tabela de `organizadores`. Utilize dados quaisquer!\n",
    "\n",
    "**Obs**: a query precisa estar correta, mas não necessariamente irá rodar no notebook do professor (pois pode depender de chaves estrangeiras). Não é obrigatório (nem vale nota) que você gaste tempo preenchendo valores em outras tabelas para que a query de fato funcione, mas tudo bem caso queira fazer assim!"
   ]
  },
  {
   "cell_type": "markdown",
   "id": "d3b6a6b0",
   "metadata": {},
   "source": [
    "<div class=\"alert alert-success\">\n",
    "\n",
    "```mysql\n",
    "\n",
    "INSERT INTO organizadores (id_organizador, id_aluno, id_confraternizacao) \n",
    "VALUES (1, 1, 1);\n",
    "\n",
    "```\n",
    "\n",
    "</div>"
   ]
  },
  {
   "cell_type": "markdown",
   "id": "e72905f3",
   "metadata": {},
   "source": [
    "**Exercício 10**: Discorra sobre as diferenças entre os relacionamentos identificadores e não-identificadores.\n",
    "\n",
    "Esta questão será corrigida considerando a seguinte subrica:\n",
    "| Conceito | Nota | Descrição                                                                                                                                               |\n",
    "|:----------:|----------:|:---------------------------------------------------------------------------------------------------------------------------------------------------------|\n",
    "| I        | 0.0 |Apenas citou o assunto ou alguns fatos sem explicações                                                                                                  |\n",
    "| D        | 0.3 |Explicou superficialmente o assunto ou fatos mas sem muitos detalhes conclusivos                                                                        |\n",
    "| C        | 0.6 |Explicou com detalhes, apresentando definições concretas.                                                                                               |\n",
    "| B        | 0.8 |Explicou com detalhes, apresentando definições concretas e exemplos de uso.                                                                            |\n",
    "| A        | 1.0 |Explicou com detalhes, apresentando definições concretas, exemplos de uso e ainda outros tópicos correlatos, fazendo uma conexão lógica entre eles. |"
   ]
  },
  {
   "cell_type": "markdown",
   "id": "fc7bc2d7",
   "metadata": {},
   "source": [
    "<div class=\"alert alert-success\">\n",
    "\n",
    "No contexto do SQL e do design de banco de dados, relacionamentos de identificação e não identificação são duas maneiras de representar associações entre tabelas em um banco de dados relacional. Esses relacionamentos são essenciais para manter a integridade dos dados e estabelecer conexões entre diferentes conjuntos de dados. Vamos explorar as diferenças entre esses dois tipos de relacionamento:\n",
    "\n",
    "Identificando Relacionamento:\n",
    "\n",
    "Em um relacionamento de identificação, a chave primária da tabela filha inclui uma ou mais colunas que não apenas servem como chaves estrangeiras para vinculá-la à tabela pai, mas também identificam exclusivamente cada registro na tabela filha.\n",
    "Isto significa que a chave primária da tabela filha é composta por uma combinação de colunas de chave estrangeira e possivelmente algumas colunas adicionais.\n",
    "Os relacionamentos de identificação são normalmente usados em relacionamentos um-para-um ou um-para-muitos, onde a existência da tabela filho depende da tabela pai.\n",
    "Quando o registro pai é excluído, o registro filho também é excluído porque a chave primária do filho faz parte da chave primária do pai e eles estão fortemente acoplados.\n",
    "Relacionamento não identificável:\n",
    "\n",
    "Em um relacionamento sem identificação, a chave primária da tabela filha consiste em seus próprios atributos (colunas) e não inclui nenhuma coluna de chave estrangeira da tabela pai.\n",
    "Relacionamentos não identificadores são frequentemente usados em relacionamentos um-para-muitos ou muitos-para-muitos, onde a tabela filha pode existir independentemente da tabela pai.\n",
    "A exclusão de um registro pai em um relacionamento sem identificação não exclui necessariamente os registros filho associados porque a chave primária do filho não está vinculada à chave primária do pai.\n",
    "Aqui está um exemplo para ilustrar a diferença entre os dois:\n",
    "\n",
    "Considere duas tabelas, “Autor” e “Livro”.\n",
    "\n",
    "Em um relacionamento de identificação, a tabela “Autor” pode ter uma chave primária “AuthorID”, e a chave primária da tabela “Livro” incluiria “AuthorID” como chave estrangeira, junto com outros atributos como “BookID”. A exclusão de um autor também excluiria todos os seus livros, pois os registros secundários (livros) são identificados exclusivamente por \"AuthorID\" e \"BookID\".\n",
    "\n",
    "Em um relacionamento sem identificação, a tabela \"Autor\" pode ter \"AuthorID\" como sua chave primária, e a chave primária da tabela \"Livro\" incluiria apenas \"BookID\" e não faria referência a \"AuthorID\". Nesse caso, excluir um autor não excluiria automaticamente seus livros porque os registros filhos (livros) possuem sua própria chave primária (apenas \"BookID\") e não estão diretamente vinculados ao autor.\n",
    "\n",
    "</div>"
   ]
  },
  {
   "cell_type": "markdown",
   "id": "c0871f09",
   "metadata": {},
   "source": [
    "## Entrega!\n",
    "\n",
    "É hora de entregar. Faça um **zip** do notebook + imagens chamado `ai_megadados.zip` e submeta no Blackboard!\n",
    "\n",
    "**Obs**:\n",
    "- `zip`, não use `rar`!\n",
    "- Não precisa entregar os scripts fornecidos pelo professor (pasta scripts)"
   ]
  }
 ],
 "metadata": {
  "kernelspec": {
   "display_name": "Python 3 (ipykernel)",
   "language": "python",
   "name": "python3"
  },
  "language_info": {
   "codemirror_mode": {
    "name": "ipython",
    "version": 3
   },
   "file_extension": ".py",
   "mimetype": "text/x-python",
   "name": "python",
   "nbconvert_exporter": "python",
   "pygments_lexer": "ipython3",
   "version": "3.8.16"
  }
 },
 "nbformat": 4,
 "nbformat_minor": 5
}
