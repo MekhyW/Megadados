{
 "cells": [
  {
   "cell_type": "markdown",
   "id": "ba6c1d66",
   "metadata": {},
   "source": [
    "# Aula 11\n",
    "\n",
    "## Task: Modelo Entidade-Relacionamento\n",
    "\n",
    "Nesta dinâmica, nosso objetivo será construir uma proposta que modele informações do domínio de aplicação, provendo uma representação conceitual que irá guiar a produção de uma solução, utilizando os conceitos de Modelo Entidade-Relacionamento vistos na expositiva.\n",
    "\n",
    "**Atividade:** Encontre um(a) colega para ser sua **dupla**. Teremos dois papeis nesta dinâmica, o **cliente** e o **engenheiro**. O **cliente** terá atuação principal na especificação do problema e seus requisitos, enquanto o **engenheiro** atuará principalmente no desenho do modelo.\n",
    "\n",
    "Preencha os nomes abaixo:"
   ]
  },
  {
   "cell_type": "markdown",
   "id": "30c4869c",
   "metadata": {},
   "source": [
    "**Cliente**: `Felipe Catapano`\n",
    "\n",
    "**Engenheiro**: `Rafael Katri`"
   ]
  },
  {
   "cell_type": "markdown",
   "id": "832eb313",
   "metadata": {},
   "source": [
    "**Atividade**: Para quem estiver fazendo o papel de cliente...\n",
    "\n",
    "Identifique alguma área (domínio) no qual consiga pensar em algum **problema** que envolva bases de dados. Ex: cadastro de pokemons, sistema para gerenciar o estoque de uma casa de festas, sistema para gerenciar pontuações de partidas de xadrez, uma base com os parques públicos e os serviços neles disponíveis, etc.\n",
    "\n",
    "Descreva a **área** e o **problema** (pode ser em forma de pergunta) que deseja solucionar."
   ]
  },
  {
   "cell_type": "markdown",
   "id": "8133556f",
   "metadata": {},
   "source": [
    "<div class=\"alert alert-success\">\n",
    "\n",
    "Area: sistema para categorizar repositorios do github\n",
    "\n",
    "Problema: Como mapear quais dependencias sao necessarias para cada projeto e quais tecnologias sao utilizadas por cada um?\n",
    "\n",
    "</div>"
   ]
  },
  {
   "cell_type": "markdown",
   "id": "29819f17",
   "metadata": {},
   "source": [
    "**Atividade**: Para quem estiver fazendo o papel de engenheiro...\n",
    "\n",
    "É comum que engenheiros tenham conhecimentos em áreas técnicas mas desconheçam domínios específicos. Faça perguntas que te ajudem a entender melhor o problema proposto pelo cliente. Escreva abaixo alguns exemplos de perguntas realizadas."
   ]
  },
  {
   "cell_type": "markdown",
   "id": "88798c9d",
   "metadata": {},
   "source": [
    "<div class=\"alert alert-success\">\n",
    "\n",
    "E possivel ter mais de uma tecnologia em um projeto?\n",
    "\n",
    "Eh relevante armazenar dados de quem escreveu o projeto, se sim armazenaria todos eles ou so o proprietario?\n",
    "\n",
    "</div>"
   ]
  },
  {
   "cell_type": "markdown",
   "id": "b66bb8fa",
   "metadata": {},
   "source": [
    "**Atividade**: Para ambos, engenheiro e cliente...\n",
    "\n",
    "Vocês devem simular uma reunião de trabalho na qual, com base no conhecimento adquirido, seja desenhada uma proposta de **Modelo Entidade-Relacionamento** (conforme as regras nos slides) que seja uma representação conceitual de uma solução para o problema.\n",
    "\n",
    "Lembre-se que seu foco é nos dados e em sua modelagem. Problemas de outras áreas (orientação a objetos, computação em nuvem, tecnologias a serem utilizadas, etc.) devem ser ignorados!\n",
    "\n",
    "De forma iterativa, Repita até produzir uma solução adequada (ou até acabar a \"sprint\"!!!):\n",
    "1) Converse com o cliente e faça perguntas que ajudem a entender requisitos do problema\n",
    "2) Faça o desenho e refinamento do seu modelo em alguma ferramenta de desenho (sugestão: https://excalidraw.com/)\n",
    "3) Apresente ao cliente\n",
    "\n",
    "Cole abaixo apenas a versão final do modelo (como imagem). Caso considere necessário, adicione textos."
   ]
  },
  {
   "cell_type": "markdown",
   "id": "580031ab",
   "metadata": {},
   "source": [
    "<div class=\"alert alert-success\">\n",
    "\n",
    "![alt text](repositorios.drawio.png)\n",
    "\n",
    "</div>"
   ]
  },
  {
   "cell_type": "markdown",
   "id": "e1ce0938",
   "metadata": {},
   "source": [
    "**Atividade**: Para ambos, engenheiro e cliente...\n",
    "\n",
    "Julgamento! Como cliente e engenheiro, avaliem a solução proposta. Ela está adequada e implementável?! Quais são os principais valores gerados pela proposta?"
   ]
  },
  {
   "cell_type": "markdown",
   "id": "1cfffef1",
   "metadata": {},
   "source": [
    "<div class=\"alert alert-success\">\n",
    "\n",
    "Seria implementavel, mas as queries de busca seriam complexas para acessar todas as dependencias de um repositorio dada a circularidade do modelo.\n",
    "\n",
    "</div>"
   ]
  },
  {
   "cell_type": "markdown",
   "id": "596920ba",
   "metadata": {},
   "source": [
    "**Atividade**: Para qualquer um dos dois, engenheiro ou cliente...\n",
    "\n",
    "Faça o download do notebook (.ipynb ou .pdf) e anexe no Blackboard como resposta. Apenas um deve entregar."
   ]
  }
 ],
 "metadata": {
  "kernelspec": {
   "display_name": "Python 3 (ipykernel)",
   "language": "python",
   "name": "python3"
  },
  "language_info": {
   "codemirror_mode": {
    "name": "ipython",
    "version": 3
   },
   "file_extension": ".py",
   "mimetype": "text/x-python",
   "name": "python",
   "nbconvert_exporter": "python",
   "pygments_lexer": "ipython3",
   "version": "3.10.12"
  }
 },
 "nbformat": 4,
 "nbformat_minor": 5
}
