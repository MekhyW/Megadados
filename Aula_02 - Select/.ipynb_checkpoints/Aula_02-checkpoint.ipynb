{
 "cells": [
  {
   "cell_type": "markdown",
   "metadata": {},
   "source": [
    "# `SELECT`\n",
    "\n",
    "Nesta aula vamos explorar o comando `SELECT`, usado para consultar a base de dados. \n",
    "\n",
    "Instale a base de teste **musica** usando o script `musica.sql`. Este script instala a base de dados de exemplo do livro-texto da disciplina, de modo que vocês podem praticar com os exercícios do livro também!\n",
    "\n",
    "Copie o conteúdo de `musica.sql` e execute no **Workbench**. Então, dê botão direito e atualize a lista de *schemas*. Após, dê botão direito no *schema* **musica**, escolha a opção *set as default schema* e crie uma nova aba **SQL**."
   ]
  },
  {
   "cell_type": "markdown",
   "metadata": {},
   "source": [
    "## Explorando a estrutura da base de dados"
   ]
  },
  {
   "cell_type": "markdown",
   "metadata": {},
   "source": [
    "Nas próximas células, copie o conteúdo dos comandos **SQL** e rode no Workbench.\n",
    "\n",
    "Para ver quais tabelas existem na base `musica`, utilize:"
   ]
  },
  {
   "cell_type": "markdown",
   "metadata": {},
   "source": [
    "<div class=\"alert alert-info\">\n",
    "\n",
    "```mysql\n",
    "SHOW TABLES\n",
    "```\n",
    "\n",
    "</div>"
   ]
  },
  {
   "cell_type": "markdown",
   "metadata": {},
   "source": [
    "Para saber qual o *schema* da tabela `CD`, podemos usar o comando '`DESCRIBE`':"
   ]
  },
  {
   "cell_type": "markdown",
   "metadata": {
    "scrolled": true
   },
   "source": [
    "<div class=\"alert alert-info\">\n",
    "\n",
    "```mysql\n",
    "DESCRIBE CD\n",
    "```\n",
    "\n",
    "</div>"
   ]
  },
  {
   "cell_type": "markdown",
   "metadata": {},
   "source": [
    "## Consultando a base de dados"
   ]
  },
  {
   "cell_type": "markdown",
   "metadata": {},
   "source": [
    "Vamos usar o comando '`SELECT`' para listar os conteudos da tabela 'cd':"
   ]
  },
  {
   "cell_type": "markdown",
   "metadata": {
    "scrolled": true
   },
   "source": [
    "<div class=\"alert alert-info\">\n",
    "\n",
    "```mysql\n",
    "SELECT * FROM CD\n",
    "```\n",
    "\n",
    "</div>"
   ]
  },
  {
   "cell_type": "markdown",
   "metadata": {},
   "source": [
    "O comando acima lista todos os registros da tabela `'CD'`, com todas as colunas presentes:\n",
    "\n",
    "![Seleção da tabela inteira](imgs/tudo.png)\n",
    "\n",
    "Vamos agora selecionar apenas algumas colunas para exibir."
   ]
  },
  {
   "cell_type": "markdown",
   "metadata": {
    "scrolled": true
   },
   "source": [
    "<div class=\"alert alert-info\">\n",
    "\n",
    "```mysql\n",
    "SELECT Nome_CD, Data_Lancamento FROM CD\n",
    "```\n",
    "\n",
    "</div>"
   ]
  },
  {
   "cell_type": "markdown",
   "metadata": {},
   "source": [
    "Agora vemos apenas as colunas escolhidas. Relembrando: a operação de seleção de colunas chama-se **projeção**.\n",
    "\n",
    "![Projeção](imgs/projecao.png)\n",
    "\n",
    "Vamos agora atuar na escolha de linhas, selecionando quais desejamos. Para escolher todas as linhas cujo `Nome_CD` terminem em `'a'`, podemos executar a query a seguir:"
   ]
  },
  {
   "cell_type": "markdown",
   "metadata": {},
   "source": [
    "<div class=\"alert alert-info\">\n",
    "\n",
    "```mysql\n",
    "SELECT * FROM CD WHERE Nome_CD LIKE '%a'\n",
    "```\n",
    "\n",
    "</div>"
   ]
  },
  {
   "cell_type": "markdown",
   "metadata": {},
   "source": [
    "Formatar a query facilita sua compreensão!"
   ]
  },
  {
   "cell_type": "markdown",
   "metadata": {},
   "source": [
    "<div class=\"alert alert-info\">\n",
    "\n",
    "```mysql\n",
    "SELECT \n",
    "    *\n",
    "FROM\n",
    "    CD\n",
    "WHERE\n",
    "    Nome_CD LIKE '%a'\n",
    "```\n",
    "\n",
    "</div>"
   ]
  },
  {
   "cell_type": "markdown",
   "metadata": {},
   "source": [
    "Vemos apenas as linhas escolhidas. Recordando: a operação de filtragem de linhas apropriadas chama-se **seleção**.\n",
    "\n",
    "![Seleção](imgs/selecao.png)"
   ]
  },
  {
   "cell_type": "markdown",
   "metadata": {},
   "source": [
    "### Comentários\n",
    "\n",
    "Comentários podem ser úteis para auxiliar na compreensão das queries. Em SQL, utilizaremos `--` **seguido de um espaço** e tudo a direita será considerado como comentário. Veja um exemplo:"
   ]
  },
  {
   "cell_type": "markdown",
   "metadata": {},
   "source": [
    "<div class=\"alert alert-info\">\n",
    "\n",
    "```mysql\n",
    "SELECT \n",
    "    * \n",
    "FROM\n",
    "    CD\n",
    "WHERE\n",
    "    Nome_CD LIKE '%a' -- Aqui, % tem o mesmo significado que asterisco em uma busca no terminal!\n",
    "```\n",
    "\n",
    "</div>"
   ]
  },
  {
   "cell_type": "markdown",
   "metadata": {},
   "source": [
    "## Cláusula `WHERE`"
   ]
  },
  {
   "cell_type": "markdown",
   "metadata": {},
   "source": [
    "A cláusula `WHERE` permite **filtrar as linhas** da tabela (ou tabelas: aguarde cenas dos próximos capítulos!). Basta especificar a condição de filtragem: o resultado da query será o conjunto de linhas para as quais a condição é verdadeira.\n",
    "\n",
    "Já vimos alguns usos da cláusula `WHERE` acima. Vamos ver mais exemplos:"
   ]
  },
  {
   "cell_type": "markdown",
   "metadata": {},
   "source": [
    "# Queries equivalentes.\n",
    "\n",
    "<div class=\"alert alert-info\">\n",
    "\n",
    "A query:\n",
    "\n",
    "```mysql\n",
    "SELECT * FROM CD\n",
    "```\n",
    "\n",
    "É equivalente a:\n",
    "\n",
    "```mysql\n",
    "SELECT * FROM CD WHERE True\n",
    "```\n",
    "\n",
    "</div>"
   ]
  },
  {
   "cell_type": "markdown",
   "metadata": {},
   "source": [
    "Qual o cd mais antigo que custa 13 reais ou mais?"
   ]
  },
  {
   "cell_type": "markdown",
   "metadata": {},
   "source": [
    "<div class=\"alert alert-info\">\n",
    "\n",
    "```mysql\n",
    "SELECT \n",
    "    Nome_CD,\n",
    "    Preco_Venda,\n",
    "    Data_Lancamento\n",
    "FROM \n",
    "    CD \n",
    "WHERE \n",
    "    Preco_Venda >= 13 \n",
    "```\n",
    "\n",
    "</div>"
   ]
  },
  {
   "cell_type": "markdown",
   "metadata": {},
   "source": [
    "Perceba que, com os resultados obtidos, podemos comparar as datas uma a uma e encontrar a mais antiga. Logo, obtemos o nome do cd mais antigo que custa 13 reais ou mais! Mas será que existe forma mais fácil?\n",
    "\n",
    "## Ordenar linhas\n",
    "\n",
    "Podemos usar o `ORDER BY` para indicar por qual coluna queremos fazer a ordenação. Podemos também indicar com `ASC` que a ordenação será crescente (padrão) e `DESC` para decrescente."
   ]
  },
  {
   "cell_type": "markdown",
   "metadata": {},
   "source": [
    "<div class=\"alert alert-info\">\n",
    "\n",
    "```mysql\n",
    "SELECT \n",
    "    Nome_CD, Preco_Venda, Data_Lancamento\n",
    "FROM \n",
    "    CD \n",
    "WHERE \n",
    "    Preco_Venda >= 13\n",
    "ORDER BY \n",
    "    Data_Lancamento DESC\n",
    "```\n",
    "\n",
    "</div>"
   ]
  },
  {
   "cell_type": "markdown",
   "metadata": {},
   "source": [
    "Pronto! Agora o **CD** requisitado está na última linha, muito mais fácil, não?!\n",
    "\n",
    "Podemos indicar apenas um inteiro como id da coluna a ser ordenada. Entretanto, é uma boa prática escrever o nome da coluna, tanto por facilidade de leitura quanto por mudanças que podem ser feitas nas colunas retornadas pela query, sendo fácil esquecer ou perceber que o id mudou."
   ]
  },
  {
   "cell_type": "markdown",
   "metadata": {},
   "source": [
    "<div class=\"alert alert-info\">\n",
    "\n",
    "```mysql\n",
    "SELECT \n",
    "    Nome_CD, Preco_Venda, Data_Lancamento\n",
    "FROM \n",
    "    CD \n",
    "WHERE \n",
    "    Preco_Venda >= 13\n",
    "ORDER BY \n",
    "    3 DESC\n",
    "```\n",
    "\n",
    "</div>"
   ]
  },
  {
   "cell_type": "markdown",
   "metadata": {},
   "source": [
    "Mas será que precisamos retornar todas as linhas? O nosso interesse está em apenas uma (a que possui **o cd mais antigo que custa 13 reais ou mais**).\n",
    "\n",
    "### `LIMIT`ar a quantidade de linhas retornadas!\n",
    "\n",
    "Podemos utilizar o `LIMIT` para definir um limite máximo da quantidade de linhas retornadas. Isto será bastante útil quando apenas estivermos explorando as tabelas, quando ver três ou cinco linhas da tabela é suficiente (semelhante ao `dataframe.head()` do `pandas`).\n",
    "\n",
    "Vamos tentar?"
   ]
  },
  {
   "cell_type": "markdown",
   "metadata": {},
   "source": [
    "<div class=\"alert alert-info\">\n",
    "\n",
    "```mysql\n",
    "SELECT \n",
    "    Nome_CD, Preco_Venda, Data_Lancamento\n",
    "FROM \n",
    "    CD \n",
    "WHERE \n",
    "    Preco_Venda >= 13\n",
    "ORDER BY \n",
    "    Data_Lancamento DESC\n",
    "LIMIT 1\n",
    "```\n",
    "\n",
    "</div>"
   ]
  },
  {
   "cell_type": "markdown",
   "metadata": {},
   "source": [
    "Não é bem o que queremos, obtemos a **mais atual** ao invés da mais antiga!\n",
    "\n",
    "**Atividade:** Qual o cd mais antigo que custa 13 reais ou mais? Construa uma query que retorne apenas o Nome do CD, com apenas uma linha sendo retornada!"
   ]
  },
  {
   "cell_type": "markdown",
   "metadata": {},
   "source": [
    "<div class=\"alert alert-success\">\n",
    "\n",
    "   \n",
    "```mysql\n",
    "SELECT Nome_CD FROM cd WHERE Preco_Venda >= 13 ORDER BY Data_Lancamento LIMIT 1;\n",
    "```\n",
    "</div>\n"
   ]
  },
  {
   "cell_type": "markdown",
   "metadata": {},
   "source": [
    "### Column Aliases\n",
    "\n",
    "Podemos utilizar **aliases** (pseudônimo/apelido) em **SQL** quando o **nome de uma coluna** precisar ser retornado com de forma diferente do original.\n",
    "\n",
    "Para isto, basta utilizar **as** após o nome da coluna, definindo o novo nome desejado:"
   ]
  },
  {
   "cell_type": "markdown",
   "metadata": {},
   "source": [
    "<div class=\"alert alert-info\">\n",
    "\n",
    "```mysql\n",
    "SELECT \n",
    "    Nome_CD as cd,\n",
    "    Preco_Venda as valor,\n",
    "    Data_Lancamento as data_lanc\n",
    "FROM \n",
    "    CD \n",
    "WHERE \n",
    "    Preco_Venda >= 13\n",
    "ORDER BY \n",
    "    Data_Lancamento DESC\n",
    "```\n",
    "\n",
    "</div>"
   ]
  },
  {
   "cell_type": "markdown",
   "metadata": {},
   "source": [
    "### Vamos praticar queries!\n",
    "\n",
    "Preencha os códigos a seguir com buscas adequadas. Consulte seu livro texto para descobrir como montar essas queries.\n",
    "\n",
    "Teste as queries no **Workbench**. Quando estiver confiante de que ela está correta, cole na variável `sql` e faça a submissão!\n",
    "\n",
    "Vamos importar as bibliotecas pois esta atividade tem testes automáticos!"
   ]
  },
  {
   "cell_type": "code",
   "execution_count": 1,
   "metadata": {},
   "outputs": [
    {
     "data": {
      "text/plain": [
       "True"
      ]
     },
     "execution_count": 1,
     "metadata": {},
     "output_type": "execute_result"
    }
   ],
   "source": [
    "import os\n",
    "import insperautograder.jupyter as iaj\n",
    "from dotenv import load_dotenv\n",
    "\n",
    "load_dotenv(override=True)"
   ]
  },
  {
   "cell_type": "markdown",
   "metadata": {},
   "source": [
    "Conferindo quais atividades estão disponíveis!"
   ]
  },
  {
   "cell_type": "code",
   "execution_count": 2,
   "metadata": {},
   "outputs": [
    {
     "data": {
      "text/markdown": [
       "|    | Atividade   | De                        | Até                       |\n",
       "|---:|:------------|:--------------------------|:--------------------------|\n",
       "|  0 | newborn     | 2023-08-08 03:00:00+00:00 | 2023-08-16 02:59:59+00:00 |\n",
       "|  1 | select01    | 2023-08-08 03:00:00+00:00 | 2023-08-21 02:59:59+00:00 |"
      ],
      "text/plain": [
       "<IPython.core.display.Markdown object>"
      ]
     },
     "metadata": {},
     "output_type": "display_data"
    }
   ],
   "source": [
    "iaj.tasks()"
   ]
  },
  {
   "cell_type": "markdown",
   "metadata": {},
   "source": [
    "Temos estes exercícios disponíveis na atividade da aula de hoje (`select01`):"
   ]
  },
  {
   "cell_type": "code",
   "execution_count": 3,
   "metadata": {},
   "outputs": [
    {
     "data": {
      "text/markdown": [
       "|    | Atividade   | Exercício   |   Peso |   Nota |\n",
       "|---:|:------------|:------------|-------:|-------:|\n",
       "|  0 | select01    | ex01        |      1 |      0 |\n",
       "|  1 | select01    | ex02        |      1 |      0 |\n",
       "|  2 | select01    | ex03        |      1 |      0 |\n",
       "|  3 | select01    | ex04        |      1 |      0 |\n",
       "|  4 | select01    | ex05        |      1 |      0 |"
      ],
      "text/plain": [
       "<IPython.core.display.Markdown object>"
      ]
     },
     "metadata": {},
     "output_type": "display_data"
    }
   ],
   "source": [
    "iaj.grades(task='select01')"
   ]
  },
  {
   "cell_type": "markdown",
   "metadata": {},
   "source": [
    "E começamos com nota **zero!**"
   ]
  },
  {
   "cell_type": "code",
   "execution_count": 4,
   "metadata": {},
   "outputs": [
    {
     "data": {
      "text/markdown": [
       "|    | Tarefa   |   Nota |\n",
       "|---:|:---------|-------:|\n",
       "|  0 | select01 |      0 |"
      ],
      "text/plain": [
       "<IPython.core.display.Markdown object>"
      ]
     },
     "metadata": {},
     "output_type": "display_data"
    }
   ],
   "source": [
    "iaj.grades(by='TASK', task='select01')"
   ]
  },
  {
   "cell_type": "markdown",
   "metadata": {},
   "source": [
    "Pronto, hora de trabalhar!\n",
    "\n",
    "**Exercício 01**: Qual o nome da música com duração mais longa? Retorne uma coluna chamada `nome_musica_mais_longa`."
   ]
  },
  {
   "cell_type": "markdown",
   "metadata": {},
   "source": [
    "<div class=\"alert alert-success\">\n",
    "\n",
    "   \n",
    "```mysql\n",
    "-- Sua resposta aqui!\n",
    "-- Dê dois cliques e edite a QUERY se quiser vê-la formatada!\n",
    "```\n",
    "</div>\n"
   ]
  },
  {
   "cell_type": "code",
   "execution_count": 7,
   "metadata": {},
   "outputs": [],
   "source": [
    "sql01 = \"\"\"\n",
    "SELECT Nome_Musica AS nome_musica_mais_longa FROM MUSICA ORDER BY Duracao DESC LIMIT 1;\n",
    "\"\"\""
   ]
  },
  {
   "cell_type": "code",
   "execution_count": 8,
   "metadata": {},
   "outputs": [
    {
     "data": {
      "application/vnd.jupyter.widget-view+json": {
       "model_id": "a2012ce888904254b0d6bb938c3148d6",
       "version_major": 2,
       "version_minor": 0
      },
      "text/plain": [
       "interactive(children=(Button(description='Enviar ex01', style=ButtonStyle()), Output()), _dom_classes=('widget…"
      ]
     },
     "execution_count": 8,
     "metadata": {},
     "output_type": "execute_result"
    }
   ],
   "source": [
    "iaj.sender(answer='sql01', task='select01', question='ex01', answer_type='pyvar')"
   ]
  },
  {
   "cell_type": "markdown",
   "metadata": {},
   "source": [
    "**Exercício 02**: Quais gravadoras não tem endereço declarado?\n",
    "- **Dica**: https://dev.mysql.com/doc/refman/8.0/en/problems-with-null.html"
   ]
  },
  {
   "cell_type": "markdown",
   "metadata": {},
   "source": [
    "<div class=\"alert alert-success\">\n",
    "\n",
    "   \n",
    "```mysql\n",
    "-- Sua resposta aqui!\n",
    "-- Dê dois cliques e edite a QUERY se quiser vê-la formatada!\n",
    "```\n",
    "</div>\n"
   ]
  },
  {
   "cell_type": "code",
   "execution_count": 9,
   "metadata": {},
   "outputs": [],
   "source": [
    "sql02 = \"\"\"\n",
    "SELECT Nome_Gravadora FROM GRAVADORA WHERE Endereco IS NULL;\n",
    "\"\"\""
   ]
  },
  {
   "cell_type": "code",
   "execution_count": 10,
   "metadata": {},
   "outputs": [
    {
     "data": {
      "application/vnd.jupyter.widget-view+json": {
       "model_id": "eb3eb0f7e81441598f98e3d6ab64630a",
       "version_major": 2,
       "version_minor": 0
      },
      "text/plain": [
       "interactive(children=(Button(description='Enviar ex02', style=ButtonStyle()), Output()), _dom_classes=('widget…"
      ]
     },
     "execution_count": 10,
     "metadata": {},
     "output_type": "execute_result"
    }
   ],
   "source": [
    "iaj.sender(answer='sql02', task='select01', question='ex02', answer_type='pyvar')"
   ]
  },
  {
   "cell_type": "markdown",
   "metadata": {},
   "source": [
    "**Exercício 03**: Quais cds foram lançados na década de 90?\n",
    "- **Dica**:\n",
    "    - Anos da década de 90 estão **ENTRE** quais anos?\n",
    "    - Como dizemos **ENTRE** em ingles?\n",
    "    - https://dev.mysql.com/doc/refman/8.0/en/comparison-operators.html"
   ]
  },
  {
   "cell_type": "markdown",
   "metadata": {},
   "source": [
    "<div class=\"alert alert-success\">\n",
    "\n",
    "   \n",
    "```mysql\n",
    "-- Sua resposta aqui!\n",
    "-- Dê dois cliques e edite a QUERY se quiser vê-la formatada!\n",
    "```\n",
    "</div>\n"
   ]
  },
  {
   "cell_type": "code",
   "execution_count": 11,
   "metadata": {},
   "outputs": [],
   "source": [
    "sql03 = \"\"\"\n",
    "SELECT Nome_CD FROM CD WHERE Data_Lancamento LIKE '199%';\n",
    "\"\"\""
   ]
  },
  {
   "cell_type": "code",
   "execution_count": 12,
   "metadata": {},
   "outputs": [
    {
     "data": {
      "application/vnd.jupyter.widget-view+json": {
       "model_id": "ae83cdae6266415388a5b5b0c4aae8e6",
       "version_major": 2,
       "version_minor": 0
      },
      "text/plain": [
       "interactive(children=(Button(description='Enviar ex03', style=ButtonStyle()), Output()), _dom_classes=('widget…"
      ]
     },
     "execution_count": 12,
     "metadata": {},
     "output_type": "execute_result"
    }
   ],
   "source": [
    "iaj.sender(answer='sql03', task='select01', question='ex03', answer_type='pyvar')"
   ]
  },
  {
   "cell_type": "markdown",
   "metadata": {},
   "source": [
    "**Exercício 04**: Quais cds foram lançados na década de 90 e custam 10 reais ou menos?\n",
    "- **Dica**: `AND`, `OR`"
   ]
  },
  {
   "cell_type": "markdown",
   "metadata": {},
   "source": [
    "<div class=\"alert alert-success\">\n",
    "\n",
    "   \n",
    "```mysql\n",
    "-- Sua resposta aqui!\n",
    "-- Dê dois cliques e edite a QUERY se quiser vê-la formatada!\n",
    "```\n",
    "</div>\n"
   ]
  },
  {
   "cell_type": "code",
   "execution_count": 13,
   "metadata": {},
   "outputs": [],
   "source": [
    "sql04 = \"\"\"\n",
    "SELECT Nome_CD FROM CD WHERE Data_Lancamento LIKE '199%' AND Preco_Venda <= 10;\n",
    "\"\"\""
   ]
  },
  {
   "cell_type": "code",
   "execution_count": 14,
   "metadata": {},
   "outputs": [
    {
     "data": {
      "application/vnd.jupyter.widget-view+json": {
       "model_id": "925b394b25f6487cbf1ce8901bc62338",
       "version_major": 2,
       "version_minor": 0
      },
      "text/plain": [
       "interactive(children=(Button(description='Enviar ex04', style=ButtonStyle()), Output()), _dom_classes=('widget…"
      ]
     },
     "execution_count": 14,
     "metadata": {},
     "output_type": "execute_result"
    }
   ],
   "source": [
    "iaj.sender(answer='sql04', task='select01', question='ex04', answer_type='pyvar')"
   ]
  },
  {
   "cell_type": "markdown",
   "metadata": {},
   "source": [
    "**Exercício 05**: Quais cds receberam alguma recomendação? Liste seus ids."
   ]
  },
  {
   "cell_type": "markdown",
   "metadata": {},
   "source": [
    "<div class=\"alert alert-success\">\n",
    "\n",
    "   \n",
    "```mysql\n",
    "-- Sua resposta aqui!\n",
    "-- Dê dois cliques e edite a QUERY se quiser vê-la formatada!\n",
    "```\n",
    "</div>\n"
   ]
  },
  {
   "cell_type": "code",
   "execution_count": 17,
   "metadata": {},
   "outputs": [],
   "source": [
    "sql05 = \"\"\"\n",
    "SELECT Codigo_CD FROM CD WHERE Codigo_CD IN (SELECT CD_Indicado FROM CD);\n",
    "\"\"\""
   ]
  },
  {
   "cell_type": "code",
   "execution_count": 18,
   "metadata": {},
   "outputs": [
    {
     "data": {
      "application/vnd.jupyter.widget-view+json": {
       "model_id": "713486d643fe4e74a31d41882bb769e3",
       "version_major": 2,
       "version_minor": 0
      },
      "text/plain": [
       "interactive(children=(Button(description='Enviar ex05', style=ButtonStyle()), Output()), _dom_classes=('widget…"
      ]
     },
     "execution_count": 18,
     "metadata": {},
     "output_type": "execute_result"
    }
   ],
   "source": [
    "iaj.sender(answer='sql05', task='select01', question='ex05', answer_type='pyvar')"
   ]
  },
  {
   "cell_type": "markdown",
   "metadata": {},
   "source": [
    "## Conferir notas\n",
    "\n",
    "Vamos verificar se as notas foram gravadas nos exercícios!"
   ]
  },
  {
   "cell_type": "code",
   "execution_count": 19,
   "metadata": {},
   "outputs": [
    {
     "data": {
      "text/markdown": [
       "|    | Atividade   | Exercício   |   Peso |   Nota |\n",
       "|---:|:------------|:------------|-------:|-------:|\n",
       "|  0 | select01    | ex01        |      1 |     10 |\n",
       "|  1 | select01    | ex02        |      1 |     10 |\n",
       "|  2 | select01    | ex03        |      1 |     10 |\n",
       "|  3 | select01    | ex04        |      1 |     10 |\n",
       "|  4 | select01    | ex05        |      1 |     10 |"
      ],
      "text/plain": [
       "<IPython.core.display.Markdown object>"
      ]
     },
     "metadata": {},
     "output_type": "display_data"
    }
   ],
   "source": [
    "iaj.grades(task='select01')"
   ]
  },
  {
   "cell_type": "markdown",
   "metadata": {},
   "source": [
    "Vamos verificar se a nota da atividade está ok:"
   ]
  },
  {
   "cell_type": "code",
   "execution_count": 20,
   "metadata": {},
   "outputs": [
    {
     "data": {
      "text/markdown": [
       "|    | Tarefa   |   Nota |\n",
       "|---:|:---------|-------:|\n",
       "|  0 | select01 |     10 |"
      ],
      "text/plain": [
       "<IPython.core.display.Markdown object>"
      ]
     },
     "metadata": {},
     "output_type": "display_data"
    }
   ],
   "source": [
    "iaj.grades(by='TASK', task='select01')"
   ]
  },
  {
   "cell_type": "markdown",
   "metadata": {},
   "source": [
    "## Finalizando o trabalho"
   ]
  },
  {
   "cell_type": "markdown",
   "metadata": {},
   "source": [
    "Por hoje é só! Pratique com os exercícios do seu livro texto."
   ]
  }
 ],
 "metadata": {
  "kernelspec": {
   "display_name": "Python 3 (ipykernel)",
   "language": "python",
   "name": "python3"
  },
  "language_info": {
   "codemirror_mode": {
    "name": "ipython",
    "version": 3
   },
   "file_extension": ".py",
   "mimetype": "text/x-python",
   "name": "python",
   "nbconvert_exporter": "python",
   "pygments_lexer": "ipython3",
   "version": "3.11.0"
  }
 },
 "nbformat": 4,
 "nbformat_minor": 4
}
