{
 "cells": [
  {
   "cell_type": "markdown",
   "id": "f62ded59",
   "metadata": {},
   "source": [
    "# Simulado para AF de MEGADADOS\n",
    "\n",
    "Utilize este notebook como uma das etapas de preparação para a Avaliação Final. Considere que foi realizado um recorte dos conteúdos e assuntos não cobertos neste notebook ainda poderão ser cobrados."
   ]
  },
  {
   "cell_type": "markdown",
   "id": "ee1fa31d",
   "metadata": {},
   "source": [
    "**NOME**: SEU NOME AQUI!"
   ]
  },
  {
   "cell_type": "markdown",
   "id": "7ffd3664",
   "metadata": {},
   "source": [
    "## Insper autograding!\n",
    "\n",
    "Para receber feedback dos exercício na parte 1, iremos utilizar o `insper autograding`. Se não fez este passo, abra o notebook disponível na aula 09.\n",
    "\n",
    "**Sugestão**: para aproveitar o `.env`, crie uma pasta para a prova no mesmo local onde costuma deixar as pastas das **aulas**!"
   ]
  },
  {
   "cell_type": "markdown",
   "id": "69ee33d4",
   "metadata": {},
   "source": [
    "## Como resolver os exercícios?\n",
    "\n",
    "Crie a base da prova em sua máquina (Exercício 1). Utilize o notebook, MySQL Workbench ou o conector para testar as queries e soluções. Quando estiver bastante certo de que a resposta está correta, faça a submissão para o servidor.\n",
    "\n",
    "## Import das bibliotecas\n",
    "\n",
    "Vamos realizar o import das bibliotecas."
   ]
  },
  {
   "cell_type": "code",
   "execution_count": null,
   "id": "b2f1597a",
   "metadata": {},
   "outputs": [],
   "source": [
    "import mysql.connector\n",
    "from functools import partial\n",
    "import os\n",
    "import insperautograder.jupyter as ia\n",
    "from dotenv import load_dotenv\n",
    "from functools import reduce"
   ]
  },
  {
   "cell_type": "markdown",
   "id": "33eefa0d",
   "metadata": {},
   "source": [
    "E vamos criar nosso HELPER de conexão com o banco! Perceba que, uma vez configurado o `.env` não precisaremos mais informar usuários, senhas e URLs!"
   ]
  },
  {
   "cell_type": "code",
   "execution_count": null,
   "id": "f5147533",
   "metadata": {},
   "outputs": [],
   "source": [
    "load_dotenv(override=True)\n",
    "\n",
    "def get_connection_helper():\n",
    "\n",
    "    def run_db_query(connection, query, args=None):\n",
    "        with connection.cursor() as cursor:\n",
    "            print('Executando query:')\n",
    "            cursor.execute(query, args)\n",
    "            for result in cursor:\n",
    "                print(result)\n",
    "\n",
    "    connection = mysql.connector.connect(\n",
    "        host=os.getenv('MD_DB_SERVER'),\n",
    "        user=os.getenv('MD_DB_USERNAME'),\n",
    "        password=os.getenv('MD_DB_PASSWORD'),\n",
    "        database='parques',\n",
    "    )\n",
    "    return connection, partial(run_db_query, connection)\n",
    "\n",
    "\n",
    "connection, db = get_connection_helper()"
   ]
  },
  {
   "cell_type": "markdown",
   "id": "86e481dc",
   "metadata": {},
   "source": [
    "### Notas\n",
    "\n",
    "Para conferir a nota da correção automática da prova, utilize:"
   ]
  },
  {
   "cell_type": "code",
   "execution_count": null,
   "id": "9d0c9a82",
   "metadata": {},
   "outputs": [],
   "source": [
    "ia.grades(task='revisao_af_md_1')"
   ]
  },
  {
   "cell_type": "code",
   "execution_count": null,
   "id": "088634f3",
   "metadata": {},
   "outputs": [],
   "source": [
    "ia.grades(by='TASK', task='revisao_af_md_1')"
   ]
  },
  {
   "cell_type": "markdown",
   "id": "0e9420be",
   "metadata": {},
   "source": [
    "**Exercício 1**:\n",
    "\n",
    "Em uma cidade temos vários parques públicos. A prefeitura resolveu privatizar a zeladoria de todos eles: existe um conjunto de empresas administradoras, cada uma delas responsável por alguns parques da cidade. Para monitorar o trabalho dessas empresas, a prefeitura criou o aplicativo \"**Fiscais do Parque**\", onde usuários podem notificar ocorrências indesejáveis.\n",
    "\n",
    "O modelo entidade-relacionamento que representa esse cenário é visto abaixo:\n",
    "\n",
    "<img src=\"img/modelo_er.png\">\n",
    "\n",
    "O modelo relacional correspondente ao *design* acima é visto a seguir:\n",
    "\n",
    "<img src=\"img/modelo_relacional.png\">\n",
    "\n",
    "O script `pf.sql` contém o código para criar o banco de dados `parques` no MySQL e também adiciona dados de exemplo, usem a vontade para testar as respostas das questões da prova!"
   ]
  },
  {
   "cell_type": "markdown",
   "id": "101d1515",
   "metadata": {},
   "source": [
    "**a)** Escreva uma query que liste todas as administradoras (apenas o `nome`), ordenadas por número de eventos de segurança ocorridos nos parques que administram. Pegadinha: e se não houve evento de segurança em seus parques?"
   ]
  },
  {
   "cell_type": "code",
   "execution_count": null,
   "id": "3fe356ea",
   "metadata": {},
   "outputs": [],
   "source": [
    "sql_ex01a = '''\n",
    "-- Sua query AQUI!\n",
    "'''\n",
    "\n",
    "db(sql_ex01a)"
   ]
  },
  {
   "cell_type": "code",
   "execution_count": null,
   "id": "7e585eec",
   "metadata": {
    "scrolled": true
   },
   "outputs": [],
   "source": [
    "ia.sender(answer='sql_ex01a', task='revisao_af_md_1', question='ex01a', answer_type='pyvar')"
   ]
  },
  {
   "cell_type": "markdown",
   "id": "9c7b8553",
   "metadata": {},
   "source": [
    "**b)** Crie uma tabela temporária chamada `tmp_total` que tem as colunas `(id_usuario, total)` onde a coluna `total` indica o numero total de eventos notificados pelo usuario `id_usuario`."
   ]
  },
  {
   "cell_type": "code",
   "execution_count": null,
   "id": "06311dbc",
   "metadata": {},
   "outputs": [],
   "source": [
    "sql_ex01b = '''\n",
    "-- Sua query AQUI!\n",
    "'''\n",
    "\n",
    "db(sql_ex01b)"
   ]
  },
  {
   "cell_type": "code",
   "execution_count": null,
   "id": "e9504233",
   "metadata": {
    "scrolled": false
   },
   "outputs": [],
   "source": [
    "ia.sender(answer='sql_ex01b', task='revisao_af_md_1', question='ex01b', answer_type='pyvar')"
   ]
  },
  {
   "cell_type": "markdown",
   "id": "7bc296ad",
   "metadata": {},
   "source": [
    "**c)** Crie uma tabela temporária chamada `tmp_usuario_parque` que tem as colunas (`id_usuario`, `id_parque`, `contagem`) onde `contagem` é o número de eventos que o usuário `id_usuario` notificou acerca do parque `id_parque`.\n",
    "\n",
    "Dica: `GROUP BY` permite agrupar por multiplas colunas.\n",
    "\n",
    "**Obs**:\n",
    "- Ordene de forma crescente por `id_usuario`, `id_parque`"
   ]
  },
  {
   "cell_type": "code",
   "execution_count": null,
   "id": "55633dce",
   "metadata": {},
   "outputs": [],
   "source": [
    "sql_ex01c = '''\n",
    "-- Sua query AQUI!\n",
    "'''\n",
    "\n",
    "db(sql_ex01c)"
   ]
  },
  {
   "cell_type": "markdown",
   "id": "6c3051ef",
   "metadata": {},
   "source": [
    "Após testar localmente e considerar sua solução correta, faça o envio clicando no botão abaixo!"
   ]
  },
  {
   "cell_type": "code",
   "execution_count": null,
   "id": "c376b54d",
   "metadata": {
    "scrolled": false
   },
   "outputs": [],
   "source": [
    "ia.sender(answer='sql_ex01c', task='revisao_af_md_1', question='ex01c', answer_type='pyvar')"
   ]
  },
  {
   "cell_type": "markdown",
   "id": "4528aa8e",
   "metadata": {},
   "source": [
    "**d)** Um usuário é um **fã** de um parque se a fração de eventos que ele notifica para o parque, em relação ao número total de eventos que ele notificou para todos os parques, é superior a 20%. Usando as tabelas temporárias acima (mesmo que não as tenha desenvolvido) faça uma query que lista os usuários que são fãs de dois ou mais parques.\n",
    "\n",
    "**Obs**:\n",
    "\n",
    "- Suponha que as tabelas temporárias já existem, faça apenas a query que retorne o `id_usuario` dos fãs!\n",
    "- Ordene de forma crescente pelo `id_usuario`"
   ]
  },
  {
   "cell_type": "code",
   "execution_count": null,
   "id": "1d7c29ce",
   "metadata": {},
   "outputs": [],
   "source": [
    "sql_ex01d = '''\n",
    "-- Sua query AQUI!\n",
    "'''\n",
    "\n",
    "db(sql_ex01d)"
   ]
  },
  {
   "cell_type": "markdown",
   "id": "d14a627b",
   "metadata": {},
   "source": [
    "Após testar localmente e considerar sua solução correta, faça o envio clicando no botão abaixo!"
   ]
  },
  {
   "cell_type": "code",
   "execution_count": null,
   "id": "ebe77591",
   "metadata": {
    "scrolled": false
   },
   "outputs": [],
   "source": [
    "ia.sender(answer='sql_ex01d', task='revisao_af_md_1', question='ex01d', answer_type='pyvar')"
   ]
  },
  {
   "cell_type": "markdown",
   "id": "4151795b",
   "metadata": {},
   "source": [
    "**e)** Nos itens (b), (c) e (d) construímos uma solução para encontrar os fãs dos parques através do uso de duas tabelas temporárias e uma query. Essa solução tem uma falha: pode ser que entre a criação da tabela `tmp_total` e da tabela `tmp_usuario_parque` tivemos a chegada de novos eventos!\n",
    "\n",
    "Explique porque isso causa uma inconsistência na solução, e proponha um jeito de resolver esse problema (não precisa implementar, apenas propor a forma de resolver – mas seja preciso na especificação!).\n",
    "\n",
    "Esta questão será corrigida considerando a seguinte subrica:\n",
    "\n",
    "| Conceito | Nota | Descrição                                                                                                                                               |\n",
    "|:----------:|----------:|:---------------------------------------------------------------------------------------------------------------------------------------------------------|\n",
    "| I        | 0.0 |Apenas citou o assunto ou alguns fatos sem explicações                                                                                                  |\n",
    "| D        | 0.3 |Explicou superficialmente o assunto ou fatos mas sem muitos detalhes conclusivos                                                                        |\n",
    "| C        | 0.6 |Explicou com detalhes, apresentando definições concretas.                                                                                               |\n",
    "| B        | 0.8 |Explicou com detalhes, apresentando definições concretas e exemplos de uso.                                                                            |\n",
    "| A        | 1.0 |Explicou com detalhes, apresentando definições concretas, exemplos de uso e ainda outros tópicos correlatos, fazendo uma conexão lógica entre eles. |"
   ]
  },
  {
   "cell_type": "markdown",
   "id": "8a8a4f65",
   "metadata": {},
   "source": [
    "<div class=\"alert alert-success\">\n",
    "\n",
    "Sua resposta AQUI!\n",
    "\n",
    "</div>"
   ]
  },
  {
   "cell_type": "markdown",
   "id": "67d29cec",
   "metadata": {},
   "source": [
    "**f)** Algum engenheiro da sua equipe propôs adicionar uma coluna chamada `cont_eventos` à tabela `aministradora` para manter a contagem total de eventos em parques sob administração de cada empresa.\n",
    "\n",
    "Obviamente trata-se de uma redundância no nosso banco de dados, e redundâncias são perigosas: podem resultar em uma inconsistência. Mas, por algum motivo bizarro (performance talvez?), você não tem alternativa a não ser implementar essa *feature*.\n",
    "\n",
    "Crie uma **trigger** que incremente a coluna `cont_eventos` na `administradora` adequada sempre que um novo `evento` for inserido.\n",
    "\n",
    "**Obs**:\n",
    "- Idealmente, a coluna precisaria ser decrementada quando houvesse uma remoção de evento. Entretanto, nesta questão iremos considerar apenas o caso de inserção!\n",
    "- Crie a coluna `cont_eventos` em seu database local para testar\n",
    "- No servidor, considere que a coluna `cont_eventos` já existe. Submeta apenas o código de criação da trigger.\n",
    "- Faça vários inserts para testar!"
   ]
  },
  {
   "cell_type": "code",
   "execution_count": null,
   "id": "45b889d1",
   "metadata": {},
   "outputs": [],
   "source": [
    "sql_ex01f = '''\n",
    "-- Sua query AQUI!\n",
    "'''\n",
    "\n",
    "db(sql_ex01f)"
   ]
  },
  {
   "cell_type": "markdown",
   "id": "f0dc25cd",
   "metadata": {},
   "source": [
    "Após testar localmente e considerar sua solução correta, faça o envio clicando no botão abaixo!"
   ]
  },
  {
   "cell_type": "code",
   "execution_count": null,
   "id": "f1f4a841",
   "metadata": {
    "scrolled": false
   },
   "outputs": [],
   "source": [
    "ia.sender(answer='sql_ex01f', task='revisao_af_md_1', question='ex01f', answer_type='pyvar')"
   ]
  },
  {
   "cell_type": "markdown",
   "id": "b75e8d50",
   "metadata": {},
   "source": [
    "**Exercício 2**:\n",
    "\n",
    "Explique com suas palavras: porque o Spark é baseado em um paradigma de programação funcional?\n",
    "\n",
    "Esta questão será corrigida considerando a seguinte subrica:\n",
    "\n",
    "| Conceito | Nota | Descrição                                                                                                                                               |\n",
    "|:----------:|----------:|:---------------------------------------------------------------------------------------------------------------------------------------------------------|\n",
    "| I        | 0.0 |Apenas citou o assunto ou alguns fatos sem explicações                                                                                                  |\n",
    "| D        | 0.3 |Explicou superficialmente o assunto ou fatos mas sem muitos detalhes conclusivos                                                                        |\n",
    "| C        | 0.6 |Explicou com detalhes, apresentando definições concretas.                                                                                               |\n",
    "| B        | 0.8 |Explicou com detalhes, apresentando definições concretas e exemplos de uso.                                                                            |\n",
    "| A        | 1.0 |Explicou com detalhes, apresentando definições concretas, exemplos de uso e ainda outros tópicos correlatos, fazendo uma conexão lógica entre eles. |"
   ]
  },
  {
   "cell_type": "markdown",
   "id": "2204bffb",
   "metadata": {},
   "source": [
    "<div class=\"alert alert-success\">\n",
    "\n",
    "Sua resposta AQUI!\n",
    "\n",
    "</div>"
   ]
  },
  {
   "cell_type": "markdown",
   "id": "0125ee55",
   "metadata": {},
   "source": [
    "**Exercício 3**:\n",
    "\n",
    "Escreva uma função `func_ex` em Python usando apenas ferramentas de programação funcional (como map(), functools.reduce(), filter(), zip(), list comprehensions, etc.) para a seguinte tarefa: \n",
    "\n",
    "- São dadas duas listas $x$ e $y$ de números reais, de mesmo comprimento . Cada elemento de cada lista é um número real ou `None`, indicando que o número está ausente.\n",
    "\n",
    "- A função deverá calcular a soma a seguir:\n",
    "\n",
    "$$\\sum_{\n",
    "\\begin{matrix}\n",
    "i=1,2,\\dots,n\\\\ \n",
    "x_i \\neq \\text{None}\\\\ \n",
    "y_i \\neq \\text{None}\n",
    "\\end{matrix}}{(x_i - y_i)^2}$$\n",
    "\n",
    "Ou seja, a soma dos quadrados das diferenças entre os valores de $x$ e $y$, mas apenas quando ambos os valores não são `None`.\n",
    "\n",
    "**Obs**:\n",
    "- Na matemática o primeiro índice é 1. Considere que todos os pares de items devem ser submetidos ao cálculo\n",
    "- Utilize funções aninhadas ou internas se necessário\n",
    "- Não pode utilizar `for`. Tente fazer sem `sum` (crie versão com `reduce`)!"
   ]
  },
  {
   "cell_type": "code",
   "execution_count": null,
   "id": "cdd4caa5",
   "metadata": {},
   "outputs": [],
   "source": [
    "# Altere esta função\n",
    "def func_ex(x, y):\n",
    "    pass"
   ]
  },
  {
   "cell_type": "code",
   "execution_count": null,
   "id": "03131a6f",
   "metadata": {},
   "outputs": [],
   "source": [
    "x = [1, 2, 3]\n",
    "y = [1, 4, 6]\n",
    "z = [+2, -2, -2, 0, None, None,   20]\n",
    "w = [-2, -2, +2, 0,    5, None, None]\n",
    "\n",
    "# Alguns testes, objetivo é não dar Exception!\n",
    "assert func_ex(x,x) == 0  # de x para x deve ser zero\n",
    "assert func_ex(y,y) == 0  # de y para y deve ser zero\n",
    "assert func_ex(x,y) == 13 # de x para y deve ser 13\n",
    "assert func_ex(y,x) == func_ex(x,y) # de x para y deve ser igual dist. y para x\n",
    "\n",
    "assert func_ex(z,z) == 0\n",
    "assert func_ex(w,w) == 0\n",
    "assert func_ex(z,w) == func_ex(w,z)\n",
    "assert func_ex(z,w) == 32"
   ]
  },
  {
   "cell_type": "markdown",
   "id": "d17f9748",
   "metadata": {},
   "source": [
    "**Exercício 4**:\n",
    "\n",
    "O site https://lichess.org permite que pessoas do mundo todo joguem xadrez online (mesmo com deficiência visual!).\n",
    "\n",
    "É gratuito, funciona com doações (lichess.org é uma instituição sem fins lucrativos na França) que servem para sustentar o custo dos servidores (web app, varios bancos de dados, sistemas de análise de jogos – e.g. stockfish – etc.) e o salário do desenvolvedor principal e criador da plataforma. O código-fonte é aberto, e desenvolvido principalmente em Scala (pelas vantagens da programação funcional, vejam só!).\n",
    "\n",
    "Na página de doações (https://lichess.org/patron) tem uma planilha de custos que lista todos os servidores, suas capacidades e custos. Tem também um dado interessante: são 5.200.000 jogos por dia atualmente!\n",
    "\n",
    "Suponha que cada jogo tem em média 50 lances, que cada lance pode ser armazenado como um par de bytes indicando a casa de origem e destino de uma peça. Suponha ainda que o número de jogos por ano dobra a cada ano. A planilha de custos do lichess informa que o servidor de banco de dados tem 3840 GB de disco; suponha que 1TB ainda esteja livre para armazenamento de dados. A partir de agora, quantos anos de armazenamento de jogos o servidor ainda aguenta?"
   ]
  },
  {
   "cell_type": "markdown",
   "id": "5c9cc072",
   "metadata": {},
   "source": [
    "<div class=\"alert alert-success\">\n",
    "\n",
    "Sua resposta AQUI!\n",
    "\n",
    "</div>"
   ]
  },
  {
   "cell_type": "markdown",
   "id": "663d9137",
   "metadata": {},
   "source": [
    "**Exercício 5**:\n",
    "\n",
    "Considerando a tabela de gastos para departamentos de filiais de uma empresa:\n",
    "\n",
    "| id_filial (PK) | id_departamento (PK) | descricao  | id_cidade  | cidade | valor |\n",
    "|----------------|----------------------|------------|------------|--------|-------|\n",
    "| 10             | 55                   | TI         | 1          | Santos | 45.00 |\n",
    "| 20             | 55                   | TI         | 2          | Jundiaí|  7.50 |\n",
    "| 20             | 56                   | Marketing  | 2          | Jundiaí| 22.91 |\n",
    "| 10             | 56                   | Marketing  | 1          | Santos |  6.12 |\n",
    "\n",
    "**a)** A tabela está na `1NF`? Está na `2NF`? E na `3NF`? Justifique."
   ]
  },
  {
   "cell_type": "markdown",
   "id": "723c0709",
   "metadata": {},
   "source": [
    "<div class=\"alert alert-success\">\n",
    "\n",
    "Sua resposta AQUI!\n",
    "\n",
    "</div>"
   ]
  },
  {
   "cell_type": "markdown",
   "id": "b18d8629",
   "metadata": {},
   "source": [
    "**b)** Caso não esteja na 3NF, proponha modificações até que esteja na 3NF."
   ]
  },
  {
   "cell_type": "markdown",
   "id": "41b69430",
   "metadata": {},
   "source": [
    "<div class=\"alert alert-success\">\n",
    "\n",
    "Sua resposta AQUI!\n",
    "    \n",
    "Exemplo de tabela, crie quantas precisar!\n",
    "\n",
    "| id_filial (PK) | id_departamento (PK) | descricao  | id_cidade  | cidade | valor |\n",
    "|----------------|----------------------|------------|------------|--------|-------|\n",
    "| 10             | 55                   | TI         | 1          | Santos | 45.00 |\n",
    "| 20             | 55                   | TI         | 2          | Jundiaí|  7.50 |\n",
    "| 20             | 56                   | Marketing  | 2          | Jundiaí| 22.91 |\n",
    "| 10             | 56                   | Marketing  | 1          | Santos |  6.12 |\n",
    "\n",
    "Você pode editar tabelas markdown em https://www.tablesgenerator.com/markdown_tables\n",
    "</div>"
   ]
  },
  {
   "cell_type": "markdown",
   "id": "405230dc",
   "metadata": {},
   "source": [
    "### Conferindo as notas!"
   ]
  },
  {
   "cell_type": "code",
   "execution_count": null,
   "id": "b65540cb",
   "metadata": {},
   "outputs": [],
   "source": [
    "ia.grades(task='revisao_af_md_1')"
   ]
  },
  {
   "cell_type": "markdown",
   "id": "cc63d0f3",
   "metadata": {},
   "source": [
    "## Entrega!\n",
    "\n",
    "Não precisa entregar na revisão, apenas na prova! Deixamos para fins didáticos!\n",
    "\n",
    "É hora de entregar. Faça um **zip** do notebook + imagens chamado `revisao_af_megadados.zip` e submeta no Blackboard!\n",
    "\n",
    "**Obs**:\n",
    "- `zip`, não use `rar`!\n",
    "- Não precisa entregar os scripts fornecidos pelo professor (pasta scripts)"
   ]
  },
  {
   "cell_type": "markdown",
   "id": "81a1975d",
   "metadata": {},
   "source": [
    "## Gabarito"
   ]
  },
  {
   "cell_type": "markdown",
   "id": "844d534b",
   "metadata": {},
   "source": [
    "**<div id=\"gab_ex3\">Exercício 3</div>**\n",
    "Solução sem funcional (não seria aceita como resposta):\n",
    "\n",
    "```python\n",
    "def func_ex(x, y):\n",
    "    N = len(x)\n",
    "    assert N == len(y)\n",
    "    soma = 0.0\n",
    "    for k in range(N):\n",
    "        if x[k] != None and y[k] != None:\n",
    "            soma += (x[k] - y[k])**2\n",
    "    return soma\n",
    "```\n",
    "\n",
    "Algumas opções que poderiam ser consideradas como corretas:\n",
    "\n",
    "```python\n",
    "def func_ex(x, y):\n",
    "    \n",
    "    def diff(a,b):\n",
    "        return 0 if a is None or b is None else (a - b) ** 2\n",
    "    \n",
    "    pairs = zip(x,y)\n",
    "    sq_diffs = map(lambda pair: diff(pair[0], pair[1]), pairs)\n",
    "    soma = reduce(lambda x, y: x + y, sq_diffs)\n",
    "    return soma\n",
    "```\n",
    "    \n",
    "```python\n",
    "def func_ex(x, y):\n",
    "    return reduce(\n",
    "        lambda x, y: x + y,\n",
    "        map(\n",
    "            lambda x: (x[0] - x[1])**2,\n",
    "            filter(\n",
    "                lambda x: x[0] != None and x[1] != None,\n",
    "                zip(x, y),\n",
    "            ),\n",
    "        ),\n",
    "        0,\n",
    "    )\n",
    "```\n",
    "\n",
    "Opção com `sum`:\n",
    "```python\n",
    "def func_ex(x, y):\n",
    "    return sum(\n",
    "        map(\n",
    "            lambda x: (x[0] - x[1])**2,\n",
    "            filter(\n",
    "                lambda x: x[0] != None and x[1] != None,\n",
    "                zip(x, y),\n",
    "            ),\n",
    "        ),\n",
    "    )\n",
    "```"
   ]
  },
  {
   "cell_type": "markdown",
   "id": "0a356dbd",
   "metadata": {},
   "source": [
    "**<div id=\"gab_ex4\">Exercício 4</div>**\n",
    "O número de jogos por dia é dado por \n",
    "$$\n",
    "f(t) = 5.2 \\times 10^6 \\times 2^{\\frac{t}{365}},\n",
    "$$\n",
    "onde $t$ é o número do dia. O número de bytes a serem armazenados por dia é\n",
    "$$\n",
    "g(t) = 50 \\frac{\\text{lances}}{\\text{partida}}  \\times 2 \\frac{\\text{bytes}}{\\text{lance}} \\times f(t) \\frac{\\text{partidas}}{\\text{dia}}\n",
    "= 5.2 \\times 10^8 \\times 2^{\\frac{t}{365}}.\n",
    "$$\n",
    "\n",
    "O volume total a ser armazenado no acúmulo de $t$ dias é\n",
    "$$\n",
    "G(t) = \\sum_{k = 0}^{t} g(t) = \\sum_{k = 0}^{t} 5.2 \\times 10^8 \\times 2^{\\frac{t}{365}} = \\sum_{k = 0}^{t} 5.2 \\times 10^8 \\times \\left(2^{\\frac{1}{365}}\\right)^t\n",
    "$$\n",
    "que é a soma de uma progressão geométrica de termo inicial $g(0) = 5.2 \\times 10^8$ e razão $r = 2^{\\frac{1}{365}}$.\n",
    "\n",
    "Portanto, a fórmula fechada para $G(t)$ é \n",
    "\n",
    "$$\n",
    "G(t) = \\frac{g(t + 1) - g(0)}{r - 1} = 5.2 \\times 10^8 \\frac{2^{\\frac{t + 1}{365}} - 1}{2^{\\frac{1}{365}} - 1}\n",
    "$$\n",
    "\n",
    "Vamos ver o comportamento desta função:\n",
    "    \n",
    "```python\n",
    "def G(t):\n",
    "    return 5.2e8 * (2.0 ** ((t + 1.0) / 365.0) - 1.0) / (2.0 ** (1.0/365.0) - 1.0)\n",
    "\n",
    "t = np.arange(1, 1000, 1)\n",
    "y = G(t)\n",
    "y_1TB = 1e12 * np.ones(t.shape)\n",
    "\n",
    "plt.figure()\n",
    "plt.plot(t, y, '-', color='blue', label='$G(t)$')\n",
    "plt.plot(t, y_1TB, '--', color='orange', label='1 TB')\n",
    "\n",
    "plt.title('Armazenamento utilizado')\n",
    "plt.xlabel('dias')\n",
    "plt.ylabel('bytes')\n",
    "plt.legend()\n",
    "plt.show()\n",
    "```\n",
    "\n",
    "<img src=\"img/grafico_ex4.png\">\n",
    "\n",
    "Queremos saber qual o dia em que o espaço livre de $1 \\text{TB}$ se esgotará. Aparentemente é em torno do dia 800. Vamos resolver a equação $G(t) = 10^{12}$. Isolando $t$ nesta equação:\n",
    "\n",
    "$$\n",
    "t = \\frac{\\log{\\left(1 + \\frac{10^{12}}{5.2 \\times 10^8} \\left( 2^{\\frac{1}{365}} - 1 \\right)\\right)}}{\\log{2^{\\frac{1}{365}}}} - 1\n",
    "$$\n",
    "    \n",
    "```python\n",
    "numerator = np.log(1 + (1e12/5.2e8) * (2 ** (1.0 / 365.0) - 1))\n",
    "denominator = np.log(2 ** (1.0 / 365.0))\n",
    "t = numerator/denominator - 1.0\n",
    "\n",
    "print(t)\n",
    "print(np.ceil(t))\n",
    "```\n",
    "    \n",
    "Também podemos encontrar utilizando força bruta e XGH! Faz um loop... quando estourar 1TB, então retorna!\n",
    "```python\n",
    "def g(t):\n",
    "    return 50 * 2 * 5_200_000 * 2 ** (t / 365.0)\n",
    "\n",
    "\n",
    "N = 10000\n",
    "\n",
    "soma = 0\n",
    "for t in range(N):\n",
    "    soma += g(t)\n",
    "    if soma > 1e12:\n",
    "        break\n",
    "        \n",
    "        \n",
    "print(t)\n",
    "print(t / 365)\n",
    "```"
   ]
  }
 ],
 "metadata": {
  "kernelspec": {
   "display_name": "Python 3 (ipykernel)",
   "language": "python",
   "name": "python3"
  },
  "language_info": {
   "codemirror_mode": {
    "name": "ipython",
    "version": 3
   },
   "file_extension": ".py",
   "mimetype": "text/x-python",
   "name": "python",
   "nbconvert_exporter": "python",
   "pygments_lexer": "ipython3",
   "version": "3.8.16"
  }
 },
 "nbformat": 4,
 "nbformat_minor": 5
}
