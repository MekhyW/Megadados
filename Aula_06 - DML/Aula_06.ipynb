{
 "cells": [
  {
   "cell_type": "markdown",
   "metadata": {
    "tags": []
   },
   "source": [
    "# Experimentando com bancos de dados em Python"
   ]
  },
  {
   "cell_type": "markdown",
   "metadata": {},
   "source": [
    "## Conectando com a base de dados"
   ]
  },
  {
   "cell_type": "markdown",
   "metadata": {},
   "source": [
    "Existem sistemas de gerenciamento de bancos de dados que operam no mesmo processo da aplicação cliente - ou seja, são bibliotecas que você pode importar diretamente no seu programa. Por exemplo: a biblioteca ``sqlite3`` (https://docs.python.org/3/library/sqlite3.html) é parte do conjunto de bibliotecas padrão da linguagem Python, e permite criar bases de dados diretamente em arquivo ou memória, sem a necessidade de um programa em separado. Eis um exemplo de uso de sqlite3:"
   ]
  },
  {
   "cell_type": "code",
   "execution_count": 1,
   "metadata": {},
   "outputs": [],
   "source": [
    "import sqlite3\n",
    "\n",
    "db = sqlite3.connect('teste.db')\n",
    "# Para criar a base em memória (base temporária) use o nome de arquivo\n",
    "# \":memory:\""
   ]
  },
  {
   "cell_type": "markdown",
   "metadata": {},
   "source": [
    "Note que o arquivo ``teste.db`` foi criado. "
   ]
  },
  {
   "cell_type": "code",
   "execution_count": 2,
   "metadata": {},
   "outputs": [
    {
     "name": "stdout",
     "output_type": "stream",
     "text": [
      "True\n"
     ]
    }
   ],
   "source": [
    "import os\n",
    "\n",
    "print('teste.db' in os.listdir())"
   ]
  },
  {
   "cell_type": "markdown",
   "metadata": {},
   "source": [
    "Apesar do ``sqlite3`` criar o sistema de gerenciamento de banco de dados (SGBD) SQLite diretamente no nosso processo (neste caso, o kernel Python que está sendo executado por esse notebook), o objeto de acesso ainda é uma \"conexão\". Isso se deve ao fato de que SGBDs \"normais\" - aqueles que realmente usamos em produção - são geralmente *sistemas cliente-servidor*, onde o SGBD é um processo separado da aplicação cliente e a comunicação entre eles acontece através de uma conexão de rede.\n",
    "\n",
    "<center><img src='imgs/client-server.png'></center>\n",
    "\n",
    "**Atividade:**\n",
    "\n",
    "Na figura acima, quem é o cliente do sistema de gerenciamento de banco de dados?"
   ]
  },
  {
   "cell_type": "markdown",
   "metadata": {},
   "source": [
    "<div class=\"alert alert-success\">\n",
    "\n",
    "Sua resposta aqui! Dê dois cliques e edite.\n",
    "    \n",
    "    O microsserviço 1 é o cliente direto do SGDB\n",
    "\n",
    "</div>"
   ]
  },
  {
   "cell_type": "markdown",
   "metadata": {},
   "source": [
    "Uma conexão é simplesmente o conduíte entre o cliente e o SGBD. Em Python, a especificação PEP 249 (https://www.python.org/dev/peps/pep-0249/) define que uma conexão deve ter os métodos ``.close()`` (para fechar a conexão), ``.cursor()`` (para obter um *cursor*, que é o objeto para realmente interagir com o banco de dados), e o par ``.commit()``/``.rollback()`` (para gerenciamento de transações).\n",
    "\n",
    "Vamos fechar essa conexão e trabalhar com o MySQL daqui em diante."
   ]
  },
  {
   "cell_type": "code",
   "execution_count": 3,
   "metadata": {},
   "outputs": [],
   "source": [
    "db.close()"
   ]
  },
  {
   "cell_type": "code",
   "execution_count": 4,
   "metadata": {},
   "outputs": [],
   "source": [
    "os.remove('teste.db')"
   ]
  },
  {
   "cell_type": "markdown",
   "metadata": {},
   "source": [
    "Antes de tudo vamos criar um banco de dados. Queremos criar um banco de dados para gerenciar as equipes do primeiro campeonato Insper de ninja-cowboy-urso!\n",
    "\n",
    "- Ninja, com sua velocidade e furtividade, detona o cowboy.\n",
    "- O cowboy atira no urso.\n",
    "- O urso dá uma patada no ninja e acaba com ele.\n",
    "\n",
    "Cada jogador tem um nome, uma equipe, e sua jogada favorita. As equipes tem um nome e um grito de guerra.\n",
    "\n",
    "Portanto, nosso schema será:\n",
    "\n",
    "```\n",
    "jogador (id PK, nome_equipe, nome, preferencia)\n",
    "equipe (nome PK, grito)\n",
    "```\n",
    "\n",
    "com a restrição:\n",
    "\n",
    "```\n",
    "jogador(nome_equipe) FK para equipe(nome)\n",
    "```\n",
    "\n",
    "E um dicionário de dados simples para este problema é:\n",
    "\n",
    "<center><b>jogador</b></center>\n",
    "<table>\n",
    "    <tr>\n",
    "        <th>Campo</th>\n",
    "        <th>Tipo</th>\n",
    "        <th>Significado</th>\n",
    "        <th>Chave?</th>\n",
    "        <th>Valores</th>\n",
    "    </tr>\n",
    "    <tr>\n",
    "        <td>id</td>\n",
    "        <td>int</td>\n",
    "        <td>Identificador unico do jogador</td>\n",
    "        <td>PK</td>\n",
    "        <td>sem restrições</td>\n",
    "    </tr>\n",
    "    <tr>\n",
    "        <td>nome_equipe</td>\n",
    "        <td>string</td>\n",
    "        <td>Nome da equipe na qual o jogador atua</td>\n",
    "        <td>FK equipe(nome)</td>\n",
    "        <td></td>\n",
    "    </tr>\n",
    "    <tr>\n",
    "        <td>nome</td>\n",
    "        <td>string</td>\n",
    "        <td>Nome do jogador</td>\n",
    "        <td></td>\n",
    "        <td>Pode haver dois jogadores com mesmo nome. Máximo 80 caracteres.</td>\n",
    "    </tr>\n",
    "    <tr>\n",
    "        <td>preferencia</td>\n",
    "        <td>int</td>\n",
    "        <td>Jogada preferida do jogador</td>\n",
    "        <td></td>\n",
    "        <td>0: Ninja, 1: Cowboy, 2: Urso</td>\n",
    "    </tr>\n",
    "</table>\n",
    "\n",
    "<center><b>equipe</b></center>\n",
    "<table>\n",
    "    <tr>\n",
    "        <th>Campo</th>\n",
    "        <th>Tipo</th>\n",
    "        <th>Significado</th>\n",
    "        <th>Chave?</th>\n",
    "        <th>Valores</th>\n",
    "    </tr>\n",
    "    <tr>\n",
    "        <td>nome</td>\n",
    "        <td>string</td>\n",
    "        <td>Nome da equipe</td>\n",
    "        <td>PK</td>\n",
    "        <td>Máximo 30 caracteres</td>\n",
    "    </tr>\n",
    "    <tr>\n",
    "        <td>grito</td>\n",
    "        <td>string</td>\n",
    "        <td>Grito de guerra da equipe</td>\n",
    "        <td></td>\n",
    "        <td>Maximo 80 caracteres</td>\n",
    "    </tr>\n",
    "</table>\n",
    "\n",
    "**Atividade:** Escreva e rode o script de criação do banco de dados. Chame o banco de dados de ``torneio``. Compare com o gabarito em ``script_001.sql``."
   ]
  },
  {
   "cell_type": "code",
   "execution_count": 6,
   "metadata": {},
   "outputs": [
    {
     "name": "stdout",
     "output_type": "stream",
     "text": [
      "Requirement already satisfied: mysql-connector-python in c:\\users\\felip\\appdata\\local\\programs\\python\\python311\\lib\\site-packages (8.1.0)\n",
      "Collecting protobuf<=4.21.12,>=4.21.1 (from mysql-connector-python)\n",
      "  Using cached protobuf-4.21.12-cp310-abi3-win_amd64.whl (527 kB)\n",
      "Installing collected packages: protobuf\n",
      "  Attempting uninstall: protobuf\n",
      "    Found existing installation: protobuf 3.20.3\n",
      "    Uninstalling protobuf-3.20.3:\n",
      "      Successfully uninstalled protobuf-3.20.3\n",
      "Successfully installed protobuf-4.21.12\n"
     ]
    },
    {
     "name": "stderr",
     "output_type": "stream",
     "text": [
      "DEPRECATION: google-images-search 1.4.6 has a non-standard dependency specifier click>=7.0<=8.1.*. pip 23.3 will enforce this behaviour change. A possible replacement is to upgrade to a newer version of google-images-search or contact the author to suggest that they release a version with a conforming dependency specifiers. Discussion can be found at https://github.com/pypa/pip/issues/12063\n",
      "DEPRECATION: torchsde 0.2.5 has a non-standard dependency specifier numpy>=1.19.*; python_version >= \"3.7\". pip 23.3 will enforce this behaviour change. A possible replacement is to upgrade to a newer version of torchsde or contact the author to suggest that they release a version with a conforming dependency specifiers. Discussion can be found at https://github.com/pypa/pip/issues/12063\n",
      "ERROR: pip's dependency resolver does not currently take into account all the packages that are installed. This behaviour is the source of the following dependency conflicts.\n",
      "mediapipe 0.10.1 requires protobuf<4,>=3.11, but you have protobuf 4.21.12 which is incompatible.\n",
      "streamlit 1.17.0 requires protobuf<4,>=3.12, but you have protobuf 4.21.12 which is incompatible.\n"
     ]
    }
   ],
   "source": [
    "!pip install mysql-connector-python"
   ]
  },
  {
   "cell_type": "markdown",
   "metadata": {},
   "source": [
    "Para conectar com o MySQL precisamos da biblioteca *mysql-connector-python*. \n",
    "Para instalar esta biblioteca:\n",
    "\n",
    "**`pip install mysql-connector-python`**"
   ]
  },
  {
   "cell_type": "code",
   "execution_count": 6,
   "metadata": {},
   "outputs": [],
   "source": [
    "from dotenv import load_dotenv\n",
    "import insperautograder.jupyter as ia\n",
    "import mysql.connector\n",
    "import os"
   ]
  },
  {
   "cell_type": "code",
   "execution_count": 7,
   "metadata": {},
   "outputs": [
    {
     "data": {
      "text/plain": [
       "True"
      ]
     },
     "execution_count": 7,
     "metadata": {},
     "output_type": "execute_result"
    }
   ],
   "source": [
    "load_dotenv(override=True)"
   ]
  },
  {
   "cell_type": "markdown",
   "metadata": {},
   "source": [
    "Vamos agora abrir uma conexão com o MySQL. Como agora temos realmente um sistema cliente-servidor, precisamos definir onde está o servidor, e precisamos também de informações de autenticação."
   ]
  },
  {
   "cell_type": "code",
   "execution_count": 9,
   "metadata": {},
   "outputs": [],
   "source": [
    "connection_options = {\n",
    "    'host': 'localhost',\n",
    "    'user': 'root',\n",
    "    'password': '123456',\n",
    "    'database': 'torneio'\n",
    "}"
   ]
  },
  {
   "cell_type": "markdown",
   "metadata": {},
   "source": [
    "**Pergunta**: Faz sentido guardar o *user* e *password* dentro do próprio código fonte? Qual o jeito correto de lidar com username e password no seu produto?"
   ]
  },
  {
   "cell_type": "markdown",
   "metadata": {},
   "source": [
    "<div class=\"alert alert-success\">\n",
    "\n",
    "Sua resposta aqui! Dê dois cliques e edite.\n",
    "    \n",
    "    Não faz sentido. O jeito correto seria usar credenciais armazenadas de forma segurada isoladamente, e/ou usar criptografia ponta-a-ponta\n",
    "\n",
    "</div>"
   ]
  },
  {
   "cell_type": "markdown",
   "metadata": {},
   "source": [
    "**Resposta**: \n",
    "\n",
    "Não se deve guardar *user* e *password* dentro do código fonte, pois trata-se de:\n",
    "- Informação sensível e que não deve ser acessada pelos programadores.\n",
    "- Informação que muda com frequência - ou pelo menos deveria mudar!\n",
    "- Dado puro, que deve ser separado do código.\n",
    "\n",
    "Algumas alternativas populares para resolver esse problema são:\n",
    "- Use um arquivo de configuração na conta que será usada para rodar a aplicação. Este arquivo deve ter todas as permissões de acesso negadas, exceto permissão de leitura para o próprio usuário da conta de execução da aplicação. O arquivo deverá ser lido então pela aplicação no momento da inicialização.\n",
    "- Use uma variável de ambiente com essas credenciais. É a mesma coisa que no ítem anterior, só ao invés de ter um arquivo de configuração da aplicação, temos o arquivo de configuração da conta em si, com os mesmos requisitos em relação às restrições de permissão."
   ]
  },
  {
   "cell_type": "markdown",
   "metadata": {},
   "source": [
    "## Atualizando `.env`\n",
    "\n",
    "### Tarefa:\n",
    "\n",
    "Atualize o arquivo `.env`. Por enquanto ele provavelmente contém apenas as variáveis criadas para a API de correção automática:\n",
    "\n",
    "```python\n",
    "IAG_SERVER_URL=\"https://bigdata.insper-comp.com.br/iag\"\n",
    "IAG_SUBJECT=\"megadados\"\n",
    "IAG_OFFERING=\"23-2\"\n",
    "IAG_TOKEN=\"iagtok_d918bc6f0095fe8624ceef4c9a6197aeba58323065d414b2\"\n",
    "```\n",
    "\n",
    "Vamos adicionar três novas variáveis:\n",
    "\n",
    "- `MD_DB_SERVER`: o endereço para o host onde o mysql está instalado (provavelmente `\"localhost\"`)\n",
    "- `MD_DB_SERVER`: o usuário para acesso ao banco (provavelmente `\"root\"`)\n",
    "- `MD_DB_SERVER`: a senha do usuário.\n",
    "\n",
    "\n",
    "O `.env` ficará neste formato (veja as três novas variáveis ao final):\n",
    "\n",
    "```python\n",
    "IAG_SERVER_URL=\"https://bigdata.insper-comp.com.br/iag\"\n",
    "IAG_SUBJECT=\"megadados\"\n",
    "IAG_OFFERING=\"23-2\"\n",
    "IAG_TOKEN=\"iagtok_xxxxxxxxxxxxxxxxxxxxxxxxxxxxxxxxxxxxxxxxxxxxxxxxx\"\n",
    "MD_DB_SERVER=\"localhost\"\n",
    "MD_DB_USERNAME=\"root\"\n",
    "MD_DB_PASSWORD=\"alguma_senha\"\n",
    "```"
   ]
  },
  {
   "cell_type": "code",
   "execution_count": 10,
   "metadata": {},
   "outputs": [],
   "source": [
    "load_dotenv(override=True)\n",
    "\n",
    "connection_options = {\n",
    "    \"host\": os.getenv(\"MD_DB_SERVER\"),\n",
    "    \"user\": os.getenv(\"MD_DB_USERNAME\"),\n",
    "    \"password\": os.getenv('MD_DB_PASSWORD'),\n",
    "    \"database\": 'torneio'\n",
    "}"
   ]
  },
  {
   "cell_type": "markdown",
   "metadata": {},
   "source": [
    "**Abrindo a conexão:**"
   ]
  },
  {
   "cell_type": "code",
   "execution_count": 12,
   "metadata": {},
   "outputs": [],
   "source": [
    "# A notação de duplo asterisco em Python permite usar um dicionário \n",
    "# no lugar de argumentos nomeados. A linha a ser executada abaixo equivale á:\n",
    "#\n",
    "# connection = mysql.connector.connect(\n",
    "#     host=os.getenv(\"MD_DB_SERVER\"),\n",
    "#     user=os.getenv(\"MD_DB_USERNAME\"),\n",
    "#     password=os.getenv('MD_DB_PASSWORD'),\n",
    "#     database='torneio'\n",
    "# )\n",
    "# )\n",
    "#\n",
    "connection = mysql.connector.connect(**connection_options)"
   ]
  },
  {
   "cell_type": "markdown",
   "metadata": {},
   "source": [
    "<div class=\"alert alert-info\">\n",
    "\n",
    "**IMPORTANTE:**\n",
    "\n",
    "TODAS AS OPERAÇÕES REALIZADAS NESTA CONEXÃO SÃO TEMPORÁRIAS, ATÉ QUE O COMANDO `connection.commit()` seja executado!\n",
    "\n",
    "</div>\n",
    "\n",
    "<div class=\"alert alert-warning\" role=\"alert\">\n",
    "    \n",
    "**MAIS IMPORTANTE AINDA:**\n",
    "\n",
    "ISSO NÃO VALE SE `AUTOCOMMIT` ESTIVER LIGADO!\n",
    "\n",
    "</div>\n",
    "\n",
    "\n",
    "Estudaremos melhor essa questão quando discutirmos transações em maiores detalhes.\n",
    "\n",
    "Vamos criar alguns dados iniciais:"
   ]
  },
  {
   "cell_type": "code",
   "execution_count": 14,
   "metadata": {},
   "outputs": [],
   "source": [
    "T1 = 'Raposas Nerds'\n",
    "T2 = 'É nois'\n",
    "\n",
    "NINJA = 0\n",
    "COWBOY = 1\n",
    "URSO = 2\n",
    "\n",
    "times = {\n",
    "    T1: 'sudo vencer!',\n",
    "    T2: 'Olha eu mamãe!',\n",
    "}\n",
    "\n",
    "jogadores = [\n",
    "    ('Raul Ayres', T1, NINJA),\n",
    "    ('Luciano Hashimoto', T1, COWBOY),\n",
    "    ('Rafael Montaigner', T1, URSO),\n",
    "    ('Igor Miranda', T2, URSO),\n",
    "    ('Andrew Ikeda', T2, COWBOY),\n",
    "    ('Fábio Kurauchi', T2, NINJA),\n",
    "]"
   ]
  },
  {
   "cell_type": "markdown",
   "metadata": {},
   "source": [
    "Vamos inserir os dados dos times.\n",
    "\n",
    "**Atividade:** Quem devemos inserir primeiro: dados na tabela `equipe` ou na tabela `jogador`?"
   ]
  },
  {
   "cell_type": "markdown",
   "metadata": {},
   "source": [
    "<div class=\"alert alert-success\">\n",
    "\n",
    "Sua resposta aqui! Dê dois cliques e edite.\n",
    "    \n",
    "    Tabela equipe, pois a tabela jogador contém FKs que apontam para a primeira.\n",
    "\n",
    "</div>"
   ]
  },
  {
   "cell_type": "markdown",
   "metadata": {},
   "source": [
    "Quando uma tabela tem chave estrangeira para outra tabela dizemos que ela é filha (*child*) da outra tabela, e que a outra tabela é a pai (*parent*).\n",
    "\n",
    "Um *cursor* é o objeto que permite executar queries SQL e interagir com os resultados obtidos.\n",
    "\n",
    "### Tentando inserir um jogador\n",
    "\n",
    "Vamos tentar inserir um jogador:"
   ]
  },
  {
   "cell_type": "code",
   "execution_count": 15,
   "metadata": {},
   "outputs": [
    {
     "name": "stdout",
     "output_type": "stream",
     "text": [
      "IntegrityError: 1452 (23000): Cannot add or update a child row: a foreign key constraint fails (`torneio`.`jogador`, CONSTRAINT `fk_equipe` FOREIGN KEY (`nome_equipe`) REFERENCES `equipe` (`nome`))\n"
     ]
    }
   ],
   "source": [
    "try:\n",
    "    with connection.cursor() as cursor:\n",
    "        cursor.execute('INSERT INTO jogador (nome, nome_equipe, preferencia) VALUES (\"Joao\", \"sete e meia\", 0)')\n",
    "    connection.commit()\n",
    "except mysql.connector.IntegrityError as exception:\n",
    "    print(f'IntegrityError: {exception}')\n",
    "    connection.rollback()"
   ]
  },
  {
   "cell_type": "markdown",
   "metadata": {},
   "source": [
    "Perceba que obtemos uma exceção, pois estamos tentando utilizar uma equipe inexistente na tabela de `equipe`.\n",
    "\n",
    "Isto responde nossa pergunta anterior: precisamos inserir primeiro as equipes. Vamos fazer isto utilizando um laço que fará todas as inserções:"
   ]
  },
  {
   "cell_type": "code",
   "execution_count": 19,
   "metadata": {},
   "outputs": [
    {
     "name": "stdout",
     "output_type": "stream",
     "text": [
      "IntegrityError: 1062 (23000): Duplicate entry 'Raposas Nerds' for key 'equipe.PRIMARY'\n"
     ]
    }
   ],
   "source": [
    "try:\n",
    "    with connection.cursor() as cursor:\n",
    "        # Outra opção aqui seria o uso de cursor.executemany()\n",
    "        for time, grito in times.items():\n",
    "            cursor.execute('INSERT INTO equipe VALUES (%s, %s)', (time, grito))\n",
    "    connection.commit()\n",
    "except mysql.connector.IntegrityError as exception:\n",
    "    print(f'IntegrityError: {exception}')\n",
    "    connection.rollback()"
   ]
  },
  {
   "cell_type": "markdown",
   "metadata": {},
   "source": [
    "Note o comando ``commit`` acima: ele serve para efetivar a operação no banco de dados. Verifique no MySQL Workbench que a operação foi bem sucedida.\n",
    "\n",
    "**Atividade:** Perceba que desta vez não especificamos os nomes das colunas no `INSERT`. É necessário deixar claro os campos da tabela?"
   ]
  },
  {
   "cell_type": "markdown",
   "metadata": {},
   "source": [
    "<div class=\"alert alert-success\">\n",
    "\n",
    "Sua resposta aqui! Dê dois cliques e edite.\n",
    "    \n",
    "    É vantajoso porém não é necessário.\n",
    "\n",
    "</div>"
   ]
  },
  {
   "cell_type": "markdown",
   "metadata": {},
   "source": [
    "Podemos tambem usar nossa conexão para verificar o estado da tabela ``equipe``:"
   ]
  },
  {
   "cell_type": "code",
   "execution_count": 17,
   "metadata": {},
   "outputs": [
    {
     "name": "stdout",
     "output_type": "stream",
     "text": [
      "('É nois', 'Olha eu mamãe!')\n",
      "('Raposas Nerds', 'sudo vencer!')\n"
     ]
    }
   ],
   "source": [
    "with connection.cursor() as cursor:\n",
    "    cursor.execute('SELECT * FROM equipe')\n",
    "    for item in cursor:\n",
    "        print(item)"
   ]
  },
  {
   "cell_type": "markdown",
   "metadata": {},
   "source": [
    "Podemos usar também nosso velho conhecido `pandas`!"
   ]
  },
  {
   "cell_type": "code",
   "execution_count": 18,
   "metadata": {},
   "outputs": [
    {
     "name": "stderr",
     "output_type": "stream",
     "text": [
      "C:\\Users\\felip\\AppData\\Local\\Temp\\ipykernel_23632\\2383623114.py:2: UserWarning: pandas only supports SQLAlchemy connectable (engine/connection) or database string URI or sqlite3 DBAPI2 connection. Other DBAPI2 objects are not tested. Please consider using SQLAlchemy.\n",
      "  pd.read_sql_query('SELECT * FROM equipe', connection)\n"
     ]
    },
    {
     "data": {
      "text/html": [
       "<div>\n",
       "<style scoped>\n",
       "    .dataframe tbody tr th:only-of-type {\n",
       "        vertical-align: middle;\n",
       "    }\n",
       "\n",
       "    .dataframe tbody tr th {\n",
       "        vertical-align: top;\n",
       "    }\n",
       "\n",
       "    .dataframe thead th {\n",
       "        text-align: right;\n",
       "    }\n",
       "</style>\n",
       "<table border=\"1\" class=\"dataframe\">\n",
       "  <thead>\n",
       "    <tr style=\"text-align: right;\">\n",
       "      <th></th>\n",
       "      <th>nome</th>\n",
       "      <th>grito</th>\n",
       "    </tr>\n",
       "  </thead>\n",
       "  <tbody>\n",
       "    <tr>\n",
       "      <th>0</th>\n",
       "      <td>É nois</td>\n",
       "      <td>Olha eu mamãe!</td>\n",
       "    </tr>\n",
       "    <tr>\n",
       "      <th>1</th>\n",
       "      <td>Raposas Nerds</td>\n",
       "      <td>sudo vencer!</td>\n",
       "    </tr>\n",
       "  </tbody>\n",
       "</table>\n",
       "</div>"
      ],
      "text/plain": [
       "            nome           grito\n",
       "0         É nois  Olha eu mamãe!\n",
       "1  Raposas Nerds    sudo vencer!"
      ]
     },
     "execution_count": 18,
     "metadata": {},
     "output_type": "execute_result"
    }
   ],
   "source": [
    "import pandas as pd\n",
    "pd.read_sql_query('SELECT * FROM equipe', connection)"
   ]
  },
  {
   "cell_type": "markdown",
   "metadata": {},
   "source": [
    "**Atividade:** Tente executar novamente a inserção de dados, o que acontece?"
   ]
  },
  {
   "cell_type": "markdown",
   "metadata": {},
   "source": [
    "<div class=\"alert alert-success\">\n",
    "\n",
    "Sua resposta aqui! Dê dois cliques e edite.\n",
    "    \n",
    "    O commit falha pois não é possível inserir uma equipe com a mesma chave primária \n",
    "\n",
    "</div>"
   ]
  },
  {
   "cell_type": "markdown",
   "metadata": {},
   "source": [
    "## Interlúdio: sanitização de entradas de dados"
   ]
  },
  {
   "cell_type": "markdown",
   "metadata": {},
   "source": [
    "Por que usamos aqueles ``%s`` no comando a ser executado? Por que não simplesmente incluir diretamente os dados na *string* do comando SQL? Por exemplo:\n",
    "\n",
    "```Python\n",
    "cursor.execute('INSERT INTO equipe VALUES (\"' + time + '\", \"' + grito + '\")')\n",
    "```"
   ]
  },
  {
   "cell_type": "markdown",
   "metadata": {},
   "source": [
    "Muitas vezes o resultado é o mesmo! Contudo, e SE executássemos a query abaixo..."
   ]
  },
  {
   "cell_type": "code",
   "execution_count": 20,
   "metadata": {},
   "outputs": [
    {
     "data": {
      "text/plain": [
       "'\\ntime = \\'Robert\", \"\"); DROP DATABASE torneio; -- \\'\\ngrito = \\'\\'\\n\\nwith connection.cursor() as cursor:\\n    for result in cursor.execute(\\n            \\'INSERT INTO equipe VALUES (\"\\' + time + \\'\", \"\\' + grito + \\'\")\\',\\n            multi=True,\\n    ):\\n        print(result)\\n    connection.commit()\\n\\nwith connection.cursor() as cursor:\\n    cursor.execute(\\'SELECT * FROM equipe\\')\\n    for item in cursor:\\n        print(item)\\n\\nconnection.close()\\n'"
      ]
     },
     "execution_count": 20,
     "metadata": {},
     "output_type": "execute_result"
    }
   ],
   "source": [
    "\"\"\"\n",
    "time = 'Robert\", \"\"); DROP DATABASE torneio; -- '\n",
    "grito = ''\n",
    "\n",
    "with connection.cursor() as cursor:\n",
    "    for result in cursor.execute(\n",
    "            'INSERT INTO equipe VALUES (\"' + time + '\", \"' + grito + '\")',\n",
    "            multi=True,\n",
    "    ):\n",
    "        print(result)\n",
    "    connection.commit()\n",
    "\n",
    "with connection.cursor() as cursor:\n",
    "    cursor.execute('SELECT * FROM equipe')\n",
    "    for item in cursor:\n",
    "        print(item)\n",
    "\n",
    "connection.close()\n",
    "\"\"\""
   ]
  },
  {
   "cell_type": "markdown",
   "metadata": {},
   "source": [
    "time = 'Robert\", \"\"); DROP DATABASE torneio; -- '\n",
    "grito = ''\n",
    "\n",
    "with connection.cursor() as cursor:\n",
    "    for result in cursor.execute(\n",
    "            'INSERT INTO equipe VALUES (\"' + time + '\", \"' + grito + '\")',\n",
    "            multi=True,\n",
    "    ):\n",
    "        print(result)\n",
    "    connection.commit()\n",
    "\n",
    "with connection.cursor() as cursor:\n",
    "    cursor.execute('SELECT * FROM equipe')\n",
    "    for item in cursor:\n",
    "        print(item)\n",
    "\n",
    "connection.close()"
   ]
  },
  {
   "cell_type": "markdown",
   "metadata": {},
   "source": [
    "A célula acima está desabilitada. Mas se quiser executar passe para tipo \"Code\" e rode. Depois, garanta que a conexão está fechada com `connection.close()`, volte para o começo do notebook e rode tudo de novo exceto a célula mortal!\n",
    "\n",
    "![Little Bobby Tables](imgs/exploits_of_a_mom.png)\n",
    "\n",
    "[Exploits of a mom](https://xkcd.com/327/)\n",
    "\n",
    "\n",
    "Existem jeitos de quebrar o sistema com esse tipo de ataque, onde o hacker tenta inserir código SQL mal-intencionado em formulários, na expectativa de que o programador não tenha feito a sanitização das entradas. Esse ataque chama-se ***'SQL injection'***."
   ]
  },
  {
   "cell_type": "markdown",
   "metadata": {},
   "source": [
    "Fim do interlúdio, voltamos à apresentação principal.\n",
    "\n",
    "Vamos agora inserir os jogadores. Neste caso não precisamos inserir a chave primária, pois ela é gerada automaticamente. Consequentemente temos que especificar que estamos inserindo apenas as demais colunas - temos que nomear as colunas na qual estamos inserindo os dados."
   ]
  },
  {
   "cell_type": "code",
   "execution_count": 21,
   "metadata": {},
   "outputs": [],
   "source": [
    "try:\n",
    "    with connection.cursor() as cursor:\n",
    "        cursor.executemany(\n",
    "            'INSERT INTO jogador (nome, nome_equipe, preferencia) VALUES (%s, %s, %s)',\n",
    "            jogadores)\n",
    "    connection.commit()\n",
    "except Exception as e:\n",
    "    print(e)\n",
    "    connection.rollback()"
   ]
  },
  {
   "cell_type": "markdown",
   "metadata": {},
   "source": [
    "Vamos verificar se funcionou. Para evitar ter criar os cursores a todo momento e coletar os resultados vamos construir uma classe auxiliar, só para simplificar o código:"
   ]
  },
  {
   "cell_type": "code",
   "execution_count": 22,
   "metadata": {},
   "outputs": [],
   "source": [
    "class ConnectionHelper:\n",
    "\n",
    "    def __init__(self, connection):\n",
    "        self.connection = connection\n",
    "\n",
    "    def __call__(self, query, args=None):\n",
    "        with self.connection.cursor() as cursor:\n",
    "            print('Executando query:')\n",
    "            cursor.execute(query, args)\n",
    "            for result in cursor:\n",
    "                print(result)"
   ]
  },
  {
   "cell_type": "code",
   "execution_count": 23,
   "metadata": {},
   "outputs": [],
   "source": [
    "db = ConnectionHelper(connection)"
   ]
  },
  {
   "cell_type": "markdown",
   "metadata": {},
   "source": [
    "Note o padrão de *'dependency injection'* aqui: ao invés de criar a conexão dentro do construtor da classe ConnectionHelper, passamos um objeto 'connection' que será armazenado dentro do ConnectionHelper. Qualquer objeto 'connection' pode ser passado, de qualquer classe, desde que obedeça a interface (implícita) de um objeto de conexão ao banco de dados. Neste nosso caso, tem que ter o método `cursor()` que retorne um objeto de interação com a base de dados."
   ]
  },
  {
   "cell_type": "markdown",
   "metadata": {},
   "source": [
    "## Explorando a estrutura da base de dados\n",
    "\n",
    "Vamos ver quais tabelas existem na base ``torneio``:"
   ]
  },
  {
   "cell_type": "code",
   "execution_count": 24,
   "metadata": {},
   "outputs": [
    {
     "name": "stdout",
     "output_type": "stream",
     "text": [
      "Executando query:\n",
      "('equipe',)\n",
      "('jogador',)\n"
     ]
    }
   ],
   "source": [
    "db('SHOW TABLES')"
   ]
  },
  {
   "cell_type": "markdown",
   "metadata": {},
   "source": [
    "Para saber qual o schema da tabela `jogador`, podemos usar o comando '`DESCRIBE`'"
   ]
  },
  {
   "cell_type": "code",
   "execution_count": 25,
   "metadata": {
    "scrolled": true
   },
   "outputs": [
    {
     "name": "stdout",
     "output_type": "stream",
     "text": [
      "Executando query:\n",
      "('id', b'int', 'NO', 'PRI', None, 'auto_increment')\n",
      "('nome', b'varchar(80)', 'NO', '', None, '')\n",
      "('nome_equipe', b'varchar(30)', 'NO', 'MUL', None, '')\n",
      "('preferencia', b'int', 'YES', '', None, '')\n"
     ]
    }
   ],
   "source": [
    "db('DESCRIBE jogador')"
   ]
  },
  {
   "cell_type": "markdown",
   "metadata": {},
   "source": [
    "## Consultando a base de dados\n",
    "\n",
    "Vamos usar o comando `SELECT` para listar os conteudos da tabela 'Jogador'"
   ]
  },
  {
   "cell_type": "code",
   "execution_count": 26,
   "metadata": {},
   "outputs": [
    {
     "name": "stdout",
     "output_type": "stream",
     "text": [
      "Executando query:\n",
      "(2, 'Raul Ayres', 'Raposas Nerds', 0)\n",
      "(3, 'Luciano Hashimoto', 'Raposas Nerds', 1)\n",
      "(4, 'Rafael Montaigner', 'Raposas Nerds', 2)\n",
      "(5, 'Igor Miranda', 'É nois', 2)\n",
      "(6, 'Andrew Ikeda', 'É nois', 1)\n",
      "(7, 'Fábio Kurauchi', 'É nois', 0)\n"
     ]
    }
   ],
   "source": [
    "db('SELECT * FROM jogador')"
   ]
  },
  {
   "cell_type": "markdown",
   "metadata": {},
   "source": [
    "O comando acima lista todos os registros da tabela `jogador`, com todas as colunas presentes:\n",
    "\n",
    "![Seleção da tabela inteira](imgs/tudo.png)\n",
    "\n",
    "Vamos agora selecionar apenas algumas colunas para exibir."
   ]
  },
  {
   "cell_type": "code",
   "execution_count": 27,
   "metadata": {
    "scrolled": true
   },
   "outputs": [
    {
     "name": "stdout",
     "output_type": "stream",
     "text": [
      "Executando query:\n",
      "('Raul Ayres', 'Raposas Nerds')\n",
      "('Luciano Hashimoto', 'Raposas Nerds')\n",
      "('Rafael Montaigner', 'Raposas Nerds')\n",
      "('Igor Miranda', 'É nois')\n",
      "('Andrew Ikeda', 'É nois')\n",
      "('Fábio Kurauchi', 'É nois')\n"
     ]
    }
   ],
   "source": [
    "db('SELECT nome, nome_equipe FROM jogador')"
   ]
  },
  {
   "cell_type": "markdown",
   "metadata": {},
   "source": [
    "Agora vemos apenas as colunas escolhidas.  A operação de seleção de colunas chama-se **projeção**.\n",
    "\n",
    "![Projeção](imgs/projecao.png)\n",
    "\n",
    "Vamos agora atuar na escolha de linhas, selecionando quais desejamos. Para escolher todas as linhas cujo `nome_equipe` começa com 'Rap' podemos executar a query a seguir:"
   ]
  },
  {
   "cell_type": "code",
   "execution_count": 28,
   "metadata": {},
   "outputs": [
    {
     "name": "stdout",
     "output_type": "stream",
     "text": [
      "Executando query:\n",
      "(2, 'Raul Ayres', 'Raposas Nerds', 0)\n",
      "(3, 'Luciano Hashimoto', 'Raposas Nerds', 1)\n",
      "(4, 'Rafael Montaigner', 'Raposas Nerds', 2)\n"
     ]
    }
   ],
   "source": [
    "db(\"SELECT * FROM jogador WHERE nome_equipe LIKE 'Rap%'\")"
   ]
  },
  {
   "cell_type": "markdown",
   "metadata": {},
   "source": [
    "Vemos apenas as linhas escolhidas. A operação de filtragem de linhas apropriadas chama-se ... **seleção**!!!\n",
    "\n",
    "![Seleção](imgs/selecao.png)\n",
    "\n",
    "Seleção e projeção são termos advindos da *álgebra relacional*, tópico que discutiremos em aulas futuras.\n",
    "\n",
    "O comando `SELECT` também pode ser usado para efetuar cálculos:"
   ]
  },
  {
   "cell_type": "code",
   "execution_count": 29,
   "metadata": {},
   "outputs": [
    {
     "name": "stdout",
     "output_type": "stream",
     "text": [
      "Executando query:\n",
      "(2,)\n"
     ]
    }
   ],
   "source": [
    "db('SELECT 1 + 1')"
   ]
  },
  {
   "cell_type": "markdown",
   "metadata": {},
   "source": [
    "## Onde foram parar os dados?\n",
    "\n",
    "MySQL mantém um grande conjunto de variáveis globais para que possamos verificar o estado do sistema. Podemos consultar essas variáveis usando SQL! Afinal, se queremos armazenar informação (neste caso, sobre o próprio sistema), nada melhor que um SGBD!"
   ]
  },
  {
   "cell_type": "code",
   "execution_count": 30,
   "metadata": {
    "tags": []
   },
   "outputs": [],
   "source": [
    "# db('SHOW VARIABLES')"
   ]
  },
  {
   "cell_type": "markdown",
   "metadata": {},
   "source": [
    "Para descobrir o valor de uma variável específica, use a cláusula `WHERE`:"
   ]
  },
  {
   "cell_type": "code",
   "execution_count": 31,
   "metadata": {},
   "outputs": [
    {
     "name": "stdout",
     "output_type": "stream",
     "text": [
      "Executando query:\n",
      "('version', '8.0.34')\n"
     ]
    }
   ],
   "source": [
    "db('SHOW VARIABLES WHERE Variable_name = \"version\"')"
   ]
  },
  {
   "cell_type": "markdown",
   "metadata": {},
   "source": [
    "Para listar todas as variáveis com \"dir\" no nome:"
   ]
  },
  {
   "cell_type": "code",
   "execution_count": 32,
   "metadata": {},
   "outputs": [
    {
     "name": "stdout",
     "output_type": "stream",
     "text": [
      "Executando query:\n",
      "('basedir', 'C:\\\\Program Files\\\\MySQL\\\\MySQL Server 8.0\\\\')\n",
      "('binlog_direct_non_transactional_updates', 'OFF')\n",
      "('character_sets_dir', 'C:\\\\Program Files\\\\MySQL\\\\MySQL Server 8.0\\\\share\\\\charsets\\\\')\n",
      "('datadir', 'C:\\\\ProgramData\\\\MySQL\\\\MySQL Server 8.0\\\\Data\\\\')\n",
      "('innodb_data_home_dir', '')\n",
      "('innodb_directories', '')\n",
      "('innodb_doublewrite_dir', '')\n",
      "('innodb_log_group_home_dir', '.\\\\')\n",
      "('innodb_max_dirty_pages_pct', '90.000000')\n",
      "('innodb_max_dirty_pages_pct_lwm', '10.000000')\n",
      "('innodb_redo_log_archive_dirs', '')\n",
      "('innodb_temp_tablespaces_dir', '.\\\\#innodb_temp\\\\')\n",
      "('innodb_tmpdir', '')\n",
      "('innodb_undo_directory', '.\\\\')\n",
      "('lc_messages_dir', 'C:\\\\Program Files\\\\MySQL\\\\MySQL Server 8.0\\\\share\\\\')\n",
      "('plugin_dir', 'C:\\\\Program Files\\\\MySQL\\\\MySQL Server 8.0\\\\lib\\\\plugin\\\\')\n",
      "('replica_load_tmpdir', 'C:\\\\Windows\\\\SERVIC~1\\\\NETWOR~1\\\\AppData\\\\Local\\\\Temp')\n",
      "('slave_load_tmpdir', 'C:\\\\Windows\\\\SERVIC~1\\\\NETWOR~1\\\\AppData\\\\Local\\\\Temp')\n",
      "('tmpdir', 'C:\\\\Windows\\\\SERVIC~1\\\\NETWOR~1\\\\AppData\\\\Local\\\\Temp')\n"
     ]
    }
   ],
   "source": [
    "db('SHOW VARIABLES WHERE Variable_name LIKE \"%dir%\"')"
   ]
  },
  {
   "cell_type": "markdown",
   "metadata": {},
   "source": [
    "Observe a variável `datadir`: ela contém o diretório onde o MySQL armazena nossos dados. Por exemplo no Windows: `C:\\ProgramData\\MySQL\\MySQL Server 8.0\\Data\\`\n",
    "\n",
    "<center><img src='imgs/datadir.png'/></center>\n",
    "\n",
    "Note que esse diretório também tem várias chaves criptográficas! Uma vez que o acesso físico ao seu servidor for comprometido, você pode perder completamente o controle, pois o invasor agora tem até mesmo as chaves de acesso!\n",
    "\n",
    "Dentro do diretório `torneio` temos nossa base de dados no disco:\n",
    "\n",
    "<center><img src='imgs/torneio.png'/></center>\n"
   ]
  },
  {
   "cell_type": "markdown",
   "metadata": {},
   "source": [
    "## Carregando dados em massa\n",
    "\n",
    "Se você tem um arquivo com vários itens de dados, o melhor jeito de inserí-los no banco de dados é usar os comandos de carga de dados do seu SGBD preferido. No MySQL, veja a documentação do comando `LOAD DATA` em https://dev.mysql.com/doc/refman/8.0/en/load-data.html\n",
    "\n",
    "Daqui para frente acostume-se a consultar a documentação de todo novo comando que você descobrir!\n",
    "\n",
    "# `UPDATE`\n",
    "\n",
    "Vamos alterar informações na nossa base. Para isso vamos usar o comando `UPDATE`. \n",
    "\n",
    "Suponha que desejamos alterar o grito de guerra da equipe \"Raposas Nerds\" de 'sudo vencer!' para 'sudo vencer --force!':"
   ]
  },
  {
   "cell_type": "code",
   "execution_count": 33,
   "metadata": {},
   "outputs": [
    {
     "name": "stdout",
     "output_type": "stream",
     "text": [
      "Executando query:\n"
     ]
    }
   ],
   "source": [
    "db('UPDATE equipe SET grito=\"sudo vencer --force!\" WHERE nome=\"Raposas Nerds\"')"
   ]
  },
  {
   "cell_type": "markdown",
   "metadata": {},
   "source": [
    "Verificando o resultado:"
   ]
  },
  {
   "cell_type": "code",
   "execution_count": 34,
   "metadata": {},
   "outputs": [
    {
     "name": "stdout",
     "output_type": "stream",
     "text": [
      "Executando query:\n",
      "('É nois', 'Olha eu mamãe!')\n",
      "('Raposas Nerds', 'sudo vencer --force!')\n"
     ]
    }
   ],
   "source": [
    "db('SELECT * from equipe')"
   ]
  },
  {
   "cell_type": "markdown",
   "metadata": {},
   "source": [
    "**Atividade:** Passe o \"Rafael Montaigner\" para o time \"É nois\"."
   ]
  },
  {
   "cell_type": "code",
   "execution_count": 35,
   "metadata": {},
   "outputs": [
    {
     "name": "stdout",
     "output_type": "stream",
     "text": [
      "Executando query:\n",
      "(2, 'Raul Ayres', 'Raposas Nerds', 0)\n",
      "(3, 'Luciano Hashimoto', 'Raposas Nerds', 1)\n",
      "(4, 'Rafael Montaigner', 'Raposas Nerds', 2)\n",
      "(5, 'Igor Miranda', 'É nois', 2)\n",
      "(6, 'Andrew Ikeda', 'É nois', 1)\n",
      "(7, 'Fábio Kurauchi', 'É nois', 0)\n"
     ]
    }
   ],
   "source": [
    "db('SELECT * FROM jogador')"
   ]
  },
  {
   "cell_type": "code",
   "execution_count": 36,
   "metadata": {},
   "outputs": [
    {
     "name": "stdout",
     "output_type": "stream",
     "text": [
      "Executando query:\n"
     ]
    }
   ],
   "source": [
    "# Responda aqui!\n",
    "db('UPDATE jogador SET nome_equipe=\"É nois\" WHERE nome=\"Rafael Montaigner\"')"
   ]
  },
  {
   "cell_type": "code",
   "execution_count": 37,
   "metadata": {},
   "outputs": [
    {
     "name": "stdout",
     "output_type": "stream",
     "text": [
      "Executando query:\n",
      "(2, 'Raul Ayres', 'Raposas Nerds', 0)\n",
      "(3, 'Luciano Hashimoto', 'Raposas Nerds', 1)\n",
      "(4, 'Rafael Montaigner', 'É nois', 2)\n",
      "(5, 'Igor Miranda', 'É nois', 2)\n",
      "(6, 'Andrew Ikeda', 'É nois', 1)\n",
      "(7, 'Fábio Kurauchi', 'É nois', 0)\n"
     ]
    }
   ],
   "source": [
    "db('SELECT * FROM jogador')"
   ]
  },
  {
   "cell_type": "markdown",
   "metadata": {},
   "source": [
    "**Atividade:** Tente mudar o nome de \"Andrew Ikeda\" para \"Andrew Gomes da Silva\". O que aconteceu?"
   ]
  },
  {
   "cell_type": "code",
   "execution_count": 38,
   "metadata": {},
   "outputs": [
    {
     "name": "stdout",
     "output_type": "stream",
     "text": [
      "Executando query:\n"
     ]
    }
   ],
   "source": [
    "# Responda aqui!\n",
    "db('UPDATE jogador SET nome=\"Andrew Gomes da Silva\" WHERE nome=\"Andrew Ikeda\"')"
   ]
  },
  {
   "cell_type": "code",
   "execution_count": 39,
   "metadata": {},
   "outputs": [
    {
     "name": "stdout",
     "output_type": "stream",
     "text": [
      "Executando query:\n",
      "(2, 'Raul Ayres', 'Raposas Nerds', 0)\n",
      "(3, 'Luciano Hashimoto', 'Raposas Nerds', 1)\n",
      "(4, 'Rafael Montaigner', 'É nois', 2)\n",
      "(5, 'Igor Miranda', 'É nois', 2)\n",
      "(6, 'Andrew Gomes da Silva', 'É nois', 1)\n",
      "(7, 'Fábio Kurauchi', 'É nois', 0)\n"
     ]
    }
   ],
   "source": [
    "db('SELECT * FROM jogador')"
   ]
  },
  {
   "cell_type": "markdown",
   "metadata": {},
   "source": [
    "**Atividade:** Tente agora mudar o nome do time \"É nois\" para \"Somos nos\". O que aconteceu?"
   ]
  },
  {
   "cell_type": "code",
   "execution_count": 40,
   "metadata": {},
   "outputs": [
    {
     "name": "stdout",
     "output_type": "stream",
     "text": [
      "Executando query:\n"
     ]
    },
    {
     "ename": "IntegrityError",
     "evalue": "1451 (23000): Cannot delete or update a parent row: a foreign key constraint fails (`torneio`.`jogador`, CONSTRAINT `fk_equipe` FOREIGN KEY (`nome_equipe`) REFERENCES `equipe` (`nome`))",
     "output_type": "error",
     "traceback": [
      "\u001b[1;31m---------------------------------------------------------------------------\u001b[0m",
      "\u001b[1;31mMySQLInterfaceError\u001b[0m                       Traceback (most recent call last)",
      "File \u001b[1;32m~\\AppData\\Local\\Programs\\Python\\Python311\\Lib\\site-packages\\mysql\\connector\\connection_cext.py:633\u001b[0m, in \u001b[0;36mCMySQLConnection.cmd_query\u001b[1;34m(self, query, raw, buffered, raw_as_string)\u001b[0m\n\u001b[0;32m    632\u001b[0m         query \u001b[38;5;241m=\u001b[39m query\u001b[38;5;241m.\u001b[39mencode(\u001b[38;5;124m\"\u001b[39m\u001b[38;5;124mutf-8\u001b[39m\u001b[38;5;124m\"\u001b[39m)\n\u001b[1;32m--> 633\u001b[0m     \u001b[38;5;28;43mself\u001b[39;49m\u001b[38;5;241;43m.\u001b[39;49m\u001b[43m_cmysql\u001b[49m\u001b[38;5;241;43m.\u001b[39;49m\u001b[43mquery\u001b[49m\u001b[43m(\u001b[49m\n\u001b[0;32m    634\u001b[0m \u001b[43m        \u001b[49m\u001b[43mquery\u001b[49m\u001b[43m,\u001b[49m\n\u001b[0;32m    635\u001b[0m \u001b[43m        \u001b[49m\u001b[43mraw\u001b[49m\u001b[38;5;241;43m=\u001b[39;49m\u001b[43mraw\u001b[49m\u001b[43m,\u001b[49m\n\u001b[0;32m    636\u001b[0m \u001b[43m        \u001b[49m\u001b[43mbuffered\u001b[49m\u001b[38;5;241;43m=\u001b[39;49m\u001b[43mbuffered\u001b[49m\u001b[43m,\u001b[49m\n\u001b[0;32m    637\u001b[0m \u001b[43m        \u001b[49m\u001b[43mraw_as_string\u001b[49m\u001b[38;5;241;43m=\u001b[39;49m\u001b[43mraw_as_string\u001b[49m\u001b[43m,\u001b[49m\n\u001b[0;32m    638\u001b[0m \u001b[43m        \u001b[49m\u001b[43mquery_attrs\u001b[49m\u001b[38;5;241;43m=\u001b[39;49m\u001b[38;5;28;43mself\u001b[39;49m\u001b[38;5;241;43m.\u001b[39;49m\u001b[43mquery_attrs\u001b[49m\u001b[43m,\u001b[49m\n\u001b[0;32m    639\u001b[0m \u001b[43m    \u001b[49m\u001b[43m)\u001b[49m\n\u001b[0;32m    640\u001b[0m \u001b[38;5;28;01mexcept\u001b[39;00m MySQLInterfaceError \u001b[38;5;28;01mas\u001b[39;00m err:\n",
      "\u001b[1;31mMySQLInterfaceError\u001b[0m: Cannot delete or update a parent row: a foreign key constraint fails (`torneio`.`jogador`, CONSTRAINT `fk_equipe` FOREIGN KEY (`nome_equipe`) REFERENCES `equipe` (`nome`))",
      "\nThe above exception was the direct cause of the following exception:\n",
      "\u001b[1;31mIntegrityError\u001b[0m                            Traceback (most recent call last)",
      "Cell \u001b[1;32mIn[40], line 2\u001b[0m\n\u001b[0;32m      1\u001b[0m \u001b[38;5;66;03m# Responda aqui!\u001b[39;00m\n\u001b[1;32m----> 2\u001b[0m \u001b[43mdb\u001b[49m\u001b[43m(\u001b[49m\u001b[38;5;124;43m'\u001b[39;49m\u001b[38;5;124;43mUPDATE equipe SET nome=\u001b[39;49m\u001b[38;5;124;43m\"\u001b[39;49m\u001b[38;5;124;43mSomos nos\u001b[39;49m\u001b[38;5;124;43m\"\u001b[39;49m\u001b[38;5;124;43m WHERE nome=\u001b[39;49m\u001b[38;5;124;43m\"\u001b[39;49m\u001b[38;5;124;43mÉ nois\u001b[39;49m\u001b[38;5;124;43m\"\u001b[39;49m\u001b[38;5;124;43m'\u001b[39;49m\u001b[43m)\u001b[49m\n",
      "Cell \u001b[1;32mIn[22], line 9\u001b[0m, in \u001b[0;36mConnectionHelper.__call__\u001b[1;34m(self, query, args)\u001b[0m\n\u001b[0;32m      7\u001b[0m \u001b[38;5;28;01mwith\u001b[39;00m \u001b[38;5;28mself\u001b[39m\u001b[38;5;241m.\u001b[39mconnection\u001b[38;5;241m.\u001b[39mcursor() \u001b[38;5;28;01mas\u001b[39;00m cursor:\n\u001b[0;32m      8\u001b[0m     \u001b[38;5;28mprint\u001b[39m(\u001b[38;5;124m'\u001b[39m\u001b[38;5;124mExecutando query:\u001b[39m\u001b[38;5;124m'\u001b[39m)\n\u001b[1;32m----> 9\u001b[0m     \u001b[43mcursor\u001b[49m\u001b[38;5;241;43m.\u001b[39;49m\u001b[43mexecute\u001b[49m\u001b[43m(\u001b[49m\u001b[43mquery\u001b[49m\u001b[43m,\u001b[49m\u001b[43m \u001b[49m\u001b[43margs\u001b[49m\u001b[43m)\u001b[49m\n\u001b[0;32m     10\u001b[0m     \u001b[38;5;28;01mfor\u001b[39;00m result \u001b[38;5;129;01min\u001b[39;00m cursor:\n\u001b[0;32m     11\u001b[0m         \u001b[38;5;28mprint\u001b[39m(result)\n",
      "File \u001b[1;32m~\\AppData\\Local\\Programs\\Python\\Python311\\Lib\\site-packages\\mysql\\connector\\cursor_cext.py:330\u001b[0m, in \u001b[0;36mCMySQLCursor.execute\u001b[1;34m(self, operation, params, multi)\u001b[0m\n\u001b[0;32m    325\u001b[0m             \u001b[38;5;28;01mraise\u001b[39;00m ProgrammingError(\n\u001b[0;32m    326\u001b[0m                 \u001b[38;5;124m\"\u001b[39m\u001b[38;5;124mNot all parameters were used in the SQL statement\u001b[39m\u001b[38;5;124m\"\u001b[39m\n\u001b[0;32m    327\u001b[0m             )\n\u001b[0;32m    329\u001b[0m \u001b[38;5;28;01mtry\u001b[39;00m:\n\u001b[1;32m--> 330\u001b[0m     result \u001b[38;5;241m=\u001b[39m \u001b[38;5;28;43mself\u001b[39;49m\u001b[38;5;241;43m.\u001b[39;49m\u001b[43m_cnx\u001b[49m\u001b[38;5;241;43m.\u001b[39;49m\u001b[43mcmd_query\u001b[49m\u001b[43m(\u001b[49m\n\u001b[0;32m    331\u001b[0m \u001b[43m        \u001b[49m\u001b[43mstmt\u001b[49m\u001b[43m,\u001b[49m\n\u001b[0;32m    332\u001b[0m \u001b[43m        \u001b[49m\u001b[43mraw\u001b[49m\u001b[38;5;241;43m=\u001b[39;49m\u001b[38;5;28;43mself\u001b[39;49m\u001b[38;5;241;43m.\u001b[39;49m\u001b[43m_raw\u001b[49m\u001b[43m,\u001b[49m\n\u001b[0;32m    333\u001b[0m \u001b[43m        \u001b[49m\u001b[43mbuffered\u001b[49m\u001b[38;5;241;43m=\u001b[39;49m\u001b[38;5;28;43mself\u001b[39;49m\u001b[38;5;241;43m.\u001b[39;49m\u001b[43m_buffered\u001b[49m\u001b[43m,\u001b[49m\n\u001b[0;32m    334\u001b[0m \u001b[43m        \u001b[49m\u001b[43mraw_as_string\u001b[49m\u001b[38;5;241;43m=\u001b[39;49m\u001b[38;5;28;43mself\u001b[39;49m\u001b[38;5;241;43m.\u001b[39;49m\u001b[43m_raw_as_string\u001b[49m\u001b[43m,\u001b[49m\n\u001b[0;32m    335\u001b[0m \u001b[43m    \u001b[49m\u001b[43m)\u001b[49m\n\u001b[0;32m    336\u001b[0m \u001b[38;5;28;01mexcept\u001b[39;00m MySQLInterfaceError \u001b[38;5;28;01mas\u001b[39;00m err:\n\u001b[0;32m    337\u001b[0m     \u001b[38;5;28;01mraise\u001b[39;00m get_mysql_exception(\n\u001b[0;32m    338\u001b[0m         msg\u001b[38;5;241m=\u001b[39merr\u001b[38;5;241m.\u001b[39mmsg, errno\u001b[38;5;241m=\u001b[39merr\u001b[38;5;241m.\u001b[39merrno, sqlstate\u001b[38;5;241m=\u001b[39merr\u001b[38;5;241m.\u001b[39msqlstate\n\u001b[0;32m    339\u001b[0m     ) \u001b[38;5;28;01mfrom\u001b[39;00m \u001b[38;5;21;01merr\u001b[39;00m\n",
      "File \u001b[1;32m~\\AppData\\Local\\Programs\\Python\\Python311\\Lib\\site-packages\\mysql\\connector\\opentelemetry\\context_propagation.py:86\u001b[0m, in \u001b[0;36mwith_context_propagation.<locals>.wrapper\u001b[1;34m(cnx, *args, **kwargs)\u001b[0m\n\u001b[0;32m     83\u001b[0m     cnx\u001b[38;5;241m.\u001b[39mquery_attrs_append(value\u001b[38;5;241m=\u001b[39m(TRACEPARENT_HEADER_NAME, tp_header))\n\u001b[0;32m     85\u001b[0m \u001b[38;5;28;01mtry\u001b[39;00m:\n\u001b[1;32m---> 86\u001b[0m     result \u001b[38;5;241m=\u001b[39m \u001b[43mmethod\u001b[49m\u001b[43m(\u001b[49m\u001b[43mcnx\u001b[49m\u001b[43m,\u001b[49m\u001b[43m \u001b[49m\u001b[38;5;241;43m*\u001b[39;49m\u001b[43margs\u001b[49m\u001b[43m,\u001b[49m\u001b[43m \u001b[49m\u001b[38;5;241;43m*\u001b[39;49m\u001b[38;5;241;43m*\u001b[39;49m\u001b[43mkwargs\u001b[49m\u001b[43m)\u001b[49m\n\u001b[0;32m     87\u001b[0m \u001b[38;5;28;01mfinally\u001b[39;00m:\n\u001b[0;32m     88\u001b[0m     \u001b[38;5;28;01mif\u001b[39;00m tp_header \u001b[38;5;129;01mis\u001b[39;00m \u001b[38;5;129;01mnot\u001b[39;00m \u001b[38;5;28;01mNone\u001b[39;00m:\n",
      "File \u001b[1;32m~\\AppData\\Local\\Programs\\Python\\Python311\\Lib\\site-packages\\mysql\\connector\\connection_cext.py:641\u001b[0m, in \u001b[0;36mCMySQLConnection.cmd_query\u001b[1;34m(self, query, raw, buffered, raw_as_string)\u001b[0m\n\u001b[0;32m    633\u001b[0m     \u001b[38;5;28mself\u001b[39m\u001b[38;5;241m.\u001b[39m_cmysql\u001b[38;5;241m.\u001b[39mquery(\n\u001b[0;32m    634\u001b[0m         query,\n\u001b[0;32m    635\u001b[0m         raw\u001b[38;5;241m=\u001b[39mraw,\n\u001b[1;32m   (...)\u001b[0m\n\u001b[0;32m    638\u001b[0m         query_attrs\u001b[38;5;241m=\u001b[39m\u001b[38;5;28mself\u001b[39m\u001b[38;5;241m.\u001b[39mquery_attrs,\n\u001b[0;32m    639\u001b[0m     )\n\u001b[0;32m    640\u001b[0m \u001b[38;5;28;01mexcept\u001b[39;00m MySQLInterfaceError \u001b[38;5;28;01mas\u001b[39;00m err:\n\u001b[1;32m--> 641\u001b[0m     \u001b[38;5;28;01mraise\u001b[39;00m get_mysql_exception(\n\u001b[0;32m    642\u001b[0m         err\u001b[38;5;241m.\u001b[39merrno, msg\u001b[38;5;241m=\u001b[39merr\u001b[38;5;241m.\u001b[39mmsg, sqlstate\u001b[38;5;241m=\u001b[39merr\u001b[38;5;241m.\u001b[39msqlstate\n\u001b[0;32m    643\u001b[0m     ) \u001b[38;5;28;01mfrom\u001b[39;00m \u001b[38;5;21;01merr\u001b[39;00m\n\u001b[0;32m    644\u001b[0m \u001b[38;5;28;01mexcept\u001b[39;00m \u001b[38;5;167;01mAttributeError\u001b[39;00m \u001b[38;5;28;01mas\u001b[39;00m err:\n\u001b[0;32m    645\u001b[0m     addr \u001b[38;5;241m=\u001b[39m (\n\u001b[0;32m    646\u001b[0m         \u001b[38;5;28mself\u001b[39m\u001b[38;5;241m.\u001b[39m_unix_socket \u001b[38;5;28;01mif\u001b[39;00m \u001b[38;5;28mself\u001b[39m\u001b[38;5;241m.\u001b[39m_unix_socket \u001b[38;5;28;01melse\u001b[39;00m \u001b[38;5;124mf\u001b[39m\u001b[38;5;124m\"\u001b[39m\u001b[38;5;132;01m{\u001b[39;00m\u001b[38;5;28mself\u001b[39m\u001b[38;5;241m.\u001b[39m_host\u001b[38;5;132;01m}\u001b[39;00m\u001b[38;5;124m:\u001b[39m\u001b[38;5;132;01m{\u001b[39;00m\u001b[38;5;28mself\u001b[39m\u001b[38;5;241m.\u001b[39m_port\u001b[38;5;132;01m}\u001b[39;00m\u001b[38;5;124m\"\u001b[39m\n\u001b[0;32m    647\u001b[0m     )\n",
      "\u001b[1;31mIntegrityError\u001b[0m: 1451 (23000): Cannot delete or update a parent row: a foreign key constraint fails (`torneio`.`jogador`, CONSTRAINT `fk_equipe` FOREIGN KEY (`nome_equipe`) REFERENCES `equipe` (`nome`))"
     ]
    }
   ],
   "source": [
    "# Responda aqui!\n",
    "db('UPDATE equipe SET nome=\"Somos nos\" WHERE nome=\"É nois\"')"
   ]
  },
  {
   "cell_type": "code",
   "execution_count": 41,
   "metadata": {},
   "outputs": [
    {
     "name": "stdout",
     "output_type": "stream",
     "text": [
      "Executando query:\n",
      "('É nois', 'Olha eu mamãe!')\n",
      "('Raposas Nerds', 'sudo vencer --force!')\n"
     ]
    }
   ],
   "source": [
    "db('SELECT * FROM equipe')"
   ]
  },
  {
   "cell_type": "markdown",
   "metadata": {},
   "source": [
    "## `COMMIT` e `ROLLBACK`\n",
    "\n",
    "Note que as ultimas atividades (de `UPDATE`) foram feitas sem executar `connection.commit()`. Neste caso todas as modificações realizadas ainda não foram registradas no banco de dados! Estas mudanças existem apenas na nossa *sessão*. Vamos verificar esse fenômeno. Primeiro vamos ver o estado das nossas tabelas:"
   ]
  },
  {
   "cell_type": "code",
   "execution_count": 42,
   "metadata": {},
   "outputs": [
    {
     "name": "stdout",
     "output_type": "stream",
     "text": [
      "Executando query:\n",
      "(2, 'Raul Ayres', 'Raposas Nerds', 0)\n",
      "(3, 'Luciano Hashimoto', 'Raposas Nerds', 1)\n",
      "(4, 'Rafael Montaigner', 'É nois', 2)\n",
      "(5, 'Igor Miranda', 'É nois', 2)\n",
      "(6, 'Andrew Gomes da Silva', 'É nois', 1)\n",
      "(7, 'Fábio Kurauchi', 'É nois', 0)\n"
     ]
    }
   ],
   "source": [
    "db('SELECT * FROM jogador')"
   ]
  },
  {
   "cell_type": "code",
   "execution_count": 43,
   "metadata": {},
   "outputs": [
    {
     "name": "stdout",
     "output_type": "stream",
     "text": [
      "Executando query:\n",
      "('É nois', 'Olha eu mamãe!')\n",
      "('Raposas Nerds', 'sudo vencer --force!')\n"
     ]
    }
   ],
   "source": [
    "db('SELECT * FROM equipe')"
   ]
  },
  {
   "cell_type": "markdown",
   "metadata": {},
   "source": [
    "Agora vamos verificar o estado do banco de dados lá no MySQL Workbench:\n",
    "\n",
    "<center><img src='imgs/equipes.png'/></center>\n",
    "\n",
    "<center><img src='imgs/jogadores.png'/></center>\n",
    "\n",
    "Está diferente! Isso acontece porque as mudanças da nossa sessão ainda não foram *committed*, não foram registradas em definitivo. Para registrar as mudanças você pode executar o comando `connection.commit()`, ou equivalentemente rodar o comando SQL `COMMIT`. Se você se arrependeu das mudanças realizadas na sessão, jogue elas fora com o comando `connection.rollback()` ou equivalentemente o comando SQL `ROLLBACK`.\n",
    "\n",
    "Vamos então concretizar nossas mudanças:"
   ]
  },
  {
   "cell_type": "code",
   "execution_count": 44,
   "metadata": {},
   "outputs": [],
   "source": [
    "connection.commit()\n",
    "# ou então db('COMMIT'), é a mesma coisa."
   ]
  },
  {
   "cell_type": "markdown",
   "metadata": {},
   "source": [
    "Agora vamos verificar lá no MySQL Workbench:\n",
    "\n",
    "<center><img src='imgs/equipes2.png'/></center>\n",
    "\n",
    "<center><img src='imgs/jogadores2.png'/></center>"
   ]
  },
  {
   "cell_type": "markdown",
   "metadata": {},
   "source": [
    "Podemos constatar que as mudanças feitas na nossa sessão agora são visíveis na outra sessão (a do MySQL Workbench). Vamos revisitar futuramente os comandos `COMMIT` e `ROLLBACK` na aula de transações SQL."
   ]
  },
  {
   "cell_type": "markdown",
   "metadata": {},
   "source": [
    "## `DELETE`"
   ]
  },
  {
   "cell_type": "markdown",
   "metadata": {},
   "source": [
    "Vamos remover o 'Fábio Kurauchi' da tabela `jogador`"
   ]
  },
  {
   "cell_type": "code",
   "execution_count": 45,
   "metadata": {},
   "outputs": [
    {
     "name": "stdout",
     "output_type": "stream",
     "text": [
      "Executando query:\n"
     ]
    }
   ],
   "source": [
    "try:\n",
    "    db('DELETE FROM jogador WHERE nome=\"Fábio Kurauchi\"')\n",
    "    connection.commit()\n",
    "except Exception as e:\n",
    "    print(f'{type(e)}: {e}')\n",
    "    connection.rollback()"
   ]
  },
  {
   "cell_type": "markdown",
   "metadata": {},
   "source": [
    "Verificando o resultado:"
   ]
  },
  {
   "cell_type": "code",
   "execution_count": 46,
   "metadata": {},
   "outputs": [
    {
     "name": "stdout",
     "output_type": "stream",
     "text": [
      "Executando query:\n",
      "(2, 'Raul Ayres', 'Raposas Nerds', 0)\n",
      "(3, 'Luciano Hashimoto', 'Raposas Nerds', 1)\n",
      "(4, 'Rafael Montaigner', 'É nois', 2)\n",
      "(5, 'Igor Miranda', 'É nois', 2)\n",
      "(6, 'Andrew Gomes da Silva', 'É nois', 1)\n"
     ]
    }
   ],
   "source": [
    "db('SELECT * FROM jogador')"
   ]
  },
  {
   "cell_type": "markdown",
   "metadata": {},
   "source": [
    "**Atividade:** Remova da tabela de jogadores todos aqueles que preferem jogar cowboy."
   ]
  },
  {
   "cell_type": "code",
   "execution_count": 47,
   "metadata": {},
   "outputs": [
    {
     "name": "stdout",
     "output_type": "stream",
     "text": [
      "Executando query:\n"
     ]
    }
   ],
   "source": [
    "# Responda aqui!\n",
    "db('DELETE FROM jogador WHERE preferencia=\"1\"')"
   ]
  },
  {
   "cell_type": "code",
   "execution_count": 48,
   "metadata": {},
   "outputs": [
    {
     "name": "stdout",
     "output_type": "stream",
     "text": [
      "Executando query:\n",
      "(2, 'Raul Ayres', 'Raposas Nerds', 0)\n",
      "(4, 'Rafael Montaigner', 'É nois', 2)\n",
      "(5, 'Igor Miranda', 'É nois', 2)\n"
     ]
    }
   ],
   "source": [
    "db('SELECT * FROM jogador')"
   ]
  },
  {
   "cell_type": "markdown",
   "metadata": {},
   "source": [
    "Agora vamos tentar remover o time 'É nois':"
   ]
  },
  {
   "cell_type": "code",
   "execution_count": 49,
   "metadata": {},
   "outputs": [
    {
     "name": "stdout",
     "output_type": "stream",
     "text": [
      "Executando query:\n",
      "<class 'mysql.connector.errors.IntegrityError'>: 1451 (23000): Cannot delete or update a parent row: a foreign key constraint fails (`torneio`.`jogador`, CONSTRAINT `fk_equipe` FOREIGN KEY (`nome_equipe`) REFERENCES `equipe` (`nome`))\n"
     ]
    }
   ],
   "source": [
    "try:\n",
    "    db('DELETE FROM equipe WHERE nome=\"É nois\"')\n",
    "    connection.commit()\n",
    "except Exception as e:\n",
    "    print(f'{type(e)}: {e}')\n",
    "    connection.rollback()"
   ]
  },
  {
   "cell_type": "markdown",
   "metadata": {},
   "source": [
    "Novamente o malfadado erro `IntegrityError`. Isso acontece porque o SGBD está fazendo exatamente o que você pediu: garantindo a integridade dos dados! Afinal, se removermos a equipe `'É nois'`, o que fazemos com as linhas da tabela-filha que referenciam esse registro?\n",
    "\n",
    "A restrição de chave estrangeira no nome da equipe (em `script_001.sql` ela foi chamada de `fk_equipe`) especifica, implicitamente, que a ação de apagar um registro deve ser bloqueada se impactar tabelas filhas. Podemos mudar essa restrição.\n",
    "\n",
    "## `ON UPDATE / ON DELETE`\n",
    "\n",
    "Vamos reescrever a restrição de chave estrangeira. Copie o script a seguir para `script_002.sql`.\n",
    "\n",
    "```mysql\n",
    "USE torneio;\n",
    "\n",
    "ALTER TABLE jogador\n",
    "    DROP FOREIGN KEY fk_equipe;\n",
    "\n",
    "ALTER TABLE jogador\n",
    "    ADD CONSTRAINT fk_equipe FOREIGN KEY (nome_equipe) REFERENCES equipe (nome)\n",
    "    ON DELETE CASCADE\n",
    "    ON UPDATE CASCADE;\n",
    "\n",
    "```"
   ]
  },
  {
   "cell_type": "markdown",
   "metadata": {},
   "source": [
    "Feche a conexão atual com o banco de dados: ela está bloqueando alterações no schema. Não se esqueça de efetivar as modificações passadas com `commit()`, se elas não foram *committed* até o momento:"
   ]
  },
  {
   "cell_type": "code",
   "execution_count": 52,
   "metadata": {},
   "outputs": [],
   "source": [
    "connection.commit()\n",
    "connection.close()"
   ]
  },
  {
   "cell_type": "markdown",
   "metadata": {},
   "source": [
    "Agora rode `script_002.sql` no MySQL Workbench. Se tudo deu certo você deve observar a mudança de ação na restrição de chave estrageira:\n",
    "\n",
    "<center><img src='imgs/cascade.png'/></center>\n",
    "\n",
    "Reabra a conexão e recrie o *helper*"
   ]
  },
  {
   "cell_type": "code",
   "execution_count": 53,
   "metadata": {},
   "outputs": [],
   "source": [
    "connection = mysql.connector.connect(**connection_options)\n",
    "db = ConnectionHelper(connection)"
   ]
  },
  {
   "cell_type": "markdown",
   "metadata": {},
   "source": [
    "Vamos agora tentar mudar o nome da equipe 'É nois' para 'Somos nós':"
   ]
  },
  {
   "cell_type": "code",
   "execution_count": 54,
   "metadata": {},
   "outputs": [
    {
     "name": "stdout",
     "output_type": "stream",
     "text": [
      "Executando query:\n"
     ]
    }
   ],
   "source": [
    "db('UPDATE equipe SET nome=\"Somos nós\" WHERE nome=\"É nois\"')"
   ]
  },
  {
   "cell_type": "markdown",
   "metadata": {},
   "source": [
    "Verificando o resultado:"
   ]
  },
  {
   "cell_type": "code",
   "execution_count": 55,
   "metadata": {},
   "outputs": [
    {
     "name": "stdout",
     "output_type": "stream",
     "text": [
      "Executando query:\n",
      "('Raposas Nerds', 'sudo vencer --force!')\n",
      "('Somos nós', 'Olha eu mamãe!')\n"
     ]
    }
   ],
   "source": [
    "db('SELECT * from equipe')"
   ]
  },
  {
   "cell_type": "markdown",
   "metadata": {},
   "source": [
    "Vamos verificar o que aconteceu com a tabela `jogador`"
   ]
  },
  {
   "cell_type": "code",
   "execution_count": 56,
   "metadata": {},
   "outputs": [
    {
     "name": "stdout",
     "output_type": "stream",
     "text": [
      "Executando query:\n",
      "(2, 'Raul Ayres', 'Raposas Nerds', 0)\n",
      "(3, 'Luciano Hashimoto', 'Raposas Nerds', 1)\n",
      "(4, 'Rafael Montaigner', 'Somos nós', 2)\n",
      "(5, 'Igor Miranda', 'Somos nós', 2)\n",
      "(6, 'Andrew Gomes da Silva', 'Somos nós', 1)\n"
     ]
    }
   ],
   "source": [
    "db('SELECT * FROM jogador')"
   ]
  },
  {
   "cell_type": "markdown",
   "metadata": {},
   "source": [
    "Como você pode ver, a mudança de nome foi devidamente propagada, cortesia do `ON UPDATE CASCADE`.\n",
    "\n",
    "Já o `ON DELETE CASCADE` é mais bruto. Vamos remover o time 'Somos nós':"
   ]
  },
  {
   "cell_type": "code",
   "execution_count": 57,
   "metadata": {},
   "outputs": [
    {
     "name": "stdout",
     "output_type": "stream",
     "text": [
      "Executando query:\n"
     ]
    }
   ],
   "source": [
    "db('DELETE FROM equipe WHERE nome=\"Somos nós\"')"
   ]
  },
  {
   "cell_type": "code",
   "execution_count": 58,
   "metadata": {},
   "outputs": [
    {
     "name": "stdout",
     "output_type": "stream",
     "text": [
      "Executando query:\n",
      "('Raposas Nerds', 'sudo vencer --force!')\n"
     ]
    }
   ],
   "source": [
    "db('SELECT * from equipe')"
   ]
  },
  {
   "cell_type": "markdown",
   "metadata": {},
   "source": [
    "Ok. E os jogadores?"
   ]
  },
  {
   "cell_type": "code",
   "execution_count": 59,
   "metadata": {},
   "outputs": [
    {
     "name": "stdout",
     "output_type": "stream",
     "text": [
      "Executando query:\n",
      "(2, 'Raul Ayres', 'Raposas Nerds', 0)\n",
      "(3, 'Luciano Hashimoto', 'Raposas Nerds', 1)\n"
     ]
    }
   ],
   "source": [
    "db('SELECT * FROM jogador')"
   ]
  },
  {
   "cell_type": "markdown",
   "metadata": {},
   "source": [
    "A ação `CASCADE` associada ao evento `ON DELETE` acabou por limpar a tabela `jogador` tambem.\n",
    "\n",
    "Vamos cancelar todas essas ações com o comando `rollback()`, que é o oposto de `commit()`"
   ]
  },
  {
   "cell_type": "code",
   "execution_count": 60,
   "metadata": {},
   "outputs": [],
   "source": [
    "connection.rollback()"
   ]
  },
  {
   "cell_type": "markdown",
   "metadata": {},
   "source": [
    "Verificando se deu certo:"
   ]
  },
  {
   "cell_type": "code",
   "execution_count": 61,
   "metadata": {},
   "outputs": [
    {
     "name": "stdout",
     "output_type": "stream",
     "text": [
      "Executando query:\n",
      "(2, 'Raul Ayres', 'Raposas Nerds', 0)\n",
      "(3, 'Luciano Hashimoto', 'Raposas Nerds', 1)\n",
      "(4, 'Rafael Montaigner', 'É nois', 2)\n",
      "(5, 'Igor Miranda', 'É nois', 2)\n",
      "(6, 'Andrew Gomes da Silva', 'É nois', 1)\n"
     ]
    }
   ],
   "source": [
    "db('SELECT * FROM jogador')"
   ]
  },
  {
   "cell_type": "markdown",
   "metadata": {},
   "source": [
    "**Atividade:** Alem de `CASCADE` e `RESTRICT` existem outros especificadores de ação. Ache a URL da documentação que mostra essas opções."
   ]
  },
  {
   "cell_type": "markdown",
   "metadata": {},
   "source": [
    "<div class=\"alert alert-success\">\n",
    "\n",
    "Sua resposta aqui! Dê dois cliques e edite.\n",
    "    \n",
    "    https://dev.mysql.com/doc/refman/8.0/en/create-table-foreign-keys.html\n",
    "\n",
    "</div>"
   ]
  },
  {
   "cell_type": "markdown",
   "metadata": {},
   "source": [
    "## `REPLACE` = `DELETE` + `INSERT`\n",
    "\n",
    "O comando `REPLACE` lembra um pouco o comando `UPDATE`, e é aí que mora o perigo! `REPLACE` é na verdade uma combinação de `DELETE` seguido de `INSERT`. Vamos exemplificar: suponha que eu quero atualizar o grito do time 'É nois' para 'Vai dar ruim!', mas ao invés de usar o `UPDATE` resolvi usar o `REPLACE`:"
   ]
  },
  {
   "cell_type": "code",
   "execution_count": 62,
   "metadata": {},
   "outputs": [
    {
     "name": "stdout",
     "output_type": "stream",
     "text": [
      "Executando query:\n",
      "('É nois', 'Olha eu mamãe!')\n",
      "('Raposas Nerds', 'sudo vencer --force!')\n",
      "Executando query:\n",
      "(2, 'Raul Ayres', 'Raposas Nerds', 0)\n",
      "(3, 'Luciano Hashimoto', 'Raposas Nerds', 1)\n",
      "(4, 'Rafael Montaigner', 'É nois', 2)\n",
      "(5, 'Igor Miranda', 'É nois', 2)\n",
      "(6, 'Andrew Gomes da Silva', 'É nois', 1)\n"
     ]
    }
   ],
   "source": [
    "db('SELECT * from equipe')\n",
    "db('SELECT * from jogador')"
   ]
  },
  {
   "cell_type": "code",
   "execution_count": 63,
   "metadata": {},
   "outputs": [
    {
     "name": "stdout",
     "output_type": "stream",
     "text": [
      "Executando query:\n"
     ]
    }
   ],
   "source": [
    "db('REPLACE INTO equipe VALUES (\"É nois\", \"Vai dar ruim!\")')"
   ]
  },
  {
   "cell_type": "code",
   "execution_count": 64,
   "metadata": {},
   "outputs": [
    {
     "name": "stdout",
     "output_type": "stream",
     "text": [
      "Executando query:\n",
      "('É nois', 'Vai dar ruim!')\n",
      "('Raposas Nerds', 'sudo vencer --force!')\n"
     ]
    }
   ],
   "source": [
    "db('SELECT * from equipe')"
   ]
  },
  {
   "cell_type": "code",
   "execution_count": 65,
   "metadata": {},
   "outputs": [
    {
     "name": "stdout",
     "output_type": "stream",
     "text": [
      "Executando query:\n",
      "(2, 'Raul Ayres', 'Raposas Nerds', 0)\n",
      "(3, 'Luciano Hashimoto', 'Raposas Nerds', 1)\n"
     ]
    }
   ],
   "source": [
    "db('SELECT * from jogador')"
   ]
  },
  {
   "cell_type": "markdown",
   "metadata": {},
   "source": [
    "Aparentemente deu ruim!\n",
    "\n",
    "**Atividade:** Explique"
   ]
  },
  {
   "cell_type": "markdown",
   "metadata": {},
   "source": [
    "<div class=\"alert alert-success\">\n",
    "\n",
    "Sua resposta aqui! Dê dois cliques e edite.\n",
    "    \n",
    "    Como o REPLACE invoca um DELETE implicitamente e a constraint de FOREIGN KEY está como CASCADE, todos os jogadores da equipe É nois foram apagados pelo efeito em cascata.\n",
    "\n",
    "</div>"
   ]
  },
  {
   "cell_type": "markdown",
   "metadata": {},
   "source": [
    "Ufa, por hoje é só! Feche a conexão e até a próxima aula!"
   ]
  },
  {
   "cell_type": "code",
   "execution_count": 66,
   "metadata": {},
   "outputs": [],
   "source": [
    "connection.rollback()\n",
    "connection.close()"
   ]
  },
  {
   "cell_type": "markdown",
   "metadata": {},
   "source": [
    "## Atividade para prática de DML\n",
    "\n",
    "Faça a atividade para prática de DML.\n",
    "\n",
    "### Conferindo a API de Autograding\n",
    "\n",
    "#### Tarefas e Notas\n",
    "Vamos conferir as tarefas e notas"
   ]
  },
  {
   "cell_type": "code",
   "execution_count": 67,
   "metadata": {
    "scrolled": true
   },
   "outputs": [
    {
     "data": {
      "text/markdown": [
       "|    | Atividade   | De                               | Até                       |\n",
       "|---:|:------------|:---------------------------------|:--------------------------|\n",
       "|  0 | newborn     | 2023-08-08 03:00:00+00:00        | 2023-08-16 02:59:59+00:00 |\n",
       "|  1 | select01    | 2023-08-08 03:00:00+00:00        | 2023-08-21 02:59:59+00:00 |\n",
       "|  2 | ddl         | 2023-08-27 20:36:25.452000+00:00 | 2023-09-02 02:59:59+00:00 |\n",
       "|  3 | dml         | 2023-08-29 20:36:25.452000+00:00 | 2023-09-04 02:59:59+00:00 |"
      ],
      "text/plain": [
       "<IPython.core.display.Markdown object>"
      ]
     },
     "metadata": {},
     "output_type": "display_data"
    }
   ],
   "source": [
    "ia.tasks()"
   ]
  },
  {
   "cell_type": "code",
   "execution_count": 68,
   "metadata": {},
   "outputs": [
    {
     "data": {
      "text/markdown": [
       "|    | Atividade   | Exercício   |   Peso |   Nota |\n",
       "|---:|:------------|:------------|-------:|-------:|\n",
       "|  0 | dml         | ex01        |      1 |      0 |\n",
       "|  1 | dml         | ex02        |      1 |      0 |\n",
       "|  2 | dml         | ex03        |      1 |      0 |\n",
       "|  3 | dml         | ex04        |      1 |      0 |\n",
       "|  4 | dml         | ex05        |      1 |      0 |\n",
       "|  5 | dml         | ex06        |      1 |      0 |"
      ],
      "text/plain": [
       "<IPython.core.display.Markdown object>"
      ]
     },
     "metadata": {},
     "output_type": "display_data"
    }
   ],
   "source": [
    "ia.grades(task=\"dml\")"
   ]
  },
  {
   "cell_type": "markdown",
   "metadata": {},
   "source": [
    "### Criar Base de Dados\n",
    "\n",
    "Vamos começar pela criação da base de dados. Ela deverá se chamar `vendinha`.\n",
    "\n",
    "<img src=\"imgs/vendinha.png\">\n",
    "\n",
    "<div class=\"alert alert-info\">\n",
    "\n",
    "Execute no workbench o script `vendinha.sql` disponibilizado pelo professor.\n",
    "    \n",
    "</div>"
   ]
  },
  {
   "cell_type": "code",
   "execution_count": 69,
   "metadata": {},
   "outputs": [],
   "source": [
    "connection_options_atv = {\n",
    "    \"host\": os.getenv(\"MD_DB_SERVER\"),\n",
    "    \"user\": os.getenv(\"MD_DB_USERNAME\"),\n",
    "    \"password\": os.getenv('MD_DB_PASSWORD'),\n",
    "    \"database\": 'vendinha'\n",
    "}\n",
    "\n",
    "connection_atv = mysql.connector.connect(**connection_options_atv)\n",
    "\n",
    "db_atv = ConnectionHelper(connection_atv)"
   ]
  },
  {
   "cell_type": "markdown",
   "metadata": {},
   "source": [
    "**Exercício 1**: Faça uma query para inserir a região `\"N\"` com descrição `\"Norte\"` na tabela `regiao`."
   ]
  },
  {
   "cell_type": "markdown",
   "metadata": {},
   "source": [
    "<div class=\"alert alert-info\">\n",
    "\n",
    "**DICA:**\n",
    "    \n",
    "Agora que temos a função `db` para conexão com o banco, podemos testar nossas queries aqui mesmo no notebook, alternando comandos de **DML** com `SELECT` para conferir o resultado.\n",
    "</div>"
   ]
  },
  {
   "cell_type": "code",
   "execution_count": 70,
   "metadata": {},
   "outputs": [
    {
     "name": "stdout",
     "output_type": "stream",
     "text": [
      "Executando query:\n"
     ]
    }
   ],
   "source": [
    "# Deixa eu ver como está\n",
    "db_atv(\"SELECT * FROM regiao\")"
   ]
  },
  {
   "cell_type": "code",
   "execution_count": 71,
   "metadata": {},
   "outputs": [
    {
     "name": "stdout",
     "output_type": "stream",
     "text": [
      "Executando query:\n"
     ]
    }
   ],
   "source": [
    "# Agora deixa eu responder a questão\n",
    "sql_ex01 = \"\"\"\n",
    "INSERT INTO regiao VALUES ('N','Norte')\n",
    "\"\"\"\n",
    "\n",
    "db_atv(sql_ex01)"
   ]
  },
  {
   "cell_type": "code",
   "execution_count": 72,
   "metadata": {},
   "outputs": [
    {
     "name": "stdout",
     "output_type": "stream",
     "text": [
      "Executando query:\n",
      "('N', 'Norte')\n"
     ]
    }
   ],
   "source": [
    "# Deixa eu ver o RESULTADO!\n",
    "db_atv(\"SELECT * FROM regiao\")"
   ]
  },
  {
   "cell_type": "code",
   "execution_count": 73,
   "metadata": {},
   "outputs": [
    {
     "data": {
      "application/vnd.jupyter.widget-view+json": {
       "model_id": "29d80a17644644eeab8d72d696b9a276",
       "version_major": 2,
       "version_minor": 0
      },
      "text/plain": [
       "interactive(children=(Button(description='Enviar ex01', style=ButtonStyle()), Output()), _dom_classes=('widget…"
      ]
     },
     "execution_count": 73,
     "metadata": {},
     "output_type": "execute_result"
    }
   ],
   "source": [
    "ia.sender(answer='sql_ex01', task='dml', question='ex01', answer_type='pyvar')"
   ]
  },
  {
   "cell_type": "markdown",
   "metadata": {},
   "source": [
    "**Exercício 2**: Em uma única query (sem fazer vários `INSERT`), insira as regiões na tabela `regiao`:\n",
    "\n",
    "- a região `\"NE\"` com descrição `\"Nordeste\"`.\n",
    "- a região `\"SE\"` com descrição `\"Sudeste\"`.\n",
    "- a região `\"S\"` com descrição `\"Sul\"`.\n",
    "- a região `\"CO\"` com descrição `\"Centro-Oeste\"`."
   ]
  },
  {
   "cell_type": "code",
   "execution_count": null,
   "metadata": {},
   "outputs": [],
   "source": [
    "# Deixa eu ver como está\n",
    "db_atv(\"SELECT * FROM regiao\")"
   ]
  },
  {
   "cell_type": "code",
   "execution_count": 74,
   "metadata": {},
   "outputs": [
    {
     "name": "stdout",
     "output_type": "stream",
     "text": [
      "Executando query:\n"
     ]
    }
   ],
   "source": [
    "# Agora deixa eu responder a questão\n",
    "sql_ex02 = \"\"\"\n",
    "INSERT INTO regiao VALUES ('NE','Nordeste'), ('SE','Sudeste'), ('S','Sul'), ('CO','Centro-Oeste');\n",
    "\"\"\"\n",
    "\n",
    "db_atv(sql_ex02)"
   ]
  },
  {
   "cell_type": "code",
   "execution_count": 75,
   "metadata": {
    "scrolled": true
   },
   "outputs": [
    {
     "name": "stdout",
     "output_type": "stream",
     "text": [
      "Executando query:\n",
      "('CO', 'Centro-Oeste')\n",
      "('N', 'Norte')\n",
      "('NE', 'Nordeste')\n",
      "('S', 'Sul')\n",
      "('SE', 'Sudeste')\n"
     ]
    }
   ],
   "source": [
    "# Deixa eu ver o RESULTADO!\n",
    "db_atv(\"SELECT * FROM regiao\")"
   ]
  },
  {
   "cell_type": "code",
   "execution_count": 77,
   "metadata": {
    "scrolled": true
   },
   "outputs": [
    {
     "data": {
      "application/vnd.jupyter.widget-view+json": {
       "model_id": "8cfbb44e3a7b43bfbacb1a49dcf5ff6e",
       "version_major": 2,
       "version_minor": 0
      },
      "text/plain": [
       "interactive(children=(Button(description='Enviar ex02', style=ButtonStyle()), Output()), _dom_classes=('widget…"
      ]
     },
     "execution_count": 77,
     "metadata": {},
     "output_type": "execute_result"
    }
   ],
   "source": [
    "ia.sender(answer='sql_ex02', task='dml', question='ex02', answer_type='pyvar')"
   ]
  },
  {
   "cell_type": "markdown",
   "metadata": {},
   "source": [
    "**Exercício 3**: Considere que as seguinte queries foram executadas:\n",
    "\n",
    "```mysql\n",
    "INSERT INTO vendinha.uf\n",
    "    (uf, descricao, regiao)\n",
    "VALUES\n",
    "    ('sp', 'São Paulo', 'SE'),\n",
    "    ('mg', 'Minas Gerais', 'SE'),\n",
    "    ('pr', 'Paraná', 'S'),\n",
    "    ('am', 'Amazonas', 'N'),\n",
    "    ('ba', 'Bahia', 'NE');\n",
    "```\n",
    "\n",
    "**Obs**: vamos supor que as cinco regiões do BR estão cadastradas. Cadastre-as em sua base local usando a chamada do banco (aqui do notebook mesmo)!\n",
    "\n",
    "Crie uma que altere para **maiúsculo** o `uf` apenas dos estados da região **sudeste**."
   ]
  },
  {
   "cell_type": "code",
   "execution_count": 78,
   "metadata": {},
   "outputs": [
    {
     "name": "stdout",
     "output_type": "stream",
     "text": [
      "Executando query:\n"
     ]
    }
   ],
   "source": [
    "# Deixa eu ver como está\n",
    "db_atv(\"SELECT * FROM uf\")"
   ]
  },
  {
   "cell_type": "code",
   "execution_count": 79,
   "metadata": {},
   "outputs": [
    {
     "name": "stdout",
     "output_type": "stream",
     "text": [
      "Executando query:\n"
     ]
    }
   ],
   "source": [
    "# Agora deixa eu responder a questão\n",
    "sql_ex03 = \"\"\"\n",
    "UPDATE vendinha.uf SET uf=UPPER(uf) WHERE regiao=\"SE\"\n",
    "\"\"\"\n",
    "\n",
    "db_atv(sql_ex03)"
   ]
  },
  {
   "cell_type": "code",
   "execution_count": 80,
   "metadata": {},
   "outputs": [
    {
     "name": "stdout",
     "output_type": "stream",
     "text": [
      "Executando query:\n"
     ]
    }
   ],
   "source": [
    "# Deixa eu ver o RESULTADO!\n",
    "db_atv(\"SELECT * FROM uf\")"
   ]
  },
  {
   "cell_type": "code",
   "execution_count": 81,
   "metadata": {},
   "outputs": [
    {
     "data": {
      "application/vnd.jupyter.widget-view+json": {
       "model_id": "085c2005546b4988ac8ed36155598b17",
       "version_major": 2,
       "version_minor": 0
      },
      "text/plain": [
       "interactive(children=(Button(description='Enviar ex03', style=ButtonStyle()), Output()), _dom_classes=('widget…"
      ]
     },
     "execution_count": 81,
     "metadata": {},
     "output_type": "execute_result"
    }
   ],
   "source": [
    "ia.sender(answer='sql_ex03', task='dml', question='ex03', answer_type='pyvar')"
   ]
  },
  {
   "cell_type": "markdown",
   "metadata": {},
   "source": [
    "**Exercício 4**: Considere que as seguinte queries foram executadas:\n",
    "\n",
    "<div class=\"alert alert-info\">\n",
    "\n",
    "Perceba que os `uf` estão em maúsculo neste exercício!\n",
    "\n",
    "</div>\n",
    "\n",
    "**Tabela `uf`**:\n",
    "```mysql\n",
    "INSERT INTO vendinha.uf\n",
    "    (uf, descricao, regiao)\n",
    "VALUES\n",
    "    ('SP', 'São Paulo', 'SE'),\n",
    "    ('MG', 'Minas Gerais', 'SE'),\n",
    "    ('PR', 'Paraná', 'S'),\n",
    "    ('AM', 'Amazonas', 'N'),\n",
    "    ('BA', 'Bahia', 'NE');\n",
    "```\n",
    "\n",
    "**Tabela `cidade`**:\n",
    "```mysql\n",
    "INSERT INTO vendinha.cidade\n",
    "    (id, descricao, uf)\n",
    "VALUES\n",
    "    (20, 'São Paulo', 'SP'),\n",
    "    (21, 'Campinas', 'SP');\n",
    "    (22, 'Salvador', 'BA');\n",
    "    (23, 'Manaus', 'AM');\n",
    "    (24, 'Belo Horizonte', 'MG');\n",
    "    (25, 'São Roque de Minas', 'MG');\n",
    "```\n",
    "\n",
    "**Tabela `vendedor`**:\n",
    "```mysql\n",
    "INSERT INTO vendinha.vendedor\n",
    "    (id, nome, data_nasc, data_cad, ativo)\n",
    "VALUES\n",
    "    (100, 'Maria Roque', '1988-01-01', '2023-06-11', 1),\n",
    "    (101, 'Ana Benedita', '1970-12-09', '2023-07-15', 1),\n",
    "    (102, 'Silvio Jardim', '1988-12-25', '2023-08-01', 1),\n",
    "    (103, 'Bruna Fontana', '1981-07-05', '2023-09-01', 1),\n",
    "    (104, 'Tulio Maravilha', '1978-09-22', '2023-08-07', 1),\n",
    "    (105, 'Gino Pereira', '1964-04-03', '2023-08-25', 0),\n",
    "    (106, 'Camila Oliveira', '1992-08-05', '2023-09-01', 1),\n",
    "    (107, 'Mariana Souza', '1985-08-29', '2023-09-01', 1);\n",
    "```\n",
    "\n",
    "\n",
    "**Obs**: vamos supor que as cinco regiões do BR estão cadastradas. Cadastre-as em sua base local usando a chamada do banco (aqui do notebook mesmo)!\n",
    "\n",
    "Foi descoberto que todos os vendedores cadastrados em **agosto de 2023** são bots e devem ser removidos da base. Construa sua query!"
   ]
  },
  {
   "cell_type": "code",
   "execution_count": 82,
   "metadata": {},
   "outputs": [
    {
     "name": "stdout",
     "output_type": "stream",
     "text": [
      "Executando query:\n"
     ]
    }
   ],
   "source": [
    "# Deixa eu ver como está\n",
    "db_atv(\"SELECT * FROM vendedor\")"
   ]
  },
  {
   "cell_type": "code",
   "execution_count": 83,
   "metadata": {},
   "outputs": [
    {
     "name": "stdout",
     "output_type": "stream",
     "text": [
      "Executando query:\n"
     ]
    }
   ],
   "source": [
    "# Agora deixa eu responder a questão\n",
    "sql_ex04 = \"\"\"\n",
    "DELETE FROM vendedor WHERE YEAR(data_cad) = 2023 AND MONTH(data_cad) = 8;\n",
    "\"\"\"\n",
    "\n",
    "db_atv(sql_ex03)"
   ]
  },
  {
   "cell_type": "code",
   "execution_count": 84,
   "metadata": {
    "scrolled": true
   },
   "outputs": [
    {
     "name": "stdout",
     "output_type": "stream",
     "text": [
      "Executando query:\n"
     ]
    }
   ],
   "source": [
    "# Deixa eu ver o RESULTADO!\n",
    "db_atv(\"SELECT * FROM vendedor\")"
   ]
  },
  {
   "cell_type": "code",
   "execution_count": 85,
   "metadata": {},
   "outputs": [
    {
     "data": {
      "application/vnd.jupyter.widget-view+json": {
       "model_id": "751f6cc859624ad491ef9da079edb769",
       "version_major": 2,
       "version_minor": 0
      },
      "text/plain": [
       "interactive(children=(Button(description='Enviar ex04', style=ButtonStyle()), Output()), _dom_classes=('widget…"
      ]
     },
     "execution_count": 85,
     "metadata": {},
     "output_type": "execute_result"
    }
   ],
   "source": [
    "ia.sender(answer='sql_ex04', task='dml', question='ex04', answer_type='pyvar')"
   ]
  },
  {
   "cell_type": "markdown",
   "metadata": {},
   "source": [
    "**Exercício 5**: Considere que as seguinte queries foram executadas:\n",
    "\n",
    "<div class=\"alert alert-info\">\n",
    "\n",
    "Perceba que os `uf` estão em maúsculo neste exercício!\n",
    "\n",
    "</div>\n",
    "\n",
    "**Tabela `uf`**:\n",
    "```mysql\n",
    "INSERT INTO vendinha.uf\n",
    "    (uf, descricao, regiao)\n",
    "VALUES\n",
    "    ('SP', 'São Paulo', 'SE'),\n",
    "    ('MG', 'Minas Gerais', 'SE'),\n",
    "    ('PR', 'Paraná', 'S'),\n",
    "    ('AM', 'Amazonas', 'N'),\n",
    "    ('BA', 'Bahia', 'NE');\n",
    "```\n",
    "\n",
    "**Tabela `cidade`**:\n",
    "```mysql\n",
    "INSERT INTO vendinha.cidade\n",
    "    (id, descricao, uf)\n",
    "VALUES\n",
    "    (20, 'São Paulo', 'SP'),\n",
    "    (21, 'Campinas', 'SP');\n",
    "    (22, 'Salvador', 'BA');\n",
    "    (23, 'Manaus', 'AM');\n",
    "    (24, 'Belo Horizonte', 'MG');\n",
    "    (25, 'São Roque de Minas', 'MG');\n",
    "```\n",
    "\n",
    "**Tabela `vendedor`**:\n",
    "```mysql\n",
    "INSERT INTO vendinha.vendedor\n",
    "    (id, nome, data_nasc, data_cad, ativo)\n",
    "VALUES\n",
    "    (100, 'Maria Roque', '1988-01-01', '2023-06-11', 1),\n",
    "    (101, 'Ana Benedita', '1970-12-09', '2023-07-15', 1),\n",
    "    (102, 'Silvio Jardim', '1988-12-25', '2023-08-01', 1),\n",
    "    (103, 'Bruna Fontana', '1981-07-05', '2023-09-01', 1),\n",
    "    (104, 'Tulio Maravilha', '1978-09-22', '2023-08-07', 1),\n",
    "    (105, 'Gino Pereira', '1964-04-03', '2023-08-25', 0),\n",
    "    (106, 'Camila Oliveira', '1992-08-05', '2023-09-01', 1),\n",
    "    (107, 'Mariana Souza', '1985-08-29', '2023-09-01', 1);\n",
    "```\n",
    "\n",
    "\n",
    "**Obs**: vamos supor que as cinco regiões do BR estão cadastradas. Cadastre-as em sua base local usando a chamada do banco (aqui do notebook mesmo)!\n",
    "\n",
    "Dadas as relações de **vendedores** e **cidades onde vendedor vende**:\n",
    "\n",
    "- Bruna Fontana:\n",
    "    - São Paulo SP\n",
    "    - Campinas SP\n",
    "- Silvio Jardim:\n",
    "    - São Paulo SP\n",
    "    - Belo Horizonte MG\n",
    "    - São Roque de Minas\n",
    "- Camila Oliveira:\n",
    "    - Manaus AM\n",
    "    \n",
    "Construa uma query para popular a tabela `vendedor_vende_cidade`."
   ]
  },
  {
   "cell_type": "code",
   "execution_count": 93,
   "metadata": {},
   "outputs": [
    {
     "ename": "OperationalError",
     "evalue": "MySQL Connection not available.",
     "output_type": "error",
     "traceback": [
      "\u001b[1;31m---------------------------------------------------------------------------\u001b[0m",
      "\u001b[1;31mOperationalError\u001b[0m                          Traceback (most recent call last)",
      "Cell \u001b[1;32mIn[93], line 34\u001b[0m\n\u001b[0;32m      1\u001b[0m prev_cmd \u001b[38;5;241m=\u001b[39m \u001b[38;5;124m\"\"\"\u001b[39m\n\u001b[0;32m      2\u001b[0m \u001b[38;5;124mINSERT INTO vendinha.uf\u001b[39m\n\u001b[0;32m      3\u001b[0m \u001b[38;5;124m    (uf, descricao, regiao)\u001b[39m\n\u001b[1;32m   (...)\u001b[0m\n\u001b[0;32m     31\u001b[0m \u001b[38;5;124m    (107, \u001b[39m\u001b[38;5;124m'\u001b[39m\u001b[38;5;124mMariana Souza\u001b[39m\u001b[38;5;124m'\u001b[39m\u001b[38;5;124m, \u001b[39m\u001b[38;5;124m'\u001b[39m\u001b[38;5;124m1985-08-29\u001b[39m\u001b[38;5;124m'\u001b[39m\u001b[38;5;124m, \u001b[39m\u001b[38;5;124m'\u001b[39m\u001b[38;5;124m2023-09-01\u001b[39m\u001b[38;5;124m'\u001b[39m\u001b[38;5;124m, 1);\u001b[39m\n\u001b[0;32m     32\u001b[0m \u001b[38;5;124m\"\"\"\u001b[39m\n\u001b[1;32m---> 34\u001b[0m \u001b[43mdb_atv\u001b[49m\u001b[43m(\u001b[49m\u001b[43mprev_cmd\u001b[49m\u001b[43m)\u001b[49m\n",
      "Cell \u001b[1;32mIn[22], line 7\u001b[0m, in \u001b[0;36mConnectionHelper.__call__\u001b[1;34m(self, query, args)\u001b[0m\n\u001b[0;32m      6\u001b[0m \u001b[38;5;28;01mdef\u001b[39;00m \u001b[38;5;21m__call__\u001b[39m(\u001b[38;5;28mself\u001b[39m, query, args\u001b[38;5;241m=\u001b[39m\u001b[38;5;28;01mNone\u001b[39;00m):\n\u001b[1;32m----> 7\u001b[0m     \u001b[38;5;28;01mwith\u001b[39;00m \u001b[38;5;28;43mself\u001b[39;49m\u001b[38;5;241;43m.\u001b[39;49m\u001b[43mconnection\u001b[49m\u001b[38;5;241;43m.\u001b[39;49m\u001b[43mcursor\u001b[49m\u001b[43m(\u001b[49m\u001b[43m)\u001b[49m \u001b[38;5;28;01mas\u001b[39;00m cursor:\n\u001b[0;32m      8\u001b[0m         \u001b[38;5;28mprint\u001b[39m(\u001b[38;5;124m'\u001b[39m\u001b[38;5;124mExecutando query:\u001b[39m\u001b[38;5;124m'\u001b[39m)\n\u001b[0;32m      9\u001b[0m         cursor\u001b[38;5;241m.\u001b[39mexecute(query, args)\n",
      "File \u001b[1;32m~\\AppData\\Local\\Programs\\Python\\Python311\\Lib\\site-packages\\mysql\\connector\\connection_cext.py:700\u001b[0m, in \u001b[0;36mCMySQLConnection.cursor\u001b[1;34m(self, buffered, raw, prepared, cursor_class, dictionary, named_tuple)\u001b[0m\n\u001b[0;32m    698\u001b[0m \u001b[38;5;28mself\u001b[39m\u001b[38;5;241m.\u001b[39mhandle_unread_result(prepared)\n\u001b[0;32m    699\u001b[0m \u001b[38;5;28;01mif\u001b[39;00m \u001b[38;5;129;01mnot\u001b[39;00m \u001b[38;5;28mself\u001b[39m\u001b[38;5;241m.\u001b[39mis_connected():\n\u001b[1;32m--> 700\u001b[0m     \u001b[38;5;28;01mraise\u001b[39;00m OperationalError(\u001b[38;5;124m\"\u001b[39m\u001b[38;5;124mMySQL Connection not available.\u001b[39m\u001b[38;5;124m\"\u001b[39m)\n\u001b[0;32m    701\u001b[0m \u001b[38;5;28;01mif\u001b[39;00m cursor_class \u001b[38;5;129;01mis\u001b[39;00m \u001b[38;5;129;01mnot\u001b[39;00m \u001b[38;5;28;01mNone\u001b[39;00m:\n\u001b[0;32m    702\u001b[0m     \u001b[38;5;28;01mif\u001b[39;00m \u001b[38;5;129;01mnot\u001b[39;00m \u001b[38;5;28missubclass\u001b[39m(cursor_class, CMySQLCursor):\n",
      "\u001b[1;31mOperationalError\u001b[0m: MySQL Connection not available."
     ]
    }
   ],
   "source": [
    "prev_cmd = \"\"\"\n",
    "INSERT INTO vendinha.uf\n",
    "    (uf, descricao, regiao)\n",
    "VALUES\n",
    "    ('SP', 'São Paulo', 'SE'),\n",
    "    ('MG', 'Minas Gerais', 'SE'),\n",
    "    ('PR', 'Paraná', 'S'),\n",
    "    ('AM', 'Amazonas', 'N'),\n",
    "    ('BA', 'Bahia', 'NE');\n",
    "\n",
    "INSERT INTO vendinha.cidade\n",
    "    (id, descricao, uf)\n",
    "VALUES\n",
    "    (20, 'São Paulo', 'SP'),\n",
    "    (21, 'Campinas', 'SP');\n",
    "    (22, 'Salvador', 'BA');\n",
    "    (23, 'Manaus', 'AM');\n",
    "    (24, 'Belo Horizonte', 'MG');\n",
    "    (25, 'São Roque de Minas', 'MG');\n",
    "\n",
    "INSERT INTO vendinha.vendedor\n",
    "    (id, nome, data_nasc, data_cad, ativo)\n",
    "VALUES\n",
    "    (100, 'Maria Roque', '1988-01-01', '2023-06-11', 1),\n",
    "    (101, 'Ana Benedita', '1970-12-09', '2023-07-15', 1),\n",
    "    (102, 'Silvio Jardim', '1988-12-25', '2023-08-01', 1),\n",
    "    (103, 'Bruna Fontana', '1981-07-05', '2023-09-01', 1),\n",
    "    (104, 'Tulio Maravilha', '1978-09-22', '2023-08-07', 1),\n",
    "    (105, 'Gino Pereira', '1964-04-03', '2023-08-25', 0),\n",
    "    (106, 'Camila Oliveira', '1992-08-05', '2023-09-01', 1),\n",
    "    (107, 'Mariana Souza', '1985-08-29', '2023-09-01', 1);\n",
    "\"\"\"\n",
    "\n",
    "db_atv(prev_cmd)"
   ]
  },
  {
   "cell_type": "code",
   "execution_count": 90,
   "metadata": {},
   "outputs": [
    {
     "ename": "OperationalError",
     "evalue": "MySQL Connection not available.",
     "output_type": "error",
     "traceback": [
      "\u001b[1;31m---------------------------------------------------------------------------\u001b[0m",
      "\u001b[1;31mOperationalError\u001b[0m                          Traceback (most recent call last)",
      "Cell \u001b[1;32mIn[90], line 2\u001b[0m\n\u001b[0;32m      1\u001b[0m \u001b[38;5;66;03m# Deixa eu ver como está\u001b[39;00m\n\u001b[1;32m----> 2\u001b[0m \u001b[43mdb_atv\u001b[49m\u001b[43m(\u001b[49m\u001b[38;5;124;43m\"\u001b[39;49m\u001b[38;5;124;43mSELECT * FROM vendedor_vende_cidade\u001b[39;49m\u001b[38;5;124;43m\"\u001b[39;49m\u001b[43m)\u001b[49m\n",
      "Cell \u001b[1;32mIn[22], line 7\u001b[0m, in \u001b[0;36mConnectionHelper.__call__\u001b[1;34m(self, query, args)\u001b[0m\n\u001b[0;32m      6\u001b[0m \u001b[38;5;28;01mdef\u001b[39;00m \u001b[38;5;21m__call__\u001b[39m(\u001b[38;5;28mself\u001b[39m, query, args\u001b[38;5;241m=\u001b[39m\u001b[38;5;28;01mNone\u001b[39;00m):\n\u001b[1;32m----> 7\u001b[0m     \u001b[38;5;28;01mwith\u001b[39;00m \u001b[38;5;28;43mself\u001b[39;49m\u001b[38;5;241;43m.\u001b[39;49m\u001b[43mconnection\u001b[49m\u001b[38;5;241;43m.\u001b[39;49m\u001b[43mcursor\u001b[49m\u001b[43m(\u001b[49m\u001b[43m)\u001b[49m \u001b[38;5;28;01mas\u001b[39;00m cursor:\n\u001b[0;32m      8\u001b[0m         \u001b[38;5;28mprint\u001b[39m(\u001b[38;5;124m'\u001b[39m\u001b[38;5;124mExecutando query:\u001b[39m\u001b[38;5;124m'\u001b[39m)\n\u001b[0;32m      9\u001b[0m         cursor\u001b[38;5;241m.\u001b[39mexecute(query, args)\n",
      "File \u001b[1;32m~\\AppData\\Local\\Programs\\Python\\Python311\\Lib\\site-packages\\mysql\\connector\\connection_cext.py:700\u001b[0m, in \u001b[0;36mCMySQLConnection.cursor\u001b[1;34m(self, buffered, raw, prepared, cursor_class, dictionary, named_tuple)\u001b[0m\n\u001b[0;32m    698\u001b[0m \u001b[38;5;28mself\u001b[39m\u001b[38;5;241m.\u001b[39mhandle_unread_result(prepared)\n\u001b[0;32m    699\u001b[0m \u001b[38;5;28;01mif\u001b[39;00m \u001b[38;5;129;01mnot\u001b[39;00m \u001b[38;5;28mself\u001b[39m\u001b[38;5;241m.\u001b[39mis_connected():\n\u001b[1;32m--> 700\u001b[0m     \u001b[38;5;28;01mraise\u001b[39;00m OperationalError(\u001b[38;5;124m\"\u001b[39m\u001b[38;5;124mMySQL Connection not available.\u001b[39m\u001b[38;5;124m\"\u001b[39m)\n\u001b[0;32m    701\u001b[0m \u001b[38;5;28;01mif\u001b[39;00m cursor_class \u001b[38;5;129;01mis\u001b[39;00m \u001b[38;5;129;01mnot\u001b[39;00m \u001b[38;5;28;01mNone\u001b[39;00m:\n\u001b[0;32m    702\u001b[0m     \u001b[38;5;28;01mif\u001b[39;00m \u001b[38;5;129;01mnot\u001b[39;00m \u001b[38;5;28missubclass\u001b[39m(cursor_class, CMySQLCursor):\n",
      "\u001b[1;31mOperationalError\u001b[0m: MySQL Connection not available."
     ]
    }
   ],
   "source": [
    "# Deixa eu ver como está\n",
    "db_atv(\"SELECT * FROM vendedor_vende_cidade\")"
   ]
  },
  {
   "cell_type": "code",
   "execution_count": 91,
   "metadata": {},
   "outputs": [
    {
     "ename": "OperationalError",
     "evalue": "MySQL Connection not available.",
     "output_type": "error",
     "traceback": [
      "\u001b[1;31m---------------------------------------------------------------------------\u001b[0m",
      "\u001b[1;31mOperationalError\u001b[0m                          Traceback (most recent call last)",
      "Cell \u001b[1;32mIn[91], line 13\u001b[0m\n\u001b[0;32m      1\u001b[0m \u001b[38;5;66;03m# Agora deixa eu responder a questão\u001b[39;00m\n\u001b[0;32m      2\u001b[0m sql_ex05 \u001b[38;5;241m=\u001b[39m \u001b[38;5;124m\"\"\"\u001b[39m\n\u001b[0;32m      3\u001b[0m \u001b[38;5;124mINSERT INTO vendinha.vendedor_vende_cidade (id_vendedor, id_cidade)\u001b[39m\n\u001b[0;32m      4\u001b[0m \u001b[38;5;124mVALUES\u001b[39m\n\u001b[1;32m   (...)\u001b[0m\n\u001b[0;32m     10\u001b[0m \u001b[38;5;124m    (106, 23); \u001b[39m\n\u001b[0;32m     11\u001b[0m \u001b[38;5;124m\"\"\"\u001b[39m\n\u001b[1;32m---> 13\u001b[0m \u001b[43mdb_atv\u001b[49m\u001b[43m(\u001b[49m\u001b[43msql_ex05\u001b[49m\u001b[43m)\u001b[49m\n",
      "Cell \u001b[1;32mIn[22], line 7\u001b[0m, in \u001b[0;36mConnectionHelper.__call__\u001b[1;34m(self, query, args)\u001b[0m\n\u001b[0;32m      6\u001b[0m \u001b[38;5;28;01mdef\u001b[39;00m \u001b[38;5;21m__call__\u001b[39m(\u001b[38;5;28mself\u001b[39m, query, args\u001b[38;5;241m=\u001b[39m\u001b[38;5;28;01mNone\u001b[39;00m):\n\u001b[1;32m----> 7\u001b[0m     \u001b[38;5;28;01mwith\u001b[39;00m \u001b[38;5;28;43mself\u001b[39;49m\u001b[38;5;241;43m.\u001b[39;49m\u001b[43mconnection\u001b[49m\u001b[38;5;241;43m.\u001b[39;49m\u001b[43mcursor\u001b[49m\u001b[43m(\u001b[49m\u001b[43m)\u001b[49m \u001b[38;5;28;01mas\u001b[39;00m cursor:\n\u001b[0;32m      8\u001b[0m         \u001b[38;5;28mprint\u001b[39m(\u001b[38;5;124m'\u001b[39m\u001b[38;5;124mExecutando query:\u001b[39m\u001b[38;5;124m'\u001b[39m)\n\u001b[0;32m      9\u001b[0m         cursor\u001b[38;5;241m.\u001b[39mexecute(query, args)\n",
      "File \u001b[1;32m~\\AppData\\Local\\Programs\\Python\\Python311\\Lib\\site-packages\\mysql\\connector\\connection_cext.py:700\u001b[0m, in \u001b[0;36mCMySQLConnection.cursor\u001b[1;34m(self, buffered, raw, prepared, cursor_class, dictionary, named_tuple)\u001b[0m\n\u001b[0;32m    698\u001b[0m \u001b[38;5;28mself\u001b[39m\u001b[38;5;241m.\u001b[39mhandle_unread_result(prepared)\n\u001b[0;32m    699\u001b[0m \u001b[38;5;28;01mif\u001b[39;00m \u001b[38;5;129;01mnot\u001b[39;00m \u001b[38;5;28mself\u001b[39m\u001b[38;5;241m.\u001b[39mis_connected():\n\u001b[1;32m--> 700\u001b[0m     \u001b[38;5;28;01mraise\u001b[39;00m OperationalError(\u001b[38;5;124m\"\u001b[39m\u001b[38;5;124mMySQL Connection not available.\u001b[39m\u001b[38;5;124m\"\u001b[39m)\n\u001b[0;32m    701\u001b[0m \u001b[38;5;28;01mif\u001b[39;00m cursor_class \u001b[38;5;129;01mis\u001b[39;00m \u001b[38;5;129;01mnot\u001b[39;00m \u001b[38;5;28;01mNone\u001b[39;00m:\n\u001b[0;32m    702\u001b[0m     \u001b[38;5;28;01mif\u001b[39;00m \u001b[38;5;129;01mnot\u001b[39;00m \u001b[38;5;28missubclass\u001b[39m(cursor_class, CMySQLCursor):\n",
      "\u001b[1;31mOperationalError\u001b[0m: MySQL Connection not available."
     ]
    }
   ],
   "source": [
    "# Agora deixa eu responder a questão\n",
    "sql_ex05 = \"\"\"\n",
    "INSERT INTO vendinha.vendedor_vende_cidade (id_vendedor, id_cidade)\n",
    "VALUES\n",
    "    (103, 20), \n",
    "    (103, 21), \n",
    "    (102, 20), \n",
    "    (102, 24), \n",
    "    (102, 25), \n",
    "    (106, 23); \n",
    "\"\"\"\n",
    "\n",
    "db_atv(sql_ex05)"
   ]
  },
  {
   "cell_type": "code",
   "execution_count": null,
   "metadata": {
    "scrolled": true
   },
   "outputs": [],
   "source": [
    "# Deixa eu ver o RESULTADO!\n",
    "db_atv(\"SELECT * FROM vendedor_vende_cidade\")"
   ]
  },
  {
   "cell_type": "code",
   "execution_count": 92,
   "metadata": {},
   "outputs": [
    {
     "data": {
      "application/vnd.jupyter.widget-view+json": {
       "model_id": "24ce6d65c35149aba518111a06a9a59b",
       "version_major": 2,
       "version_minor": 0
      },
      "text/plain": [
       "interactive(children=(Button(description='Enviar ex05', style=ButtonStyle()), Output()), _dom_classes=('widget…"
      ]
     },
     "execution_count": 92,
     "metadata": {},
     "output_type": "execute_result"
    }
   ],
   "source": [
    "ia.sender(answer='sql_ex05', task='dml', question='ex05', answer_type='pyvar')"
   ]
  },
  {
   "cell_type": "markdown",
   "metadata": {},
   "source": [
    "**Exercício 6**: Considere que as seguinte queries foram executadas:\n",
    "\n",
    "**Tabela `uf`**:\n",
    "```mysql\n",
    "INSERT INTO vendinha.uf\n",
    "    (uf, descricao, regiao)\n",
    "VALUES\n",
    "    ('SP', 'São Paulo', 'SE'),\n",
    "    ('MG', 'Minas Gerais', 'SE'),\n",
    "    ('PR', 'Paraná', 'S'),\n",
    "    ('AM', 'Amazonas', 'N'),\n",
    "    ('BA', 'Bahia', 'NE');\n",
    "```\n",
    "\n",
    "**Tabela `cidade`**:\n",
    "```mysql\n",
    "INSERT INTO vendinha.cidade\n",
    "    (id, descricao, uf)\n",
    "VALUES\n",
    "    (20, 'São Paulo', 'SP'),\n",
    "    (21, 'Campinas', 'SP');\n",
    "    (22, 'Salvador', 'BA');\n",
    "    (23, 'Manaus', 'AM');\n",
    "    (24, 'Belo Horizonte', 'MG');\n",
    "    (25, 'São Roque de Minas', 'MG');\n",
    "```\n",
    "\n",
    "**Tabela `vendedor`**:\n",
    "```mysql\n",
    "INSERT INTO vendinha.vendedor\n",
    "    (id, nome, data_nasc, data_cad, ativo)\n",
    "VALUES\n",
    "    (100, 'Maria Roque', '1988-01-01', '2023-06-11', 1),\n",
    "    (101, 'Ana Benedita', '1970-12-09', '2023-07-15', 1),\n",
    "    (102, 'Silvio Jardim', '1988-12-25', '2023-08-01', 1),\n",
    "    (103, 'Bruna Fontana', '1981-07-05', '2023-09-01', 1),\n",
    "    (104, 'Tulio Maravilha', '1978-09-22', '2023-08-07', 1),\n",
    "    (105, 'Gino Pereira', '1964-04-03', '2023-08-25', 0),\n",
    "    (106, 'Camila Oliveira', '1992-08-05', '2023-09-01', 1),\n",
    "    (107, 'Mariana Souza', '1985-08-29', '2023-09-01', 1);\n",
    "```\n",
    "\n",
    "Ainda, considere uma nova tabela chamada `vendedor_ativo_dia` com o esquema:\n",
    "\n",
    "| Coluna         | Tipo         | PK (Primary Key?) | Not Null? | Autoinc?\n",
    "|----------------|--------------|-------------------|-----------|-----------|\n",
    "| id             | INT          |   True            |    True   |     True  |\n",
    "| id_vendedor    | INT          |                   |    True   |           |\n",
    "| ativo          | TYNYINT      |                   |    True   |           |\n",
    "| data_registro  | DATE         |                   |    True   |           |\n",
    "\n",
    "Considere que a tabela `vendedor_ativo_dia` é utilizada para criar um registro histórico de todos os vendedores que estão ativos em cada data.\n",
    "\n",
    "**Obs**: vamos supor que as cinco regiões do BR estão cadastradas. Cadastre-as em sua base local usando a chamada do banco (aqui do notebook mesmo)!\n",
    "\n",
    "Construa uma query que faça a inserção dos dados na tabela `vendedor_ativo_dia` a partir de um `SELECT` dos vendedores ativos da tabela de vendedor.\n",
    "\n",
    "<div class=\"alert alert-danger\">\n",
    "\n",
    "Não deixe a data **hardcoded**. Pesquise como recuperar a data atual do sistema em uma query.\n",
    "\n",
    "</div>\n",
    "  \n",
    "<div class=\"alert alert-info\">\n",
    "\n",
    "Por simplificação, não é necessário criar as constraints de chave extrangeira na tabela `vendedor_ativo_dia`.\n",
    "\n",
    "</div>\n",
    "\n",
    "Sugestão de resolução:\n",
    "- Criar DDL para `vendedor_ativo_dia`\n",
    "- Criar SELECT para pegar:\n",
    "    - Vendedores ativos\n",
    "    - com o dia de hoje\n",
    "- Inserir estes dados (usando `SELECT`) na tabela `vendedor_ativo_dia`.\n",
    "\n",
    "Não é necessário enviar a **DDL** para o servidor."
   ]
  },
  {
   "cell_type": "code",
   "execution_count": 94,
   "metadata": {},
   "outputs": [
    {
     "ename": "OperationalError",
     "evalue": "MySQL Connection not available.",
     "output_type": "error",
     "traceback": [
      "\u001b[1;31m---------------------------------------------------------------------------\u001b[0m",
      "\u001b[1;31mOperationalError\u001b[0m                          Traceback (most recent call last)",
      "Cell \u001b[1;32mIn[94], line 33\u001b[0m\n\u001b[0;32m      1\u001b[0m prev_cmd \u001b[38;5;241m=\u001b[39m \u001b[38;5;124m\"\"\"\u001b[39m\n\u001b[0;32m      2\u001b[0m \u001b[38;5;124mINSERT INTO vendinha.uf\u001b[39m\n\u001b[0;32m      3\u001b[0m \u001b[38;5;124m    (uf, descricao, regiao)\u001b[39m\n\u001b[1;32m   (...)\u001b[0m\n\u001b[0;32m     31\u001b[0m \u001b[38;5;124m    (107, \u001b[39m\u001b[38;5;124m'\u001b[39m\u001b[38;5;124mMariana Souza\u001b[39m\u001b[38;5;124m'\u001b[39m\u001b[38;5;124m, \u001b[39m\u001b[38;5;124m'\u001b[39m\u001b[38;5;124m1985-08-29\u001b[39m\u001b[38;5;124m'\u001b[39m\u001b[38;5;124m, \u001b[39m\u001b[38;5;124m'\u001b[39m\u001b[38;5;124m2023-09-01\u001b[39m\u001b[38;5;124m'\u001b[39m\u001b[38;5;124m, 1);\u001b[39m\n\u001b[0;32m     32\u001b[0m \u001b[38;5;124m\"\"\"\u001b[39m\n\u001b[1;32m---> 33\u001b[0m \u001b[43mdb_atv\u001b[49m\u001b[43m(\u001b[49m\u001b[43mprev_cmd\u001b[49m\u001b[43m)\u001b[49m\n",
      "Cell \u001b[1;32mIn[22], line 7\u001b[0m, in \u001b[0;36mConnectionHelper.__call__\u001b[1;34m(self, query, args)\u001b[0m\n\u001b[0;32m      6\u001b[0m \u001b[38;5;28;01mdef\u001b[39;00m \u001b[38;5;21m__call__\u001b[39m(\u001b[38;5;28mself\u001b[39m, query, args\u001b[38;5;241m=\u001b[39m\u001b[38;5;28;01mNone\u001b[39;00m):\n\u001b[1;32m----> 7\u001b[0m     \u001b[38;5;28;01mwith\u001b[39;00m \u001b[38;5;28;43mself\u001b[39;49m\u001b[38;5;241;43m.\u001b[39;49m\u001b[43mconnection\u001b[49m\u001b[38;5;241;43m.\u001b[39;49m\u001b[43mcursor\u001b[49m\u001b[43m(\u001b[49m\u001b[43m)\u001b[49m \u001b[38;5;28;01mas\u001b[39;00m cursor:\n\u001b[0;32m      8\u001b[0m         \u001b[38;5;28mprint\u001b[39m(\u001b[38;5;124m'\u001b[39m\u001b[38;5;124mExecutando query:\u001b[39m\u001b[38;5;124m'\u001b[39m)\n\u001b[0;32m      9\u001b[0m         cursor\u001b[38;5;241m.\u001b[39mexecute(query, args)\n",
      "File \u001b[1;32m~\\AppData\\Local\\Programs\\Python\\Python311\\Lib\\site-packages\\mysql\\connector\\connection_cext.py:700\u001b[0m, in \u001b[0;36mCMySQLConnection.cursor\u001b[1;34m(self, buffered, raw, prepared, cursor_class, dictionary, named_tuple)\u001b[0m\n\u001b[0;32m    698\u001b[0m \u001b[38;5;28mself\u001b[39m\u001b[38;5;241m.\u001b[39mhandle_unread_result(prepared)\n\u001b[0;32m    699\u001b[0m \u001b[38;5;28;01mif\u001b[39;00m \u001b[38;5;129;01mnot\u001b[39;00m \u001b[38;5;28mself\u001b[39m\u001b[38;5;241m.\u001b[39mis_connected():\n\u001b[1;32m--> 700\u001b[0m     \u001b[38;5;28;01mraise\u001b[39;00m OperationalError(\u001b[38;5;124m\"\u001b[39m\u001b[38;5;124mMySQL Connection not available.\u001b[39m\u001b[38;5;124m\"\u001b[39m)\n\u001b[0;32m    701\u001b[0m \u001b[38;5;28;01mif\u001b[39;00m cursor_class \u001b[38;5;129;01mis\u001b[39;00m \u001b[38;5;129;01mnot\u001b[39;00m \u001b[38;5;28;01mNone\u001b[39;00m:\n\u001b[0;32m    702\u001b[0m     \u001b[38;5;28;01mif\u001b[39;00m \u001b[38;5;129;01mnot\u001b[39;00m \u001b[38;5;28missubclass\u001b[39m(cursor_class, CMySQLCursor):\n",
      "\u001b[1;31mOperationalError\u001b[0m: MySQL Connection not available."
     ]
    }
   ],
   "source": [
    "prev_cmd = \"\"\"\n",
    "INSERT INTO vendinha.uf\n",
    "    (uf, descricao, regiao)\n",
    "VALUES\n",
    "    ('SP', 'São Paulo', 'SE'),\n",
    "    ('MG', 'Minas Gerais', 'SE'),\n",
    "    ('PR', 'Paraná', 'S'),\n",
    "    ('AM', 'Amazonas', 'N'),\n",
    "    ('BA', 'Bahia', 'NE');\n",
    "\n",
    "INSERT INTO vendinha.cidade\n",
    "    (id, descricao, uf)\n",
    "VALUES\n",
    "    (20, 'São Paulo', 'SP'),\n",
    "    (21, 'Campinas', 'SP');\n",
    "    (22, 'Salvador', 'BA');\n",
    "    (23, 'Manaus', 'AM');\n",
    "    (24, 'Belo Horizonte', 'MG');\n",
    "    (25, 'São Roque de Minas', 'MG');\n",
    "\n",
    "INSERT INTO vendinha.vendedor\n",
    "    (id, nome, data_nasc, data_cad, ativo)\n",
    "VALUES\n",
    "    (100, 'Maria Roque', '1988-01-01', '2023-06-11', 1),\n",
    "    (101, 'Ana Benedita', '1970-12-09', '2023-07-15', 1),\n",
    "    (102, 'Silvio Jardim', '1988-12-25', '2023-08-01', 1),\n",
    "    (103, 'Bruna Fontana', '1981-07-05', '2023-09-01', 1),\n",
    "    (104, 'Tulio Maravilha', '1978-09-22', '2023-08-07', 1),\n",
    "    (105, 'Gino Pereira', '1964-04-03', '2023-08-25', 0),\n",
    "    (106, 'Camila Oliveira', '1992-08-05', '2023-09-01', 1),\n",
    "    (107, 'Mariana Souza', '1985-08-29', '2023-09-01', 1);\n",
    "\"\"\"\n",
    "db_atv(prev_cmd)"
   ]
  },
  {
   "cell_type": "code",
   "execution_count": 95,
   "metadata": {},
   "outputs": [
    {
     "ename": "OperationalError",
     "evalue": "MySQL Connection not available.",
     "output_type": "error",
     "traceback": [
      "\u001b[1;31m---------------------------------------------------------------------------\u001b[0m",
      "\u001b[1;31mOperationalError\u001b[0m                          Traceback (most recent call last)",
      "Cell \u001b[1;32mIn[95], line 2\u001b[0m\n\u001b[0;32m      1\u001b[0m \u001b[38;5;66;03m# Deixa eu ver como está\u001b[39;00m\n\u001b[1;32m----> 2\u001b[0m \u001b[43mdb_atv\u001b[49m\u001b[43m(\u001b[49m\u001b[38;5;124;43m\"\u001b[39;49m\u001b[38;5;124;43mSELECT * FROM vendedor_vende_cidade\u001b[39;49m\u001b[38;5;124;43m\"\u001b[39;49m\u001b[43m)\u001b[49m\n",
      "Cell \u001b[1;32mIn[22], line 7\u001b[0m, in \u001b[0;36mConnectionHelper.__call__\u001b[1;34m(self, query, args)\u001b[0m\n\u001b[0;32m      6\u001b[0m \u001b[38;5;28;01mdef\u001b[39;00m \u001b[38;5;21m__call__\u001b[39m(\u001b[38;5;28mself\u001b[39m, query, args\u001b[38;5;241m=\u001b[39m\u001b[38;5;28;01mNone\u001b[39;00m):\n\u001b[1;32m----> 7\u001b[0m     \u001b[38;5;28;01mwith\u001b[39;00m \u001b[38;5;28;43mself\u001b[39;49m\u001b[38;5;241;43m.\u001b[39;49m\u001b[43mconnection\u001b[49m\u001b[38;5;241;43m.\u001b[39;49m\u001b[43mcursor\u001b[49m\u001b[43m(\u001b[49m\u001b[43m)\u001b[49m \u001b[38;5;28;01mas\u001b[39;00m cursor:\n\u001b[0;32m      8\u001b[0m         \u001b[38;5;28mprint\u001b[39m(\u001b[38;5;124m'\u001b[39m\u001b[38;5;124mExecutando query:\u001b[39m\u001b[38;5;124m'\u001b[39m)\n\u001b[0;32m      9\u001b[0m         cursor\u001b[38;5;241m.\u001b[39mexecute(query, args)\n",
      "File \u001b[1;32m~\\AppData\\Local\\Programs\\Python\\Python311\\Lib\\site-packages\\mysql\\connector\\connection_cext.py:700\u001b[0m, in \u001b[0;36mCMySQLConnection.cursor\u001b[1;34m(self, buffered, raw, prepared, cursor_class, dictionary, named_tuple)\u001b[0m\n\u001b[0;32m    698\u001b[0m \u001b[38;5;28mself\u001b[39m\u001b[38;5;241m.\u001b[39mhandle_unread_result(prepared)\n\u001b[0;32m    699\u001b[0m \u001b[38;5;28;01mif\u001b[39;00m \u001b[38;5;129;01mnot\u001b[39;00m \u001b[38;5;28mself\u001b[39m\u001b[38;5;241m.\u001b[39mis_connected():\n\u001b[1;32m--> 700\u001b[0m     \u001b[38;5;28;01mraise\u001b[39;00m OperationalError(\u001b[38;5;124m\"\u001b[39m\u001b[38;5;124mMySQL Connection not available.\u001b[39m\u001b[38;5;124m\"\u001b[39m)\n\u001b[0;32m    701\u001b[0m \u001b[38;5;28;01mif\u001b[39;00m cursor_class \u001b[38;5;129;01mis\u001b[39;00m \u001b[38;5;129;01mnot\u001b[39;00m \u001b[38;5;28;01mNone\u001b[39;00m:\n\u001b[0;32m    702\u001b[0m     \u001b[38;5;28;01mif\u001b[39;00m \u001b[38;5;129;01mnot\u001b[39;00m \u001b[38;5;28missubclass\u001b[39m(cursor_class, CMySQLCursor):\n",
      "\u001b[1;31mOperationalError\u001b[0m: MySQL Connection not available."
     ]
    }
   ],
   "source": [
    "# Deixa eu ver como está\n",
    "db_atv(\"SELECT * FROM vendedor_vende_cidade\")"
   ]
  },
  {
   "cell_type": "code",
   "execution_count": 97,
   "metadata": {},
   "outputs": [
    {
     "ename": "OperationalError",
     "evalue": "MySQL Connection not available.",
     "output_type": "error",
     "traceback": [
      "\u001b[1;31m---------------------------------------------------------------------------\u001b[0m",
      "\u001b[1;31mOperationalError\u001b[0m                          Traceback (most recent call last)",
      "Cell \u001b[1;32mIn[97], line 9\u001b[0m\n\u001b[0;32m      1\u001b[0m \u001b[38;5;66;03m# Agora deixa eu responder a questão\u001b[39;00m\n\u001b[0;32m      2\u001b[0m sql_ex06 \u001b[38;5;241m=\u001b[39m \u001b[38;5;124m\"\"\"\u001b[39m\n\u001b[0;32m      3\u001b[0m \u001b[38;5;124mINSERT INTO vendinha.vendedor_ativo_dia (id_vendedor, ativo, data_registro)\u001b[39m\n\u001b[0;32m      4\u001b[0m \u001b[38;5;124mSELECT id, ativo, CURDATE()\u001b[39m\n\u001b[0;32m      5\u001b[0m \u001b[38;5;124mFROM vendedor\u001b[39m\n\u001b[0;32m      6\u001b[0m \u001b[38;5;124mWHERE ativo = 1;\u001b[39m\n\u001b[0;32m      7\u001b[0m \u001b[38;5;124m\"\"\"\u001b[39m\n\u001b[1;32m----> 9\u001b[0m \u001b[43mdb_atv\u001b[49m\u001b[43m(\u001b[49m\u001b[43msql_ex06\u001b[49m\u001b[43m)\u001b[49m\n",
      "Cell \u001b[1;32mIn[22], line 7\u001b[0m, in \u001b[0;36mConnectionHelper.__call__\u001b[1;34m(self, query, args)\u001b[0m\n\u001b[0;32m      6\u001b[0m \u001b[38;5;28;01mdef\u001b[39;00m \u001b[38;5;21m__call__\u001b[39m(\u001b[38;5;28mself\u001b[39m, query, args\u001b[38;5;241m=\u001b[39m\u001b[38;5;28;01mNone\u001b[39;00m):\n\u001b[1;32m----> 7\u001b[0m     \u001b[38;5;28;01mwith\u001b[39;00m \u001b[38;5;28;43mself\u001b[39;49m\u001b[38;5;241;43m.\u001b[39;49m\u001b[43mconnection\u001b[49m\u001b[38;5;241;43m.\u001b[39;49m\u001b[43mcursor\u001b[49m\u001b[43m(\u001b[49m\u001b[43m)\u001b[49m \u001b[38;5;28;01mas\u001b[39;00m cursor:\n\u001b[0;32m      8\u001b[0m         \u001b[38;5;28mprint\u001b[39m(\u001b[38;5;124m'\u001b[39m\u001b[38;5;124mExecutando query:\u001b[39m\u001b[38;5;124m'\u001b[39m)\n\u001b[0;32m      9\u001b[0m         cursor\u001b[38;5;241m.\u001b[39mexecute(query, args)\n",
      "File \u001b[1;32m~\\AppData\\Local\\Programs\\Python\\Python311\\Lib\\site-packages\\mysql\\connector\\connection_cext.py:700\u001b[0m, in \u001b[0;36mCMySQLConnection.cursor\u001b[1;34m(self, buffered, raw, prepared, cursor_class, dictionary, named_tuple)\u001b[0m\n\u001b[0;32m    698\u001b[0m \u001b[38;5;28mself\u001b[39m\u001b[38;5;241m.\u001b[39mhandle_unread_result(prepared)\n\u001b[0;32m    699\u001b[0m \u001b[38;5;28;01mif\u001b[39;00m \u001b[38;5;129;01mnot\u001b[39;00m \u001b[38;5;28mself\u001b[39m\u001b[38;5;241m.\u001b[39mis_connected():\n\u001b[1;32m--> 700\u001b[0m     \u001b[38;5;28;01mraise\u001b[39;00m OperationalError(\u001b[38;5;124m\"\u001b[39m\u001b[38;5;124mMySQL Connection not available.\u001b[39m\u001b[38;5;124m\"\u001b[39m)\n\u001b[0;32m    701\u001b[0m \u001b[38;5;28;01mif\u001b[39;00m cursor_class \u001b[38;5;129;01mis\u001b[39;00m \u001b[38;5;129;01mnot\u001b[39;00m \u001b[38;5;28;01mNone\u001b[39;00m:\n\u001b[0;32m    702\u001b[0m     \u001b[38;5;28;01mif\u001b[39;00m \u001b[38;5;129;01mnot\u001b[39;00m \u001b[38;5;28missubclass\u001b[39m(cursor_class, CMySQLCursor):\n",
      "\u001b[1;31mOperationalError\u001b[0m: MySQL Connection not available."
     ]
    }
   ],
   "source": [
    "# Agora deixa eu responder a questão\n",
    "sql_ex06 = \"\"\"\n",
    "INSERT INTO vendinha.vendedor_ativo_dia (id_vendedor, ativo, data_registro)\n",
    "SELECT id, ativo, CURDATE()\n",
    "FROM vendedor\n",
    "WHERE ativo = 1;\n",
    "\"\"\"\n",
    "\n",
    "db_atv(sql_ex06)"
   ]
  },
  {
   "cell_type": "code",
   "execution_count": 98,
   "metadata": {
    "scrolled": true
   },
   "outputs": [
    {
     "ename": "OperationalError",
     "evalue": "MySQL Connection not available.",
     "output_type": "error",
     "traceback": [
      "\u001b[1;31m---------------------------------------------------------------------------\u001b[0m",
      "\u001b[1;31mOperationalError\u001b[0m                          Traceback (most recent call last)",
      "Cell \u001b[1;32mIn[98], line 2\u001b[0m\n\u001b[0;32m      1\u001b[0m \u001b[38;5;66;03m# Deixa eu ver o RESULTADO!\u001b[39;00m\n\u001b[1;32m----> 2\u001b[0m \u001b[43mdb_atv\u001b[49m\u001b[43m(\u001b[49m\u001b[38;5;124;43m\"\u001b[39;49m\u001b[38;5;124;43mSELECT * FROM vendedor_ativo_dia\u001b[39;49m\u001b[38;5;124;43m\"\u001b[39;49m\u001b[43m)\u001b[49m\n",
      "Cell \u001b[1;32mIn[22], line 7\u001b[0m, in \u001b[0;36mConnectionHelper.__call__\u001b[1;34m(self, query, args)\u001b[0m\n\u001b[0;32m      6\u001b[0m \u001b[38;5;28;01mdef\u001b[39;00m \u001b[38;5;21m__call__\u001b[39m(\u001b[38;5;28mself\u001b[39m, query, args\u001b[38;5;241m=\u001b[39m\u001b[38;5;28;01mNone\u001b[39;00m):\n\u001b[1;32m----> 7\u001b[0m     \u001b[38;5;28;01mwith\u001b[39;00m \u001b[38;5;28;43mself\u001b[39;49m\u001b[38;5;241;43m.\u001b[39;49m\u001b[43mconnection\u001b[49m\u001b[38;5;241;43m.\u001b[39;49m\u001b[43mcursor\u001b[49m\u001b[43m(\u001b[49m\u001b[43m)\u001b[49m \u001b[38;5;28;01mas\u001b[39;00m cursor:\n\u001b[0;32m      8\u001b[0m         \u001b[38;5;28mprint\u001b[39m(\u001b[38;5;124m'\u001b[39m\u001b[38;5;124mExecutando query:\u001b[39m\u001b[38;5;124m'\u001b[39m)\n\u001b[0;32m      9\u001b[0m         cursor\u001b[38;5;241m.\u001b[39mexecute(query, args)\n",
      "File \u001b[1;32m~\\AppData\\Local\\Programs\\Python\\Python311\\Lib\\site-packages\\mysql\\connector\\connection_cext.py:700\u001b[0m, in \u001b[0;36mCMySQLConnection.cursor\u001b[1;34m(self, buffered, raw, prepared, cursor_class, dictionary, named_tuple)\u001b[0m\n\u001b[0;32m    698\u001b[0m \u001b[38;5;28mself\u001b[39m\u001b[38;5;241m.\u001b[39mhandle_unread_result(prepared)\n\u001b[0;32m    699\u001b[0m \u001b[38;5;28;01mif\u001b[39;00m \u001b[38;5;129;01mnot\u001b[39;00m \u001b[38;5;28mself\u001b[39m\u001b[38;5;241m.\u001b[39mis_connected():\n\u001b[1;32m--> 700\u001b[0m     \u001b[38;5;28;01mraise\u001b[39;00m OperationalError(\u001b[38;5;124m\"\u001b[39m\u001b[38;5;124mMySQL Connection not available.\u001b[39m\u001b[38;5;124m\"\u001b[39m)\n\u001b[0;32m    701\u001b[0m \u001b[38;5;28;01mif\u001b[39;00m cursor_class \u001b[38;5;129;01mis\u001b[39;00m \u001b[38;5;129;01mnot\u001b[39;00m \u001b[38;5;28;01mNone\u001b[39;00m:\n\u001b[0;32m    702\u001b[0m     \u001b[38;5;28;01mif\u001b[39;00m \u001b[38;5;129;01mnot\u001b[39;00m \u001b[38;5;28missubclass\u001b[39m(cursor_class, CMySQLCursor):\n",
      "\u001b[1;31mOperationalError\u001b[0m: MySQL Connection not available."
     ]
    }
   ],
   "source": [
    "# Deixa eu ver o RESULTADO!\n",
    "db_atv(\"SELECT * FROM vendedor_ativo_dia\")"
   ]
  },
  {
   "cell_type": "code",
   "execution_count": 99,
   "metadata": {},
   "outputs": [
    {
     "data": {
      "application/vnd.jupyter.widget-view+json": {
       "model_id": "8d313de64c2b4884aca65664cf824b5c",
       "version_major": 2,
       "version_minor": 0
      },
      "text/plain": [
       "interactive(children=(Button(description='Enviar ex06', style=ButtonStyle()), Output()), _dom_classes=('widget…"
      ]
     },
     "execution_count": 99,
     "metadata": {},
     "output_type": "execute_result"
    }
   ],
   "source": [
    "ia.sender(answer='sql_ex06', task='dml', question='ex06', answer_type='pyvar')"
   ]
  },
  {
   "cell_type": "markdown",
   "metadata": {},
   "source": [
    "### Conferir Notas\n",
    "\n",
    "Confira se as notas na atividade são as esperadas!\n",
    "\n",
    "Primeiro na atividade atual!"
   ]
  },
  {
   "cell_type": "code",
   "execution_count": 100,
   "metadata": {
    "scrolled": true
   },
   "outputs": [
    {
     "data": {
      "text/markdown": [
       "|    | Tarefa   |   Nota |\n",
       "|---:|:---------|-------:|\n",
       "|  0 | dml      |     10 |"
      ],
      "text/plain": [
       "<IPython.core.display.Markdown object>"
      ]
     },
     "metadata": {},
     "output_type": "display_data"
    }
   ],
   "source": [
    "ia.grades(by=\"task\", task=\"dml\")"
   ]
  },
  {
   "cell_type": "code",
   "execution_count": 101,
   "metadata": {},
   "outputs": [
    {
     "data": {
      "text/markdown": [
       "|    | Atividade   | Exercício   |   Peso |   Nota |\n",
       "|---:|:------------|:------------|-------:|-------:|\n",
       "|  0 | dml         | ex01        |      1 |     10 |\n",
       "|  1 | dml         | ex02        |      1 |     10 |\n",
       "|  2 | dml         | ex03        |      1 |     10 |\n",
       "|  3 | dml         | ex04        |      1 |     10 |\n",
       "|  4 | dml         | ex05        |      1 |     10 |\n",
       "|  5 | dml         | ex06        |      1 |     10 |"
      ],
      "text/plain": [
       "<IPython.core.display.Markdown object>"
      ]
     },
     "metadata": {},
     "output_type": "display_data"
    }
   ],
   "source": [
    "ia.grades(task=\"dml\")"
   ]
  },
  {
   "cell_type": "markdown",
   "metadata": {},
   "source": [
    "E agora em todas as demais!"
   ]
  },
  {
   "cell_type": "code",
   "execution_count": 8,
   "metadata": {},
   "outputs": [
    {
     "data": {
      "text/markdown": [
       "|    | Tarefa   |     Nota |\n",
       "|---:|:---------|---------:|\n",
       "|  0 | ddl      |  6.66667 |\n",
       "|  1 | dml      | 10       |\n",
       "|  2 | newborn  | 10       |\n",
       "|  3 | select01 | 10       |"
      ],
      "text/plain": [
       "<IPython.core.display.Markdown object>"
      ]
     },
     "metadata": {},
     "output_type": "display_data"
    }
   ],
   "source": [
    "ia.grades(by=\"task\")"
   ]
  },
  {
   "cell_type": "code",
   "execution_count": 9,
   "metadata": {},
   "outputs": [
    {
     "data": {
      "text/markdown": [
       "|    | Atividade   | Exercício   |   Peso |   Nota |\n",
       "|---:|:------------|:------------|-------:|-------:|\n",
       "|  0 | ddl         | ex02        |      1 |     10 |\n",
       "|  1 | ddl         | ex03        |      1 |     10 |\n",
       "|  2 | ddl         | ex04        |      1 |     10 |\n",
       "|  3 | ddl         | ex05        |      1 |     10 |\n",
       "|  4 | ddl         | ex06        |      1 |     10 |\n",
       "|  5 | ddl         | ex07        |      1 |     10 |\n",
       "|  6 | ddl         | ex09        |      1 |      0 |\n",
       "|  7 | ddl         | ex10        |      1 |      0 |\n",
       "|  8 | ddl         | ex11        |      1 |      0 |\n",
       "|  9 | dml         | ex01        |      1 |     10 |\n",
       "| 10 | dml         | ex02        |      1 |     10 |\n",
       "| 11 | dml         | ex03        |      1 |     10 |\n",
       "| 12 | dml         | ex04        |      1 |     10 |\n",
       "| 13 | dml         | ex05        |      1 |     10 |\n",
       "| 14 | dml         | ex06        |      1 |     10 |\n",
       "| 15 | newborn     | ex01        |      1 |     10 |\n",
       "| 16 | select01    | ex01        |      1 |     10 |\n",
       "| 17 | select01    | ex02        |      1 |     10 |\n",
       "| 18 | select01    | ex03        |      1 |     10 |\n",
       "| 19 | select01    | ex04        |      1 |     10 |\n",
       "| 20 | select01    | ex05        |      1 |     10 |"
      ],
      "text/plain": [
       "<IPython.core.display.Markdown object>"
      ]
     },
     "metadata": {},
     "output_type": "display_data"
    }
   ],
   "source": [
    "ia.grades()"
   ]
  },
  {
   "cell_type": "code",
   "execution_count": null,
   "metadata": {},
   "outputs": [],
   "source": []
  }
 ],
 "metadata": {
  "kernelspec": {
   "display_name": "Python 3 (ipykernel)",
   "language": "python",
   "name": "python3"
  },
  "language_info": {
   "codemirror_mode": {
    "name": "ipython",
    "version": 3
   },
   "file_extension": ".py",
   "mimetype": "text/x-python",
   "name": "python",
   "nbconvert_exporter": "python",
   "pygments_lexer": "ipython3",
   "version": "3.11.0"
  }
 },
 "nbformat": 4,
 "nbformat_minor": 4
}
