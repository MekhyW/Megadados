{
 "cells": [
  {
   "cell_type": "markdown",
   "id": "f62ded59",
   "metadata": {},
   "source": [
    "# ÍNDICES e PARTICIONAMENTO"
   ]
  },
  {
   "cell_type": "markdown",
   "id": "8a630554",
   "metadata": {},
   "source": [
    "Na aula anterior estudamos os conceitos de **dependências funcionais** e **normalização**. O conhecimento das formas normais propicia verificar a possibilidade de realizar alterações no design das bases de dados, com o objetivo de **evitar repetições** e **recuperar informações de forma fácil**.\n",
    "\n",
    "Entretanto, mesmo obedecendo (ou não) às formas normais, em certas situações a performance de nossas queries em produção se torna sofrível. Nesta aula, veremos alguns recursos que podemos utilizar para melhorar o desempenho das consultas produzidas.\n",
    "\n",
    "Este é um tema bastante relevante. Um engenheiro sem o devido conhecimento pode recomendar, por exemplo, a compra de mais servidores (físicos ou na AWS), quando a aplicação dos conceitos vistos nesta aula poderiam gerar ganhos de múltiplas vezes no tempo de execução de queries!\n",
    "\n",
    "## Instalação da base\n",
    "\n",
    "Vamos utilizar a base de dados sintética disponível no Blackboard. Execute o script `script_elet_001.sql` para criar a base de dados. Este script apenas faz a **DDL**, os dados gerão gerados de forma aleatória neste notebook.\n",
    "\n",
    "## Import das bibliotecas\n",
    "\n",
    "Vamos realizar o import das bibliotecas."
   ]
  },
  {
   "cell_type": "code",
   "execution_count": null,
   "id": "b2f1597a",
   "metadata": {},
   "outputs": [],
   "source": [
    "import mysql.connector\n",
    "import os\n",
    "import random\n",
    "from functools import partial\n",
    "from datetime import datetime, timedelta\n",
    "from dotenv import load_dotenv"
   ]
  },
  {
   "cell_type": "markdown",
   "id": "33eefa0d",
   "metadata": {},
   "source": [
    "E vamos criar nosso HELPER de conexão com o banco! Perceba que, uma vez configurado o `.env` não precisaremos mais informar usuários, senhas e URLs!"
   ]
  },
  {
   "cell_type": "code",
   "execution_count": null,
   "id": "f5147533",
   "metadata": {},
   "outputs": [],
   "source": [
    "load_dotenv(override=True)\n",
    "\n",
    "def get_connection_helper():\n",
    "\n",
    "    def run_db_query(connection, query, args=None, verbose=True):\n",
    "        with connection.cursor() as cursor:\n",
    "            if verbose:\n",
    "                print('Executando query:')\n",
    "            cursor.execute(query, args)\n",
    "            for result in cursor:\n",
    "                if verbose:\n",
    "                    print(result)\n",
    "\n",
    "    connection = mysql.connector.connect(\n",
    "        host=os.getenv('MD_DB_SERVER'),\n",
    "        user=os.getenv('MD_DB_USERNAME'),\n",
    "        password=os.getenv('MD_DB_PASSWORD'),\n",
    "        database='eletrobeer',\n",
    "    )\n",
    "    return connection, partial(run_db_query, connection)\n",
    "\n",
    "\n",
    "connection, db = get_connection_helper()"
   ]
  },
  {
   "cell_type": "markdown",
   "id": "8f4f8451",
   "metadata": {},
   "source": [
    "## Gerar dados para a base\n",
    "\n",
    "Vamos gerar alguns valores aleatórios e inserir na base de dados `eletrobeer`.\n",
    "\n",
    "Primeiro, defina a quantidade de linhas a serem inseridas:"
   ]
  },
  {
   "cell_type": "code",
   "execution_count": null,
   "id": "1f8e9393",
   "metadata": {},
   "outputs": [],
   "source": [
    "qtde_ped = 2000000"
   ]
  },
  {
   "cell_type": "markdown",
   "id": "d5df59f5",
   "metadata": {},
   "source": [
    "Vamos definir algumas funções auxiliares"
   ]
  },
  {
   "cell_type": "code",
   "execution_count": null,
   "id": "5e03e6cd",
   "metadata": {},
   "outputs": [],
   "source": [
    "def get_random_date():\n",
    "    start_date = datetime(2015, 1, 1)\n",
    "    end_date = datetime(2022, 12, 31)\n",
    "\n",
    "    delta = end_date - start_date\n",
    "    random_date = start_date + timedelta(days=random.randint(0, delta.days))\n",
    "\n",
    "    return  random_date.strftime('%Y-%m-%d')\n",
    "\n",
    "def get_cidade_uf():\n",
    "    cidades = [\n",
    "        ['São Paulo', 'SP'],\n",
    "        ['Campinas', 'SP'],\n",
    "        ['Ribeirão Preto', 'SP'],\n",
    "        ['São Roque', 'SP'],\n",
    "        ['Rio de Janeiro', 'RJ'],\n",
    "        ['Macaé', 'RJ'],\n",
    "        ['Angra dos Reis', 'RJ'],\n",
    "    ]\n",
    "\n",
    "    cidade, uf = random.choice(cidades)\n",
    "    return cidade, uf"
   ]
  },
  {
   "cell_type": "markdown",
   "id": "3d1f7aa7",
   "metadata": {},
   "source": [
    "Garantir que a tabela `pedido` está vazia"
   ]
  },
  {
   "cell_type": "code",
   "execution_count": null,
   "id": "65615a1d",
   "metadata": {},
   "outputs": [],
   "source": [
    "db('DELETE FROM eletrobeer.pedido')"
   ]
  },
  {
   "cell_type": "markdown",
   "id": "fa327c6d",
   "metadata": {},
   "source": [
    "Então, geramos os dados aleatórios.\n",
    "\n",
    "**<span style=\"color:red\">Atenção</span>**: Este processo pode demorar alguns minutos! A cada aproximadamente 5 segundos, 50 mil inserções devem ser realizadas, com o retorno da mensagem `Completed 50000`, `Completed 100000` e assim por diante!"
   ]
  },
  {
   "cell_type": "code",
   "execution_count": null,
   "id": "0bb4570f",
   "metadata": {},
   "outputs": [],
   "source": [
    "for id_pedido in range(1, qtde_ped+1):\n",
    "\n",
    "    id_cliente = random.randint(1000, 10000)\n",
    "    qtde_itens = random.randint(1, 200)\n",
    "    data_criacao = get_random_date()\n",
    "    valor_total = random.uniform(15.0, 300000)\n",
    "\n",
    "    cidade, uf = get_cidade_uf()\n",
    "\n",
    "    sql = f\"\"\"INSERT INTO eletrobeer.pedido\n",
    "    (id_pedido, id_cliente, data_criacao, qtde_itens, valor_total, cidade_entrega, uf_entrega)\n",
    "    VALUES({id_pedido}, {id_cliente}, '{data_criacao}', {qtde_itens}, {valor_total:.2f}, '{cidade}', '{uf}');\\n\"\"\"\n",
    "\n",
    "    if id_pedido % 50000 == 0:\n",
    "        print(f'Completed {id_pedido}')\n",
    "    db(sql, verbose=False)"
   ]
  },
  {
   "cell_type": "markdown",
   "id": "7df92101",
   "metadata": {},
   "source": [
    "E vamos fazer `commit` para garantir que os dados foram salvos!"
   ]
  },
  {
   "cell_type": "code",
   "execution_count": null,
   "id": "b276666e",
   "metadata": {},
   "outputs": [],
   "source": [
    "connection.commit()"
   ]
  },
  {
   "cell_type": "markdown",
   "id": "4399684e",
   "metadata": {},
   "source": [
    "## Consultando a base\n",
    "\n",
    "Vamos fazer algumas consultas. Como nosso objetivo é avaliar a performance das queries, precisamos analisar o tempo que cada query necessita para executar.\n",
    "\n",
    "Uma opção é fazer o cálculo direto no Python:"
   ]
  },
  {
   "cell_type": "code",
   "execution_count": null,
   "id": "d2d60e58",
   "metadata": {},
   "outputs": [],
   "source": [
    "import time\n",
    "\n",
    "start_time = time.time() # get current time\n",
    "\n",
    "db('select count(*) from pedido')\n",
    "\n",
    "end_time = time.time() # get current time again\n",
    "\n",
    "time_spent = end_time - start_time # calculate time spent\n",
    "\n",
    "print(\"Time spent:\", time_spent, \"seconds\")"
   ]
  },
  {
   "cell_type": "markdown",
   "id": "b41ea517",
   "metadata": {},
   "source": [
    "Entretanto, desta forma estamos considerando o tempo total, incluindo o tempo gasto pelas funções do próprio Python. Talvez não seja um tempo significativo, mas como poderia ser, melhor evitar e considerar o tempo isolado: apenas o que foi gasto de fato para a query executar (após ter sido recebida pelo RDBMS MySQL)."
   ]
  },
  {
   "cell_type": "markdown",
   "id": "5783f3e6",
   "metadata": {},
   "source": [
    "Para isto, vamos ativar **profiling**:"
   ]
  },
  {
   "cell_type": "code",
   "execution_count": null,
   "id": "7367d680",
   "metadata": {},
   "outputs": [],
   "source": [
    "db('SET profiling = 1;', verbose=False)"
   ]
  },
  {
   "cell_type": "markdown",
   "id": "8d329cf2",
   "metadata": {},
   "source": [
    "**Obs**: quando quiser desativar, utilize\n",
    "\n",
    "```mysql\n",
    "SET profiling = 0;\n",
    "```\n",
    "\n",
    "Então podemos executar algum **SQL**"
   ]
  },
  {
   "cell_type": "code",
   "execution_count": null,
   "id": "87796bd6",
   "metadata": {},
   "outputs": [],
   "source": [
    "db('select count(*) from pedido')"
   ]
  },
  {
   "cell_type": "markdown",
   "id": "c2987a3b",
   "metadata": {},
   "source": [
    "E ver, no segundo elemento de cada tupla, qual o tempo gasto para a query ser executada."
   ]
  },
  {
   "cell_type": "code",
   "execution_count": null,
   "id": "a8299952",
   "metadata": {},
   "outputs": [],
   "source": [
    "db('SHOW PROFILES;')"
   ]
  },
  {
   "cell_type": "markdown",
   "id": "9c18a74d",
   "metadata": {},
   "source": [
    "Então, podemos executar novas queries e ver o seu tempo consumido:\n",
    "\n",
    "**Dica**: aqui, `verbose=False` executará a query, mas não exibirá o resultado na saída. Podemos fazer assim quando nosso interesse é em apenas ter o tempo da query e não o resultado"
   ]
  },
  {
   "cell_type": "code",
   "execution_count": null,
   "id": "e50ef6a8",
   "metadata": {},
   "outputs": [],
   "source": [
    "sql = 'SELECT COUNT(*) as QTDE_LINHAS FROM pedido'\n",
    "\n",
    "db(sql, verbose=False)\n",
    "db('SHOW PROFILES;')"
   ]
  },
  {
   "cell_type": "markdown",
   "id": "2d92a802",
   "metadata": {},
   "source": [
    "Utilize `SET PROFILING_HISTORY_SIZE = ???;`, trocando `???` pelo **número de queries** que quer ver no resultado dos profiles, para limitar a exibição as últimas **número de queries**."
   ]
  },
  {
   "cell_type": "code",
   "execution_count": null,
   "id": "aeae37a9",
   "metadata": {},
   "outputs": [],
   "source": [
    "db('SET PROFILING_HISTORY_SIZE = 2;', verbose=False)\n",
    "db('SHOW PROFILES;')"
   ]
  },
  {
   "cell_type": "markdown",
   "id": "05e02c33",
   "metadata": {},
   "source": [
    "Vamos deixar configurado para `5`. Você pode alterar quando quiser!"
   ]
  },
  {
   "cell_type": "code",
   "execution_count": null,
   "id": "56b16c24",
   "metadata": {},
   "outputs": [],
   "source": [
    "db('SET PROFILING_HISTORY_SIZE = 5;', verbose=False)\n",
    "db('SHOW PROFILES;')"
   ]
  },
  {
   "cell_type": "markdown",
   "id": "13af4b1a",
   "metadata": {},
   "source": [
    "### Explorando novos exemplos\n",
    "\n",
    "Vamos executar algumas consultas e verificar seus tempos de execução.\n",
    "\n",
    "**Dica**: leia cada query e tente entender o que ela faz!"
   ]
  },
  {
   "cell_type": "code",
   "execution_count": null,
   "id": "f9a9bf51",
   "metadata": {},
   "outputs": [],
   "source": [
    "sql1 = '''SELECT count(*) FROM pedido p\n",
    "WHERE p.cidade_entrega = 'São Paulo';'''\n",
    "\n",
    "sql2 = '''SELECT count(*) FROM pedido p\n",
    "WHERE p.cidade_entrega = 'Rio de Janeiro';'''\n",
    "\n",
    "sql3 = '''SELECT count(*) FROM pedido p\n",
    "WHERE p.cidade_entrega IN ('Rio de Janeiro', 'São Paulo');'''\n",
    "\n",
    "sql4 = '''SELECT count(*) FROM pedido p\n",
    "WHERE p.cidade_entrega LIKE 'São%';'''\n",
    "\n",
    "sql5 = '''SELECT count(*) FROM pedido p\n",
    "WHERE p.cidade_entrega LIKE '%de%';'''\n",
    "\n",
    "db(sql1)\n",
    "db(sql2)\n",
    "db(sql3)\n",
    "db(sql4)\n",
    "db(sql5)\n",
    "\n",
    "db('SHOW PROFILES;')"
   ]
  },
  {
   "cell_type": "markdown",
   "id": "0934d6e5",
   "metadata": {},
   "source": [
    "### MEGADADOS?!\n",
    "\n",
    "Podemos perceber que esta base tem (deveria ter!!!) 2 milhões de linhas."
   ]
  },
  {
   "cell_type": "code",
   "execution_count": null,
   "id": "a0e99ad9",
   "metadata": {},
   "outputs": [],
   "source": [
    "sql = 'SELECT COUNT(*) as QTDE_LINHAS FROM pedido'\n",
    "\n",
    "db(sql)"
   ]
  },
  {
   "cell_type": "markdown",
   "id": "98a07d00",
   "metadata": {},
   "source": [
    "No resultados do `SHOW PROFILES`, vemos que o tempo é quase zero. Mas não se engane, estamos mantendo um ambiente controlado, com apenas uma tabela e realizando queries simples o suficiente para entendermos o que está acontecendo.\n",
    "\n",
    "Em uma situação do mercado profissional, prepare-se para trabalhar com milhões ou bilhões de linhas em dezenas ou centenas de tabelas, construindo queries de centenas e até milhares de linhas que rodam milhares ou milhões de vezes! As situações de dependência entre múltiplas colunas e tabelas gerará muitas situações onde os conceitos da aula poderão ser aplicados.\n",
    "\n",
    "**Dica**: No MySQL Workbench, dê botão direito na tabela / Table Inspector. Abra o explorer e confira o tamanho do arquivo contido no **Data path**! Novamente, em uma situação de mercado, espere gigabytes!"
   ]
  },
  {
   "cell_type": "markdown",
   "id": "76453329",
   "metadata": {},
   "source": [
    "### Índices\n",
    "\n",
    "Índices são estruturas de dados que facilitam a localização de informação no banco de dados.\n",
    "\n",
    "**Obs**: Link para simular `BTREE` https://www.cs.usfca.edu/~galles/visualization/BTree.html"
   ]
  },
  {
   "cell_type": "markdown",
   "id": "818bd2fc",
   "metadata": {},
   "source": [
    "Para criar um índice, vamos utilizar a sintaxe:\n",
    "```mysql\n",
    "CREATE INDEX index_name [index_type] \n",
    " ON tbl_name (index_col_name,...)\n",
    "```\n",
    "\n",
    "Por exemplo:\n",
    "\n",
    "```mysql\n",
    "-- Por padrão, o index será BTREE\n",
    "CREATE INDEX pedido_cidade_entrega_IDX\n",
    " ON eletrobeer.pedido (cidade_entrega);\n",
    "```"
   ]
  },
  {
   "cell_type": "markdown",
   "id": "0d495875",
   "metadata": {},
   "source": [
    "É importante lembrar que nem todos os engines suportam índice **HASH**. A engine padrão da versão que utilizamos (**InnoDB**) não suporta!"
   ]
  },
  {
   "cell_type": "code",
   "execution_count": null,
   "id": "da478f43",
   "metadata": {},
   "outputs": [],
   "source": [
    "db('SHOW ENGINES;')"
   ]
  },
  {
   "cell_type": "markdown",
   "id": "33b06424",
   "metadata": {},
   "source": [
    "Vamos criar um índice na coluna `cidade_entrega` e repetir as queries.\n",
    "\n",
    "Mas antes, vamos consultar se existe algum índice atualmente nesta tabela!"
   ]
  },
  {
   "cell_type": "code",
   "execution_count": null,
   "id": "92519e4e",
   "metadata": {},
   "outputs": [],
   "source": [
    "db('SHOW INDEX FROM pedido;')"
   ]
  },
  {
   "cell_type": "markdown",
   "id": "27a7519d",
   "metadata": {},
   "source": [
    "Perceba que já existe um índice. Por que ele está aí se ainda não criamos nenhum?!"
   ]
  },
  {
   "cell_type": "markdown",
   "id": "9a690305",
   "metadata": {},
   "source": [
    "<div class=\"alert alert-success\">\n",
    "\n",
    "Sua resposta AQUI!\n",
    "\n",
    "</div>"
   ]
  },
  {
   "cell_type": "markdown",
   "id": "daad3c35",
   "metadata": {},
   "source": [
    "<a href=\"#\" title=\"O índice foi criado para a coluna que é chave primária! Isto é feito por padrão, uma vez que a chave acaba sendo utilizada em diversas consultas e joins.\">Pare o  mouse aqui para ver a resposta</a>"
   ]
  },
  {
   "cell_type": "markdown",
   "id": "bba3c536",
   "metadata": {},
   "source": [
    "Então criamos o índice"
   ]
  },
  {
   "cell_type": "code",
   "execution_count": null,
   "id": "e3f610a1",
   "metadata": {},
   "outputs": [],
   "source": [
    "db('CREATE INDEX pedido_cidade_entrega_IDX ON eletrobeer.pedido (cidade_entrega);')"
   ]
  },
  {
   "cell_type": "markdown",
   "id": "c0b546c7",
   "metadata": {},
   "source": [
    "E conferimos novamente os índices existentes"
   ]
  },
  {
   "cell_type": "code",
   "execution_count": null,
   "id": "f96998fb",
   "metadata": {},
   "outputs": [],
   "source": [
    "db('SHOW INDEX FROM pedido;')"
   ]
  },
  {
   "cell_type": "markdown",
   "id": "dc7b5d57",
   "metadata": {},
   "source": [
    "Caso queira ver o título das coluas, execute o `SHOW INDEX FROM pedido;` direto no MySQL WorkBench!\n",
    "\n",
    "Agora repetimos as queries. Compare o tempo necessários para suas execuções."
   ]
  },
  {
   "cell_type": "code",
   "execution_count": null,
   "id": "554b23bd",
   "metadata": {},
   "outputs": [],
   "source": [
    "sql1 = '''SELECT count(*) FROM pedido p\n",
    "WHERE p.cidade_entrega = 'São Paulo';'''\n",
    "\n",
    "sql2 = '''SELECT count(*) FROM pedido p\n",
    "WHERE p.cidade_entrega = 'Rio de Janeiro';'''\n",
    "\n",
    "sql3 = '''SELECT count(*) FROM pedido p\n",
    "WHERE p.cidade_entrega IN ('Rio de Janeiro', 'São Paulo');'''\n",
    "\n",
    "sql4 = '''SELECT count(*) FROM pedido p\n",
    "WHERE p.cidade_entrega LIKE 'São%';'''\n",
    "\n",
    "sql5 = '''SELECT count(*) FROM pedido p\n",
    "WHERE p.cidade_entrega LIKE '%de%';'''\n",
    "\n",
    "db(sql1)\n",
    "db(sql2)\n",
    "db(sql3)\n",
    "db(sql4)\n",
    "db(sql5)\n",
    "\n",
    "db('SHOW PROFILES;')"
   ]
  },
  {
   "cell_type": "markdown",
   "id": "c4c7b946",
   "metadata": {},
   "source": [
    "Compare o tempo **antes** *versus* **depois** da criação do índice. Apesar de não estamos analisando uma amostra de tamanho 1 (CDados manda oi!), é esperado que obtenha uma melhora de múltiplas vezes em algumas queries, mas em outras nem tanto. Você consegue explicar o por que?!\n",
    "\n",
    "**Dica**: https://dev.mysql.com/doc/refman/8.0/en/index-btree-hash.html#btree-index-characteristics"
   ]
  },
  {
   "cell_type": "markdown",
   "id": "10d0c736",
   "metadata": {},
   "source": [
    "<div class=\"alert alert-success\">\n",
    "\n",
    "Sua resposta AQUI!\n",
    "\n",
    "</div>"
   ]
  },
  {
   "cell_type": "markdown",
   "id": "b04db159",
   "metadata": {},
   "source": [
    "#### Testando com outros campos e queries!\n",
    "\n",
    "Vamos testar com com outros campos e queries!"
   ]
  },
  {
   "cell_type": "code",
   "execution_count": null,
   "id": "1f7f99ec",
   "metadata": {},
   "outputs": [],
   "source": [
    "db('SET PROFILING_HISTORY_SIZE = 4;', verbose=False)"
   ]
  },
  {
   "cell_type": "code",
   "execution_count": null,
   "id": "f157a8bf",
   "metadata": {},
   "outputs": [],
   "source": [
    "sql1 = '''SELECT count(*) FROM pedido p\n",
    "WHERE p.qtde_itens = 8;'''\n",
    "\n",
    "sql2 = '''SELECT count(*) FROM pedido p\n",
    "WHERE p.qtde_itens < 5;'''\n",
    "\n",
    "sql3 = '''SELECT count(*) FROM pedido p\n",
    "WHERE p.qtde_itens BETWEEN 5 AND 20;'''\n",
    "\n",
    "sql4 = '''SELECT count(*) FROM pedido p\n",
    "WHERE p.qtde_itens IN (8, 15, 20, 45);'''\n",
    "\n",
    "db(sql1)\n",
    "db(sql2)\n",
    "db(sql3)\n",
    "db(sql4)\n",
    "\n",
    "db('SHOW PROFILES;')"
   ]
  },
  {
   "cell_type": "markdown",
   "id": "292a650d",
   "metadata": {},
   "source": [
    "Conferindo os índices atuais"
   ]
  },
  {
   "cell_type": "code",
   "execution_count": null,
   "id": "a77c0f1a",
   "metadata": {},
   "outputs": [],
   "source": [
    "db('SHOW INDEX FROM pedido;')"
   ]
  },
  {
   "cell_type": "markdown",
   "id": "ff33c53c",
   "metadata": {},
   "source": [
    "Crie um index **BTREE** baseado na coluna `qtde_itens`"
   ]
  },
  {
   "cell_type": "code",
   "execution_count": null,
   "id": "674763ae",
   "metadata": {},
   "outputs": [],
   "source": [
    "db('-- SUA QUERY PARA CRIAR O INDEX AQUI!!!')"
   ]
  },
  {
   "cell_type": "markdown",
   "id": "5b9a6655",
   "metadata": {},
   "source": [
    "Conferindo os índices"
   ]
  },
  {
   "cell_type": "code",
   "execution_count": null,
   "id": "eef6f309",
   "metadata": {},
   "outputs": [],
   "source": [
    "db('SHOW INDEX FROM pedido;')"
   ]
  },
  {
   "cell_type": "markdown",
   "id": "1c5304e1",
   "metadata": {},
   "source": [
    "Repetindo as consultas"
   ]
  },
  {
   "cell_type": "code",
   "execution_count": null,
   "id": "ca09cd09",
   "metadata": {},
   "outputs": [],
   "source": [
    "sql1 = '''SELECT count(*) FROM pedido p\n",
    "WHERE p.qtde_itens = 8;'''\n",
    "\n",
    "sql2 = '''SELECT count(*) FROM pedido p\n",
    "WHERE p.qtde_itens < 5;'''\n",
    "\n",
    "sql3 = '''SELECT count(*) FROM pedido p\n",
    "WHERE p.qtde_itens BETWEEN 5 AND 20;'''\n",
    "\n",
    "sql4 = '''SELECT count(*) FROM pedido p\n",
    "WHERE p.qtde_itens IN (8, 15, 20, 45);'''\n",
    "\n",
    "db(sql1)\n",
    "db(sql2)\n",
    "db(sql3)\n",
    "db(sql4)\n",
    "\n",
    "db('SHOW PROFILES;')"
   ]
  },
  {
   "cell_type": "markdown",
   "id": "5598bad1",
   "metadata": {},
   "source": [
    "Compare o tempo **antes** *versus* **depois** da criação do índice. Emocionante, não?!"
   ]
  },
  {
   "cell_type": "markdown",
   "id": "cb74a319",
   "metadata": {},
   "source": [
    "<div class=\"alert alert-success\">\n",
    "\n",
    "Sua resposta AQUI!\n",
    "\n",
    "</div>"
   ]
  },
  {
   "cell_type": "markdown",
   "id": "cb3a5986",
   "metadata": {},
   "source": [
    "## Particionamento\n",
    "\n",
    "Particionar é dividir as tabelas de um banco de dados em partes menores.\n",
    "\n",
    "Permite distribuir o banco de dados em vários nós ou HDs diferentes, aumentando o desempenho em situações de acesso concorrente intenso (que não é o nosso caso).\n",
    "\n",
    "Leia mais em https://dev.mysql.com/doc/refman/8.0/en/partitioning-pruning.html\n",
    "\n",
    "Veja um exemplo de particionamento:"
   ]
  },
  {
   "cell_type": "code",
   "execution_count": null,
   "id": "aba32828",
   "metadata": {},
   "outputs": [],
   "source": [
    "sql1 = '''\n",
    "SELECT \n",
    "    YEAR(p.data_criacao), AVG(valor_total) AS media\n",
    "FROM\n",
    "    pedido p\n",
    "WHERE YEAR(p.data_criacao) > 2020\n",
    "GROUP BY YEAR(p.data_criacao)\n",
    "ORDER BY YEAR(p.data_criacao) ASC;'''\n",
    "\n",
    "db(sql1)\n",
    "\n",
    "db('SHOW PROFILES;')"
   ]
  },
  {
   "cell_type": "markdown",
   "id": "b0f46e9a",
   "metadata": {},
   "source": [
    "Para separar por ano, precisaremos fazer com que a `data_criacao` seja parte da chave primária."
   ]
  },
  {
   "cell_type": "code",
   "execution_count": null,
   "id": "27f5ce56",
   "metadata": {},
   "outputs": [],
   "source": [
    "sql = '''\n",
    "ALTER TABLE pedido\n",
    "DROP PRIMARY KEY;'''\n",
    "\n",
    "db(sql)"
   ]
  },
  {
   "cell_type": "code",
   "execution_count": null,
   "id": "edc78c1e",
   "metadata": {},
   "outputs": [],
   "source": [
    "sql = '''\n",
    "ALTER TABLE pedido\n",
    "ADD PRIMARY KEY (id_pedido, data_criacao);'''\n",
    "\n",
    "db(sql)"
   ]
  },
  {
   "cell_type": "markdown",
   "id": "f642de18",
   "metadata": {},
   "source": [
    "Então, separamos a tabela `pedido` em quatro partições"
   ]
  },
  {
   "cell_type": "code",
   "execution_count": null,
   "id": "507ae1cc",
   "metadata": {},
   "outputs": [],
   "source": [
    "sql = '''\n",
    "ALTER TABLE pedido\n",
    "PARTITION BY RANGE(YEAR(data_criacao))\n",
    "(\n",
    "    PARTITION p0 VALUES LESS THAN (2016),\n",
    "    PARTITION p1 VALUES LESS THAN (2018),\n",
    "    PARTITION p2 VALUES LESS THAN (2020),\n",
    "    PARTITION p3 VALUES LESS THAN MAXVALUE\n",
    ");'''\n",
    "\n",
    "db(sql)"
   ]
  },
  {
   "cell_type": "markdown",
   "id": "3aef2ab2",
   "metadata": {},
   "source": [
    "Executando a query novamente"
   ]
  },
  {
   "cell_type": "code",
   "execution_count": null,
   "id": "04122813",
   "metadata": {},
   "outputs": [],
   "source": [
    "sql1 = '''\n",
    "SELECT \n",
    "    YEAR(p.data_criacao), AVG(valor_total) AS media\n",
    "FROM\n",
    "    pedido p\n",
    "WHERE YEAR(p.data_criacao) > 2020\n",
    "GROUP BY YEAR(p.data_criacao)\n",
    "ORDER BY YEAR(p.data_criacao) ASC;'''\n",
    "\n",
    "db(sql1)\n",
    "\n",
    "db('SHOW PROFILES;')"
   ]
  },
  {
   "cell_type": "markdown",
   "id": "57da4a1e",
   "metadata": {},
   "source": [
    "Anote abaixo suas considerações sobre particionar tabelas!"
   ]
  },
  {
   "cell_type": "markdown",
   "id": "ad483263",
   "metadata": {},
   "source": [
    "<div class=\"alert alert-info\">\n",
    "\n",
    "Suas observações AQUI!\n",
    "\n",
    "</div>"
   ]
  },
  {
   "cell_type": "markdown",
   "id": "b2bbde2d",
   "metadata": {},
   "source": [
    "## Exercícios"
   ]
  },
  {
   "cell_type": "markdown",
   "id": "2ca109df",
   "metadata": {},
   "source": [
    "**Exercício 1**: Explique por que uma hash table é:\n",
    "\n",
    "**a)** Boa para buscas por valor exato?"
   ]
  },
  {
   "cell_type": "markdown",
   "id": "5e8f3e16",
   "metadata": {},
   "source": [
    "<div class=\"alert alert-success\">\n",
    "\n",
    "Sua resposta AQUI!\n",
    "\n",
    "</div>"
   ]
  },
  {
   "cell_type": "markdown",
   "id": "dc83eddb",
   "metadata": {},
   "source": [
    "**b)** Ruim para buscas por faixas de valor?\n",
    "\n",
    "**Dicas**:\n",
    "- Tente pensar por alguns minutos como as hash tables funcionam\n",
    "- Se travar, peça ajuda aos professores ou pergunte ao ChatGPT (link alternativo https://chatbot.theb.ai/)"
   ]
  },
  {
   "cell_type": "markdown",
   "id": "14a0e640",
   "metadata": {},
   "source": [
    "<div class=\"alert alert-success\">\n",
    "\n",
    "Sua resposta AQUI!\n",
    "\n",
    "</div>"
   ]
  },
  {
   "cell_type": "markdown",
   "id": "d7f9f8f6",
   "metadata": {},
   "source": [
    "<a href=\"#gab_ex1\">Click para ver a resposta</a>"
   ]
  },
  {
   "cell_type": "markdown",
   "id": "318202fc",
   "metadata": {},
   "source": [
    "**Exercício 2**: Por que os bancos de dados relacionais utilizam `B-tree` e suas variantes ao invés de uma árvore binária balanceada?"
   ]
  },
  {
   "cell_type": "markdown",
   "id": "fd6a9bbe",
   "metadata": {},
   "source": [
    "<div class=\"alert alert-success\">\n",
    "\n",
    "Sua resposta AQUI!\n",
    "\n",
    "</div>"
   ]
  },
  {
   "cell_type": "markdown",
   "id": "371c4e9e",
   "metadata": {},
   "source": [
    "**Exercício 3**: O professor demonstrou a construção de uma `B-tree`. Pesquise o que são as `B+-trees` e responda:\n",
    "\n",
    "**Obs:**\n",
    "- O `+` representa um **plus**. Já o `-` é só um traço separador!\n",
    "- Você pode simular a versão **plus** aqui https://www.cs.usfca.edu/~galles/visualization/BPlusTree.html\n",
    "\n",
    "**a)** Qual a diferença entre a `B-tree` e a versão plus?!"
   ]
  },
  {
   "cell_type": "markdown",
   "id": "a45f3ad9",
   "metadata": {},
   "source": [
    "<div class=\"alert alert-success\">\n",
    "\n",
    "Sua resposta AQUI!\n",
    "\n",
    "</div>"
   ]
  },
  {
   "cell_type": "markdown",
   "id": "22d6d74c",
   "metadata": {},
   "source": [
    "**b)** O MySQL utiliza `B-tree` ou `B+-trees`?"
   ]
  },
  {
   "cell_type": "markdown",
   "id": "7dbfa841",
   "metadata": {},
   "source": [
    "<div class=\"alert alert-success\">\n",
    "\n",
    "Sua resposta AQUI!\n",
    "\n",
    "</div>"
   ]
  },
  {
   "cell_type": "markdown",
   "id": "a4b4f791",
   "metadata": {},
   "source": [
    "**Exercício 4**: Explique por que uma B-tree é:\n",
    "\n",
    "**a)** Razoável para buscas por valor exato?"
   ]
  },
  {
   "cell_type": "markdown",
   "id": "eebe902d",
   "metadata": {},
   "source": [
    "<div class=\"alert alert-success\">\n",
    "\n",
    "Sua resposta AQUI!\n",
    "\n",
    "</div>"
   ]
  },
  {
   "cell_type": "markdown",
   "id": "8c2bbdf7",
   "metadata": {},
   "source": [
    "**b)** Boa para buscas por faixa de valor?"
   ]
  },
  {
   "cell_type": "markdown",
   "id": "dec1fea1",
   "metadata": {},
   "source": [
    "<div class=\"alert alert-success\">\n",
    "\n",
    "Sua resposta AQUI!\n",
    "\n",
    "</div>"
   ]
  },
  {
   "cell_type": "markdown",
   "id": "aca6cf3f",
   "metadata": {},
   "source": [
    "**Exercício 5**: Pense em situações onde o **particionamento vertical** é benéfico, e onde é problemático."
   ]
  },
  {
   "cell_type": "markdown",
   "id": "13d5742c",
   "metadata": {},
   "source": [
    "<div class=\"alert alert-success\">\n",
    "\n",
    "Sua resposta AQUI!\n",
    "\n",
    "</div>"
   ]
  },
  {
   "cell_type": "markdown",
   "id": "2200ed4a",
   "metadata": {},
   "source": [
    "**Exercício 6**: Pense em situações onde o **particionamento horizontal** é benéfico, e onde é problemático."
   ]
  },
  {
   "cell_type": "markdown",
   "id": "4309fed1",
   "metadata": {},
   "source": [
    "<div class=\"alert alert-success\">\n",
    "\n",
    "Sua resposta AQUI!\n",
    "\n",
    "</div>"
   ]
  },
  {
   "cell_type": "markdown",
   "id": "f0a05e40",
   "metadata": {},
   "source": [
    "## Conexão\n",
    "\n",
    "Vamos fechar a conexão e finalizamos por hoje!"
   ]
  },
  {
   "cell_type": "code",
   "execution_count": null,
   "id": "4cf4f676",
   "metadata": {},
   "outputs": [],
   "source": [
    "connection.close()"
   ]
  },
  {
   "cell_type": "markdown",
   "id": "57c158ae",
   "metadata": {},
   "source": [
    "## Referências\n",
    "- OLIVEIRA, C. H. P, SQL: Curso Prático, Novatec, 2002 CAP 4\n",
    "- SILBERSCHATZ, A.; KORTH, H. F.; SUDARSHAN, S. DATABASE SYSTEM CONCEPTS, SEVENTH EDITION CAP 4.6\n",
    "- https://chatbot.theb.ai/\n",
    "- https://jasimabasheer.com/posts/btrees"
   ]
  },
  {
   "cell_type": "markdown",
   "id": "1ecd01b0",
   "metadata": {},
   "source": [
    "## Gabarito"
   ]
  },
  {
   "cell_type": "markdown",
   "id": "db69c015",
   "metadata": {},
   "source": [
    "**<div id=\"gab_ex1\">Exercício 1</div>**\n",
    "<div class=\"alert alert-warning\">\n",
    "\n",
    "**a)** Complexide de busca O(1) 😍\n",
    "\n",
    "**b)** Não mantém relação de ordem 😭\n",
    "    \n",
    "</div>"
   ]
  }
 ],
 "metadata": {
  "kernelspec": {
   "display_name": "Python 3 (ipykernel)",
   "language": "python",
   "name": "python3"
  },
  "language_info": {
   "codemirror_mode": {
    "name": "ipython",
    "version": 3
   },
   "file_extension": ".py",
   "mimetype": "text/x-python",
   "name": "python",
   "nbconvert_exporter": "python",
   "pygments_lexer": "ipython3",
   "version": "3.10.12"
  }
 },
 "nbformat": 4,
 "nbformat_minor": 5
}
