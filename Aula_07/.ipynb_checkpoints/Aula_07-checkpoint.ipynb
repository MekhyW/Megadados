{
 "cells": [
  {
   "cell_type": "markdown",
   "metadata": {},
   "source": [
    "# `SELECT`\n",
    "\n",
    "Nesta aula vamos explorar mais sobre o comando `SELECT`, usado para consultar a base de dados.\n",
    "\n",
    "Continuaremos a utilizar a mesma base da Aula 02. Se não tiver, instale a base de teste **musica** usando o script `musica.sql`. Este script instala a base de dados de exemplo do livro-texto da disciplina, de modo que vocês podem praticar com os exercícios do livro também!\n",
    "\n",
    "Eis aqui o diagrama do modelo relacional dessa base de dados:\n",
    "\n",
    "<center><img src=\"imgs/modelo_relacional.png\"/></center>"
   ]
  },
  {
   "cell_type": "markdown",
   "metadata": {},
   "source": [
    "Eis a lista completa de chaves primárias e estrangeiras:\n",
    "\n",
    "```SQL\n",
    "ALTER TABLE AUTOR\n",
    "    ADD PRIMARY KEY (Codigo_Autor);\n",
    "\n",
    "ALTER TABLE CD\n",
    "    ADD PRIMARY KEY (Codigo_CD) ;\n",
    "\n",
    "ALTER TABLE GRAVADORA\n",
    "    ADD PRIMARY KEY (Codigo_Gravadora) ;\n",
    "\n",
    "ALTER TABLE FAIXA\n",
    "    ADD PRIMARY KEY (Codigo_Musica, Codigo_CD);\n",
    "\n",
    "ALTER TABLE MUSICA\n",
    "    ADD PRIMARY KEY (Codigo_Musica) ;\n",
    "\n",
    "ALTER TABLE MUSICA_AUTOR\n",
    "    ADD PRIMARY KEY (Codigo_Musica, Codigo_Autor);\n",
    "\n",
    "ALTER TABLE CD\n",
    "    ADD FOREIGN KEY (Codigo_Gravadora)\n",
    "        REFERENCES GRAVADORA(Codigo_Gravadora);\n",
    "\n",
    "ALTER TABLE CD\n",
    "    ADD FOREIGN KEY (CD_Indicado)\n",
    "        REFERENCES CD(Codigo_CD);\n",
    "\n",
    "ALTER TABLE FAIXA\n",
    "    ADD FOREIGN KEY (Codigo_CD)\n",
    "        REFERENCES CD(Codigo_CD);\n",
    "\n",
    "ALTER TABLE FAIXA\n",
    "    ADD FOREIGN KEY (Codigo_Musica)\n",
    "        REFERENCES MUSICA(Codigo_Musica);\n",
    "\n",
    "ALTER TABLE MUSICA_AUTOR\n",
    "    ADD FOREIGN KEY (Codigo_Autor)\n",
    "        REFERENCES AUTOR(Codigo_Autor);\n",
    "\n",
    "ALTER TABLE MUSICA_AUTOR\n",
    "    ADD FOREIGN KEY (Codigo_Musica)\n",
    "        REFERENCES MUSICA(Codigo_Musica);\n",
    "```"
   ]
  },
  {
   "cell_type": "markdown",
   "metadata": {},
   "source": [
    "**Atividade:** Quais destas tabelas são tabelas de relacionamento?"
   ]
  },
  {
   "cell_type": "markdown",
   "metadata": {},
   "source": [
    "<div class=\"alert alert-success\">\n",
    "\n",
    "Sua resposta aqui! Dê dois cliques e edite.\n",
    "\n",
    "</div>"
   ]
  },
  {
   "cell_type": "markdown",
   "metadata": {},
   "source": [
    "## Criar conexão com o banco de dados\n",
    "Vamos agora criar a conexão com o banco de dados e o objeto auxiliar de conexão. Aqui resolvi usar uma estratégia diferente de implementação que dá o mesmo resultado, para deixar de exemplo para vocês:"
   ]
  },
  {
   "cell_type": "code",
   "execution_count": null,
   "metadata": {},
   "outputs": [],
   "source": [
    "# !pip install mysql-connector-python"
   ]
  },
  {
   "cell_type": "code",
   "execution_count": null,
   "metadata": {},
   "outputs": [],
   "source": [
    "from functools import partial\n",
    "from dotenv import load_dotenv\n",
    "import insperautograder.jupyter as ia\n",
    "import mysql.connector\n",
    "import os\n",
    "\n",
    "load_dotenv(override=True)\n",
    "\n",
    "connection = mysql.connector.connect(\n",
    "    host=os.getenv(\"MD_DB_SERVER\"),\n",
    "    user=os.getenv(\"MD_DB_USERNAME\"),\n",
    "    password=os.getenv(\"MD_DB_PASSWORD\"),\n",
    "    database=\"musica\"\n",
    ")\n",
    "\n",
    "def run_db_query(connection, query, args=None):\n",
    "    with connection.cursor() as cursor:\n",
    "        print(\"Executando query:\")\n",
    "        cursor.execute(query, args)\n",
    "        for result in cursor:\n",
    "            print(result)\n",
    "\n",
    "\n",
    "db = partial(run_db_query, connection)"
   ]
  },
  {
   "cell_type": "markdown",
   "metadata": {},
   "source": [
    "# <span style='color:blue;'> Relembrando `SELECT`</span>\n",
    "\n",
    "As cláusulas das próximas seções já foram vistas nas primeiras aulas (Select). Deixamos aqui para que relembrem, agora utilizando a chamada `db()` direto no python!\n",
    "\n",
    "## Explorando a estrutura da base de dados"
   ]
  },
  {
   "cell_type": "markdown",
   "metadata": {},
   "source": [
    "Agora podemos usar nosso helper para enviar comandos à base de dados. Vamos ver quais tabelas existem na base 'musica':"
   ]
  },
  {
   "cell_type": "code",
   "execution_count": null,
   "metadata": {},
   "outputs": [],
   "source": [
    "db('SHOW TABLES')"
   ]
  },
  {
   "cell_type": "markdown",
   "metadata": {},
   "source": [
    "Para saber qual o schema da tabela 'cd', podemos usar o comando '`DESCRIBE`'"
   ]
  },
  {
   "cell_type": "code",
   "execution_count": null,
   "metadata": {
    "scrolled": true
   },
   "outputs": [],
   "source": [
    "db('DESCRIBE CD')"
   ]
  },
  {
   "cell_type": "markdown",
   "metadata": {},
   "source": [
    "## Consultando a base de dados"
   ]
  },
  {
   "cell_type": "markdown",
   "metadata": {},
   "source": [
    "Relembrando: vamos usar o comando '`SELECT`' para listar os conteudos da tabela 'cd'"
   ]
  },
  {
   "cell_type": "code",
   "execution_count": null,
   "metadata": {
    "scrolled": true
   },
   "outputs": [],
   "source": [
    "db('SELECT * FROM CD')"
   ]
  },
  {
   "cell_type": "markdown",
   "metadata": {},
   "source": [
    "O comando acima lista todos os registros da tabela 'cd', com todas as colunas presentes:\n",
    "\n",
    "![Seleção da tabela inteira](imgs/tudo.png)\n",
    "\n",
    "Vamos agora selecionar apenas algumas colunas para exibir."
   ]
  },
  {
   "cell_type": "code",
   "execution_count": null,
   "metadata": {
    "scrolled": true
   },
   "outputs": [],
   "source": [
    "db('SELECT Nome_CD, Data_Lancamento FROM CD')"
   ]
  },
  {
   "cell_type": "markdown",
   "metadata": {},
   "source": [
    "Agora vemos apenas as colunas escolhidas. Relembrando: a operação de seleção de colunas chama-se **projeção**.\n",
    "\n",
    "![Projeção](imgs/projecao.png)\n",
    "\n",
    "Vamos agora atuar na escolha de linhas, selecionando quais desejamos. Para escolher todas as linhas cujo Nome_CD terminem em 'a', podemos executar a query a seguir:"
   ]
  },
  {
   "cell_type": "code",
   "execution_count": null,
   "metadata": {},
   "outputs": [],
   "source": [
    "db(\"SELECT * FROM CD WHERE Nome_CD LIKE '%a'\")"
   ]
  },
  {
   "cell_type": "markdown",
   "metadata": {},
   "source": [
    "Formatar a query facilita sua compreensão!"
   ]
  },
  {
   "cell_type": "code",
   "execution_count": null,
   "metadata": {},
   "outputs": [],
   "source": [
    "sql = \"\"\"\n",
    "SELECT \n",
    "    *\n",
    "FROM\n",
    "    CD\n",
    "WHERE\n",
    "    Nome_CD LIKE '%a'\n",
    "\"\"\"\n",
    "db(sql)"
   ]
  },
  {
   "cell_type": "markdown",
   "metadata": {},
   "source": [
    "Vemos apenas as linhas escolhidas. Recordando: a operação de filtragem de linhas apropriadas chama-se **seleção**.\n",
    "\n",
    "![Seleção](imgs/selecao.png)"
   ]
  },
  {
   "cell_type": "markdown",
   "metadata": {},
   "source": [
    "### Comentários\n",
    "\n",
    "Comentários podem ser úteis para auxiliar na compreensão das queries. Em SQL, utilizaremos `--` **seguido de um espaço** e tudo a direita será considerado como comentário. Veja um exemplo:"
   ]
  },
  {
   "cell_type": "code",
   "execution_count": null,
   "metadata": {},
   "outputs": [],
   "source": [
    "sql = \"\"\"\n",
    "SELECT \n",
    "    * \n",
    "FROM\n",
    "    CD\n",
    "WHERE\n",
    "    Nome_CD LIKE '%a' -- Aqui, % tem o mesmo significado que asterisco em uma busca no terminal!\n",
    "\"\"\"\n",
    "db(sql)"
   ]
  },
  {
   "cell_type": "markdown",
   "metadata": {},
   "source": [
    "## Cláusula `WHERE`"
   ]
  },
  {
   "cell_type": "markdown",
   "metadata": {},
   "source": [
    "A cláusula `WHERE` permite **filtrar as linhas** da tabela (ou tabelas - mais sobre *JOIN* daqui a pouco). Basta especificar a condição de filtragem: o resultado da query será o conjunto de linhas para as quais a condição é verdadeira.\n",
    "\n",
    "Já vimos alguns usos da cláusula `WHERE` acima. Vamos ver mais exemplos:"
   ]
  },
  {
   "cell_type": "code",
   "execution_count": null,
   "metadata": {},
   "outputs": [],
   "source": [
    "# Queries equivalentes.\n",
    "db('SELECT * FROM CD')\n",
    "db('SELECT * FROM CD WHERE True')"
   ]
  },
  {
   "cell_type": "markdown",
   "metadata": {},
   "source": [
    "Qual o cd mais antigo que custa 13 reais ou mais?"
   ]
  },
  {
   "cell_type": "code",
   "execution_count": null,
   "metadata": {},
   "outputs": [],
   "source": [
    "db('''\n",
    "SELECT \n",
    "    Nome_CD, Preco_Venda, Data_Lancamento\n",
    "FROM \n",
    "    CD \n",
    "WHERE \n",
    "    Preco_Venda >= 13 \n",
    "''')"
   ]
  },
  {
   "cell_type": "markdown",
   "metadata": {},
   "source": [
    "Perceba que, com os resultados obtidos, podemos comparar as datas uma a uma e encontrar a mais antiga. Logo, obtemos o nome do cd mais antigo que custa 13 reais ou mais! Mas será que existe forma mais fácil?\n",
    "\n",
    "## Ordenar linhas\n",
    "\n",
    "Podemos usar o `ORDER BY` para indicar por qual coluna queremos fazer a ordenação. Podemos também indicar com `ASC` que a ordenação será crescente (padrão) e `DESC` para decrescente."
   ]
  },
  {
   "cell_type": "code",
   "execution_count": null,
   "metadata": {},
   "outputs": [],
   "source": [
    "db('''\n",
    "SELECT \n",
    "    Nome_CD, Preco_Venda, Data_Lancamento\n",
    "FROM \n",
    "    CD \n",
    "WHERE \n",
    "    Preco_Venda >= 13\n",
    "ORDER BY \n",
    "    Data_Lancamento DESC\n",
    "''')"
   ]
  },
  {
   "cell_type": "markdown",
   "metadata": {},
   "source": [
    "Pronto! Agora o cd requisitado está na última linha, muito mais fácil, não?!\n",
    "\n",
    "Podemos indicar apenas um inteiro como id da coluna a ser ordenada. Entretanto, é uma boa prática escrever o nome da coluna, tanto por facilidade de leitura quanto por mudanças que podem ser feitas nas colunas retornadas pela query, sendo fácil esquecer ou perceber que o id mudou."
   ]
  },
  {
   "cell_type": "code",
   "execution_count": null,
   "metadata": {},
   "outputs": [],
   "source": [
    "db('''\n",
    "SELECT \n",
    "    Nome_CD, Preco_Venda, Data_Lancamento\n",
    "FROM \n",
    "    CD \n",
    "WHERE \n",
    "    Preco_Venda >= 13\n",
    "ORDER BY \n",
    "    3 DESC\n",
    "''')"
   ]
  },
  {
   "cell_type": "markdown",
   "metadata": {},
   "source": [
    "Mas será que precisamos retornar todas as linhas? O nosso interesse está em apenas uma (a que possui **o cd mais antigo que custa 13 reais ou mais**).\n",
    "\n",
    "### `LIMIT`ar a quantidade de linhas retornadas!\n",
    "\n",
    "Podemos utilizar o `LIMIT` para definir um limite máximo da quantidade de linhas retornadas. Isto será bastante útil quando apenas estivermos explorando as tabelas, quando ver três ou cinco linhas da tabela é suficiente (semelhante ao `dataframe.head()` do `pandas`).\n",
    "\n",
    "Vamos tentar?"
   ]
  },
  {
   "cell_type": "code",
   "execution_count": null,
   "metadata": {},
   "outputs": [],
   "source": [
    "db('''\n",
    "SELECT \n",
    "    Nome_CD, Preco_Venda, Data_Lancamento\n",
    "FROM \n",
    "    CD \n",
    "WHERE \n",
    "    Preco_Venda >= 13\n",
    "ORDER BY \n",
    "    Data_Lancamento DESC\n",
    "LIMIT 1\n",
    "''')"
   ]
  },
  {
   "cell_type": "markdown",
   "metadata": {},
   "source": [
    "# <span style='color:blue;'> Conteúdo novo!</span>\n",
    "## Agregação"
   ]
  },
  {
   "cell_type": "markdown",
   "metadata": {},
   "source": [
    "Agregação em **SQL** refere-se ao processo de **combinar e resumir dados** para obter informações mais significativas.\n",
    "\n",
    "Utilizaremos funções como `SUM`, `COUNT`, `AVG`, `MAX` e `MIN`, que **operam em conjuntos de registros** para gerar resultados consolidados.\n",
    "\n",
    "**Exemplo**: Quantas músicas tem na base?"
   ]
  },
  {
   "cell_type": "code",
   "execution_count": null,
   "metadata": {},
   "outputs": [],
   "source": [
    "db('SELECT COUNT(*) FROM MUSICA')"
   ]
  },
  {
   "cell_type": "markdown",
   "metadata": {},
   "source": [
    "Note o comando `COUNT` acima. Trata-se de um comando de *agregação*: uma operação que trabalha em cima de todo o resultado da query e retorna um valor agregado para esses resultados. \n",
    "\n",
    "Usamos o argumento \"\\*\" para indicar que queremos apenas contar quantas linhas não são nulas. Normalmente é melhor especificar direito a coluna sobre a qual queremos operar.\n",
    "\n",
    "Por exemplo: qual a duração da musica mais longa?"
   ]
  },
  {
   "cell_type": "code",
   "execution_count": null,
   "metadata": {},
   "outputs": [],
   "source": [
    "db('SELECT MAX(duracao) FROM MUSICA')"
   ]
  },
  {
   "cell_type": "markdown",
   "metadata": {},
   "source": [
    "**Exercícios para entrega**\n",
    "\n",
    "Esta aula tem atividade para entrega, confira os prazos e exercícios"
   ]
  },
  {
   "cell_type": "code",
   "execution_count": null,
   "metadata": {},
   "outputs": [],
   "source": [
    "ia.tasks()"
   ]
  },
  {
   "cell_type": "code",
   "execution_count": null,
   "metadata": {},
   "outputs": [],
   "source": [
    "ia.grades(task=\"agg_join\")"
   ]
  },
  {
   "cell_type": "markdown",
   "metadata": {},
   "source": [
    "**Exercício 1:** Quantas musicas foram escritas pelo autor número 1 (Renato Russo)?\n",
    "\n",
    "**Obs**: o atributo retornado de ve se chamar `qt_musicas`"
   ]
  },
  {
   "cell_type": "code",
   "execution_count": null,
   "metadata": {},
   "outputs": [],
   "source": [
    "sql_ex01 = '''\n",
    "-- SUA QUERY AQUI!\n",
    "'''\n",
    "\n",
    "db(sql_ex01)"
   ]
  },
  {
   "cell_type": "code",
   "execution_count": null,
   "metadata": {},
   "outputs": [],
   "source": [
    "ia.sender(answer='sql_ex01', task='agg_join', question='ex01', answer_type='pyvar')"
   ]
  },
  {
   "cell_type": "markdown",
   "metadata": {},
   "source": [
    "**Exercício 2:** Se eu fosse comprar uma cópia de cada CD da base, quanto gastaria?\n",
    "\n",
    "**Obs**: o atributo retornado de ve se chamar `valor_total`"
   ]
  },
  {
   "cell_type": "code",
   "execution_count": null,
   "metadata": {},
   "outputs": [],
   "source": [
    "sql_ex02 = '''\n",
    "-- SUA QUERY AQUI!\n",
    "'''\n",
    "\n",
    "db(sql_ex02)"
   ]
  },
  {
   "cell_type": "code",
   "execution_count": null,
   "metadata": {},
   "outputs": [],
   "source": [
    "ia.sender(answer='sql_ex02', task='agg_join', question='ex02', answer_type='pyvar')"
   ]
  },
  {
   "cell_type": "markdown",
   "metadata": {},
   "source": [
    "## Variáveis"
   ]
  },
  {
   "cell_type": "markdown",
   "metadata": {},
   "source": [
    "Verificando manualmente a tabela `musica` podemos encontrar o nome da musica mais longa:"
   ]
  },
  {
   "cell_type": "code",
   "execution_count": null,
   "metadata": {},
   "outputs": [],
   "source": [
    "db('SELECT * from MUSICA')"
   ]
  },
  {
   "cell_type": "markdown",
   "metadata": {},
   "source": [
    "Nenhuma surpresa aqui: é \"Faroeste Caboclo\"...\n",
    "\n",
    "Agora suponha que eu quero localizar o *nome* da música mais comprida. Note que o comando a seguir NÃO FAZ SENTIDO:"
   ]
  },
  {
   "cell_type": "code",
   "execution_count": null,
   "metadata": {},
   "outputs": [],
   "source": [
    "db('SELECT Nome_musica, MAX(duracao) FROM MUSICA')"
   ]
  },
  {
   "cell_type": "markdown",
   "metadata": {},
   "source": [
    "A resposta está errada. Nem poderia estar certa: e se tivermos mais de uma música com a duração máxima?\n",
    "\n",
    "Talvez se especificássemos que a duracao da música tem que coincidir com a duracao máxima..."
   ]
  },
  {
   "cell_type": "code",
   "execution_count": null,
   "metadata": {},
   "outputs": [],
   "source": [
    "try:\n",
    "    db('SELECT Nome_musica FROM MUSICA WHERE duracao=MAX(duracao)')\n",
    "except mysql.connector.DatabaseError as e:\n",
    "    print(f'DatabaseError: {e}')"
   ]
  },
  {
   "cell_type": "markdown",
   "metadata": {},
   "source": [
    "Também não funciona: não podemos usar uma função de agrupamento dentro da cláusula `WHERE`. Como resolver isso então?\n",
    "\n",
    "Primeiro descubra qual é a maior duração e guarde em uma *variável* ***no banco de dados***."
   ]
  },
  {
   "cell_type": "code",
   "execution_count": null,
   "metadata": {},
   "outputs": [],
   "source": [
    "db('SELECT MAX(duracao) INTO @max_duracao from MUSICA')"
   ]
  },
  {
   "cell_type": "markdown",
   "metadata": {},
   "source": [
    "Podemos checar o valor dessa variavel agora:"
   ]
  },
  {
   "cell_type": "code",
   "execution_count": null,
   "metadata": {},
   "outputs": [],
   "source": [
    "db('SELECT @max_duracao')"
   ]
  },
  {
   "cell_type": "markdown",
   "metadata": {},
   "source": [
    "Agora podemos terminar o serviço!"
   ]
  },
  {
   "cell_type": "code",
   "execution_count": null,
   "metadata": {},
   "outputs": [],
   "source": [
    "db('SELECT Nome_musica FROM MUSICA WHERE duracao=@max_duracao')"
   ]
  },
  {
   "cell_type": "markdown",
   "metadata": {},
   "source": [
    "**Exercício 3**: Encontre todas as musicas com duração acima da média.\n",
    "\n",
    "Você deve criar uma variável chamada `avg_duracao` e utilizá-la em sua solução!\n",
    "\n",
    "Ainda, retorne a `duracao` e o `Nome_musica`, ordenando de forma decrescente pela `duracao`."
   ]
  },
  {
   "cell_type": "code",
   "execution_count": null,
   "metadata": {},
   "outputs": [],
   "source": [
    "sql_ex03_part1 = \"\"\"\n",
    "-- SUA QUERY PARA CRIAR VARIÁVEL\n",
    "\"\"\"\n",
    "\n",
    "sql_ex03_part2 = \"\"\"\n",
    "-- SUA QUERY PARA SELECIONAR VARIÁVEL (PARA VER SEU CONTEÚDO\n",
    "\"\"\"\n",
    "\n",
    "sql_ex03_part3 = \"\"\"\n",
    "-- SUA QUERY PARA SELECIONAR MÚSICAS COM DURAÇÃO ACIMA DA MÉDIA\n",
    "\"\"\"\n",
    "\n",
    "# Para envio ao servidor: Não alterar\n",
    "sql_ex03 = f\"\"\"\n",
    "{sql_ex03_part1.replace(';','').strip()};\n",
    "{sql_ex03_part2.replace(';','').strip()};\n",
    "{sql_ex03_part3.replace(';','').strip()};\n",
    "\"\"\"\n",
    "\n",
    "print(\"-> Criar variável:\")\n",
    "db(sql_ex03_part1)\n",
    "print(\"\\n-> Selecionar variável:\")\n",
    "db(sql_ex03_part2)\n",
    "print(\"\\n-> Músicas com duração acima da média:\")\n",
    "db(sql_ex03_part3)"
   ]
  },
  {
   "cell_type": "code",
   "execution_count": null,
   "metadata": {},
   "outputs": [],
   "source": [
    "ia.sender(answer='sql_ex03', task='agg_join', question='ex03', answer_type='pyvar')"
   ]
  },
  {
   "cell_type": "markdown",
   "metadata": {},
   "source": [
    "## Pesquisa em múltiplas tabelas"
   ]
  },
  {
   "cell_type": "markdown",
   "metadata": {},
   "source": [
    "### Produto cartesiano"
   ]
  },
  {
   "cell_type": "markdown",
   "metadata": {},
   "source": [
    "Quando listamos várias tabelas no comando `SELECT` temos como resultado o produto cartesiano destas. \n",
    "\n",
    "(Para os matemáticos: não se trata estritamente do produto cartesiano, pois não geramos um conjunto de duplas de tuplas. Geramos um \"aplainamento\" - *flattening* - do resultado, para cada linha.)\n",
    "\n",
    "Por exemplo, se temos uma tabela com 2 linhas e outra com 3 linhas, o resultado terá 6 linhas, como ilustrado a seguir:\n",
    "\n",
    "```SQL\n",
    "DROP DATABASE IF EXISTS test;\n",
    "CREATE DATABASE test;\n",
    "USE test;\n",
    "\n",
    "CREATE TABLE tab1 (\n",
    "    coluna11 INT,\n",
    "    coluna21 INT\n",
    ");\n",
    "\n",
    "CREATE TABLE tab2 (\n",
    "    coluna12 INT,\n",
    "    coluna22 INT\n",
    ");\n",
    "\n",
    "INSERT INTO tab1 VALUES (1, 2), (3, 4);\n",
    "INSERT INTO tab2 VALUES (1000, 2000), (3000, 4000), (5000, 6000);\n",
    "\n",
    "SELECT * FROM tab1;\n",
    "\n",
    "SELECT * FROM tab2;\n",
    "\n",
    "SELECT * FROM tab1, tab2;\n",
    "```\n",
    "\n",
    "Resultado:\n",
    "\n",
    "![Produto cartesiano](imgs/cartesiano.png)\n",
    "\n",
    "Observe o que acontece quando unimos as tabelas *cd* e *gravadora*"
   ]
  },
  {
   "cell_type": "code",
   "execution_count": null,
   "metadata": {},
   "outputs": [],
   "source": [
    "db('SELECT * FROM CD, GRAVADORA')"
   ]
  },
  {
   "cell_type": "markdown",
   "metadata": {},
   "source": [
    "### Inner join"
   ]
  },
  {
   "cell_type": "markdown",
   "metadata": {},
   "source": [
    "E se filtrássemos o resultado anterior, mantendo apenas as linhas em que o código de gravadora na tabela *'cd'* coincida com o código de gravadora na tabela *'gravadora'*?"
   ]
  },
  {
   "cell_type": "code",
   "execution_count": null,
   "metadata": {
    "scrolled": true
   },
   "outputs": [],
   "source": [
    "db('''\n",
    "SELECT \n",
    "    * \n",
    "FROM \n",
    "    CD as c, GRAVADORA as g \n",
    "WHERE \n",
    "    c.Codigo_Gravadora = g.Codigo_Gravadora\n",
    "''')"
   ]
  },
  {
   "cell_type": "code",
   "execution_count": null,
   "metadata": {},
   "outputs": [],
   "source": [
    "db('''\n",
    "SELECT\n",
    "    Nome_CD, Nome_Gravadora \n",
    "FROM\n",
    "    CD as c, GRAVADORA as g \n",
    "WHERE\n",
    "    c.Codigo_Gravadora = g.Codigo_Gravadora\n",
    "''')"
   ]
  },
  {
   "cell_type": "markdown",
   "metadata": {},
   "source": [
    "Opa, parece que com isso conseguimos associar a gravadora ao cd!\n",
    "\n",
    "Estamos mantendo apenas as linhas do produto cartesiano onde o codigo da gravadora declarado na tabela cd bate com o codigo da gravadora declarado na tabela gravadora. Logo, nestas linhas, a informação proveniente da tabela cd e a informação proveniente da tabela gravadora estarão se referindo à mesma gravadora. Conseguimos, portanto, conectar as informações de cada CD com as informações da gravadora à qual aquele CD pertence."
   ]
  },
  {
   "cell_type": "markdown",
   "metadata": {},
   "source": [
    "Denominamos *\"inner join\"*, *\"equi-join\"* ou \"união regular\" a essa operação de junção de tabelas através da união de **chave primária** de uma com **chave estrangeira** de outra. Eu chamo informalmente de \"vamos bater chaves!\""
   ]
  },
  {
   "cell_type": "markdown",
   "metadata": {},
   "source": [
    "Vamos construir uma lista de cds e suas respectivas gravadoras:"
   ]
  },
  {
   "cell_type": "code",
   "execution_count": null,
   "metadata": {},
   "outputs": [],
   "source": [
    "db('''\n",
    "SELECT \n",
    "    Nome_CD, Nome_Gravadora \n",
    "FROM \n",
    "    CD as c, GRAVADORA as g \n",
    "WHERE \n",
    "    c.Codigo_Gravadora = g.Codigo_Gravadora\n",
    "''')"
   ]
  },
  {
   "cell_type": "markdown",
   "metadata": {},
   "source": [
    "Vamos aprimorar nossa query para procurar apenas os CDs gravados pela 'SOM LIVRE':"
   ]
  },
  {
   "cell_type": "code",
   "execution_count": null,
   "metadata": {},
   "outputs": [],
   "source": [
    "db(\"\"\"\n",
    "SELECT \n",
    "    Nome_CD, Nome_Gravadora \n",
    "FROM \n",
    "    CD as c, \n",
    "    GRAVADORA as g\n",
    "WHERE \n",
    "    c.Codigo_Gravadora = g.Codigo_Gravadora\n",
    "    AND g.Nome_Gravadora = 'SOM LIVRE'\n",
    "\"\"\")"
   ]
  },
  {
   "cell_type": "markdown",
   "metadata": {},
   "source": [
    "Existem \"apelidos\" para a união regular, que produzem o mesmo resultado:"
   ]
  },
  {
   "cell_type": "code",
   "execution_count": null,
   "metadata": {},
   "outputs": [],
   "source": [
    "db('''\n",
    "SELECT \n",
    "    Nome_CD, \n",
    "    Nome_Gravadora \n",
    "FROM \n",
    "    CD\n",
    "    INNER JOIN GRAVADORA USING (Codigo_Gravadora)\n",
    "''')"
   ]
  },
  {
   "cell_type": "code",
   "execution_count": null,
   "metadata": {
    "scrolled": true
   },
   "outputs": [],
   "source": [
    "db('''\n",
    "SELECT\n",
    "    Nome_CD,\n",
    "    Nome_Gravadora\n",
    "FROM\n",
    "    CD as c\n",
    "    INNER JOIN GRAVADORA as g ON c.Codigo_Gravadora = g.Codigo_Gravadora\n",
    "''')"
   ]
  },
  {
   "cell_type": "markdown",
   "metadata": {},
   "source": [
    "**Exercício 4**: Construa a lista das musicas do Renato Russo. Sua query deverá filtrar utilizando o texto `\"Renato Russo\"`.\n",
    "\n",
    "- **Dica**: Reveja os relacionamentos!"
   ]
  },
  {
   "cell_type": "code",
   "execution_count": null,
   "metadata": {},
   "outputs": [],
   "source": [
    "sql_ex04 = '''\n",
    "-- SUA QUERY AQUI!\n",
    "'''\n",
    "\n",
    "db(sql_ex04)"
   ]
  },
  {
   "cell_type": "code",
   "execution_count": null,
   "metadata": {
    "scrolled": true
   },
   "outputs": [],
   "source": [
    "ia.sender(answer='sql_ex04', task='agg_join', question='ex04', answer_type='pyvar')"
   ]
  },
  {
   "cell_type": "markdown",
   "metadata": {},
   "source": [
    "### Self join\n",
    "\n",
    "E se quisermos listar os nomes de CDs e seus respectivos CDs indicados? Veja a solução abaixo. Note o uso de dois *aliases* diferentes para a tabela cd."
   ]
  },
  {
   "cell_type": "code",
   "execution_count": null,
   "metadata": {},
   "outputs": [],
   "source": [
    "# Observe também o uso da função CONCAT(), só para ficar mais bonito!\n",
    "db('''\n",
    "SELECT\n",
    "    CONCAT('\"', c1.Nome_CD, '\" indicado por \"', c2.Nome_CD, '\"')\n",
    "FROM\n",
    "    CD c1,\n",
    "    CD c2\n",
    "WHERE\n",
    "    c1.Codigo_CD = c2.CD_Indicado\n",
    "''')"
   ]
  },
  {
   "cell_type": "markdown",
   "metadata": {},
   "source": [
    "### *'Non-equi-join'*"
   ]
  },
  {
   "cell_type": "markdown",
   "metadata": {},
   "source": [
    "Chamamos de *'non-equi-join'* a uma junção de tabelas que não usa a igualdade de colunas como critério de junção. \n",
    "\n",
    "Podemos fazer muitas investigações úteis com junção de tabelas. Vamos acompanhar um exemplo (também está no livro-texto).\n",
    "\n",
    "Na base 'musica' temos uma tabela estranha, de poucas linhas, chamada cd_categoria."
   ]
  },
  {
   "cell_type": "code",
   "execution_count": null,
   "metadata": {},
   "outputs": [],
   "source": [
    "db('DESCRIBE CD_CATEGORIA')"
   ]
  },
  {
   "cell_type": "code",
   "execution_count": null,
   "metadata": {
    "scrolled": true
   },
   "outputs": [],
   "source": [
    "db('SELECT * from CD_CATEGORIA')"
   ]
  },
  {
   "cell_type": "markdown",
   "metadata": {},
   "source": [
    "Esta tabela lista as categorias de preço de CDs. Por exemplo, se um CD custa 9 reais, ele está na categoria 1.\n",
    "\n",
    "Gostariamos de usar essa informação em conjunto com a tabela de CDs para obter a lista de CDs em cada categoria. Por onde começar?\n",
    "\n",
    "Vamos montar o produto cartesiano desta tabela cd_categoria com a tabela de CDs e ver se algum *insight* aparece:"
   ]
  },
  {
   "cell_type": "code",
   "execution_count": null,
   "metadata": {},
   "outputs": [],
   "source": [
    "db('SELECT * FROM CD, CD_CATEGORIA LIMIT 10')"
   ]
  },
  {
   "cell_type": "markdown",
   "metadata": {},
   "source": [
    "Interessante! Como se trata do produto cartesiano, cada CD é listado repetidas vezes, uma para cada categoria de CDs. \n",
    "\n",
    "*Cada linha tem* ***o preço do CD*** *e um par de valores com* ***limites de preço de faixa***. Leia esta sentença quantas vezes for necessário.\n",
    "\n",
    "E se filtrássemos esse resultado para manter apenas as linhas onde o preço do CD está dentro dos limites de preço?"
   ]
  },
  {
   "cell_type": "code",
   "execution_count": null,
   "metadata": {},
   "outputs": [],
   "source": [
    "db(\"\"\"\n",
    "SELECT \n",
    "    * \n",
    "FROM \n",
    "    CD c,\n",
    "    CD_CATEGORIA cat \n",
    "WHERE \n",
    "    c.Preco_Venda BETWEEN cat.Menor_Preco AND cat.Maior_Preco\n",
    "\"\"\")"
   ]
  },
  {
   "cell_type": "markdown",
   "metadata": {},
   "source": [
    "Surgiu um pequeno problema: tem CD alocado para duas categorias ao mesmo tempo! Culpa do operador `BETWEEN` e da nossa interpretação da tabela `cd_categoria`. Vamos remover o `BETWEEN` e usar os limites do jeito que a gente quer:"
   ]
  },
  {
   "cell_type": "code",
   "execution_count": null,
   "metadata": {
    "scrolled": true
   },
   "outputs": [],
   "source": [
    "db(\"\"\"\n",
    "SELECT \n",
    "    * \n",
    "FROM \n",
    "    CD cd, \n",
    "    CD_CATEGORIA cat \n",
    "WHERE \n",
    "    cd.Preco_Venda >= cat.Menor_Preco \n",
    "    AND cd.Preco_Venda < cat.Maior_Preco\n",
    "\"\"\")"
   ]
  },
  {
   "cell_type": "markdown",
   "metadata": {},
   "source": [
    "Finalmente, vamos ajustar nossa query para buscar os nomes de CDs na faixa 2 de preço:"
   ]
  },
  {
   "cell_type": "code",
   "execution_count": null,
   "metadata": {},
   "outputs": [],
   "source": [
    "db(\"\"\"\n",
    "SELECT \n",
    "    Nome_CD \n",
    "FROM \n",
    "    CD cd, \n",
    "    CD_CATEGORIA cat \n",
    "WHERE \n",
    "    cd.Preco_Venda >= cat.Menor_Preco \n",
    "    AND cd.Preco_Venda < cat.Maior_Preco\n",
    "    AND cat.Codigo_categoria = 2\n",
    "\"\"\")"
   ]
  },
  {
   "cell_type": "markdown",
   "metadata": {},
   "source": [
    "#### Vamos praticar"
   ]
  },
  {
   "cell_type": "markdown",
   "metadata": {},
   "source": [
    "**Exercício 05**: Liste o nome do CD e de sua respectiva gravadora para CDs na categoria 2."
   ]
  },
  {
   "cell_type": "code",
   "execution_count": null,
   "metadata": {},
   "outputs": [],
   "source": [
    "db('''\n",
    "-- SUA QUERY AQUI!\n",
    "''')"
   ]
  },
  {
   "cell_type": "code",
   "execution_count": null,
   "metadata": {},
   "outputs": [],
   "source": [
    "sql_ex05 = '''\n",
    "-- SUA QUERY AQUI!\n",
    "'''\n",
    "\n",
    "db(sql_ex05)"
   ]
  },
  {
   "cell_type": "code",
   "execution_count": null,
   "metadata": {},
   "outputs": [],
   "source": [
    "ia.sender(answer='sql_ex05', task='agg_join', question='ex05', answer_type='pyvar')"
   ]
  },
  {
   "cell_type": "markdown",
   "metadata": {},
   "source": [
    "Vamos agora fechar a conexão com este banco de dados, porque no próximo tópico vamos abrir uma conexão com outro banco de dados."
   ]
  },
  {
   "cell_type": "code",
   "execution_count": null,
   "metadata": {},
   "outputs": [],
   "source": [
    "connection.close()"
   ]
  },
  {
   "cell_type": "markdown",
   "metadata": {},
   "source": [
    "### Outer join"
   ]
  },
  {
   "cell_type": "markdown",
   "metadata": {},
   "source": [
    "Considere a seguinte base de testes: cada perigo tem um nome e cada comida tem um nome e um perigo associado. (Use o script `tranqueira.sql` para testar essa base.)\n",
    "\n",
    "```SQL\n",
    "DROP DATABASE IF EXISTS tranqueira;\n",
    "CREATE DATABASE tranqueira;\n",
    "USE tranqueira;\n",
    "\n",
    "CREATE TABLE comida (\n",
    "\tid INT NOT NULL AUTO_INCREMENT,\n",
    "\tNome VARCHAR(30),\n",
    "    idPerigo INT,\n",
    "    PRIMARY KEY (id)\n",
    ");\n",
    "\n",
    "CREATE TABLE perigo (\n",
    "\tid INT NOT NULL AUTO_INCREMENT,\n",
    "    Nome VARCHAR(20),\n",
    "    PRIMARY KEY (id)\n",
    ");\n",
    "\n",
    "ALTER TABLE comida ADD FOREIGN KEY (idPerigo) REFERENCES perigo (id);\n",
    "\n",
    "INSERT INTO perigo VALUES (1, 'Cardiaco'), (2, 'Intestinal'), (3, 'Dermatologico'), (4, 'Mental');\n",
    "INSERT INTO comida VALUES (1, 'Torresmo', 1), (2, 'Alface', NULL), (3, 'Coxinha', 2), (4, 'Espetinho', 2);\n",
    "\n",
    "SELECT * FROM comida;\n",
    "SELECT * FROM perigo;\n",
    "```\n",
    "\n",
    "![Tabela comida](imgs/comida.png)\n",
    "\n",
    "![Tabela perigo](imgs/perigo.png)\n",
    "\n",
    "Fazendo o inner join da tabela comida com a tabela perigo temos a lista de comidas que estão associadas a algum perigo:"
   ]
  },
  {
   "cell_type": "code",
   "execution_count": null,
   "metadata": {
    "scrolled": true,
    "tags": []
   },
   "outputs": [],
   "source": [
    "connection_tranqueira = mysql.connector.connect(\n",
    "    host=os.getenv(\"MD_DB_SERVER\"),\n",
    "    user=os.getenv(\"MD_DB_USERNAME\"),\n",
    "    password=os.getenv(\"MD_DB_PASSWORD\"),\n",
    "    database=\"tranqueira\"\n",
    ")\n",
    "\n",
    "dbt = partial(run_db_query, connection_tranqueira)\n",
    "\n",
    "dbt('USE tranqueira')\n",
    "dbt('''\n",
    "SELECT \n",
    "    comida.Nome, perigo.Nome \n",
    "FROM \n",
    "    comida INNER JOIN perigo ON comida.idPerigo = perigo.id\n",
    "''')"
   ]
  },
  {
   "cell_type": "markdown",
   "metadata": {},
   "source": [
    "Note que a alface não aparece aqui. \n",
    "\n",
    "Se quisermos que todas as comidas apareçam neste join, mesmo que não estejam associadas a um perigo, como fazer? Para isso servem os ***outer joins***. Vamos experimentar com o **`LEFT OUTER JOIN`**:"
   ]
  },
  {
   "cell_type": "code",
   "execution_count": null,
   "metadata": {
    "scrolled": true
   },
   "outputs": [],
   "source": [
    "dbt('''\n",
    "SELECT \n",
    "    comida.Nome, \n",
    "    perigo.Nome \n",
    "FROM\n",
    "    comida\n",
    "    LEFT OUTER JOIN perigo ON comida.idPerigo = perigo.id\n",
    "''')"
   ]
  },
  {
   "cell_type": "markdown",
   "metadata": {},
   "source": [
    "Veja que agora podemos observar que a alface não oferece perigo! E se quisermos fazer o contrário: queremos que todos os perigos apareçam, mesmo que não exista comida associada? Vamos usar o **`RIGHT OUTER JOIN`**:"
   ]
  },
  {
   "cell_type": "code",
   "execution_count": null,
   "metadata": {},
   "outputs": [],
   "source": [
    "dbt('''\n",
    "SELECT \n",
    "    comida.Nome,\n",
    "    perigo.Nome\n",
    "FROM\n",
    "    comida\n",
    "    RIGHT OUTER JOIN perigo ON comida.idPerigo = perigo.id\n",
    "''')"
   ]
  },
  {
   "cell_type": "markdown",
   "metadata": {},
   "source": [
    "Agora os perigos dermatológico e mental aparecem, mas não existem comidas associadas a eles!\n",
    "\n",
    "Os dois tipos de join são redundantes: basta inverter a ordem das partes para trocar de `RIGHT OUTER JOIN` para `LEFT OUTER JOIN`. Por exemplo:"
   ]
  },
  {
   "cell_type": "code",
   "execution_count": null,
   "metadata": {},
   "outputs": [],
   "source": [
    "dbt('''\n",
    "SELECT\n",
    "    comida.Nome,\n",
    "    perigo.Nome\n",
    "FROM\n",
    "    perigo\n",
    "    LEFT OUTER JOIN comida ON comida.idPerigo = perigo.id\n",
    "''')"
   ]
  },
  {
   "cell_type": "markdown",
   "metadata": {},
   "source": [
    "#### Vamos praticar"
   ]
  },
  {
   "cell_type": "markdown",
   "metadata": {},
   "source": [
    "**Exercício 6**: Liste os perigos que não estão associados a nenhuma comida."
   ]
  },
  {
   "cell_type": "code",
   "execution_count": null,
   "metadata": {},
   "outputs": [],
   "source": [
    "sql_ex06 = '''\n",
    "-- SUA QUERY AQUI!\n",
    "'''\n",
    "\n",
    "db(sql_ex06)"
   ]
  },
  {
   "cell_type": "code",
   "execution_count": null,
   "metadata": {
    "scrolled": true
   },
   "outputs": [],
   "source": [
    "ia.sender(answer='sql_ex06', task='agg_join', question='ex06', answer_type='pyvar')"
   ]
  },
  {
   "cell_type": "markdown",
   "metadata": {},
   "source": [
    "## Finalizando o trabalho\n",
    "\n",
    "Por fim, vamos fechar nossa conexão com o banco de dados!"
   ]
  },
  {
   "cell_type": "code",
   "execution_count": null,
   "metadata": {},
   "outputs": [],
   "source": [
    "connection.close()\n",
    "connection_tranqueira.close()"
   ]
  },
  {
   "cell_type": "markdown",
   "metadata": {},
   "source": [
    "Se você tentar fechar a conexão duas vezes, nada acontecerá nesta biblioteca. Outras bibliotecas podem lançar terá uma exceção: consulte a documentação da sua biblioteca."
   ]
  },
  {
   "cell_type": "code",
   "execution_count": null,
   "metadata": {
    "scrolled": true
   },
   "outputs": [],
   "source": [
    "connection.close()"
   ]
  },
  {
   "cell_type": "markdown",
   "metadata": {},
   "source": [
    "Por hoje é só! Pratique com os exercícios do seu livro texto."
   ]
  },
  {
   "cell_type": "markdown",
   "metadata": {},
   "source": [
    "## Conferir Notas\n",
    "\n",
    "Confira se as notas na atividade são as esperadas!\n",
    "\n",
    "Primeiro na atividade atual!"
   ]
  },
  {
   "cell_type": "code",
   "execution_count": null,
   "metadata": {},
   "outputs": [],
   "source": [
    "ia.grades(by=\"task\", task=\"agg_join\")"
   ]
  },
  {
   "cell_type": "code",
   "execution_count": null,
   "metadata": {},
   "outputs": [],
   "source": [
    "ia.grades(task=\"agg_join\")"
   ]
  },
  {
   "cell_type": "markdown",
   "metadata": {},
   "source": [
    "E agora em todas as tarefas!"
   ]
  },
  {
   "cell_type": "code",
   "execution_count": null,
   "metadata": {},
   "outputs": [],
   "source": [
    "ia.grades(by=\"task\")"
   ]
  },
  {
   "cell_type": "code",
   "execution_count": null,
   "metadata": {},
   "outputs": [],
   "source": [
    "ia.grades()"
   ]
  }
 ],
 "metadata": {
  "kernelspec": {
   "display_name": "Python 3 (ipykernel)",
   "language": "python",
   "name": "python3"
  },
  "language_info": {
   "codemirror_mode": {
    "name": "ipython",
    "version": 3
   },
   "file_extension": ".py",
   "mimetype": "text/x-python",
   "name": "python",
   "nbconvert_exporter": "python",
   "pygments_lexer": "ipython3",
   "version": "3.10.12"
  }
 },
 "nbformat": 4,
 "nbformat_minor": 4
}
