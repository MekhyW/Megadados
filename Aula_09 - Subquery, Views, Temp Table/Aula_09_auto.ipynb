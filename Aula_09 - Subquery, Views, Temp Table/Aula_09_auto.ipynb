{
 "cells": [
  {
   "cell_type": "markdown",
   "metadata": {},
   "source": [
    "# Mais sobre `SELECT`\n",
    "\n",
    "- temporary tables\n",
    "- views\n",
    "- variables\n",
    "- subqueries\n"
   ]
  },
  {
   "cell_type": "code",
   "execution_count": 1,
   "metadata": {},
   "outputs": [],
   "source": [
    "from functools import partial\n",
    "from dotenv import load_dotenv\n",
    "import insperautograder.jupyter as ia\n",
    "import mysql.connector\n",
    "import os\n",
    "\n",
    "load_dotenv(override=True)\n",
    "\n",
    "connection = mysql.connector.connect(\n",
    "    host=os.getenv(\"MD_DB_SERVER\"),\n",
    "    user=os.getenv(\"MD_DB_USERNAME\"),\n",
    "    password=os.getenv(\"MD_DB_PASSWORD\"),\n",
    "    database=\"sakila\"\n",
    ")\n",
    "\n",
    "def run_db_query(connection, query, args=None):\n",
    "    with connection.cursor() as cursor:\n",
    "        print(\"Executando query:\")\n",
    "        cursor.execute(query, args)\n",
    "        for result in cursor:\n",
    "            print(result)\n",
    "\n",
    "db = partial(run_db_query, connection)"
   ]
  },
  {
   "cell_type": "markdown",
   "metadata": {},
   "source": [
    "## Exercícios para entrega\n",
    "\n",
    "Esta aula tem atividade para entrega, confira os prazos e exercícios"
   ]
  },
  {
   "cell_type": "code",
   "execution_count": 2,
   "metadata": {},
   "outputs": [
    {
     "data": {
      "text/markdown": [
       "|    | Atividade    | De                               | Até                       |\n",
       "|---:|:-------------|:---------------------------------|:--------------------------|\n",
       "|  0 | newborn      | 2023-08-08 03:00:00+00:00        | 2023-08-16 02:59:59+00:00 |\n",
       "|  1 | select01     | 2023-08-08 03:00:00+00:00        | 2023-08-21 02:59:59+00:00 |\n",
       "|  2 | ddl          | 2023-08-27 20:36:25.452000+00:00 | 2023-09-02 02:59:59+00:00 |\n",
       "|  3 | dml          | 2023-08-29 20:36:25.452000+00:00 | 2023-09-04 02:59:59+00:00 |\n",
       "|  4 | agg_join     | 2023-09-03 03:00:00+00:00        | 2023-09-09 02:59:59+00:00 |\n",
       "|  5 | group_having | 2023-09-03 03:00:00+00:00        | 2023-09-17 02:59:59+00:00 |\n",
       "|  6 | views        | 2023-09-11 03:00:00+00:00        | 2023-09-17 02:59:59+00:00 |\n",
       "|  7 | sql_review1  | 2023-09-13 03:00:00+00:00        | 2023-09-20 02:59:59+00:00 |"
      ],
      "text/plain": [
       "<IPython.core.display.Markdown object>"
      ]
     },
     "metadata": {},
     "output_type": "display_data"
    }
   ],
   "source": [
    "ia.tasks()"
   ]
  },
  {
   "cell_type": "code",
   "execution_count": 3,
   "metadata": {},
   "outputs": [
    {
     "data": {
      "text/markdown": [
       "|    | Tarefa       |     Nota |\n",
       "|---:|:-------------|---------:|\n",
       "|  0 | agg_join     | 10       |\n",
       "|  1 | ddl          |  6.66667 |\n",
       "|  2 | dml          | 10       |\n",
       "|  3 | group_having |  8.16092 |\n",
       "|  4 | newborn      | 10       |\n",
       "|  5 | select01     | 10       |\n",
       "|  6 | sql_review1  |  0       |\n",
       "|  7 | views        |  0       |"
      ],
      "text/plain": [
       "<IPython.core.display.Markdown object>"
      ]
     },
     "metadata": {},
     "output_type": "display_data"
    }
   ],
   "source": [
    "ia.grades(by=\"task\")"
   ]
  },
  {
   "cell_type": "code",
   "execution_count": 4,
   "metadata": {},
   "outputs": [
    {
     "data": {
      "text/markdown": [
       "|    | Atividade   | Exercício   |   Peso |   Nota |\n",
       "|---:|:------------|:------------|-------:|-------:|\n",
       "|  0 | views       | ex01        |      1 |      0 |\n",
       "|  1 | views       | ex02        |      1 |      0 |\n",
       "|  2 | views       | ex03        |      1 |      0 |\n",
       "|  3 | views       | ex04        |      1 |      0 |\n",
       "|  4 | views       | ex05        |      1 |      0 |\n",
       "|  5 | views       | ex06        |      1 |      0 |\n",
       "|  6 | views       | ex07        |      1 |      0 |\n",
       "|  7 | views       | ex08        |      1 |      0 |\n",
       "|  8 | views       | ex09        |      1 |      0 |\n",
       "|  9 | views       | ex10        |      1 |      0 |\n",
       "| 10 | views       | ex11        |      1 |      0 |\n",
       "| 11 | views       | ex12        |      1 |      0 |"
      ],
      "text/plain": [
       "<IPython.core.display.Markdown object>"
      ]
     },
     "metadata": {},
     "output_type": "display_data"
    }
   ],
   "source": [
    "ia.grades(task=\"views\")"
   ]
  },
  {
   "cell_type": "markdown",
   "metadata": {},
   "source": [
    "## Aquecimento"
   ]
  },
  {
   "cell_type": "markdown",
   "metadata": {},
   "source": [
    "Quanta receita foi gerada para cada categoria de filmes? Mostre o nome da categoria e a receita. Ordene da maior receita para para a menor."
   ]
  },
  {
   "cell_type": "code",
   "execution_count": 10,
   "metadata": {},
   "outputs": [
    {
     "name": "stdout",
     "output_type": "stream",
     "text": [
      "Executando query:\n",
      "('Sports', Decimal('5314.21'))\n",
      "('Sci-Fi', Decimal('4756.98'))\n",
      "('Animation', Decimal('4656.30'))\n",
      "('Drama', Decimal('4587.39'))\n",
      "('Comedy', Decimal('4383.58'))\n",
      "('Action', Decimal('4375.85'))\n",
      "('New', Decimal('4351.62'))\n",
      "('Games', Decimal('4281.33'))\n",
      "('Foreign', Decimal('4270.67'))\n",
      "('Family', Decimal('4226.07'))\n",
      "('Documentary', Decimal('4217.52'))\n",
      "('Horror', Decimal('3722.54'))\n",
      "('Children', Decimal('3655.55'))\n",
      "('Classics', Decimal('3639.59'))\n",
      "('Travel', Decimal('3549.64'))\n",
      "('Music', Decimal('3417.72'))\n"
     ]
    }
   ],
   "source": [
    "sql_ex01 = '''\n",
    "SELECT category.name, SUM(payment.amount) AS total\n",
    "FROM category\n",
    "    JOIN film_category ON category.category_id = film_category.category_id\n",
    "    JOIN film ON film_category.film_id = film.film_id\n",
    "    JOIN inventory ON film.film_id = inventory.film_id\n",
    "    JOIN rental ON inventory.inventory_id = rental.inventory_id\n",
    "    JOIN payment ON rental.rental_id = payment.rental_id\n",
    "GROUP BY category.name\n",
    "ORDER BY total DESC\n",
    "'''\n",
    "\n",
    "db(sql_ex01)"
   ]
  },
  {
   "cell_type": "code",
   "execution_count": 11,
   "metadata": {},
   "outputs": [
    {
     "data": {
      "application/vnd.jupyter.widget-view+json": {
       "model_id": "67bf59d0c4934f61b54a69c88d4916a6",
       "version_major": 2,
       "version_minor": 0
      },
      "text/plain": [
       "interactive(children=(Button(description='Enviar ex01', style=ButtonStyle()), Output()), _dom_classes=('widget…"
      ]
     },
     "execution_count": 11,
     "metadata": {},
     "output_type": "execute_result"
    }
   ],
   "source": [
    "ia.sender(answer='sql_ex01', task='views', question='ex01', answer_type='pyvar')"
   ]
  },
  {
   "cell_type": "markdown",
   "metadata": {},
   "source": [
    "Liste os 10 filmes mais alugados e o numero de vezes em que foram alugados. Ordene do mais alugado para o menos alugado."
   ]
  },
  {
   "cell_type": "code",
   "execution_count": 4,
   "metadata": {},
   "outputs": [
    {
     "name": "stdout",
     "output_type": "stream",
     "text": [
      "Executando query:\n",
      "('BUCKET BROTHERHOOD', 34)\n",
      "('ROCKETEER MOTHER', 33)\n",
      "('RIDGEMONT SUBMARINE', 32)\n",
      "('GRIT CLOCKWORK', 32)\n",
      "('SCALAWAG DUCK', 32)\n",
      "('JUGGLER HARDLY', 32)\n",
      "('FORWARD TEMPLE', 32)\n",
      "('HOBBIT ALIEN', 31)\n",
      "('ROBBERS JOON', 31)\n",
      "('ZORRO ARK', 31)\n"
     ]
    }
   ],
   "source": [
    "sql_ex02 = '''\n",
    "SELECT film.title, COUNT(rental.rental_id) AS total_rentals\n",
    "FROM\n",
    "    rental\n",
    "    INNER JOIN inventory USING (inventory_id)\n",
    "    INNER JOIN film USING (film_id)\n",
    "GROUP BY\n",
    "    film.film_id\n",
    "ORDER BY\n",
    "    total_rentals DESC\n",
    "LIMIT 10\n",
    "'''\n",
    "\n",
    "db(sql_ex02)"
   ]
  },
  {
   "cell_type": "code",
   "execution_count": 5,
   "metadata": {},
   "outputs": [
    {
     "data": {
      "application/vnd.jupyter.widget-view+json": {
       "model_id": "2c3f18dae3454f35b931b9434c7978ed",
       "version_major": 2,
       "version_minor": 0
      },
      "text/plain": [
       "interactive(children=(Button(description='Enviar ex02', style=ButtonStyle()), Output()), _dom_classes=('widget…"
      ]
     },
     "execution_count": 5,
     "metadata": {},
     "output_type": "execute_result"
    }
   ],
   "source": [
    "ia.sender(answer='sql_ex02', task='views', question='ex02', answer_type='pyvar')"
   ]
  },
  {
   "cell_type": "markdown",
   "metadata": {},
   "source": [
    "**DESAFIO:** Liste os filmes e o numero de vezes em que foram alugados apenas para filmes que foram alugados mais do que a média de numero de alugueis por filme. *Dica*: Serão necessários múltiplos SELECTs. Faça cada um em uma célula diferente."
   ]
  },
  {
   "cell_type": "code",
   "execution_count": null,
   "metadata": {},
   "outputs": [],
   "source": [
    "db('''\n",
    "-- SUA QUERY AQUI!\n",
    "''')\n",
    "\n",
    "db('''\n",
    "-- SUA QUERY AQUI!\n",
    "''')\n",
    "\n",
    "db('''\n",
    "-- SUA QUERY AQUI!\n",
    "''')\n",
    "\n",
    "db('''\n",
    "-- SUA QUERY AQUI!\n",
    "''')"
   ]
  },
  {
   "cell_type": "markdown",
   "metadata": {
    "tags": []
   },
   "source": [
    "## Views\n",
    "\n",
    "Uma *view* é uma tabela virtual, construida a partir de um comando `SELECT`. Por exemplo: execute o código a seguir."
   ]
  },
  {
   "cell_type": "code",
   "execution_count": 12,
   "metadata": {},
   "outputs": [
    {
     "name": "stdout",
     "output_type": "stream",
     "text": [
      "Executando query:\n",
      "Executando query:\n"
     ]
    }
   ],
   "source": [
    "db('''\n",
    "DROP VIEW IF EXISTS movie_count;\n",
    "''')\n",
    "\n",
    "db('''\n",
    "CREATE VIEW movie_count AS\n",
    "    SELECT \n",
    "        title, COUNT(rental_id) as cnt\n",
    "    FROM\n",
    "        film\n",
    "        LEFT OUTER JOIN inventory USING (film_id)\n",
    "        LEFT OUTER JOIN rental USING (inventory_id)\n",
    "    GROUP BY\n",
    "        film_id\n",
    "    ORDER BY\n",
    "        cnt ASC;\n",
    "''')"
   ]
  },
  {
   "cell_type": "markdown",
   "metadata": {},
   "source": [
    "Agora temos uma *view* chamada `movie_count`. Vamos verificar que ela funcionou, listando as 30 primeiras linhas:"
   ]
  },
  {
   "cell_type": "code",
   "execution_count": 13,
   "metadata": {},
   "outputs": [
    {
     "name": "stdout",
     "output_type": "stream",
     "text": [
      "Executando query:\n",
      "('ALICE FANTASIA', 0)\n",
      "('APOLLO TEEN', 0)\n",
      "('ARGONAUTS TOWN', 0)\n",
      "('ARK RIDGEMONT', 0)\n",
      "('ARSENIC INDEPENDENCE', 0)\n",
      "('BOONDOCK BALLROOM', 0)\n",
      "('BUTCH PANTHER', 0)\n",
      "('CATCH AMISTAD', 0)\n",
      "('CHINATOWN GLADIATOR', 0)\n",
      "('CHOCOLATE DUCK', 0)\n",
      "('COMMANDMENTS EXPRESS', 0)\n",
      "('CROSSING DIVORCE', 0)\n",
      "('CROWDS TELEMARK', 0)\n",
      "('CRYSTAL BREAKING', 0)\n",
      "('DAZED PUNK', 0)\n",
      "('DELIVERANCE MULHOLLAND', 0)\n",
      "('FIREHOUSE VIETNAM', 0)\n",
      "('FLOATS GARDEN', 0)\n",
      "('FRANKENSTEIN STRANGER', 0)\n",
      "('GLADIATOR WESTWARD', 0)\n",
      "('GUMP DATE', 0)\n",
      "('HATE HANDICAP', 0)\n",
      "('HOCUS FRIDA', 0)\n",
      "('KENTUCKIAN GIANT', 0)\n",
      "('KILL BROTHERHOOD', 0)\n",
      "('MUPPET MILE', 0)\n",
      "('ORDER BETRAYED', 0)\n",
      "('PEARL DESTINY', 0)\n",
      "('PERDITION FARGO', 0)\n",
      "('PSYCHO SHRUNK', 0)\n"
     ]
    }
   ],
   "source": [
    "db('''\n",
    "SELECT \n",
    "    *\n",
    "FROM\n",
    "    movie_count \n",
    "LIMIT \n",
    "    30\n",
    "''')"
   ]
  },
  {
   "cell_type": "code",
   "execution_count": 14,
   "metadata": {},
   "outputs": [
    {
     "name": "stdout",
     "output_type": "stream",
     "text": [
      "Executando query:\n",
      "('BUCKET BROTHERHOOD', 34)\n",
      "('ROCKETEER MOTHER', 33)\n",
      "('JUGGLER HARDLY', 32)\n",
      "('GRIT CLOCKWORK', 32)\n",
      "('FORWARD TEMPLE', 32)\n",
      "('SCALAWAG DUCK', 32)\n",
      "('RIDGEMONT SUBMARINE', 32)\n",
      "('ZORRO ARK', 31)\n",
      "('WIFE TURN', 31)\n",
      "('TIMBERLAND SKY', 31)\n",
      "('RUSH GOODFELLAS', 31)\n",
      "('ROBBERS JOON', 31)\n",
      "('NETWORK PEAK', 31)\n",
      "('HOBBIT ALIEN', 31)\n",
      "('GOODFELLAS SALUTE', 31)\n",
      "('APACHE DIVINE', 31)\n",
      "('WITCHES PANIC', 30)\n",
      "('SUSPECTS QUILLS', 30)\n",
      "('SHOCK CABIN', 30)\n",
      "('RUGRATS SHAKESPEARE', 30)\n",
      "('PULP BEVERLY', 30)\n",
      "('MUSCLE BRIGHT', 30)\n",
      "('MASSACRE USUAL', 30)\n",
      "('MARRIED GO', 30)\n",
      "('IDOLS SNATCHERS', 30)\n",
      "('HARRY IDAHO', 30)\n",
      "('GRAFFITI LOVE', 30)\n",
      "('FROST HEAD', 30)\n",
      "('ENGLISH BULWORTH', 30)\n",
      "('DOGMA FAMILY', 30)\n"
     ]
    }
   ],
   "source": [
    "db('''\n",
    "SELECT \n",
    "    * \n",
    "FROM \n",
    "    movie_count \n",
    "ORDER BY\n",
    "    cnt DESC\n",
    "LIMIT 30\n",
    "''')"
   ]
  },
  {
   "cell_type": "markdown",
   "metadata": {},
   "source": [
    "Agora suponha que alteramos a tabela `film`, mudando o nome do filme \"DAZED PUNK\" para \"STONED PUNK\".\n",
    "\n",
    "**Atividade**: Do it."
   ]
  },
  {
   "cell_type": "code",
   "execution_count": 15,
   "metadata": {},
   "outputs": [
    {
     "name": "stdout",
     "output_type": "stream",
     "text": [
      "Executando query:\n"
     ]
    }
   ],
   "source": [
    "db('''\n",
    "UPDATE\n",
    "    film\n",
    "SET\n",
    "    title = 'STONED PUNK'\n",
    "WHERE\n",
    "    title = 'DAZED PUNK'\n",
    "''')"
   ]
  },
  {
   "cell_type": "markdown",
   "metadata": {},
   "source": [
    "Verifique agora a nossa *view*:"
   ]
  },
  {
   "cell_type": "code",
   "execution_count": 16,
   "metadata": {},
   "outputs": [
    {
     "name": "stdout",
     "output_type": "stream",
     "text": [
      "Executando query:\n",
      "('ALICE FANTASIA', 0)\n",
      "('APOLLO TEEN', 0)\n",
      "('ARGONAUTS TOWN', 0)\n",
      "('ARK RIDGEMONT', 0)\n",
      "('ARSENIC INDEPENDENCE', 0)\n",
      "('BOONDOCK BALLROOM', 0)\n",
      "('BUTCH PANTHER', 0)\n",
      "('CATCH AMISTAD', 0)\n",
      "('CHINATOWN GLADIATOR', 0)\n",
      "('CHOCOLATE DUCK', 0)\n",
      "('COMMANDMENTS EXPRESS', 0)\n",
      "('CROSSING DIVORCE', 0)\n",
      "('CROWDS TELEMARK', 0)\n",
      "('CRYSTAL BREAKING', 0)\n",
      "('STONED PUNK', 0)\n",
      "('DELIVERANCE MULHOLLAND', 0)\n",
      "('FIREHOUSE VIETNAM', 0)\n",
      "('FLOATS GARDEN', 0)\n",
      "('FRANKENSTEIN STRANGER', 0)\n",
      "('GLADIATOR WESTWARD', 0)\n",
      "('GUMP DATE', 0)\n",
      "('HATE HANDICAP', 0)\n",
      "('HOCUS FRIDA', 0)\n",
      "('KENTUCKIAN GIANT', 0)\n",
      "('KILL BROTHERHOOD', 0)\n",
      "('MUPPET MILE', 0)\n",
      "('ORDER BETRAYED', 0)\n",
      "('PEARL DESTINY', 0)\n",
      "('PERDITION FARGO', 0)\n",
      "('PSYCHO SHRUNK', 0)\n"
     ]
    }
   ],
   "source": [
    "db('''\n",
    "SELECT\n",
    "    *\n",
    "FROM\n",
    "    movie_count\n",
    "LIMIT\n",
    "    30\n",
    "''')"
   ]
  },
  {
   "cell_type": "markdown",
   "metadata": {},
   "source": [
    "Como você pode ver, as views são tabelas virtuais que são automaticamente atualizadas quando as tabelas originais são modificadas."
   ]
  },
  {
   "cell_type": "code",
   "execution_count": 17,
   "metadata": {},
   "outputs": [],
   "source": [
    "connection.rollback()"
   ]
  },
  {
   "cell_type": "code",
   "execution_count": 18,
   "metadata": {},
   "outputs": [
    {
     "name": "stdout",
     "output_type": "stream",
     "text": [
      "Executando query:\n",
      "('ALICE FANTASIA', 0)\n",
      "('APOLLO TEEN', 0)\n",
      "('ARGONAUTS TOWN', 0)\n",
      "('ARK RIDGEMONT', 0)\n",
      "('ARSENIC INDEPENDENCE', 0)\n",
      "('BOONDOCK BALLROOM', 0)\n",
      "('BUTCH PANTHER', 0)\n",
      "('CATCH AMISTAD', 0)\n",
      "('CHINATOWN GLADIATOR', 0)\n",
      "('CHOCOLATE DUCK', 0)\n",
      "('COMMANDMENTS EXPRESS', 0)\n",
      "('CROSSING DIVORCE', 0)\n",
      "('CROWDS TELEMARK', 0)\n",
      "('CRYSTAL BREAKING', 0)\n",
      "('DAZED PUNK', 0)\n",
      "('DELIVERANCE MULHOLLAND', 0)\n",
      "('FIREHOUSE VIETNAM', 0)\n",
      "('FLOATS GARDEN', 0)\n",
      "('FRANKENSTEIN STRANGER', 0)\n",
      "('GLADIATOR WESTWARD', 0)\n",
      "('GUMP DATE', 0)\n",
      "('HATE HANDICAP', 0)\n",
      "('HOCUS FRIDA', 0)\n",
      "('KENTUCKIAN GIANT', 0)\n",
      "('KILL BROTHERHOOD', 0)\n",
      "('MUPPET MILE', 0)\n",
      "('ORDER BETRAYED', 0)\n",
      "('PEARL DESTINY', 0)\n",
      "('PERDITION FARGO', 0)\n",
      "('PSYCHO SHRUNK', 0)\n"
     ]
    }
   ],
   "source": [
    "db('''\n",
    "SELECT\n",
    "    *\n",
    "FROM\n",
    "    movie_count\n",
    "LIMIT\n",
    "    30\n",
    "''')"
   ]
  },
  {
   "cell_type": "markdown",
   "metadata": {},
   "source": [
    "### Vamos praticar"
   ]
  },
  {
   "cell_type": "markdown",
   "metadata": {},
   "source": [
    "Verifique quantas vezes o filme \"COWBOY DOOM\" foi alugado usando a view `movie_count`"
   ]
  },
  {
   "cell_type": "code",
   "execution_count": 19,
   "metadata": {},
   "outputs": [
    {
     "name": "stdout",
     "output_type": "stream",
     "text": [
      "Executando query:\n",
      "(7,)\n"
     ]
    }
   ],
   "source": [
    "sql_ex03 = '''\n",
    "SELECT cnt FROM movie_count WHERE title = 'COWBOY DOOM'\n",
    "'''\n",
    "\n",
    "db(sql_ex03)"
   ]
  },
  {
   "cell_type": "code",
   "execution_count": 20,
   "metadata": {},
   "outputs": [
    {
     "data": {
      "application/vnd.jupyter.widget-view+json": {
       "model_id": "e2ace8df8be34262b12dc222c9979d8b",
       "version_major": 2,
       "version_minor": 0
      },
      "text/plain": [
       "interactive(children=(Button(description='Enviar ex03', style=ButtonStyle()), Output()), _dom_classes=('widget…"
      ]
     },
     "execution_count": 20,
     "metadata": {},
     "output_type": "execute_result"
    }
   ],
   "source": [
    "ia.sender(answer='sql_ex03', task='views', question='ex03', answer_type='pyvar')"
   ]
  },
  {
   "cell_type": "markdown",
   "metadata": {},
   "source": [
    "Registre um aluguel do filme \"COWBOY DOOM\" (com o menor id possível), feito pelo funcionario \"Jon Stephens\" na loja id=1 para o cliente \"JESSIE BANKS\", na data '2019-01-01', com data de retorno '2019-01-08'."
   ]
  },
  {
   "cell_type": "code",
   "execution_count": 21,
   "metadata": {},
   "outputs": [
    {
     "name": "stdout",
     "output_type": "stream",
     "text": [
      "Executando query:\n"
     ]
    }
   ],
   "source": [
    "sql_ex04 = '''\n",
    "INSERT INTO\n",
    "    rental\n",
    "VALUES (\n",
    "    0,\n",
    "    '2023-09-11 12:42:07',\n",
    "    (SELECT inventory_id FROM inventory WHERE film_id = (SELECT film_id FROM film WHERE title = 'COWBOY DOOM') LIMIT 1),\n",
    "    (SELECT customer_id FROM customer WHERE first_name = 'JESSIE' AND last_name = 'BANKS'),\n",
    "    '2023-01-08 00:00:00',\n",
    "    (SELECT staff_id FROM staff WHERE first_name = 'Jon' AND last_name = 'Stephens'),\n",
    "    current_date\n",
    ")\n",
    "'''\n",
    "\n",
    "db(sql_ex04)"
   ]
  },
  {
   "cell_type": "code",
   "execution_count": 22,
   "metadata": {},
   "outputs": [
    {
     "data": {
      "application/vnd.jupyter.widget-view+json": {
       "model_id": "ea15bfcf7bad4eed80470d4fcd48bdcb",
       "version_major": 2,
       "version_minor": 0
      },
      "text/plain": [
       "interactive(children=(Button(description='Enviar ex04', style=ButtonStyle()), Output()), _dom_classes=('widget…"
      ]
     },
     "execution_count": 22,
     "metadata": {},
     "output_type": "execute_result"
    }
   ],
   "source": [
    "ia.sender(answer='sql_ex04', task='views', question='ex04', answer_type='pyvar')"
   ]
  },
  {
   "cell_type": "markdown",
   "metadata": {},
   "source": [
    "Verifique usando a view que a contagem de alugueis do filme subiu."
   ]
  },
  {
   "cell_type": "code",
   "execution_count": 23,
   "metadata": {},
   "outputs": [
    {
     "name": "stdout",
     "output_type": "stream",
     "text": [
      "Executando query:\n",
      "('COWBOY DOOM', 8)\n"
     ]
    }
   ],
   "source": [
    "db('''\n",
    "SELECT\n",
    "    *\n",
    "FROM\n",
    "    movie_count\n",
    "WHERE\n",
    "    title = 'COWBOY DOOM'\n",
    "''')"
   ]
  },
  {
   "cell_type": "markdown",
   "metadata": {},
   "source": [
    "Faça o *rollback* desta alteração, para não modificar a nossa querida base de dados *sakila*."
   ]
  },
  {
   "cell_type": "code",
   "execution_count": 24,
   "metadata": {},
   "outputs": [],
   "source": [
    "connection.rollback()"
   ]
  },
  {
   "cell_type": "markdown",
   "metadata": {},
   "source": [
    "## Tabelas temporárias"
   ]
  },
  {
   "cell_type": "markdown",
   "metadata": {},
   "source": [
    "Tabelas temporárias podem ser criadas para ajudar nas tarefas de manipulação de dados. Essas tabelas existem apenas pela duração da sessão. Para criar uma tabela temporária, basta adicionar a palavra-chave `TEMPORARY` no momento da criação.\n",
    "\n",
    "É comum criar tabelas temporárias à partir do resultado de comandos `SELECT`. Por exemplo, a seguinte query permite montar uma tabela temporária com os filmes que duram mais que 3 horas:"
   ]
  },
  {
   "cell_type": "code",
   "execution_count": 25,
   "metadata": {},
   "outputs": [
    {
     "name": "stdout",
     "output_type": "stream",
     "text": [
      "Executando query:\n",
      "Executando query:\n"
     ]
    }
   ],
   "source": [
    "db('''\n",
    "DROP TABLE IF EXISTS long_film\n",
    "''')\n",
    "\n",
    "db('''\n",
    "CREATE TEMPORARY TABLE long_film \n",
    "    SELECT\n",
    "        *\n",
    "    FROM\n",
    "        film\n",
    "    WHERE\n",
    "        film.length > 180;\n",
    "''')"
   ]
  },
  {
   "cell_type": "markdown",
   "metadata": {},
   "source": [
    "Podemos verificar que a tabela `long_film` agora existe:"
   ]
  },
  {
   "cell_type": "code",
   "execution_count": 26,
   "metadata": {
    "scrolled": true,
    "tags": []
   },
   "outputs": [
    {
     "name": "stdout",
     "output_type": "stream",
     "text": [
      "Executando query:\n",
      "('film_id', 'smallint unsigned', 'NO', '', '0', 'NULL')\n",
      "('title', 'varchar(128)', 'NO', '', None, 'NULL')\n",
      "('description', 'text', 'YES', '', None, 'NULL')\n",
      "('release_year', 'year', 'YES', '', None, 'NULL')\n",
      "('language_id', 'tinyint unsigned', 'NO', '', None, 'NULL')\n",
      "('original_language_id', 'tinyint unsigned', 'YES', '', None, 'NULL')\n",
      "('rental_duration', 'tinyint unsigned', 'NO', '', '3', 'NULL')\n",
      "('rental_rate', 'decimal(4,2)', 'NO', '', '4.99', 'NULL')\n",
      "('length', 'smallint unsigned', 'YES', '', None, 'NULL')\n",
      "('replacement_cost', 'decimal(5,2)', 'NO', '', '19.99', 'NULL')\n",
      "('rating', \"enum('G','PG','PG-13','R','NC-17')\", 'YES', '', 'G', 'NULL')\n",
      "('special_features', \"set('Trailers','Commentaries','Deleted Scenes','Behind the Scenes')\", 'YES', '', None, 'NULL')\n",
      "('last_update', 'timestamp', 'NO', '', 'CURRENT_TIMESTAMP', 'on update CURRENT_TIMESTAMP')\n"
     ]
    }
   ],
   "source": [
    "db('DESCRIBE long_film')"
   ]
  },
  {
   "cell_type": "code",
   "execution_count": 27,
   "metadata": {},
   "outputs": [
    {
     "name": "stdout",
     "output_type": "stream",
     "text": [
      "Executando query:\n",
      "Executando query:\n",
      "('TEMPORARY',)\n"
     ]
    }
   ],
   "source": [
    "db(\"CALL sys.table_exists('sakila', 'long_film', @table_type);\")\n",
    "db(\"SELECT @table_type;\")"
   ]
  },
  {
   "cell_type": "markdown",
   "metadata": {},
   "source": [
    "Muito embora ela não apareça na lista de tabelas: isso é um bug do MySQL. (https://dev.mysql.com/worklog/task/?id=648)"
   ]
  },
  {
   "cell_type": "code",
   "execution_count": 28,
   "metadata": {},
   "outputs": [
    {
     "name": "stdout",
     "output_type": "stream",
     "text": [
      "Executando query:\n",
      "('actor',)\n",
      "('actor_info',)\n",
      "('address',)\n",
      "('category',)\n",
      "('city',)\n",
      "('country',)\n",
      "('customer',)\n",
      "('customer_list',)\n",
      "('film',)\n",
      "('film_actor',)\n",
      "('film_category',)\n",
      "('film_list',)\n",
      "('film_text',)\n",
      "('inventory',)\n",
      "('language',)\n",
      "('movie_count',)\n",
      "('nicer_but_slower_film_list',)\n",
      "('payment',)\n",
      "('rental',)\n",
      "('sales_by_film_category',)\n",
      "('sales_by_store',)\n",
      "('staff',)\n",
      "('staff_list',)\n",
      "('store',)\n"
     ]
    }
   ],
   "source": [
    "db('SHOW TABLES')"
   ]
  },
  {
   "cell_type": "markdown",
   "metadata": {},
   "source": [
    "Vamos listar o conteudo desta tabela:"
   ]
  },
  {
   "cell_type": "code",
   "execution_count": 29,
   "metadata": {
    "tags": []
   },
   "outputs": [
    {
     "name": "stdout",
     "output_type": "stream",
     "text": [
      "Executando query:\n",
      "('ANALYZE HOOSIERS',)\n",
      "('BAKED CLEOPATRA',)\n",
      "('CATCH AMISTAD',)\n",
      "('CHICAGO NORTH',)\n",
      "('CONSPIRACY SPIRIT',)\n",
      "('CONTROL ANTHEM',)\n",
      "('CRYSTAL BREAKING',)\n",
      "('DARN FORRESTER',)\n",
      "('FRONTIER CABIN',)\n",
      "('GANGS PRIDE',)\n",
      "('HAUNTING PIANIST',)\n",
      "('HOME PITY',)\n",
      "('HOTEL HAPPINESS',)\n",
      "('INTRIGUE WORST',)\n",
      "('JACKET FRISCO',)\n",
      "('KING EVOLUTION',)\n",
      "('LAWLESS VISION',)\n",
      "('LOVE SUICIDES',)\n",
      "('MONSOON CAUSE',)\n",
      "('MOONWALKER FOOL',)\n",
      "('MUSCLE BRIGHT',)\n",
      "('POND SEATTLE',)\n",
      "('RECORDS ZORRO',)\n",
      "('REDS POCUS',)\n",
      "('RUNAWAY TENENBAUMS',)\n",
      "('SATURN NAME',)\n",
      "('SCALAWAG DUCK',)\n",
      "('SEARCHERS WAIT',)\n",
      "('SMOOCHY CONTROL',)\n",
      "('SOLDIERS EVOLUTION',)\n",
      "('SONS INTERVIEW',)\n",
      "('SORORITY QUEEN',)\n",
      "('STAR OPERATION',)\n",
      "('SWEET BROTHERHOOD',)\n",
      "('THEORY MERMAID',)\n",
      "('WIFE TURN',)\n",
      "('WILD APOLLO',)\n",
      "('WORST BANGER',)\n",
      "('YOUNG LANGUAGE',)\n"
     ]
    }
   ],
   "source": [
    "db('SELECT title FROM long_film')"
   ]
  },
  {
   "cell_type": "markdown",
   "metadata": {},
   "source": [
    "Vamos apagar a tabela `long_film`:"
   ]
  },
  {
   "cell_type": "code",
   "execution_count": 30,
   "metadata": {},
   "outputs": [
    {
     "name": "stdout",
     "output_type": "stream",
     "text": [
      "Executando query:\n"
     ]
    }
   ],
   "source": [
    "db('DROP TABLE long_film')"
   ]
  },
  {
   "cell_type": "markdown",
   "metadata": {},
   "source": [
    "### Vamos praticar"
   ]
  },
  {
   "cell_type": "markdown",
   "metadata": {},
   "source": [
    "- Crie uma tabela temporária `max_duration` que contém a duração máxima de filme para cada categoria. Apresente o id da categoria, seu nome e a duração máxima."
   ]
  },
  {
   "cell_type": "code",
   "execution_count": 31,
   "metadata": {},
   "outputs": [
    {
     "name": "stdout",
     "output_type": "stream",
     "text": [
      "Executando query:\n",
      "Executando query:\n"
     ]
    }
   ],
   "source": [
    "db('DROP TABLE IF EXISTS max_duration')\n",
    "\n",
    "sql_ex05 = '''\n",
    "CREATE TEMPORARY TABLE max_duration\n",
    "SELECT\n",
    "    category_id, name, MAX(film.length) as max_len\n",
    "FROM\n",
    "    film\n",
    "    INNER JOIN film_category USING (film_id)\n",
    "    INNER JOIN category USING (category_id)\n",
    "GROUP BY\n",
    "    category_id\n",
    "'''\n",
    "\n",
    "db(sql_ex05)"
   ]
  },
  {
   "cell_type": "code",
   "execution_count": 32,
   "metadata": {},
   "outputs": [
    {
     "data": {
      "application/vnd.jupyter.widget-view+json": {
       "model_id": "3a25047b6f9048509690eb23d13d8213",
       "version_major": 2,
       "version_minor": 0
      },
      "text/plain": [
       "interactive(children=(Button(description='Enviar ex05', style=ButtonStyle()), Output()), _dom_classes=('widget…"
      ]
     },
     "execution_count": 32,
     "metadata": {},
     "output_type": "execute_result"
    }
   ],
   "source": [
    "ia.sender(answer='sql_ex05', task='views', question='ex05', answer_type='pyvar')"
   ]
  },
  {
   "cell_type": "markdown",
   "metadata": {},
   "source": [
    " - Verifique a tabela."
   ]
  },
  {
   "cell_type": "code",
   "execution_count": 33,
   "metadata": {},
   "outputs": [
    {
     "name": "stdout",
     "output_type": "stream",
     "text": [
      "Executando query:\n",
      "(1, 'Action', 185)\n",
      "(2, 'Animation', 185)\n",
      "(3, 'Children', 178)\n",
      "(4, 'Classics', 184)\n",
      "(5, 'Comedy', 185)\n",
      "(6, 'Documentary', 183)\n",
      "(7, 'Drama', 181)\n",
      "(8, 'Family', 184)\n",
      "(9, 'Foreign', 184)\n",
      "(10, 'Games', 185)\n",
      "(11, 'Horror', 181)\n",
      "(12, 'Music', 185)\n",
      "(13, 'New', 183)\n",
      "(14, 'Sci-Fi', 185)\n",
      "(15, 'Sports', 184)\n",
      "(16, 'Travel', 185)\n"
     ]
    }
   ],
   "source": [
    "db('SELECT * FROM max_duration')"
   ]
  },
  {
   "cell_type": "code",
   "execution_count": 34,
   "metadata": {},
   "outputs": [
    {
     "name": "stdout",
     "output_type": "stream",
     "text": [
      "Executando query:\n",
      "('category_id', 'tinyint unsigned', 'NO', '', None, 'NULL')\n",
      "('name', 'varchar(25)', 'NO', '', None, 'NULL')\n",
      "('max_len', 'smallint unsigned', 'YES', '', None, 'NULL')\n"
     ]
    }
   ],
   "source": [
    "db('DESCRIBE max_duration')"
   ]
  },
  {
   "cell_type": "markdown",
   "metadata": {},
   "source": [
    "- Agora use a tabela temporária para construir uma consulta com as categorias e seus respectivos filmes mais longos:"
   ]
  },
  {
   "cell_type": "code",
   "execution_count": 35,
   "metadata": {},
   "outputs": [
    {
     "name": "stdout",
     "output_type": "stream",
     "text": [
      "Executando query:\n",
      "(1, 'Action', 212, 'DARN FORRESTER', 185)\n",
      "(1, 'Action', 991, 'WORST BANGER', 185)\n",
      "(2, 'Animation', 349, 'GANGS PRIDE', 185)\n",
      "(2, 'Animation', 690, 'POND SEATTLE', 185)\n",
      "(3, 'Children', 344, 'FURY MURDER', 178)\n",
      "(3, 'Children', 993, 'WRONG BEHAVIOR', 178)\n",
      "(4, 'Classics', 180, 'CONSPIRACY SPIRIT', 184)\n",
      "(5, 'Comedy', 182, 'CONTROL ANTHEM', 185)\n",
      "(6, 'Documentary', 973, 'WIFE TURN', 183)\n",
      "(6, 'Documentary', 996, 'YOUNG LANGUAGE', 183)\n",
      "(7, 'Drama', 473, 'JACKET FRISCO', 181)\n",
      "(8, 'Family', 499, 'KING EVOLUTION', 184)\n",
      "(9, 'Foreign', 198, 'CRYSTAL BREAKING', 184)\n",
      "(9, 'Foreign', 821, 'SORORITY QUEEN', 184)\n",
      "(10, 'Games', 141, 'CHICAGO NORTH', 185)\n",
      "(11, 'Horror', 24, 'ANALYZE HOOSIERS', 181)\n",
      "(11, 'Horror', 535, 'LOVE SUICIDES', 181)\n",
      "(12, 'Music', 426, 'HOME PITY', 185)\n",
      "(13, 'New', 340, 'FRONTIER CABIN', 183)\n",
      "(14, 'Sci-Fi', 817, 'SOLDIERS EVOLUTION', 185)\n",
      "(15, 'Sports', 813, 'SMOOCHY CONTROL', 184)\n",
      "(16, 'Travel', 609, 'MUSCLE BRIGHT', 185)\n",
      "(16, 'Travel', 872, 'SWEET BROTHERHOOD', 185)\n"
     ]
    }
   ],
   "source": [
    "db('''\n",
    "SELECT\n",
    "    category_id, name, film_id, title, length\n",
    "FROM\n",
    "    film\n",
    "    INNER JOIN film_category USING (film_id)\n",
    "    INNER JOIN max_duration USING (category_id)\n",
    "WHERE\n",
    "    length = max_len\n",
    "''')"
   ]
  },
  {
   "cell_type": "markdown",
   "metadata": {},
   "source": [
    "- delete a tabela temporária"
   ]
  },
  {
   "cell_type": "code",
   "execution_count": 36,
   "metadata": {},
   "outputs": [
    {
     "name": "stdout",
     "output_type": "stream",
     "text": [
      "Executando query:\n"
     ]
    }
   ],
   "source": [
    "db('''\n",
    "DROP TABLE max_duration\n",
    "''')"
   ]
  },
  {
   "cell_type": "markdown",
   "metadata": {
    "tags": []
   },
   "source": [
    "## Variáveis\n",
    "\n",
    "Podemos montar uma query que retorne um valor só e armazenar este valor em uma variável, para uso posterior em outras queries. Para isso vamos usar o prefixo '@' para indicar variáveis, e o comando `SELECT ... INTO`.\n",
    "\n",
    "Exemplo: quais são os filmes \"caros\" da nossa base sakila? Vamos descobrir quais filmes custam mais que um desvio padrão acima da média de preços de locação.\n",
    "\n",
    "Primeiro vamos calcular a média e o desvio padrão dos preços de aluguel:"
   ]
  },
  {
   "cell_type": "code",
   "execution_count": 37,
   "metadata": {},
   "outputs": [
    {
     "name": "stdout",
     "output_type": "stream",
     "text": [
      "Executando query:\n"
     ]
    }
   ],
   "source": [
    "db('''\n",
    "SELECT \n",
    "    AVG(rental_rate), \n",
    "    STDDEV(rental_rate)\n",
    "INTO \n",
    "    @avg_rate, \n",
    "    @stddev_rate \n",
    "FROM\n",
    "    film;\n",
    "''')"
   ]
  },
  {
   "cell_type": "markdown",
   "metadata": {},
   "source": [
    "Note que a query não retorna um resultado: o resultado foi armazenado direto nas variáveis `@avg_rate` e `@stddev_rate`. Vamos usar um `SELECT` sem tabelas para ver o resultado:"
   ]
  },
  {
   "cell_type": "code",
   "execution_count": 38,
   "metadata": {},
   "outputs": [
    {
     "name": "stdout",
     "output_type": "stream",
     "text": [
      "Executando query:\n",
      "(Decimal('2.980000000'), 1.6455698101265719)\n"
     ]
    }
   ],
   "source": [
    "db('SELECT @avg_rate, @stddev_rate')"
   ]
  },
  {
   "cell_type": "markdown",
   "metadata": {},
   "source": [
    "Agora podemos selecionar os filmes caros!"
   ]
  },
  {
   "cell_type": "code",
   "execution_count": 39,
   "metadata": {
    "tags": []
   },
   "outputs": [
    {
     "name": "stdout",
     "output_type": "stream",
     "text": [
      "Executando query:\n",
      "('ACE GOLDFINGER', Decimal('4.99'))\n",
      "('AIRPLANE SIERRA', Decimal('4.99'))\n",
      "('AIRPORT POLLOCK', Decimal('4.99'))\n",
      "('ALADDIN CALENDAR', Decimal('4.99'))\n",
      "('ALI FOREVER', Decimal('4.99'))\n",
      "('AMELIE HELLFIGHTERS', Decimal('4.99'))\n",
      "('AMERICAN CIRCUS', Decimal('4.99'))\n",
      "('ANTHEM LUKE', Decimal('4.99'))\n",
      "('APACHE DIVINE', Decimal('4.99'))\n",
      "('APOCALYPSE FLAMINGOS', Decimal('4.99'))\n"
     ]
    }
   ],
   "source": [
    "db('''\n",
    "SELECT \n",
    "    title, rental_rate\n",
    "FROM\n",
    "    film\n",
    "WHERE\n",
    "    rental_rate > @avg_rate + @stddev_rate\n",
    "LIMIT 10\n",
    "''')"
   ]
  },
  {
   "cell_type": "markdown",
   "metadata": {},
   "source": [
    "### Vamos praticar"
   ]
  },
  {
   "cell_type": "markdown",
   "metadata": {},
   "source": [
    "Armazene na variável temporária `max_films` a quantidade de filmes feitos pelo ator ou atriz que mais participou de filmes."
   ]
  },
  {
   "cell_type": "code",
   "execution_count": 43,
   "metadata": {},
   "outputs": [
    {
     "name": "stdout",
     "output_type": "stream",
     "text": [
      "Executando query:\n"
     ]
    }
   ],
   "source": [
    "sql_ex06 = '''\n",
    "SELECT\n",
    "    COUNT(film.film_id)\n",
    "INTO\n",
    "    @most_films\n",
    "FROM\n",
    "    film\n",
    "    INNER JOIN film_actor USING (film_id)\n",
    "    INNER JOIN actor USING (actor_id)\n",
    "GROUP BY\n",
    "    actor_id\n",
    "ORDER BY\n",
    "    COUNT(film.film_id) DESC\n",
    "LIMIT 1\n",
    "'''\n",
    "\n",
    "db(sql_ex06)"
   ]
  },
  {
   "cell_type": "code",
   "execution_count": 44,
   "metadata": {},
   "outputs": [
    {
     "name": "stdout",
     "output_type": "stream",
     "text": [
      "Executando query:\n",
      "(42,)\n"
     ]
    }
   ],
   "source": [
    "db(\"\"\"\n",
    "SELECT @most_films\n",
    "\"\"\")"
   ]
  },
  {
   "cell_type": "code",
   "execution_count": 45,
   "metadata": {},
   "outputs": [
    {
     "data": {
      "application/vnd.jupyter.widget-view+json": {
       "model_id": "3a769a46de304ab39d37b46270884017",
       "version_major": 2,
       "version_minor": 0
      },
      "text/plain": [
       "interactive(children=(Button(description='Enviar ex06', style=ButtonStyle()), Output()), _dom_classes=('widget…"
      ]
     },
     "execution_count": 45,
     "metadata": {},
     "output_type": "execute_result"
    }
   ],
   "source": [
    "ia.sender(answer='sql_ex06', task='views', question='ex06', answer_type='pyvar')"
   ]
  },
  {
   "cell_type": "markdown",
   "metadata": {},
   "source": [
    "## Operador `IN`"
   ]
  },
  {
   "cell_type": "markdown",
   "metadata": {},
   "source": [
    "Suponha que desejamos listar todos os filmes dos 3 atores mais populares. Podemos começar listando os 3 atores mais populares:"
   ]
  },
  {
   "cell_type": "code",
   "execution_count": 46,
   "metadata": {},
   "outputs": [
    {
     "name": "stdout",
     "output_type": "stream",
     "text": [
      "Executando query:\n",
      "(107, 'GINA', 'DEGENERES', 42)\n",
      "(102, 'WALTER', 'TORN', 41)\n",
      "(198, 'MARY', 'KEITEL', 40)\n"
     ]
    }
   ],
   "source": [
    "db('''\n",
    "SELECT \n",
    "    actor_id, first_name, last_name, COUNT(film_id) AS num_films\n",
    "FROM\n",
    "    actor\n",
    "    INNER JOIN film_actor USING (actor_id)\n",
    "GROUP BY \n",
    "    actor_id\n",
    "ORDER BY \n",
    "    num_films DESC\n",
    "LIMIT 3\n",
    "''')"
   ]
  },
  {
   "cell_type": "markdown",
   "metadata": {},
   "source": [
    "Vamos criar uma tabela temporária para guardar a informação de `actor_id` desses atores:"
   ]
  },
  {
   "cell_type": "code",
   "execution_count": 47,
   "metadata": {},
   "outputs": [
    {
     "name": "stdout",
     "output_type": "stream",
     "text": [
      "Executando query:\n",
      "Executando query:\n",
      "Executando query:\n",
      "('GINA', 'DEGENERES', 107)\n",
      "('WALTER', 'TORN', 102)\n",
      "('MARY', 'KEITEL', 198)\n"
     ]
    }
   ],
   "source": [
    "db('DROP TABLE IF EXISTS temp_pop_actors')\n",
    "db('''\n",
    "CREATE TEMPORARY TABLE temp_pop_actors\n",
    "    SELECT first_name, last_name, actor_id FROM\n",
    "        actor\n",
    "        INNER JOIN film_actor USING (actor_id)\n",
    "    GROUP BY \n",
    "        actor_id\n",
    "    ORDER BY \n",
    "        COUNT(film_id) DESC\n",
    "    LIMIT 3\n",
    "''')\n",
    "db('''\n",
    "SELECT * from temp_pop_actors\n",
    "''')"
   ]
  },
  {
   "cell_type": "markdown",
   "metadata": {},
   "source": [
    "Por fim, vamos usar essa informação para listar os filmes dos atores populares:"
   ]
  },
  {
   "cell_type": "code",
   "execution_count": 48,
   "metadata": {},
   "outputs": [
    {
     "name": "stdout",
     "output_type": "stream",
     "text": [
      "Executando query:\n",
      "('BED HIGHBALL',)\n",
      "('CALENDAR GUNFIGHT',)\n",
      "('CHAMBER ITALIAN',)\n",
      "('CHAPLIN LICENSE',)\n",
      "('CHARIOTS CONSPIRACY',)\n",
      "('CLUELESS BUCKET',)\n",
      "('COLDBLOODED DARLING',)\n",
      "('CONEHEADS SMOOCHY',)\n",
      "('DARKNESS WAR',)\n",
      "('DEER VIRGINIAN',)\n",
      "('DOGMA FAMILY',)\n",
      "('ELEPHANT TROJAN',)\n",
      "('EXCITEMENT EVE',)\n",
      "('FRISCO FORREST',)\n",
      "('GANDHI KWAI',)\n",
      "('GOODFELLAS SALUTE',)\n",
      "('GUNFIGHT MOON',)\n",
      "('HALL CASSIDY',)\n",
      "('HEARTBREAKERS BRIGHT',)\n",
      "('HOOK CHARIOTS',)\n",
      "('HYDE DOCTOR',)\n",
      "('IMPACT ALADDIN',)\n",
      "('INDIAN LOVE',)\n",
      "('INTRIGUE WORST',)\n",
      "('LICENSE WEEKEND',)\n",
      "('LOUISIANA HARRY',)\n",
      "('MAGNIFICENT CHITTY',)\n",
      "('METAL ARMAGEDDON',)\n",
      "('MIDNIGHT WESTWARD',)\n",
      "('MOVIE SHAKESPEARE',)\n",
      "('MUMMY CREATURES',)\n",
      "('OPEN AFRICAN',)\n",
      "('SEARCHERS WAIT',)\n",
      "('SEVEN SWARM',)\n",
      "('SIERRA DIVIDE',)\n",
      "('SPIRITED CASUALTIES',)\n",
      "('STORM HAPPINESS',)\n",
      "('SUGAR WONKA',)\n",
      "('TELEGRAPH VOYAGE',)\n",
      "('TRAINSPOTTING STRANGERS',)\n",
      "('WIFE TURN',)\n",
      "('WINDOW SIDE',)\n",
      "('AMELIE HELLFIGHTERS',)\n",
      "('ARABIA DOGMA',)\n",
      "('BANG KWAI',)\n",
      "('CASABLANCA SUPER',)\n",
      "('CASPER DRAGONFLY',)\n",
      "('CROW GREASE',)\n",
      "('CURTAIN VIDEOTAPE',)\n",
      "('DANCES NONE',)\n",
      "('EARLY HOME',)\n",
      "('FLYING HOOK',)\n",
      "('FORREST SONS',)\n",
      "('FREDDY STORM',)\n",
      "('GASLIGHT CRUSADE',)\n",
      "('HOBBIT ALIEN',)\n",
      "('HOOSIERS BIRDCAGE',)\n",
      "('HYSTERICAL GRAIL',)\n",
      "('JERSEY SASSY',)\n",
      "('LAMBS CINCINATTI',)\n",
      "('LESSON CLEOPATRA',)\n",
      "('LIES TREATMENT',)\n",
      "('LOCK REAR',)\n",
      "('LONELY ELEPHANT',)\n",
      "('MADISON TRAP',)\n",
      "('MOTIONS DETAILS',)\n",
      "('MULHOLLAND BEAST',)\n",
      "('NIGHTMARE CHILL',)\n",
      "('NOVOCAINE FLIGHT',)\n",
      "('RAIDERS ANTITRUST',)\n",
      "('REUNION WITCHES',)\n",
      "('ROOTS REMEMBER',)\n",
      "('SKY MIRACLE',)\n",
      "('SLUMS DUCK',)\n",
      "('SPIKING ELEMENT',)\n",
      "('STAGE WORLD',)\n",
      "('STEPMOM DREAM',)\n",
      "('STRANGELOVE DESIRE',)\n",
      "('WARDROBE PHANTOM',)\n",
      "('WITCHES PANIC',)\n",
      "('WIZARD COLDBLOODED',)\n",
      "('ACADEMY DINOSAUR',)\n",
      "('BUTTERFLY CHOCOLAT',)\n",
      "('CASSIDY WYOMING',)\n",
      "('CRAFT OUTFIELD',)\n",
      "('DUMBO LUST',)\n",
      "('DWARFS ALTER',)\n",
      "('FANTASY TROOPERS',)\n",
      "('FEUD FROGMEN',)\n",
      "('FICTION CHRISTMAS',)\n",
      "('GAMES BOWFINGER',)\n",
      "('GREEDY ROOTS',)\n",
      "('HANDICAP BOONDOCK',)\n",
      "('HAUNTING PIANIST',)\n",
      "('IDOLS SNATCHERS',)\n",
      "('INTENTIONS EMPIRE',)\n",
      "('JEOPARDY ENCINO',)\n",
      "('KING EVOLUTION',)\n",
      "('LOVELY JINGLE',)\n",
      "('LUKE MUMMY',)\n",
      "('MADNESS ATTACKS',)\n",
      "('MALLRATS UNITED',)\n",
      "('MEMENTO ZOOLANDER',)\n",
      "('MERMAID INSECTS',)\n",
      "('MODEL FISH',)\n",
      "('MOONWALKER FOOL',)\n",
      "('NORTHWEST POLISH',)\n",
      "('ROSES TREASURE',)\n",
      "('SAINTS BRIDE',)\n",
      "('SLEEPY JAPANESE',)\n",
      "('SOLDIERS EVOLUTION',)\n",
      "('STEEL SANTA',)\n",
      "('SUBMARINE BED',)\n",
      "('SWEDEN SHINING',)\n",
      "('THEORY MERMAID',)\n",
      "('TITANIC BOONDOCK',)\n",
      "('UNFORGIVEN ZOOLANDER',)\n",
      "('WAGON JAWS',)\n",
      "('YOUTH KICK',)\n"
     ]
    }
   ],
   "source": [
    "db('''\n",
    "SELECT DISTINCT\n",
    "    title\n",
    "FROM\n",
    "    film\n",
    "    INNER JOIN film_actor USING (film_id)\n",
    "WHERE\n",
    "    actor_id IN (SELECT actor_id FROM temp_pop_actors);\n",
    "''')"
   ]
  },
  {
   "cell_type": "markdown",
   "metadata": {},
   "source": [
    "Note o uso de *subqueries*!\n",
    "\n",
    "Não se esqueça de limpar tudo no final!"
   ]
  },
  {
   "cell_type": "code",
   "execution_count": 49,
   "metadata": {},
   "outputs": [
    {
     "name": "stdout",
     "output_type": "stream",
     "text": [
      "Executando query:\n"
     ]
    }
   ],
   "source": [
    "db('DROP TABLE temp_pop_actors')"
   ]
  },
  {
   "cell_type": "markdown",
   "metadata": {},
   "source": [
    "### Vamos praticar"
   ]
  },
  {
   "cell_type": "markdown",
   "metadata": {},
   "source": [
    "Liste os atores (id, nome e sobrenome) que participaram dos 3 filmes mais rentáveis (aqueles que mais geraram receita para a locadora) ordenados pelo id do ator de modo crescente. Para isso, crie uma tabela temporária contendo o id do filme e a quantia total e use essa tabela para listar os atores."
   ]
  },
  {
   "cell_type": "code",
   "execution_count": 50,
   "metadata": {},
   "outputs": [
    {
     "name": "stdout",
     "output_type": "stream",
     "text": [
      "Executando query:\n",
      "Executando query:\n",
      "Executando query:\n",
      "(879, Decimal('231.73'))\n",
      "(973, Decimal('223.69'))\n",
      "(1000, Decimal('214.69'))\n",
      "Executando query:\n",
      "(28, 'WOODY', 'HOFFMAN')\n",
      "(47, 'JULIA', 'BARRYMORE')\n",
      "(52, 'CARMEN', 'HUNT')\n",
      "(107, 'GINA', 'DEGENERES')\n",
      "(111, 'CAMERON', 'ZELLWEGER')\n",
      "(138, 'LUCILLE', 'DEE')\n",
      "(155, 'IAN', 'TANDY')\n",
      "(157, 'GRETA', 'MALDEN')\n",
      "(158, 'VIVIEN', 'BASINGER')\n",
      "(166, 'NICK', 'DEGENERES')\n",
      "(174, 'MICHAEL', 'BENING')\n",
      "(178, 'LISA', 'MONROE')\n",
      "(185, 'MICHAEL', 'BOLGER')\n",
      "(200, 'THORA', 'TEMPLE')\n"
     ]
    }
   ],
   "source": [
    "db('DROP TABLE IF EXISTS temp_pop_films')\n",
    "db('''\n",
    "CREATE TEMPORARY TABLE temp_pop_films\n",
    "    SELECT film_id, SUM(amount) AS total FROM\n",
    "        film\n",
    "        INNER JOIN inventory USING (film_id)\n",
    "        INNER JOIN rental USING (inventory_id)\n",
    "        INNER JOIN payment USING (rental_id)\n",
    "    GROUP BY\n",
    "        film_id\n",
    "    ORDER BY\n",
    "        total DESC\n",
    "    LIMIT 3\n",
    "''')\n",
    "db('''\n",
    "SELECT * from temp_pop_films\n",
    "''')\n",
    "db('''\n",
    "SELECT DISTINCT\n",
    "    actor_id, first_name, last_name\n",
    "FROM\n",
    "    actor\n",
    "    INNER JOIN film_actor USING (actor_id)\n",
    "WHERE\n",
    "    film_id IN (SELECT film_id FROM temp_pop_films)\n",
    "ORDER BY\n",
    "    actor_id\n",
    "''')"
   ]
  },
  {
   "cell_type": "code",
   "execution_count": 51,
   "metadata": {},
   "outputs": [
    {
     "data": {
      "application/vnd.jupyter.widget-view+json": {
       "model_id": "58cecba40deb41879eaa67237ea0ecd4",
       "version_major": 2,
       "version_minor": 0
      },
      "text/plain": [
       "interactive(children=(Button(description='Enviar ex07', style=ButtonStyle()), Output()), _dom_classes=('widget…"
      ]
     },
     "execution_count": 51,
     "metadata": {},
     "output_type": "execute_result"
    }
   ],
   "source": [
    "sql_ex07 = ['''\n",
    "CREATE TEMPORARY TABLE temp_pop_films\n",
    "    SELECT film_id, SUM(amount) AS total FROM\n",
    "        film\n",
    "        INNER JOIN inventory USING (film_id)\n",
    "        INNER JOIN rental USING (inventory_id)\n",
    "        INNER JOIN payment USING (rental_id)\n",
    "    GROUP BY\n",
    "        film_id\n",
    "    ORDER BY\n",
    "        total DESC\n",
    "    LIMIT 3\n",
    "''',\n",
    "'''\n",
    "SELECT DISTINCT\n",
    "    actor_id, first_name, last_name\n",
    "FROM\n",
    "    actor\n",
    "    INNER JOIN film_actor USING (actor_id)\n",
    "WHERE\n",
    "    film_id IN (SELECT film_id FROM temp_pop_films)\n",
    "ORDER BY\n",
    "    actor_id\n",
    "''']\n",
    "\n",
    "ia.sender(answer='sql_ex07', task='views', question='ex07', answer_type='pyvar')"
   ]
  },
  {
   "cell_type": "markdown",
   "metadata": {},
   "source": [
    "## Subqueries"
   ]
  },
  {
   "cell_type": "markdown",
   "metadata": {},
   "source": [
    "Os tópicos discutidos acima poderiam ser resolvidos, em grande parte, com subqueries. As subqueries são queries `SELECT` criadas dentro de outras queries. \n",
    "\n",
    "Poderíamos ter usado subqueries nos mesmos lugares onde usamos tabelas temporárias, nos tópicos acima. Quando a subquery pode ser transformada em uma tabela temporária independente, separada da query exterior, dizemos que a subquery é **não-correlacionada** com a query exterior.\n",
    "\n",
    "Usar subqueries não-correlacionadas é um tópico controverso: podemos sempre usar uma tabela temporária ou, ás vezes, pensar em um `JOIN` simples. Aliás, muitas vezes o otimizador de queries do banco de dados transformará a subquery em `JOIN`, se isso for vantajoso em termos de desempenho.\n",
    "\n",
    "Uma subquery que depende da query externa (e portanto não pode ser separada em uma tabela temporária independente) é chamada de **subquery correlacionada**. Nestes casos podemos ter que executar a subquery para cada linha da query exterior! "
   ]
  },
  {
   "cell_type": "markdown",
   "metadata": {},
   "source": [
    "### Vamos praticar"
   ]
  },
  {
   "cell_type": "markdown",
   "metadata": {},
   "source": [
    "Vamos refazer a atividade dos atores dos filmes mais rentáveis, usando subqueries. \n",
    "\n",
    "Temos um problema: o MySQL não suporta ``LIMIT`` em subqueries com o operador ``IN``. Vamos investigar isso mais de perto. \n",
    "\n",
    "Em primeiro lugar faça uma tradução direta da implementação da atividade anterior trocando tabela temporária por subquery."
   ]
  },
  {
   "cell_type": "code",
   "execution_count": 52,
   "metadata": {
    "scrolled": true
   },
   "outputs": [
    {
     "name": "stdout",
     "output_type": "stream",
     "text": [
      "Executando query:\n",
      "(28, 'WOODY', 'HOFFMAN')\n",
      "(47, 'JULIA', 'BARRYMORE')\n",
      "(52, 'CARMEN', 'HUNT')\n",
      "(107, 'GINA', 'DEGENERES')\n",
      "(111, 'CAMERON', 'ZELLWEGER')\n",
      "(138, 'LUCILLE', 'DEE')\n",
      "(155, 'IAN', 'TANDY')\n",
      "(157, 'GRETA', 'MALDEN')\n",
      "(158, 'VIVIEN', 'BASINGER')\n",
      "(166, 'NICK', 'DEGENERES')\n",
      "(174, 'MICHAEL', 'BENING')\n",
      "(178, 'LISA', 'MONROE')\n",
      "(185, 'MICHAEL', 'BOLGER')\n",
      "(200, 'THORA', 'TEMPLE')\n"
     ]
    }
   ],
   "source": [
    "try:\n",
    "    db('''\n",
    "    SELECT DISTINCT\n",
    "        actor_id, first_name, last_name\n",
    "    FROM\n",
    "        actor\n",
    "        INNER JOIN film_actor USING (actor_id)\n",
    "    WHERE\n",
    "        film_id IN (SELECT film_id FROM (\n",
    "            SELECT film_id, SUM(amount) AS total FROM\n",
    "                film\n",
    "                INNER JOIN inventory USING (film_id)\n",
    "                INNER JOIN rental USING (inventory_id)\n",
    "                INNER JOIN payment USING (rental_id)\n",
    "            GROUP BY\n",
    "                film_id\n",
    "            ORDER BY\n",
    "                total DESC\n",
    "            LIMIT 3\n",
    "        ) AS temp_pop_films)\n",
    "    ORDER BY\n",
    "        actor_id\n",
    "    ''')\n",
    "except mysql.connector.ProgrammingError as e:\n",
    "    print(f'ProgrammingError: {e}')"
   ]
  },
  {
   "cell_type": "markdown",
   "metadata": {},
   "source": [
    "Ok, apareceu o problema. Mas considere que o problema original não precisava de IN desde o começo! Construa essa solução."
   ]
  },
  {
   "cell_type": "code",
   "execution_count": 53,
   "metadata": {},
   "outputs": [
    {
     "name": "stdout",
     "output_type": "stream",
     "text": [
      "Executando query:\n",
      "(28, 'WOODY', 'HOFFMAN')\n",
      "(47, 'JULIA', 'BARRYMORE')\n",
      "(52, 'CARMEN', 'HUNT')\n",
      "(107, 'GINA', 'DEGENERES')\n",
      "(111, 'CAMERON', 'ZELLWEGER')\n",
      "(138, 'LUCILLE', 'DEE')\n",
      "(155, 'IAN', 'TANDY')\n",
      "(157, 'GRETA', 'MALDEN')\n",
      "(158, 'VIVIEN', 'BASINGER')\n",
      "(166, 'NICK', 'DEGENERES')\n",
      "(174, 'MICHAEL', 'BENING')\n",
      "(178, 'LISA', 'MONROE')\n",
      "(185, 'MICHAEL', 'BOLGER')\n",
      "(200, 'THORA', 'TEMPLE')\n"
     ]
    }
   ],
   "source": [
    "sql_ex08 = '''\n",
    "SELECT DISTINCT\n",
    "    actor_id, first_name, last_name\n",
    "FROM\n",
    "    actor\n",
    "    INNER JOIN film_actor USING (actor_id)\n",
    "    INNER JOIN (\n",
    "        SELECT film_id, SUM(amount) AS total FROM\n",
    "            film\n",
    "            INNER JOIN inventory USING (film_id)\n",
    "            INNER JOIN rental USING (inventory_id)\n",
    "            INNER JOIN payment USING (rental_id)\n",
    "        GROUP BY\n",
    "            film_id\n",
    "        ORDER BY\n",
    "            total DESC\n",
    "        LIMIT 3\n",
    "    ) AS temp_pop_films USING (film_id)\n",
    "ORDER BY\n",
    "    actor_id\n",
    "'''\n",
    "\n",
    "db(sql_ex08)"
   ]
  },
  {
   "cell_type": "code",
   "execution_count": 54,
   "metadata": {},
   "outputs": [
    {
     "data": {
      "application/vnd.jupyter.widget-view+json": {
       "model_id": "85c473785a7b4815be6d84c662049176",
       "version_major": 2,
       "version_minor": 0
      },
      "text/plain": [
       "interactive(children=(Button(description='Enviar ex08', style=ButtonStyle()), Output()), _dom_classes=('widget…"
      ]
     },
     "execution_count": 54,
     "metadata": {},
     "output_type": "execute_result"
    }
   ],
   "source": [
    "ia.sender(answer='sql_ex08', task='views', question='ex08', answer_type='pyvar')"
   ]
  },
  {
   "cell_type": "markdown",
   "metadata": {},
   "source": [
    "# `UNION`\n",
    "\n",
    "Quando duas tabelas tem **EXATAMENTE** as mesmas colunas, podemos concatená-las e formar uma grande tabela unificada usando o operador `UNION`. Por exemplo: suponha que desejamos montar uma lista dos nomes e sobrenomes de todos os clientes E de todos os funcionários. Eis uma solução possível:"
   ]
  },
  {
   "cell_type": "code",
   "execution_count": 55,
   "metadata": {},
   "outputs": [
    {
     "name": "stdout",
     "output_type": "stream",
     "text": [
      "Executando query:\n",
      "Executando query:\n"
     ]
    }
   ],
   "source": [
    "db('DROP TABLE IF EXISTS nomes_clientes')\n",
    "db('''\n",
    "CREATE TEMPORARY TABLE nomes_clientes \n",
    "    SELECT first_name, last_name FROM customer\n",
    "''')"
   ]
  },
  {
   "cell_type": "code",
   "execution_count": 56,
   "metadata": {},
   "outputs": [
    {
     "name": "stdout",
     "output_type": "stream",
     "text": [
      "Executando query:\n",
      "('first_name', 'varchar(45)', 'NO', '', None, 'NULL')\n",
      "('last_name', 'varchar(45)', 'NO', '', None, 'NULL')\n",
      "Executando query:\n",
      "('MARY', 'SMITH')\n",
      "('PATRICIA', 'JOHNSON')\n",
      "('LINDA', 'WILLIAMS')\n",
      "('BARBARA', 'JONES')\n",
      "('ELIZABETH', 'BROWN')\n"
     ]
    }
   ],
   "source": [
    "db('DESCRIBE nomes_clientes')\n",
    "db('SELECT * FROM nomes_clientes LIMIT 5')"
   ]
  },
  {
   "cell_type": "code",
   "execution_count": 57,
   "metadata": {},
   "outputs": [
    {
     "name": "stdout",
     "output_type": "stream",
     "text": [
      "Executando query:\n",
      "Executando query:\n"
     ]
    }
   ],
   "source": [
    "db('DROP TABLE IF EXISTS nomes_staff')\n",
    "db('''\n",
    "CREATE TEMPORARY TABLE nomes_staff \n",
    "    SELECT first_name, last_name FROM staff\n",
    "''')"
   ]
  },
  {
   "cell_type": "code",
   "execution_count": 58,
   "metadata": {},
   "outputs": [
    {
     "name": "stdout",
     "output_type": "stream",
     "text": [
      "Executando query:\n",
      "('first_name', 'varchar(45)', 'NO', '', None, 'NULL')\n",
      "('last_name', 'varchar(45)', 'NO', '', None, 'NULL')\n",
      "Executando query:\n",
      "('Mike', 'Hillyer')\n",
      "('Jon', 'Stephens')\n"
     ]
    }
   ],
   "source": [
    "db('DESCRIBE nomes_staff')\n",
    "db('SELECT * FROM nomes_staff LIMIT 5')"
   ]
  },
  {
   "cell_type": "code",
   "execution_count": 59,
   "metadata": {},
   "outputs": [
    {
     "name": "stdout",
     "output_type": "stream",
     "text": [
      "Executando query:\n",
      "Executando query:\n"
     ]
    }
   ],
   "source": [
    "db('DROP TABLE IF EXISTS nomes_all')\n",
    "db('''\n",
    "CREATE TEMPORARY TABLE nomes_all \n",
    "    (SELECT * FROM nomes_staff)\n",
    "    UNION \n",
    "    (SELECT * FROM nomes_clientes)\n",
    "''')"
   ]
  },
  {
   "cell_type": "code",
   "execution_count": 60,
   "metadata": {},
   "outputs": [
    {
     "name": "stdout",
     "output_type": "stream",
     "text": [
      "Executando query:\n",
      "('first_name', 'varchar(45)', 'NO', '', '', 'NULL')\n",
      "('last_name', 'varchar(45)', 'NO', '', '', 'NULL')\n",
      "Executando query:\n",
      "('Mike', 'Hillyer')\n",
      "('Jon', 'Stephens')\n",
      "('MARY', 'SMITH')\n",
      "('PATRICIA', 'JOHNSON')\n",
      "('LINDA', 'WILLIAMS')\n"
     ]
    }
   ],
   "source": [
    "db('DESCRIBE nomes_all')\n",
    "db('SELECT * FROM nomes_all LIMIT 5')"
   ]
  },
  {
   "cell_type": "code",
   "execution_count": 61,
   "metadata": {},
   "outputs": [
    {
     "name": "stdout",
     "output_type": "stream",
     "text": [
      "Executando query:\n",
      "Executando query:\n",
      "Executando query:\n"
     ]
    }
   ],
   "source": [
    "db('DROP TABLE IF EXISTS nomes_clientes')\n",
    "db('DROP TABLE IF EXISTS nomes_staff')\n",
    "db('DROP TABLE IF EXISTS nomes_all')"
   ]
  },
  {
   "cell_type": "markdown",
   "metadata": {},
   "source": [
    "**Vamos praticar:** refaça o exemplo acima mas use *subqueries* ao invés de *temp tables*. Ordene de forma ascendente por first_name e last_name."
   ]
  },
  {
   "cell_type": "code",
   "execution_count": 62,
   "metadata": {},
   "outputs": [
    {
     "name": "stdout",
     "output_type": "stream",
     "text": [
      "Executando query:\n",
      "('AARON', 'SELBY')\n",
      "('ADAM', 'GOOCH')\n",
      "('ADRIAN', 'CLARY')\n",
      "('AGNES', 'BISHOP')\n",
      "('ALAN', 'KAHN')\n",
      "('ALBERT', 'CROUSE')\n",
      "('ALBERTO', 'HENNING')\n",
      "('ALEX', 'GRESHAM')\n",
      "('ALEXANDER', 'FENNELL')\n",
      "('ALFRED', 'CASILLAS')\n",
      "('ALFREDO', 'MCADAMS')\n",
      "('ALICE', 'STEWART')\n",
      "('ALICIA', 'MILLS')\n",
      "('ALLAN', 'CORNISH')\n",
      "('ALLEN', 'BUTTERFIELD')\n",
      "('ALLISON', 'STANLEY')\n",
      "('ALMA', 'AUSTIN')\n",
      "('ALVIN', 'DELOACH')\n",
      "('AMANDA', 'CARTER')\n",
      "('AMBER', 'DIXON')\n",
      "('AMY', 'LOPEZ')\n",
      "('ANA', 'BRADLEY')\n",
      "('ANDRE', 'RAPP')\n",
      "('ANDREA', 'HENDERSON')\n",
      "('ANDREW', 'PURDY')\n",
      "('ANDY', 'VANHORN')\n",
      "('ANGEL', 'BARCLAY')\n",
      "('ANGELA', 'HERNANDEZ')\n",
      "('ANITA', 'MORALES')\n",
      "('ANN', 'EVANS')\n",
      "('ANNA', 'HILL')\n",
      "('ANNE', 'POWELL')\n",
      "('ANNETTE', 'OLSON')\n",
      "('ANNIE', 'RUSSELL')\n",
      "('ANTHONY', 'SCHWAB')\n",
      "('ANTONIO', 'MEEK')\n",
      "('APRIL', 'BURNS')\n",
      "('ARLENE', 'HARVEY')\n",
      "('ARMANDO', 'GRUBER')\n",
      "('ARNOLD', 'HAVENS')\n",
      "('ARTHUR', 'SIMPKINS')\n",
      "('ASHLEY', 'RICHARDSON')\n",
      "('AUDREY', 'RAY')\n",
      "('AUSTIN', 'CINTRON')\n",
      "('BARBARA', 'JONES')\n",
      "('BARRY', 'LOVELACE')\n",
      "('BEATRICE', 'ARNOLD')\n",
      "('BECKY', 'MILES')\n",
      "('BEN', 'EASTER')\n",
      "('BENJAMIN', 'VARNEY')\n",
      "('BERNARD', 'COLBY')\n",
      "('BERNICE', 'WILLIS')\n",
      "('BERTHA', 'FERGUSON')\n",
      "('BESSIE', 'MORRISON')\n",
      "('BETH', 'FRANKLIN')\n",
      "('BETTY', 'WHITE')\n",
      "('BEVERLY', 'BROOKS')\n",
      "('BILL', 'GAVIN')\n",
      "('BILLIE', 'HORTON')\n",
      "('BILLY', 'POULIN')\n",
      "('BOB', 'PFEIFFER')\n",
      "('BOBBIE', 'CRAIG')\n",
      "('BOBBY', 'BOUDREAU')\n",
      "('BONNIE', 'HUGHES')\n",
      "('BRAD', 'MCCURDY')\n",
      "('BRADLEY', 'MOTLEY')\n",
      "('BRANDON', 'HUEY')\n",
      "('BRANDY', 'GRAVES')\n",
      "('BRENDA', 'WRIGHT')\n",
      "('BRENT', 'HARKINS')\n",
      "('BRETT', 'CORNWELL')\n",
      "('BRIAN', 'WYMAN')\n",
      "('BRITTANY', 'RILEY')\n",
      "('BRUCE', 'SCHWARZ')\n",
      "('BRYAN', 'HARDISON')\n",
      "('BYRON', 'BOX')\n",
      "('CALVIN', 'MARTEL')\n",
      "('CARL', 'ARTIS')\n",
      "('CARLA', 'GUTIERREZ')\n",
      "('CARLOS', 'COUGHLIN')\n",
      "('CARMEN', 'OWENS')\n",
      "('CAROL', 'GARCIA')\n",
      "('CAROLE', 'BARNETT')\n",
      "('CAROLINE', 'BOWMAN')\n",
      "('CAROLYN', 'PEREZ')\n",
      "('CARRIE', 'PORTER')\n",
      "('CASEY', 'MENA')\n",
      "('CASSANDRA', 'WALTERS')\n",
      "('CATHERINE', 'CAMPBELL')\n",
      "('CATHY', 'SPENCER')\n",
      "('CECIL', 'VINES')\n",
      "('CHAD', 'CARBONE')\n",
      "('CHARLENE', 'ALVAREZ')\n",
      "('CHARLES', 'KOWALSKI')\n",
      "('CHARLIE', 'BESS')\n",
      "('CHARLOTTE', 'HUNTER')\n",
      "('CHERYL', 'MURPHY')\n",
      "('CHESTER', 'BENNER')\n",
      "('CHRIS', 'BROTHERS')\n",
      "('CHRISTIAN', 'JUNG')\n",
      "('CHRISTINA', 'RAMIREZ')\n",
      "('CHRISTINE', 'ROBERTS')\n",
      "('CHRISTOPHER', 'GRECO')\n",
      "('CHRISTY', 'VARGAS')\n",
      "('CINDY', 'FISHER')\n",
      "('CLARA', 'SHAW')\n",
      "('CLARENCE', 'GAMEZ')\n",
      "('CLAUDE', 'HERZOG')\n",
      "('CLAUDIA', 'FULLER')\n",
      "('CLAYTON', 'BARBEE')\n",
      "('CLIFFORD', 'BOWENS')\n",
      "('CLIFTON', 'MALCOLM')\n",
      "('CLINTON', 'BUFORD')\n",
      "('CLYDE', 'TOBIAS')\n",
      "('CODY', 'NOLEN')\n",
      "('COLLEEN', 'BURTON')\n",
      "('CONNIE', 'WALLACE')\n",
      "('CONSTANCE', 'REID')\n",
      "('COREY', 'HAUSER')\n",
      "('CORY', 'MEEHAN')\n",
      "('COURTNEY', 'DAY')\n",
      "('CRAIG', 'MORRELL')\n",
      "('CRYSTAL', 'FORD')\n",
      "('CURTIS', 'IRBY')\n",
      "('CYNTHIA', 'YOUNG')\n",
      "('DAISY', 'BATES')\n",
      "('DALE', 'RATCLIFF')\n",
      "('DAN', 'PAINE')\n",
      "('DANA', 'HART')\n",
      "('DANIEL', 'CABRAL')\n",
      "('DANIELLE', 'DANIELS')\n",
      "('DANNY', 'ISOM')\n",
      "('DARLENE', 'ROSE')\n",
      "('DARRELL', 'POWER')\n",
      "('DARREN', 'WINDHAM')\n",
      "('DARRYL', 'ASHCRAFT')\n",
      "('DARYL', 'LARUE')\n",
      "('DAVE', 'GARDINER')\n",
      "('DAVID', 'ROYAL')\n",
      "('DAWN', 'SULLIVAN')\n",
      "('DEAN', 'SAUER')\n",
      "('DEANNA', 'BYRD')\n",
      "('DEBBIE', 'REYES')\n",
      "('DEBORAH', 'WALKER')\n",
      "('DEBRA', 'NELSON')\n",
      "('DELORES', 'HANSEN')\n",
      "('DENISE', 'KELLY')\n",
      "('DENNIS', 'GILMAN')\n",
      "('DEREK', 'BLAKELY')\n",
      "('DERRICK', 'BOURQUE')\n",
      "('DIANA', 'ALEXANDER')\n",
      "('DIANE', 'COLLINS')\n",
      "('DIANNE', 'SHELTON')\n",
      "('DOLORES', 'WAGNER')\n",
      "('DON', 'BONE')\n",
      "('DONALD', 'MAHON')\n",
      "('DONNA', 'THOMPSON')\n",
      "('DORA', 'MEDINA')\n",
      "('DORIS', 'REED')\n",
      "('DOROTHY', 'TAYLOR')\n",
      "('DOUGLAS', 'GRAF')\n",
      "('DUANE', 'TUBBS')\n",
      "('DUSTIN', 'GILLETTE')\n",
      "('DWAYNE', 'OLVERA')\n",
      "('DWIGHT', 'LOMBARDI')\n",
      "('EARL', 'SHANKS')\n",
      "('EDDIE', 'TOMLIN')\n",
      "('EDGAR', 'RHOADS')\n",
      "('EDITH', 'MCDONALD')\n",
      "('EDNA', 'WEST')\n",
      "('EDUARDO', 'HIATT')\n",
      "('EDWARD', 'BAUGH')\n",
      "('EDWIN', 'BURK')\n",
      "('EILEEN', 'CARR')\n",
      "('ELAINE', 'STEVENS')\n",
      "('ELEANOR', 'HUNT')\n",
      "('ELIZABETH', 'BROWN')\n",
      "('ELLA', 'OLIVER')\n",
      "('ELLEN', 'SIMPSON')\n",
      "('ELMER', 'NOE')\n",
      "('ELSIE', 'KELLEY')\n",
      "('EMILY', 'DIAZ')\n",
      "('EMMA', 'BOYD')\n",
      "('ENRIQUE', 'FORSYTHE')\n",
      "('ERIC', 'ROBERT')\n",
      "('ERICA', 'MATTHEWS')\n",
      "('ERIK', 'GUILLEN')\n",
      "('ERIKA', 'PENA')\n",
      "('ERIN', 'DUNN')\n",
      "('ERNEST', 'STEPP')\n",
      "('ESTHER', 'CRAWFORD')\n",
      "('ETHEL', 'WEBB')\n",
      "('EUGENE', 'CULPEPPER')\n",
      "('EVA', 'RAMOS')\n",
      "('EVELYN', 'MORGAN')\n",
      "('EVERETT', 'BANDA')\n",
      "('FELICIA', 'SUTTON')\n",
      "('FELIX', 'GAFFNEY')\n",
      "('FERNANDO', 'CHURCHILL')\n",
      "('FLORENCE', 'WOODS')\n",
      "('FLOYD', 'GANDY')\n",
      "('FRANCES', 'PARKER')\n",
      "('FRANCIS', 'SIKES')\n",
      "('FRANCISCO', 'SKIDMORE')\n",
      "('FRANK', 'WAGGONER')\n",
      "('FRANKLIN', 'TROUTMAN')\n",
      "('FRED', 'WHEAT')\n",
      "('FREDDIE', 'DUGGAN')\n",
      "('FREDERICK', 'ISBELL')\n",
      "('GABRIEL', 'HARDER')\n",
      "('GAIL', 'KNIGHT')\n",
      "('GARY', 'COY')\n",
      "('GENE', 'SANBORN')\n",
      "('GEORGE', 'LINTON')\n",
      "('GEORGIA', 'JACOBS')\n",
      "('GERALD', 'FULTZ')\n",
      "('GERALDINE', 'PERKINS')\n",
      "('GERTRUDE', 'CASTILLO')\n",
      "('GILBERT', 'SLEDGE')\n",
      "('GINA', 'WILLIAMSON')\n",
      "('GLADYS', 'HAMILTON')\n",
      "('GLEN', 'TALBERT')\n",
      "('GLENDA', 'FRAZIER')\n",
      "('GLENN', 'PULLEN')\n",
      "('GLORIA', 'COOK')\n",
      "('GORDON', 'ALLARD')\n",
      "('GRACE', 'ELLIS')\n",
      "('GREG', 'ROBINS')\n",
      "('GREGORY', 'MAULDIN')\n",
      "('GUY', 'BROWNLEE')\n",
      "('GWENDOLYN', 'MAY')\n",
      "('HAROLD', 'MARTINO')\n",
      "('HARRY', 'ARCE')\n",
      "('HARVEY', 'GUAJARDO')\n",
      "('HAZEL', 'WARREN')\n",
      "('HEATHER', 'MORRIS')\n",
      "('HECTOR', 'POINDEXTER')\n",
      "('HEIDI', 'LARSON')\n",
      "('HELEN', 'HARRIS')\n",
      "('HENRY', 'BILLINGSLEY')\n",
      "('HERBERT', 'KRUGER')\n",
      "('HERMAN', 'DEVORE')\n",
      "('HILDA', 'HOPKINS')\n",
      "('HOLLY', 'FOX')\n",
      "('HOWARD', 'FORTNER')\n",
      "('HUGH', 'WALDROP')\n",
      "('IAN', 'STILL')\n",
      "('IDA', 'ANDREWS')\n",
      "('IRENE', 'PRICE')\n",
      "('IRMA', 'PEARSON')\n",
      "('ISAAC', 'OGLESBY')\n",
      "('IVAN', 'CROMWELL')\n",
      "('JACK', 'FOUST')\n",
      "('JACKIE', 'LYNCH')\n",
      "('JACOB', 'LANCE')\n",
      "('JACQUELINE', 'LONG')\n",
      "('JAIME', 'NETTLES')\n",
      "('JAMES', 'GANNON')\n",
      "('JAMIE', 'RICE')\n",
      "('JAMIE', 'WAUGH')\n",
      "('JANE', 'BENNETT')\n",
      "('JANET', 'PHILLIPS')\n",
      "('JANICE', 'WARD')\n",
      "('JARED', 'ELY')\n",
      "('JASON', 'MORRISSEY')\n",
      "('JAVIER', 'ELROD')\n",
      "('JAY', 'ROBB')\n",
      "('JEAN', 'BELL')\n",
      "('JEANETTE', 'GREENE')\n",
      "('JEANNE', 'LAWSON')\n",
      "('JEFF', 'EAST')\n",
      "('JEFFERY', 'PINSON')\n",
      "('JEFFREY', 'SPEAR')\n",
      "('JENNIE', 'TERRY')\n",
      "('JENNIFER', 'DAVIS')\n",
      "('JENNY', 'CASTRO')\n",
      "('JEREMY', 'HURTADO')\n",
      "('JEROME', 'KENYON')\n",
      "('JERRY', 'JORDON')\n",
      "('JESSE', 'SCHILLING')\n",
      "('JESSICA', 'HALL')\n",
      "('JESSIE', 'BANKS')\n",
      "('JESSIE', 'MILAM')\n",
      "('JESUS', 'MCCARTNEY')\n",
      "('JILL', 'HAWKINS')\n",
      "('JIM', 'REA')\n",
      "('JIMMIE', 'EGGLESTON')\n",
      "('JIMMY', 'SCHRADER')\n",
      "('JO', 'FOWLER')\n",
      "('JOAN', 'COOPER')\n",
      "('JOANN', 'GARDNER')\n",
      "('JOANNE', 'ROBERTSON')\n",
      "('JOE', 'GILLILAND')\n",
      "('JOEL', 'FRANCISCO')\n",
      "('JOHN', 'FARNSWORTH')\n",
      "('JOHNNIE', 'CHISHOLM')\n",
      "('JOHNNY', 'TURPIN')\n",
      "('Jon', 'Stephens')\n",
      "('JON', 'WILES')\n",
      "('JONATHAN', 'SCARBOROUGH')\n",
      "('JORDAN', 'ARCHULETA')\n",
      "('JORGE', 'OLIVARES')\n",
      "('JOSE', 'ANDREW')\n",
      "('JOSEPH', 'JOY')\n",
      "('JOSEPHINE', 'GOMEZ')\n",
      "('JOSHUA', 'MARK')\n",
      "('JOY', 'GEORGE')\n",
      "('JOYCE', 'EDWARDS')\n",
      "('JUAN', 'FRALEY')\n",
      "('JUANITA', 'MASON')\n",
      "('JUDITH', 'COX')\n",
      "('JUDY', 'GRAY')\n",
      "('JULIA', 'FLORES')\n",
      "('JULIAN', 'VEST')\n",
      "('JULIE', 'SANCHEZ')\n",
      "('JULIO', 'NOLAND')\n",
      "('JUNE', 'CARROLL')\n",
      "('JUSTIN', 'NGO')\n",
      "('KAREN', 'JACKSON')\n",
      "('KARL', 'SEAL')\n",
      "('KATHERINE', 'RIVERA')\n",
      "('KATHLEEN', 'ADAMS')\n",
      "('KATHRYN', 'COLEMAN')\n",
      "('KATHY', 'JAMES')\n",
      "('KATIE', 'ELLIOTT')\n",
      "('KAY', 'CALDWELL')\n",
      "('KEITH', 'RICO')\n",
      "('KELLY', 'KNOTT')\n",
      "('KELLY', 'TORRES')\n",
      "('KEN', 'PREWITT')\n",
      "('KENNETH', 'GOODEN')\n",
      "('KENT', 'ARSENAULT')\n",
      "('KEVIN', 'SCHULER')\n",
      "('KIM', 'CRUZ')\n",
      "('KIMBERLY', 'LEE')\n",
      "('KIRK', 'STCLAIR')\n",
      "('KRISTEN', 'CHAVEZ')\n",
      "('KRISTIN', 'JOHNSTON')\n",
      "('KRISTINA', 'CHAMBERS')\n",
      "('KURT', 'EMMONS')\n",
      "('KYLE', 'SPURLOCK')\n",
      "('LANCE', 'PEMBERTON')\n",
      "('LARRY', 'THRASHER')\n",
      "('LAURA', 'RODRIGUEZ')\n",
      "('LAUREN', 'HUDSON')\n",
      "('LAURIE', 'LAWRENCE')\n",
      "('LAWRENCE', 'LAWTON')\n",
      "('LEAH', 'CURTIS')\n",
      "('LEE', 'HAWKS')\n",
      "('LENA', 'JENSEN')\n",
      "('LEO', 'EBERT')\n",
      "('LEON', 'BOSTIC')\n",
      "('LEONA', 'OBRIEN')\n",
      "('LEONARD', 'SCHOFIELD')\n",
      "('LEROY', 'BUSTAMANTE')\n",
      "('LESLIE', 'GORDON')\n",
      "('LESLIE', 'SEWARD')\n",
      "('LESTER', 'KRAUS')\n",
      "('LEWIS', 'LYMAN')\n",
      "('LILLIAN', 'GRIFFIN')\n",
      "('LILLIE', 'KIM')\n",
      "('LINDA', 'WILLIAMS')\n",
      "('LISA', 'ANDERSON')\n",
      "('LLOYD', 'DOWD')\n",
      "('LOIS', 'BUTLER')\n",
      "('LONNIE', 'TIRADO')\n",
      "('LORETTA', 'CARPENTER')\n",
      "('LORI', 'WOOD')\n",
      "('LORRAINE', 'STEPHENS')\n",
      "('LOUIS', 'LEONE')\n",
      "('LOUISE', 'JENKINS')\n",
      "('LUCILLE', 'HOLMES')\n",
      "('LUCY', 'WHEELER')\n",
      "('LUIS', 'YANEZ')\n",
      "('LYDIA', 'BURKE')\n",
      "('LYNN', 'PAYNE')\n",
      "('MABEL', 'HOLLAND')\n",
      "('MAE', 'FLETCHER')\n",
      "('MANUEL', 'MURRELL')\n",
      "('MARC', 'OUTLAW')\n",
      "('MARCIA', 'DEAN')\n",
      "('MARCUS', 'HIDALGO')\n",
      "('MARGARET', 'MOORE')\n",
      "('MARGIE', 'WADE')\n",
      "('MARIA', 'MILLER')\n",
      "('MARIAN', 'MENDOZA')\n",
      "('MARIE', 'TURNER')\n",
      "('MARILYN', 'ROSS')\n",
      "('MARIO', 'CHEATHAM')\n",
      "('MARION', 'OCAMPO')\n",
      "('MARION', 'SNYDER')\n",
      "('MARJORIE', 'TUCKER')\n",
      "('MARK', 'RINEHART')\n",
      "('MARLENE', 'WELCH')\n",
      "('MARSHA', 'DOUGLAS')\n",
      "('MARSHALL', 'THORN')\n",
      "('MARTHA', 'GONZALEZ')\n",
      "('MARTIN', 'BALES')\n",
      "('MARVIN', 'YEE')\n",
      "('MARY', 'SMITH')\n",
      "('MATHEW', 'BOLIN')\n",
      "('MATTHEW', 'MAHAN')\n",
      "('MATTIE', 'HOFFMAN')\n",
      "('MAUREEN', 'LITTLE')\n",
      "('MAURICE', 'CRAWLEY')\n",
      "('MAX', 'PITT')\n",
      "('MAXINE', 'SILVA')\n",
      "('MEGAN', 'PALMER')\n",
      "('MELANIE', 'ARMSTRONG')\n",
      "('MELINDA', 'FERNANDEZ')\n",
      "('MELISSA', 'KING')\n",
      "('MELVIN', 'ELLINGTON')\n",
      "('MICHAEL', 'SILVERMAN')\n",
      "('MICHEAL', 'FORMAN')\n",
      "('MICHELE', 'GRANT')\n",
      "('MICHELLE', 'CLARK')\n",
      "('MIGUEL', 'BETANCOURT')\n",
      "('Mike', 'Hillyer')\n",
      "('MIKE', 'WAY')\n",
      "('MILDRED', 'BAILEY')\n",
      "('MILTON', 'HOWLAND')\n",
      "('MINNIE', 'ROMERO')\n",
      "('MIRIAM', 'MCKINNEY')\n",
      "('MISTY', 'LAMBERT')\n",
      "('MITCHELL', 'WESTMORELAND')\n",
      "('MONICA', 'HICKS')\n",
      "('MORRIS', 'MCCARTER')\n",
      "('MYRTLE', 'FLEMING')\n",
      "('NANCY', 'THOMAS')\n",
      "('NAOMI', 'JENNINGS')\n",
      "('NATALIE', 'MEYER')\n",
      "('NATHAN', 'RUNYON')\n",
      "('NATHANIEL', 'ADAM')\n",
      "('NEIL', 'RENNER')\n",
      "('NELLIE', 'GARRETT')\n",
      "('NELSON', 'CHRISTENSON')\n",
      "('NICHOLAS', 'BARFIELD')\n",
      "('NICOLE', 'PETERSON')\n",
      "('NINA', 'SOTO')\n",
      "('NORA', 'HERRERA')\n",
      "('NORMA', 'GONZALES')\n",
      "('NORMAN', 'CURRIER')\n",
      "('OLGA', 'JIMENEZ')\n",
      "('OSCAR', 'AQUINO')\n",
      "('PAMELA', 'BAKER')\n",
      "('PATRICIA', 'JOHNSON')\n",
      "('PATRICK', 'NEWSOM')\n",
      "('PATSY', 'DAVIDSON')\n",
      "('PAUL', 'TROUT')\n",
      "('PAULA', 'BRYANT')\n",
      "('PAULINE', 'HENRY')\n",
      "('PEARL', 'GARZA')\n",
      "('PEDRO', 'CHESTNUT')\n",
      "('PEGGY', 'MYERS')\n",
      "('PENNY', 'NEAL')\n",
      "('PERRY', 'SWAFFORD')\n",
      "('PETER', 'MENARD')\n",
      "('PHILIP', 'CAUSEY')\n",
      "('PHILLIP', 'HOLM')\n",
      "('PHYLLIS', 'FOSTER')\n",
      "('PRISCILLA', 'LOWE')\n",
      "('RACHEL', 'BARNES')\n",
      "('RAFAEL', 'ABNEY')\n",
      "('RALPH', 'MADRIGAL')\n",
      "('RAMON', 'CHOATE')\n",
      "('RAMONA', 'HALE')\n",
      "('RANDALL', 'NEUMANN')\n",
      "('RANDY', 'GAITHER')\n",
      "('RAUL', 'FORTIER')\n",
      "('RAY', 'HOULE')\n",
      "('RAYMOND', 'MCWHORTER')\n",
      "('REBECCA', 'SCOTT')\n",
      "('REGINA', 'BERRY')\n",
      "('REGINALD', 'KINDER')\n",
      "('RENE', 'MCALISTER')\n",
      "('RENEE', 'LANE')\n",
      "('RHONDA', 'KENNEDY')\n",
      "('RICARDO', 'MEADOR')\n",
      "('RICHARD', 'MCCRARY')\n",
      "('RICK', 'MATTOX')\n",
      "('RICKY', 'SHELBY')\n",
      "('RITA', 'GRAHAM')\n",
      "('ROBERT', 'BAUGHMAN')\n",
      "('ROBERTA', 'HARPER')\n",
      "('ROBERTO', 'VU')\n",
      "('ROBIN', 'HAYES')\n",
      "('RODNEY', 'MOELLER')\n",
      "('ROGER', 'QUINTANILLA')\n",
      "('ROLAND', 'SOUTH')\n",
      "('RON', 'DELUCA')\n",
      "('RONALD', 'WEINER')\n",
      "('RONNIE', 'RICKETTS')\n",
      "('ROSA', 'REYNOLDS')\n",
      "('ROSE', 'HOWARD')\n",
      "('ROSEMARY', 'SCHMIDT')\n",
      "('ROSS', 'GREY')\n",
      "('ROY', 'WHITING')\n",
      "('RUBEN', 'GEARY')\n",
      "('RUBY', 'WASHINGTON')\n",
      "('RUSSELL', 'BRINSON')\n",
      "('RUTH', 'MARTINEZ')\n",
      "('RYAN', 'SALISBURY')\n",
      "('SALLY', 'PIERCE')\n",
      "('SALVADOR', 'TEEL')\n",
      "('SAM', 'MCDUFFIE')\n",
      "('SAMANTHA', 'DUNCAN')\n",
      "('SAMUEL', 'MARLOW')\n",
      "('SANDRA', 'MARTIN')\n",
      "('SARA', 'PERRY')\n",
      "('SARAH', 'LEWIS')\n",
      "('SCOTT', 'SHELLEY')\n",
      "('SEAN', 'DOUGLASS')\n",
      "('SERGIO', 'STANFIELD')\n",
      "('SETH', 'HANNON')\n",
      "('SHANE', 'MILLARD')\n",
      "('SHANNON', 'FREEMAN')\n",
      "('SHARON', 'ROBINSON')\n",
      "('SHAWN', 'HEATON')\n",
      "('SHEILA', 'WELLS')\n",
      "('SHELLY', 'WATTS')\n",
      "('SHERRI', 'RHODES')\n",
      "('SHERRY', 'MARSHALL')\n",
      "('SHIRLEY', 'ALLEN')\n",
      "('SIDNEY', 'BURLESON')\n",
      "('SONIA', 'GREGORY')\n",
      "('STACEY', 'MONTGOMERY')\n",
      "('STACY', 'CUNNINGHAM')\n",
      "('STANLEY', 'SCROGGINS')\n",
      "('STELLA', 'MORENO')\n",
      "('STEPHANIE', 'MITCHELL')\n",
      "('STEPHEN', 'QUALLS')\n",
      "('STEVE', 'MACKENZIE')\n",
      "('STEVEN', 'CURLEY')\n",
      "('SUE', 'PETERS')\n",
      "('SUSAN', 'WILSON')\n",
      "('SUZANNE', 'NICHOLS')\n",
      "('SYLVIA', 'ORTIZ')\n",
      "('TAMARA', 'NGUYEN')\n",
      "('TAMMY', 'SANDERS')\n",
      "('TANYA', 'GILBERT')\n",
      "('TARA', 'RYAN')\n",
      "('TED', 'BREAUX')\n",
      "('TERESA', 'ROGERS')\n",
      "('TERRANCE', 'ROUSH')\n",
      "('TERRENCE', 'GUNDERSON')\n",
      "('TERRI', 'VASQUEZ')\n",
      "('TERRY', 'CARLSON')\n",
      "('TERRY', 'GRISSOM')\n",
      "('THELMA', 'MURRAY')\n",
      "('THEODORE', 'CULP')\n",
      "('THERESA', 'WATSON')\n",
      "('THOMAS', 'GRIGSBY')\n",
      "('TIFFANY', 'JORDAN')\n",
      "('TIM', 'CARY')\n",
      "('TIMOTHY', 'BUNN')\n",
      "('TINA', 'SIMMONS')\n",
      "('TODD', 'TAN')\n",
      "('TOM', 'MILNER')\n",
      "('TOMMY', 'COLLAZO')\n",
      "('TONI', 'HOLT')\n",
      "('TONY', 'CARRANZA')\n",
      "('TONYA', 'CHAPMAN')\n",
      "('TRACEY', 'BARRETT')\n",
      "('TRACY', 'COLE')\n",
      "('TRACY', 'HERRMANN')\n",
      "('TRAVIS', 'ESTEP')\n",
      "('TROY', 'QUIGLEY')\n",
      "('TYLER', 'WREN')\n",
      "('TYRONE', 'ASHER')\n",
      "('VALERIE', 'BLACK')\n",
      "('VANESSA', 'SIMS')\n",
      "('VELMA', 'LUCAS')\n",
      "('VERA', 'MCCOY')\n",
      "('VERNON', 'CHAPA')\n",
      "('VERONICA', 'STONE')\n",
      "('VICKI', 'FIELDS')\n",
      "('VICKIE', 'BREWER')\n",
      "('VICTOR', 'BARKLEY')\n",
      "('VICTORIA', 'GIBSON')\n",
      "('VINCENT', 'RALSTON')\n",
      "('VIOLA', 'HANSON')\n",
      "('VIOLET', 'RODRIQUEZ')\n",
      "('VIRGIL', 'WOFFORD')\n",
      "('VIRGINIA', 'GREEN')\n",
      "('VIVIAN', 'RUIZ')\n",
      "('WADE', 'DELVALLE')\n",
      "('WALLACE', 'SLONE')\n",
      "('WALTER', 'PERRYMAN')\n",
      "('WANDA', 'PATTERSON')\n",
      "('WARREN', 'SHERROD')\n",
      "('WAYNE', 'TRUONG')\n",
      "('WENDY', 'HARRISON')\n",
      "('WESLEY', 'BULL')\n",
      "('WILLARD', 'LUMPKIN')\n",
      "('WILLIAM', 'SATTERFIELD')\n",
      "('WILLIE', 'HOWELL')\n",
      "('WILLIE', 'MARKHAM')\n",
      "('WILMA', 'RICHARDS')\n",
      "('YOLANDA', 'WEAVER')\n",
      "('YVONNE', 'WATKINS')\n",
      "('ZACHARY', 'HITE')\n"
     ]
    }
   ],
   "source": [
    "sql_ex09 = '''\n",
    "SELECT first_name, last_name\n",
    "FROM (\n",
    "    SELECT first_name, last_name FROM staff\n",
    "    UNION\n",
    "    SELECT first_name, last_name FROM customer\n",
    ") AS nomes\n",
    "ORDER BY\n",
    "    first_name, last_name\n",
    "'''\n",
    "\n",
    "db(sql_ex09)"
   ]
  },
  {
   "cell_type": "code",
   "execution_count": 63,
   "metadata": {},
   "outputs": [
    {
     "data": {
      "application/vnd.jupyter.widget-view+json": {
       "model_id": "ca8e16ac0881423a88d8f688d72bfaf8",
       "version_major": 2,
       "version_minor": 0
      },
      "text/plain": [
       "interactive(children=(Button(description='Enviar ex09', style=ButtonStyle()), Output()), _dom_classes=('widget…"
      ]
     },
     "execution_count": 63,
     "metadata": {},
     "output_type": "execute_result"
    }
   ],
   "source": [
    "ia.sender(answer='sql_ex09', task='views', question='ex09', answer_type='pyvar')"
   ]
  },
  {
   "cell_type": "markdown",
   "metadata": {},
   "source": [
    "## Desafios!"
   ]
  },
  {
   "cell_type": "markdown",
   "metadata": {},
   "source": [
    "Faça uma lista de filmes que tenham mais de dois atores cujo nome inicia com a mesma letra do título do filme! Apresente o nome e a quantidade de atores. Ordene pelo id do filme. Dica: Pesquie a função `LEFT`"
   ]
  },
  {
   "cell_type": "code",
   "execution_count": 64,
   "metadata": {},
   "outputs": [
    {
     "name": "stdout",
     "output_type": "stream",
     "text": [
      "Executando query:\n",
      "('CROW GREASE', 3)\n",
      "('JEDI BENEATH', 3)\n",
      "('SUBMARINE BED', 3)\n"
     ]
    }
   ],
   "source": [
    "sql_ex10 = '''\n",
    "SELECT title, COUNT(actor_id) AS num_actors\n",
    "FROM\n",
    "    film\n",
    "    INNER JOIN film_actor USING (film_id)\n",
    "    INNER JOIN actor USING (actor_id)\n",
    "WHERE\n",
    "    LEFT(title, 1) = LEFT(first_name, 1)\n",
    "GROUP BY\n",
    "    film_id\n",
    "HAVING\n",
    "    num_actors > 2\n",
    "ORDER BY\n",
    "    film_id\n",
    "'''\n",
    "db(sql_ex10)"
   ]
  },
  {
   "cell_type": "code",
   "execution_count": 65,
   "metadata": {},
   "outputs": [
    {
     "data": {
      "application/vnd.jupyter.widget-view+json": {
       "model_id": "25794b52fbbe4821bb3320eb0797a3c8",
       "version_major": 2,
       "version_minor": 0
      },
      "text/plain": [
       "interactive(children=(Button(description='Enviar ex10', style=ButtonStyle()), Output()), _dom_classes=('widget…"
      ]
     },
     "execution_count": 65,
     "metadata": {},
     "output_type": "execute_result"
    }
   ],
   "source": [
    "ia.sender(answer='sql_ex10', task='views', question='ex10', answer_type='pyvar')"
   ]
  },
  {
   "cell_type": "markdown",
   "metadata": {},
   "source": [
    "Semana do \"DAN HARRIS\": liste os clientes (nome e sobrenome) que nunca assistiram um filme do ator \"DAN HARRIS\" ou que já assistiram mas a ultima vez em que assistiram um filme dele foi antes de '2005-06-01'. Ordene pelo nome e sobrenome do cliente."
   ]
  },
  {
   "cell_type": "code",
   "execution_count": 66,
   "metadata": {},
   "outputs": [
    {
     "name": "stdout",
     "output_type": "stream",
     "text": [
      "Executando query:\n",
      "('AARON', 'SELBY')\n",
      "('AGNES', 'BISHOP')\n",
      "('ALAN', 'KAHN')\n",
      "('ALBERT', 'CROUSE')\n",
      "('ALICIA', 'MILLS')\n",
      "('ALLAN', 'CORNISH')\n",
      "('ALLEN', 'BUTTERFIELD')\n",
      "('ALLISON', 'STANLEY')\n",
      "('AMANDA', 'CARTER')\n",
      "('AMY', 'LOPEZ')\n",
      "('ANA', 'BRADLEY')\n",
      "('ANDREA', 'HENDERSON')\n",
      "('ANDREW', 'PURDY')\n",
      "('ANGEL', 'BARCLAY')\n",
      "('ANITA', 'MORALES')\n",
      "('ANN', 'EVANS')\n",
      "('ANNA', 'HILL')\n",
      "('ANNE', 'POWELL')\n",
      "('ANNETTE', 'OLSON')\n",
      "('ANNIE', 'RUSSELL')\n",
      "('ANTHONY', 'SCHWAB')\n",
      "('ANTONIO', 'MEEK')\n",
      "('ARMANDO', 'GRUBER')\n",
      "('AUDREY', 'RAY')\n",
      "('AUSTIN', 'CINTRON')\n",
      "('BEATRICE', 'ARNOLD')\n",
      "('BECKY', 'MILES')\n",
      "('BEN', 'EASTER')\n",
      "('BERNARD', 'COLBY')\n",
      "('BESSIE', 'MORRISON')\n",
      "('BETH', 'FRANKLIN')\n",
      "('BILLIE', 'HORTON')\n",
      "('BILLY', 'POULIN')\n",
      "('BOB', 'PFEIFFER')\n",
      "('BRAD', 'MCCURDY')\n",
      "('BRANDY', 'GRAVES')\n",
      "('BRENT', 'HARKINS')\n",
      "('BRETT', 'CORNWELL')\n",
      "('BRIAN', 'WYMAN')\n",
      "('BRITTANY', 'RILEY')\n",
      "('BYRON', 'BOX')\n",
      "('CALVIN', 'MARTEL')\n",
      "('CARLA', 'GUTIERREZ')\n",
      "('CAROLE', 'BARNETT')\n",
      "('CARRIE', 'PORTER')\n",
      "('CASEY', 'MENA')\n",
      "('CATHY', 'SPENCER')\n",
      "('CECIL', 'VINES')\n",
      "('CHARLES', 'KOWALSKI')\n",
      "('CHARLOTTE', 'HUNTER')\n",
      "('CHERYL', 'MURPHY')\n",
      "('CHESTER', 'BENNER')\n",
      "('CHRISTIAN', 'JUNG')\n",
      "('CHRISTINA', 'RAMIREZ')\n",
      "('CHRISTINE', 'ROBERTS')\n",
      "('CHRISTOPHER', 'GRECO')\n",
      "('CLARA', 'SHAW')\n",
      "('CLARENCE', 'GAMEZ')\n",
      "('CLAUDIA', 'FULLER')\n",
      "('CODY', 'NOLEN')\n",
      "('CONSTANCE', 'REID')\n",
      "('COREY', 'HAUSER')\n",
      "('COURTNEY', 'DAY')\n",
      "('CRAIG', 'MORRELL')\n",
      "('CRYSTAL', 'FORD')\n",
      "('CURTIS', 'IRBY')\n",
      "('CYNTHIA', 'YOUNG')\n",
      "('DALE', 'RATCLIFF')\n",
      "('DAN', 'PAINE')\n",
      "('DANA', 'HART')\n",
      "('DANIEL', 'CABRAL')\n",
      "('DARREN', 'WINDHAM')\n",
      "('DAVE', 'GARDINER')\n",
      "('DAWN', 'SULLIVAN')\n",
      "('DEANNA', 'BYRD')\n",
      "('DEBBIE', 'REYES')\n",
      "('DELORES', 'HANSEN')\n",
      "('DEREK', 'BLAKELY')\n",
      "('DIANA', 'ALEXANDER')\n",
      "('DIANE', 'COLLINS')\n",
      "('DIANNE', 'SHELTON')\n",
      "('DON', 'BONE')\n",
      "('DONALD', 'MAHON')\n",
      "('DORA', 'MEDINA')\n",
      "('DUANE', 'TUBBS')\n",
      "('DUSTIN', 'GILLETTE')\n",
      "('DWIGHT', 'LOMBARDI')\n",
      "('EDDIE', 'TOMLIN')\n",
      "('EDITH', 'MCDONALD')\n",
      "('EDNA', 'WEST')\n",
      "('EDUARDO', 'HIATT')\n",
      "('EDWIN', 'BURK')\n",
      "('EILEEN', 'CARR')\n",
      "('ELEANOR', 'HUNT')\n",
      "('ELIZABETH', 'BROWN')\n",
      "('ELLA', 'OLIVER')\n",
      "('ELLEN', 'SIMPSON')\n",
      "('EMILY', 'DIAZ')\n",
      "('ERIC', 'ROBERT')\n",
      "('ERICA', 'MATTHEWS')\n",
      "('ERIK', 'GUILLEN')\n",
      "('ERIKA', 'PENA')\n",
      "('ERIN', 'DUNN')\n",
      "('ERNEST', 'STEPP')\n",
      "('ETHEL', 'WEBB')\n",
      "('EUGENE', 'CULPEPPER')\n",
      "('EVA', 'RAMOS')\n",
      "('EVELYN', 'MORGAN')\n",
      "('FELIX', 'GAFFNEY')\n",
      "('FLORENCE', 'WOODS')\n",
      "('FLOYD', 'GANDY')\n",
      "('FRANCISCO', 'SKIDMORE')\n",
      "('FRANKLIN', 'TROUTMAN')\n",
      "('GAIL', 'KNIGHT')\n",
      "('GARY', 'COY')\n",
      "('GENE', 'SANBORN')\n",
      "('GEORGE', 'LINTON')\n",
      "('GEORGIA', 'JACOBS')\n",
      "('GERALDINE', 'PERKINS')\n",
      "('GILBERT', 'SLEDGE')\n",
      "('GINA', 'WILLIAMSON')\n",
      "('GLEN', 'TALBERT')\n",
      "('GLENDA', 'FRAZIER')\n",
      "('GLORIA', 'COOK')\n",
      "('GREGORY', 'MAULDIN')\n",
      "('GWENDOLYN', 'MAY')\n",
      "('HAROLD', 'MARTINO')\n",
      "('HARRY', 'ARCE')\n",
      "('HARVEY', 'GUAJARDO')\n",
      "('HAZEL', 'WARREN')\n",
      "('HEIDI', 'LARSON')\n",
      "('HENRY', 'BILLINGSLEY')\n",
      "('HERMAN', 'DEVORE')\n",
      "('HUGH', 'WALDROP')\n",
      "('IAN', 'STILL')\n",
      "('IDA', 'ANDREWS')\n",
      "('IRMA', 'PEARSON')\n",
      "('JACK', 'FOUST')\n",
      "('JAMIE', 'WAUGH')\n",
      "('JANE', 'BENNETT')\n",
      "('JANICE', 'WARD')\n",
      "('JEAN', 'BELL')\n",
      "('JEANETTE', 'GREENE')\n",
      "('JEANNE', 'LAWSON')\n",
      "('JEFFREY', 'SPEAR')\n",
      "('JENNY', 'CASTRO')\n",
      "('JEREMY', 'HURTADO')\n",
      "('JEROME', 'KENYON')\n",
      "('JESSIE', 'BANKS')\n",
      "('JESUS', 'MCCARTNEY')\n",
      "('JILL', 'HAWKINS')\n",
      "('JIM', 'REA')\n",
      "('JO', 'FOWLER')\n",
      "('JOAN', 'COOPER')\n",
      "('JOE', 'GILLILAND')\n",
      "('JORDAN', 'ARCHULETA')\n",
      "('JOSEPHINE', 'GOMEZ')\n",
      "('JOYCE', 'EDWARDS')\n",
      "('JUANITA', 'MASON')\n",
      "('JUDITH', 'COX')\n",
      "('JULIE', 'SANCHEZ')\n",
      "('KAREN', 'JACKSON')\n",
      "('KARL', 'SEAL')\n",
      "('KATHERINE', 'RIVERA')\n",
      "('KATIE', 'ELLIOTT')\n",
      "('KAY', 'CALDWELL')\n",
      "('KELLY', 'TORRES')\n",
      "('KENNETH', 'GOODEN')\n",
      "('KIM', 'CRUZ')\n",
      "('KIMBERLY', 'LEE')\n",
      "('KIRK', 'STCLAIR')\n",
      "('KRISTEN', 'CHAVEZ')\n",
      "('KURT', 'EMMONS')\n",
      "('LANCE', 'PEMBERTON')\n",
      "('LAURA', 'RODRIGUEZ')\n",
      "('LAURIE', 'LAWRENCE')\n",
      "('LAWRENCE', 'LAWTON')\n",
      "('LEAH', 'CURTIS')\n",
      "('LENA', 'JENSEN')\n",
      "('LEO', 'EBERT')\n",
      "('LEONA', 'OBRIEN')\n",
      "('LEONARD', 'SCHOFIELD')\n",
      "('LESLIE', 'SEWARD')\n",
      "('LILLIAN', 'GRIFFIN')\n",
      "('LINDA', 'WILLIAMS')\n",
      "('LISA', 'ANDERSON')\n",
      "('LLOYD', 'DOWD')\n",
      "('LONNIE', 'TIRADO')\n",
      "('LORRAINE', 'STEPHENS')\n",
      "('LOUISE', 'JENKINS')\n",
      "('LUCILLE', 'HOLMES')\n",
      "('LUIS', 'YANEZ')\n",
      "('LYDIA', 'BURKE')\n",
      "('LYNN', 'PAYNE')\n",
      "('MARGARET', 'MOORE')\n",
      "('MARIE', 'TURNER')\n",
      "('MARION', 'SNYDER')\n",
      "('MARJORIE', 'TUCKER')\n",
      "('MARK', 'RINEHART')\n",
      "('MARTHA', 'GONZALEZ')\n",
      "('MARTIN', 'BALES')\n",
      "('MARVIN', 'YEE')\n",
      "('MARY', 'SMITH')\n",
      "('MATTHEW', 'MAHAN')\n",
      "('MAURICE', 'CRAWLEY')\n",
      "('MEGAN', 'PALMER')\n",
      "('MELANIE', 'ARMSTRONG')\n",
      "('MELVIN', 'ELLINGTON')\n",
      "('MICHELLE', 'CLARK')\n",
      "('MIKE', 'WAY')\n",
      "('MILDRED', 'BAILEY')\n",
      "('MILTON', 'HOWLAND')\n",
      "('MIRIAM', 'MCKINNEY')\n",
      "('MISTY', 'LAMBERT')\n",
      "('MITCHELL', 'WESTMORELAND')\n",
      "('NANCY', 'THOMAS')\n",
      "('NATALIE', 'MEYER')\n",
      "('NATHAN', 'RUNYON')\n",
      "('NATHANIEL', 'ADAM')\n",
      "('NELLIE', 'GARRETT')\n",
      "('NICHOLAS', 'BARFIELD')\n",
      "('NICOLE', 'PETERSON')\n",
      "('NORMA', 'GONZALES')\n",
      "('PAMELA', 'BAKER')\n",
      "('PATRICK', 'NEWSOM')\n",
      "('PAUL', 'TROUT')\n",
      "('PAULA', 'BRYANT')\n",
      "('PAULINE', 'HENRY')\n",
      "('PEGGY', 'MYERS')\n",
      "('PENNY', 'NEAL')\n",
      "('PETER', 'MENARD')\n",
      "('PHILIP', 'CAUSEY')\n",
      "('PHYLLIS', 'FOSTER')\n",
      "('PRISCILLA', 'LOWE')\n",
      "('RACHEL', 'BARNES')\n",
      "('RAFAEL', 'ABNEY')\n",
      "('RAMON', 'CHOATE')\n",
      "('RANDALL', 'NEUMANN')\n",
      "('RAUL', 'FORTIER')\n",
      "('REBECCA', 'SCOTT')\n",
      "('REGINA', 'BERRY')\n",
      "('RENE', 'MCALISTER')\n",
      "('RENEE', 'LANE')\n",
      "('RICARDO', 'MEADOR')\n",
      "('RICHARD', 'MCCRARY')\n",
      "('ROBERT', 'BAUGHMAN')\n",
      "('ROBERTA', 'HARPER')\n",
      "('ROLAND', 'SOUTH')\n",
      "('ROSA', 'REYNOLDS')\n",
      "('ROY', 'WHITING')\n",
      "('RUSSELL', 'BRINSON')\n",
      "('RYAN', 'SALISBURY')\n",
      "('SAM', 'MCDUFFIE')\n",
      "('SAMANTHA', 'DUNCAN')\n",
      "('SANDRA', 'MARTIN')\n",
      "('SARA', 'PERRY')\n",
      "('SHANE', 'MILLARD')\n",
      "('SHARON', 'ROBINSON')\n",
      "('SHERRI', 'RHODES')\n",
      "('STACEY', 'MONTGOMERY')\n",
      "('STEPHANIE', 'MITCHELL')\n",
      "('STEPHEN', 'QUALLS')\n",
      "('STEVE', 'MACKENZIE')\n",
      "('SYLVIA', 'ORTIZ')\n",
      "('TAMMY', 'SANDERS')\n",
      "('TARA', 'RYAN')\n",
      "('TED', 'BREAUX')\n",
      "('TERRENCE', 'GUNDERSON')\n",
      "('TERRY', 'CARLSON')\n",
      "('TERRY', 'GRISSOM')\n",
      "('THERESA', 'WATSON')\n",
      "('THOMAS', 'GRIGSBY')\n",
      "('TODD', 'TAN')\n",
      "('TONI', 'HOLT')\n",
      "('TONY', 'CARRANZA')\n",
      "('TONYA', 'CHAPMAN')\n",
      "('TRACY', 'COLE')\n",
      "('TROY', 'QUIGLEY')\n",
      "('VALERIE', 'BLACK')\n",
      "('VERA', 'MCCOY')\n",
      "('VERNON', 'CHAPA')\n",
      "('VICKI', 'FIELDS')\n",
      "('VICTORIA', 'GIBSON')\n",
      "('VIOLA', 'HANSON')\n",
      "('VIOLET', 'RODRIQUEZ')\n",
      "('VIRGINIA', 'GREEN')\n",
      "('WALTER', 'PERRYMAN')\n",
      "('WANDA', 'PATTERSON')\n",
      "('WARREN', 'SHERROD')\n",
      "('WAYNE', 'TRUONG')\n",
      "('WENDY', 'HARRISON')\n",
      "('WESLEY', 'BULL')\n",
      "('WILLARD', 'LUMPKIN')\n",
      "('WILLIAM', 'SATTERFIELD')\n",
      "('WILLIE', 'MARKHAM')\n",
      "('WILMA', 'RICHARDS')\n",
      "('YVONNE', 'WATKINS')\n"
     ]
    }
   ],
   "source": [
    "# returned in 2005-06-01 or later\n",
    "first_use_case = '''\n",
    "SELECT\n",
    "    customer.customer_id\n",
    "FROM\n",
    "    customer\n",
    "    INNER JOIN rental USING (customer_id)\n",
    "    INNER JOIN inventory USING (inventory_id)\n",
    "    INNER JOIN film USING (film_id)\n",
    "    INNER JOIN film_actor USING (film_id)\n",
    "    INNER JOIN actor USING (actor_id)\n",
    "WHERE\n",
    "    actor.first_name = 'DAN'\n",
    "    AND actor.last_name = 'HARRIS'\n",
    "    AND rental.return_date >= '2005-06-01'\n",
    "'''\n",
    "\n",
    "# rented in 2005-06-01 or later\n",
    "second_use_case = '''\n",
    "SELECT\n",
    "    customer.customer_id\n",
    "FROM\n",
    "    customer\n",
    "    INNER JOIN rental USING (customer_id)\n",
    "    INNER JOIN inventory USING (inventory_id)\n",
    "    INNER JOIN film USING (film_id)\n",
    "    INNER JOIN film_actor USING (film_id)\n",
    "    INNER JOIN actor USING (actor_id)\n",
    "WHERE\n",
    "    actor.first_name = 'DAN'\n",
    "    AND actor.last_name = 'HARRIS'\n",
    "    AND rental.rental_date >= '2005-06-01'\n",
    "'''\n",
    "\n",
    "# rented before 2005-06-01 and have not returned yet\n",
    "third_use_case = '''\n",
    "SELECT\n",
    "    customer.customer_id\n",
    "FROM\n",
    "    customer\n",
    "    INNER JOIN rental USING (customer_id)\n",
    "    INNER JOIN inventory USING (inventory_id)\n",
    "    INNER JOIN film USING (film_id)\n",
    "    INNER JOIN film_actor USING (film_id)\n",
    "    INNER JOIN actor USING (actor_id)\n",
    "WHERE\n",
    "    actor.first_name = 'DAN'\n",
    "    AND actor.last_name = 'HARRIS'\n",
    "    AND rental.rental_date < '2005-06-01'\n",
    "    AND rental.return_date IS NULL\n",
    "'''\n",
    "\n",
    "all_use_cases = f'''\n",
    "{first_use_case}\n",
    "UNION\n",
    "{second_use_case}\n",
    "UNION\n",
    "{third_use_case}\n",
    "'''\n",
    "\n",
    "sql_ex11 = f'''\n",
    "SELECT\n",
    "    first_name, last_name\n",
    "FROM\n",
    "    customer\n",
    "WHERE\n",
    "    customer_id NOT IN ({all_use_cases})\n",
    "ORDER BY\n",
    "    first_name, last_name\n",
    "'''\n",
    "\n",
    "db(sql_ex11)"
   ]
  },
  {
   "cell_type": "code",
   "execution_count": 67,
   "metadata": {},
   "outputs": [
    {
     "data": {
      "application/vnd.jupyter.widget-view+json": {
       "model_id": "574d9cdd421741c4bd821273199f070f",
       "version_major": 2,
       "version_minor": 0
      },
      "text/plain": [
       "interactive(children=(Button(description='Enviar ex11', style=ButtonStyle()), Output()), _dom_classes=('widget…"
      ]
     },
     "execution_count": 67,
     "metadata": {},
     "output_type": "execute_result"
    }
   ],
   "source": [
    "ia.sender(answer='sql_ex11', task='views', question='ex11', answer_type='pyvar')"
   ]
  },
  {
   "cell_type": "markdown",
   "metadata": {},
   "source": [
    "- Faça uma consulta que retorne, para cada ator, a seguinte informação:\n",
    "\n",
    "| first_name | last_name | filmes por categoria |\n",
    "|--|--|--|\n",
    "| PENELOPE | GUINESS | Animation: ANACONDA CONFESSIONS; Children: LANGUAGE COWBOY; Classics: COLOR PHILADELPHIA, WESTWARD SEABISCUIT; Comedy: VERTIGO NORTHWEST; Documentary: ACADEMY DINOSAUR; Family: KING EVOLUTION, SPLASH GUMP; Foreign: MULHOLLAND BEAST; Games: BULWORTH COMMANDMENTS, HUMAN GRAFFITI; Horror: ELEPHANT TROJAN, LADY STAGE, RULES HUMAN; Music: WIZARD COLDBLOODED; New: ANGELS LIFE, OKLAHOMA JUMANJI; Sci-Fi: CHEAPER CLYDE; Sports: GLEAMING JAWBREAKER |\n",
    "| NICK | WAHLBERG | Action: BULL SHAWSHANK; Animation: FIGHT JAWBREAKER; Children: JERSEY SASSY; Classics: DRACULA CRYSTAL, GILBERT PELICAN; Comedy: MALLRATS UNITED, RUSHMORE MERMAID; Documentary: ADAPTATION HOLES; Drama: WARDROBE PHANTOM; Family: APACHE DIVINE, CHISUM BEHAVIOR, INDIAN LOVE, MAGUIRE APACHE; Foreign: BABY HALL, HAPPINESS UNITED; Games: ROOF CHAMPION; Music: LUCKY FLYING; New: DESTINY SATURDAY, FLASH WARS, JEKYLL FROGMEN, MASK PEACH; Sci-Fi: CHAINSAW UPTOWN, GOODFELLAS SALUTE; Travel: LIAISONS SWEET, SMILE EARRING |\n",
    "| etc | etc | etc |\n",
    "\n",
    "Ordene pelo nome e sobrenome do ator.\n",
    "\n",
    "Dica: use `GROUP_CONCAT` para agrupar todas as strings de uma coluna em uma string só, e `CONCAT` para unir strings particulares."
   ]
  },
  {
   "cell_type": "code",
   "execution_count": 68,
   "metadata": {},
   "outputs": [
    {
     "name": "stdout",
     "output_type": "stream",
     "text": [
      "Executando query:\n",
      "('ADAM', 'GRANT', 'Action: MIDNIGHT WESTWARD; Children: IDOLS SNATCHERS, SPLENDOR PATTON, TWISTED PIRATES; Classics: TADPOLE PARK; Comedy: FIREBALL PHILADELPHIA, GROUNDHOG UNCUT, OPERATION OPERATION; Family: GLADIATOR WESTWARD; Foreign: BALLROOM MOCKINGBIRD, HAPPINESS UNITED; Games: GLORY TRACY, MARS ROMAN, WANDA CHAMBER; Sci-Fi: ANNIE IDENTITY; Sports: LOSER HUSTLER, SEABISCUIT PUNK; Travel: DISCIPLE MOTHER')\n",
      "('ADAM', 'HOPPER', 'Action: CLUELESS BUCKET, MOCKINGBIRD HOLLYWOOD; Children: NOON PAPI; Classics: TOWERS HURRICANE; Comedy: HEAVEN FREEDOM, SADDLE ANTITRUST; Documentary: CLERKS ANGELS, PRINCESS GIANT; Drama: TORQUE BOUND; Family: BLOOD ARGONAUTS, GABLES METROPOLIS, GREASE YOUTH; Foreign: FICTION CHRISTMAS; Horror: TRAIN BUNCH; Music: CHAMBER ITALIAN, MASKED BUBBLE, WORDS HUNTER; New: LOVERBOY ATTACKS, SLEEPY JAPANESE; Sci-Fi: BLINDNESS GUN, OPEN AFRICAN, VACATION BOONDOCK')\n",
      "('AL', 'GARLAND', 'Action: DRIFTER COMMANDMENTS, GLASS DYING, GRAIL FRANKENSTEIN, HANDICAP BOONDOCK, PARK CITIZEN; Animation: OSCAR GOLD, POTTER CONNECTICUT; Children: SPLENDOR PATTON; Classics: WASTELAND DIVINE; Documentary: BILL OTHERS; Drama: CHITTY LOCK, DALMATIONS SWEDEN, JACKET FRISCO; Family: HOUSE DYNAMITE, SPLASH GUMP; Foreign: HOLIDAY GAMES, MUPPET MILE, VISION TORQUE; Games: SLEUTH ORIENT; Horror: ROCK INSTINCT; New: BREAKFAST GOLDFINGER, VOICE PEACH; Sci-Fi: SILVERADO GOLDFINGER; Sports: SENSE GREEK, SLIPPER FIDELITY; Travel: ENOUGH RAGING')\n",
      "('ALAN', 'DREYFUSS', 'Action: CLUELESS BUCKET; Animation: CLASH FREDDY, MASSAGE IMAGE; Children: JUMPING WRATH, POLISH BROOKLYN, STRANGELOVE DESIRE, UPTOWN YOUNG; Comedy: CRAZY HOME, LONELY ELEPHANT, STRICTLY SCARFACE; Documentary: METAL ARMAGEDDON, SAGEBRUSH CLUELESS; Drama: GREEDY ROOTS; Family: BLANKET BEVERLY, MAGUIRE APACHE, RUSH GOODFELLAS; Games: BULWORTH COMMANDMENTS; Horror: FIDELITY DEVIL; Music: BIRCH ANTITRUST, MONSTER SPARTACUS, UNCUT SUICIDES; New: VAMPIRE WHALE; Sci-Fi: BADMAN DAWN, BARBARELLA STREETCAR, DIVIDE MONSTER; Travel: HAUNTED ANTITRUST, KICK SAVANNAH')\n",
      "('ALBERT', 'JOHANSSON', 'Animation: FIGHT JAWBREAKER, HARPER DYING; Children: CROOKED FROGMEN, WALLS ARTIST; Classics: LEAGUE HELLFIGHTERS, RIGHT CRANES; Comedy: HEAVEN FREEDOM, SWEDEN SHINING; Documentary: HOMEWARD CIDER, METAL ARMAGEDDON, ROAD ROXANNE, VIRGINIAN PLUTO, WEDDING APOLLO; Drama: APOLLO TEEN, DECEIVER BETRAYED, LEBOWSKI SOLDIERS, WEST LION; Foreign: ALLEY EVOLUTION, DANGEROUS UPTOWN; Games: CANDLES GRAPES, MONSOON CAUSE; Horror: TREASURE COMMAND, UNDEFEATED DALMATIONS; Music: ALASKA PHANTOM, ELF MURDER, GROSSE WONDERFUL; New: FLAMINGOS CONNECTICUT, REDEMPTION COMFORTS; Sci-Fi: CONNECTICUT TRAMP, EXPRESS LONELY; Sports: CRUSADE HONEY, GRACELAND DYNAMITE, HONEY TIES')\n",
      "('ALBERT', 'NOLTE', 'Action: DRAGON SQUAD, HANDICAP BOONDOCK, PATRIOT ROMAN; Children: DOCTOR GRAIL, IDOLS SNATCHERS; Comedy: CRAZY HOME, FLINTSTONES HAPPINESS, MEMENTO ZOOLANDER; Documentary: BED HIGHBALL, KILL BROTHERHOOD; Drama: BRIGHT ENCOUNTERS, DALMATIONS SWEDEN, PITY BOUND; Family: CONFUSED CANDLES, HOMICIDE PEACH, MANCHURIAN CURTAIN, RAGE GAMES; Foreign: BROOKLYN DESERT, HELLFIGHTERS SIERRA, MIXED DOORS, NEWTON LABYRINTH, TRAP GUYS; Games: VOLCANO TEXAS; Horror: WATERSHIP FRONTIER; Music: TAXI KICK; Sci-Fi: CAMELOT VACATION, FRISCO FORREST, GOLDMINE TYCOON, MOURNING PURPLE; Sports: GLEAMING JAWBREAKER, HONEY TIES')\n",
      "('ALEC', 'WAYNE', 'Action: BULL SHAWSHANK; Children: CABIN FLASH, MAGIC MALLRATS, UPTOWN YOUNG; Classics: CENTER DINOSAUR, JEOPARDY ENCINO, SUMMER SCARFACE; Comedy: FREEDOM CLEOPATRA, HUSTLER PARTY; Documentary: SMOKING BARBARELLA; Drama: BLADE POLISH, CONEHEADS SMOOCHY, ENCOUNTERS CURTAIN, VIRGIN DAISY; Family: EFFECT GLADIATOR; Foreign: FICTION CHRISTMAS; Games: OUTBREAK DIVINE; Music: CHAMBER ITALIAN, INSIDER ARIZONA; New: DESTINY SATURDAY, HOURS RAGE, MONEY HAROLD; Sci-Fi: EXPRESS LONELY, IDENTITY LOVER, REIGN GENTLEMEN; Sports: ALADDIN CALENDAR, JOON NORTHWEST, LIBERTY MAGNIFICENT; Travel: FUGITIVE MAGUIRE')\n",
      "('ANGELA', 'HUDSON', 'Action: BRIDE INTRIGUE, GOSFORD DONNIE; Animation: LUKE MUMMY, NASH CHOCOLAT; Children: JUMPING WRATH, ROBBERS JOON, STRANGELOVE DESIRE; Classics: ISLAND EXORCIST, PREJUDICE OLEANDER, VOYAGE LEGALLY; Comedy: ELEMENT FREDDY, VELVET TERMINATOR; Documentary: METAL ARMAGEDDON; Drama: PITY BOUND; Family: JASON TRAP; Games: AUTUMN CROW, BULWORTH COMMANDMENTS, CANDLES GRAPES, MALTESE HOPE; Horror: JAPANESE RUN, PARIS WEEKEND, WATERSHIP FRONTIER; Music: CLONES PINOCCHIO, HANOVER GALAXY, LEGEND JEDI; New: FATAL HAUNTED; Sci-Fi: ARMAGEDDON LOST, FRISCO FORREST, RANDOM GO; Sports: LESSON CLEOPATRA, MILE MULAN; Travel: CASSIDY WYOMING, GAMES BOWFINGER, KICK SAVANNAH')\n",
      "('ANGELA', 'WITHERSPOON', 'Action: BERETS AGENT, BULL SHAWSHANK, CELEBRITY HORN; Animation: ALTER VICTORY, WAIT CIDER; Classics: CORE SUIT, DETECTIVE VISION; Comedy: BRINGING HYSTERICAL, CAT CONEHEADS; Documentary: COAST RAINBOW, HALLOWEEN NUTS, SECRET GROUNDHOG; Drama: BLADE POLISH, EDGE KISSING, HANGING DEEP, JACKET FRISCO, KWAI HOMEWARD; Family: RUSH GOODFELLAS; Foreign: STEPMOM DREAM; Games: SASSY PACKER; Horror: PULP BEVERLY; Music: LUCKY FLYING; New: BOULEVARD MOB, DAY UNFAITHFUL; Sci-Fi: FIDDLER LOST; Sports: CHANCE RESURRECTION, DUDE BLINDNESS, EVOLUTION ALTER, EXORCIST STING, MOTHER OLEANDER, PEAK FOREVER; Travel: CASABLANCA SUPER, CASSIDY WYOMING, SHAWSHANK BUBBLE, TOMATOES HELLFIGHTERS')\n",
      "('ANGELINA', 'ASTAIRE', 'Action: STORY SIDE; Animation: DESIRE ALIEN, INTENTIONS EMPIRE; Children: BENEATH RUSH, BETRAYED REAR; Classics: BEAST HUNCHBACK, SUMMER SCARFACE; Comedy: HUSTLER PARTY, MEMENTO ZOOLANDER, MULAN MOON, SATURN NAME; Documentary: PACIFIC AMISTAD; Drama: RACER EGG, WARDROBE PHANTOM; Family: GANDHI KWAI, KILLER INNOCENT, SUNSET RACER; Games: SEVEN SWARM; Horror: CARRIE BUNCH, SWARM GOLD; New: BREAKFAST GOLDFINGER, DRAGONFLY STRANGERS, SAMURAI LION, VANISHED GARDEN; Sci-Fi: DISTURBING SCARFACE, TROJAN TOMORROW; Sports: CRANES RESERVOIR, JADE BUNCH, MUMMY CREATURES; Travel: ORDER BETRAYED, OUTLAW HANKY')\n",
      "('ANNE', 'CRONYN', 'Action: DRAGON SQUAD, LUST LOCK, MINDS TRUMAN, UPRISING UPTOWN; Animation: HORN WORKING; Children: HOLLYWOOD ANONYMOUS; Classics: IRON MOON, REQUIEM TYCOON; Documentary: HARDLY ROBBERS, HAWK CHILL; Drama: ENCOUNTERS CURTAIN, PATHS CONTROL, RACER EGG; Family: APACHE DIVINE, GANDHI KWAI, HALF OUTFIELD; Foreign: DANGEROUS UPTOWN, MOON BUNCH; Horror: LADY STAGE, REAP UNFAITHFUL; Music: WIZARD COLDBLOODED; New: MANNEQUIN WORST; Sci-Fi: CINCINATTI WHISPERER, CROWDS TELEMARK; Sports: RIDER CADDYSHACK; Travel: SMILE EARRING, WINDOW SIDE')\n",
      "('AUDREY', 'BAILEY', 'Action: ARK RIDGEMONT, DRIFTER COMMANDMENTS, MAGNOLIA FORRESTER, SKY MIRACLE; Animation: POTTER CONNECTICUT; Children: WARLOCK WEREWOLF; Classics: TADPOLE PARK; Documentary: BED HIGHBALL, QUILLS BULL; Drama: CONFESSIONS MAGUIRE; Family: PILOT HOOSIERS, PITTSBURGH HUNCHBACK, PRESIDENT BANG; Foreign: NEWTON LABYRINTH, PURPLE MOVIE; Games: FEVER EMPIRE; Music: BANGER PINOCCHIO, ELF MURDER, HEAVENLY GUN, HOME PITY, MASKED BUBBLE; New: SLEEPY JAPANESE; Sci-Fi: DISTURBING SCARFACE, GRAFFITI LOVE; Sports: MUMMY CREATURES; Travel: BOONDOCK BALLROOM, ITALIAN AFRICAN')\n",
      "('AUDREY', 'OLIVIER', 'Action: SIDE ARK; Children: STRANGER STRANGERS; Classics: LOATHING LEGALLY, VOLUME HOUSE; Comedy: CAPER MOTIONS, CONTROL ANTHEM, KNOCK WARLOCK; Documentary: FRENCH HOLIDAY, HALLOWEEN NUTS, SHIP WONDERLAND; Drama: CONEHEADS SMOOCHY; Family: ATLANTIS CAUSE; Foreign: KANE EXORCIST, USUAL UNTOUCHABLES, WHALE BIKINI; Games: HUMAN GRAFFITI; Music: DORADO NOTTING; New: BOULEVARD MOB, REDEMPTION COMFORTS, STING PERSONAL; Sports: GUNFIGHTER MUSSOLINI, PEAK FOREVER, SENSE GREEK, SQUAD FISH; Travel: CASSIDY WYOMING')\n",
      "('BELA', 'WALKEN', 'Action: FANTASY TROOPERS; Animation: LUKE MUMMY, NASH CHOCOLAT; Children: HOLLYWOOD ANONYMOUS, LEGALLY SECRETARY, SPLENDOR PATTON; Classics: JERK PAYCHECK, SNATCHERS MONTEZUMA; Comedy: ELEMENT FREDDY, FLINTSTONES HAPPINESS, LION UNCUT, STAGE WORLD, TRAMP OTHERS, VERTIGO NORTHWEST; Documentary: CLERKS ANGELS, MIDSUMMER GROUNDHOG, MIGHTY LUCK, MOD SECRETARY; Drama: BEETHOVEN EXORCIST, JACKET FRISCO; Family: SIEGE MADRE; Foreign: TRAP GUYS; Games: MARS ROMAN, PIZZA JUMANJI, TYCOON GATHERING; Horror: CARRIE BUNCH; Music: ENEMY ODDS; New: OKLAHOMA JUMANJI; Sci-Fi: WHISPERER GIANT; Travel: COMFORTS RUSH')\n",
      "('BEN', 'HARRIS', 'Action: FIREHOUSE VIETNAM, UPRISING UPTOWN, WATERFRONT DELIVERANCE, WEREWOLF LOLA; Animation: NASH CHOCOLAT; Children: BEAR GRACELAND, SCARFACE BANG; Classics: MILLION ACE, MUSKETEERS WAIT, TIMBERLAND SKY; Comedy: FRANKENSTEIN STRANGER, PINOCCHIO SIMON; Documentary: DOZEN LION; Family: JASON TRAP; Foreign: MUPPET MILE, PET HAUNTING, SORORITY QUEEN; Games: DAZED PUNK; Horror: JAPANESE RUN; New: STING PERSONAL; Sci-Fi: CITIZEN SHREK; Sports: RIDER CADDYSHACK, TOURIST PELICAN')\n",
      "('BEN', 'WILLIS', 'Animation: CAROL TEXAS, EARLY HOME, NASH CHOCOLAT; Children: CABIN FLASH, SPLENDOR PATTON, SWEETHEARTS SUSPECTS; Classics: DRACULA CRYSTAL; Comedy: DOWNHILL ENOUGH, LONELY ELEPHANT, PERFECT GROOVE, VALLEY PACKER; Documentary: BEACH HEARTBREAKERS, HEAVYWEIGHTS BEAST; Foreign: BALLROOM MOCKINGBIRD; Games: DAZED PUNK, ENCINO ELF; New: FRONTIER CABIN, PLUTO OLEANDER; Sci-Fi: BADMAN DAWN, COLDBLOODED DARLING, GOODFELLAS SALUTE, PANTHER REDS; Sports: CARIBBEAN LIBERTY, CHANCE RESURRECTION, DURHAM PANKY, ELIZABETH SHANE, LIBERTY MAGNIFICENT, NOVOCAINE FLIGHT, RECORDS ZORRO, SATURDAY LAMBS, SECRETARY ROUGE; Travel: FROGMEN BREAKING, SHANGHAI TYCOON')\n",
      "('BETTE', 'NICHOLSON', 'Action: ANTITRUST TOMATOES; Animation: BIKINI BORROWERS, CROSSROADS CASUALTIES, POTLUCK MIXED, TITANIC BOONDOCK; Children: LANGUAGE COWBOY; Classics: BEAST HUNCHBACK; Documentary: COAST RAINBOW; Family: BANG KWAI; Foreign: CALENDAR GUNFIGHT, MULHOLLAND BEAST; New: WYOMING STORM; Sci-Fi: COLDBLOODED DARLING; Sports: DROP WATERFRONT, KRAMER CHOCOLATE, LESSON CLEOPATRA, LIBERTY MAGNIFICENT, TRADING PINOCCHIO; Travel: IGBY MAKER, SPEED SUIT')\n",
      "('BOB', 'FAWCETT', 'Action: DARN FORRESTER; Animation: DARES PLUTO, LAWLESS VISION, OSCAR GOLD; Children: CIRCUS YOUTH; Classics: DYNAMITE TARZAN; Comedy: CONTROL ANTHEM, HATE HANDICAP, SADDLE ANTITRUST; Documentary: ADAPTATION HOLES, PELICAN COMFORTS; Drama: JACKET FRISCO, SCORPION APOLLO; Family: HOMICIDE PEACH; Games: DAZED PUNK; Horror: ACE GOLDFINGER; Music: PERSONAL LADYBUGS, RUNNER MADIGAN, TAXI KICK; New: CHINATOWN GLADIATOR, JUMANJI BLADE, RUN PACIFIC; Sci-Fi: RAGING AIRPLANE; Travel: LEATHERNECKS DWARFS, SHAWSHANK BUBBLE')\n",
      "('BURT', 'DUKAKIS', 'Action: TRUMAN CRAZY; Animation: DOUBLE WRATH, MENAGERIE RUSHMORE; Classics: JERK PAYCHECK, RIGHT CRANES; Comedy: HEAVEN FREEDOM; Documentary: HOMEWARD CIDER, INTOLERABLE INTENTIONS; Family: DINOSAUR SECRETARY, KING EVOLUTION, RANGE MOONWALKER; Foreign: ALIEN CENTER, GREEK EVERYONE, KANE EXORCIST; Games: GRINCH MASSAGE, GUN BONNIE, WANDA CHAMBER; Horror: COMMANDMENTS EXPRESS, MOTIONS DETAILS, REAP UNFAITHFUL; Music: HOME PITY; New: ENDING CROWDS, MONEY HAROLD; Sci-Fi: BLINDNESS GUN, GUYS FALCON, RANDOM GO; Sports: IMAGE PRINCESS, TALENTED HOMICIDE; Travel: VALENTINE VANISHING')\n",
      "('BURT', 'POSEY', 'Action: MINDS TRUMAN; Animation: LUKE MUMMY; Children: MAGIC MALLRATS; Classics: HYDE DOCTOR, ROOTS REMEMBER; Drama: CHILL LUCK; Family: KILLER INNOCENT, SENSIBILITY REAR; Foreign: COMMAND DARLING; Games: LAMBS CINCINATTI; Horror: ARABIA DOGMA, DESERT POSEIDON, FAMILY SWEET, SWARM GOLD; Music: ALASKA PHANTOM; New: HOURS RAGE, JUNGLE CLOSER, UNBREAKABLE KARATE; Sports: GRACELAND DYNAMITE, HYSTERICAL GRAIL, PEACH INNOCENT, SATURDAY LAMBS; Travel: GAMES BOWFINGER, OTHERS SOUP')\n",
      "('BURT', 'TEMPLE', 'Animation: WAIT CIDER; Classics: GILMORE BOILED, SPIKING ELEMENT; Comedy: CAPER MOTIONS; Documentary: COAST RAINBOW, HEAVYWEIGHTS BEAST, SPOILERS HELLFIGHTERS, WARS PLUTO; Drama: RACER EGG; Family: BLANKET BEVERLY; Foreign: GRAPES FURY, POLLOCK DELIVERANCE; Games: CHICAGO NORTH, GATHERING CALENDAR, SLEUTH ORIENT; Music: INSIDER ARIZONA; New: BUTTERFLY CHOCOLAT, VARSITY TRIP; Sci-Fi: ATTACKS HATE; Sports: EVOLUTION ALTER, ROSES TREASURE, STRAIGHT HOURS; Travel: BUCKET BROTHERHOOD')\n",
      "('CAMERON', 'STREEP', 'Action: CASUALTIES ENCINO, CROW GREASE; Children: LEGALLY SECRETARY; Comedy: CONNECTION MICROCOSMOS, DOOM DANCING, FREEDOM CLEOPATRA, PURE RUNNER; Documentary: ADAPTATION HOLES, COAST RAINBOW, CUPBOARD SINNERS; Drama: MOB DUFFEL, WEST LION; Family: BLUES INSTINCT, MOVIE SHAKESPEARE, SPINAL ROCKY, SPLASH GUMP; Foreign: CALENDAR GUNFIGHT, CHOCOLATE DUCK; Games: SEVEN SWARM; Horror: ELEPHANT TROJAN, PANIC CLUB; Sports: DROP WATERFRONT, INSTINCT AIRPORT; Travel: HAUNTED ANTITRUST')\n",
      "('CAMERON', 'WRAY', 'Animation: CHAMPION FLATLINERS, DARES PLUTO; Children: HALL CASSIDY; Classics: DRACULA CRYSTAL, OCTOBER SUBMARINE; Comedy: VALLEY PACKER; Documentary: DOZEN LION, VIRGINIAN PLUTO; Drama: DESTINATION JERK, VIRGIN DAISY; Games: SEVEN SWARM; Music: ELF MURDER; Sci-Fi: BINGO TALENTED, TITANS JERK; Sports: LESSON CLEOPATRA, SATISFACTION CONFIDENTIAL, SLIPPER FIDELITY; Travel: COMA HEAD, WOLVES DESIRE')\n",
      "('CAMERON', 'ZELLWEGER', 'Action: CLUELESS BUCKET, CROW GREASE, RINGS HEARTBREAKERS; Animation: BLACKOUT PRIVATE, FLOATS GARDEN, JUGGLER HARDLY; Children: MURDER ANTITRUST; Classics: RIGHT CRANES, ROOTS REMEMBER, WASTELAND DIVINE; Comedy: MALLRATS UNITED, PINOCCHIO SIMON; Documentary: HAWK CHILL, WIFE TURN; Drama: BEAUTY GREASE, BRIGHT ENCOUNTERS, CONQUERER NUTS, HARRY IDAHO, ORIENT CLOSER; Family: GLADIATOR WESTWARD, MOVIE SHAKESPEARE, PILOT HOOSIERS; Foreign: HELLFIGHTERS SIERRA, PEARL DESTINY; Games: GRIT CLOCKWORK, LAMBS CINCINATTI, PRIVATE DROP, TYCOON GATHERING; Horror: ROCK INSTINCT; New: STOCK GLASS; Sports: JADE BUNCH, SECRETARY ROUGE; Travel: TOMATOES HELLFIGHTERS')\n",
      "('CARMEN', 'HUNT', 'Action: PATRIOT ROMAN, TRUMAN CRAZY; Children: HOLOCAUST HIGHBALL, LEGALLY SECRETARY, ZOOLANDER FICTION; Classics: DRACULA CRYSTAL, FROST HEAD, VOYAGE LEGALLY; Comedy: GUNFIGHT MOON; Documentary: HAWK CHILL, SMOKING BARBARELLA; Foreign: GRAPES FURY, MIXED DOORS, POLLOCK DELIVERANCE; Games: MOONSHINE CABIN; Horror: BOWFINGER GABLES; Music: AMELIE HELLFIGHTERS, TELEGRAPH VOYAGE; New: BREAKING HOME, BUTCH PANTHER, PHANTOM GLORY; Sci-Fi: DAISY MENAGERIE, RANDOM GO; Sports: JADE BUNCH, LESSON CLEOPATRA; Travel: TEEN APOLLO')\n",
      "('CARY', 'MCCONAUGHEY', 'Animation: BLACKOUT PRIVATE, DOUBLE WRATH, WATCH TRACY; Children: FULL FLATLINERS, WRONG BEHAVIOR; Classics: PREJUDICE OLEANDER; Comedy: VELVET TERMINATOR; Documentary: ARMY FLINTSTONES, DUFFEL APOCALYPSE, VILLAIN DESPERATE; Drama: WEST LION; Family: HUNTING MUSKETEERS, INDIAN LOVE; Foreign: MAUDE MOD; Horror: ALI FOREVER, RULES HUMAN; New: AMISTAD MIDSUMMER, LOVERBOY ATTACKS, OKLAHOMA JUMANJI; Sci-Fi: BINGO TALENTED, CITIZEN SHREK, DOLLS RAGE; Sports: MUSSOLINI SPOILERS; Travel: DESPERATE TRAINSPOTTING')\n",
      "('CATE', 'HARRIS', 'Action: BERETS AGENT, HANDICAP BOONDOCK; Animation: DESIRE ALIEN, STORM HAPPINESS; Children: CROOKED FROGMEN, JUMPING WRATH, SCARFACE BANG; Classics: FROST HEAD, GILMORE BOILED, SUMMER SCARFACE; Comedy: CRAZY HOME; Documentary: MODERN DORADO, WRATH MILE; Drama: SEA VIRGIN; Family: ATLANTIS CAUSE, SPINAL ROCKY; Foreign: DANGEROUS UPTOWN, GREEK EVERYONE, INTRIGUE WORST, MUPPET MILE, SORORITY QUEEN; Games: STAMPEDE DISTURBING; Horror: ROLLERCOASTER BRINGING, TREASURE COMMAND; Music: PERSONAL LADYBUGS, RUNNER MADIGAN; Sci-Fi: SUN CONFESSIONS; Travel: SHINING ROSES')\n",
      "('CATE', 'MCQUEEN', 'Action: DARN FORRESTER; Animation: FLYING HOOK, MASSAGE IMAGE, POTTER CONNECTICUT, PRIDE ALAMO; Children: COMANCHEROS ENEMY, DOCTOR GRAIL, JERSEY SASSY; Classics: TOWERS HURRICANE; Comedy: CAPER MOTIONS, SEARCHERS WAIT, SNATCH SLIPPER; Documentary: FRENCH HOLIDAY, HAWK CHILL, PACIFIC AMISTAD; Drama: VIRGIN DAISY; Family: BLOOD ARGONAUTS, GABLES METROPOLIS; Games: NAME DETECTIVE, VOLCANO TEXAS; Horror: PATTON INTERVIEW, WATERSHIP FRONTIER; Music: INSIDER ARIZONA, LEGEND JEDI; New: SALUTE APOLLO; Sci-Fi: ANNIE IDENTITY, FIDDLER LOST, TROJAN TOMORROW; Sports: PERDITION FARGO; Travel: FACTORY DRAGON')\n",
      "('CHARLIZE', 'DENCH', 'Action: CLUELESS BUCKET, DARN FORRESTER, LUST LOCK, PRIMARY GLASS; Animation: MASSAGE IMAGE; Children: SPLENDOR PATTON, SUNDANCE INVASION; Classics: DYNAMITE TARZAN, WESTWARD SEABISCUIT; Comedy: CONTROL ANTHEM, HEAVEN FREEDOM, LONELY ELEPHANT; Drama: JACKET FRISCO; Foreign: BABY HALL; Games: CANDLES GRAPES, FEATHERS METAL, HAUNTING PIANIST, WIND PHANTOM; Sports: CRANES RESERVOIR, DRIVER ANNIE, HYSTERICAL GRAIL, JOON NORTHWEST; Travel: BUCKET BROTHERHOOD, FUGITIVE MAGUIRE')\n",
      "('CHRIS', 'BRIDGES', 'Action: CROW GREASE, DARN FORRESTER; Children: BENEATH RUSH, WALLS ARTIST; Classics: EXTRAORDINARY CONQUERER, REQUIEM TYCOON; Comedy: SATURN NAME; Documentary: BILL OTHERS, ROAD ROXANNE; Drama: BUNCH MINDS; Family: CONVERSATION DOWNHILL, ODDS BOOGIE, RAGE GAMES, SPARTACUS CHEAPER, SPINAL ROCKY; Foreign: MUPPET MILE, PURPLE MOVIE, ROCKETEER MOTHER; Horror: WORLD LEATHERNECKS; Music: REDS POCUS; New: PLUTO OLEANDER; Sci-Fi: BLINDNESS GUN, TROJAN TOMORROW, WONDERLAND CHRISTMAS; Sports: CARIBBEAN LIBERTY, SHAKESPEARE SADDLE; Travel: BOONDOCK BALLROOM')\n",
      "('CHRIS', 'DEPP', 'Action: MINDS TRUMAN, SIDE ARK; Children: SABRINA MIDNIGHT, TEQUILA PAST; Classics: IRON MOON, JERK PAYCHECK, VOLUME HOUSE; Comedy: DOOM DANCING, PARTY KNOCK; Drama: GONE TROUBLE; Family: ATLANTIS CAUSE; Foreign: IMPOSSIBLE PREJUDICE, SCHOOL JACKET; Horror: ACE GOLDFINGER, EGYPT TENENBAUMS; Music: ALONE TRIP, SCALAWAG DUCK; New: EAGLES PANKY, WAKE JAWS; Travel: SPEED SUIT')\n",
      "('CHRISTIAN', 'AKROYD', 'Action: HILLS NEIGHBORS, MAGNOLIA FORRESTER; Animation: DOORS PRESIDENT, LUKE MUMMY; Children: BACKLASH UNDEFEATED, BETRAYED REAR, MAKER GABLES, SABRINA MIDNIGHT; Classics: MILLION ACE; Comedy: CAPER MOTIONS, DOOM DANCING, OPERATION OPERATION, SUBMARINE BED; Documentary: CUPBOARD SINNERS, PRINCESS GIANT; Family: CONFUSED CANDLES; Foreign: CATCH AMISTAD, INNOCENT USUAL, RESERVOIR ADAPTATION; Games: FEATHERS METAL, FIRE WOLVES; Horror: SINNERS ATLANTIS, STREETCAR INTENTIONS; Music: HOME PITY, JAWBREAKER BROOKLYN; New: MAIDEN HOME, NUTS TIES, OKLAHOMA JUMANJI; Sci-Fi: DIVIDE MONSTER, MOURNING PURPLE; Sports: CHANCE RESURRECTION, DRIVER ANNIE')\n",
      "('CHRISTIAN', 'GABLE', 'Action: LORD ARIZONA, WATERFRONT DELIVERANCE; Animation: PUNK DIVORCE; Children: CROOKED FROGMEN; Classics: JEEPERS WEDDING, PREJUDICE OLEANDER; Comedy: LIFE TWISTED; Documentary: ACADEMY DINOSAUR, MOD SECRETARY, WEDDING APOLLO; Drama: GOLDFINGER SENSIBILITY; Foreign: USUAL UNTOUCHABLES; Games: DIVINE RESURRECTION; Horror: ALABAMA DEVIL, REAP UNFAITHFUL; Music: JAWBREAKER BROOKLYN, WIZARD COLDBLOODED, WON DARES; New: DRAGONFLY STRANGERS; Sci-Fi: VACATION BOONDOCK; Sports: SHAKESPEARE SADDLE; Travel: TROUBLE DATE')\n",
      "('CHRISTIAN', 'NEESON', 'Animation: HORN WORKING, OZ LIAISONS, PUNK DIVORCE; Children: HOLLYWOOD ANONYMOUS; Classics: LOVER TRUMAN; Drama: MOB DUFFEL, SAVANNAH TOWN; Family: OPPOSITE NECKLACE, SENSIBILITY REAR, SPLASH GUMP; Games: GLORY TRACY, LAMBS CINCINATTI; Horror: LOVE SUICIDES, WORLD LEATHERNECKS; Music: RUNNER MADIGAN, SCALAWAG DUCK; Sci-Fi: DIVIDE MONSTER, GRAFFITI LOVE, SPIRITED CASUALTIES; Sports: DIVORCE SHINING, GRACELAND DYNAMITE, LIBERTY MAGNIFICENT; Travel: FELLOWSHIP AUTUMN, LIAISONS SWEET, OUTLAW HANKY')\n",
      "('CHRISTOPHER', 'BERRY', 'Action: LAWRENCE LOVE, WOMEN DORADO; Animation: STORM HAPPINESS, SUGAR WONKA; Children: BACKLASH UNDEFEATED, LANGUAGE COWBOY, MURDER ANTITRUST; Classics: CREEPERS KANE, JEEPERS WEDDING; Comedy: FREEDOM CLEOPATRA; Family: SPINAL ROCKY; Foreign: HIGHBALL POTTER, KANE EXORCIST; Games: ICE CROSSING, SLEUTH ORIENT, VIDEOTAPE ARSENIC; Horror: ALI FOREVER; New: ANGELS LIFE; Sports: CONGENIALITY QUEST; Travel: CONTACT ANONYMOUS')\n",
      "('CHRISTOPHER', 'WEST', 'Action: FANTASY TROOPERS; Animation: DOGMA FAMILY; Children: FARGO GANDHI, HEARTBREAKERS BRIGHT, SPLENDOR PATTON; Classics: COLOR PHILADELPHIA, CONSPIRACY SPIRIT, TIMBERLAND SKY; Comedy: HUSTLER PARTY, LIFE TWISTED; Documentary: YOUNG LANGUAGE; Foreign: VISION TORQUE; Horror: ANYTHING SAVANNAH, TEMPLE ATTRACTION; New: ATTRACTION NEWTON, ENDING CROWDS; Sci-Fi: HAMLET WISDOM; Sports: RECORDS ZORRO; Travel: FELLOWSHIP AUTUMN, HORROR REIGN, SHAWSHANK BUBBLE')\n",
      "('CUBA', 'ALLEN', 'Children: MAKER GABLES, ROBBERS JOON, STRANGELOVE DESIRE; Comedy: VELVET TERMINATOR; Documentary: SHIP WONDERLAND; Drama: WEST LION; Family: KING EVOLUTION, PRESIDENT BANG; Foreign: FICTION CHRISTMAS, HAPPINESS UNITED, ORANGE GRAPES, WAR NOTTING; Games: CHICAGO NORTH; Horror: ARACHNOPHOBIA ROLLERCOASTER; Music: GROSSE WONDERFUL; New: CHAPLIN LICENSE, MANNEQUIN WORST; Sci-Fi: ARMAGEDDON LOST, BADMAN DAWN, BARBARELLA STREETCAR, CINCINATTI WHISPERER, METROPOLIS COMA; Sports: LESSON CLEOPATRA; Travel: ARSENIC INDEPENDENCE, PAPI NECKLACE')\n",
      "('CUBA', 'BIRCH', 'Action: RUGRATS SHAKESPEARE; Animation: SONS INTERVIEW; Children: LANGUAGE COWBOY, STRANGER STRANGERS, TOOTSIE PILOT; Classics: DYNAMITE TARZAN, LEAGUE HELLFIGHTERS, MAGNIFICENT CHITTY, TOWERS HURRICANE; Documentary: ROAD ROXANNE, SHIP WONDERLAND; Drama: EDGE KISSING, TENENBAUMS COMMAND; Family: ATLANTIS CAUSE, BLOOD ARGONAUTS, FINDING ANACONDA; Foreign: LOST BIRD; Games: MARS ROMAN; Horror: COMMANDMENTS EXPRESS; Music: GREATEST NORTH; New: JUNGLE CLOSER; Sports: LIBERTY MAGNIFICENT, NORTHWEST POLISH, VICTORY ACADEMY')\n",
      "('CUBA', 'OLIVIER', 'Action: MONTEZUMA COMMAND, WEREWOLF LOLA; Animation: BORROWERS BEDAZZLED, FLYING HOOK, LUKE MUMMY, THEORY MERMAID; Children: EMPIRE MALKOVICH, MAKER GABLES, NOON PAPI; Classics: BOUND CHEAPER, HYDE DOCTOR; Comedy: KNOCK WARLOCK; Family: APACHE DIVINE, SIEGE MADRE; Foreign: HELLFIGHTERS SIERRA, KISS GLORY; Games: DIVINE RESURRECTION, VOLCANO TEXAS; Horror: EGYPT TENENBAUMS; New: BUTCH PANTHER, OKLAHOMA JUMANJI; Sci-Fi: SOLDIERS EVOLUTION, UNFORGIVEN ZOOLANDER, WONDERLAND CHRISTMAS; Sports: ROSES TREASURE; Travel: CASSIDY WYOMING, FUGITIVE MAGUIRE, SHANE DARKNESS')\n",
      "('DAN', 'HARRIS', 'Action: HILLS NEIGHBORS; Animation: TITANIC BOONDOCK; Children: GHOST GROUNDHOG; Classics: SUMMER SCARFACE; Documentary: INDEPENDENCE HOTEL; Drama: LIES TREATMENT, REUNION WITCHES; Family: BEDAZZLED MARRIED, SIEGE MADRE; Foreign: HOLIDAY GAMES, SCHOOL JACKET; Games: DIVINE RESURRECTION, SEVEN SWARM; Horror: MONTEREY LABYRINTH, WATERSHIP FRONTIER; Music: INSIDER ARIZONA, VANISHING ROCKY; New: DESTINY SATURDAY, RUN PACIFIC; Sci-Fi: EYES DRIVING, TITANS JERK; Sports: GROOVE FICTION, JADE BUNCH, STEERS ARMAGEDDON, STRAIGHT HOURS; Travel: BOONDOCK BALLROOM, FELLOWSHIP AUTUMN, SUPERFLY TRIP')\n",
      "('DAN', 'STREEP', 'Action: BULL SHAWSHANK; Animation: ARGONAUTS TOWN; Children: BACKLASH UNDEFEATED; Comedy: VERTIGO NORTHWEST; Documentary: FRENCH HOLIDAY, HEAVYWEIGHTS BEAST, NEWSIES STORY; Foreign: CATCH AMISTAD, MIXED DOORS; Games: ROOF CHAMPION, WANDA CHAMBER; Horror: PANIC CLUB; Music: GROSSE WONDERFUL, OUTFIELD MASSACRE; New: BOULEVARD MOB, JEKYLL FROGMEN, JUNGLE CLOSER; Sci-Fi: FRISCO FORREST; Sports: HOLES BRANNIGAN, MUMMY CREATURES, STEERS ARMAGEDDON; Travel: BORN SPINAL, IGBY MAKER, SHANGHAI TYCOON')\n",
      "('DAN', 'TORN', 'Action: REAR TRADING; Animation: EARLY HOME; Children: EMPIRE MALKOVICH, TEQUILA PAST; Classics: JERK PAYCHECK, LOVELY JINGLE, SLING LUKE; Drama: CONEHEADS SMOOCHY, VIRGIN DAISY; Foreign: INNOCENT USUAL; Games: STATE WASTELAND; Music: INSIDER ARIZONA; New: CHINATOWN GLADIATOR, FLASH WARS, MASK PEACH; Sci-Fi: ATTACKS HATE, SUN CONFESSIONS; Sports: ELIZABETH SHANE, MUSSOLINI SPOILERS, TUXEDO MILE; Travel: BOILED DARES, GUMP DATE')\n",
      "('DARYL', 'CRAWFORD', 'Action: BAREFOOT MANCHURIAN; Animation: BORROWERS BEDAZZLED, SLEEPLESS MONSOON; Classics: COLOR PHILADELPHIA, DRACULA CRYSTAL, ISLAND EXORCIST, WASTELAND DIVINE; Comedy: DADDY PITTSBURGH, DOWNHILL ENOUGH, STRICTLY SCARFACE, VELVET TERMINATOR; Documentary: BROTHERHOOD BLANKET, SPOILERS HELLFIGHTERS; Drama: DIARY PANIC, HOBBIT ALIEN, TREATMENT JEKYLL; Family: GANDHI KWAI, HALF OUTFIELD; Foreign: HOOSIERS BIRDCAGE, ILLUSION AMELIE, OPUS ICE, PEARL DESTINY, PURPLE MOVIE; Games: MOONWALKER FOOL, PIZZA JUMANJI; New: UNBREAKABLE KARATE; Sci-Fi: GOLDMINE TYCOON, LICENSE WEEKEND, MOURNING PURPLE; Travel: SPEED SUIT')\n",
      "('DARYL', 'WAHLBERG', 'Action: CASUALTIES ENCINO, FORREST SONS, GRAIL FRANKENSTEIN, RUGRATS SHAKESPEARE; Animation: DOUBLE WRATH, POND SEATTLE; Children: HOLOCAUST HIGHBALL; Classics: SPIKING ELEMENT; Comedy: LIFE TWISTED; Documentary: NORTH TEQUILA, STREAK RIDGEMONT; Drama: UNFAITHFUL KILL; Family: KILLER INNOCENT; Foreign: BABY HALL, BALLROOM MOCKINGBIRD, DANGEROUS UPTOWN, GENTLEMEN STAGE, HOOSIERS BIRDCAGE; Games: MADRE GABLES; Horror: ARACHNOPHOBIA ROLLERCOASTER, BEHAVIOR RUNAWAY, FAMILY SWEET; Music: BIRCH ANTITRUST; New: AMISTAD MIDSUMMER, MAIDEN HOME; Sci-Fi: FIDDLER LOST; Sports: HOLES BRANNIGAN, NEIGHBORS CHARADE, SMOOCHY CONTROL; Travel: EXPECATIONS NATURAL, TRAFFIC HOBBIT')\n",
      "('DEBBIE', 'AKROYD', 'Animation: CLUB GRAFFITI; Children: SUNDANCE INVASION; Classics: GALAXY SWEETHEARTS, SPIKING ELEMENT; Comedy: FLINTSTONES HAPPINESS, HEDWIG ALTER; Drama: APOLLO TEEN; Family: HALF OUTFIELD, HOUSE DYNAMITE, OPPOSITE NECKLACE, PILOT HOOSIERS, PRESIDENT BANG; Foreign: HOLIDAY GAMES, STEPMOM DREAM; Games: GLORY TRACY; Horror: FAMILY SWEET, WORLD LEATHERNECKS; Music: SONG HEDWIG; New: MONEY HAROLD, PIANIST OUTFIELD, REDEMPTION COMFORTS; Sci-Fi: RANDOM GO; Sports: PEAK FOREVER, VICTORY ACADEMY')\n",
      "('DUSTIN', 'TAUTOU', 'Action: CELEBRITY HORN, DARKO DORADO; Animation: CAROL TEXAS, DONNIE ALLEY, OSCAR GOLD; Children: STRANGER STRANGERS; Classics: PREJUDICE OLEANDER, SUMMER SCARFACE; Documentary: BILL OTHERS, CAUSE DATE, EXPENDABLE STALLION, PACIFIC AMISTAD, RAINBOW SHOCK, VILLAIN DESPERATE; Drama: HOBBIT ALIEN, SEA VIRGIN; Family: AFRICAN EGG, CONVERSATION DOWNHILL, VIRTUAL SPOILERS; Foreign: POLLOCK DELIVERANCE, WONDERFUL DROP; Games: AUTUMN CROW; Horror: PULP BEVERLY, RULES HUMAN; Music: BANGER PINOCCHIO; Sci-Fi: METROPOLIS COMA; Travel: BORN SPINAL')\n",
      "('ED', 'CHASE', 'Action: CADDYSHACK JEDI, FORREST SONS; Classics: FROST HEAD, JEEPERS WEDDING; Documentary: ARMY FLINTSTONES, FRENCH HOLIDAY, HALLOWEEN NUTS, HUNTER ALTER, WEDDING APOLLO, YOUNG LANGUAGE; Drama: LUCK OPUS, NECKLACE OUTBREAK, SPICE SORORITY; Foreign: COWBOY DOOM, WHALE BIKINI; Music: ALONE TRIP; New: EVE RESURRECTION, PLATOON INSTINCT; Sci-Fi: WEEKEND PERSONAL; Sports: ARTIST COLDBLOODED, IMAGE PRINCESS; Travel: BOONDOCK BALLROOM')\n",
      "('ED', 'GUINESS', 'Action: DRAGON SQUAD, RINGS HEARTBREAKERS; Animation: CROSSROADS CASUALTIES, JUGGLER HARDLY; Children: INVASION CYCLONE, MODEL FISH, STRANGELOVE DESIRE; Classics: CENTER DINOSAUR; Comedy: CLOSER BANG; Documentary: BONNIE HOLOCAUST, PACIFIC AMISTAD, PRINCESS GIANT, WARS PLUTO; Foreign: GENTLEMEN STAGE, MAUDE MOD, SCHOOL JACKET; Games: WIND PHANTOM; Horror: ANALYZE HOOSIERS, BEHAVIOR RUNAWAY, HIGH ENCINO, ROCK INSTINCT; New: BUTTERFLY CHOCOLAT; Sci-Fi: SOLDIERS EVOLUTION, UNFORGIVEN ZOOLANDER; Sports: ANONYMOUS HUMAN, EVOLUTION ALTER, INSTINCT AIRPORT; Travel: SMILE EARRING, VALENTINE VANISHING')\n",
      "('ED', 'MANSFIELD', 'Action: BAREFOOT MANCHURIAN, DEVIL DESIRE, EASY GLADIATOR, LUST LOCK; Animation: CROSSROADS CASUALTIES, DOORS PRESIDENT, FALCON VOLUME, OZ LIAISONS; Children: DAUGHTER MADIGAN, JERSEY SASSY, WRONG BEHAVIOR; Classics: SLING LUKE; Documentary: MAJESTIC FLOATS; Drama: APOLLO TEEN, BEAUTY GREASE, HAROLD FRENCH, SOMETHING DUCK; Family: DUMBO LUST; Foreign: HELLFIGHTERS SIERRA; Games: SEVEN SWARM, STATE WASTELAND; Music: AMELIE HELLFIGHTERS; New: ANGELS LIFE, GODFATHER DIARY, PLUTO OLEANDER, SLEEPY JAPANESE, VAMPIRE WHALE; Sci-Fi: NEMO CAMPUS; Sports: DROP WATERFRONT, HOLES BRANNIGAN, JADE BUNCH; Travel: ESCAPE METROPOLIS')\n",
      "('ELLEN', 'PRESLEY', 'Action: WOMEN DORADO; Animation: FLOATS GARDEN, OSCAR GOLD, TURN STAR; Children: CASPER DRAGONFLY, EMPIRE MALKOVICH, MICROCOSMOS PARADISE, SCARFACE BANG; Classics: HYDE DOCTOR, ROOTS REMEMBER, TADPOLE PARK; Comedy: PINOCCHIO SIMON; Documentary: HOMEWARD CIDER; Drama: JACKET FRISCO; Family: BILKO ANONYMOUS, NETWORK PEAK; Games: PRIVATE DROP, SPY MILE; Horror: STREETCAR INTENTIONS, TREASURE COMMAND; Sports: CARIBBEAN LIBERTY, IMAGE PRINCESS, PICKUP DRIVING, SECRETARY ROUGE; Travel: FROGMEN BREAKING')\n",
      "('ELVIS', 'MARX', 'Action: BAREFOOT MANCHURIAN, CADDYSHACK JEDI, SKY MIRACLE, WATERFRONT DELIVERANCE; Animation: ANACONDA CONFESSIONS, BORROWERS BEDAZZLED, GANGS PRIDE, HOOK CHARIOTS; Children: JUMPING WRATH, POLISH BROOKLYN; Classics: LOVELY JINGLE, RIGHT CRANES; Drama: CHITTY LOCK, HOBBIT ALIEN, SEATTLE EXPECATIONS; Family: ODDS BOOGIE; Games: JERICHO MULAN, ROOF CHAMPION; Horror: ALABAMA DEVIL, KENTUCKIAN GIANT, MOTIONS DETAILS; Sci-Fi: GOODFELLAS SALUTE, TROJAN TOMORROW; Sports: EVOLUTION ALTER; Travel: EXPECATIONS NATURAL, OUTLAW HANKY')\n",
      "('EMILY', 'DEE', 'Children: CHRISTMAS MOONSHINE, INVASION CYCLONE, SCARFACE BANG; Classics: OCTOBER SUBMARINE; Drama: GONE TROUBLE, SEA VIRGIN; Foreign: SHREK LICENSE; Music: CHAMBER ITALIAN, REBEL AIRPORT; New: DESTINY SATURDAY; Sci-Fi: HOLLOW JEOPARDY; Sports: ANONYMOUS HUMAN; Travel: BASIC EASY, FUGITIVE MAGUIRE')\n",
      "('EWAN', 'GOODING', 'Action: DEVIL DESIRE; Animation: JUGGLER HARDLY, TITANIC BOONDOCK; Children: GRADUATE LORD; Classics: DYNAMITE TARZAN, ROOTS REMEMBER, SUMMER SCARFACE; Comedy: LONELY ELEPHANT; Documentary: DUFFEL APOCALYPSE; Drama: BUNCH MINDS, ENCOUNTERS CURTAIN, QUEEN LUKE; Family: DUMBO LUST; Foreign: COMMAND DARLING, MULHOLLAND BEAST; Games: CURTAIN VIDEOTAPE, ICE CROSSING, ROUGE SQUAD; Horror: ARACHNOPHOBIA ROLLERCOASTER; Music: AMELIE HELLFIGHTERS, BIRCH ANTITRUST, ENEMY ODDS, LUCKY FLYING, OLEANDER CLUE; New: BOULEVARD MOB, CLEOPATRA DEVIL; Sci-Fi: MOURNING PURPLE; Sports: MERMAID INSECTS, POSEIDON FOREVER, RECORDS ZORRO; Travel: BASIC EASY, CONTACT ANONYMOUS, DISCIPLE MOTHER')\n",
      "('FAY', 'KILMER', 'Animation: WATCH TRACY; Children: JERSEY SASSY; Classics: SNATCHERS MONTEZUMA; Documentary: SECRET GROUNDHOG; Drama: HARRY IDAHO, RACER EGG, SHOOTIST SUPERFLY, SPICE SORORITY; Family: MOVIE SHAKESPEARE; Foreign: JET NEIGHBORS; Horror: AIRPORT POLLOCK; New: FLAMINGOS CONNECTICUT, FRONTIER CABIN; Sci-Fi: NEMO CAMPUS, VACATION BOONDOCK; Sports: ANONYMOUS HUMAN, CRUSADE HONEY, MUSSOLINI SPOILERS; Travel: BIRD INDEPENDENCE, FELLOWSHIP AUTUMN')\n",
      "('FAY', 'WINSLET', 'Action: FIREHOUSE VIETNAM; Animation: HARPER DYING, OZ LIAISONS; Children: POLISH BROOKLYN, SUNDANCE INVASION; Classics: CENTER DINOSAUR, FROST HEAD, MALKOVICH PET; Comedy: CONNECTION MICROCOSMOS, HEAVEN FREEDOM, HURRICANE AFFAIR; Documentary: BONNIE HOLOCAUST, EXPENDABLE STALLION, QUILLS BULL; Family: CHASING FIGHT, CHISUM BEHAVIOR; Foreign: HOOSIERS BIRDCAGE, WAR NOTTING; Games: FEVER EMPIRE, LAMBS CINCINATTI, MASSACRE USUAL; Horror: AFFAIR PREJUDICE, GASLIGHT CRUSADE; Music: FREAKY POCUS, WORDS HUNTER; New: DRAGONFLY STRANGERS, FATAL HAUNTED; Sci-Fi: EYES DRIVING, HAMLET WISDOM; Sports: DRIVER ANNIE; Travel: HAUNTED ANTITRUST')\n",
      "('FAY', 'WOOD', 'Animation: GANGS PRIDE; Classics: EXTRAORDINARY CONQUERER; Comedy: RUSHMORE MERMAID; Drama: GREEDY ROOTS, KWAI HOMEWARD, SEATTLE EXPECATIONS; Family: BANG KWAI, DUMBO LUST; Foreign: CRYSTAL BREAKING, INTRIGUE WORST, PURPLE MOVIE; Games: OUTBREAK DIVINE; Horror: FAMILY SWEET, MONTEREY LABYRINTH; Music: DORADO NOTTING, INSIDER ARIZONA; New: CLEOPATRA DEVIL, IDAHO LOVE; Sci-Fi: ENGLISH BULWORTH; Sports: DURHAM PANKY, STEERS ARMAGEDDON; Travel: LIAISONS SWEET')\n",
      "('FRANCES', 'DAY-LEWIS', 'Action: ENTRAPMENT SATISFACTION; Animation: CHAMPION FLATLINERS, DOUBLE WRATH, GANGS PRIDE; Comedy: BRINGING HYSTERICAL; Documentary: BROTHERHOOD BLANKET, CIDER DESIRE, COAST RAINBOW, EXPENDABLE STALLION, SAGEBRUSH CLUELESS, UNTOUCHABLES SUNRISE; Family: FINDING ANACONDA, GABLES METROPOLIS, HOMICIDE PEACH; Foreign: MADNESS ATTACKS, PURPLE MOVIE, SHREK LICENSE; Games: DARLING BREAKING; Horror: LADY STAGE, UNDEFEATED DALMATIONS; New: EAGLES PANKY; Sci-Fi: FIDDLER LOST, MARRIED GO; Sports: MERMAID INSECTS, MOTHER OLEANDER; Travel: OTHERS SOUP')\n",
      "('FRANCES', 'TOMEI', 'Action: AMERICAN CIRCUS, CROW GREASE; Animation: CROSSROADS CASUALTIES; Children: GORGEOUS BINGO, INVASION CYCLONE; Classics: IRON MOON; Comedy: FIREBALL PHILADELPHIA; Documentary: BEACH HEARTBREAKERS, BONNIE HOLOCAUST, CUPBOARD SINNERS; Family: ATLANTIS CAUSE, HOCUS FRIDA; Foreign: MADNESS ATTACKS; Horror: ARABIA DOGMA; New: BREAKING HOME, PLATOON INSTINCT; Sci-Fi: GOODFELLAS SALUTE, SUICIDES SILENCE; Sports: DROP WATERFRONT, DURHAM PANKY, SQUAD FISH; Travel: ESCAPE METROPOLIS, GAMES BOWFINGER')\n",
      "('FRED', 'COSTNER', 'Action: EASY GLADIATOR, ENTRAPMENT SATISFACTION, REAR TRADING; Animation: CAROL TEXAS, INCH JET, MIRACLE VIRTUAL, MISSION ZOOLANDER, THEORY MERMAID; Children: EMPIRE MALKOVICH; Classics: MAGNIFICENT CHITTY; Documentary: BROTHERHOOD BLANKET, DELIVERANCE MULHOLLAND; Drama: DECEIVER BETRAYED, SAINTS BRIDE; Family: BLANKET BEVERLY, EARRING INSTINCT, GABLES METROPOLIS; Foreign: IMPOSSIBLE PREJUDICE; Games: HUMAN GRAFFITI; New: CLEOPATRA DEVIL, EAGLES PANKY; Sci-Fi: CONNECTICUT TRAMP, WEEKEND PERSONAL; Sports: IMAGE PRINCESS, KRAMER CHOCOLATE, SENSE GREEK; Travel: BOONDOCK BALLROOM')\n",
      "('GARY', 'PENN', 'Action: QUEST MUSSOLINI, RUGRATS SHAKESPEARE, SOUTH WAIT; Animation: ARGONAUTS TOWN, DOUBLE WRATH; Classics: MAGNIFICENT CHITTY, VOLUME HOUSE; Documentary: NORTH TEQUILA; Drama: GREEDY ROOTS, PAYCHECK WAIT, SEA VIRGIN; Family: VIRTUAL SPOILERS; Foreign: CHOCOLATE DUCK, INTRIGUE WORST, MATRIX SNOWMAN; Horror: EGYPT TENENBAUMS, ZHIVAGO CORE; Music: BALLOON HOMEWARD, MASKED BUBBLE, VANISHING ROCKY; New: ATTRACTION NEWTON, BIRDS PERDITION, MASK PEACH; Sci-Fi: GRAFFITI LOVE; Sports: FLATLINERS KILLER, PEACH INNOCENT')\n",
      "('GARY', 'PHOENIX', 'Action: HANDICAP BOONDOCK; Animation: CAROL TEXAS, INSECTS STONE; Children: WRONG BEHAVIOR; Classics: LOATHING LEGALLY, TIMBERLAND SKY, TOMORROW HUSTLER; Documentary: NORTH TEQUILA, ROAD ROXANNE; Family: AFRICAN EGG, BEDAZZLED MARRIED; Foreign: CALENDAR GUNFIGHT; Games: HEAD STRANGER; Horror: ROCK INSTINCT, WORLD LEATHERNECKS; New: JUMANJI BLADE, RUN PACIFIC, STOCK GLASS, WILD APOLLO; Sci-Fi: CITIZEN SHREK; Sports: HOLES BRANNIGAN, PICKUP DRIVING, RIVER OUTLAW, VICTORY ACADEMY; Travel: BUCKET BROTHERHOOD')\n",
      "('GENE', 'HOPKINS', 'Action: DRAGON SQUAD, TRUMAN CRAZY, UPRISING UPTOWN; Animation: DOORS PRESIDENT, POND SEATTLE; Children: MODEL FISH, TOOTSIE PILOT; Classics: FROST HEAD; Comedy: HEDWIG ALTER; Documentary: DEEP CRUSADE; Drama: PITY BOUND, TORQUE BOUND; Family: CHISUM BEHAVIOR; Games: NIGHTMARE CHILL, SUIT WALLS; Music: CLUE GRAIL, ELF MURDER, VANISHING ROCKY; New: MANNEQUIN WORST; Sci-Fi: CHAINSAW UPTOWN, PANTHER REDS; Travel: GUMP DATE')\n",
      "('GENE', 'MCKELLEN', 'Animation: HORN WORKING, OZ LIAISONS; Comedy: CRAZY HOME, LIFE TWISTED; Drama: HAROLD FRENCH, PITY BOUND, SPICE SORORITY, TREATMENT JEKYLL; Family: CONFUSED CANDLES, INDIAN LOVE; Foreign: BALLROOM MOCKINGBIRD, RESERVOIR ADAPTATION; Games: MASSACRE USUAL, PIZZA JUMANJI, WANDA CHAMBER; Music: ALASKA PHANTOM, BOOGIE AMELIE, GO PURPLE; New: EVE RESURRECTION, RUNAWAY TENENBAUMS; Sci-Fi: ARMAGEDDON LOST, BARBARELLA STREETCAR, DIVIDE MONSTER; Sports: DIVORCE SHINING, SATISFACTION CONFIDENTIAL, SATURDAY LAMBS; Travel: MADIGAN DORADO')\n",
      "('GENE', 'WILLIS', 'Action: WEREWOLF LOLA; Animation: ARGONAUTS TOWN, CHAMPION FLATLINERS, HOOK CHARIOTS; Children: BENEATH RUSH; Classics: TADPOLE PARK; Documentary: ARMY FLINTSTONES, BEACH HEARTBREAKERS, VIRGINIAN PLUTO; Drama: DARKNESS WAR; Family: SECRETS PARADISE, SPLASH GUMP; Foreign: ILLUSION AMELIE, JET NEIGHBORS, PAST SUICIDES; Horror: AIRPORT POLLOCK; Music: BANGER PINOCCHIO, DORADO NOTTING, WORDS HUNTER; New: FLAMINGOS CONNECTICUT, MONEY HAROLD, STING PERSONAL; Sci-Fi: METROPOLIS COMA')\n",
      "('GEOFFREY', 'HESTON', 'Action: KISSING DOLLS, MIDNIGHT WESTWARD; Animation: PUNK DIVORCE, TELEMARK HEARTBREAKERS, TITANIC BOONDOCK; Children: GORGEOUS BINGO; Classics: CENTER DINOSAUR, JEOPARDY ENCINO, TOMORROW HUSTLER; Drama: LUCK OPUS; Family: ODDS BOOGIE; Foreign: COMMAND DARLING; Games: DAZED PUNK, DIRTY ACE, GRIT CLOCKWORK; Horror: LOLA AGENT, PARIS WEEKEND, PATTON INTERVIEW; New: CHINATOWN GLADIATOR; Sci-Fi: GOLDMINE TYCOON; Sports: INSTINCT AIRPORT, MERMAID INSECTS; Travel: COMA HEAD, FUGITIVE MAGUIRE, IGBY MAKER, WORKING MICROCOSMOS')\n",
      "('GINA', 'DEGENERES', 'Action: CLUELESS BUCKET, EXCITEMENT EVE, MIDNIGHT WESTWARD; Animation: DOGMA FAMILY, HOOK CHARIOTS, STORM HAPPINESS, SUGAR WONKA; Children: HALL CASSIDY, HEARTBREAKERS BRIGHT; Classics: HYDE DOCTOR, MAGNIFICENT CHITTY; Comedy: GUNFIGHT MOON, SEARCHERS WAIT, TRAINSPOTTING STRANGERS; Documentary: BED HIGHBALL, METAL ARMAGEDDON, WIFE TURN; Drama: CONEHEADS SMOOCHY, DARKNESS WAR; Family: GANDHI KWAI, INDIAN LOVE, LOUISIANA HARRY, MOVIE SHAKESPEARE; Foreign: CALENDAR GUNFIGHT, INTRIGUE WORST; Games: SEVEN SWARM; Horror: ELEPHANT TROJAN; Music: CHAMBER ITALIAN, DEER VIRGINIAN, IMPACT ALADDIN, TELEGRAPH VOYAGE; New: CHAPLIN LICENSE; Sci-Fi: CHARIOTS CONSPIRACY, COLDBLOODED DARLING, FRISCO FORREST, GOODFELLAS SALUTE, LICENSE WEEKEND, OPEN AFRICAN, SPIRITED CASUALTIES; Sports: MUMMY CREATURES, SIERRA DIVIDE; Travel: WINDOW SIDE')\n",
      "('GOLDIE', 'BRODY', 'Animation: INCH JET, PRIDE ALAMO, PUNK DIVORCE; Children: COMANCHEROS ENEMY; Classics: HOLY TADPOLE, SNATCHERS MONTEZUMA; Documentary: MOD SECRETARY; Drama: PITY BOUND, SEA VIRGIN; Family: BILKO ANONYMOUS, JASON TRAP, PRIX UNDEFEATED, ROBBERY BRIGHT; Foreign: EVERYONE CRAFT, HOOSIERS BIRDCAGE, POLLOCK DELIVERANCE; Horror: DESERT POSEIDON, HIGH ENCINO; New: FLAMINGOS CONNECTICUT, UNBREAKABLE KARATE; Sci-Fi: BINGO TALENTED, DAISY MENAGERIE, MARRIED GO, SPIRITED CASUALTIES; Sports: EXORCIST STING, MOSQUITO ARMAGEDDON, MUMMY CREATURES; Travel: OUTLAW HANKY')\n",
      "('GRACE', 'MOSTEL', 'Action: BERETS AGENT, EXCITEMENT EVE; Animation: SLEEPLESS MONSOON, TRACY CIDER; Children: WARLOCK WEREWOLF; Classics: MALKOVICH PET, OCTOBER SUBMARINE; Drama: CONFESSIONS MAGUIRE, DECEIVER BETRAYED, DESTINATION JERK, NECKLACE OUTBREAK, SAINTS BRIDE, SAVANNAH TOWN, TREATMENT JEKYLL; Foreign: COMMAND DARLING, HELLFIGHTERS SIERRA, SCISSORHANDS SLUMS, TOWN ARK, WAR NOTTING; Games: DAZED PUNK; Horror: ARACHNOPHOBIA ROLLERCOASTER, GASLIGHT CRUSADE; New: ANGELS LIFE, BREAKING HOME, SLEEPY JAPANESE, STING PERSONAL; Sci-Fi: OPEN AFRICAN; Sports: ANONYMOUS HUMAN, INSTINCT AIRPORT, POSEIDON FOREVER')\n",
      "('GREG', 'CHAPLIN', 'Action: FANTASY TROOPERS; Classics: CRUELTY UNFORGIVEN, DRACULA CRYSTAL, HOPE TOOTSIE, JEOPARDY ENCINO, MAGNIFICENT CHITTY, SLING LUKE; Comedy: STRICTLY SCARFACE, TRAINSPOTTING STRANGERS; Drama: UNFAITHFUL KILL; Family: HALF OUTFIELD; Foreign: JET NEIGHBORS, NEWTON LABYRINTH, USUAL UNTOUCHABLES; Games: FORWARD TEMPLE; Music: OLEANDER CLUE, RUNNER MADIGAN; New: CLYDE THEORY, DAY UNFAITHFUL, GODFATHER DIARY, SAMURAI LION; Sci-Fi: CHARADE DUFFEL, LICENSE WEEKEND, TITANS JERK; Sports: LIBERTY MAGNIFICENT, NOVOCAINE FLIGHT; Travel: TEEN APOLLO')\n",
      "('GREGORY', 'GOODING', 'Animation: INSECTS STONE, POTLUCK MIXED, STORM HAPPINESS; Children: SISTER FREDDY, WRONG BEHAVIOR; Comedy: HEAVEN FREEDOM, OPERATION OPERATION, SUBMARINE BED; Documentary: DEEP CRUSADE, MADISON TRAP, SPOILERS HELLFIGHTERS; Drama: SEATTLE EXPECATIONS, SPICE SORORITY, WARDROBE PHANTOM, WEST LION; Foreign: ALLEY EVOLUTION, COWBOY DOOM, WHALE BIKINI; Games: MOONSHINE CABIN; Horror: SPIRIT FLINTSTONES; Music: GREATEST NORTH, SONG HEDWIG; New: MAIDEN HOME; Sci-Fi: ARMAGEDDON LOST, EXPRESS LONELY; Sports: EXORCIST STING, HOLES BRANNIGAN, PEAK FOREVER; Travel: BOILED DARES, TROUBLE DATE')\n",
      "('GRETA', 'KEITEL', 'Action: GRAIL FRANKENSTEIN, MAGNOLIA FORRESTER, SUSPECTS QUILLS; Animation: DARES PLUTO, FLYING HOOK; Classics: ARIZONA BANG, LOATHING LEGALLY, REQUIEM TYCOON; Comedy: JAWS HARRY; Drama: BUNCH MINDS; Family: ATLANTIS CAUSE; Foreign: CALENDAR GUNFIGHT, HIGHBALL POTTER, HOOSIERS BIRDCAGE, ILLUSION AMELIE; Games: LADYBUGS ARMAGEDDON; Horror: ALABAMA DEVIL, PULP BEVERLY; Music: MONSTER SPARTACUS; Sci-Fi: ANNIE IDENTITY, BADMAN DAWN, VACATION BOONDOCK; Sports: IMAGE PRINCESS, SATURDAY LAMBS, SLIPPER FIDELITY; Travel: BASIC EASY, WOLVES DESIRE')\n",
      "('GRETA', 'MALDEN', 'Action: DARKO DORADO, FANTASY TROOPERS, MIDNIGHT WESTWARD, SKY MIRACLE; Animation: FLYING HOOK, PRIDE ALAMO; Children: MICROCOSMOS PARADISE; Classics: TADPOLE PARK; Comedy: CLOSER BANG, MULAN MOON; Documentary: HARDLY ROBBERS, NATIONAL STORY, RAINBOW SHOCK, WIFE TURN; Family: CONVERSATION DOWNHILL; Foreign: GENTLEMEN STAGE, HOOSIERS BIRDCAGE, PAST SUICIDES; Games: DAZED PUNK, HAUNTING PIANIST, SPY MILE; Horror: ANALYZE HOOSIERS, ARABIA DOGMA, CARRIE BUNCH, LOVE SUICIDES; New: FLASH WARS, TROOPERS METAL; Sci-Fi: WEEKEND PERSONAL; Sports: ALADDIN CALENDAR, EVOLUTION ALTER; Travel: KICK SAVANNAH, ORDER BETRAYED')\n",
      "('GROUCHO', 'DUNST', 'Action: CASUALTIES ENCINO, CROW GREASE, DEVIL DESIRE, PARK CITIZEN; Animation: DONNIE ALLEY; Children: LABYRINTH LEAGUE; Classics: COLOR PHILADELPHIA, IRON MOON; Comedy: GOLD RIVER, SUBMARINE BED; Documentary: INDEPENDENCE HOTEL, POCUS PULP; Drama: DALMATIONS SWEDEN, HUNCHBACK IMPOSSIBLE, MOB DUFFEL; Family: BLUES INSTINCT, GABLES METROPOLIS, OPPOSITE NECKLACE, SENSIBILITY REAR, SUNSET RACER; Foreign: HAPPINESS UNITED, KISS GLORY, MAUDE MOD; Games: CREATURES SHAKESPEARE, PANKY SUBMARINE, VANILLA DAY; Horror: TEMPLE ATTRACTION; Music: RUNNER MADIGAN; New: BUTCH PANTHER, CHAPLIN LICENSE, PHANTOM GLORY; Sci-Fi: ATTACKS HATE, MARRIED GO; Sports: SATISFACTION CONFIDENTIAL; Travel: TOMATOES HELLFIGHTERS')\n",
      "('GROUCHO', 'SINATRA', 'Action: LORD ARIZONA, MAGNOLIA FORRESTER, WEREWOLF LOLA; Animation: DOGMA FAMILY, TELEMARK HEARTBREAKERS, WATCH TRACY; Children: LABYRINTH LEAGUE, STRANGELOVE DESIRE; Comedy: DYING MAKER; Documentary: DUFFEL APOCALYPSE, HALLOWEEN NUTS, INDEPENDENCE HOTEL, MAJESTIC FLOATS, PELICAN COMFORTS; Family: HOMICIDE PEACH; Foreign: PET HAUNTING, POLLOCK DELIVERANCE; Games: GUN BONNIE, SASSY PACKER; Horror: FAMILY SWEET; Music: BOOGIE AMELIE, SCALAWAG DUCK; Sci-Fi: LICENSE WEEKEND; Sports: DUDE BLINDNESS, MOTHER OLEANDER; Travel: SMILE EARRING')\n",
      "('GROUCHO', 'WILLIAMS', 'Animation: OZ LIAISONS; Children: HOLLYWOOD ANONYMOUS, SPLENDOR PATTON, WARLOCK WEREWOLF; Classics: JINGLE SAGEBRUSH, ROOTS REMEMBER; Comedy: GROUNDHOG UNCUT, LONELY ELEPHANT; Drama: GONE TROUBLE, SAINTS BRIDE, SCORPION APOLLO; Family: GABLES METROPOLIS, OPPOSITE NECKLACE, RAGE GAMES; Foreign: BROOKLYN DESERT, CHOCOLATE DUCK, KANE EXORCIST, MEET CHOCOLATE, PAST SUICIDES; Games: DAWN POND, FANTASIA PARK; New: LOVERBOY ATTACKS; Sports: PEACH INNOCENT; Travel: BASIC EASY, MUSCLE BRIGHT')\n",
      "('HARRISON', 'BALE', 'Animation: DOUBLE WRATH, NASH CHOCOLAT, PUNK DIVORCE, THIEF PELICAN; Children: WALLS ARTIST; Comedy: RUSHMORE MERMAID; Documentary: WAGON JAWS, WEDDING APOLLO; Drama: GREEDY ROOTS; Family: HALF OUTFIELD, HOMICIDE PEACH; Foreign: BALLROOM MOCKINGBIRD, DOUBTFIRE LABYRINTH, LOSE INCH, MUPPET MILE, PAST SUICIDES; Games: FANTASIA PARK; Horror: ELEPHANT TROJAN, LADY STAGE, ROLLERCOASTER BRINGING; New: PLUTO OLEANDER, STING PERSONAL, WYOMING STORM; Sci-Fi: BADMAN DAWN, RANDOM GO, WONDERLAND CHRISTMAS; Sports: GROOVE FICTION, PERDITION FARGO')\n",
      "('HARVEY', 'HOPE', 'Action: SPEAKEASY DATE, STORY SIDE, UPRISING UPTOWN; Animation: BORROWERS BEDAZZLED, OSCAR GOLD, TELEMARK HEARTBREAKERS; Children: MODEL FISH; Classics: HOLY TADPOLE, IRON MOON; Comedy: CRAZY HOME, DOWNHILL ENOUGH; Documentary: BEACH HEARTBREAKERS; Drama: HAROLD FRENCH; Family: ATLANTIS CAUSE, EARRING INSTINCT; Foreign: GENTLEMEN STAGE, HELLFIGHTERS SIERRA, PEARL DESTINY; Games: ENCINO ELF, PIZZA JUMANJI, SLEUTH ORIENT; Horror: PANIC CLUB, RULES HUMAN; Music: UNCUT SUICIDES; New: BOULEVARD MOB, FRONTIER CABIN, UNBREAKABLE KARATE; Sci-Fi: PANTHER REDS, RANDOM GO, UNFORGIVEN ZOOLANDER; Sports: CARIBBEAN LIBERTY; Travel: LOCK REAR')\n",
      "('HELEN', 'VOIGHT', 'Action: SIDE ARK; Animation: CLASH FREDDY, TELEMARK HEARTBREAKERS; Children: CASPER DRAGONFLY, EMPIRE MALKOVICH, LEGALLY SECRETARY, MICROCOSMOS PARADISE, STRANGER STRANGERS, SWEETHEARTS SUSPECTS, WARLOCK WEREWOLF; Classics: IRON MOON, TADPOLE PARK; Comedy: CAPER MOTIONS, CAT CONEHEADS, JAWS HARRY; Documentary: CUPBOARD SINNERS, INDEPENDENCE HOTEL, ROAD ROXANNE; Drama: LIES TREATMENT; Family: MOVIE SHAKESPEARE; Foreign: CYCLONE FAMILY, KISS GLORY, SCISSORHANDS SLUMS, WAR NOTTING; Games: DIVINE RESURRECTION, FEVER EMPIRE; Horror: FIDELITY DEVIL, SINNERS ATLANTIS; Music: GREATEST NORTH; New: BREAKING HOME, VOICE PEACH; Sports: MUMMY CREATURES')\n",
      "('HENRY', 'BERRY', 'Action: DRIFTER COMMANDMENTS; Animation: DOGMA FAMILY, SLEEPLESS MONSOON, WONKA SEA; Children: HOLLYWOOD ANONYMOUS, UPTOWN YOUNG; Classics: EXTRAORDINARY CONQUERER; Comedy: RUSHMORE MERMAID; Documentary: BONNIE HOLOCAUST, CHICKEN HELLFIGHTERS, WAGON JAWS; Drama: CONQUERER NUTS, CRAFT OUTFIELD, SCORPION APOLLO; Family: APACHE DIVINE, DUMBO LUST, LOUISIANA HARRY, PILOT HOOSIERS; Foreign: GRAPES FURY, KANE EXORCIST, WHALE BIKINI; Games: SPY MILE; Horror: DESERT POSEIDON, FREDDY STORM, PARIS WEEKEND, PATTON INTERVIEW, SPIRIT FLINTSTONES; Music: CHAMBER ITALIAN; New: HOURS RAGE, MAIDEN HOME; Sci-Fi: CONNECTICUT TRAMP, DIVIDE MONSTER; Travel: FACTORY DRAGON, SHANE DARKNESS, SHANGHAI TYCOON')\n",
      "('HUMPHREY', 'GARLAND', 'Action: GOSFORD DONNIE, MIDNIGHT WESTWARD; Animation: NASH CHOCOLAT; Children: WARLOCK WEREWOLF; Documentary: DELIVERANCE MULHOLLAND, FRENCH HOLIDAY, PACIFIC AMISTAD, WEDDING APOLLO; Drama: CHITTY LOCK, SEA VIRGIN, WEST LION; Family: SUPER WYOMING; Foreign: ILLUSION AMELIE, JET NEIGHBORS, KISS GLORY, OPUS ICE, PAST SUICIDES; Games: MOONWALKER FOOL, PIZZA JUMANJI; Horror: ARACHNOPHOBIA ROLLERCOASTER; New: JUNGLE CLOSER, MINE TITANS; Sci-Fi: WEEKEND PERSONAL, WONDERLAND CHRISTMAS; Sports: ROSES TREASURE; Travel: BOONDOCK BALLROOM, COMFORTS RUSH, ORDER BETRAYED, SHINING ROSES')\n",
      "('HUMPHREY', 'WILLIS', 'Action: DREAM PICKUP; Animation: ANACONDA CONFESSIONS, SONS INTERVIEW; Children: SISTER FREDDY; Classics: IRON MOON; Comedy: FLINTSTONES HAPPINESS, MYSTIC TRUMAN; Documentary: PRINCESS GIANT, SPOILERS HELLFIGHTERS; Family: MUSIC BOONDOCK, SPLASH GUMP; Foreign: ALIEN CENTER, CHOCOLATE DUCK, HOOSIERS BIRDCAGE, MADNESS ATTACKS, TRAP GUYS, WAR NOTTING, WONDERFUL DROP; Music: PERSONAL LADYBUGS, TERMINATOR CLUB; New: IDAHO LOVE; Sci-Fi: GOLDMINE TYCOON; Sports: PIRATES ROXANNE, STRAIGHT HOURS; Travel: COMFORTS RUSH, GAMES BOWFINGER')\n",
      "('IAN', 'TANDY', 'Action: BERETS AGENT, FANTASY TROOPERS; Animation: STORM HAPPINESS; Children: POLISH BROOKLYN, SCARFACE BANG; Classics: DRACULA CRYSTAL; Comedy: ZORRO ARK; Documentary: HAWK CHILL, HOMEWARD CIDER, SAGEBRUSH CLUELESS, WEDDING APOLLO; Drama: NOTTING SPEAKEASY; Family: GLADIATOR WESTWARD; Foreign: CATCH AMISTAD, INFORMER DOUBLE, MIXED DOORS; Games: GUN BONNIE, VIDEOTAPE ARSENIC; Horror: TEXAS WATCH; Music: AMELIE HELLFIGHTERS, DEER VIRGINIAN, WORDS HUNTER, YOUTH KICK; New: MONEY HAROLD; Sci-Fi: CITIZEN SHREK, FIDDLER LOST; Sports: GLEAMING JAWBREAKER, GROOVE FICTION, TIGHTS DAWN; Travel: LEATHERNECKS DWARFS, SHAWSHANK BUBBLE')\n",
      "('JADA', 'RYDER', 'Action: GOSFORD DONNIE, KISSING DOLLS, SIDE ARK; Animation: ALTER VICTORY, ISHTAR ROCKETEER, SUGAR WONKA; Children: FOREVER CANDIDATE, MURDER ANTITRUST, ROBBERS JOON, ZOOLANDER FICTION; Classics: MALKOVICH PET; Comedy: TRAMP OTHERS; Documentary: CUPBOARD SINNERS, DOZEN LION, MIDSUMMER GROUNDHOG, RAIDERS ANTITRUST; Drama: BUNCH MINDS, CRAFT OUTFIELD, KWAI HOMEWARD; Family: CHASING FIGHT, RAGE GAMES; Games: STATE WASTELAND; Horror: KARATE MOON; Music: LUCKY FLYING; New: JEKYLL FROGMEN, SALUTE APOLLO; Sci-Fi: GARDEN ISLAND, SUN CONFESSIONS; Sports: ALADDIN CALENDAR, TALENTED HOMICIDE; Travel: TROUBLE DATE')\n",
      "('JAMES', 'PITT', 'Action: AMADEUS HOLY, MIDNIGHT WESTWARD; Animation: PUNK DIVORCE, THIEF PELICAN; Children: DOCTOR GRAIL, JUMPING WRATH; Classics: STEEL SANTA; Comedy: FIREBALL PHILADELPHIA, HEDWIG ALTER, LONELY ELEPHANT; Documentary: MODERN DORADO, NATIONAL STORY, YOUNG LANGUAGE; Family: CONFUSED CANDLES, JEDI BENEATH, WILLOW TRACY; Foreign: EVERYONE CRAFT, HELLFIGHTERS SIERRA, INNOCENT USUAL, MAUDE MOD; Games: AUTUMN CROW, ENCINO ELF, OUTBREAK DIVINE; Horror: SPIRIT FLINTSTONES; Music: LUCKY FLYING; Sci-Fi: ARMAGEDDON LOST, FIDDLER LOST; Sports: RIDER CADDYSHACK, SATURDAY LAMBS, SHAKESPEARE SADDLE, SLIPPER FIDELITY')\n",
      "('JANE', 'JACKMAN', 'Animation: POTTER CONNECTICUT; Children: BACKLASH UNDEFEATED, BENEATH RUSH, IDOLS SNATCHERS, LEGALLY SECRETARY; Classics: HOPE TOOTSIE; Documentary: DANCING FEVER, RAINBOW SHOCK; Drama: LUCK OPUS; Family: BRAVEHEART HUMAN, CHOCOLAT HARRY, JEDI BENEATH; Foreign: SCISSORHANDS SLUMS; Horror: KARATE MOON, TEMPLE ATTRACTION; Music: OUTFIELD MASSACRE, UNCUT SUICIDES; New: FLAMINGOS CONNECTICUT, HOURS RAGE, MONEY HAROLD; Sci-Fi: SILVERADO GOLDFINGER; Sports: CARIBBEAN LIBERTY, GROOVE FICTION, SLIPPER FIDELITY, TALENTED HOMICIDE')\n",
      "('JAYNE', 'NEESON', 'Action: GRAIL FRANKENSTEIN, QUEST MUSSOLINI; Children: POLISH BROOKLYN; Classics: HYDE DOCTOR, VOYAGE LEGALLY; Comedy: GROUNDHOG UNCUT, HEDWIG ALTER; Documentary: BROTHERHOOD BLANKET, CAUSE DATE, EXPENDABLE STALLION, HALLOWEEN NUTS, INDEPENDENCE HOTEL; Drama: EDGE KISSING; Family: DINOSAUR SECRETARY, HOMICIDE PEACH; Foreign: AGENT TRUMAN, BROOKLYN DESERT, CRYSTAL BREAKING, FRIDA SLIPPER; Games: DARLING BREAKING, HAUNTING PIANIST; Horror: WORLD LEATHERNECKS; Music: BANGER PINOCCHIO, HANOVER GALAXY; New: INTERVIEW LIAISONS; Sports: ARTIST COLDBLOODED, RECORDS ZORRO; Travel: WOLVES DESIRE, WORKER TARZAN')\n",
      "('JAYNE', 'NOLTE', 'Action: BULL SHAWSHANK, LUST LOCK, PRIMARY GLASS; Animation: ANACONDA CONFESSIONS, HORN WORKING, TELEMARK HEARTBREAKERS, THIEF PELICAN, TITANIC BOONDOCK, WAIT CIDER; Children: COMANCHEROS ENEMY, INVASION CYCLONE, SWEETHEARTS SUSPECTS, TIES HUNGER; Classics: CREEPERS KANE, WASTELAND DIVINE; Comedy: PERFECT GROOVE; Documentary: DANCING FEVER, NOTORIOUS REUNION; Drama: REUNION WITCHES; Family: BEDAZZLED MARRIED, BRAVEHEART HUMAN; Games: FEATHERS METAL, ICE CROSSING, LAMBS CINCINATTI; Horror: STRANGERS GRAFFITI; Music: OUTFIELD MASSACRE; New: EARTH VISION, MAIDEN HOME; Sci-Fi: ENGLISH BULWORTH; Sports: HYSTERICAL GRAIL, SECRETARY ROUGE; Travel: BIRD INDEPENDENCE, DISCIPLE MOTHER, GUMP DATE')\n",
      "('JAYNE', 'SILVERSTONE', 'Action: CELEBRITY HORN, SIDE ARK, SUSPECTS QUILLS; Animation: OZ LIAISONS; Children: HALL CASSIDY; Classics: WASTELAND DIVINE; Documentary: CAUSE DATE; Drama: HARRY IDAHO, QUEEN LUKE; Family: GLADIATOR WESTWARD, LOUISIANA HARRY; Foreign: ROCKETEER MOTHER, SCHOOL JACKET; Games: CHICAGO NORTH, MARS ROMAN, SEVEN SWARM; Horror: KARATE MOON, PARIS WEEKEND, TEXAS WATCH; Music: MONSTER SPARTACUS, PERSONAL LADYBUGS; New: CHINATOWN GLADIATOR, PIANIST OUTFIELD; Sci-Fi: EYES DRIVING, LICENSE WEEKEND; Sports: GLEAMING JAWBREAKER, SMOOCHY CONTROL')\n",
      "('JEFF', 'SILVERSTONE', 'Action: RINGS HEARTBREAKERS, SUSPECTS QUILLS; Animation: SONS INTERVIEW, WATCH TRACY; Children: WALLS ARTIST; Classics: TADPOLE PARK; Comedy: PARADISE SABRINA; Documentary: HUNTER ALTER, NEWSIES STORY; Drama: APOLLO TEEN; Family: REMEMBER DIARY, SPARTACUS CHEAPER; Horror: DRUMS DYNAMITE, LADY STAGE; Music: ALASKA PHANTOM; New: CHINATOWN GLADIATOR, MASK PEACH, STOCK GLASS; Sci-Fi: CROWDS TELEMARK; Sports: NORTHWEST POLISH, RIDER CADDYSHACK, SECRETARY ROUGE, SLIPPER FIDELITY; Travel: MUSCLE BRIGHT, SMILE EARRING')\n",
      "('JENNIFER', 'DAVIS', 'Action: BAREFOOT MANCHURIAN; Animation: ANACONDA CONFESSIONS, GHOSTBUSTERS ELF; Comedy: SUBMARINE BED; Documentary: BED HIGHBALL, NATIONAL STORY, RAIDERS ANTITRUST; Drama: BLADE POLISH, GREEDY ROOTS; Family: SPLASH GUMP; Horror: TREASURE COMMAND; Music: HANOVER GALAXY, REDS POCUS; New: ANGELS LIFE, JUMANJI BLADE, OKLAHOMA JUMANJI; Sci-Fi: RANDOM GO, SILVERADO GOLDFINGER, UNFORGIVEN ZOOLANDER; Sports: INSTINCT AIRPORT, POSEIDON FOREVER; Travel: BOONDOCK BALLROOM')\n",
      "('JESSICA', 'BAILEY', 'Action: BERETS AGENT, TRUMAN CRAZY; Classics: LEAGUE HELLFIGHTERS, REQUIEM TYCOON, RIGHT CRANES; Comedy: DOOM DANCING; Documentary: MIGHTY LUCK, VIRGINIAN PLUTO; Drama: SAVANNAH TOWN; Foreign: RESERVOIR ADAPTATION; Games: HEAD STRANGER, SUIT WALLS; Horror: ANALYZE HOOSIERS, SWARM GOLD; Music: DORADO NOTTING, JAWBREAKER BROOKLYN; New: CHINATOWN GLADIATOR; Sci-Fi: WHISPERER GIANT; Sports: DROP WATERFRONT; Travel: BASIC EASY, KICK SAVANNAH, MOULIN WAKE, WOLVES DESIRE')\n",
      "('JIM', 'MOSTEL', 'Action: DRAGON SQUAD, WOMEN DORADO; Animation: FLOATS GARDEN; Classics: LEAGUE HELLFIGHTERS; Comedy: AIRPLANE SIERRA, PERFECT GROOVE, WISDOM WORKER; Documentary: NEWSIES STORY; Drama: NECKLACE OUTBREAK; Foreign: HELLFIGHTERS SIERRA, RESERVOIR ADAPTATION; Games: GRINCH MASSAGE, SPY MILE; Horror: JAPANESE RUN, MOTIONS DETAILS; Music: LUCKY FLYING, OLEANDER CLUE, ROMAN PUNK; New: JUMANJI BLADE; Sci-Fi: METROPOLIS COMA, NEMO CAMPUS, WEEKEND PERSONAL; Sports: ANONYMOUS HUMAN, FLATLINERS KILLER, SIERRA DIVIDE; Travel: BOILED DARES')\n",
      "('JODIE', 'DEGENERES', 'Action: CROW GREASE, DARN FORRESTER, DREAM PICKUP; Classics: BEAST HUNCHBACK, DRACULA CRYSTAL; Comedy: CLOSER BANG, PARADISE SABRINA; Documentary: CIDER DESIRE, FRENCH HOLIDAY, MADISON TRAP; Drama: DIARY PANIC, VIETNAM SMOOCHY; Family: REMEMBER DIARY; Foreign: BROOKLYN DESERT, PET HAUNTING; Games: MOONSHINE CABIN; Horror: AFFAIR PREJUDICE, SIMON NORTH; Music: BOOGIE AMELIE, REDS POCUS; New: FATAL HAUNTED; Sci-Fi: BEVERLY OUTLAW, DAISY MENAGERIE, TROJAN TOMORROW; Sports: GROOVE FICTION, PICKUP DRIVING, SENSE GREEK; Travel: SHANGHAI TYCOON, TOMATOES HELLFIGHTERS')\n",
      "('JOE', 'SWANK', 'Action: PRIMARY GLASS, WATERFRONT DELIVERANCE; Animation: LAWLESS VISION, SUNRISE LEAGUE; Children: CROOKED FROGMEN, SWEETHEARTS SUSPECTS, TIES HUNGER; Classics: SNATCHERS MONTEZUMA; Documentary: MAJESTIC FLOATS, PACIFIC AMISTAD, UNTOUCHABLES SUNRISE; Drama: DALMATIONS SWEDEN, LEBOWSKI SOLDIERS; Family: CHOCOLAT HARRY; Foreign: CHOCOLATE DUCK; Games: CURTAIN VIDEOTAPE; Horror: ANYTHING SAVANNAH, REEF SALUTE; Music: BIRCH ANTITRUST, RUNNER MADIGAN; New: WILD APOLLO; Sports: PERDITION FARGO; Travel: HORROR REIGN, SMILE EARRING, TRAFFIC HOBBIT')\n",
      "('JOHN', 'SUVARI', 'Animation: ISHTAR ROCKETEER, LUKE MUMMY; Children: DAUGHTER MADIGAN, JERSEY SASSY; Classics: COLOR PHILADELPHIA, MILLION ACE; Comedy: PINOCCHIO SIMON; Documentary: NEWSIES STORY, QUILLS BULL; Drama: CONQUERER NUTS, NECKLACE OUTBREAK; Family: PITTSBURGH HUNCHBACK; Foreign: ALLEY EVOLUTION, PET HAUNTING; Games: CANDLES GRAPES, NAME DETECTIVE, ROXANNE REBEL; Horror: JAPANESE RUN; Music: HOME PITY, MONSTER SPARTACUS, SONG HEDWIG; New: CLEOPATRA DEVIL, INTERVIEW LIAISONS, PIANIST OUTFIELD; Sci-Fi: BEVERLY OUTLAW, GOLDMINE TYCOON, RAGING AIRPLANE; Sports: GLEAMING JAWBREAKER, SATISFACTION CONFIDENTIAL')\n",
      "('JOHNNY', 'CAGE', 'Action: SUSPECTS QUILLS; Animation: DESIRE ALIEN, FLYING HOOK, THIEF PELICAN; Classics: ROOTS REMEMBER; Comedy: RUSHMORE MERMAID, VELVET TERMINATOR; Documentary: ACADEMY DINOSAUR, INTOLERABLE INTENTIONS; Drama: BUNCH MINDS, HANGING DEEP, LIES TREATMENT; Foreign: ALAMO VIDEOTAPE, CATCH AMISTAD; Games: ROXANNE REBEL, SPY MILE; Horror: ARABIA DOGMA, KARATE MOON, ROCK INSTINCT, SIMON NORTH; New: CLYDE THEORY, VAMPIRE WHALE; Sci-Fi: CONNECTICUT TRAMP, GRAFFITI LOVE, HAMLET WISDOM, REIGN GENTLEMEN; Sports: INSTINCT AIRPORT; Travel: DISCIPLE MOTHER, SUPERFLY TRIP')\n",
      "('JOHNNY', 'LOLLOBRIGIDA', 'Action: AMADEUS HOLY, GRAIL FRANKENSTEIN, RINGS HEARTBREAKERS; Animation: SUNRISE LEAGUE; Children: HALL CASSIDY; Comedy: DADDY PITTSBURGH; Documentary: BONNIE HOLOCAUST, METAL ARMAGEDDON, PACIFIC AMISTAD, POCUS PULP; Drama: CHITTY LOCK, CONEHEADS SMOOCHY; Games: FIRE WOLVES; Horror: COMMANDMENTS EXPRESS, LOVE SUICIDES, PATTON INTERVIEW; Music: BANGER PINOCCHIO, HEAVENLY GUN; New: FRONTIER CABIN, RIDGEMONT SUBMARINE; Sci-Fi: DAISY MENAGERIE, GOODFELLAS SALUTE, SOLDIERS EVOLUTION; Sports: GROOVE FICTION, KRAMER CHOCOLATE, STAR OPERATION; Travel: ENOUGH RAGING, ESCAPE METROPOLIS, SMILE EARRING')\n",
      "('JON', 'CHASE', 'Action: CLUELESS BUCKET, DREAM PICKUP, FANTASY TROOPERS, HILLS NEIGHBORS, SKY MIRACLE; Animation: BORROWERS BEDAZZLED, INSECTS STONE, SUGAR WONKA; Children: DOCTOR GRAIL, MICROCOSMOS PARADISE; Documentary: CIDER DESIRE, HUNTER ALTER; Drama: HAROLD FRENCH, LIES TREATMENT, SAINTS BRIDE, SPICE SORORITY; Family: INDIAN LOVE, VIRTUAL SPOILERS; Foreign: RESERVOIR ADAPTATION; Games: PRIVATE DROP, ROUGE SQUAD; Horror: ALI FOREVER, ROLLERCOASTER BRINGING; New: FLAMINGOS CONNECTICUT; Sci-Fi: BINGO TALENTED, STALLION SUNDANCE; Sports: LESSON CLEOPATRA; Travel: MADIGAN DORADO, SWEET BROTHERHOOD')\n",
      "('JUDE', 'CRUISE', 'Action: QUEST MUSSOLINI, REAR TRADING; Animation: CHAMPION FLATLINERS; Children: STRANGELOVE DESIRE, TWISTED PIRATES; Classics: TIMBERLAND SKY; Comedy: FIREBALL PHILADELPHIA, KNOCK WARLOCK; Documentary: BROTHERHOOD BLANKET, HALLOWEEN NUTS; Family: DATE SPEED, HOUSE DYNAMITE; Foreign: ALLEY EVOLUTION, CROSSING DIVORCE, MULHOLLAND BEAST; Games: ICE CROSSING; Horror: ARABIA DOGMA, CARRIE BUNCH, DRUMS DYNAMITE, ROCK INSTINCT; Music: MONSTER SPARTACUS, SCALAWAG DUCK; New: CHINATOWN GLADIATOR, EAGLES PANKY, FRONTIER CABIN, PLATOON INSTINCT; Sci-Fi: CAMELOT VACATION, CITIZEN SHREK, OPEN AFRICAN, RANDOM GO')\n",
      "('JUDY', 'DEAN', 'Action: QUEST MUSSOLINI, RINGS HEARTBREAKERS, RUGRATS SHAKESPEARE; Animation: NASH CHOCOLAT; Documentary: MODERN DORADO; Foreign: BALLROOM MOCKINGBIRD, CYCLONE FAMILY, ROCKETEER MOTHER; Horror: ARACHNOPHOBIA ROLLERCOASTER; Sci-Fi: SOLDIERS EVOLUTION; Sports: ALADDIN CALENDAR, DROP WATERFRONT, GUNFIGHTER MUSSOLINI, MUSSOLINI SPOILERS; Travel: TROUBLE DATE')\n",
      "('JULIA', 'BARRYMORE', 'Action: BERETS AGENT; Animation: ARGONAUTS TOWN; Classics: JERK PAYCHECK; Comedy: GROUNDHOG UNCUT; Documentary: MIGHTY LUCK, PELICAN COMFORTS, ROAD ROXANNE, WIFE TURN; Drama: CONEHEADS SMOOCHY, SHOOTIST SUPERFLY, UNFAITHFUL KILL, VIRGIN DAISY; Family: BANG KWAI, EFFECT GLADIATOR; Foreign: SCISSORHANDS SLUMS; Games: LAMBS CINCINATTI; Horror: GASLIGHT CRUSADE, ROCK INSTINCT; New: ANGELS LIFE, TROOPERS METAL; Sci-Fi: UNFORGIVEN ZOOLANDER; Sports: SECRETARY ROUGE; Travel: DISCIPLE MOTHER, SHINING ROSES')\n",
      "('JULIA', 'FAWCETT', 'Action: BERETS AGENT; Animation: LUKE MUMMY, THEORY MERMAID, WAIT CIDER; Classics: HOPE TOOTSIE; Comedy: CLOSER BANG, MULAN MOON; Family: CHISUM BEHAVIOR; Foreign: OPUS ICE, POLLOCK DELIVERANCE; New: DAY UNFAITHFUL, RIDGEMONT SUBMARINE; Travel: BOILED DARES, SHANGHAI TYCOON, SHAWSHANK BUBBLE')\n",
      "('JULIA', 'MCQUEEN', 'Action: AMADEUS HOLY, MOCKINGBIRD HOLLYWOOD; Animation: SLEEPLESS MONSOON, TELEMARK HEARTBREAKERS, WONKA SEA; Children: SWEETHEARTS SUSPECTS, TIES HUNGER; Documentary: BONNIE HOLOCAUST, CIDER DESIRE, YOUNG LANGUAGE; Drama: CONEHEADS SMOOCHY, SCORPION APOLLO; Family: EFFECT GLADIATOR, GLADIATOR WESTWARD, PILOT HOOSIERS, PITTSBURGH HUNCHBACK, PRESIDENT BANG; Foreign: KISS GLORY; Horror: ARABIA DOGMA, FREDDY STORM, HIGH ENCINO, MONTEREY LABYRINTH, SPIRIT FLINTSTONES, STRANGERS GRAFFITI, TRAIN BUNCH; Music: HANOVER GALAXY, INSIDER ARIZONA, JAWBREAKER BROOKLYN, LUCKY FLYING; Sci-Fi: OPEN AFRICAN, WEEKEND PERSONAL; Sports: KRAMER CHOCOLATE; Travel: GAMES BOWFINGER')\n",
      "('JULIA', 'ZELLWEGER', 'Action: MINDS TRUMAN; Animation: DARES PLUTO; Classics: DETECTIVE VISION, JEOPARDY ENCINO; Documentary: MAJESTIC FLOATS; Games: LAMBS CINCINATTI, PANKY SUBMARINE; Music: WON DARES; New: BREAKFAST GOLDFINGER, WYOMING STORM; Sci-Fi: HOLLOW JEOPARDY, OPEN AFRICAN; Sports: CRANES RESERVOIR, DIVORCE SHINING, RIDER CADDYSHACK; Travel: OUTLAW HANKY')\n",
      "('JULIANNE', 'DENCH', 'Action: BERETS AGENT, BULL SHAWSHANK, LORD ARIZONA; Animation: DESIRE ALIEN, DOUBLE WRATH, TITANIC BOONDOCK; Children: SHEPHERD MIDSUMMER; Classics: DYNAMITE TARZAN, JEEPERS WEDDING, REQUIEM TYCOON; Documentary: ADAPTATION HOLES, MIGHTY LUCK, MODERN DORADO, UNTOUCHABLES SUNRISE; Family: ATLANTIS CAUSE, HUNTING MUSKETEERS, JEDI BENEATH; Foreign: CHOCOLATE DUCK, COWBOY DOOM, DOUBTFIRE LABYRINTH; Horror: KARATE MOON, MONTEREY LABYRINTH; New: RIDGEMONT SUBMARINE; Sci-Fi: CINCINATTI WHISPERER, DISTURBING SCARFACE, SUICIDES SILENCE; Sports: HONEY TIES, HYSTERICAL GRAIL, KRAMER CHOCOLATE, MILE MULAN; Travel: ENOUGH RAGING, WORKER TARZAN')\n",
      "('KARL', 'BERRY', 'Action: STAGECOACH ARMAGEDDON; Animation: DARES PLUTO, DOORS PRESIDENT, TELEMARK HEARTBREAKERS; Children: FURY MURDER; Classics: ARIZONA BANG, BOUND CHEAPER; Comedy: PERFECT GROOVE, SWEDEN SHINING; Documentary: HARDLY ROBBERS, INDEPENDENCE HOTEL, SMOKING BARBARELLA, VIRGINIAN PLUTO; Drama: BUNCH MINDS, REUNION WITCHES; Family: DATE SPEED; Foreign: ALLEY EVOLUTION, HIGHBALL POTTER; Horror: ARABIA DOGMA, BOWFINGER GABLES, MONTEREY LABYRINTH, REAP UNFAITHFUL; Music: ALONE TRIP, LUCKY FLYING; New: CLEOPATRA DEVIL, DAY UNFAITHFUL, OKLAHOMA JUMANJI; Sci-Fi: CONNECTICUT TRAMP; Sports: HOLES BRANNIGAN, NOVOCAINE FLIGHT; Travel: LEATHERNECKS DWARFS')\n",
      "('KENNETH', 'HOFFMAN', 'Animation: BLACKOUT PRIVATE, FLYING HOOK, GANGS PRIDE, MASSAGE IMAGE, STORM HAPPINESS; Children: LABYRINTH LEAGUE; Classics: PREJUDICE OLEANDER, SNATCHERS MONTEZUMA; Documentary: DOZEN LION, METAL ARMAGEDDON, WRATH MILE; Drama: TORQUE BOUND; Family: ODDS BOOGIE, RESURRECTION SILVERADO, SECRETS PARADISE; Foreign: AGENT TRUMAN, DOUBTFIRE LABYRINTH; Horror: FAMILY SWEET, ZHIVAGO CORE; Music: HANOVER GALAXY, PERSONAL LADYBUGS; New: BRANNIGAN SUNRISE, EVE RESURRECTION, STOCK GLASS, WAKE JAWS; Sports: GRACELAND DYNAMITE; Travel: HORROR REIGN, ORDER BETRAYED, TOMATOES HELLFIGHTERS')\n",
      "('KENNETH', 'PALTROW', 'Action: CADDYSHACK JEDI, EXCITEMENT EVE; Animation: FALCON VOLUME; Children: SANTA PARIS, SUNDANCE INVASION; Comedy: DADDY PITTSBURGH, LONELY ELEPHANT; Documentary: INTOLERABLE INTENTIONS, SHOW LORD; Drama: HANGING DEEP; Foreign: ALIEN CENTER, ILLUSION AMELIE; Games: DIVINE RESURRECTION, FEATHERS METAL; Horror: REEF SALUTE; Music: TAXI KICK; New: REDEMPTION COMFORTS; Sci-Fi: GRAFFITI LOVE; Sports: MUSSOLINI SPOILERS; Travel: BORN SPINAL, TROUBLE DATE')\n",
      "('KENNETH', 'PESCI', 'Action: REAR TRADING, WEREWOLF LOLA; Animation: CROSSROADS CASUALTIES; Children: FARGO GANDHI; Foreign: CATCH AMISTAD, COMMAND DARLING, TRAP GUYS, USUAL UNTOUCHABLES; Horror: AFFAIR PREJUDICE, TEMPLE ATTRACTION; Music: BIRDCAGE CASPER, SONG HEDWIG; Sci-Fi: DISTURBING SCARFACE, MOURNING PURPLE, NEMO CAMPUS, STALLION SUNDANCE; Sports: PEAK FOREVER, VICTORY ACADEMY; Travel: BOONDOCK BALLROOM, SHAWSHANK BUBBLE')\n",
      "('KENNETH', 'TORN', 'Animation: CROSSROADS CASUALTIES, HARPER DYING; Children: GHOST GROUNDHOG; Classics: BEAST HUNCHBACK, DETECTIVE VISION, LEAGUE HELLFIGHTERS, MAGNIFICENT CHITTY, VOLUME HOUSE; Documentary: DANCING FEVER, INDEPENDENCE HOTEL, RAIDERS ANTITRUST, RAINBOW SHOCK, SHIP WONDERLAND; Drama: JACKET FRISCO, LIES TREATMENT, SEATTLE EXPECATIONS; Family: HOMICIDE PEACH, REMEMBER DIARY; Foreign: FRIDA SLIPPER, LOST BIRD; Horror: ALI FOREVER, CARRIE BUNCH, EGYPT TENENBAUMS, JAPANESE RUN; Music: BIRDCAGE CASPER, LUCKY FLYING; New: EARTH VISION, FLAMINGOS CONNECTICUT, MAIDEN HOME; Sci-Fi: CITIZEN SHREK; Sports: FLATLINERS KILLER, LESSON CLEOPATRA; Travel: WORKING MICROCOSMOS')\n",
      "('KEVIN', 'BLOOM', 'Action: AMERICAN CIRCUS, PRIMARY GLASS; Animation: DOUBLE WRATH, MASSAGE IMAGE, MISSION ZOOLANDER; Children: POLISH BROOKLYN, SABRINA MIDNIGHT; Comedy: HATE HANDICAP, SWEDEN SHINING; Drama: CONQUERER NUTS, DALMATIONS SWEDEN; Family: DATE SPEED; Foreign: FICTION CHRISTMAS; Music: BOOGIE AMELIE, HEAVENLY GUN; New: DESTINY SATURDAY, LOVERBOY ATTACKS; Sci-Fi: CITIZEN SHREK; Sports: HOLES BRANNIGAN, MUMMY CREATURES; Travel: TROUBLE DATE')\n",
      "('KEVIN', 'GARLAND', 'Action: TRIP NEWTON; Animation: ARGONAUTS TOWN, WAIT CIDER; Children: BACKLASH UNDEFEATED, CLOCKWORK PARADISE, GHOST GROUNDHOG, MAKER GABLES, MICROCOSMOS PARADISE; Classics: WESTWARD SEABISCUIT; Comedy: CAPER MOTIONS, DADDY PITTSBURGH, GUNFIGHT MOON, MYSTIC TRUMAN; Documentary: SHOW LORD; Drama: BLADE POLISH, GOLDFINGER SENSIBILITY, SCORPION APOLLO; Family: NATURAL STOCK, RAGE GAMES, RESURRECTION SILVERADO; Foreign: BABY HALL, INFORMER DOUBLE, ORANGE GRAPES; Games: CHICAGO NORTH, GRIT CLOCKWORK; Horror: RULES HUMAN; Music: FREAKY POCUS, HEAVENLY GUN, SONG HEDWIG; New: STING PERSONAL; Sci-Fi: STALLION SUNDANCE; Sports: SATISFACTION CONFIDENTIAL; Travel: ENOUGH RAGING')\n",
      "('KIM', 'ALLEN', 'Action: PATRIOT ROMAN, RUGRATS SHAKESPEARE; Animation: CLASH FREDDY, DOORS PRESIDENT, HARPER DYING, POTLUCK MIXED, WAIT CIDER; Children: HEARTBREAKERS BRIGHT; Classics: JINGLE SAGEBRUSH; Documentary: INDEPENDENCE HOTEL, NOTORIOUS REUNION, RAINBOW SHOCK; Drama: UNFAITHFUL KILL; Family: SOUP WISDOM; Foreign: ORANGE GRAPES, PAST SUICIDES, RESERVOIR ADAPTATION; Horror: JAPANESE RUN, KARATE MOON, LOLA AGENT; Music: MONSTER SPARTACUS; New: BUTTERFLY CHOCOLAT, CLEOPATRA DEVIL; Sci-Fi: ARMAGEDDON LOST, NONE SPIKING, TITANS JERK; Sports: CARIBBEAN LIBERTY, EXORCIST STING')\n",
      "('KIRK', 'JOVOVICH', 'Action: AMADEUS HOLY, BAREFOOT MANCHURIAN, BULL SHAWSHANK; Animation: BORROWERS BEDAZZLED, DOGMA FAMILY, FORRESTER COMANCHEROS; Children: FURY MURDER, MURDER ANTITRUST, SPLENDOR PATTON; Classics: CONSPIRACY SPIRIT; Comedy: ELEMENT FREDDY, HEAVEN FREEDOM; Drama: SPICE SORORITY, WARDROBE PHANTOM; Family: CHOCOLAT HARRY, GLADIATOR WESTWARD, GREASE YOUTH, NETWORK PEAK, RUSH GOODFELLAS; Foreign: LOST BIRD, MULHOLLAND BEAST; Music: CLUE GRAIL, INSIDER ARIZONA; Sports: ARTIST COLDBLOODED, MOSQUITO ARMAGEDDON, TUXEDO MILE')\n",
      "('KIRSTEN', 'AKROYD', 'Action: DEVIL DESIRE, SKY MIRACLE, SPEAKEASY DATE, STAGECOACH ARMAGEDDON, WORST BANGER; Animation: ISHTAR ROCKETEER, MASSAGE IMAGE; Children: LABYRINTH LEAGUE, MAGIC MALLRATS, MAKER GABLES, TIES HUNGER; Classics: LEAGUE HELLFIGHTERS; Comedy: HURRICANE AFFAIR, MEMENTO ZOOLANDER; Documentary: RAIDERS ANTITRUST; Drama: NECKLACE OUTBREAK, PATHS CONTROL, REUNION WITCHES; Family: BRAVEHEART HUMAN; Foreign: BUGSY SONG, DANGEROUS UPTOWN, MADNESS ATTACKS, USUAL UNTOUCHABLES; Games: GRINCH MASSAGE, PRIVATE DROP; New: BOULEVARD MOB, HOURS RAGE, PLUTO OLEANDER; Sci-Fi: CHARADE DUFFEL, FRISCO FORREST; Sports: IMAGE PRINCESS; Travel: BUCKET BROTHERHOOD, CASABLANCA SUPER, MADIGAN DORADO')\n",
      "('KIRSTEN', 'PALTROW', 'Action: DRIFTER COMMANDMENTS, LORD ARIZONA; Animation: THIEF PELICAN; Comedy: CLOSER BANG, PINOCCHIO SIMON; Documentary: CHICKEN HELLFIGHTERS, KILL BROTHERHOOD, ROAD ROXANNE; Drama: CONQUERER NUTS; Family: PRIX UNDEFEATED; Foreign: AGENT TRUMAN; Games: ENCINO ELF, LADYBUGS ARMAGEDDON; Horror: PULP BEVERLY, SLEEPING SUSPECTS; Music: HANOVER GALAXY, HOME PITY, WON DARES; New: FLASH WARS, PLUTO OLEANDER, UNBREAKABLE KARATE; Sci-Fi: SILVERADO GOLDFINGER, TITANS JERK; Sports: HONEY TIES, RIVER OUTLAW; Travel: BOONDOCK BALLROOM, BORN SPINAL')\n",
      "('LAURA', 'BRODY', 'Action: MAGNOLIA FORRESTER, SKY MIRACLE; Animation: DARES PLUTO, DESIRE ALIEN; Children: FULL FLATLINERS, FURY MURDER; Comedy: CAT CONEHEADS, PINOCCHIO SIMON, WISDOM WORKER; Documentary: DANCING FEVER, DOZEN LION; Drama: HOBBIT ALIEN, SOMETHING DUCK, TRANSLATION SUMMER; Family: BLOOD ARGONAUTS; Foreign: PET HAUNTING, SHOCK CABIN; Horror: MOTIONS DETAILS, SINNERS ATLANTIS, TARZAN VIDEOTAPE; Music: AMELIE HELLFIGHTERS; New: GODFATHER DIARY, MASK PEACH; Sports: CRANES RESERVOIR; Travel: FUGITIVE MAGUIRE, SHANGHAI TYCOON')\n",
      "('LAURENCE', 'BULLOCK', 'Action: REAR TRADING, SIDE ARK, SKY MIRACLE; Animation: POTLUCK MIXED; Children: CROOKED FROGMEN, NOON PAPI, SUNDANCE INVASION; Classics: FROST HEAD, MALKOVICH PET; Comedy: PERFECT GROOVE; Documentary: BILL OTHERS, ROAD ROXANNE; Drama: BUNCH MINDS, TENENBAUMS COMMAND, UNFAITHFUL KILL; Family: BEDAZZLED MARRIED; Horror: SINNERS ATLANTIS, STREETCAR INTENTIONS; Music: ALONE TRIP; New: ANGELS LIFE; Sci-Fi: FISH OPUS; Sports: CARIBBEAN LIBERTY, NORTHWEST POLISH; Travel: EXPECATIONS NATURAL, FROGMEN BREAKING, KICK SAVANNAH')\n",
      "('LISA', 'MONROE', 'Action: CROW GREASE; Animation: CLUB GRAFFITI; Classics: LOVER TRUMAN, ROOTS REMEMBER; Comedy: ZORRO ARK; Documentary: COAST RAINBOW, MOD SECRETARY, QUILLS BULL; Drama: CHITTY LOCK; Family: EFFECT GLADIATOR; Foreign: FICTION CHRISTMAS; Games: JERICHO MULAN, SASSY PACKER; Horror: ANYTHING SAVANNAH, ARABIA DOGMA; Music: WON DARES; New: BUTTERFLY CHOCOLAT, WILD APOLLO; Sci-Fi: HANKY OCTOBER, VACATION BOONDOCK; Sports: CRUSADE HONEY, LESSON CLEOPATRA, RIVER OUTLAW')\n",
      "('LIZA', 'BERGMAN', 'Animation: CLASH FREDDY; Classics: EXTRAORDINARY CONQUERER, OCTOBER SUBMARINE; Documentary: WEDDING APOLLO; Drama: CRAFT OUTFIELD, PAYCHECK WAIT, SCORPION APOLLO; Family: JEDI BENEATH, SENSIBILITY REAR; Foreign: COMMAND DARLING, CRYSTAL BREAKING, GENTLEMEN STAGE; Games: CHICAGO NORTH, PANKY SUBMARINE; Horror: DESERT POSEIDON, PARIS WEEKEND, TEXAS WATCH; Music: CLUE GRAIL, DEER VIRGINIAN, ENEMY ODDS, TERMINATOR CLUB; New: STOCK GLASS; Sci-Fi: FRISCO FORREST, IDENTITY LOVER; Sports: LESSON CLEOPATRA')\n",
      "('LUCILLE', 'DEE', 'Animation: MISSION ZOOLANDER; Children: CLOCKWORK PARADISE, DAUGHTER MADIGAN, MAKER GABLES; Classics: WESTWARD SEABISCUIT; Documentary: NORTH TEQUILA; Drama: BEAUTY GREASE, HARRY IDAHO, UNFAITHFUL KILL; Family: OPPOSITE NECKLACE, PRESIDENT BANG; Foreign: BALLROOM MOCKINGBIRD, GRAPES FURY; Games: LAMBS CINCINATTI, ROXANNE REBEL; Horror: AIRPORT POLLOCK, DRUMS DYNAMITE, TEXAS WATCH; Music: TELEGRAPH VOYAGE; New: MASK PEACH; Sports: HYSTERICAL GRAIL, IMAGE PRINCESS; Travel: CASSIDY WYOMING, WORKING MICROCOSMOS')\n",
      "('LUCILLE', 'TRACY', 'Action: REAR TRADING; Animation: DOORS PRESIDENT; Classics: HYDE DOCTOR, PAJAMA JAWBREAKER, PATIENT SISTER, WASTELAND DIVINE; Comedy: JAWS HARRY; Documentary: ACADEMY DINOSAUR, EGG IGBY, MODERN DORADO, SAGEBRUSH CLUELESS; Drama: CHITTY LOCK, GOLDFINGER SENSIBILITY, ORIENT CLOSER; Family: BEDAZZLED MARRIED, DINOSAUR SECRETARY, EARRING INSTINCT, GANDHI KWAI, KING EVOLUTION; Foreign: LOSE INCH; Horror: LOLA AGENT; Music: BANGER PINOCCHIO; New: JUNGLE CLOSER, LOVERBOY ATTACKS; Sci-Fi: CHEAPER CLYDE, COLDBLOODED DARLING, RANDOM GO, SUN CONFESSIONS; Travel: SHANGHAI TYCOON, WINDOW SIDE')\n",
      "('MAE', 'HOFFMAN', 'Action: DANCES NONE; Animation: HOOK CHARIOTS, TURN STAR; Children: STRANGER STRANGERS; Comedy: DOOM DANCING; Documentary: ARMY FLINTSTONES, SECRET GROUNDHOG, SHIP WONDERLAND; Drama: APOLLO TEEN, DIARY PANIC, JACKET FRISCO; Family: DUMBO LUST, EARRING INSTINCT, HOMICIDE PEACH, ODDS BOOGIE, RESURRECTION SILVERADO, RUSH GOODFELLAS; Foreign: MUPPET MILE, SCHOOL JACKET; Games: CHICAGO NORTH, OUTBREAK DIVINE, STAMPEDE DISTURBING; New: APOCALYPSE FLAMINGOS, EAGLES PANKY, RUN PACIFIC; Sci-Fi: GOLDMINE TYCOON; Sports: NORTHWEST POLISH; Travel: FACTORY DRAGON')\n",
      "('MARY', 'KEITEL', 'Action: FANTASY TROOPERS, FORREST SONS, HANDICAP BOONDOCK; Animation: INTENTIONS EMPIRE, LUKE MUMMY, THEORY MERMAID, TITANIC BOONDOCK; Children: IDOLS SNATCHERS, MODEL FISH; Classics: JEOPARDY ENCINO, LOVELY JINGLE, STEEL SANTA; Comedy: MALLRATS UNITED, MEMENTO ZOOLANDER, SUBMARINE BED, SWEDEN SHINING; Documentary: ACADEMY DINOSAUR, WAGON JAWS; Drama: CRAFT OUTFIELD, GREEDY ROOTS, SAINTS BRIDE; Family: DUMBO LUST, FEUD FROGMEN, KING EVOLUTION; Foreign: FICTION CHRISTMAS, MADNESS ATTACKS; Games: DWARFS ALTER, HAUNTING PIANIST, MOONWALKER FOOL; Music: YOUTH KICK; New: BUTTERFLY CHOCOLAT, SLEEPY JAPANESE; Sci-Fi: SOLDIERS EVOLUTION, UNFORGIVEN ZOOLANDER; Sports: MERMAID INSECTS, NORTHWEST POLISH, ROSES TREASURE, SIERRA DIVIDE; Travel: CASSIDY WYOMING, GAMES BOWFINGER')\n",
      "('MARY', 'TANDY', 'Action: DEVIL DESIRE, PRIMARY GLASS, SHRUNK DIVINE, TRUMAN CRAZY; Animation: FALCON VOLUME; Children: HOLOCAUST HIGHBALL, MAKER GABLES, MURDER ANTITRUST, UPTOWN YOUNG, ZOOLANDER FICTION; Classics: REQUIEM TYCOON, VOYAGE LEGALLY; Comedy: SWEDEN SHINING; Documentary: WARS PLUTO; Drama: CHILL LUCK, DIARY PANIC, QUEEN LUKE; Family: SPINAL ROCKY; Foreign: DANGEROUS UPTOWN, GRAPES FURY, SCHOOL JACKET, WAR NOTTING; Horror: TREASURE COMMAND; New: DESTINY SATURDAY, ENDING CROWDS; Sci-Fi: BARBARELLA STREETCAR, GARDEN ISLAND; Sports: GLEAMING JAWBREAKER, PHILADELPHIA WIFE; Travel: FUGITIVE MAGUIRE, HORROR REIGN')\n",
      "('MATTHEW', 'CARREY', 'Action: LUST LOCK, MINDS TRUMAN, TRIP NEWTON, WORST BANGER; Animation: BLACKOUT PRIVATE, INCH JET, SNOWMAN ROLLERCOASTER, TITANIC BOONDOCK; Children: CIRCUS YOUTH, HEARTBREAKERS BRIGHT; Classics: ROOTS REMEMBER, TADPOLE PARK; Comedy: LIFE TWISTED, MULAN MOON; Documentary: ARMY FLINTSTONES; Drama: HARRY IDAHO, LUCK OPUS, TRANSLATION SUMMER; Family: AFRICAN EGG, BLUES INSTINCT, HOUSE DYNAMITE; Foreign: FICTION CHRISTMAS; Games: GRINCH MASSAGE, GUN BONNIE, LADYBUGS ARMAGEDDON, MADRE GABLES, MOONSHINE CABIN; Horror: FAMILY SWEET, SWARM GOLD; Music: BIRCH ANTITRUST, UNCUT SUICIDES; Sci-Fi: CROWDS TELEMARK, NONE SPIKING; Sports: HOLES BRANNIGAN, SQUAD FISH; Travel: DISCIPLE MOTHER, ENOUGH RAGING, MUSCLE BRIGHT, SUPERFLY TRIP')\n",
      "('MATTHEW', 'JOHANSSON', 'Action: CAMPUS REMEMBER, DANCES NONE; Animation: SUGAR WONKA; Classics: LIGHTS DEER, MALKOVICH PET, TOMORROW HUSTLER; Drama: CONQUERER NUTS, HANGING DEEP, SCORPION APOLLO; Family: INDIAN LOVE; Foreign: BABY HALL, SCHOOL JACKET; Music: CLONES PINOCCHIO, DRIVING POLISH, RUNNER MADIGAN, VANISHING ROCKY; New: FLASH WARS; Sci-Fi: CROWDS TELEMARK; Sports: DURHAM PANKY, LOSER HUSTLER')\n",
      "('MATTHEW', 'LEIGH', 'Action: CELEBRITY HORN, EASY GLADIATOR, FIREHOUSE VIETNAM, GLASS DYING; Animation: CANYON STOCK, POTLUCK MIXED; Children: GIANT TROOPERS, ROBBERS JOON; Classics: TOMORROW HUSTLER; Documentary: CUPBOARD SINNERS, DANCING FEVER, DELIVERANCE MULHOLLAND; Drama: MOB DUFFEL, ORIENT CLOSER, VIETNAM SMOOCHY; Family: AFRICAN EGG, FINDING ANACONDA, HOUSE DYNAMITE, OPPOSITE NECKLACE, SOUP WISDOM; Games: DAWN POND, WANDA CHAMBER; Music: FREAKY POCUS, GREATEST NORTH; Sci-Fi: ENGLISH BULWORTH, TROJAN TOMORROW; Sports: CRUSADE HONEY; Travel: GAMES BOWFINGER, MUSCLE BRIGHT, TRAFFIC HOBBIT')\n",
      "('MEG', 'HAWKE', 'Children: GORGEOUS BINGO, MAKER GABLES, SABRINA MIDNIGHT; Classics: GILMORE BOILED, SUMMER SCARFACE, VOYAGE LEGALLY; Comedy: CRAZY HOME; Documentary: INTOLERABLE INTENTIONS, SAGEBRUSH CLUELESS; Drama: CHILL LUCK, REUNION WITCHES; Family: GANDHI KWAI, HOUSE DYNAMITE; Foreign: ORANGE GRAPES, VISION TORQUE; New: MASK PEACH, VAMPIRE WHALE; Sci-Fi: CONNECTICUT TRAMP, FIDDLER LOST, VACATION BOONDOCK; Sports: CRUSADE HONEY, DROP WATERFRONT, HYSTERICAL GRAIL; Travel: FUGITIVE MAGUIRE, LIAISONS SWEET, PAPI NECKLACE, SPEED SUIT')\n",
      "('MENA', 'HOPPER', 'Action: DARN FORRESTER; Animation: THEORY MERMAID; Children: WRONG BEHAVIOR; Classics: CONSPIRACY SPIRIT, CORE SUIT, GILMORE BOILED, LOVER TRUMAN; Comedy: AIRPLANE SIERRA; Documentary: UNITED PILOT, YOUNG LANGUAGE; Drama: APOLLO TEEN, SAINTS BRIDE; Family: CHASING FIGHT; Foreign: ALIEN CENTER, HIGHBALL POTTER, PURPLE MOVIE; Games: LAMBS CINCINATTI; Music: TAXI KICK; Sports: ANONYMOUS HUMAN, BUBBLE GROSSE, FLATLINERS KILLER, SATURDAY LAMBS; Travel: FACTORY DRAGON, SUPERFLY TRIP')\n",
      "('MENA', 'TEMPLE', 'Action: CASUALTIES ENCINO, PRIMARY GLASS; Animation: EARLY HOME; Children: MICROCOSMOS PARADISE; Classics: GILMORE BOILED, REQUIEM TYCOON; Documentary: ACADEMY DINOSAUR, BEACH HEARTBREAKERS, MIGHTY LUCK; Family: RESURRECTION SILVERADO; Foreign: VISION TORQUE, WASH HEAVENLY; Games: ICE CROSSING, LAMBS CINCINATTI; Horror: ALABAMA DEVIL, CARRIE BUNCH; Music: BALLOON HOMEWARD, WIZARD COLDBLOODED; New: BUTTERFLY CHOCOLAT, INTERVIEW LIAISONS, JUMANJI BLADE, JUNGLE CLOSER, VARSITY TRIP; Sci-Fi: ENGLISH BULWORTH; Sports: DROP WATERFRONT, MILE MULAN; Travel: CONTACT ANONYMOUS, FELLOWSHIP AUTUMN, GUMP DATE, LIAISONS SWEET')\n",
      "('MERYL', 'ALLEN', 'Action: BERETS AGENT; Children: SHEPHERD MIDSUMMER; Comedy: VELVET TERMINATOR; Drama: BRIGHT ENCOUNTERS; Family: KILLER INNOCENT; Foreign: JET NEIGHBORS, LOSE INCH, ROCKETEER MOTHER; Games: DAWN POND, DIRTY ACE, GATHERING CALENDAR; Horror: ALABAMA DEVIL, HIGH ENCINO; Music: BOOGIE AMELIE, CLUE GRAIL; New: CLYDE THEORY; Sports: ARTIST COLDBLOODED, CHANCE RESURRECTION, RECORDS ZORRO, VICTORY ACADEMY; Travel: BORN SPINAL, SWEET BROTHERHOOD')\n",
      "('MERYL', 'GIBSON', 'Action: CADDYSHACK JEDI, SKY MIRACLE; Animation: CROSSROADS CASUALTIES, DARES PLUTO, FIGHT JAWBREAKER, JUGGLER HARDLY; Children: MODEL FISH; Comedy: ELEMENT FREDDY, PINOCCHIO SIMON; Documentary: EGG IGBY, PRINCESS GIANT; Drama: ENCOUNTERS CURTAIN, HANGING DEEP; Foreign: COMMAND DARLING, HAPPINESS UNITED, HOLIDAY GAMES, HUNGER ROOF, INTRIGUE WORST; Games: CHICAGO NORTH, STATE WASTELAND; Music: CLONES PINOCCHIO; New: WAKE JAWS; Sci-Fi: MOURNING PURPLE; Sports: ANONYMOUS HUMAN, JADE BUNCH; Travel: COMFORTS RUSH, FACTORY DRAGON, WORKER TARZAN')\n",
      "('MICHAEL', 'BENING', 'Action: PARK CITIZEN, WOMEN DORADO; Children: COMANCHEROS ENEMY, STRANGELOVE DESIRE, STRANGER STRANGERS; Documentary: NEWSIES STORY; Drama: BEAUTY GREASE, NECKLACE OUTBREAK, SPICE SORORITY; Family: HUNTING MUSKETEERS, MUSIC BOONDOCK, SENSIBILITY REAR; Foreign: ALAMO VIDEOTAPE, PURPLE MOVIE; Games: GATHERING CALENDAR; Horror: REEF SALUTE, SPIRIT FLINTSTONES; Music: SILENCE KANE, TELEGRAPH VOYAGE; New: PIANIST OUTFIELD; Sci-Fi: EYES DRIVING; Sports: SLIPPER FIDELITY; Travel: IGBY MAKER, KICK SAVANNAH')\n",
      "('MICHAEL', 'BOLGER', 'Action: GLASS DYING; Animation: LAWLESS VISION, TELEMARK HEARTBREAKERS; Children: SANTA PARIS; Classics: MALKOVICH PET, PREJUDICE OLEANDER; Comedy: AIRPLANE SIERRA, DYING MAKER; Documentary: HOMEWARD CIDER, METAL ARMAGEDDON, WIFE TURN; Drama: SOMETHING DUCK, TENENBAUMS COMMAND; Family: HOUSE DYNAMITE; Foreign: MIXED DOORS, STEPMOM DREAM; Games: MARS ROMAN, TYCOON GATHERING; Horror: KARATE MOON, PATTON INTERVIEW, WATERSHIP FRONTIER; Music: HEAVENLY GUN; New: BREAKFAST GOLDFINGER, IDAHO LOVE, RIDGEMONT SUBMARINE, UNBREAKABLE KARATE; Sci-Fi: CHARIOTS CONSPIRACY; Sports: NOVOCAINE FLIGHT; Travel: ENOUGH RAGING, LIAISONS SWEET')\n",
      "('MICHELLE', 'MCCONAUGHEY', 'Action: SOUTH WAIT, SUSPECTS QUILLS, WATERFRONT DELIVERANCE; Animation: WAIT CIDER; Children: FARGO GANDHI, FULL FLATLINERS; Classics: DRACULA CRYSTAL, REQUIEM TYCOON; Comedy: DADDY PITTSBURGH; Documentary: INTOLERABLE INTENTIONS, SPOILERS HELLFIGHTERS; Drama: KWAI HOMEWARD; Family: BAKED CLEOPATRA, BANG KWAI; Foreign: EVERYONE CRAFT, HELLFIGHTERS SIERRA, MIXED DOORS; Games: DETAILS PACKER, PANKY SUBMARINE; Horror: BOWFINGER GABLES, STREETCAR INTENTIONS; Sports: IMAGE PRINCESS, NORTHWEST POLISH')\n",
      "('MILLA', 'KEITEL', 'Children: NOON PAPI; Classics: JERK PAYCHECK, LOVER TRUMAN, PATIENT SISTER; Comedy: ANTHEM LUKE, PURE RUNNER; Documentary: SPOILERS HELLFIGHTERS; Family: NATURAL STOCK, SENSIBILITY REAR; Foreign: COWBOY DOOM, CROSSING DIVORCE; Games: CANDLES GRAPES, ROXANNE REBEL, WANDA CHAMBER; Horror: HIGH ENCINO, SLEEPING SUSPECTS; New: FLASH WARS, REDEMPTION COMFORTS; Sci-Fi: ATTACKS HATE, DAISY MENAGERIE, OPEN AFRICAN; Sports: DURHAM PANKY, KRAMER CHOCOLATE, SQUAD FISH, TRADING PINOCCHIO; Travel: MADIGAN DORADO, STONE FIRE, SWEET BROTHERHOOD')\n",
      "('MILLA', 'PECK', 'Action: BAREFOOT MANCHURIAN, DREAM PICKUP, MIDNIGHT WESTWARD; Animation: CLASH FREDDY, JUGGLER HARDLY; Children: DAUGHTER MADIGAN, ROBBERS JOON, WRONG BEHAVIOR; Classics: PREJUDICE OLEANDER; Comedy: RUSHMORE MERMAID; Documentary: RAIDERS ANTITRUST; Drama: JACKET FRISCO, NECKLACE OUTBREAK, SEATTLE EXPECATIONS; Foreign: CALENDAR GUNFIGHT; Games: FEATHERS METAL; Horror: ROCK INSTINCT, TEMPLE ATTRACTION, WATERSHIP FRONTIER; New: FATAL HAUNTED; Sci-Fi: WHISPERER GIANT; Sports: CHANCE RESURRECTION, PEACH INNOCENT; Travel: TEEN APOLLO')\n",
      "('MINNIE', 'KILMER', 'Action: RINGS HEARTBREAKERS; Classics: CONSPIRACY SPIRIT, JEEPERS WEDDING, LOVELY JINGLE; Comedy: HUSTLER PARTY, SADDLE ANTITRUST, VELVET TERMINATOR; Documentary: NORTH TEQUILA; Drama: BEETHOVEN EXORCIST, SAVANNAH TOWN; Family: DINOSAUR SECRETARY, JASON TRAP; Foreign: BABY HALL, JET NEIGHBORS; Games: TYCOON GATHERING; New: CHAPLIN LICENSE, STOCK GLASS; Sci-Fi: DAISY MENAGERIE, SOLDIERS EVOLUTION; Travel: WORKER TARZAN')\n",
      "('MINNIE', 'ZELLWEGER', 'Action: SUSPECTS QUILLS; Animation: INSECTS STONE; Children: SANTA PARIS; Classics: ALICE FANTASIA, EXTRAORDINARY CONQUERER, TOMORROW HUSTLER; Comedy: JAWS HARRY, LIFE TWISTED; Documentary: BILL OTHERS, BONNIE HOLOCAUST, SMOKING BARBARELLA, WARS PLUTO; Drama: NOTTING SPEAKEASY; Foreign: CHOCOLATE DUCK, EVERYONE CRAFT, FRIDA SLIPPER, HOLIDAY GAMES, WAR NOTTING; Games: MONSOON CAUSE; Horror: ACE GOLDFINGER, BOWFINGER GABLES, JAPANESE RUN; New: DAY UNFAITHFUL, MANNEQUIN WORST; Sci-Fi: EXPRESS LONELY, RAGING AIRPLANE; Sports: GROOVE FICTION, HYSTERICAL GRAIL, PICKUP DRIVING, TALENTED HOMICIDE; Travel: MADIGAN DORADO')\n",
      "('MORGAN', 'HOPKINS', 'Action: EXCITEMENT EVE, RINGS HEARTBREAKERS, RUGRATS SHAKESPEARE, STAGECOACH ARMAGEDDON; Classics: CANDIDATE PERDITION, DRACULA CRYSTAL, LOATHING LEGALLY; Comedy: PINOCCHIO SIMON; Drama: DECEIVER BETRAYED, HARRY IDAHO, WEST LION; Family: PRIX UNDEFEATED; Foreign: GENTLEMEN STAGE, PET HAUNTING, RESERVOIR ADAPTATION; Horror: ARACHNOPHOBIA ROLLERCOASTER, DRUMS DYNAMITE; Music: UNCUT SUICIDES; Sci-Fi: REIGN GENTLEMEN; Sports: FLATLINERS KILLER, RECORDS ZORRO, TIGHTS DAWN; Travel: BOILED DARES, CONTACT ANONYMOUS, ORDER BETRAYED, PAPI NECKLACE, WOLVES DESIRE')\n",
      "('MORGAN', 'MCDORMAND', 'Action: CLUELESS BUCKET, CROW GREASE, DARKO DORADO; Children: BETRAYED REAR, WRONG BEHAVIOR; Classics: HOLY TADPOLE; Comedy: CRAZY HOME; Documentary: SAGEBRUSH CLUELESS; Drama: SPICE SORORITY; Family: SUNSET RACER; Foreign: ILLUSION AMELIE, WASH HEAVENLY; Games: SLEUTH ORIENT, SUIT WALLS; Horror: ALI FOREVER; New: BOULEVARD MOB, FATAL HAUNTED, LOVERBOY ATTACKS, TROOPERS METAL; Sports: DIVORCE SHINING, DRIVER ANNIE, HOLES BRANNIGAN, NEIGHBORS CHARADE, STAR OPERATION; Travel: FROGMEN BREAKING')\n",
      "('MORGAN', 'WILLIAMS', 'Action: BAREFOOT MANCHURIAN, LORD ARIZONA; Animation: CLUB GRAFFITI, EARLY HOME, HORN WORKING, JUGGLER HARDLY, MASSAGE IMAGE, PUNK DIVORCE; Children: FARGO GANDHI, POLISH BROOKLYN; Classics: ALICE FANTASIA, DRACULA CRYSTAL; Comedy: HEAVEN FREEDOM; Drama: SAINTS BRIDE; Family: MOVIE SHAKESPEARE, MUSIC BOONDOCK, SPLASH GUMP; Foreign: AGENT TRUMAN; New: BREAKING HOME; Sci-Fi: GUYS FALCON; Sports: DRIVER ANNIE, DURHAM PANKY, HYSTERICAL GRAIL, ROSES TREASURE, STAR OPERATION, TUXEDO MILE; Travel: DESPERATE TRAINSPOTTING')\n",
      "('NATALIE', 'HOPKINS', 'Action: CADDYSHACK JEDI, FANTASY TROOPERS, FOOL MOCKINGBIRD, HILLS NEIGHBORS, REAR TRADING, RINGS HEARTBREAKERS; Animation: DOORS PRESIDENT; Children: TWISTED PIRATES; Comedy: CONNECTION MICROCOSMOS, PERFECT GROOVE; Documentary: DOZEN LION, EGG IGBY, MAJESTIC FLOATS; Drama: HAROLD FRENCH, KWAI HOMEWARD, TORQUE BOUND; Family: HOUSE DYNAMITE, JASON TRAP, NETWORK PEAK, SIEGE MADRE, SPINAL ROCKY; Foreign: WAR NOTTING; Games: FEATHERS METAL, MONSOON CAUSE, STAMPEDE DISTURBING; New: NUTS TIES; Sci-Fi: LICENSE WEEKEND, UNFORGIVEN ZOOLANDER; Sports: GRACELAND DYNAMITE, HOLES BRANNIGAN; Travel: ESCAPE METROPOLIS, OTHERS SOUP')\n",
      "('NICK', 'DEGENERES', 'Action: ARK RIDGEMONT; Animation: FLYING HOOK; Children: BETRAYED REAR; Classics: EXTRAORDINARY CONQUERER; Comedy: ZORRO ARK; Documentary: NEWSIES STORY, SHIP WONDERLAND; Drama: BEAUTY GREASE, CHITTY LOCK, GOLDFINGER SENSIBILITY, VIRGIN DAISY; Family: SUPER WYOMING; Foreign: PET HAUNTING; Games: FEATHERS METAL; Music: BOOGIE AMELIE, DRIVING POLISH, HOME PITY; New: ANGELS LIFE, MINE TITANS; Sci-Fi: BARBARELLA STREETCAR, RANDOM GO; Sports: GLEAMING JAWBREAKER')\n",
      "('NICK', 'STALLONE', 'Action: SPEAKEASY DATE, WOMEN DORADO; Children: TEQUILA PAST, TOOTSIE PILOT; Comedy: DOOM DANCING, MULAN MOON; Documentary: BEACH HEARTBREAKERS, WAGON JAWS; Drama: VIRGIN DAISY; Family: BRAVEHEART HUMAN, EFFECT GLADIATOR; Games: MONSOON CAUSE, PRIVATE DROP; Horror: STRANGERS GRAFFITI, ZHIVAGO CORE; New: BUTTERFLY CHOCOLAT, JUMANJI BLADE, RUNAWAY TENENBAUMS, VARSITY TRIP; Sports: CONGENIALITY QUEST, FLATLINERS KILLER, HOLES BRANNIGAN, MOSQUITO ARMAGEDDON, TALENTED HOMICIDE, TRADING PINOCCHIO; Travel: BOILED DARES, BORN SPINAL, HORROR REIGN, SHANGHAI TYCOON, TEEN APOLLO')\n",
      "('NICK', 'WAHLBERG', 'Action: BULL SHAWSHANK; Animation: FIGHT JAWBREAKER; Children: JERSEY SASSY; Classics: DRACULA CRYSTAL, GILBERT PELICAN; Comedy: MALLRATS UNITED, RUSHMORE MERMAID; Documentary: ADAPTATION HOLES; Drama: WARDROBE PHANTOM; Family: APACHE DIVINE, CHISUM BEHAVIOR, INDIAN LOVE, MAGUIRE APACHE; Foreign: BABY HALL, HAPPINESS UNITED; Games: ROOF CHAMPION; Music: LUCKY FLYING; New: DESTINY SATURDAY, FLASH WARS, JEKYLL FROGMEN, MASK PEACH; Sci-Fi: CHAINSAW UPTOWN, GOODFELLAS SALUTE; Travel: LIAISONS SWEET, SMILE EARRING')\n",
      "('OLYMPIA', 'PFEIFFER', 'Action: FIREHOUSE VIETNAM, MAGNOLIA FORRESTER; Animation: STORM HAPPINESS, TITANIC BOONDOCK, WAIT CIDER; Children: IDOLS SNATCHERS, MURDER ANTITRUST, SANTA PARIS; Classics: COLOR PHILADELPHIA; Documentary: DEEP CRUSADE, INTOLERABLE INTENTIONS; Drama: CHITTY LOCK; Family: EFFECT GLADIATOR; Foreign: MAUDE MOD; Games: ICE CROSSING, MARS ROMAN, PSYCHO SHRUNK; Sci-Fi: BADMAN DAWN, EXPRESS LONELY, HANKY OCTOBER, NONE SPIKING; Sports: SENSE GREEK, TOURIST PELICAN; Travel: CONTACT ANONYMOUS, FUGITIVE MAGUIRE, OTHERS SOUP, SWEET BROTHERHOOD, TRAFFIC HOBBIT')\n",
      "('OPRAH', 'KILMER', 'Action: MIDNIGHT WESTWARD, PARK CITIZEN, WEREWOLF LOLA; Animation: ALTER VICTORY, CAROL TEXAS; Children: HEARTBREAKERS BRIGHT, SHEPHERD MIDSUMMER; Comedy: AIRPLANE SIERRA, ANTHEM LUKE, HEAVEN FREEDOM; Documentary: ACADEMY DINOSAUR, BONNIE HOLOCAUST, COAST RAINBOW, EGG IGBY; Drama: APOLLO TEEN; Foreign: KISS GLORY; Horror: AFFAIR PREJUDICE, HIGH ENCINO, TREASURE COMMAND; Music: OLEANDER CLUE; New: APOCALYPSE FLAMINGOS; Sports: ELIZABETH SHANE, MUSSOLINI SPOILERS, STEERS ARMAGEDDON; Travel: ARSENIC INDEPENDENCE')\n",
      "('PARKER', 'GOLDBERG', 'Action: ARK RIDGEMONT, WORST BANGER; Animation: INCH JET, SONS INTERVIEW; Children: SCARFACE BANG, TIES HUNGER; Classics: RIGHT CRANES; Comedy: JAWS HARRY; Documentary: HAWK CHILL; Drama: SAVANNAH TOWN; Family: SPINAL ROCKY; Foreign: MEET CHOCOLATE; Horror: SPIRIT FLINTSTONES; Music: BALLOON HOMEWARD, CONFIDENTIAL INTERVIEW, LUCKY FLYING, WIZARD COLDBLOODED; New: IDAHO LOVE, LOVERBOY ATTACKS; Sci-Fi: EXPRESS LONELY, FISH OPUS; Sports: DRIVER ANNIE, INSTINCT AIRPORT, SQUAD FISH')\n",
      "('PENELOPE', 'CRONYN', 'Action: AMADEUS HOLY, ENTRAPMENT SATISFACTION; Animation: BIKINI BORROWERS, DUCK RACER, MISSION ZOOLANDER, TITANIC BOONDOCK; Children: BEAR GRACELAND, ZOOLANDER FICTION; Classics: CORE SUIT; Comedy: PARADISE SABRINA; Documentary: ARMY FLINTSTONES, CLERKS ANGELS, UNTOUCHABLES SUNRISE, VIRGINIAN PLUTO; Drama: HAROLD FRENCH, ROCKY WAR; Family: FEUD FROGMEN; Foreign: CRYSTAL BREAKING, MUPPET MILE, WONDERFUL DROP; Horror: FIDELITY DEVIL, LADY STAGE, MOTIONS DETAILS, TRAIN BUNCH; Music: LEGEND JEDI; New: CHAPLIN LICENSE, PIANIST OUTFIELD; Sci-Fi: ARMAGEDDON LOST, HAMLET WISDOM; Sports: INSTINCT AIRPORT; Travel: DISCIPLE MOTHER')\n",
      "('PENELOPE', 'GUINESS', 'Animation: ANACONDA CONFESSIONS; Children: LANGUAGE COWBOY; Classics: COLOR PHILADELPHIA, WESTWARD SEABISCUIT; Comedy: VERTIGO NORTHWEST; Documentary: ACADEMY DINOSAUR; Family: KING EVOLUTION, SPLASH GUMP; Foreign: MULHOLLAND BEAST; Games: BULWORTH COMMANDMENTS, HUMAN GRAFFITI; Horror: ELEPHANT TROJAN, LADY STAGE, RULES HUMAN; Music: WIZARD COLDBLOODED; New: ANGELS LIFE, OKLAHOMA JUMANJI; Sci-Fi: CHEAPER CLYDE; Sports: GLEAMING JAWBREAKER')\n",
      "('PENELOPE', 'MONROE', 'Action: PARK CITIZEN, REAR TRADING, TRIP NEWTON; Animation: DARES PLUTO, JUGGLER HARDLY; Children: CHRISTMAS MOONSHINE, DOCTOR GRAIL, HOLOCAUST HIGHBALL; Family: BEDAZZLED MARRIED, DINOSAUR SECRETARY, PITTSBURGH HUNCHBACK, RANGE MOONWALKER; Foreign: HELLFIGHTERS SIERRA, ORANGE GRAPES; Games: ROUGE SQUAD; Horror: REEF SALUTE, SPIRIT FLINTSTONES; Music: DRIVING POLISH; New: CHINATOWN GLADIATOR, MONEY HAROLD, WYOMING STORM; Sports: POSEIDON FOREVER, TOURIST PELICAN; Travel: BASIC EASY, LEATHERNECKS DWARFS, ORDER BETRAYED, TOMATOES HELLFIGHTERS')\n",
      "('PENELOPE', 'PINKETT', 'Action: EXCITEMENT EVE; Animation: JUGGLER HARDLY, LAWLESS VISION, OZ LIAISONS; Classics: CORE SUIT, WESTWARD SEABISCUIT; Comedy: LION UNCUT, RUSHMORE MERMAID, SUBMARINE BED; Documentary: CAUSE DATE, CIDER DESIRE; Family: GANDHI KWAI; Games: MADRE GABLES, STATE WASTELAND, SUIT WALLS; Horror: FAMILY SWEET, MOTIONS DETAILS, PARIS WEEKEND, WORLD LEATHERNECKS; Music: OLEANDER CLUE; New: TROOPERS METAL; Sci-Fi: ENGLISH BULWORTH; Sports: SATURDAY LAMBS; Travel: BOILED DARES, WORKER TARZAN')\n",
      "('RALPH', 'CRUZ', 'Action: DARN FORRESTER; Animation: CANYON STOCK; Children: CASPER DRAGONFLY, EMPIRE MALKOVICH, FULL FLATLINERS, MAKER GABLES, POLISH BROOKLYN; Classics: FROST HEAD; Comedy: PINOCCHIO SIMON, SUBMARINE BED; Documentary: NEWSIES STORY, POCUS PULP, SHIP WONDERLAND, THIN SAGEBRUSH; Drama: RACER EGG, WITCHES PANIC; Family: CONFUSED CANDLES, DUMBO LUST; Foreign: DANGEROUS UPTOWN; Games: GLORY TRACY, SLEUTH ORIENT, VIDEOTAPE ARSENIC; Horror: JAPANESE RUN; New: HOURS RAGE; Sci-Fi: BEVERLY OUTLAW; Sports: DUDE BLINDNESS, NEIGHBORS CHARADE; Travel: FUGITIVE MAGUIRE')\n",
      "('RAY', 'JOHANSSON', 'Animation: MENAGERIE RUSHMORE; Children: CASPER DRAGONFLY, EMPIRE MALKOVICH, STRANGELOVE DESIRE; Classics: ARIZONA BANG, IRON MOON, ISLAND EXORCIST, PREJUDICE OLEANDER; Comedy: FREEDOM CLEOPATRA; Documentary: ADAPTATION HOLES, NATIONAL STORY, UNITED PILOT; Family: GABLES METROPOLIS, MANCHURIAN CURTAIN, SPLASH GUMP; Games: MOONWALKER FOOL, OUTBREAK DIVINE; Horror: LADY STAGE; Music: UNCUT SUICIDES, WIZARD COLDBLOODED; New: IDAHO LOVE; Sci-Fi: METROPOLIS COMA, SUICIDES SILENCE; Sports: ALADDIN CALENDAR, CRUSADE HONEY, EVOLUTION ALTER; Travel: BOONDOCK BALLROOM, BORN SPINAL, FELLOWSHIP AUTUMN, MADIGAN DORADO')\n",
      "('REESE', 'KILMER', 'Action: CAMPUS REMEMBER; Animation: ALTER VICTORY, FORRESTER COMANCHEROS, TRACY CIDER; Children: BENEATH RUSH; Classics: JERK PAYCHECK, LOVER TRUMAN, TOMORROW HUSTLER; Comedy: KNOCK WARLOCK, PINOCCHIO SIMON, WISDOM WORKER; Documentary: COAST RAINBOW, DEEP CRUSADE, HAWK CHILL, UNITED PILOT; Family: SECRETS PARADISE, SLUMS DUCK, WILLOW TRACY; Foreign: CRYSTAL BREAKING, HIGHBALL POTTER, INTRIGUE WORST, TOWN ARK; Games: CANDLES GRAPES, LAMBS CINCINATTI; Horror: BEHAVIOR RUNAWAY; Music: SCALAWAG DUCK, SILENCE KANE; New: UNBREAKABLE KARATE; Sci-Fi: RANDOM GO; Sports: CRANES RESERVOIR, INSTINCT AIRPORT, KRAMER CHOCOLATE')\n",
      "('REESE', 'WEST', 'Action: ANTITRUST TOMATOES; Animation: DOORS PRESIDENT, TURN STAR; Children: GORGEOUS BINGO; Classics: DRACULA CRYSTAL, MALKOVICH PET, SNATCHERS MONTEZUMA, VOLUME HOUSE; Comedy: LIFE TWISTED; Documentary: CAUSE DATE, COAST RAINBOW; Drama: HOBBIT ALIEN, SAINTS BRIDE, WITCHES PANIC; Family: BEDAZZLED MARRIED, CHOCOLAT HARRY, REMEMBER DIARY; Foreign: AGENT TRUMAN, LOSE INCH, SCHOOL JACKET; Games: CREATURES SHAKESPEARE, ROUGE SQUAD; Horror: DRUMS DYNAMITE, YENTL IDAHO; Music: RUNNER MADIGAN; New: GODFATHER DIARY, WILD APOLLO; Sci-Fi: GOODFELLAS SALUTE, WEEKEND PERSONAL; Sports: MOSQUITO ARMAGEDDON, NORTHWEST POLISH, POSEIDON FOREVER; Travel: CASABLANCA SUPER')\n",
      "('RENEE', 'BALL', 'Action: ANTITRUST TOMATOES, HILLS NEIGHBORS, PATRIOT ROMAN; Children: CABIN FLASH, COMANCHEROS ENEMY, GHOST GROUNDHOG, SCARFACE BANG; Classics: EXTRAORDINARY CONQUERER, MAGNIFICENT CHITTY; Comedy: CAT CONEHEADS, TRAMP OTHERS; Documentary: HUNTER ALTER; Drama: BRIGHT ENCOUNTERS, GREEDY ROOTS, UNFAITHFUL KILL; Family: KING EVOLUTION, NATURAL STOCK; Foreign: HOTEL HAPPINESS; Games: WIND PHANTOM; Horror: DESERT POSEIDON; Music: ALONE TRIP, BALLOON HOMEWARD, BIRDCAGE CASPER; New: ANGELS LIFE, LOVERBOY ATTACKS, MASK PEACH; Sci-Fi: BINGO TALENTED, NONE SPIKING; Sports: JADE BUNCH, PERDITION FARGO, SENSE GREEK; Travel: DESPERATE TRAINSPOTTING, TROUBLE DATE')\n",
      "('RENEE', 'TRACY', 'Action: HANDICAP BOONDOCK, QUEST MUSSOLINI; Animation: THIEF PELICAN; Children: HOLLYWOOD ANONYMOUS, INVASION CYCLONE, SUNDANCE INVASION; Classics: CREEPERS KANE, HOPE TOOTSIE, MILLION ACE; Comedy: CONNECTION MICROCOSMOS; Documentary: SMOKING BARBARELLA, UNTOUCHABLES SUNRISE; Drama: ROCKY WAR; Family: EFFECT GLADIATOR, MAGUIRE APACHE, RAGE GAMES, SECRETS PARADISE; Foreign: ALIEN CENTER, DOUBTFIRE LABYRINTH, FRIDA SLIPPER, INFORMER DOUBLE, ROCKETEER MOTHER; Games: FIRE WOLVES; Music: SILENCE KANE; Sci-Fi: EYES DRIVING, SPIRITED CASUALTIES; Sports: ALADDIN CALENDAR, ARTIST COLDBLOODED, CRUSADE HONEY; Travel: COMA HEAD, DESPERATE TRAINSPOTTING, SHANE DARKNESS, SHAWSHANK BUBBLE')\n",
      "('RICHARD', 'PENN', 'Action: DARKO DORADO, MONTEZUMA COMMAND; Children: EMPIRE MALKOVICH, MODEL FISH; Classics: PAJAMA JAWBREAKER; Comedy: AIRPLANE SIERRA, GROUNDHOG UNCUT, HEAVEN FREEDOM; Documentary: WAGON JAWS; Drama: CONEHEADS SMOOCHY, GONE TROUBLE, LEBOWSKI SOLDIERS, TENENBAUMS COMMAND; Family: RESURRECTION SILVERADO; Foreign: ILLUSION AMELIE; Horror: GASLIGHT CRUSADE; Music: BALLOON HOMEWARD, CHAMBER ITALIAN; New: EARTH VISION, OKLAHOMA JUMANJI, SLEEPY JAPANESE, VAMPIRE WHALE; Sci-Fi: FRISCO FORREST, GUYS FALCON, HANKY OCTOBER; Sports: INSTINCT AIRPORT; Travel: ENOUGH RAGING, FUGITIVE MAGUIRE, SUPERFLY TRIP, TOMATOES HELLFIGHTERS')\n",
      "('RIP', 'CRAWFORD', 'Action: AMERICAN CIRCUS, FOOL MOCKINGBIRD, FORREST SONS, RINGS HEARTBREAKERS; Animation: DONNIE ALLEY, MASSAGE IMAGE, OSCAR GOLD; Children: HALL CASSIDY, POLISH BROOKLYN; Comedy: LONELY ELEPHANT, TRAMP OTHERS; Documentary: MADISON TRAP; Drama: CRAFT OUTFIELD, DESTINATION JERK, SAINTS BRIDE; Family: CHOCOLAT HARRY, GABLES METROPOLIS, PITTSBURGH HUNCHBACK, RANGE MOONWALKER, SIEGE MADRE; Foreign: CYCLONE FAMILY, SORORITY QUEEN; Horror: ALABAMA DEVIL, ARABIA DOGMA, TEXAS WATCH, TRAIN BUNCH; New: BOULEVARD MOB, BRANNIGAN SUNRISE, FRONTIER CABIN, OKLAHOMA JUMANJI; Sci-Fi: GUYS FALCON; Sports: SATURDAY LAMBS; Travel: BUCKET BROTHERHOOD')\n",
      "('RIP', 'WINSLET', 'Action: DANCES NONE; Animation: FLOATS GARDEN; Classics: GILBERT PELICAN; Documentary: KILL BROTHERHOOD, SPOILERS HELLFIGHTERS; Drama: HANGING DEEP, QUEEN LUKE; Family: DATE SPEED, FINDING ANACONDA; Foreign: GREEK EVERYONE, HOTEL HAPPINESS, MUPPET MILE, WHALE BIKINI; Games: DAWN POND, FORWARD TEMPLE, PANKY SUBMARINE, ROXANNE REBEL, STAMPEDE DISTURBING; Horror: ALABAMA DEVIL, PATTON INTERVIEW; Music: CHAMBER ITALIAN, CLUE GRAIL, DRIVING POLISH, GREATEST NORTH; New: ATTRACTION NEWTON; Sci-Fi: EXPRESS LONELY, STALLION SUNDANCE; Sports: PERDITION FARGO; Travel: GAMES BOWFINGER, GUMP DATE')\n",
      "('RITA', 'REYNOLDS', 'Animation: LUKE MUMMY; Children: MAKER GABLES; Classics: GILBERT PELICAN, JERK PAYCHECK; Comedy: SNATCH SLIPPER, TRAINSPOTTING STRANGERS; Documentary: NATIONAL STORY; Family: EARRING INSTINCT, INDIAN LOVE; Foreign: COMMAND DARLING, GENTLEMEN STAGE, IMPOSSIBLE PREJUDICE; Horror: ARACHNOPHOBIA ROLLERCOASTER, BEHAVIOR RUNAWAY; New: FLAMINGOS CONNECTICUT, GODFATHER DIARY; Sports: NORTHWEST POLISH, RECORDS ZORRO; Travel: ARSENIC INDEPENDENCE, BORN SPINAL')\n",
      "('RIVER', 'DEAN', 'Action: PARK CITIZEN; Animation: DOGMA FAMILY, POND SEATTLE; Children: JERSEY SASSY; Comedy: HATE HANDICAP, MYSTIC TRUMAN, PARTY KNOCK, PINOCCHIO SIMON, TRAMP OTHERS; Documentary: INDEPENDENCE HOTEL, KILL BROTHERHOOD, MIGHTY LUCK, POCUS PULP; Drama: BLADE POLISH, QUEEN LUKE, WARDROBE PHANTOM; Family: CONFUSED CANDLES, MOVIE SHAKESPEARE; Foreign: BABY HALL, SHREK LICENSE, SORORITY QUEEN; Games: CHICAGO NORTH, DIRTY ACE, FIRE WOLVES, MARS ROMAN; Horror: SPIRIT FLINTSTONES; Sports: GLEAMING JAWBREAKER; Travel: FROGMEN BREAKING, GUMP DATE, SWEET BROTHERHOOD, TEEN APOLLO')\n",
      "('ROCK', 'DUKAKIS', 'Action: CADDYSHACK JEDI; Animation: DESIRE ALIEN, STORM HAPPINESS; Classics: ALICE FANTASIA, SNATCHERS MONTEZUMA; Comedy: LONELY ELEPHANT, SEARCHERS WAIT; Documentary: ACADEMY DINOSAUR, DANCING FEVER, HEAVYWEIGHTS BEAST, UNITED PILOT; Drama: CHITTY LOCK, HANGING DEEP, PATHS CONTROL; Foreign: FICTION CHRISTMAS, MAUDE MOD, SCISSORHANDS SLUMS; Horror: LADY STAGE, MONTEREY LABYRINTH; Music: BALLOON HOMEWARD; New: EVE RESURRECTION; Sci-Fi: FRISCO FORREST; Sports: ALADDIN CALENDAR, BUBBLE GROSSE, FLATLINERS KILLER, LESSON CLEOPATRA, MUMMY CREATURES, SEABISCUIT PUNK; Travel: WORKER TARZAN, WORKING MICROCOSMOS')\n",
      "('RUSSELL', 'BACALL', 'Action: SUSPECTS QUILLS; Animation: SUNRISE LEAGUE; Children: IDOLS SNATCHERS; Classics: ARIZONA BANG; Comedy: CRAZY HOME, HURRICANE AFFAIR; Drama: CONFESSIONS MAGUIRE, PAYCHECK WAIT, REUNION WITCHES, SEA VIRGIN; Family: DINOSAUR SECRETARY, MOVIE SHAKESPEARE, PRIX UNDEFEATED, SPINAL ROCKY; Foreign: MATRIX SNOWMAN; Games: PANKY SUBMARINE; Horror: ARABIA DOGMA, STREETCAR INTENTIONS; Sci-Fi: CINCINATTI WHISPERER, FIDDLER LOST, SOLDIERS EVOLUTION; Sports: FLATLINERS KILLER, MUMMY CREATURES, SIERRA DIVIDE; Travel: WORKER TARZAN')\n",
      "('RUSSELL', 'CLOSE', 'Action: STORY SIDE; Classics: SUMMER SCARFACE; Comedy: GUNFIGHT MOON; Documentary: ARMY FLINTSTONES, MIGHTY LUCK; Family: BILKO ANONYMOUS, RANGE MOONWALKER; Games: VIDEOTAPE ARSENIC, VOLCANO TEXAS; Horror: FIDELITY DEVIL, KENTUCKIAN GIANT; Music: OLEANDER CLUE, WON DARES; New: APOCALYPSE FLAMINGOS; Sci-Fi: GUYS FALCON, LICENSE WEEKEND; Sports: CALIFORNIA BIRDS, GUNFIGHTER MUSSOLINI; Travel: TROUBLE DATE')\n",
      "('RUSSELL', 'TEMPLE', 'Animation: CANYON STOCK, CROSSROADS CASUALTIES; Children: GHOST GROUNDHOG, SANTA PARIS; Classics: TOWERS HURRICANE; Comedy: CLOSER BANG, CONNECTION MICROCOSMOS, CRAZY HOME, GOLD RIVER, TRAINSPOTTING STRANGERS; Documentary: BILL OTHERS, PELICAN COMFORTS, WRATH MILE; Drama: CHITTY LOCK; Family: BANG KWAI, CHASING FIGHT, INDIAN LOVE, SLUMS DUCK; Foreign: VISION TORQUE; Games: GLORY TRACY, VOLCANO TEXAS; Music: UNCUT SUICIDES; New: BREAKFAST GOLDFINGER, PLATOON INSTINCT, TROOPERS METAL; Sci-Fi: CITIZEN SHREK; Sports: NOVOCAINE FLIGHT, SHAKESPEARE SADDLE; Travel: COMFORTS RUSH, FROGMEN BREAKING, SMILE EARRING')\n",
      "('SALMA', 'NOLTE', 'Action: ANTITRUST TOMATOES, LUST LOCK; Animation: FALCON VOLUME, ISHTAR ROCKETEER, JUGGLER HARDLY, OZ LIAISONS; Children: CLOCKWORK PARADISE, DOCTOR GRAIL, JUMPING WRATH; Classics: COLOR PHILADELPHIA; Family: BLUES INSTINCT, SIEGE MADRE; Foreign: WAR NOTTING, WASH HEAVENLY; Games: DETAILS PACKER, PANKY SUBMARINE; Horror: ZHIVAGO CORE; Music: BIRDCAGE CASPER, CLONES PINOCCHIO, GO PURPLE, PERSONAL LADYBUGS, REBEL AIRPORT; New: AMISTAD MIDSUMMER; Sci-Fi: NEMO CAMPUS; Travel: FELLOWSHIP AUTUMN')\n",
      "('SANDRA', 'KILMER', 'Action: BULL SHAWSHANK, DARN FORRESTER, MAGNOLIA FORRESTER; Animation: BLACKOUT PRIVATE, OZ LIAISONS, SONS INTERVIEW; Children: GORGEOUS BINGO, JUMPING WRATH, SPLENDOR PATTON, STRANGER STRANGERS; Classics: CANDIDATE PERDITION, LOVELY JINGLE; Documentary: STREAK RIDGEMONT; Drama: SAVANNAH TOWN; Family: HOCUS FRIDA; Foreign: AGENT TRUMAN, HELLFIGHTERS SIERRA, HOTEL HAPPINESS; Games: CANDLES GRAPES, STATE WASTELAND; Horror: SLEEPING SUSPECTS, STREETCAR INTENTIONS; Music: OLEANDER CLUE, PERSONAL LADYBUGS, YOUTH KICK; New: DESTINY SATURDAY, VANISHED GARDEN; Sci-Fi: DIVIDE MONSTER, GOLDMINE TYCOON, IDENTITY LOVER; Sports: ARTIST COLDBLOODED, DRIVER ANNIE, POSEIDON FOREVER, SHAKESPEARE SADDLE; Travel: CASSIDY WYOMING, SPEED SUIT, WOLVES DESIRE')\n",
      "('SANDRA', 'PECK', 'Action: EXCITEMENT EVE, FIREHOUSE VIETNAM, RINGS HEARTBREAKERS, STAGECOACH ARMAGEDDON; Classics: GILBERT PELICAN; Documentary: ACADEMY DINOSAUR, VIRGINIAN PLUTO; Drama: BEETHOVEN EXORCIST; Family: BANG KWAI, DUMBO LUST; Foreign: MATRIX SNOWMAN; Horror: FAMILY SWEET; Music: SILENCE KANE; New: BIRDS PERDITION, FLASH WARS; Sci-Fi: BEVERLY OUTLAW; Sports: DUDE BLINDNESS; Travel: BOONDOCK BALLROOM, ENOUGH RAGING')\n",
      "('SCARLETT', 'BENING', 'Children: FULL FLATLINERS, INVASION CYCLONE; Classics: CREEPERS KANE; Comedy: SNATCH SLIPPER, SUBMARINE BED; Drama: BEETHOVEN EXORCIST, LUCK OPUS, SEATTLE EXPECATIONS, TENENBAUMS COMMAND; Foreign: DOUBTFIRE LABYRINTH, RESERVOIR ADAPTATION; Games: BULWORTH COMMANDMENTS, FEATHERS METAL, ROOF CHAMPION; Music: WORDS HUNTER, YOUTH KICK; New: AMISTAD MIDSUMMER, EVE RESURRECTION; Sci-Fi: FIDDLER LOST, IDENTITY LOVER; Sports: CALIFORNIA BIRDS, DUDE BLINDNESS, DURHAM PANKY, FLATLINERS KILLER; Travel: MOULIN WAKE, SHAWSHANK BUBBLE')\n",
      "('SCARLETT', 'DAMON', 'Action: CROW GREASE, MINDS TRUMAN; Animation: BORROWERS BEDAZZLED, EARLY HOME, MASSAGE IMAGE, POTLUCK MIXED; Children: BEAR GRACELAND, FARGO GANDHI, LABYRINTH LEAGUE, SANTA PARIS; Classics: MILLION ACE; Comedy: CONNECTION MICROCOSMOS, FRANKENSTEIN STRANGER, MYSTIC TRUMAN; Documentary: DEEP CRUSADE; Drama: CRAFT OUTFIELD, ORIENT CLOSER, SPICE SORORITY, TREATMENT JEKYLL; Family: INDIAN LOVE, RAGE GAMES; Foreign: ALAMO VIDEOTAPE, MADNESS ATTACKS; Games: DAWN POND, DIRTY ACE, LAMBS CINCINATTI; Horror: AFFAIR PREJUDICE, LOLA AGENT; Music: HANOVER GALAXY; New: EAGLES PANKY, INTERVIEW LIAISONS; Sports: DUDE BLINDNESS, GUNFIGHTER MUSSOLINI, IMAGE PRINCESS, NEIGHBORS CHARADE, RIDER CADDYSHACK')\n",
      "('SEAN', 'GUINESS', 'Action: DARN FORRESTER, FANTASY TROOPERS, LUST LOCK, MOCKINGBIRD HOLLYWOOD, STAGECOACH ARMAGEDDON; Animation: FORRESTER COMANCHEROS, HORN WORKING, TELEMARK HEARTBREAKERS, TRACY CIDER; Classics: OCTOBER SUBMARINE, PATIENT SISTER; Comedy: GROUNDHOG UNCUT, LONELY ELEPHANT, SUBMARINE BED; Documentary: STREAK RIDGEMONT, UNITED PILOT; Drama: SCORPION APOLLO; Family: DUMBO LUST, HALF OUTFIELD, HUNTING MUSKETEERS; Foreign: ALAMO VIDEOTAPE, BROOKLYN DESERT; Games: HAUNTING PIANIST; Horror: ACE GOLDFINGER; Music: GO PURPLE, GROSSE WONDERFUL; Sci-Fi: GRAFFITI LOVE, LICENSE WEEKEND, SOLDIERS EVOLUTION; Sports: CRUSADE HONEY, PHILADELPHIA WIFE; Travel: IGBY MAKER, SUPERFLY TRIP')\n",
      "('SEAN', 'WILLIAMS', 'Action: WATERFRONT DELIVERANCE; Animation: FLOATS GARDEN, ROOM ROMAN, SUNRISE LEAGUE; Children: IDOLS SNATCHERS; Classics: DRACULA CRYSTAL; Comedy: VELVET TERMINATOR; Documentary: SAGEBRUSH CLUELESS; Drama: WEST LION; Family: MAGUIRE APACHE; Foreign: NEWTON LABYRINTH, OPUS ICE; Games: FORWARD TEMPLE, WANDA CHAMBER; Horror: ARABIA DOGMA, PATTON INTERVIEW, STRANGERS GRAFFITI; Music: OLEANDER CLUE, REBEL AIRPORT; New: CHINATOWN GLADIATOR; Sci-Fi: EXPRESS LONELY; Sports: DIVORCE SHINING, SEABISCUIT PUNK; Travel: ENOUGH RAGING, HAUNTED ANTITRUST, MUSCLE BRIGHT')\n",
      "('SIDNEY', 'CROWE', 'Action: AMERICAN CIRCUS, ANTITRUST TOMATOES, LORD ARIZONA, TRUMAN CRAZY; Animation: DOGMA FAMILY, OZ LIAISONS; Children: EMPIRE MALKOVICH, SUNDANCE INVASION, WRONG BEHAVIOR; Classics: CANDIDATE PERDITION; Comedy: SUBMARINE BED, TRAMP OTHERS; Drama: TREATMENT JEKYLL; Family: FINDING ANACONDA, GREASE YOUTH, SIEGE MADRE; Foreign: ALIEN CENTER; Games: SPY MILE; Horror: WORLD LEATHERNECKS; Music: ALASKA PHANTOM, CLONES PINOCCHIO, FREAKY POCUS; New: ENDING CROWDS, MANNEQUIN WORST, MASK PEACH, PLUTO OLEANDER, RUN PACIFIC, WAKE JAWS, WYOMING STORM; Sci-Fi: SPIRITED CASUALTIES, TITANS JERK; Sports: ARTIST COLDBLOODED, GRACELAND DYNAMITE, MUMMY CREATURES')\n",
      "('SISSY', 'SOBIESKI', 'Action: SHRUNK DIVINE, SKY MIRACLE; Animation: TELEMARK HEARTBREAKERS; Comedy: CRAZY HOME, FERRIS MOTHER, WISDOM WORKER; Documentary: COAST RAINBOW; Drama: CHITTY LOCK, GONE TROUBLE, MOB DUFFEL, ROCKY WAR; Family: PRIX UNDEFEATED; Foreign: GREEK EVERYONE, HOOSIERS BIRDCAGE; New: CLYDE THEORY; Sci-Fi: OPEN AFRICAN; Travel: BORN SPINAL, FACTORY DRAGON')\n",
      "('SPENCER', 'DEPP', 'Action: DRAGON SQUAD, STORY SIDE, WORST BANGER; Animation: CANYON STOCK; Classics: SNATCHERS MONTEZUMA; Documentary: WRATH MILE; Drama: VIRGIN DAISY, WITCHES PANIC; Foreign: HELLFIGHTERS SIERRA; Games: MASSACRE USUAL, TYCOON GATHERING; Horror: TREASURE COMMAND; Music: ALONE TRIP, HEAVENLY GUN, REBEL AIRPORT, TAXI KICK; New: SALUTE APOLLO, STING PERSONAL; Sci-Fi: RANDOM GO, WEEKEND PERSONAL; Sports: SENSE GREEK; Travel: LEATHERNECKS DWARFS, ORDER BETRAYED, SWEET BROTHERHOOD')\n",
      "('SPENCER', 'PECK', 'Action: DRAGON SQUAD, DRIFTER COMMANDMENTS; Children: BACKLASH UNDEFEATED, CLOCKWORK PARADISE; Documentary: CUPBOARD SINNERS, WAGON JAWS; Drama: QUEEN LUKE; Family: PILOT HOOSIERS; Foreign: DANGEROUS UPTOWN, HOLIDAY GAMES, WASH HEAVENLY; Games: PANKY SUBMARINE; Horror: SPIRIT FLINTSTONES, SWARM GOLD; Music: CLUE GRAIL, REBEL AIRPORT, REDS POCUS; Sci-Fi: FIDDLER LOST; Sports: MERMAID INSECTS, MOTHER OLEANDER, MUMMY CREATURES')\n",
      "('SUSAN', 'DAVIS', 'Action: DRAGON SQUAD, LAWRENCE LOVE; Children: BENEATH RUSH, JUMPING WRATH, MURDER ANTITRUST, UPTOWN YOUNG; Classics: BEAST HUNCHBACK, SPIKING ELEMENT; Comedy: MEMENTO ZOOLANDER, SEARCHERS WAIT, VALLEY PACKER, WISDOM WORKER; Documentary: BONNIE HOLOCAUST; Drama: CHITTY LOCK, PATHS CONTROL, SAINTS BRIDE; Family: NATURAL STOCK, PRIX UNDEFEATED; Foreign: WONDERFUL DROP; Games: CREATURES SHAKESPEARE, VIDEOTAPE ARSENIC; Horror: EGYPT TENENBAUMS, KARATE MOON, PULP BEVERLY; Music: DRIVING POLISH, VANISHING ROCKY, WIZARD COLDBLOODED; New: EVE RESURRECTION; Sci-Fi: PANTHER REDS; Sports: DURHAM PANKY, STAR OPERATION; Travel: SHINING ROSES, WORKER TARZAN')\n",
      "('SUSAN', 'DAVIS', 'Action: CASUALTIES ENCINO, EXCITEMENT EVE, GLASS DYING; Children: FULL FLATLINERS, SISTER FREDDY; Classics: LOATHING LEGALLY; Documentary: BED HIGHBALL, CLERKS ANGELS, PACIFIC AMISTAD; Drama: LUCK OPUS; Foreign: HOTEL HAPPINESS, MADNESS ATTACKS, WASH HEAVENLY; Horror: AIRPORT POLLOCK; Music: WORDS HUNTER; Sci-Fi: GOODFELLAS SALUTE, NONE SPIKING, TROJAN TOMORROW; Sports: ANONYMOUS HUMAN, CARIBBEAN LIBERTY; Travel: LEATHERNECKS DWARFS')\n",
      "('SYLVESTER', 'DERN', 'Action: RINGS HEARTBREAKERS; Animation: DOORS PRESIDENT; Children: BACKLASH UNDEFEATED, CLOCKWORK PARADISE, SHEPHERD MIDSUMMER, WALLS ARTIST; Classics: CREEPERS KANE, PREJUDICE OLEANDER; Comedy: PARADISE SABRINA; Documentary: HALLOWEEN NUTS, NEWSIES STORY; Family: PRIX UNDEFEATED, RUSH GOODFELLAS; Games: ENCINO ELF; Horror: TEXAS WATCH; Music: ALASKA PHANTOM, CONFIDENTIAL INTERVIEW; New: BIRDS PERDITION; Sci-Fi: SUN CONFESSIONS, WEEKEND PERSONAL; Sports: INSTINCT AIRPORT; Travel: SHAWSHANK BUBBLE')\n",
      "('THORA', 'TEMPLE', 'Animation: CAROL TEXAS; Children: CHRISTMAS MOONSHINE, WRONG BEHAVIOR; Classics: CANDIDATE PERDITION, GALAXY SWEETHEARTS, LOVER TRUMAN; Documentary: MADISON TRAP, VIRGINIAN PLUTO; Drama: WARDROBE PHANTOM; Family: AFRICAN EGG, BLANKET BEVERLY, HOCUS FRIDA; Music: INSIDER ARIZONA, TELEGRAPH VOYAGE; New: INTERVIEW LIAISONS, LOVERBOY ATTACKS; Sci-Fi: BADMAN DAWN, RANDOM GO, TROJAN TOMORROW; Sports: JADE BUNCH')\n",
      "('TIM', 'HACKMAN', 'Animation: PACKER MADIGAN; Children: UPTOWN YOUNG; Classics: LIGHTS DEER, SNATCHERS MONTEZUMA; Documentary: CUPBOARD SINNERS, DEEP CRUSADE, HOMEWARD CIDER; Drama: HAROLD FRENCH, MOB DUFFEL; Family: FEUD FROGMEN; Foreign: CALENDAR GUNFIGHT, HOOSIERS BIRDCAGE, MEET CHOCOLATE, PEARL DESTINY; Horror: BEHAVIOR RUNAWAY; Music: WIZARD COLDBLOODED; New: CHAPLIN LICENSE; Sci-Fi: FIDDLER LOST; Sports: CRUSADE HONEY, MUMMY CREATURES, PEACH INNOCENT; Travel: BOILED DARES, BUCKET BROTHERHOOD')\n",
      "('TOM', 'MCKELLEN', 'Action: CADDYSHACK JEDI, KISSING DOLLS, SHRUNK DIVINE; Animation: CLUB GRAFFITI, DESIRE ALIEN, DONNIE ALLEY, MISSION ZOOLANDER; Children: IDOLS SNATCHERS, MAGIC MALLRATS, STRANGER STRANGERS; Comedy: FREEDOM CLEOPATRA; Documentary: EGG IGBY; Drama: NECKLACE OUTBREAK, SPICE SORORITY; Family: INDIAN LOVE; Foreign: GENTLEMEN STAGE, PURPLE MOVIE; Horror: ANALYZE HOOSIERS, TARZAN VIDEOTAPE; Music: LEGEND JEDI; New: IDAHO LOVE; Sci-Fi: FRISCO FORREST, STALLION SUNDANCE; Sports: CONGENIALITY QUEST, NEIGHBORS CHARADE')\n",
      "('TOM', 'MIRANDA', 'Animation: SUNRISE LEAGUE; Children: LABYRINTH LEAGUE; Comedy: KNOCK WARLOCK, MEMENTO ZOOLANDER, VALLEY PACKER; Documentary: POCUS PULP, RAINBOW SHOCK; Drama: TRANSLATION SUMMER; Family: CHASING FIGHT, FEUD FROGMEN, SUPER WYOMING; Foreign: KISS GLORY, ROCKETEER MOTHER; Games: MADRE GABLES, SUIT WALLS; Horror: ANALYZE HOOSIERS, LOLA AGENT, LOVE SUICIDES, PATTON INTERVIEW, TARZAN VIDEOTAPE, UNDEFEATED DALMATIONS; Music: FREAKY POCUS, PERSONAL LADYBUGS; New: FLAMINGOS CONNECTICUT; Sci-Fi: SILVERADO GOLDFINGER; Sports: TIGHTS DAWN; Travel: OUTLAW HANKY')\n",
      "('UMA', 'WOOD', 'Action: ANTITRUST TOMATOES, CLUELESS BUCKET; Animation: CLASH FREDDY, INCH JET, SNOWMAN ROLLERCOASTER; Children: CABIN FLASH, LEGALLY SECRETARY, MODEL FISH, SPLENDOR PATTON; Classics: GALAXY SWEETHEARTS, STEEL SANTA; Comedy: GROUNDHOG UNCUT, LIFE TWISTED, LION UNCUT; Documentary: HOMEWARD CIDER, METAL ARMAGEDDON, WEDDING APOLLO; Drama: TORQUE BOUND; Family: LOLITA WORLD, SPLASH GUMP; Foreign: FRIDA SLIPPER; Games: GRINCH MASSAGE, MOONWALKER FOOL; Horror: MOTIONS DETAILS, ZHIVAGO CORE; Music: ALONE TRIP, REBEL AIRPORT; New: ATTRACTION NEWTON, CHINATOWN GLADIATOR; Sci-Fi: DAISY MENAGERIE, SOLDIERS EVOLUTION; Sports: DRIVER ANNIE, RIDER CADDYSHACK; Travel: BOONDOCK BALLROOM, LEATHERNECKS DWARFS')\n",
      "('VAL', 'BOLGER', 'Action: AMADEUS HOLY, DRIFTER COMMANDMENTS, PRIMARY GLASS; Animation: CANYON STOCK, WATCH TRACY; Children: JERSEY SASSY, MAKER GABLES, MODEL FISH, STRANGER STRANGERS; Classics: PATIENT SISTER, PREJUDICE OLEANDER; Comedy: CAPER MOTIONS, FIREBALL PHILADELPHIA, LONELY ELEPHANT, MALLRATS UNITED; Documentary: UNITED PILOT, WEDDING APOLLO; Drama: CHITTY LOCK, DALMATIONS SWEDEN, PATHS CONTROL; Foreign: INTRIGUE WORST, TOWN ARK; Games: LAMBS CINCINATTI, STAMPEDE DISTURBING; Horror: CARRIE BUNCH, ELEPHANT TROJAN; Music: ALASKA PHANTOM, JAWBREAKER BROOKLYN, YOUTH KICK; Sci-Fi: METROPOLIS COMA, STALLION SUNDANCE; Sports: ALADDIN CALENDAR, DUDE BLINDNESS; Travel: SHAWSHANK BUBBLE, WORKING MICROCOSMOS')\n",
      "('VIVIEN', 'BASINGER', 'Action: SUSPECTS QUILLS, WEREWOLF LOLA; Animation: CAROL TEXAS, DONNIE ALLEY, TELEMARK HEARTBREAKERS; Children: BENEATH RUSH, NOON PAPI, TOOTSIE PILOT; Comedy: CONNECTION MICROCOSMOS, CRAZY HOME, MALLRATS UNITED; Documentary: NATIONAL STORY, SMOKING BARBARELLA; Drama: BEETHOVEN EXORCIST, JACKET FRISCO; Family: HOUSE DYNAMITE, SPARTACUS CHEAPER; Foreign: BABY HALL; Games: DAWN POND, JERICHO MULAN, STAMPEDE DISTURBING; Horror: SIMON NORTH, SPIRIT FLINTSTONES, WORLD LEATHERNECKS; Music: MINORITY KISS, TELEGRAPH VOYAGE; New: APOCALYPSE FLAMINGOS; Sci-Fi: CONNECTICUT TRAMP, OPEN AFRICAN, WEEKEND PERSONAL; Sports: BUBBLE GROSSE, EXORCIST STING, LOSER HUSTLER; Travel: MOULIN WAKE, TOMATOES HELLFIGHTERS')\n",
      "('VIVIEN', 'BERGEN', 'Action: DRIFTER COMMANDMENTS, EXCITEMENT EVE, HILLS NEIGHBORS; Animation: CLASH FREDDY, DONNIE ALLEY; Children: GORGEOUS BINGO, POLISH BROOKLYN; Classics: LOVELY JINGLE, LOVER TRUMAN, WESTWARD SEABISCUIT; Drama: HOBBIT ALIEN; Foreign: TRAP GUYS; Games: DIRTY ACE, TYCOON GATHERING; Horror: DRUMS DYNAMITE, HIGH ENCINO, JAPANESE RUN, KENTUCKIAN GIANT, STREETCAR INTENTIONS; Music: DRIVING POLISH, ENEMY ODDS, IMPACT ALADDIN; New: SALUTE APOLLO, STOCK GLASS, VOICE PEACH; Sports: CRANES RESERVOIR, MUSSOLINI SPOILERS, SATURDAY LAMBS, TIGHTS DAWN; Travel: ITALIAN AFRICAN')\n",
      "('WALTER', 'TORN', 'Action: CROW GREASE, DANCES NONE, FORREST SONS, SKY MIRACLE; Animation: EARLY HOME, FLYING HOOK; Children: CASPER DRAGONFLY, JERSEY SASSY, STRANGELOVE DESIRE; Classics: ROOTS REMEMBER, SPIKING ELEMENT; Comedy: LONELY ELEPHANT, STAGE WORLD; Documentary: MADISON TRAP, RAIDERS ANTITRUST; Drama: HOBBIT ALIEN, LIES TREATMENT, REUNION WITCHES, WARDROBE PHANTOM, WITCHES PANIC; Family: BANG KWAI, SLUMS DUCK; Foreign: HOOSIERS BIRDCAGE, MULHOLLAND BEAST, STEPMOM DREAM; Games: CURTAIN VIDEOTAPE, LAMBS CINCINATTI, NIGHTMARE CHILL; Horror: ARABIA DOGMA, FREDDY STORM, GASLIGHT CRUSADE, MOTIONS DETAILS; Music: AMELIE HELLFIGHTERS, WIZARD COLDBLOODED; Sports: HYSTERICAL GRAIL, LESSON CLEOPATRA, MUMMY CREATURES, NOVOCAINE FLIGHT, SIERRA DIVIDE; Travel: CASABLANCA SUPER, LOCK REAR')\n",
      "('WARREN', 'JACKMAN', 'Action: AMERICAN CIRCUS, SKY MIRACLE; Animation: OZ LIAISONS, POTTER CONNECTICUT; Children: LANGUAGE COWBOY, SHEPHERD MIDSUMMER; Comedy: SUBMARINE BED, VERTIGO NORTHWEST; Documentary: HEAVYWEIGHTS BEAST, SHIP WONDERLAND; Drama: BEETHOVEN EXORCIST, CHILL LUCK, CONEHEADS SMOOCHY, CONFESSIONS MAGUIRE, HOBBIT ALIEN, LIES TREATMENT; Foreign: MEET CHOCOLATE, ROCKETEER MOTHER, TOWN ARK; Games: GRINCH MASSAGE, NAME DETECTIVE; Horror: COMMANDMENTS EXPRESS; Music: IMPACT ALADDIN, MONSTER SPARTACUS, OLEANDER CLUE; New: RUNAWAY TENENBAUMS; Sci-Fi: BADMAN DAWN, HAMLET WISDOM; Sports: MERMAID INSECTS, SHAKESPEARE SADDLE; Travel: BOONDOCK BALLROOM, SUPERFLY TRIP')\n",
      "('WARREN', 'NOLTE', 'Animation: DARES PLUTO, POTTER CONNECTICUT, PRIDE ALAMO, THIEF PELICAN, TITANIC BOONDOCK; Classics: PAJAMA JAWBREAKER, ROOTS REMEMBER; Comedy: DOOM DANCING; Documentary: ACADEMY DINOSAUR, DEEP CRUSADE, WEDDING APOLLO; Drama: GREEDY ROOTS, WARDROBE PHANTOM; Foreign: AGENT TRUMAN, MEET CHOCOLATE; Games: FANTASIA PARK, LADYBUGS ARMAGEDDON; Horror: ALABAMA DEVIL, KENTUCKIAN GIANT, PULP BEVERLY; Music: ELF MURDER, GREATEST NORTH, PERSONAL LADYBUGS, REDS POCUS, ROMAN PUNK; New: MASK PEACH, UNBREAKABLE KARATE; Sci-Fi: CHARADE DUFFEL, GARDEN ISLAND, PANTHER REDS; Sports: LESSON CLEOPATRA, RIVER OUTLAW; Travel: OUTLAW HANKY, TOMATOES HELLFIGHTERS')\n",
      "('WHOOPI', 'HURT', 'Animation: POTTER CONNECTICUT, SONS INTERVIEW; Children: GORGEOUS BINGO, GRADUATE LORD, LANGUAGE COWBOY, MURDER ANTITRUST, ZOOLANDER FICTION; Classics: RIGHT CRANES; Comedy: STRICTLY SCARFACE; Documentary: MIGHTY LUCK, MOD SECRETARY, PELICAN COMFORTS; Drama: UNFAITHFUL KILL; Family: KILLER INNOCENT, ROBBERY BRIGHT, SECRETS PARADISE; Foreign: CALENDAR GUNFIGHT, COWBOY DOOM; Games: ROOF CHAMPION, SPY MILE, VANILLA DAY; Horror: DRUMS DYNAMITE, PATTON INTERVIEW, PULP BEVERLY, SPIRIT FLINTSTONES; Music: OUTFIELD MASSACRE; New: BIRDS PERDITION, RIDGEMONT SUBMARINE; Sports: ANONYMOUS HUMAN, CHANCE RESURRECTION, MOTHER OLEANDER, RIDER CADDYSHACK')\n",
      "('WILL', 'WILSON', 'Action: BAREFOOT MANCHURIAN, CAMPUS REMEMBER, UPRISING UPTOWN; Animation: DARES PLUTO, DONNIE ALLEY, HORN WORKING, THEORY MERMAID, TITANIC BOONDOCK; Children: NOON PAPI, TIES HUNGER, WARLOCK WEREWOLF; Classics: CRUELTY UNFORGIVEN, PAJAMA JAWBREAKER; Comedy: CRAZY HOME; Documentary: FRENCH HOLIDAY; Games: GUN BONNIE, HUMAN GRAFFITI, SLEUTH ORIENT; Horror: BOWFINGER GABLES, SLEEPING SUSPECTS; Music: DRIVING POLISH; New: APOCALYPSE FLAMINGOS, FATAL HAUNTED, PLATOON INSTINCT; Sci-Fi: MOURNING PURPLE; Sports: DIVORCE SHINING, LIBERTY MAGNIFICENT, NEIGHBORS CHARADE, PICKUP DRIVING, STAR OPERATION; Travel: SPEED SUIT')\n",
      "('WILLIAM', 'HACKMAN', 'Action: ANTITRUST TOMATOES, BERETS AGENT; Children: CROOKED FROGMEN, HOLOCAUST HIGHBALL; Classics: CREEPERS KANE, SPIKING ELEMENT; Comedy: WISDOM WORKER; Documentary: CAUSE DATE, NATIONAL STORY; Drama: HUNCHBACK IMPOSSIBLE, SEA VIRGIN; Family: HUNTING MUSKETEERS, SECRETS PARADISE; Foreign: TRAP GUYS; Games: GLORY TRACY, JERICHO MULAN, MONSOON CAUSE, MOONSHINE CABIN, STATE WASTELAND; Horror: ALABAMA DEVIL, ZHIVAGO CORE; New: CLEOPATRA DEVIL; Sports: RECORDS ZORRO, RIDER CADDYSHACK, TIGHTS DAWN; Travel: HAUNTED ANTITRUST, WINDOW SIDE')\n",
      "('WOODY', 'HOFFMAN', 'Action: ENTRAPMENT SATISFACTION, MIDNIGHT WESTWARD, SHRUNK DIVINE; Animation: DUCK RACER, ROOM ROMAN, SNOWMAN ROLLERCOASTER, WAIT CIDER; Classics: ALICE FANTASIA, GILMORE BOILED, PAJAMA JAWBREAKER; Comedy: KNOCK WARLOCK; Documentary: BEACH HEARTBREAKERS, WIFE TURN; Drama: BUNCH MINDS, SHOOTIST SUPERFLY, SPICE SORORITY; Family: ATLANTIS CAUSE, PILOT HOOSIERS; Foreign: TRAP GUYS; Games: LAMBS CINCINATTI, MOONWALKER FOOL, SPY MILE; Music: BIRCH ANTITRUST, TELEGRAPH VOYAGE; New: BREAKING HOME, MAIDEN HOME, WYOMING STORM; Sci-Fi: NONE SPIKING; Sports: DURHAM PANKY, LOSER HUSTLER, NEIGHBORS CHARADE')\n",
      "('WOODY', 'JOLIE', 'Action: SKY MIRACLE, STAGECOACH ARMAGEDDON, TRIP NEWTON; Children: FURY MURDER, INVASION CYCLONE; Classics: JEEPERS WEDDING; Comedy: CRAZY HOME, DOOM DANCING, DOWNHILL ENOUGH, WISDOM WORKER; Documentary: KILL BROTHERHOOD; Drama: APOLLO TEEN, CHILL LUCK; Foreign: BUGSY SONG, EVERYONE CRAFT; Games: FEATHERS METAL, FIRE WOLVES; Horror: LOLA AGENT, SWARM GOLD; Music: ALONE TRIP, TAXI KICK; New: MAIDEN HOME, MASK PEACH, RUN PACIFIC, WAKE JAWS; Sci-Fi: STALLION SUNDANCE, TITANS JERK, WONDERLAND CHRISTMAS; Sports: IMAGE PRINCESS, KRAMER CHOCOLATE; Travel: SHINING ROSES')\n",
      "('ZERO', 'CAGE', 'Action: DANCES NONE, HANDICAP BOONDOCK, STORY SIDE; Animation: CANYON STOCK, HORN WORKING; Children: JERSEY SASSY, TOOTSIE PILOT, UPTOWN YOUNG; Comedy: VELVET TERMINATOR; Documentary: MOD SECRETARY, THIN SAGEBRUSH; Drama: RACER EGG, WEST LION; Family: GANDHI KWAI; Foreign: MEET CHOCOLATE; Games: ENCINO ELF, MOONWALKER FOOL; Horror: STRANGERS GRAFFITI; Music: OLEANDER CLUE; New: ENDING CROWDS, GODFATHER DIARY; Sports: HONEY TIES, IMAGE PRINCESS, LOSER HUSTLER; Travel: WORKER TARZAN')\n"
     ]
    }
   ],
   "source": [
    "# return the actor's first_name, last_name, and all the films they have acted in\n",
    "# like: 'PENELOPE', 'GUINESS', 'Animation: ANACONDA CONFESSIONS; Children: LANGUAGE COWBOY; Classics: COLOR PHILADELPHIA, WESTWARD SEABISCUIT'\n",
    "sql_ex12 = '''\n",
    "SELECT\n",
    "    first_name,\n",
    "    last_name,\n",
    "    GROUP_CONCAT(DISTINCT CONCAT(name, ': ', titles) SEPARATOR '; ') AS films_by_categories\n",
    "FROM \n",
    "    actor\n",
    "    LEFT JOIN film_actor USING (actor_id)\n",
    "    LEFT JOIN film_category USING (film_id)\n",
    "    LEFT JOIN (\n",
    "        SELECT\n",
    "            actor_id,\n",
    "            category_id,\n",
    "            name,\n",
    "            GROUP_CONCAT(DISTINCT title SEPARATOR ', ') AS titles\n",
    "        FROM \n",
    "            category\n",
    "            LEFT JOIN film_category USING (category_id)\n",
    "            LEFT JOIN film USING (film_id)\n",
    "            LEFT JOIN film_actor USING (film_id)\n",
    "        GROUP BY\n",
    "            actor_id, category_id, name\n",
    "    ) AS category_title USING (actor_id, category_id)\n",
    "GROUP BY \n",
    "    actor_id\n",
    "ORDER BY\n",
    "    first_name, last_name\n",
    "'''\n",
    "\n",
    "db(sql_ex12)"
   ]
  },
  {
   "cell_type": "code",
   "execution_count": 69,
   "metadata": {},
   "outputs": [
    {
     "data": {
      "application/vnd.jupyter.widget-view+json": {
       "model_id": "402aca41be47451ea744cd381a30b50a",
       "version_major": 2,
       "version_minor": 0
      },
      "text/plain": [
       "interactive(children=(Button(description='Enviar ex12', style=ButtonStyle()), Output()), _dom_classes=('widget…"
      ]
     },
     "execution_count": 69,
     "metadata": {},
     "output_type": "execute_result"
    }
   ],
   "source": [
    "ia.sender(answer='sql_ex12', task='views', question='ex12', answer_type='pyvar')"
   ]
  },
  {
   "cell_type": "markdown",
   "metadata": {},
   "source": [
    "## Conclusão"
   ]
  },
  {
   "cell_type": "markdown",
   "metadata": {},
   "source": [
    "Façamos uma pausa para apreciar quão longe estamos: já conseguimos criar nossas tabelas, inserir informação, removê-la, atualizá-la, e consultar nossa base de maneiras bem sofisticadas! Vimos desde `SELECT` simples até buscas mais complexas envolvendo várias etapas de processamento para obter o dado desejado.\n",
    "\n",
    "Por hoje é só, feche sua conexão e bom descanso!"
   ]
  },
  {
   "cell_type": "code",
   "execution_count": 70,
   "metadata": {},
   "outputs": [],
   "source": [
    "connection.close()"
   ]
  },
  {
   "cell_type": "markdown",
   "metadata": {},
   "source": [
    "## Conferir Notas\n",
    "\n",
    "Confira se as notas na atividade são as esperadas!\n",
    "\n",
    "Primeiro na atividade atual!"
   ]
  },
  {
   "cell_type": "code",
   "execution_count": 71,
   "metadata": {},
   "outputs": [
    {
     "data": {
      "text/markdown": [
       "|    | Tarefa   |    Nota |\n",
       "|---:|:---------|--------:|\n",
       "|  0 | views    | 8.33333 |"
      ],
      "text/plain": [
       "<IPython.core.display.Markdown object>"
      ]
     },
     "metadata": {},
     "output_type": "display_data"
    }
   ],
   "source": [
    "ia.grades(by=\"task\", task=\"views\")"
   ]
  },
  {
   "cell_type": "code",
   "execution_count": 72,
   "metadata": {},
   "outputs": [
    {
     "data": {
      "text/markdown": [
       "|    | Atividade   | Exercício   |   Peso |   Nota |\n",
       "|---:|:------------|:------------|-------:|-------:|\n",
       "|  0 | views       | ex01        |      1 |     10 |\n",
       "|  1 | views       | ex02        |      1 |     10 |\n",
       "|  2 | views       | ex03        |      1 |     10 |\n",
       "|  3 | views       | ex04        |      1 |      0 |\n",
       "|  4 | views       | ex05        |      1 |     10 |\n",
       "|  5 | views       | ex06        |      1 |      0 |\n",
       "|  6 | views       | ex07        |      1 |     10 |\n",
       "|  7 | views       | ex08        |      1 |     10 |\n",
       "|  8 | views       | ex09        |      1 |     10 |\n",
       "|  9 | views       | ex10        |      1 |     10 |\n",
       "| 10 | views       | ex11        |      1 |     10 |\n",
       "| 11 | views       | ex12        |      1 |     10 |"
      ],
      "text/plain": [
       "<IPython.core.display.Markdown object>"
      ]
     },
     "metadata": {},
     "output_type": "display_data"
    }
   ],
   "source": [
    "ia.grades(task=\"views\")"
   ]
  },
  {
   "cell_type": "code",
   "execution_count": 73,
   "metadata": {},
   "outputs": [
    {
     "data": {
      "text/markdown": [
       "|    | Tarefa       |     Nota |\n",
       "|---:|:-------------|---------:|\n",
       "|  0 | agg_join     | 10       |\n",
       "|  1 | ddl          |  6.66667 |\n",
       "|  2 | dml          | 10       |\n",
       "|  3 | group_having | 10       |\n",
       "|  4 | newborn      | 10       |\n",
       "|  5 | select01     | 10       |\n",
       "|  6 | sql_review1  |  0       |\n",
       "|  7 | views        |  8.33333 |"
      ],
      "text/plain": [
       "<IPython.core.display.Markdown object>"
      ]
     },
     "metadata": {},
     "output_type": "display_data"
    }
   ],
   "source": [
    "ia.grades(by=\"task\")"
   ]
  }
 ],
 "metadata": {
  "kernelspec": {
   "display_name": "Python 3 (ipykernel)",
   "language": "python",
   "name": "python3"
  },
  "language_info": {
   "codemirror_mode": {
    "name": "ipython",
    "version": 3
   },
   "file_extension": ".py",
   "mimetype": "text/x-python",
   "name": "python",
   "nbconvert_exporter": "python",
   "pygments_lexer": "ipython3",
   "version": "3.11.0"
  }
 },
 "nbformat": 4,
 "nbformat_minor": 4
}
