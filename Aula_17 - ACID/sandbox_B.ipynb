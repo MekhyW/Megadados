{
 "cells": [
  {
   "cell_type": "markdown",
   "metadata": {},
   "source": [
    "# Aula 17: ACID\n",
    "\n",
    "# Notebook B\n",
    "\n",
    "### Ponto 1"
   ]
  },
  {
   "cell_type": "code",
   "execution_count": null,
   "metadata": {},
   "outputs": [],
   "source": [
    "import mysql.connector\n",
    "import os\n",
    "from functools import partial\n",
    "from dotenv import load_dotenv\n",
    "\n",
    "load_dotenv(override=True)\n",
    "\n",
    "def get_connection_helper(database):\n",
    "\n",
    "    def run_db_query(connection, query, args=None):\n",
    "        with connection.cursor() as cursor:\n",
    "            print(\"Executando query:\")\n",
    "            cursor.execute(query, args)\n",
    "            for result in cursor:\n",
    "                print(result)\n",
    "\n",
    "    connection = mysql.connector.connect(\n",
    "        host=os.getenv('MD_DB_SERVER'),\n",
    "        user=os.getenv('MD_DB_USERNAME'),\n",
    "        password=os.getenv('MD_SENHA_BANCO'),#'MD_DB_PASSWORD'),\n",
    "        database=database,\n",
    "    )\n",
    "    return connection, partial(run_db_query, connection)\n",
    "\n",
    "\n",
    "connection2, db2 = get_connection_helper(\"tranqueira\")"
   ]
  },
  {
   "cell_type": "markdown",
   "metadata": {},
   "source": [
    "<img src=\"pare.png\" width=150px/>\n",
    "\n",
    "Volte para o notebook A.\n",
    "\n",
    "---"
   ]
  },
  {
   "cell_type": "markdown",
   "metadata": {},
   "source": [
    "## `SERIALIZABLE`\n",
    "\n",
    "### Ponto 2"
   ]
  },
  {
   "cell_type": "markdown",
   "metadata": {},
   "source": [
    "Vamos mudar o nível de isolamento aqui também para `SERIALIZABLE`:"
   ]
  },
  {
   "cell_type": "code",
   "execution_count": null,
   "metadata": {},
   "outputs": [],
   "source": [
    "db2('SET SESSION TRANSACTION ISOLATION LEVEL SERIALIZABLE')\n",
    "db2('START TRANSACTION')"
   ]
  },
  {
   "cell_type": "markdown",
   "metadata": {},
   "source": [
    "<img src=\"pare.png\" width=150px/>\n",
    "\n",
    "Volte para o notebook A.\n",
    "\n",
    "---"
   ]
  },
  {
   "cell_type": "markdown",
   "metadata": {},
   "source": [
    "### Ponto 3\n",
    "\n",
    "Rode esta célula. Você vai ver que o notebook vai ficar parado aqui, esperando o resultado da query. Se você esperar bastante tempo (1 ou 2 minutos) você verá a seguinte mensagem:\n",
    "\n",
    "```DatabaseError: 1205 (HY000): Lock wait timeout exceeded; try restarting transaction```"
   ]
  },
  {
   "cell_type": "code",
   "execution_count": null,
   "metadata": {},
   "outputs": [],
   "source": [
    "db2('INSERT INTO perigo(Nome) VALUES (\"Astral\")')\n",
    "db2('SELECT * FROM perigo')"
   ]
  },
  {
   "cell_type": "markdown",
   "metadata": {},
   "source": [
    "O que aconteceu?\n",
    "\n",
    "- O notebook A adquiriu a trava (lock) da tabela `perigo`;\n",
    "- O notebook B tentou adquirir essa trava para executar a query;\n",
    "- Para evitar deadlock o MySQL implementou um mecanismo de timeout na espera pela aquisição da trava.\n",
    "\n",
    "Agora rode de novo esta célula, mas volte rapidamente para o notebook A e siga as instruções.\n",
    "\n",
    "<img src=\"pare.png\" width=150px/>\n",
    "\n",
    "---\n",
    "\n",
    "Observe que ao fechar a transação em A, liberamos a trava da tabela `perigo` e permitimos que a transação de B continue a ocorrer."
   ]
  },
  {
   "cell_type": "markdown",
   "metadata": {},
   "source": [
    "Aqui, o que aconteceria se tentássemos obter apenas a primeira linha (`WHERE id=1`)? Haveria **lock** mesmo assim?"
   ]
  },
  {
   "cell_type": "markdown",
   "metadata": {},
   "source": [
    "<div class=\"alert alert-success\">\n",
    "\n",
    "Sua resposta AQUI!\n",
    "\n",
    "</div>"
   ]
  },
  {
   "cell_type": "markdown",
   "metadata": {},
   "source": [
    "Não prossiga. Volte para o notebook A e continue a atividade. Você retornará a este ponto aqui em breve.\n",
    "\n",
    "<img src=\"pare.png\" width=150px/>\n",
    "\n",
    "---\n",
    "\n",
    "Vamos encerrar a transação com o cancelamento da operação de inserção:"
   ]
  },
  {
   "cell_type": "code",
   "execution_count": null,
   "metadata": {},
   "outputs": [],
   "source": [
    "db2('ROLLBACK')"
   ]
  },
  {
   "cell_type": "markdown",
   "metadata": {},
   "source": [
    "<img src=\"pare.png\" width=150px/>\n",
    "\n",
    "Volte para o notebook A."
   ]
  },
  {
   "cell_type": "markdown",
   "metadata": {},
   "source": [
    "## `REPEATABLE READ`\n",
    "\n",
    "### Ponto 4\n",
    "\n",
    "Vamos mudar o nível de isolamento aqui também:"
   ]
  },
  {
   "cell_type": "code",
   "execution_count": null,
   "metadata": {},
   "outputs": [],
   "source": [
    "db2('SET SESSION TRANSACTION ISOLATION LEVEL REPEATABLE READ;')"
   ]
  },
  {
   "cell_type": "markdown",
   "metadata": {},
   "source": [
    "<img src=\"pare.png\" width=150px/>\n",
    "\n",
    "Volte para o notebook A."
   ]
  },
  {
   "cell_type": "markdown",
   "metadata": {},
   "source": [
    "### Ponto 5"
   ]
  },
  {
   "cell_type": "code",
   "execution_count": null,
   "metadata": {},
   "outputs": [],
   "source": [
    "db2('START TRANSACTION')"
   ]
  },
  {
   "cell_type": "markdown",
   "metadata": {},
   "source": [
    "<img src=\"pare.png\" width=150px/>\n",
    "\n",
    "Volte para o notebook A.\n",
    "\n",
    "---\n",
    "\n",
    "### Ponto 6\n",
    "\n",
    "Rode a célula abaixo:"
   ]
  },
  {
   "cell_type": "code",
   "execution_count": null,
   "metadata": {},
   "outputs": [],
   "source": [
    "db2('INSERT INTO perigo(Nome) VALUES (\"Ortopédico\")')\n",
    "db2('SELECT * FROM perigo')"
   ]
  },
  {
   "cell_type": "markdown",
   "metadata": {},
   "source": [
    "Observe que, diferente da situação anterior, não houve travamento! \n",
    "\n",
    "<img src=\"pare.png\" width=150px/>\n",
    "\n",
    "Volte para o notebook A.\n",
    "\n",
    "---\n",
    "\n",
    "### Ponto 7\n",
    "\n",
    "Agora confirme a transação:"
   ]
  },
  {
   "cell_type": "code",
   "execution_count": null,
   "metadata": {},
   "outputs": [],
   "source": [
    "db2('COMMIT')"
   ]
  },
  {
   "cell_type": "markdown",
   "metadata": {},
   "source": [
    "Observe que a mudança da tabela foi registrada:"
   ]
  },
  {
   "cell_type": "code",
   "execution_count": null,
   "metadata": {},
   "outputs": [],
   "source": [
    "db2('SELECT * FROM perigo')"
   ]
  },
  {
   "cell_type": "markdown",
   "metadata": {},
   "source": [
    "<img src=\"pare.png\" width=150px/>\n",
    "\n",
    "Volte para o notebook A."
   ]
  },
  {
   "cell_type": "markdown",
   "metadata": {},
   "source": [
    "### Ponto 8\n",
    "\n",
    "Vamos abrir uma nova transação e tentar mudar o nome 'Mental' para 'Psicológico':"
   ]
  },
  {
   "cell_type": "code",
   "execution_count": null,
   "metadata": {},
   "outputs": [],
   "source": [
    "db2('START TRANSACTION')"
   ]
  },
  {
   "cell_type": "code",
   "execution_count": null,
   "metadata": {},
   "outputs": [],
   "source": [
    "db2('UPDATE perigo SET Nome = \"Psicológico\" WHERE Nome = \"Mental\"')"
   ]
  },
  {
   "cell_type": "code",
   "execution_count": null,
   "metadata": {},
   "outputs": [],
   "source": [
    "db2('SELECT * FROM perigo')"
   ]
  },
  {
   "cell_type": "markdown",
   "metadata": {},
   "source": [
    "<img src=\"pare.png\" width=150px/>\n",
    "\n",
    "Volte para o notebook A."
   ]
  },
  {
   "cell_type": "code",
   "execution_count": null,
   "metadata": {},
   "outputs": [],
   "source": [
    "db2('COMMIT')"
   ]
  },
  {
   "cell_type": "markdown",
   "metadata": {},
   "source": [
    "### Ponto 9\n",
    "\n",
    "Feche a conexão e volte para o notebook A."
   ]
  },
  {
   "cell_type": "code",
   "execution_count": null,
   "metadata": {},
   "outputs": [],
   "source": [
    "connection2.close()"
   ]
  },
  {
   "cell_type": "code",
   "execution_count": null,
   "metadata": {},
   "outputs": [],
   "source": []
  }
 ],
 "metadata": {
  "kernelspec": {
   "display_name": "Python 3 (ipykernel)",
   "language": "python",
   "name": "python3"
  },
  "language_info": {
   "codemirror_mode": {
    "name": "ipython",
    "version": 3
   },
   "file_extension": ".py",
   "mimetype": "text/x-python",
   "name": "python",
   "nbconvert_exporter": "python",
   "pygments_lexer": "ipython3",
   "version": "3.8.16"
  }
 },
 "nbformat": 4,
 "nbformat_minor": 4
}
