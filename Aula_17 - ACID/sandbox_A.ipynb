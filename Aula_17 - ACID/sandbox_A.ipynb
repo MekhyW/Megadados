{
 "cells": [
  {
   "cell_type": "markdown",
   "metadata": {},
   "source": [
    "# Aula 17: ACID\n",
    "\n",
    "# Notebook A\n",
    "\n",
    "Vamos explorar algumas características de transações em bancos de dados relacionais. Estas características são representadas pela sigla **ACID**:\n",
    "\n",
    "- **Atomicity**: em uma transação, um conjunto de comandos é executado ou rejeitado como uma única unidade.\n",
    "\n",
    "- **Consistency**: o banco de dados passa de um estado válido para outro estado válido a cada transação.\n",
    "\n",
    "- **Isolation**: várias transações concorrentes podem acontecer sem que uma transação interfira diretamente na outra, ou seja, o usuário tem a percepção de que as transações foram executadas sequencialmente.\n",
    "\n",
    "- **Durability**: uma transação confirmada permanecerá gravada mesmo que a energia acabe ou o sistema trave."
   ]
  },
  {
   "cell_type": "markdown",
   "metadata": {},
   "source": [
    "Para testar algumas dessas propriedades, vamos instalar a nossa base `tranqueira`, a base de dados de perigos alimentícios! Rode o script `tranqueira.sql`, cujo conteúdo está descrito abaixo:\n",
    "\n",
    "```sql\n",
    "DROP DATABASE IF EXISTS tranqueira;\n",
    "CREATE DATABASE tranqueira;\n",
    "USE tranqueira;\n",
    "\n",
    "CREATE TABLE comida (\n",
    "    id INT NOT NULL AUTO_INCREMENT,\n",
    "    Nome VARCHAR(30),\n",
    "    idPerigo INT,\n",
    "    PRIMARY KEY (id)\n",
    ");\n",
    "\n",
    "CREATE TABLE perigo (\n",
    "    id INT NOT NULL AUTO_INCREMENT,\n",
    "    Nome VARCHAR(20),\n",
    "    PRIMARY KEY (id)\n",
    ");\n",
    "\n",
    "ALTER TABLE comida ADD CONSTRAINT fk_perigo FOREIGN KEY (idPerigo) REFERENCES perigo (id);\n",
    "\n",
    "INSERT INTO perigo VALUES (1, 'Cardiaco'), (2, 'Intestinal'), (3, 'Dermatologico'), (4, 'Mental');\n",
    "INSERT INTO comida VALUES (1, 'Torresmo', 1), (2, 'Alface', NULL), (3, 'Coxinha', 2), (4, 'Espetinho', 2);\n",
    "\n",
    "SELECT * FROM comida;\n",
    "SELECT * FROM perigo;\n",
    "```\n",
    "\n",
    "<table>\n",
    "    <tr>\n",
    "        <th> Tabela comida </th>\n",
    "        <th> Tabela perigo </th>\n",
    "    </tr>\n",
    "    <tr>\n",
    "        <td><img src=\"comida.png\"/></td>\n",
    "        <td><img src=\"perigo.png\"/></td>\n",
    "    </tr>\n",
    "</table>\n",
    "\n",
    "Nesta aula vamos trabalhar com dois notebooks simultaneamente, para observar o que acontece quando dois processos concorrentes acessam a mesma base de dados."
   ]
  },
  {
   "cell_type": "code",
   "execution_count": null,
   "metadata": {},
   "outputs": [],
   "source": [
    "import mysql.connector\n",
    "import os\n",
    "from functools import partial\n",
    "from dotenv import load_dotenv\n",
    "\n",
    "load_dotenv(override=True)"
   ]
  },
  {
   "cell_type": "code",
   "execution_count": null,
   "metadata": {},
   "outputs": [],
   "source": [
    "script = \"\"\"\n",
    "DROP DATABASE IF EXISTS tranqueira;\n",
    "CREATE DATABASE tranqueira;\n",
    "USE tranqueira;\n",
    "\n",
    "CREATE TABLE comida (\n",
    "    id INT NOT NULL AUTO_INCREMENT,\n",
    "    Nome VARCHAR(30),\n",
    "    idPerigo INT,\n",
    "    PRIMARY KEY (id)\n",
    ");\n",
    "\n",
    "CREATE TABLE perigo (\n",
    "    id INT NOT NULL AUTO_INCREMENT,\n",
    "    Nome VARCHAR(20),\n",
    "    PRIMARY KEY (id)\n",
    ");\n",
    "\n",
    "ALTER TABLE comida ADD CONSTRAINT fk_perigo FOREIGN KEY (idPerigo) REFERENCES perigo (id);\n",
    "\n",
    "INSERT INTO perigo VALUES (1, 'Cardiaco'), (2, 'Intestinal'), (3, 'Dermatologico'), (4, 'Mental');\n",
    "INSERT INTO comida VALUES (1, 'Torresmo', 1), (2, 'Alface', NULL), (3, 'Coxinha', 2), (4, 'Espetinho', 2);\n",
    "\"\"\"\n",
    "\n",
    "connection = mysql.connector.connect(\n",
    "        host=os.getenv('MD_DB_SERVER'),\n",
    "        user=os.getenv('MD_DB_USERNAME'),\n",
    "        password=os.getenv('MD_DB_PASSWORD'),\n",
    "    )\n",
    "\n",
    "with connection.cursor() as cursor:\n",
    "    try:\n",
    "        for _ in cursor.execute(script, multi=True):\n",
    "            pass\n",
    "        cursor.execute(\"COMMIT\")\n",
    "    except Exception as e:\n",
    "        print(e)\n",
    "        cursor.execute(\"ROLLBACK\")\n",
    "\n",
    "connection.close()"
   ]
  },
  {
   "cell_type": "code",
   "execution_count": null,
   "metadata": {},
   "outputs": [],
   "source": [
    "def get_connection_helper(database):\n",
    "\n",
    "    def run_db_query(connection, query, args=None):\n",
    "        with connection.cursor() as cursor:\n",
    "            print(\"Executando query:\")\n",
    "            cursor.execute(query, args)\n",
    "            for result in cursor:\n",
    "                print(result)\n",
    "\n",
    "    connection = mysql.connector.connect(\n",
    "        host=os.getenv('MD_DB_SERVER'),\n",
    "        user=os.getenv('MD_DB_USERNAME'),\n",
    "        password=os.getenv('MD_DB_PASSWORD'),\n",
    "        database=database,\n",
    "    )\n",
    "    return connection, partial(run_db_query, connection)\n",
    "\n",
    "\n",
    "connection1, db1 = get_connection_helper(\"tranqueira\")"
   ]
  },
  {
   "cell_type": "code",
   "execution_count": null,
   "metadata": {},
   "outputs": [],
   "source": [
    "db1(\"SELECT * FROM comida\")\n",
    "db1(\"SELECT * FROM perigo\")"
   ]
  },
  {
   "cell_type": "markdown",
   "metadata": {},
   "source": [
    "<img src=\"pare.png\" width=150px/>\n",
    "\n",
    "Passe para o notebook B e abra a conexão `db2`, ponto 1, volte para cá em seguida. Dica: procure descobrir o *shortcut* para trocar de aba do browser rapidamente. No Chrome é Ctrl-PgUp / Ctrl-PgDn.\n",
    "\n",
    "Temos duas conexões abertas agora, em processos diferentes: `db1` e `db2`. Vamos trabalhar alternadamente com elas para observar efeitos de concorrência.\n",
    "\n",
    "## Níveis de isolamento\n",
    "\n",
    "Vamos explorar os 4 níveis de isolamento definidos pelo padrão ANSI/SQL:\n",
    "\n",
    "- SERIALIZABLE\n",
    "\n",
    "- REPEATABLE READ\n",
    "\n",
    "- READ COMMITED\n",
    "\n",
    "- READ UNCOMMITED\n",
    "\n",
    "\n",
    "## `SERIALIZABLE`\n",
    "\n",
    "Vamos colocar o nível de isolamento em ambos os notebooks em `SERIALIZABLE`. "
   ]
  },
  {
   "cell_type": "code",
   "execution_count": null,
   "metadata": {},
   "outputs": [],
   "source": [
    "db1(\"SET SESSION TRANSACTION ISOLATION LEVEL SERIALIZABLE\")"
   ]
  },
  {
   "cell_type": "markdown",
   "metadata": {},
   "source": [
    "Este comando indica que todas as transações subsequentes desta sessão terão nível de isolamento `SERIALIZABLE`. Se ao invés de `SESSION` usarmos `GLOBAL`, esta mudança de nível de isolamento vai valer para todas as sessões deste banco de dados. Somente root ou algum super-usuário pode executar esse comando com atributo `GLOBAL`.\n",
    "\n",
    "Qualquer query equivale a um início de transação. Se desejamos marcar um ponto específico como início de transação, devemos fazê-lo explicitamente com `START TRANSACTION`.\n",
    "\n",
    "Execute a célula abaixo:"
   ]
  },
  {
   "cell_type": "code",
   "execution_count": null,
   "metadata": {},
   "outputs": [],
   "source": [
    "db1(\"START TRANSACTION\")"
   ]
  },
  {
   "cell_type": "markdown",
   "metadata": {},
   "source": [
    "<img src=\"pare.png\" width=150px/>\n",
    "\n",
    "Vá para o ponto 2 no notebook B.\n",
    "\n",
    "---\n",
    "\n",
    "Execute a query abaixo:"
   ]
  },
  {
   "cell_type": "code",
   "execution_count": null,
   "metadata": {},
   "outputs": [],
   "source": [
    "db1(\"SELECT * FROM perigo\")\n",
    "db1('INSERT INTO perigo(Nome) VALUES (\"Econômico\")')\n",
    "db1(\"SELECT * FROM perigo\")"
   ]
  },
  {
   "cell_type": "markdown",
   "metadata": {},
   "source": [
    "<img src=\"pare.png\" width=150px/>\n",
    "\n",
    "Não prossiga por aqui! Agora vá para o notebook B, ponto 3.\n",
    "\n",
    "---\n",
    "\n",
    "Ao retornar do notebook B rode a célula abaixo para terminar a transação."
   ]
  },
  {
   "cell_type": "code",
   "execution_count": null,
   "metadata": {},
   "outputs": [],
   "source": [
    "db1(\"COMMIT\")"
   ]
  },
  {
   "cell_type": "markdown",
   "metadata": {},
   "source": [
    "<img src=\"pare.png\" width=150px/>\n",
    "\n",
    "Volte para o notebook B e observe o resultado.\n",
    "\n",
    "---\n",
    "\n",
    "Agora que você retornou de B, rode a célula abaixo, o que vai acontecer?"
   ]
  },
  {
   "cell_type": "code",
   "execution_count": null,
   "metadata": {},
   "outputs": [],
   "source": [
    "db1(\"SELECT * FROM perigo\")\n",
    "db1(\"COMMIT\")"
   ]
  },
  {
   "cell_type": "markdown",
   "metadata": {},
   "source": [
    "Você observará o mesmo fenômeno de *timeout* que aconteceu em B! Por que isso aconteceu? Porque a transação de B não terminou! Volte para o notebook B e siga as instruções para finalizar a transação. Em seguida volte para cá e rode de novo esse `SELECT`.\n",
    "\n",
    "<img src=\"pare.png\" width=150px/>\n",
    "\n",
    "Agora sim funcionou!\n",
    "\n",
    "---\n",
    "\n",
    "Como vocês podem ver o nível `SERIALIZABLE` é muito restritivo, e pode causar *deadlocks* facilmente.\n",
    "\n",
    "*Vamos pensar um pouco*: o que aconteceria se não existisse *timeout* e tentássemos executar, concorrentemente, os seguintes códigos:\n",
    "\n",
    "<table>\n",
    "    <tr>\n",
    "        <th>Sessão A</th>\n",
    "        <th>Sessão B</th>\n",
    "    </tr>\n",
    "    <tr>\n",
    "        <td>`START TRANSACTION;`</td>\n",
    "        <td></td>\n",
    "    </tr>\n",
    "    <tr>\n",
    "        <td></td>\n",
    "        <td>`START TRANSACTION;`</td>\n",
    "    </tr>\n",
    "    <tr>\n",
    "        <td>`SELECT * FROM perigo;`\n",
    "        </td>\n",
    "        <td></td>\n",
    "    </tr>\n",
    "    <tr>\n",
    "        <td></td>\n",
    "        <td>`SELECT * FROM comida;`</td>\n",
    "    </tr>\n",
    "    <tr>\n",
    "        <td>`SELECT * FROM comida;`</td>\n",
    "        <td></td>\n",
    "    </tr>\n",
    "    <tr>\n",
    "        <td></td>\n",
    "        <td>`SELECT * FROM perigo;`</td>\n",
    "    </tr>\n",
    "    <tr>\n",
    "        <td>`ROLLBACK;`</td>\n",
    "        <td></td>\n",
    "    </tr>\n",
    "    <tr>\n",
    "        <td></td>\n",
    "        <td>`ROLLBACK;`</td>\n",
    "    </tr>\n",
    "</table>\n",
    "\n",
    "Quais queries seriam executadas, e quais iriam ficar travadas?"
   ]
  },
  {
   "cell_type": "markdown",
   "metadata": {},
   "source": [
    "<div class=\"alert alert-success\">\n",
    "\n",
    "Sua resposta AQUI!\n",
    "\n",
    "</div>"
   ]
  },
  {
   "cell_type": "markdown",
   "metadata": {},
   "source": [
    "---\n",
    "\n",
    "Se o banco de dados estiver travado e você tiver que cancelar uma query de algum usuário: abra o MySQL Workbench e nele você encontrará a aba \"Client Connections\". Nela você poderá cancelar uma query.\n",
    "\n",
    "![Tela kill query](kill_query.png)\n",
    "\n",
    "## `REPEATABLE READ`\n",
    "\n",
    "Vamos mudar o nível de isolamento para `REPEATABLE READ`, o padrão do MySQL:"
   ]
  },
  {
   "cell_type": "code",
   "execution_count": null,
   "metadata": {},
   "outputs": [],
   "source": [
    "db1(\"SET SESSION TRANSACTION ISOLATION LEVEL REPEATABLE READ;\")"
   ]
  },
  {
   "cell_type": "markdown",
   "metadata": {},
   "source": [
    "<img src=\"pare.png\" width=150px/>\n",
    "\n",
    "Vá para o notebook B, ponto 4.\n",
    "\n",
    "---\n",
    "\n",
    "Agora vamos repetir algumas das atividades que fizemos no caso anterior. Vamos rodar a célula abaixo:"
   ]
  },
  {
   "cell_type": "code",
   "execution_count": null,
   "metadata": {},
   "outputs": [],
   "source": [
    "db1(\"START TRANSACTION\")"
   ]
  },
  {
   "cell_type": "markdown",
   "metadata": {},
   "source": [
    "<img src=\"pare.png\" width=150px/>\n",
    "\n",
    "Vá para o ponto 5 do notebook B.\n",
    " \n",
    "---\n",
    "\n",
    "Novamente, vamos ver os valores da tabela `perigo`:"
   ]
  },
  {
   "cell_type": "code",
   "execution_count": null,
   "metadata": {},
   "outputs": [],
   "source": [
    "db1(\"SELECT * FROM perigo\")\n",
    "db1('INSERT INTO perigo(Nome) VALUES (\"Emocional\")')\n",
    "db1(\"SELECT * FROM perigo\")"
   ]
  },
  {
   "cell_type": "markdown",
   "metadata": {},
   "source": [
    "<img src=\"pare.png\" width=150px/>\n",
    "\n",
    "Passe para o notebook B, ponto 6.\n",
    "\n",
    "---\n",
    "\n",
    "Rode de novo o `SELECT`:"
   ]
  },
  {
   "cell_type": "code",
   "execution_count": null,
   "metadata": {},
   "outputs": [],
   "source": [
    "db1(\"SELECT * FROM perigo\")"
   ]
  },
  {
   "cell_type": "markdown",
   "metadata": {},
   "source": [
    "Observe que o `SELECT` continua retornando os mesmos valores. \n",
    "\n",
    "<img src=\"pare.png\" width=150px/>\n",
    "\n",
    "Vá para o notebook B, ponto 7, e feche a transação.\n",
    "\n",
    "---\n",
    "\n",
    "Rode de novo o `SELECT`:"
   ]
  },
  {
   "cell_type": "code",
   "execution_count": null,
   "metadata": {},
   "outputs": [],
   "source": [
    "db1(\"SELECT * FROM perigo\")"
   ]
  },
  {
   "cell_type": "code",
   "execution_count": null,
   "metadata": {},
   "outputs": [],
   "source": [
    "db1(\"ROLLBACK\")"
   ]
  },
  {
   "cell_type": "markdown",
   "metadata": {},
   "source": [
    "O MySQL previne *phantom reads*: enquanto a transação não terminar, vale o mesmo resultado do `SELECT`. Isso é uma peculiaridade do MySQL, outros bancos de dados podem não ter a mesma natureza. Como tudo no mundo SQL, a padronização é sofrível...\n",
    "\n",
    "(Um link interessante: https://blog.pythian.com/understanding-mysql-isolation-levels-repeatable-read/)\n",
    "\n",
    "<img src=\"pare.png\" width=150px/>\n",
    "\n",
    "Agora vá para o notebook B, ponto 8.\n",
    "\n",
    "---\n",
    "\n",
    "Teste novamente o `SELECT`:"
   ]
  },
  {
   "cell_type": "code",
   "execution_count": null,
   "metadata": {},
   "outputs": [],
   "source": [
    "db1(\"SELECT * FROM perigo\")"
   ]
  },
  {
   "cell_type": "markdown",
   "metadata": {},
   "source": [
    "Esta sessão ainda não enxergou as mudanças da sessão vizinha! Vamos encerrar a transação e tentar de novo."
   ]
  },
  {
   "cell_type": "code",
   "execution_count": null,
   "metadata": {},
   "outputs": [],
   "source": [
    "db1(\"COMMIT\")\n",
    "db1(\"SELECT * FROM perigo\")"
   ]
  },
  {
   "cell_type": "markdown",
   "metadata": {},
   "source": [
    "Agora sim conseguimos enxergar o estado atual do banco de dados!\n",
    "\n",
    "Por fim, vamos fechar as conexões. Rode a célula abaixo, depois vá para o notebook B, ponto 9, e faça o mesmo."
   ]
  },
  {
   "cell_type": "code",
   "execution_count": null,
   "metadata": {},
   "outputs": [],
   "source": [
    "connection1.close()"
   ]
  },
  {
   "cell_type": "markdown",
   "metadata": {},
   "source": [
    "Isolamento de transações é um tópico complicado em bancos de dados. Apesar dos esforços de padronização, cada banco de dados pode implementar de modo ligeiramente diferente os níveis de isolamento. Até mesmo dentro do mesmo banco de dados podemos ter *engines* diferentes com implementações diferentes dos níveis de isolamento! Para o MySQL e seu *engine* InnoDB, verifique a documentação em https://dev.mysql.com/doc/refman/8.0/en/innodb-transaction-isolation-levels.html\n",
    "\n",
    "Problemas de concorrência são algumas das questões mais complicadas em computação. Vocês verão em mais detalhes na disciplina \"Supercomputação\" como lidar com alguns problemas clássicos em concorrência. Mais ainda, lidar com concorrência em um ambiente distribuído e não-confiável é um problema muito maior, razão pela qual muitos bancos de dados distribuídos NoSQL não seguem as características **ACID**, mas sim apresentam o comportamento **BASE**:\n",
    "\n",
    "- **B**asically **A**vailable: disponibilidade resultante de replicação de recursos;\n",
    "- **S**oft state: Não temos garantias de consistência, isso fica à cargo da aplicação do usuário;\n",
    "- **E**ventually consistent: eventualmente as modificações que aconteceram em um nó são propagadas para o resto da rede - no longo prazo a base será consistente, mas no curto prazo podem existir dados \"velhos\".\n",
    "\n",
    "Ou seja, são bases de dados que aceitam inconsistência temporária. Isso é consequência do teorema CAP: \"**C**onsistency, **A**vailability, **P**artition tolerance: pick two\".\n",
    "\n",
    "Leituras recomendadas: \n",
    "\n",
    "- Chandra, D. G. \"BASE analysis of NoSQL database\". Future Generation Computer Systems, 52 (2015), pp. 13–21.\n",
    "\n",
    "- Corbellini, A., Mateos, C., Zunino, A., Godoy, D., Schiaffino, S. \"Persisting big-data: The NoSQL landscape\". Information Systems, 63 (2017), pp. 1–23."
   ]
  },
  {
   "cell_type": "code",
   "execution_count": null,
   "metadata": {},
   "outputs": [],
   "source": []
  }
 ],
 "metadata": {
  "kernelspec": {
   "display_name": "Python 3 (ipykernel)",
   "language": "python",
   "name": "python3"
  },
  "language_info": {
   "codemirror_mode": {
    "name": "ipython",
    "version": 3
   },
   "file_extension": ".py",
   "mimetype": "text/x-python",
   "name": "python",
   "nbconvert_exporter": "python",
   "pygments_lexer": "ipython3",
   "version": "3.8.16"
  }
 },
 "nbformat": 4,
 "nbformat_minor": 4
}
