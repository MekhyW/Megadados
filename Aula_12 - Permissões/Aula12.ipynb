{
 "cells": [
  {
   "cell_type": "markdown",
   "metadata": {
    "tags": []
   },
   "source": [
    "# SQL: Permissões\n",
    "\n",
    "Desde nossas primeiras aulas, realizamos conexões com o **SGBD** (Sistema de Gerenciamento de Bancos de Dados) MySQL, seja no Workbench ou pelos jupyter notebooks.\n",
    "\n",
    "Abra o arquivo `.env` que utilizamos para configurar as variáveis de ambiente. Provavelmente você deve encontrar uma linha com este conteúdo:\n",
    "\n",
    "`MD_DB_USERNAME=\"root\"`\n",
    "\n",
    "Bem, isto significa que estamos nos conectando utilizando o usuário `root`!"
   ]
  },
  {
   "cell_type": "markdown",
   "metadata": {},
   "source": [
    "**<div id=\"user_root\"></div>**\n",
    "**O que é o usuário root no MySQL?**\n",
    "\n",
    "O usuário `root` é um **superusuário** no MySQL. Ele tem acesso total ao SGBD, funcionando como um usuário administrador. Possui privilégios ilimitados para criar, modificar e excluir bancos de dados, bem como conceder ou revogar permissões a outros usuários. \n",
    "\n",
    "Ele é criado durante a instalação do MySQL e é altamente recomendado que sejam tomadas medidas de segurança para proteger essa conta, como definir uma senha forte e restringir o acesso remoto apenas aos endereços IP autorizados."
   ]
  },
  {
   "cell_type": "markdown",
   "metadata": {},
   "source": [
    "## E a aplicação em produção?!\n",
    "\n",
    "Estamos desenhando soluções de banco de dados que um dia serão entregues a algum cliente (estarão em produção, prontas para serem integradas a outros sistemas). Quando a conexão com o SGBD for exposta para uso por alguma API (como a que desenvolveram no projeto), vamos precisar de um usuário e senha para conexão com o MySQL.\n",
    "\n",
    "A resposta em <a href=\"#user_root\">\"O que é o usuário root no MySQL?\"</a> já dá uma ideia que utilizar o usuário `root` nestas situações não parece correto. Caso ocorra algum vazamento da senha ou *SQL injection*, a base poderia ficar exposta tanto para leitura quanto para escrita, ou seja, um hacker poderia tanto **ver os dados** nas tabelas quanto **editar** e **exluir**."
   ]
  },
  {
   "cell_type": "markdown",
   "metadata": {},
   "source": [
    "## Qual a alternativa?!\n",
    "\n",
    "Uma alternativa mais adequada envolve:\n",
    "\n",
    "- **Criar usuários únicos**: vamos criar múltiplos usuário com acesso ao banco. Cada indivíduo ou aplicação em *deploy* terá seu usuário e senha personalizado (sem compartilhamento de senhas - Netflix vibes!)\n",
    "\n",
    "\n",
    "- **Dar permissões**: vamos adicionar ao usuário apenas as permissões necessárias para que seu papel seja cumprido. Por exemplo, um colaborador de uma consultoria externa que presta serviços à uma empresa precisa ter acesso à base toda? Não! Ele provavelmente precisará apenas ler dados e não escrever, além de ser indicado que tenha permissão de visualização apenas em parte das tabelas (as que forem úteis para desenvolvimento do projeto).\n",
    "\n",
    "Antes de praticar, vamos importas as bibliotecas necessárias"
   ]
  },
  {
   "cell_type": "code",
   "execution_count": null,
   "metadata": {},
   "outputs": [],
   "source": [
    "import mysql.connector\n",
    "from functools import partial\n",
    "import os\n",
    "import insperautograder.jupyter as ia\n",
    "from dotenv import load_dotenv\n",
    "\n",
    "load_dotenv()\n",
    "\n",
    "def run_query(connection, query, args=None):\n",
    "    \"\"\"\n",
    "    Função que recebe uma conexão, query e argumentos;\n",
    "    executa a query na conexão, e retorna os resultados\n",
    "    \"\"\"\n",
    "    with connection.cursor() as cursor:\n",
    "        print(\"Executando query:\")\n",
    "        cursor.execute(query, args)\n",
    "        for result in cursor:\n",
    "            print(result)\n",
    "\n",
    "def get_connection_helper():\n",
    "\n",
    "    connection = mysql.connector.connect(\n",
    "        host=os.getenv('MD_DB_SERVER'),\n",
    "        user=os.getenv('MD_DB_USERNAME'),\n",
    "        password=os.getenv('MD_DB_PASSWORD'),\n",
    "        database='fiscamuni',\n",
    "    )\n",
    "    return connection, partial(run_query, connection)"
   ]
  },
  {
   "cell_type": "markdown",
   "metadata": {},
   "source": [
    "## Criar usuário no MySQL\n",
    "\n",
    "Podemos criar usuário no MySQL com a seguinte sintaxe:\n",
    "\n",
    "```MySQL\n",
    "CREATE USER '<user>'@'<host>' IDENTIFIED BY '<password>';\n",
    "```\n",
    "\n",
    "Vamos experimentar! Abra o Workbench e execute:\n",
    "\n",
    "```MySQL\n",
    "CREATE USER 'joao'@'localhost' IDENTIFIED BY 'abc123';\n",
    "```\n",
    "\n",
    "Então, vamos tentar fazer uma conexão com o novo usuário. A dinâmica da aula será utilizar o Workbench com o usuário `root` e os notebooks com os usuário criados para testar as permissões."
   ]
  },
  {
   "cell_type": "markdown",
   "metadata": {},
   "source": [
    "<div class=\"alert alert-warning\">\n",
    "\n",
    "Provavelmente você verá em alguns materiais a indicação do uso do comando\n",
    "```SQL\n",
    "FLUSH PRIVILEGES;\n",
    "```\n",
    "\n",
    "<br>\n",
    "após alterar permissões de um usuário. Ele força a atualização das permissões pelo servidor. Os `GRANTS` tomam efeito assim que executados, mas o uso do `FLUSH` pode ser necessário em alguns casos.\n",
    "</div>"
   ]
  },
  {
   "cell_type": "code",
   "execution_count": null,
   "metadata": {},
   "outputs": [],
   "source": [
    "conn1 = mysql.connector.connect(\n",
    "    host=\"localhost\",\n",
    "    user=\"joao\",\n",
    "    password=\"abc123\",\n",
    "    database=\"musica\"\n",
    ")"
   ]
  },
  {
   "cell_type": "markdown",
   "metadata": {},
   "source": [
    "Perceba que a conexão falhou! Isto porque, apesar do usuário ter sido criado, ele não possui as permissões necessárias!"
   ]
  },
  {
   "cell_type": "markdown",
   "metadata": {},
   "source": [
    "## Dar Permissão\n",
    "\n",
    "Para alterar permissões de um usuário, iremos utilizar `GRANT`.\n",
    "\n",
    "A seguinte sintaxe resumida pode ser utilizada:\n",
    "\n",
    "```mysql\n",
    "GRANT PRIVILEGE ON database.table TO 'username'@'host';\n",
    "```\n",
    "\n",
    "Veja mais em https://dev.mysql.com/doc/refman/8.0/en/grant.html\n",
    "\n",
    "Abra o Workbench e execute:\n",
    "\n",
    "```mysql\n",
    "GRANT SELECT ON musica.* TO 'joao'@'localhost';\n",
    "```\n",
    "\n",
    "Assim, o usuário terá a permissão de **SELECT** em todas as tabelas do database `musica`. Vamos testar!"
   ]
  },
  {
   "cell_type": "code",
   "execution_count": null,
   "metadata": {},
   "outputs": [],
   "source": [
    "conn1 = mysql.connector.connect(\n",
    "    host=\"localhost\",\n",
    "    user=\"joao\",\n",
    "    password=\"abc123\",\n",
    "    database=\"musica\"\n",
    ")"
   ]
  },
  {
   "cell_type": "code",
   "execution_count": null,
   "metadata": {},
   "outputs": [],
   "source": [
    "run_query(conn1, \"SELECT * FROM operacao\")"
   ]
  },
  {
   "cell_type": "code",
   "execution_count": null,
   "metadata": {},
   "outputs": [],
   "source": [
    "run_query(conn1, \"SELECT * FROM usuario\")"
   ]
  },
  {
   "cell_type": "markdown",
   "metadata": {},
   "source": [
    "Pronto! Agora a conexão está funcionando! Vamos fechar a conexão..."
   ]
  },
  {
   "cell_type": "code",
   "execution_count": null,
   "metadata": {},
   "outputs": [],
   "source": [
    "# Não vamos manter a conexão aberta!\n",
    "conn1.close()"
   ]
  },
  {
   "cell_type": "markdown",
   "metadata": {},
   "source": [
    "... e tentar realizar a conexão com a base de dados `tranqueira`:"
   ]
  },
  {
   "cell_type": "code",
   "execution_count": null,
   "metadata": {},
   "outputs": [],
   "source": [
    "conn2 = mysql.connector.connect(\n",
    "    host=\"localhost\",\n",
    "    user=\"joao\",\n",
    "    password=\"abc123\",\n",
    "    database=\"tranqueira\"\n",
    ")"
   ]
  },
  {
   "cell_type": "markdown",
   "metadata": {},
   "source": [
    "Obtivemos novamente um erro. Caso o usuário `joao` realmente necessite acesso à base `tranqueira`, um novo `GRANT` deve ser realizado!\n",
    "\n",
    "Ao fazer *deploy* de aplicações em produção, é indicado ter usuários diferentes por aplicação, apenas as permissões necessárias."
   ]
  },
  {
   "cell_type": "markdown",
   "metadata": {},
   "source": [
    "Vamos criar um segundo usuário com permissão de `SELECT` na base `tranqueira`:\n",
    "    \n",
    "```mysql\n",
    "CREATE USER 'ana'@'localhost' IDENTIFIED BY '456456';\n",
    "GRANT SELECT ON tranqueira.* TO 'ana'@'localhost';\n",
    "```\n",
    "Teste a conexão:"
   ]
  },
  {
   "cell_type": "code",
   "execution_count": null,
   "metadata": {},
   "outputs": [],
   "source": [
    "conn3 = mysql.connector.connect(\n",
    "    host=\"localhost\",\n",
    "    user=\"ana\",\n",
    "    password=\"456456\",\n",
    "    database=\"tranqueira\"\n",
    ")"
   ]
  },
  {
   "cell_type": "markdown",
   "metadata": {},
   "source": [
    "Vamos ver se conseguimos ler a tabela `perigo`:"
   ]
  },
  {
   "cell_type": "code",
   "execution_count": null,
   "metadata": {},
   "outputs": [],
   "source": [
    "run_query(conn3, \"SELECT * FROM perigo\")"
   ]
  },
  {
   "cell_type": "markdown",
   "metadata": {},
   "source": [
    "E fazer um **INSERT**, também na tabela `perigo`:"
   ]
  },
  {
   "cell_type": "code",
   "execution_count": null,
   "metadata": {},
   "outputs": [],
   "source": [
    "sql = \"\"\"\n",
    "INSERT INTO `tranqueira`.`perigo`\n",
    "    (`id`,`Nome`)\n",
    "VALUES\n",
    "    (10,'Moral')\n",
    "\"\"\"\n",
    "\n",
    "run_query(conn3, sql);"
   ]
  },
  {
   "cell_type": "markdown",
   "metadata": {},
   "source": [
    "Novamente, precisamos dar permissão de inserção! Dê a permissão pelo Workbench e teste novamente! Perceba que agora a permissão será para **apenas uma tabela**:\n",
    "\n",
    "```mysql\n",
    "GRANT INSERT ON tranqueira.perigo TO 'ana'@'localhost';\n",
    "```"
   ]
  },
  {
   "cell_type": "code",
   "execution_count": null,
   "metadata": {},
   "outputs": [],
   "source": [
    "conn3.rollback()"
   ]
  },
  {
   "cell_type": "code",
   "execution_count": null,
   "metadata": {},
   "outputs": [],
   "source": [
    "sql = \"\"\"\n",
    "INSERT INTO `tranqueira`.`perigo`\n",
    "    (`id`, `Nome`)\n",
    "VALUES\n",
    "    (10,'Moral')\n",
    "\"\"\"\n",
    "\n",
    "run_query(conn3, sql);"
   ]
  },
  {
   "cell_type": "markdown",
   "metadata": {},
   "source": [
    "Vamos verificar se realmente conseguimos inserir:"
   ]
  },
  {
   "cell_type": "code",
   "execution_count": null,
   "metadata": {},
   "outputs": [],
   "source": [
    "run_query(conn3, \"SELECT * FROM perigo\")"
   ]
  },
  {
   "cell_type": "markdown",
   "metadata": {},
   "source": [
    "Então, desfazemos a inserção e fechamos a conexão!"
   ]
  },
  {
   "cell_type": "code",
   "execution_count": null,
   "metadata": {},
   "outputs": [],
   "source": [
    "conn3.rollback()\n",
    "conn3.close()"
   ]
  },
  {
   "cell_type": "markdown",
   "metadata": {},
   "source": [
    "<div class=\"alert alert-warning\">\n",
    "\n",
    "Algums exemplos de GRANTS!\n",
    "    \n",
    "```mysql\n",
    "GRANT ALL PRIVILEGES ON *.* TO 'maria'@'localhost' WITH GRANT OPTION;\n",
    "GRANT CREATE TEMPORARY TABLES ON coemu.* TO 'user_deploy_api'@'localhost';\n",
    "GRANT EXECUTE ON sys.* TO 'user_dashboard'@'localhost' WITH GRANT OPTION;\n",
    "GRANT SELECT, SHOW VIEW ON cartracking.* TO 'leitor'@'localhost' WITH GRANT OPTION;\n",
    "```\n",
    "    \n",
    "após alterar permissões de um usuário. Ele força a atualização das permissões pelo servidor, mas geralmente é desnecessário pois os `GRANTS`tomam efeito assim que executados.\n",
    "</div>"
   ]
  },
  {
   "cell_type": "markdown",
   "metadata": {},
   "source": [
    "## Revogar Permissão\n",
    "\n",
    "Para ver as permissões de um usuário, utilize\n",
    "\n",
    "```mysql\n",
    "SHOW GRANTS FOR 'ana'@'localhost';\n",
    "```\n",
    "\n",
    "\n",
    "Caso queira revogar permissões de um usuário, iremos utilizar `REVOKE`.\n",
    "\n",
    "```mysql\n",
    "REVOKE SELECT ON tranqueira.* FROM 'ana'@'localhost';\n",
    "```"
   ]
  },
  {
   "cell_type": "code",
   "execution_count": null,
   "metadata": {},
   "outputs": [],
   "source": [
    "conn4 = mysql.connector.connect(\n",
    "    host=\"localhost\",\n",
    "    user=\"ana\",\n",
    "    password=\"456456\",\n",
    "    database=\"tranqueira\"\n",
    ")"
   ]
  },
  {
   "cell_type": "markdown",
   "metadata": {},
   "source": [
    "Conseguimos fazer o login. Vamos testar se o **SELECT** funciona!"
   ]
  },
  {
   "cell_type": "code",
   "execution_count": null,
   "metadata": {},
   "outputs": [],
   "source": [
    "run_query(conn4, \"SELECT * FROM perigo;\")"
   ]
  },
  {
   "cell_type": "markdown",
   "metadata": {},
   "source": [
    "Vamos analisar os grants restantes ao usuário:"
   ]
  },
  {
   "cell_type": "code",
   "execution_count": null,
   "metadata": {},
   "outputs": [],
   "source": [
    "run_query(conn4, \"SHOW GRANTS FOR 'ana'@'localhost';\")"
   ]
  },
  {
   "cell_type": "markdown",
   "metadata": {},
   "source": [
    "Temos o `GRANT INSERT` mas não mais o `GRANT SELECT`, então nossa única permissão é para inserir linhas na tabela `perigo`."
   ]
  },
  {
   "cell_type": "code",
   "execution_count": null,
   "metadata": {},
   "outputs": [],
   "source": [
    "conn4.close()"
   ]
  },
  {
   "cell_type": "markdown",
   "metadata": {},
   "source": [
    "Remova também esta permissão:\n",
    "\n",
    "```mysql\n",
    "REVOKE INSERT ON tranqueira.perigo FROM 'ana'@'localhost';\n",
    "```\n",
    "\n",
    "E teste novamente:"
   ]
  },
  {
   "cell_type": "code",
   "execution_count": null,
   "metadata": {},
   "outputs": [],
   "source": [
    "conn5 = mysql.connector.connect(\n",
    "    host=\"localhost\",\n",
    "    user=\"ana\",\n",
    "    password=\"456456\",\n",
    "    database=\"tranqueira\"\n",
    ")"
   ]
  },
  {
   "cell_type": "markdown",
   "metadata": {
    "jp-MarkdownHeadingCollapsed": true
   },
   "source": [
    "## Hosts\n",
    "\n",
    "Ao criar um usuário no MySQL, podemos especificar de qual **host** ele pode se conectar. Nos exemplos que apresentamos, o usuário `joao` só poderá se conectar ao MySQL do `localhost`.\n",
    "\n",
    "Para permitir que o usuário se conecte de outros hosts, devemos criar um novo usuário com o mesmo nome e senha, mas com uma configuração de `host` diferente.\n",
    "\n",
    "Por exemplo, para permitir que o usuário `joao` se conecte de qualquer host, você pode criar um novo usuário com a seguinte instrução SQL:\n",
    "\n",
    "```mysql\n",
    "CREATE USER 'joao'@'%' IDENTIFIED BY 'abc123';\n",
    "```\n",
    "\n",
    "No exemplo acima, o símbolo `%` indica que o usuário pode se conectar de qualquer host.\n",
    "\n",
    "Então, basta condeder as permissões adequadas. Se quiser todas as permissões para o usuário \"joao\" ao banco de dados `tranqueira`, execute a seguinte instrução SQL:\n",
    "\n",
    "```mysql\n",
    "GRANT ALL PRIVILEGES ON tranqueira.* TO 'joao'@'%';\n",
    "```"
   ]
  },
  {
   "cell_type": "markdown",
   "metadata": {},
   "source": [
    "## Exercícios para entrega\n",
    "\n",
    "Esta aula tem atividade para entrega, confira os prazos e exercícios"
   ]
  },
  {
   "cell_type": "code",
   "execution_count": null,
   "metadata": {},
   "outputs": [],
   "source": [
    "ia.tasks()"
   ]
  },
  {
   "cell_type": "code",
   "execution_count": null,
   "metadata": {},
   "outputs": [],
   "source": [
    "ia.grades(task=\"permissions\")"
   ]
  },
  {
   "cell_type": "markdown",
   "metadata": {},
   "source": [
    "Vamos criar nossa tradicional conexão!"
   ]
  },
  {
   "cell_type": "code",
   "execution_count": null,
   "metadata": {},
   "outputs": [],
   "source": [
    "root_connection, db = get_connection_helper()"
   ]
  },
  {
   "cell_type": "markdown",
   "metadata": {},
   "source": [
    "## Base de dados\n",
    "\n",
    "Utilizaremos a base de dados `fiscamuni`, que busca armazenar informações sobre fiscais e multas aplicadas à propriedades pertecentes a uma empresa.\n",
    "\n",
    "A base possui o seguinte modelo relacional:\n",
    "\n",
    "<img src=\"img/eer_diagram.png\">\n",
    "\n",
    "Execute o script `multas.sql` no Workbench para gerar a base."
   ]
  },
  {
   "cell_type": "markdown",
   "metadata": {},
   "source": [
    "**Exercício 1**:\n",
    "\n",
    "Crie um usuário `camilaw2` com login a partir do `localhost` e senha `699a1deacb58`."
   ]
  },
  {
   "cell_type": "code",
   "execution_count": null,
   "metadata": {
    "scrolled": true
   },
   "outputs": [],
   "source": [
    "sql_ex01 = \"\"\"\n",
    "-- SUA QUERY AQUI!\n",
    "\"\"\"\n",
    "\n",
    "db(sql_ex01)"
   ]
  },
  {
   "cell_type": "code",
   "execution_count": null,
   "metadata": {
    "scrolled": true
   },
   "outputs": [],
   "source": [
    "ia.sender(answer=\"sql_ex01\", task=\"permissions\", question=\"ex01\", answer_type=\"pyvar\")"
   ]
  },
  {
   "cell_type": "markdown",
   "metadata": {},
   "source": [
    "**Exercício 2**:\n",
    "\n",
    "Remova o usuário criado no exercício anterior."
   ]
  },
  {
   "cell_type": "code",
   "execution_count": null,
   "metadata": {
    "scrolled": true
   },
   "outputs": [],
   "source": [
    "sql_ex02 = \"\"\"\n",
    "-- SUA QUERY AQUI!\n",
    "\"\"\"\n",
    "\n",
    "db(sql_ex02)"
   ]
  },
  {
   "cell_type": "code",
   "execution_count": null,
   "metadata": {
    "scrolled": true
   },
   "outputs": [],
   "source": [
    "ia.sender(answer=\"sql_ex02\", task=\"permissions\", question=\"ex02\", answer_type=\"pyvar\")"
   ]
  },
  {
   "cell_type": "markdown",
   "metadata": {},
   "source": [
    "**Exercício 3**:\n",
    "\n",
    "Crie um usuário `marianafag` com login a partir de **qualquer host** e senha `cB18cDd2503F`."
   ]
  },
  {
   "cell_type": "code",
   "execution_count": null,
   "metadata": {
    "scrolled": true
   },
   "outputs": [],
   "source": [
    "sql_ex03 = \"\"\"\n",
    "-- SUA QUERY AQUI!\n",
    "\"\"\"\n",
    "\n",
    "db(sql_ex03)"
   ]
  },
  {
   "cell_type": "code",
   "execution_count": null,
   "metadata": {
    "scrolled": true
   },
   "outputs": [],
   "source": [
    "ia.sender(answer=\"sql_ex03\", task=\"permissions\", question=\"ex03\", answer_type=\"pyvar\")"
   ]
  },
  {
   "cell_type": "markdown",
   "metadata": {},
   "source": [
    "**Exercício 4**:\n",
    "\n",
    "Crie um usuário `pereiradjs` com login a partir do IP `192.168.15.160` e senha `bb3_091#2d6@A70`."
   ]
  },
  {
   "cell_type": "code",
   "execution_count": null,
   "metadata": {
    "scrolled": true
   },
   "outputs": [],
   "source": [
    "sql_ex04 = \"\"\"\n",
    "-- SUA QUERY AQUI!\n",
    "\"\"\"\n",
    "\n",
    "db(sql_ex04)"
   ]
  },
  {
   "cell_type": "code",
   "execution_count": null,
   "metadata": {
    "scrolled": true
   },
   "outputs": [],
   "source": [
    "ia.sender(answer=\"sql_ex04\", task=\"permissions\", question=\"ex04\", answer_type=\"pyvar\")"
   ]
  },
  {
   "cell_type": "markdown",
   "metadata": {},
   "source": [
    "**Exercício 5**:\n",
    "\n",
    "Utilize SQL para criar um usuário, observando que:\n",
    "\n",
    "- O nome de usuário será `diniz`\n",
    "- A senha será `abc123cba`\n",
    "- Deve conseguir login de qualquer host\n",
    "\n",
    "Ainda, o usuário deve ter permissões apenas de:\n",
    "\n",
    "- **Leitura** na tabela `fiscal`. \n",
    "\n",
    "Ou seja, inserção e deleção ou select em outras tabelas ou bases de dados devem estar bloqueadas."
   ]
  },
  {
   "cell_type": "code",
   "execution_count": null,
   "metadata": {
    "scrolled": true
   },
   "outputs": [],
   "source": [
    "sql_ex05 = \"\"\"\n",
    "-- SUA QUERY AQUI!\n",
    "\"\"\"\n",
    "\n",
    "db(sql_ex05)"
   ]
  },
  {
   "cell_type": "code",
   "execution_count": null,
   "metadata": {},
   "outputs": [],
   "source": [
    "ia.sender(answer=\"sql_ex05\", task=\"permissions\", question=\"ex05\", answer_type=\"pyvar\")"
   ]
  },
  {
   "cell_type": "markdown",
   "metadata": {},
   "source": [
    "**Exercício 6**:\n",
    "\n",
    "Crie um usuário `rem_dash_alu` com login a partir de IPs da **subnet /24** em `192.168.58.0` com senha `9C26189563A7`."
   ]
  },
  {
   "cell_type": "code",
   "execution_count": null,
   "metadata": {
    "scrolled": true
   },
   "outputs": [],
   "source": [
    "sql_ex06 = \"\"\"\n",
    "-- SUA QUERY AQUI!\n",
    "\"\"\"\n",
    "\n",
    "db(sql_ex06)"
   ]
  },
  {
   "cell_type": "code",
   "execution_count": null,
   "metadata": {
    "scrolled": true
   },
   "outputs": [],
   "source": [
    "ia.sender(answer=\"sql_ex06\", task=\"permissions\", question=\"ex06\", answer_type=\"pyvar\")"
   ]
  },
  {
   "cell_type": "markdown",
   "metadata": {},
   "source": [
    "**Exercício 7**:\n",
    "\n",
    "Suponha que um exista um usuário `marianatt` com permissão de login de **qualquer host**.\n",
    "\n",
    "Altere a senha do usuário para `b2a8b85f76b1b923`."
   ]
  },
  {
   "cell_type": "code",
   "execution_count": null,
   "metadata": {
    "scrolled": true
   },
   "outputs": [],
   "source": [
    "sql_ex07 = \"\"\"\n",
    "-- SUA QUERY AQUI!\n",
    "\"\"\"\n",
    "\n",
    "db(sql_ex07)"
   ]
  },
  {
   "cell_type": "code",
   "execution_count": null,
   "metadata": {
    "scrolled": true
   },
   "outputs": [],
   "source": [
    "ia.sender(answer=\"sql_ex07\", task=\"permissions\", question=\"ex07\", answer_type=\"pyvar\")"
   ]
  },
  {
   "cell_type": "markdown",
   "metadata": {},
   "source": [
    "**Exercício 8**:\n",
    "\n",
    "Escreva uma query que liste:\n",
    "\n",
    "- O `id_empresa` da empresa.\n",
    "- A quantidade de propriedades que a empresa possui cadastrada na base. Aqui, a coluna deve se chamar `qtde_propriedades`.\n",
    "- O valor total de multas da empresa. Aqui, a coluna deve se chamar `valor_total_multas`.\n",
    "\n",
    "**Obs**:\n",
    "- Empresas sem propriedades devem ser retornadas com valor zerado (`0`) em `qtde_propriedades`.\n",
    "- Empresas sem multas devem ser retornadas com valor zerado (`0.00`) em `valor_total_multas`.\n",
    "\n",
    "Exiba ordenado por:\n",
    "- `valor_total_multas` (decrescente) e `qtde_propriedades` (decrescente)"
   ]
  },
  {
   "cell_type": "code",
   "execution_count": null,
   "metadata": {
    "scrolled": true
   },
   "outputs": [],
   "source": [
    "sql_ex08 = \"\"\"\n",
    "-- SUA QUERY AQUI!\n",
    "\"\"\"\n",
    "\n",
    "db(sql_ex08)"
   ]
  },
  {
   "cell_type": "code",
   "execution_count": null,
   "metadata": {
    "scrolled": true
   },
   "outputs": [],
   "source": [
    "ia.sender(answer=\"sql_ex08\", task=\"permissions\", question=\"ex08\", answer_type=\"pyvar\")"
   ]
  },
  {
   "cell_type": "markdown",
   "metadata": {},
   "source": [
    "**Exercício 9**:\n",
    "\n",
    "Transforme a query do exercício anterior em uma **view** chamada `abt_empresa_total`."
   ]
  },
  {
   "cell_type": "code",
   "execution_count": null,
   "metadata": {
    "scrolled": true
   },
   "outputs": [],
   "source": [
    "sql_ex09 = \"\"\"\n",
    "-- SUA QUERY AQUI!\n",
    "\"\"\"\n",
    "\n",
    "db(sql_ex09)"
   ]
  },
  {
   "cell_type": "code",
   "execution_count": null,
   "metadata": {
    "scrolled": true
   },
   "outputs": [],
   "source": [
    "ia.sender(answer=\"sql_ex09\", task=\"permissions\", question=\"ex09\", answer_type=\"pyvar\")"
   ]
  },
  {
   "cell_type": "markdown",
   "metadata": {},
   "source": [
    "**Exercício 10**:\n",
    "\n",
    "Sua empresa contratou uma consultoria para atuar em um projeto.\n",
    "\n",
    "Relações entre empresas sempre expoem problemas de confiança, onde uma não quer que a outra tenha acesso a todos os seus dados.\n",
    "\n",
    "Assim:\n",
    "- Crie um usuário `caiomc_consult` com permissão de login de **qualquer host** e senha `6b7997f42e0ebf3a51d2`.\n",
    "- O consultor deve ter permissão **apenas** de **LEITURA** na **view** `abt_empresa_total`.\n",
    "\n",
    "Envia todas as queries em uma única string, separadas por `;`"
   ]
  },
  {
   "cell_type": "code",
   "execution_count": null,
   "metadata": {
    "scrolled": true
   },
   "outputs": [],
   "source": [
    "sql_ex10 = \"\"\"\n",
    "-- SUA QUERY AQUI!\n",
    "\"\"\"\n",
    "\n",
    "db(sql_ex10)"
   ]
  },
  {
   "cell_type": "code",
   "execution_count": null,
   "metadata": {
    "scrolled": true
   },
   "outputs": [],
   "source": [
    "ia.sender(answer=\"sql_ex10\", task=\"permissions\", question=\"ex10\", answer_type=\"pyvar\")"
   ]
  },
  {
   "cell_type": "markdown",
   "metadata": {},
   "source": [
    "**Exercício 11**:\n",
    "\n",
    "Foi criada uma aplicação que captura dados e faz a ingestão deles na base.\n",
    "\n",
    "A política aceita pela empresa é de que a aplicação deve ter as permissões de:\n",
    "\n",
    "- **INSERIR** e **LER** das tabelas da base `fiscamuni`:\n",
    "    - empresa\n",
    "    - fiscal\n",
    "    - multa\n",
    "    - propriedade\n",
    "- **LER** das tabelas e views da base `fiscamuni`:\n",
    "    - abt_empresa_total\n",
    "    - motivo\n",
    "\n",
    "Considere que a aplicação utiliza um usuário `u_ingest_multa` já existente com permissão de login de **qualquer host** e senha `e7854285319f1c83fcd1`.\n",
    "\n",
    "Envia todas as queries em uma única string, separadas por `;`"
   ]
  },
  {
   "cell_type": "code",
   "execution_count": null,
   "metadata": {
    "scrolled": true
   },
   "outputs": [],
   "source": [
    "sql_ex11 = \"\"\"\n",
    "-- SUA QUERY AQUI!\n",
    "\"\"\"\n",
    "\n",
    "db(sql_ex11)"
   ]
  },
  {
   "cell_type": "code",
   "execution_count": null,
   "metadata": {
    "scrolled": true
   },
   "outputs": [],
   "source": [
    "ia.sender(answer=\"sql_ex11\", task=\"permissions\", question=\"ex11\", answer_type=\"pyvar\")"
   ]
  },
  {
   "cell_type": "markdown",
   "metadata": {},
   "source": [
    "**Exercício 12**:\n",
    "\n",
    "Considere que o usuário tem `u_ingest_multa` tem todas as permissões relatadas no exercício anterior.\n",
    "\n",
    "Ele não irá mais necessitar **INSERIR** na tabela `empresa`, nem **LER**/**INSERIR** na tabela `fiscal`.\n",
    "\n",
    "Faça as atualizações, revogando as permissões não mais necessárias."
   ]
  },
  {
   "cell_type": "code",
   "execution_count": null,
   "metadata": {
    "scrolled": true
   },
   "outputs": [],
   "source": [
    "sql_ex12 = \"\"\"\n",
    "-- SUA QUERY AQUI!\n",
    "\"\"\"\n",
    "\n",
    "db(sql_ex12)"
   ]
  },
  {
   "cell_type": "code",
   "execution_count": null,
   "metadata": {
    "scrolled": true
   },
   "outputs": [],
   "source": [
    "ia.sender(answer=\"sql_ex12\", task=\"permissions\", question=\"ex12\", answer_type=\"pyvar\")"
   ]
  },
  {
   "cell_type": "markdown",
   "metadata": {},
   "source": [
    "**Exercício 13**:\n",
    "\n",
    "O consultor (o mesmo dos exercícios anteriores) necessita de acesso a mais dados.\n",
    "\n",
    "Porém, a empresa não quer liberar o acesso completo à base (contento o nome dos fiscais, nome das propriedades multadas e demais informações sensíveis).\n",
    "\n",
    "**a)** Que solução você utilizaria neste caso?"
   ]
  },
  {
   "cell_type": "markdown",
   "metadata": {},
   "source": [
    "<div class=\"alert alert-success\">\n",
    "\n",
    "Sua resposta AQUI!\n",
    "\n",
    "</div>"
   ]
  },
  {
   "cell_type": "markdown",
   "metadata": {},
   "source": [
    "**b)** Vamos supor que retornar os IDs não seja suficiente. Isto ocorre, por exemplo, quando você quer retornar o endereço de alguém, permitindo que o analista identifique que são endereços diferentes, mas sem saber exatamente qual rua.\n",
    "\n",
    "Note que podemos ter muitas pessoas com o mesmo endereço(ex: mesma rua), e todas devem estar com o mesmo valor no campo.\n",
    "\n",
    "Para este caso, uma sugestão é aplicar uma função de HASH, como SHA256.\n",
    "\n",
    "Crie uma **view** `propriedade_consult` que contenha o `id` e o SHA256 da `descricao`, `cidade` e `endereco` da tabela `propriedade`. Mantenha o nome original das colunas.\n",
    "\n",
    "Assim, o usuário utilizado pela consultoria poderia ter permissão de leitura apenas na **view** `propriedade_consult` e não na tabela original. Esta parte não precisa fazer, se quiser, teste localmente! "
   ]
  },
  {
   "cell_type": "code",
   "execution_count": null,
   "metadata": {},
   "outputs": [],
   "source": [
    "sql_ex13b = \"\"\"\n",
    "-- SUA QUERY AQUI!\n",
    "\"\"\"\n",
    "\n",
    "db(sql_ex13b)"
   ]
  },
  {
   "cell_type": "code",
   "execution_count": null,
   "metadata": {},
   "outputs": [],
   "source": [
    "ia.sender(answer=\"sql_ex13b\", task=\"permissions\", question=\"ex13b\", answer_type=\"pyvar\")"
   ]
  },
  {
   "cell_type": "markdown",
   "metadata": {},
   "source": [
    "**Exercício 14**:\n",
    "\n",
    "Considere o retorno de uma coluna de **CPF** uma tabela utilizando SHA256.\n",
    "\n",
    "Por exemplo:\n",
    "```mysql\n",
    "SELECT SHA2('377.662.560-02', 256)\n",
    "UNION\n",
    "SELECT SHA2('404.483.920-46', 256)\n",
    "UNION\n",
    "SELECT SHA2('196.499.400-49', 256)\n",
    "UNION\n",
    "SELECT SHA2('895.322.380-69', 256);\n",
    "```\n",
    "\n",
    "Analise a seguinte afirmação: Tendo os hashs e sabendo que é um campo de CPF, é impossível descobrir os CPFs originais."
   ]
  },
  {
   "cell_type": "markdown",
   "metadata": {},
   "source": [
    "<div class=\"alert alert-success\">\n",
    "\n",
    "Sua resposta AQUI!\n",
    "\n",
    "</div>"
   ]
  },
  {
   "cell_type": "markdown",
   "metadata": {},
   "source": [
    "**Exercício 15**:\n",
    "\n",
    "Pesquise sobre anonimização de dados e mascaramento de dados. Explique a importância e como funciona."
   ]
  },
  {
   "cell_type": "markdown",
   "metadata": {},
   "source": [
    "<div class=\"alert alert-success\">\n",
    "\n",
    "Sua resposta AQUI!\n",
    "\n",
    "</div>"
   ]
  },
  {
   "cell_type": "markdown",
   "metadata": {},
   "source": [
    "**Exercício 16**:\n",
    "\n",
    "Esqueça o usuário do banco de dados nesta questão, uma vez que ele é o usuário utilizado pelas aplicações em deploy e engenheiros da empresa.\n",
    "\n",
    "Suponha que você foi contratado para criar uma aplicação que necessita de **login**. Os usuário devem possuir, pelo menos os campos de `id`, `nickname` e `senha`.\n",
    "\n",
    "**a)** Construa a DDL de criação da tabela de `usuario`."
   ]
  },
  {
   "cell_type": "markdown",
   "metadata": {},
   "source": [
    "<div class=\"alert alert-success\">\n",
    "\n",
    "```mysql\n",
    "-- SUA DDL aqui!\n",
    "```\n",
    "</div>"
   ]
  },
  {
   "cell_type": "markdown",
   "metadata": {},
   "source": [
    "**b)** Qual seria a query para realizar uma inserção de um usuário nesta tabela? Utilize dados fictícios!"
   ]
  },
  {
   "cell_type": "markdown",
   "metadata": {},
   "source": [
    "<div class=\"alert alert-success\">\n",
    "\n",
    "```mysql\n",
    "-- SUA DML aqui!\n",
    "```\n",
    "</div>"
   ]
  },
  {
   "cell_type": "markdown",
   "metadata": {},
   "source": [
    "**c)** Como você armazenou a senha no exercício \"b)\"? Você deixou como *plain-text*? Se sim, explique se foi uma boa escolha e quais as consequências!"
   ]
  },
  {
   "cell_type": "markdown",
   "metadata": {},
   "source": [
    "<div class=\"alert alert-success\">\n",
    "\n",
    "Sua resposta AQUI!\n",
    "\n",
    "</div>"
   ]
  },
  {
   "cell_type": "markdown",
   "metadata": {},
   "source": [
    "**d)** Quais seriam alternativas melhores para armanenar dados sensíveis (como senhas) em banco de dados?"
   ]
  },
  {
   "cell_type": "markdown",
   "metadata": {},
   "source": [
    "<div class=\"alert alert-success\">\n",
    "\n",
    "Sua resposta AQUI!\n",
    "\n",
    "</div>"
   ]
  },
  {
   "cell_type": "markdown",
   "metadata": {},
   "source": [
    "**e)** Pesquise sobre *Salting & peppering passwords*. Explique como funciona!"
   ]
  },
  {
   "cell_type": "markdown",
   "metadata": {},
   "source": [
    "<div class=\"alert alert-success\">\n",
    "\n",
    "Sua resposta AQUI!\n",
    "\n",
    "</div>"
   ]
  },
  {
   "cell_type": "markdown",
   "metadata": {},
   "source": [
    "**f)** Pesquise sobre *senhas e entropia*. Anote abaixo os principais aprendizados!"
   ]
  },
  {
   "cell_type": "markdown",
   "metadata": {},
   "source": [
    "<div class=\"alert alert-success\">\n",
    "\n",
    "Sua resposta AQUI!\n",
    "\n",
    "</div>"
   ]
  },
  {
   "cell_type": "markdown",
   "metadata": {},
   "source": [
    "### Fechando a conexão"
   ]
  },
  {
   "cell_type": "code",
   "execution_count": null,
   "metadata": {},
   "outputs": [],
   "source": [
    "root_connection.close()"
   ]
  },
  {
   "cell_type": "markdown",
   "metadata": {},
   "source": [
    "## Conferir Notas\n",
    "\n",
    "Confira se as notas na atividade são as esperadas!"
   ]
  },
  {
   "cell_type": "code",
   "execution_count": null,
   "metadata": {},
   "outputs": [],
   "source": [
    "ia.grades(by=\"task\", task=\"permissions\")"
   ]
  },
  {
   "cell_type": "code",
   "execution_count": null,
   "metadata": {},
   "outputs": [],
   "source": [
    "ia.grades(task=\"permissions\")"
   ]
  },
  {
   "cell_type": "code",
   "execution_count": null,
   "metadata": {},
   "outputs": [],
   "source": [
    "ia.grades(by=\"task\")"
   ]
  },
  {
   "cell_type": "markdown",
   "metadata": {},
   "source": [
    "Até a próxima aula!"
   ]
  }
 ],
 "metadata": {
  "kernelspec": {
   "display_name": "Python 3 (ipykernel)",
   "language": "python",
   "name": "python3"
  },
  "language_info": {
   "codemirror_mode": {
    "name": "ipython",
    "version": 3
   },
   "file_extension": ".py",
   "mimetype": "text/x-python",
   "name": "python",
   "nbconvert_exporter": "python",
   "pygments_lexer": "ipython3",
   "version": "3.10.12"
  }
 },
 "nbformat": 4,
 "nbformat_minor": 4
}
